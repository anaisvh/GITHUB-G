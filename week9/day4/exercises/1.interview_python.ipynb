{
 "metadata": {
  "language_info": {
   "codemirror_mode": {
    "name": "ipython",
    "version": 3
   },
   "file_extension": ".py",
   "mimetype": "text/x-python",
   "name": "python",
   "nbconvert_exporter": "python",
   "pygments_lexer": "ipython3",
   "version": "3.9.0-final"
  },
  "orig_nbformat": 2,
  "kernelspec": {
   "name": "python3",
   "display_name": "Python 3.9.0 64-bit",
   "metadata": {
    "interpreter": {
     "hash": "ac59ebe37160ed0dfa835113d9b8498d9f09ceb179beaac4002f036b9467c963"
    }
   }
  }
 },
 "nbformat": 4,
 "nbformat_minor": 2,
 "cells": [
  {
   "cell_type": "markdown",
   "metadata": {},
   "source": [
    "Here's your coding interview problem for today.\n",
    "\n",
    "This problem was asked by Google.\n",
    "\n",
    "You are given an M by N matrix consisting of booleans that represents a board. Each True boolean represents a wall. Each False boolean represents a tile you can walk on.\n",
    "\n",
    "Given this matrix, a start coordinate, and an end coordinate, return the minimum number of steps required to reach the end coordinate from the start. If there is no possible path, then return null. You can move up, left, down, and right. You cannot move through walls. You cannot wrap around the edges of the board.\n",
    "\n",
    "For example, given the following board:\n",
    "\n",
    ">f, f, f, f,\n",
    "\n",
    ">t, t, f, t,\n",
    "\n",
    ">f, f, f, f,\n",
    "\n",
    ">f, f, f, f\n",
    "\n",
    "and start = (3, 0) (bottom left) and end = (0, 0) (top left), the minimum number of steps required to reach the end is 7, since we would need to go through (1, 2) because there is a wall everywhere else on the second row."
   ]
  },
  {
   "cell_type": "code",
   "execution_count": 4,
   "metadata": {},
   "outputs": [
    {
     "output_type": "execute_result",
     "data": {
      "text/plain": [
       "[['f', 'f', 'f', 'f'],\n",
       " ['t', 't', 'f', 't'],\n",
       " ['f', 'f', 'f', 'f'],\n",
       " ['f', 'f', 'f', 'f']]"
      ]
     },
     "metadata": {},
     "execution_count": 4
    }
   ],
   "source": [
    "matrix = [[\"f\", \"f\", \"f\", \"f\"],\n",
    "\n",
    "[\"t\", \"t\", \"f\", \"t\"],\n",
    "\n",
    "[\"f\", \"f\", \"f\", \"f\"],\n",
    "\n",
    "[\"f\", \"f\", \"f\", \"f\"]]\n",
    "\n",
    "matrix"
   ]
  },
  {
   "cell_type": "code",
   "execution_count": 8,
   "metadata": {},
   "outputs": [
    {
     "output_type": "execute_result",
     "data": {
      "text/plain": [
       "'Destination is a wall'"
      ]
     },
     "metadata": {},
     "execution_count": 8
    }
   ],
   "source": [
    "import copy\n",
    "\n",
    "def shortestpath(m, start, end):\n",
    "\n",
    "    p = end[0]\n",
    "    q = end[1]\n",
    "\n",
    "    a = start[0]\n",
    "    b = start[1]\n",
    "\n",
    "    if m[p][q] != m[a][b]:\n",
    "        return ('Destination is a wall')\n",
    "\n",
    "    if a==p and b==q:\n",
    "        return('Start and End same')\n",
    "\n",
    "    M = len(m[0])\n",
    "    N = len(m)\n",
    "\n",
    "    dist = [[-9 for _ in range(M)] for _ in range(N)]\n",
    "    dist[a][b] = 0\n",
    "    distcopy = copy.deepcopy(dist)\n",
    "\n",
    "    while True:\n",
    "        for i in range(a, N):\n",
    "            for j in range(b, M):              \n",
    "                if i - 1 >= 0:\n",
    "                    [dist[i][j] , dist[i-1][j]] = neighbours(dist[i][j] , dist[i-1][j] , m[i-1][j])              \n",
    "                if i + 1 < N:\n",
    "                    [dist[i][j] , dist[i+1][j]] = neighbours(dist[i][j] , dist[i+1][j] , m[i+1][j])              \n",
    "                if j - 1 >= 0:\n",
    "                    [dist[i][j] , dist[i][j-1]] = neighbours(dist[i][j] , dist[i][j-1] , m[i][j-1])             \n",
    "                if j + 1 < M:\n",
    "                    [dist[i][j] , dist[i][j+1]] = neighbours(dist[i][j] , dist[i][j+1] , m[i][j+1])\n",
    "                if dist[p][q] != -9:\n",
    "                    return dist[p][q]\n",
    "\n",
    "            if dist == distcopy:\n",
    "                return ('No path available')\n",
    "            else:\n",
    "                if i == N - 1:\n",
    "                    distcopy = copy.deepcopy(dist)\n",
    "\n",
    "            a = 0\n",
    "            b = 0\n",
    "\n",
    "\n",
    "def neighbours(d_curr , d_ngbr , m_ngbr):\n",
    "\n",
    "    if d_curr != -9:\n",
    "        if d_ngbr == -9:\n",
    "            if m_ngbr == 0:\n",
    "                if d_curr != -1:\n",
    "                    d_ngbr = d_curr + 1\n",
    "            else:\n",
    "                d_ngbr = -1\n",
    "    else:\n",
    "        if d_ngbr != -9 and m_ngbr == 0:\n",
    "            d_curr = d_ngbr + 1\n",
    "\n",
    "    return [d_curr , d_ngbr]\n",
    "\n",
    "m = [[0, 1, 0, 0, 0, 0, 1, 0, 0, 0],\n",
    "     [0, 1, 0, 1, 0, 0, 0, 1, 0, 0],\n",
    "     [0, 0, 0, 1, 0, 0, 1, 0, 1, 0],\n",
    "     [1, 1, 1, 1, 0, 1, 1, 1, 1, 0],\n",
    "     [0, 0, 0, 1, 0, 0, 0, 1, 0, 1],\n",
    "     [0, 1, 0, 0, 0, 0, 1, 0, 1, 1],\n",
    "     [0, 1, 1, 1, 1, 1, 1, 1, 1, 0],\n",
    "     [0, 1, 0, 0, 0, 0, 1, 0, 0, 0],\n",
    "     [0, 0, 1, 1, 1, 1, 0, 1, 1, 0]]\n",
    "\n",
    "start = [3, 0]\n",
    "end = [0, 0]\n",
    "\n",
    "shortestpath(m, start, end)"
   ]
  },
  {
   "cell_type": "code",
   "execution_count": 9,
   "metadata": {},
   "outputs": [
    {
     "output_type": "execute_result",
     "data": {
      "text/plain": [
       "'No path available'"
      ]
     },
     "metadata": {},
     "execution_count": 9
    }
   ],
   "source": [
    "shortestpath(matrix, start, end)"
   ]
  },
  {
   "cell_type": "code",
   "execution_count": 19,
   "metadata": {},
   "outputs": [],
   "source": [
    "from copy import deepcopy\n",
    "\n",
    "def add_to_cache(coordinate, cache):\n",
    "    new_cache = deepcopy(cache)\n",
    "    new_cache.add(\"{}-{}\".format(coordinate[0], coordinate[1]))\n",
    "    return new_cache\n",
    "\n",
    "def is_visited(coordinate, cache):\n",
    "    return \"{}-{}\".format(coordinate[0], coordinate[1]) in cache\n",
    "\n",
    "def find_path(matrix, rows, cols, start, end, cache):\n",
    "    if start == end:\n",
    "        return 0\n",
    "\n",
    "    cache = add_to_cache(start, cache)\n",
    "\n",
    "    def explore_neighbour(coordinate):\n",
    "        if not is_visited(coordinate, cache) and \\\n",
    "                matrix[coordinate[0]][coordinate[1]] != \"t\":\n",
    "            path_length = find_path(matrix, rows, cols, coordinate, end, cache)\n",
    "            if path_length != None:\n",
    "                path_lengths.append(path_length)\n",
    "\n",
    "    path_lengths = list()\n",
    "    if start[0] != 0:\n",
    "        coordinate = (start[0] - 1, start[1])\n",
    "        explore_neighbour(coordinate)\n",
    "    if start[0] != rows - 1:\n",
    "        coordinate = (start[0] + 1, start[1])\n",
    "        explore_neighbour(coordinate)\n",
    "    if start[1] != 0:\n",
    "        coordinate = (start[0], start[1] - 1)\n",
    "        explore_neighbour(coordinate)\n",
    "    if start[1] != cols - 1:\n",
    "        coordinate = (start[0], start[1] + 1)\n",
    "        explore_neighbour(coordinate)\n",
    "\n",
    "    return min(path_lengths) + 1 if path_lengths else None"
   ]
  },
  {
   "cell_type": "code",
   "execution_count": 20,
   "metadata": {},
   "outputs": [],
   "source": [
    "start = [3, 0]\n",
    "end = [0, 0]"
   ]
  },
  {
   "cell_type": "code",
   "execution_count": 21,
   "metadata": {},
   "outputs": [
    {
     "output_type": "execute_result",
     "data": {
      "text/plain": [
       "7"
      ]
     },
     "metadata": {},
     "execution_count": 21
    }
   ],
   "source": [
    "find_path(matrix, len(matrix), len(matrix[0]), (3, 0), (0, 0), set())"
   ]
  }
 ]
}