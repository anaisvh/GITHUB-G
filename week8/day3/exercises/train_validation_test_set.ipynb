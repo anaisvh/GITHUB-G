{
 "metadata": {
  "language_info": {
   "codemirror_mode": {
    "name": "ipython",
    "version": 3
   },
   "file_extension": ".py",
   "mimetype": "text/x-python",
   "name": "python",
   "nbconvert_exporter": "python",
   "pygments_lexer": "ipython3",
   "version": "3.9.0-final"
  },
  "orig_nbformat": 2,
  "kernelspec": {
   "name": "python3",
   "display_name": "Python 3.9.0 64-bit",
   "metadata": {
    "interpreter": {
     "hash": "ac59ebe37160ed0dfa835113d9b8498d9f09ceb179beaac4002f036b9467c963"
    }
   }
  }
 },
 "nbformat": 4,
 "nbformat_minor": 2,
 "cells": [
  {
   "cell_type": "markdown",
   "metadata": {},
   "source": [
    "### 1. \n",
    "\n",
    "Crear una función que reciba cuatro parámetros: una lista 'L', un número 'T', un número 'V' y un booleano 'S'. La función debe devolver otras dos listas: \"lista_train_val\" y \"lista_test\".\n",
    "\n",
    "- \"lista_train_val\" es una lista con dos elementos. Cada elemento es una lista: \"list_train\", que representa el conjunto de entrenamiento y \"list_val\", que representa el conjunto de validación. \n",
    "- \"list_test\" es el conjunto de test. Como mínimo ha de tener 1 elemento (si 'L' > 1).\n",
    "- \"L\" es cualquier lista de elementos. Al principio, entra con un tamaño completo (100%). Esta es la lista que se partirá y se generarán los conjuntos entrenamiento, de validación y de test.\n",
    "- \"T\" es un número entre 1 y 100 que va a representar el tamaño, en porcentaje, del conjunto de test \"list_test\". \n",
    "- \"V\" es un número entre 0 y 100 que va a representar el tamaño, en porcentaje, del conjunto de validación \"list_val\". Su valor por defecto es 0.\n",
    "- \"S\", que por defecto es False, determinará si los conjuntos \"list_train\", \"list_test\" y \"list_val\" están aleatoriamente ordenados. ¿Encuentras alguna posible incoherencia si se reordenan aleatoriamente?\n",
    "\n",
    "Prueba la función con una lista de 100 elementos números aleatorios del 0 al 100. \n",
    "\n",
    "### 2. \n",
    "\n",
    "Rehacer el ejercicio anterior en otra función para que no devuelva dos listas, sino los tres conjuntos: \n",
    "\n",
    "--> return list_train, list_val, list_test "
   ]
  },
  {
   "cell_type": "code",
   "execution_count": 1,
   "metadata": {},
   "outputs": [],
   "source": [
    "from sklearn.model_selection import train_test_split\n",
    "import random\n",
    "import numpy as np"
   ]
  },
  {
   "cell_type": "code",
   "execution_count": 2,
   "metadata": {},
   "outputs": [],
   "source": [
    "def training_ml(L, T, V=0, S=False):\n",
    "    if T < 0.01:\n",
    "        print('Error! T should be a percentage number btw 1 to 100')\n",
    "    else:\n",
    "        if S!=False:\n",
    "            random.shuffle(L)\n",
    "\n",
    "        list_test, list_train = np.split(L, [int(len(L)*T)])\n",
    "        list_val, list_train = np.split(list_train, [int(len(L)*V)])\n",
    "\n",
    "        list_train_val = []\n",
    "        list_train_val.append(list(list_train))\n",
    "        list_train_val.append(list(list_val))\n",
    "\n",
    "        return print('list_train_val', list_train_val, '\\n\\nlist_test', list_test)"
   ]
  },
  {
   "cell_type": "code",
   "execution_count": 3,
   "metadata": {},
   "outputs": [
    {
     "output_type": "stream",
     "name": "stdout",
     "text": [
      "[42, 1, 91, 48, 6, 79, 77, 15, 60, 74, 34, 49, 25, 26, 77, 36, 16, 8, 60, 97, 20, 65, 16, 74, 16, 98, 60, 84, 50, 58, 0, 31, 9, 70, 75, 69, 31, 74, 58, 49, 99, 47, 12, 94, 29, 83, 48, 65, 44, 7, 41, 95, 22, 79, 95, 86, 8, 70, 12, 54, 47, 31, 29, 73, 38, 64, 74, 81, 15, 89, 78, 45, 79, 7, 91, 48, 25, 70, 99, 96, 85, 10, 62, 38, 72, 49, 52, 74, 60, 70, 50, 37, 13, 85, 44, 96, 13, 83, 28, 77]\n"
     ]
    }
   ],
   "source": [
    "L = [random.randint(0,100) for i in range(100)]\n",
    "print(L)"
   ]
  },
  {
   "cell_type": "code",
   "execution_count": 4,
   "metadata": {},
   "outputs": [
    {
     "output_type": "stream",
     "name": "stdout",
     "text": [
      "Error! T should be a percentage number btw 1 to 100\n"
     ]
    }
   ],
   "source": [
    "training_ml(L=L, T=0.005, V=0.2, S=False)"
   ]
  },
  {
   "cell_type": "code",
   "execution_count": 5,
   "metadata": {},
   "outputs": [
    {
     "output_type": "stream",
     "name": "stdout",
     "text": [
      "list_train_val [[98, 60, 84, 50, 58, 0, 31, 9, 70, 75, 69, 31, 74, 58, 49, 99, 47, 12, 94, 29, 83, 48, 65, 44, 7, 41, 95, 22, 79, 95, 86, 8, 70, 12, 54, 47, 31, 29, 73, 38, 64, 74, 81, 15, 89, 78, 45, 79, 7, 91, 48, 25, 70, 99, 96, 85, 10, 62, 38, 72, 49, 52, 74, 60, 70, 50, 37, 13, 85, 44, 96, 13, 83, 28, 77], [79, 77, 15, 60, 74, 34, 49, 25, 26, 77, 36, 16, 8, 60, 97, 20, 65, 16, 74, 16]] \n\nlist_test [42  1 91 48  6]\n"
     ]
    }
   ],
   "source": [
    "training_ml(L=L, T=0.05, V=0.2, S=False)"
   ]
  },
  {
   "cell_type": "code",
   "execution_count": 6,
   "metadata": {},
   "outputs": [
    {
     "output_type": "stream",
     "name": "stdout",
     "text": [
      "list_train_val [[36, 89, 48, 98, 49, 1, 31, 44, 7, 97, 78, 13, 52, 38, 70, 16, 0, 95, 12, 31, 25, 48, 44, 12, 79, 60, 99, 58, 29, 16, 31, 7, 60, 74, 58, 54, 77, 16, 15, 72, 96, 85, 49, 74, 6, 8, 49, 25, 77, 74, 86, 85, 84, 45, 77, 10, 50, 15, 91, 9, 60, 69, 70, 75, 26, 34, 8, 29, 48, 65, 37, 99, 50, 60, 91], [22, 95, 83, 65, 13, 81, 41, 74, 47, 42, 62, 70, 20, 38, 28, 79, 74, 94, 83, 96]] \n\nlist_test [47 73 79 70 64]\n"
     ]
    }
   ],
   "source": [
    "training_ml(L=L, T=0.05, V=0.2, S=True)"
   ]
  },
  {
   "cell_type": "code",
   "execution_count": 7,
   "metadata": {},
   "outputs": [
    {
     "output_type": "stream",
     "name": "stdout",
     "text": [
      "list_train_val [[16, 0, 95, 12, 31, 25, 48, 44, 12, 79, 60, 99, 58, 29, 16, 31, 7, 60, 74, 58, 54, 77, 16, 15, 72, 96, 85, 49, 74, 6, 8, 49, 25, 77, 74, 86, 85, 84, 45, 77, 10, 50, 15, 91, 9, 60, 69, 70, 75, 26, 34, 8, 29, 48, 65, 37, 99, 50, 60, 91], [79, 74, 94, 83, 96, 36, 89, 48, 98, 49, 1, 31, 44, 7, 97, 78, 13, 52, 38, 70]] \n\nlist_test [47 73 79 70 64 22 95 83 65 13 81 41 74 47 42 62 70 20 38 28]\n"
     ]
    }
   ],
   "source": [
    "training_ml(L=L, T=0.2, V=0.2, S=False)"
   ]
  },
  {
   "cell_type": "code",
   "execution_count": 8,
   "metadata": {},
   "outputs": [],
   "source": [
    "def training_ml_2(L, T, V=0, S=False):\n",
    "    if T < 0.01:\n",
    "        print('Error! T should be a percentage number btw 1 to 100')\n",
    "    else:\n",
    "        if S!=False:\n",
    "            random.shuffle(L)\n",
    "            \n",
    "        list_test, list_train = np.split(L, [int(len(L)*T)])\n",
    "        list_val, list_train = np.split(list_train, [int(len(L)*V)])\n",
    "\n",
    "        return print('list_train', list_train, '\\n\\nlist_val', list_val, '\\n\\nlist_test', list_test)"
   ]
  },
  {
   "cell_type": "code",
   "execution_count": 9,
   "metadata": {},
   "outputs": [
    {
     "output_type": "stream",
     "name": "stdout",
     "text": [
      "list_train [16  0 95 12 31 25 48 44 12 79 60 99 58 29 16 31  7 60 74 58 54 77 16 15\n 72 96 85 49 74  6  8 49 25 77 74 86 85 84 45 77 10 50 15 91  9 60 69 70\n 75 26 34  8 29 48 65 37 99 50 60 91] \n\nlist_val [79 74 94 83 96 36 89 48 98 49  1 31 44  7 97 78 13 52 38 70] \n\nlist_test [47 73 79 70 64 22 95 83 65 13 81 41 74 47 42 62 70 20 38 28]\n"
     ]
    }
   ],
   "source": [
    "training_ml_2(L=L, T=0.2, V=0.2, S=False)"
   ]
  },
  {
   "cell_type": "code",
   "execution_count": null,
   "metadata": {},
   "outputs": [],
   "source": []
  }
 ]
}