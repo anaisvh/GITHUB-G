{
 "cells": [
  {
   "cell_type": "code",
   "execution_count": null,
   "metadata": {},
   "outputs": [],
   "source": [
    "artist_name.contents[0]"
   ]
  },
  {
   "cell_type": "markdown",
   "metadata": {},
   "source": [
    "### Web Scraping\n",
    "\n",
    "- Beautiful soup\n",
    "\n",
    "- Selenium: Se usa más para interactuar con la WEB (también obtiene información)\n",
    "\n",
    "Example Selenium:\n",
    "\n",
    "https://towardsdatascience.com/web-scraping-using-selenium-python-8a60f4cf40ab\n"
   ]
  },
  {
   "cell_type": "markdown",
   "metadata": {},
   "source": [
    "**To install:**\n",
    "\n",
    "        pip3 install beautifulsoup4 requests pandas\n",
    "\n",
    "        pip3 install beautifulsoup4 \n",
    "\n",
    "        pip3 install requests\n",
    "\n",
    "        pip3 install pandas "
   ]
  },
  {
   "source": [
    "### Steps:\n",
    "\n",
    "1. Find the URL that you want to scrape.\n",
    "2. Inspecting the Page.\n",
    "3. Find the data you want to extract.\n",
    "4. Write the code.\n",
    "5. Run the code and extract the data.\n",
    "6. Store the data in the required format"
   ],
   "cell_type": "markdown",
   "metadata": {}
  },
  {
   "cell_type": "markdown",
   "metadata": {},
   "source": [
    "Examples Beautiful Soup:\n",
    "\n",
    "https://j2logo.com/python/web-scraping-con-python-guia-inicio-beautifulsoup/\n",
    "\n",
    "http://omz-software.com/pythonista/docs/ios/beautifulsoup_guide.html\n",
    "\n",
    "https://towardsdatascience.com/top-5-beautiful-soup-functions-7bfe5a693482\n",
    "\n",
    "https://www.crummy.com/software/BeautifulSoup/bs4/doc/"
   ]
  },
  {
   "cell_type": "code",
   "execution_count": 1,
   "metadata": {},
   "outputs": [],
   "source": [
    "import requests\n",
    "from bs4 import BeautifulSoup\n",
    "import pandas as pd"
   ]
  },
  {
   "cell_type": "code",
   "execution_count": 2,
   "metadata": {},
   "outputs": [],
   "source": [
    "21# To show beautiful html\n",
    "def show_html(html_str):\n",
    "    print(BeautifulSoup(str(html_str), 'html.parser').prettify())"
   ]
  },
  {
   "source": [
    "** Your Headers ** \n",
    "\n",
    "http://www.xhaus.com/headers"
   ],
   "cell_type": "markdown",
   "metadata": {}
  },
  {
   "cell_type": "code",
   "execution_count": null,
   "metadata": {
    "tags": []
   },
   "outputs": [],
   "source": [
    "url = \"\"\"https://www.imdb.com/search/title/?count=100&groups=top_1000&sort=user_rating\"\"\"\n",
    "\n",
    "def get_page_contents(url):\n",
    "    page = requests.get(url, headers={\"Accept-Language\": \"en-US\"})\n",
    "    return BeautifulSoup(page.text, \"html.parser\")\n",
    "soup = get_page_contents(url)\n",
    "show_html(soup.text)"
   ]
  },
  {
   "cell_type": "code",
   "execution_count": null,
   "metadata": {},
   "outputs": [],
   "source": [
    "type(soup)"
   ]
  },
  {
   "cell_type": "code",
   "execution_count": null,
   "metadata": {},
   "outputs": [],
   "source": [
    "html = \"\"\"\n",
    "<html lang=\"es\">\n",
    "<head>\n",
    "    <meta charset=\"UTF-8\">\n",
    "    <title>Página de prueba</title>\n",
    "</head>\n",
    "<body>\n",
    "<div id=\"main\" class=\"full-width\">\n",
    "    <h1>El título de la página</h1>\n",
    "    <p>Este es el primer párrafo</p>\n",
    "    <p>Este es el segundo párrafo</p>\n",
    "    <div id=\"innerDiv\">\n",
    "        <div class=\"links\">\n",
    "            <a href=\"https://pagina1.xyz/\">Enlace 1</a>\n",
    "            <a href=\"https://pagina2.xyz/\">Enlace 2</a>\n",
    "        </div>\n",
    "        <div class=\"right\">\n",
    "            <div class=\"links\">\n",
    "                <a href=\"https://pagina3.xyz/\">Enlace 3</a>\n",
    "                <a href=\"https://pagina4.xyz/\">Enlace 4</a>\n",
    "            </div>\n",
    "        </div>\n",
    "    </div>\n",
    "    <div id=\"footer\">\n",
    "        <!-- El footer -->\n",
    "        <p>Este párrafo está en el footer</p>\n",
    "        <div class=\"links footer-links\">\n",
    "            <a href=\"https://pagina5.xyz/\">Enlace 5</a>\n",
    "        </div>\n",
    "    </div>\n",
    "</div>\n",
    "</body>\n",
    "</html>\"\"\""
   ]
  },
  {
   "cell_type": "markdown",
   "metadata": {},
   "source": [
    "### Example artists: \n",
    "\n",
    "https://www.digitalocean.com/community/tutorials/how-to-scrape-web-pages-with-beautiful-soup-and-python-3"
   ]
  },
  {
   "cell_type": "code",
   "execution_count": 3,
   "metadata": {
    "tags": []
   },
   "outputs": [
    {
     "output_type": "stream",
     "name": "stdout",
     "text": [
      "NGA - Artist List 'Z' / Page 1 of 4\n\n\n\n\n\n\n\n\n\n\n\n\n\n\n\n\n\n\n\n\n\n\n\n\n\nsuccess\nfail\n\n\n\n\n\n\n\n\n\n\n\n\n\n\n\n\n\n\n\n\n\n\n\n\n\n\n\n\n\nOct\nOCT\nAug\n\n\n\n\n07\n\n\n\n\n2011\n2012\n2019\n\n\n\n\n\n\n\n\n36 captures\n05 Apr 1997 - 11 May 2020\n\n\n\n\n\n\n\n\n\n\n\n\n\n About this capture\n\n\n\n\nCOLLECTED BY\n\n\n\n\t\tOrganization: Internet Archive\n\n\n\t  The Internet Archive discovers and captures web pages through many different web crawls.\n\nAt any given time several distinct crawls are running, some for months, and some every day or longer.\n\nView the web archive through the Wayback Machine.\n\t\n\n\n\nCollection: End of Term 2012 Web Crawls\n\n\n\t  This collection contains web crawls performed on the US Federal Executive, Legislative &amp; Judicial branches of government in 2012-2013.\n\t\n\n\n\n\nTIMESTAMPS\n\n\n\n\n\n\n\n\n\n\n\n\n\n\n\n\n\n\n\nWhat's New\nNewsletters\nCalendar\nRecent Acquisitions\nVideos &amp; Podcasts\nAbout the Gallery\nShock of the News\nGeorge Bellows\n\n\nThe Collection\nExhibitions\nPlan a Visit\nPrograms &amp; Events\nOnline Tours\nEducation\nResources\nGallery Shop\nSupport the Gallery\nNGA Images\nNGAkids\n\n\n\n\n\n\n\n\n\n\n\n\n\n\n\nArtist names beginning with Z\nZabaglia, NiccolaItalian, 1664 - 1750\nZaccone, FabianAmerican, 1910 - 1992\nZadkine, OssipFrench, 1890 - 1967\nZaech, BernhardGerman, active c. 1650\nZagar, JacobFlemish, c. 1530 - after 1580\nZagroba, IdaliaPolish, born 1967\nZaidenberg, A.American, active c. 1935\nZaidenberg, ArthurAmerican, 1903 - 1990\nZaisinger, MatthäusGerman, active c. 1500\nZajac, JackAmerican, born 1929\nZak, EugènePolish, 1884 - 1926\nZakharov, Gurii FillipovichRussian, born 1926\nZakowortny, Igor\nZalce, AlfredoMexican, born 1908\nZalopany, MicheleAmerican, born 1955\nZammiello, Craig\nZammitt, NormanAmerican, born 1931\nZampieri, DomenicoItalian, 1581 - 1641\nZampieri, called Domenichino, DomenicoItalian, 1581 - 1641\nZanartú, Enrique AntunezChilean, born 1921\nZanchi, AntonioItalian, 1631 - 1722\nZanetti, Anton MariaItalian, 1679/1680 - 1767\nZanetti Borzino, LeopoldinaItalian, 1826 - 1902\nZanetti I, Antonio Maria, conteItalian, 1680 - 1757\nZanguidi, JacopoItalian, 1544 - 1573/1574\nZanini, GiuseppeItalian, c. 1599 - 1631\nZanini-Viola, GiuseppeItalian, c. 1599 - 1631\nZanotti, GiampietroItalian, 1674 - 1765\nZao Wou-KiFrench, born 1921\n\n\nPage 1 - Artists 1 thru 29 of 115\n\n\n\n· Zab-Zao ·Zas-Zie Zie-Zor \n» nextpage\n\n\n\n \n \n\n\n\n\n\n\n help | search | site map | contact us | privacy | terms of use | press | NGA Images | home |  \nCopyright ©\n      \n\n2008\n      \nNational Gallery of Art, Washington, DC\n\n"
     ]
    }
   ],
   "source": [
    "import requests\n",
    "from bs4 import BeautifulSoup\n",
    "\n",
    "# Collect first page of artists’ list\n",
    "page = requests.get('https://web.archive.org/web/20121007172955/https://www.nga.gov/collection/anZ1.htm')\n",
    "\n",
    "# Create a BeautifulSoup object\n",
    "soup = BeautifulSoup(page.text, 'html.parser')\n",
    "show_html(soup.text)"
   ]
  },
  {
   "cell_type": "markdown",
   "metadata": {},
   "source": [
    "find"
   ]
  },
  {
   "cell_type": "code",
   "execution_count": 9,
   "metadata": {
    "tags": []
   },
   "outputs": [
    {
     "output_type": "stream",
     "name": "stdout",
     "text": [
      "<div class=\"BodyText\">\n <!-- InstanceBeginEditable name=\"BodyText\" -->\n <h3>\n  Artist names beginning with Z\n </h3>\n <table>\n  <tr valign=\"top\">\n   <td>\n    <a href=\"/web/20121007172955/https://www.nga.gov/cgi-bin/tsearch?artistid=11630\">\n     Zabaglia, Niccola\n    </a>\n   </td>\n   <td>\n    Italian, 1664 - 1750\n   </td>\n  </tr>\n  <tr valign=\"top\">\n   <td>\n    <a href=\"/web/20121007172955/https://www.nga.gov/cgi-bin/tsearch?artistid=34202\">\n     Zaccone, Fabian\n    </a>\n   </td>\n   <td>\n    American, 1910 - 1992\n   </td>\n  </tr>\n  <tr valign=\"top\">\n   <td>\n    <a href=\"/web/20121007172955/https://www.nga.gov/cgi-bin/tsearch?artistid=3475\">\n     Zadkine, Ossip\n    </a>\n   </td>\n   <td>\n    French, 1890 - 1967\n   </td>\n  </tr>\n  <tr valign=\"top\">\n   <td>\n    <a href=\"/web/20121007172955/https://www.nga.gov/cgi-bin/tsearch?artistid=25135\">\n     Zaech, Bernhard\n    </a>\n   </td>\n   <td>\n    German, active c. 1650\n   </td>\n  </tr>\n  <tr valign=\"top\">\n   <td>\n    <a href=\"/web/20121007172955/https://www.nga.gov/cgi-bin/tsearch?artistid=2298\">\n     Zagar, Jacob\n    </a>\n   </td>\n   <td>\n    Flemish, c. 1530 - after 1580\n   </td>\n  </tr>\n  <tr valign=\"top\">\n   <td>\n    <a href=\"/web/20121007172955/https://www.nga.gov/cgi-bin/tsearch?artistid=23988\">\n     Zagroba, Idalia\n    </a>\n   </td>\n   <td>\n    Polish, born 1967\n   </td>\n  </tr>\n  <tr valign=\"top\">\n   <td>\n    <a href=\"/web/20121007172955/https://www.nga.gov/cgi-bin/tsearch?artistid=8232\">\n     Zaidenberg, A.\n    </a>\n   </td>\n   <td>\n    American, active c. 1935\n   </td>\n  </tr>\n  <tr valign=\"top\">\n   <td>\n    <a href=\"/web/20121007172955/https://www.nga.gov/cgi-bin/tsearch?artistid=34154\">\n     Zaidenberg, Arthur\n    </a>\n   </td>\n   <td>\n    American, 1903 - 1990\n   </td>\n  </tr>\n  <tr valign=\"top\">\n   <td>\n    <a href=\"/web/20121007172955/https://www.nga.gov/cgi-bin/tsearch?artistid=4910\">\n     Zaisinger, Matthäus\n    </a>\n   </td>\n   <td>\n    German, active c. 1500\n   </td>\n  </tr>\n  <tr valign=\"top\">\n   <td>\n    <a href=\"/web/20121007172955/https://www.nga.gov/cgi-bin/tsearch?artistid=3450\">\n     Zajac, Jack\n    </a>\n   </td>\n   <td>\n    American, born 1929\n   </td>\n  </tr>\n  <tr valign=\"top\">\n   <td>\n    <a href=\"/web/20121007172955/https://www.nga.gov/cgi-bin/tsearch?artistid=1986\">\n     Zak, Eugène\n    </a>\n   </td>\n   <td>\n    Polish, 1884 - 1926\n   </td>\n  </tr>\n  <tr valign=\"top\">\n   <td>\n    <a href=\"/web/20121007172955/https://www.nga.gov/cgi-bin/tsearch?artistid=3451\">\n     Zakharov, Gurii Fillipovich\n    </a>\n   </td>\n   <td>\n    Russian, born 1926\n   </td>\n  </tr>\n  <tr valign=\"top\">\n   <td>\n    <a href=\"/web/20121007172955/https://www.nga.gov/cgi-bin/tsearch?artistid=20099\">\n     Zakowortny, Igor\n    </a>\n   </td>\n   <td>\n   </td>\n  </tr>\n  <tr valign=\"top\">\n   <td>\n    <a href=\"/web/20121007172955/https://www.nga.gov/cgi-bin/tsearch?artistid=3452\">\n     Zalce, Alfredo\n    </a>\n   </td>\n   <td>\n    Mexican, born 1908\n   </td>\n  </tr>\n  <tr valign=\"top\">\n   <td>\n    <a href=\"/web/20121007172955/https://www.nga.gov/cgi-bin/tsearch?artistid=34309\">\n     Zalopany, Michele\n    </a>\n   </td>\n   <td>\n    American, born 1955\n   </td>\n  </tr>\n  <tr valign=\"top\">\n   <td>\n    <a href=\"/web/20121007172955/https://www.nga.gov/cgi-bin/tsearch?artistid=27191\">\n     Zammiello, Craig\n    </a>\n   </td>\n   <td>\n   </td>\n  </tr>\n  <tr valign=\"top\">\n   <td>\n    <a href=\"/web/20121007172955/https://www.nga.gov/cgi-bin/tsearch?artistid=5846\">\n     Zammitt, Norman\n    </a>\n   </td>\n   <td>\n    American, born 1931\n   </td>\n  </tr>\n  <tr valign=\"top\">\n   <td>\n    <a href=\"/web/20121007172955/https://www.nga.gov/cgi-bin/tsearch?artistid=3941\">\n     Zampieri, Domenico\n    </a>\n   </td>\n   <td>\n    Italian, 1581 - 1641\n   </td>\n  </tr>\n  <tr valign=\"top\">\n   <td>\n    <a href=\"/web/20121007172955/https://www.nga.gov/cgi-bin/tsearch?artistid=3941\">\n     Zampieri, called Domenichino, Domenico\n    </a>\n   </td>\n   <td>\n    Italian, 1581 - 1641\n   </td>\n  </tr>\n  <tr valign=\"top\">\n   <td>\n    <a href=\"/web/20121007172955/https://www.nga.gov/cgi-bin/tsearch?artistid=3453\">\n     Zanartú, Enrique Antunez\n    </a>\n   </td>\n   <td>\n    Chilean, born 1921\n   </td>\n  </tr>\n  <tr valign=\"top\">\n   <td>\n    <a href=\"/web/20121007172955/https://www.nga.gov/cgi-bin/tsearch?artistid=35173\">\n     Zanchi, Antonio\n    </a>\n   </td>\n   <td>\n    Italian, 1631 - 1722\n   </td>\n  </tr>\n  <tr valign=\"top\">\n   <td>\n    <a href=\"/web/20121007172955/https://www.nga.gov/cgi-bin/tsearch?artistid=11133\">\n     Zanetti, Anton Maria\n    </a>\n   </td>\n   <td>\n    Italian, 1679/1680 - 1767\n   </td>\n  </tr>\n  <tr valign=\"top\">\n   <td>\n    <a href=\"/web/20121007172955/https://www.nga.gov/cgi-bin/tsearch?artistid=3455\">\n     Zanetti Borzino, Leopoldina\n    </a>\n   </td>\n   <td>\n    Italian, 1826 - 1902\n   </td>\n  </tr>\n  <tr valign=\"top\">\n   <td>\n    <a href=\"/web/20121007172955/https://www.nga.gov/cgi-bin/tsearch?artistid=3454\">\n     Zanetti I, Antonio Maria, conte\n    </a>\n   </td>\n   <td>\n    Italian, 1680 - 1757\n   </td>\n  </tr>\n  <tr valign=\"top\">\n   <td>\n    <a href=\"/web/20121007172955/https://www.nga.gov/cgi-bin/tsearch?artistid=961\">\n     Zanguidi, Jacopo\n    </a>\n   </td>\n   <td>\n    Italian, 1544 - 1573/1574\n   </td>\n  </tr>\n  <tr valign=\"top\">\n   <td>\n    <a href=\"/web/20121007172955/https://www.nga.gov/cgi-bin/tsearch?artistid=11597\">\n     Zanini, Giuseppe\n    </a>\n   </td>\n   <td>\n    Italian, c. 1599 - 1631\n   </td>\n  </tr>\n  <tr valign=\"top\">\n   <td>\n    <a href=\"/web/20121007172955/https://www.nga.gov/cgi-bin/tsearch?artistid=11597\">\n     Zanini-Viola, Giuseppe\n    </a>\n   </td>\n   <td>\n    Italian, c. 1599 - 1631\n   </td>\n  </tr>\n  <tr valign=\"top\">\n   <td>\n    <a href=\"/web/20121007172955/https://www.nga.gov/cgi-bin/tsearch?artistid=11631\">\n     Zanotti, Giampietro\n    </a>\n   </td>\n   <td>\n    Italian, 1674 - 1765\n   </td>\n  </tr>\n  <tr valign=\"top\">\n   <td>\n    <a href=\"/web/20121007172955/https://www.nga.gov/cgi-bin/tsearch?artistid=3427\">\n     Zao Wou-Ki\n    </a>\n   </td>\n   <td>\n    French, born 1921\n   </td>\n  </tr>\n </table>\n <br/>\n <br/>\n <table class=\"AlphaNav\">\n  <tr>\n   <td>\n   </td>\n   <td align=\"center\">\n    Page 1 - Artists 1 thru 29 of 115\n    <br/>\n   </td>\n   <td>\n   </td>\n  </tr>\n  <tr>\n   <td>\n   </td>\n   <td align=\"center\">\n    ·\n    <b>\n     Zab-Zao\n    </b>\n    ·\n    <a href=\"/web/20121007172955/https://www.nga.gov/collection/anZ2.htm\">\n     Zas-Zie\n    </a>\n    <a href=\"/web/20121007172955/https://www.nga.gov/collection/anZ3.htm\">\n     Zie-Zor\n    </a>\n   </td>\n   <td align=\"center\">\n    »\n    <br/>\n    <a href=\"/web/20121007172955/https://www.nga.gov/collection/anZ4.htm\">\n     <strong>\n      next\n      <br>\n       page\n      </br>\n     </strong>\n    </a>\n   </td>\n  </tr>\n </table>\n <!-- InstanceEndEditable -->\n</div>\n"
     ]
    }
   ],
   "source": [
    "# Pull all text from the BodyText div\n",
    "artist_name_list = soup.find(class_='BodyText')\n",
    "show_html(artist_name_list)"
   ]
  },
  {
   "cell_type": "code",
   "execution_count": 11,
   "metadata": {},
   "outputs": [
    {
     "output_type": "stream",
     "name": "stdout",
     "text": [
      "[\n<a href=\"/web/20121007172955/https://www.nga.gov/cgi-bin/tsearch?artistid=11630\">\n Zabaglia, Niccola\n</a>\n,\n<a href=\"/web/20121007172955/https://www.nga.gov/cgi-bin/tsearch?artistid=34202\">\n Zaccone, Fabian\n</a>\n,\n<a href=\"/web/20121007172955/https://www.nga.gov/cgi-bin/tsearch?artistid=3475\">\n Zadkine, Ossip\n</a>\n,\n<a href=\"/web/20121007172955/https://www.nga.gov/cgi-bin/tsearch?artistid=25135\">\n Zaech, Bernhard\n</a>\n,\n<a href=\"/web/20121007172955/https://www.nga.gov/cgi-bin/tsearch?artistid=2298\">\n Zagar, Jacob\n</a>\n,\n<a href=\"/web/20121007172955/https://www.nga.gov/cgi-bin/tsearch?artistid=23988\">\n Zagroba, Idalia\n</a>\n,\n<a href=\"/web/20121007172955/https://www.nga.gov/cgi-bin/tsearch?artistid=8232\">\n Zaidenberg, A.\n</a>\n,\n<a href=\"/web/20121007172955/https://www.nga.gov/cgi-bin/tsearch?artistid=34154\">\n Zaidenberg, Arthur\n</a>\n,\n<a href=\"/web/20121007172955/https://www.nga.gov/cgi-bin/tsearch?artistid=4910\">\n Zaisinger, Matthäus\n</a>\n,\n<a href=\"/web/20121007172955/https://www.nga.gov/cgi-bin/tsearch?artistid=3450\">\n Zajac, Jack\n</a>\n,\n<a href=\"/web/20121007172955/https://www.nga.gov/cgi-bin/tsearch?artistid=1986\">\n Zak, Eugène\n</a>\n,\n<a href=\"/web/20121007172955/https://www.nga.gov/cgi-bin/tsearch?artistid=3451\">\n Zakharov, Gurii Fillipovich\n</a>\n,\n<a href=\"/web/20121007172955/https://www.nga.gov/cgi-bin/tsearch?artistid=20099\">\n Zakowortny, Igor\n</a>\n,\n<a href=\"/web/20121007172955/https://www.nga.gov/cgi-bin/tsearch?artistid=3452\">\n Zalce, Alfredo\n</a>\n,\n<a href=\"/web/20121007172955/https://www.nga.gov/cgi-bin/tsearch?artistid=34309\">\n Zalopany, Michele\n</a>\n,\n<a href=\"/web/20121007172955/https://www.nga.gov/cgi-bin/tsearch?artistid=27191\">\n Zammiello, Craig\n</a>\n,\n<a href=\"/web/20121007172955/https://www.nga.gov/cgi-bin/tsearch?artistid=5846\">\n Zammitt, Norman\n</a>\n,\n<a href=\"/web/20121007172955/https://www.nga.gov/cgi-bin/tsearch?artistid=3941\">\n Zampieri, Domenico\n</a>\n,\n<a href=\"/web/20121007172955/https://www.nga.gov/cgi-bin/tsearch?artistid=3941\">\n Zampieri, called Domenichino, Domenico\n</a>\n,\n<a href=\"/web/20121007172955/https://www.nga.gov/cgi-bin/tsearch?artistid=3453\">\n Zanartú, Enrique Antunez\n</a>\n,\n<a href=\"/web/20121007172955/https://www.nga.gov/cgi-bin/tsearch?artistid=35173\">\n Zanchi, Antonio\n</a>\n,\n<a href=\"/web/20121007172955/https://www.nga.gov/cgi-bin/tsearch?artistid=11133\">\n Zanetti, Anton Maria\n</a>\n,\n<a href=\"/web/20121007172955/https://www.nga.gov/cgi-bin/tsearch?artistid=3455\">\n Zanetti Borzino, Leopoldina\n</a>\n,\n<a href=\"/web/20121007172955/https://www.nga.gov/cgi-bin/tsearch?artistid=3454\">\n Zanetti I, Antonio Maria, conte\n</a>\n,\n<a href=\"/web/20121007172955/https://www.nga.gov/cgi-bin/tsearch?artistid=961\">\n Zanguidi, Jacopo\n</a>\n,\n<a href=\"/web/20121007172955/https://www.nga.gov/cgi-bin/tsearch?artistid=11597\">\n Zanini, Giuseppe\n</a>\n,\n<a href=\"/web/20121007172955/https://www.nga.gov/cgi-bin/tsearch?artistid=11597\">\n Zanini-Viola, Giuseppe\n</a>\n,\n<a href=\"/web/20121007172955/https://www.nga.gov/cgi-bin/tsearch?artistid=11631\">\n Zanotti, Giampietro\n</a>\n,\n<a href=\"/web/20121007172955/https://www.nga.gov/cgi-bin/tsearch?artistid=3427\">\n Zao Wou-Ki\n</a>\n,\n<a href=\"/web/20121007172955/https://www.nga.gov/collection/anZ2.htm\">\n Zas-Zie\n</a>\n,\n<a href=\"/web/20121007172955/https://www.nga.gov/collection/anZ3.htm\">\n Zie-Zor\n</a>\n,\n<a href=\"/web/20121007172955/https://www.nga.gov/collection/anZ4.htm\">\n <strong>\n  next\n  <br/>\n  page\n </strong>\n</a>\n]\n\n"
     ]
    }
   ],
   "source": [
    "artist_name_list3 = soup.find(class_='BodyText').find_all('a')\n",
    "show_html(artist_name_list3)"
   ]
  },
  {
   "cell_type": "code",
   "execution_count": 12,
   "metadata": {},
   "outputs": [
    {
     "output_type": "stream",
     "name": "stdout",
     "text": [
      "[\n<a href=\"/web/\" title=\"Wayback Machine home page\">\n <img alt=\"Wayback Machine\" border=\"0\" src=\"/_static/images/toolbar/wayback-toolbar-logo-200.png\" srcset=\"/_static/images/toolbar/wayback-toolbar-logo-100.png, /_static/images/toolbar/wayback-toolbar-logo-150.png 1.5x, /_static/images/toolbar/wayback-toolbar-logo-200.png 2x\" style=\"width:100px\"/>\n</a>\n,\n<a href=\"#\" id=\"wm-save-snapshot-open\" title=\"Share via My Web Archive\">\n <span class=\"iconochive-web\">\n </span>\n</a>\n,\n<a href=\"https://archive.org/account/login.php\" id=\"wm-sign-in\" title=\"Sign In\">\n <span class=\"iconochive-person\">\n </span>\n</a>\n,\n<a href=\"http://faq.web.archive.org/\" style=\"top:-6px;\" title=\"Get some help using the Wayback Machine\">\n <span class=\"iconochive-question\" style=\"color:rgb(87,186,244);font-size:160%;\">\n </span>\n</a>\n,\n<a href=\"#close\" id=\"wm-tb-close\" onclick=\"__wm.h(event);return false;\" style=\"top:-2px;\" title=\"Close the toolbar\">\n <span class=\"iconochive-remove-circle\" style=\"color:#888888;font-size:240%;\">\n </span>\n</a>\n,\n<a href=\"/web/20121007172955/http://web.archive.org/screenshot/https://www.nga.gov/collection/anZ1.htm\" id=\"wm-screenshot\" title=\"screenshot\">\n <span class=\"wm-icon-screen-shot\">\n </span>\n</a>\n,\n<a data-url=\"https://web.archive.org/web/20121007172955/http://www.nga.gov/collection/anZ1.htm\" href=\"#\" id=\"wm-share-facebook\" style=\"margin-right:5px;\" target=\"_blank\" title=\"Share on Facebook\">\n <span class=\"iconochive-facebook\" style=\"color:#3b5998;font-size:160%;\">\n </span>\n</a>\n,\n<a data-url=\"https://web.archive.org/web/20121007172955/http://www.nga.gov/collection/anZ1.htm\" href=\"#\" id=\"wm-share-twitter\" style=\"margin-right:5px;\" target=\"_blank\" title=\"Share on Twitter\">\n <span class=\"iconochive-twitter\" style=\"color:#1dcaff;font-size:160%;\">\n </span>\n</a>\n,\n<a href=\"https://web.archive.org/web/20111024134458/http://www.nga.gov/collection/anZ1.htm\" title=\"24 Oct 2011\">\n <strong>\n  Oct\n </strong>\n</a>\n,\n<a href=\"https://web.archive.org/web/20190824043821/https://www.nga.gov/collection/anZ1.htm\" title=\"24 Aug 2019\">\n <strong>\n  Aug\n </strong>\n</a>\n,\n<a href=\"https://web.archive.org/web/20121002115714/http://www.nga.gov/collection/anZ1.htm\" title=\"11:57:14 Oct 02, 2012\">\n <img alt=\"Previous capture\" border=\"0\" height=\"16\" src=\"/_static/images/toolbar/wm_tb_prv_on.png\" width=\"14\"/>\n</a>\n,\n<a href=\"https://web.archive.org/web/20190824043821/https://www.nga.gov/collection/anZ1.htm\" title=\"04:38:21 Aug 24, 2019\">\n <img alt=\"Next capture\" border=\"0\" height=\"16\" src=\"/_static/images/toolbar/wm_tb_nxt_on.png\" width=\"14\"/>\n</a>\n,\n<a href=\"https://web.archive.org/web/20110606120842/http://www.nga.gov/collection/anZ1.htm\" title=\"06 Jun 2011\">\n <strong>\n  2011\n </strong>\n</a>\n,\n<a href=\"https://web.archive.org/web/20190824043821/https://www.nga.gov/collection/anZ1.htm\" title=\"24 Aug 2019\">\n <strong>\n  2019\n </strong>\n</a>\n,\n<a class=\"t\" href=\"/web/20121007172955*/https://www.nga.gov/collection/anZ1.htm\" title=\"See a list of every capture for this URL\">\n 36 captures\n</a>\n,\n<a href=\"\" id=\"wm-graph-anchor\">\n <div id=\"wm-ipp-sparkline\" style=\"position: relative\" title=\"Explore captures for this URL\">\n  <canvas border=\"0\" height=\"27\" id=\"wm-sparkline-canvas\" width=\"625\">\n  </canvas>\n </div>\n</a>\n,\n<a class=\"wm-btn wm-closed\" href=\"#expand\" id=\"wm-expand\" onclick=\"__wm.ex(event);return false;\">\n <span class=\"iconochive-down-solid\" id=\"wm-expand-icon\">\n </span>\n <span style=\"font-size:80%\">\n  About this capture\n </span>\n</a>\n,\n<a href=\"https://archive.org/details/webwidecrawl\" style=\"color:#33f;\" target=\"_new\">\n <span class=\"wm-title\">\n  Internet Archive\n </span>\n</a>\n,\n<a href=\"http://archive.org/web/web.php\">\n Wayback Machine\n</a>\n,\n<a href=\"https://archive.org/details/EndOfTerm2012WebCrawls\" style=\"color:#33f;\" target=\"_new\">\n <span class=\"wm-title\">\n  End of Term 2012 Web Crawls\n </span>\n</a>\n,\n<a href=\"/web/20121007172955/https://www.nga.gov/home.htm\">\n <img alt=\"HOME\" border=\"0\" height=\"72\" src=\"/web/20121007172955im_/https://www.nga.gov/images/eagle.gif\" style=\"margin-top: 15px; margin-right: 12px; margin-bottom: 35px;\" width=\"74\"/>\n</a>\n,\n<a href=\"/web/20121007172955/https://www.nga.gov/highlights/index.shtm\">\n What's New\n</a>\n,\n<a href=\"https://web.archive.org/web/20121007172955/http://subscribe.nga.gov/subscription_form_ngart.cfm\">\n Newsletters\n</a>\n,\n<a href=\"/web/20121007172955/https://www.nga.gov/programs/calendar/\">\n Calendar\n</a>\n,\n<a href=\"/web/20121007172955/https://www.nga.gov/collection/acquisitioninfo.shtm\">\n Recent Acquisitions\n</a>\n,\n<a href=\"/web/20121007172955/https://www.nga.gov/podcasts/index.shtm\">\n Videos &amp; Podcasts\n</a>\n,\n<a href=\"/web/20121007172955/https://www.nga.gov/ginfo/aboutnga.shtm\">\n About the Gallery\n</a>\n,\n<a href=\"/web/20121007172955/https://www.nga.gov/exhibitions/shockinfo.shtm\">\n Shock of the News\n</a>\n,\n<a href=\"/web/20121007172955/https://www.nga.gov/exhibitions/bellowsinfo.shtm\">\n George Bellows\n</a>\n,\n<a href=\"/web/20121007172955/https://www.nga.gov/collection/index.shtm\">\n The Collection\n</a>\n,\n<a href=\"/web/20121007172955/https://www.nga.gov/exhibitions/index.shtm\">\n Exhibitions\n</a>\n,\n<a href=\"/web/20121007172955/https://www.nga.gov/ginfo/index.shtm\">\n Plan a Visit\n</a>\n,\n<a href=\"/web/20121007172955/https://www.nga.gov/programs/index.shtm\">\n Programs &amp; Events\n</a>\n,\n<a href=\"/web/20121007172955/https://www.nga.gov/onlinetours/index.shtm\">\n Online Tours\n</a>\n,\n<a href=\"/web/20121007172955/https://www.nga.gov/education/index.shtm\">\n Education\n</a>\n,\n<a href=\"/web/20121007172955/https://www.nga.gov/resources/index.shtm\">\n Resources\n</a>\n,\n<a href=\"https://web.archive.org/web/20121007172955/http://shop.nga.gov/\">\n Gallery Shop\n</a>\n,\n<a href=\"/web/20121007172955/https://www.nga.gov/support/index.shtm\">\n Support the Gallery\n</a>\n,\n<a href=\"https://web.archive.org/web/20121007172955/https://images.nga.gov/en/page/show_home_page.html\">\n NGA Images\n</a>\n,\n<a href=\"/web/20121007172955/https://www.nga.gov/kids/kids.htm\">\n NGA\n <span class=\"kids\">\n  kids\n </span>\n</a>\n,\n<a href=\"/web/20121007172955/https://www.nga.gov/cgi-bin/tsearch?artistid=11630\">\n Zabaglia, Niccola\n</a>\n,\n<a href=\"/web/20121007172955/https://www.nga.gov/cgi-bin/tsearch?artistid=34202\">\n Zaccone, Fabian\n</a>\n,\n<a href=\"/web/20121007172955/https://www.nga.gov/cgi-bin/tsearch?artistid=3475\">\n Zadkine, Ossip\n</a>\n,\n<a href=\"/web/20121007172955/https://www.nga.gov/cgi-bin/tsearch?artistid=25135\">\n Zaech, Bernhard\n</a>\n,\n<a href=\"/web/20121007172955/https://www.nga.gov/cgi-bin/tsearch?artistid=2298\">\n Zagar, Jacob\n</a>\n,\n<a href=\"/web/20121007172955/https://www.nga.gov/cgi-bin/tsearch?artistid=23988\">\n Zagroba, Idalia\n</a>\n,\n<a href=\"/web/20121007172955/https://www.nga.gov/cgi-bin/tsearch?artistid=8232\">\n Zaidenberg, A.\n</a>\n,\n<a href=\"/web/20121007172955/https://www.nga.gov/cgi-bin/tsearch?artistid=34154\">\n Zaidenberg, Arthur\n</a>\n,\n<a href=\"/web/20121007172955/https://www.nga.gov/cgi-bin/tsearch?artistid=4910\">\n Zaisinger, Matthäus\n</a>\n,\n<a href=\"/web/20121007172955/https://www.nga.gov/cgi-bin/tsearch?artistid=3450\">\n Zajac, Jack\n</a>\n,\n<a href=\"/web/20121007172955/https://www.nga.gov/cgi-bin/tsearch?artistid=1986\">\n Zak, Eugène\n</a>\n,\n<a href=\"/web/20121007172955/https://www.nga.gov/cgi-bin/tsearch?artistid=3451\">\n Zakharov, Gurii Fillipovich\n</a>\n,\n<a href=\"/web/20121007172955/https://www.nga.gov/cgi-bin/tsearch?artistid=20099\">\n Zakowortny, Igor\n</a>\n,\n<a href=\"/web/20121007172955/https://www.nga.gov/cgi-bin/tsearch?artistid=3452\">\n Zalce, Alfredo\n</a>\n,\n<a href=\"/web/20121007172955/https://www.nga.gov/cgi-bin/tsearch?artistid=34309\">\n Zalopany, Michele\n</a>\n,\n<a href=\"/web/20121007172955/https://www.nga.gov/cgi-bin/tsearch?artistid=27191\">\n Zammiello, Craig\n</a>\n,\n<a href=\"/web/20121007172955/https://www.nga.gov/cgi-bin/tsearch?artistid=5846\">\n Zammitt, Norman\n</a>\n,\n<a href=\"/web/20121007172955/https://www.nga.gov/cgi-bin/tsearch?artistid=3941\">\n Zampieri, Domenico\n</a>\n,\n<a href=\"/web/20121007172955/https://www.nga.gov/cgi-bin/tsearch?artistid=3941\">\n Zampieri, called Domenichino, Domenico\n</a>\n,\n<a href=\"/web/20121007172955/https://www.nga.gov/cgi-bin/tsearch?artistid=3453\">\n Zanartú, Enrique Antunez\n</a>\n,\n<a href=\"/web/20121007172955/https://www.nga.gov/cgi-bin/tsearch?artistid=35173\">\n Zanchi, Antonio\n</a>\n,\n<a href=\"/web/20121007172955/https://www.nga.gov/cgi-bin/tsearch?artistid=11133\">\n Zanetti, Anton Maria\n</a>\n,\n<a href=\"/web/20121007172955/https://www.nga.gov/cgi-bin/tsearch?artistid=3455\">\n Zanetti Borzino, Leopoldina\n</a>\n,\n<a href=\"/web/20121007172955/https://www.nga.gov/cgi-bin/tsearch?artistid=3454\">\n Zanetti I, Antonio Maria, conte\n</a>\n,\n<a href=\"/web/20121007172955/https://www.nga.gov/cgi-bin/tsearch?artistid=961\">\n Zanguidi, Jacopo\n</a>\n,\n<a href=\"/web/20121007172955/https://www.nga.gov/cgi-bin/tsearch?artistid=11597\">\n Zanini, Giuseppe\n</a>\n,\n<a href=\"/web/20121007172955/https://www.nga.gov/cgi-bin/tsearch?artistid=11597\">\n Zanini-Viola, Giuseppe\n</a>\n,\n<a href=\"/web/20121007172955/https://www.nga.gov/cgi-bin/tsearch?artistid=11631\">\n Zanotti, Giampietro\n</a>\n,\n<a href=\"/web/20121007172955/https://www.nga.gov/cgi-bin/tsearch?artistid=3427\">\n Zao Wou-Ki\n</a>\n,\n<a href=\"/web/20121007172955/https://www.nga.gov/collection/anZ2.htm\">\n Zas-Zie\n</a>\n,\n<a href=\"/web/20121007172955/https://www.nga.gov/collection/anZ3.htm\">\n Zie-Zor\n</a>\n,\n<a href=\"/web/20121007172955/https://www.nga.gov/collection/anZ4.htm\">\n <strong>\n  next\n  <br/>\n  page\n </strong>\n</a>\n,\n<a href=\"/web/20121007172955/https://www.nga.gov/help/index.shtm\">\n help\n</a>\n,\n<a href=\"/web/20121007172955/https://www.nga.gov/search/index.shtm\">\n search\n</a>\n,\n<a href=\"/web/20121007172955/https://www.nga.gov/copyright/toc.shtm\">\n site map\n</a>\n,\n<a href=\"/web/20121007172955/https://www.nga.gov/xio/phone.shtm\">\n contact us\n</a>\n,\n<a href=\"/web/20121007172955/https://www.nga.gov/xio/privacy.shtm\">\n privacy\n</a>\n,\n<a href=\"/web/20121007172955/https://www.nga.gov/copyright/index.shtm\">\n terms of use\n</a>\n,\n<a href=\"/web/20121007172955/https://www.nga.gov/press/index.shtm\">\n press\n</a>\n,\n<a href=\"https://web.archive.org/web/20121007172955/http://images.nga.gov/\">\n NGA Images\n</a>\n,\n<a href=\"/web/20121007172955/https://www.nga.gov/home.htm\">\n home\n</a>\n,\n<a href=\"https://web.archive.org/web/20121007172955/http://www.facebook.com/nationalgalleryofart\">\n <img alt=\"Go to our page on Facebook\" border=\"0\" height=\"18\" src=\"/web/20121007172955im_/https://www.nga.gov/images/icon_facebook.gif\" style=\"vertical-align: text-top; margin-top: -1px;\" width=\"18\"/>\n</a>\n,\n<a href=\"https://web.archive.org/web/20121007172955/https://twitter.com/#!/@ngadc\">\n <img alt=\"Go to our page on Twitter\" border=\"0\" height=\"18\" src=\"/web/20121007172955im_/https://www.nga.gov/images/icon_twitter.gif\" style=\"vertical-align: text-top; margin-top: -1px;\" width=\"20\"/>\n</a>\n,\n<a href=\"/web/20121007172955/https://www.nga.gov/copyright/index.shtm\">\n Copyright ©\n <script language=\"JavaScript\">\n  function y2k(number) { return (number < 1000) ? number + 1900 : number; }\nvar today = new Date();\nvar year  = y2k(today.getYear());\ndocument.write(year);\n </script>\n <noscript>\n  2008\n </noscript>\n National Gallery of Art, Washington, DC\n</a>\n]\n\n"
     ]
    }
   ],
   "source": [
    "artist_name_list2 = soup.find_all('a')\n",
    "show_html(artist_name_list2)"
   ]
  },
  {
   "cell_type": "code",
   "execution_count": 10,
   "metadata": {
    "tags": []
   },
   "outputs": [
    {
     "output_type": "stream",
     "name": "stdout",
     "text": [
      "[\n<a href=\"/web/20121007172955/https://www.nga.gov/cgi-bin/tsearch?artistid=11630\">\n Zabaglia, Niccola\n</a>\n,\n<a href=\"/web/20121007172955/https://www.nga.gov/cgi-bin/tsearch?artistid=34202\">\n Zaccone, Fabian\n</a>\n,\n<a href=\"/web/20121007172955/https://www.nga.gov/cgi-bin/tsearch?artistid=3475\">\n Zadkine, Ossip\n</a>\n,\n<a href=\"/web/20121007172955/https://www.nga.gov/cgi-bin/tsearch?artistid=25135\">\n Zaech, Bernhard\n</a>\n,\n<a href=\"/web/20121007172955/https://www.nga.gov/cgi-bin/tsearch?artistid=2298\">\n Zagar, Jacob\n</a>\n,\n<a href=\"/web/20121007172955/https://www.nga.gov/cgi-bin/tsearch?artistid=23988\">\n Zagroba, Idalia\n</a>\n,\n<a href=\"/web/20121007172955/https://www.nga.gov/cgi-bin/tsearch?artistid=8232\">\n Zaidenberg, A.\n</a>\n,\n<a href=\"/web/20121007172955/https://www.nga.gov/cgi-bin/tsearch?artistid=34154\">\n Zaidenberg, Arthur\n</a>\n,\n<a href=\"/web/20121007172955/https://www.nga.gov/cgi-bin/tsearch?artistid=4910\">\n Zaisinger, Matthäus\n</a>\n,\n<a href=\"/web/20121007172955/https://www.nga.gov/cgi-bin/tsearch?artistid=3450\">\n Zajac, Jack\n</a>\n,\n<a href=\"/web/20121007172955/https://www.nga.gov/cgi-bin/tsearch?artistid=1986\">\n Zak, Eugène\n</a>\n,\n<a href=\"/web/20121007172955/https://www.nga.gov/cgi-bin/tsearch?artistid=3451\">\n Zakharov, Gurii Fillipovich\n</a>\n,\n<a href=\"/web/20121007172955/https://www.nga.gov/cgi-bin/tsearch?artistid=20099\">\n Zakowortny, Igor\n</a>\n,\n<a href=\"/web/20121007172955/https://www.nga.gov/cgi-bin/tsearch?artistid=3452\">\n Zalce, Alfredo\n</a>\n,\n<a href=\"/web/20121007172955/https://www.nga.gov/cgi-bin/tsearch?artistid=34309\">\n Zalopany, Michele\n</a>\n,\n<a href=\"/web/20121007172955/https://www.nga.gov/cgi-bin/tsearch?artistid=27191\">\n Zammiello, Craig\n</a>\n,\n<a href=\"/web/20121007172955/https://www.nga.gov/cgi-bin/tsearch?artistid=5846\">\n Zammitt, Norman\n</a>\n,\n<a href=\"/web/20121007172955/https://www.nga.gov/cgi-bin/tsearch?artistid=3941\">\n Zampieri, Domenico\n</a>\n,\n<a href=\"/web/20121007172955/https://www.nga.gov/cgi-bin/tsearch?artistid=3941\">\n Zampieri, called Domenichino, Domenico\n</a>\n,\n<a href=\"/web/20121007172955/https://www.nga.gov/cgi-bin/tsearch?artistid=3453\">\n Zanartú, Enrique Antunez\n</a>\n,\n<a href=\"/web/20121007172955/https://www.nga.gov/cgi-bin/tsearch?artistid=35173\">\n Zanchi, Antonio\n</a>\n,\n<a href=\"/web/20121007172955/https://www.nga.gov/cgi-bin/tsearch?artistid=11133\">\n Zanetti, Anton Maria\n</a>\n,\n<a href=\"/web/20121007172955/https://www.nga.gov/cgi-bin/tsearch?artistid=3455\">\n Zanetti Borzino, Leopoldina\n</a>\n,\n<a href=\"/web/20121007172955/https://www.nga.gov/cgi-bin/tsearch?artistid=3454\">\n Zanetti I, Antonio Maria, conte\n</a>\n,\n<a href=\"/web/20121007172955/https://www.nga.gov/cgi-bin/tsearch?artistid=961\">\n Zanguidi, Jacopo\n</a>\n,\n<a href=\"/web/20121007172955/https://www.nga.gov/cgi-bin/tsearch?artistid=11597\">\n Zanini, Giuseppe\n</a>\n,\n<a href=\"/web/20121007172955/https://www.nga.gov/cgi-bin/tsearch?artistid=11597\">\n Zanini-Viola, Giuseppe\n</a>\n,\n<a href=\"/web/20121007172955/https://www.nga.gov/cgi-bin/tsearch?artistid=11631\">\n Zanotti, Giampietro\n</a>\n,\n<a href=\"/web/20121007172955/https://www.nga.gov/cgi-bin/tsearch?artistid=3427\">\n Zao Wou-Ki\n</a>\n,\n<a href=\"/web/20121007172955/https://www.nga.gov/collection/anZ2.htm\">\n Zas-Zie\n</a>\n,\n<a href=\"/web/20121007172955/https://www.nga.gov/collection/anZ3.htm\">\n Zie-Zor\n</a>\n,\n<a href=\"/web/20121007172955/https://www.nga.gov/collection/anZ4.htm\">\n <strong>\n  next\n  <br/>\n  page\n </strong>\n</a>\n]\n\n"
     ]
    }
   ],
   "source": [
    "# Pull text from all instances of <a> tag within BodyText div\n",
    "artist_name_list_items = artist_name_list.find_all('a')\n",
    "show_html(artist_name_list_items)"
   ]
  },
  {
   "cell_type": "code",
   "execution_count": 13,
   "metadata": {
    "tags": []
   },
   "outputs": [
    {
     "output_type": "stream",
     "name": "stdout",
     "text": [
      "<a href=\"/web/20121007172955/https://www.nga.gov/cgi-bin/tsearch?artistid=11630\">Zabaglia, Niccola</a>\n---------\n<a href=\"/web/20121007172955/https://www.nga.gov/cgi-bin/tsearch?artistid=34202\">Zaccone, Fabian</a>\n---------\n<a href=\"/web/20121007172955/https://www.nga.gov/cgi-bin/tsearch?artistid=3475\">Zadkine, Ossip</a>\n---------\n<a href=\"/web/20121007172955/https://www.nga.gov/cgi-bin/tsearch?artistid=25135\">Zaech, Bernhard</a>\n---------\n<a href=\"/web/20121007172955/https://www.nga.gov/cgi-bin/tsearch?artistid=2298\">Zagar, Jacob</a>\n---------\n<a href=\"/web/20121007172955/https://www.nga.gov/cgi-bin/tsearch?artistid=23988\">Zagroba, Idalia</a>\n---------\n<a href=\"/web/20121007172955/https://www.nga.gov/cgi-bin/tsearch?artistid=8232\">Zaidenberg, A.</a>\n---------\n<a href=\"/web/20121007172955/https://www.nga.gov/cgi-bin/tsearch?artistid=34154\">Zaidenberg, Arthur</a>\n---------\n<a href=\"/web/20121007172955/https://www.nga.gov/cgi-bin/tsearch?artistid=4910\">Zaisinger, Matthäus</a>\n---------\n<a href=\"/web/20121007172955/https://www.nga.gov/cgi-bin/tsearch?artistid=3450\">Zajac, Jack</a>\n---------\n<a href=\"/web/20121007172955/https://www.nga.gov/cgi-bin/tsearch?artistid=1986\">Zak, Eugène</a>\n---------\n<a href=\"/web/20121007172955/https://www.nga.gov/cgi-bin/tsearch?artistid=3451\">Zakharov, Gurii Fillipovich</a>\n---------\n<a href=\"/web/20121007172955/https://www.nga.gov/cgi-bin/tsearch?artistid=20099\">Zakowortny, Igor</a>\n---------\n<a href=\"/web/20121007172955/https://www.nga.gov/cgi-bin/tsearch?artistid=3452\">Zalce, Alfredo</a>\n---------\n<a href=\"/web/20121007172955/https://www.nga.gov/cgi-bin/tsearch?artistid=34309\">Zalopany, Michele</a>\n---------\n<a href=\"/web/20121007172955/https://www.nga.gov/cgi-bin/tsearch?artistid=27191\">Zammiello, Craig</a>\n---------\n<a href=\"/web/20121007172955/https://www.nga.gov/cgi-bin/tsearch?artistid=5846\">Zammitt, Norman</a>\n---------\n<a href=\"/web/20121007172955/https://www.nga.gov/cgi-bin/tsearch?artistid=3941\">Zampieri, Domenico</a>\n---------\n<a href=\"/web/20121007172955/https://www.nga.gov/cgi-bin/tsearch?artistid=3941\">Zampieri, called Domenichino, Domenico</a>\n---------\n<a href=\"/web/20121007172955/https://www.nga.gov/cgi-bin/tsearch?artistid=3453\">Zanartú, Enrique Antunez</a>\n---------\n<a href=\"/web/20121007172955/https://www.nga.gov/cgi-bin/tsearch?artistid=35173\">Zanchi, Antonio</a>\n---------\n<a href=\"/web/20121007172955/https://www.nga.gov/cgi-bin/tsearch?artistid=11133\">Zanetti, Anton Maria</a>\n---------\n<a href=\"/web/20121007172955/https://www.nga.gov/cgi-bin/tsearch?artistid=3455\">Zanetti Borzino, Leopoldina</a>\n---------\n<a href=\"/web/20121007172955/https://www.nga.gov/cgi-bin/tsearch?artistid=3454\">Zanetti I, Antonio Maria, conte</a>\n---------\n<a href=\"/web/20121007172955/https://www.nga.gov/cgi-bin/tsearch?artistid=961\">Zanguidi, Jacopo</a>\n---------\n<a href=\"/web/20121007172955/https://www.nga.gov/cgi-bin/tsearch?artistid=11597\">Zanini, Giuseppe</a>\n---------\n<a href=\"/web/20121007172955/https://www.nga.gov/cgi-bin/tsearch?artistid=11597\">Zanini-Viola, Giuseppe</a>\n---------\n<a href=\"/web/20121007172955/https://www.nga.gov/cgi-bin/tsearch?artistid=11631\">Zanotti, Giampietro</a>\n---------\n<a href=\"/web/20121007172955/https://www.nga.gov/cgi-bin/tsearch?artistid=3427\">Zao Wou-Ki</a>\n---------\n<a href=\"/web/20121007172955/https://www.nga.gov/collection/anZ2.htm\">Zas-Zie</a>\n---------\n<a href=\"/web/20121007172955/https://www.nga.gov/collection/anZ3.htm\">Zie-Zor</a>\n---------\n<a href=\"/web/20121007172955/https://www.nga.gov/collection/anZ4.htm\"><strong>next<br/>page</strong></a>\n---------\n"
     ]
    }
   ],
   "source": [
    "# Create for loop to print out all artists\n",
    "for artist_name in artist_name_list_items:\n",
    "    print(artist_name)\n",
    "    print(\"---------\")"
   ]
  },
  {
   "cell_type": "code",
   "execution_count": 16,
   "metadata": {},
   "outputs": [
    {
     "output_type": "stream",
     "name": "stdout",
     "text": [
      "Zabaglia, Niccola\n---------\n\">Zaccone, Fabian\n---------\n5\">Zadkine, Ossip\n---------\n\">Zaech, Bernhard\n---------\n298\">Zagar, Jacob\n---------\n\">Zagroba, Idalia\n---------\n2\">Zaidenberg, A.\n---------\naidenberg, Arthur\n---------\nisinger, Matthäus\n---------\n3450\">Zajac, Jack\n---------\n1986\">Zak, Eugène\n---------\nGurii Fillipovich\n---------\n>Zakowortny, Igor\n---------\n2\">Zalce, Alfredo\n---------\nZalopany, Michele\n---------\n>Zammiello, Craig\n---------\n\">Zammitt, Norman\n---------\nampieri, Domenico\n---------\nnichino, Domenico\n---------\n, Enrique Antunez\n---------\n\">Zanchi, Antonio\n---------\netti, Anton Maria\n---------\nrzino, Leopoldina\n---------\nonio Maria, conte\n---------\n>Zanguidi, Jacopo\n---------\n>Zanini, Giuseppe\n---------\ni-Viola, Giuseppe\n---------\nnotti, Giampietro\n---------\n=3427\">Zao Wou-Ki\n---------\nanZ2.htm\">Zas-Zie\n---------\nanZ3.htm\">Zie-Zor\n---------\nbr/>page</strong>\n---------\n"
     ]
    }
   ],
   "source": [
    "# Create for loop to print out all artists\n",
    "for artist_name in artist_name_list_items:\n",
    "    print(str(artist_name)[-21:-4])\n",
    "    print(\"---------\")"
   ]
  },
  {
   "cell_type": "code",
   "execution_count": 18,
   "metadata": {},
   "outputs": [
    {
     "output_type": "stream",
     "name": "stdout",
     "text": [
      "['Zabaglia, Niccola']\n---------\n['Zaccone, Fabian']\n---------\n['Zadkine, Ossip']\n---------\n['Zaech, Bernhard']\n---------\n['Zagar, Jacob']\n---------\n['Zagroba, Idalia']\n---------\n['Zaidenberg, A.']\n---------\n['Zaidenberg, Arthur']\n---------\n['Zaisinger, Matthäus']\n---------\n['Zajac, Jack']\n---------\n['Zak, Eugène']\n---------\n['Zakharov, Gurii Fillipovich']\n---------\n['Zakowortny, Igor']\n---------\n['Zalce, Alfredo']\n---------\n['Zalopany, Michele']\n---------\n['Zammiello, Craig']\n---------\n['Zammitt, Norman']\n---------\n['Zampieri, Domenico']\n---------\n['Zampieri, called Domenichino, Domenico']\n---------\n['Zanartú, Enrique Antunez']\n---------\n['Zanchi, Antonio']\n---------\n['Zanetti, Anton Maria']\n---------\n['Zanetti Borzino, Leopoldina']\n---------\n['Zanetti I, Antonio Maria, conte']\n---------\n['Zanguidi, Jacopo']\n---------\n['Zanini, Giuseppe']\n---------\n['Zanini-Viola, Giuseppe']\n---------\n['Zanotti, Giampietro']\n---------\n['Zao Wou-Ki']\n---------\n['Zas-Zie']\n---------\n['Zie-Zor']\n---------\n[<strong>next<br/>page</strong>]\n---------\n"
     ]
    }
   ],
   "source": [
    "# Create for loop to print out all artists\n",
    "for artist_name in artist_name_list_items:\n",
    "    print(artist_name.contents) # el .contents nos da lo que esté entre <>\n",
    "    print(\"---------\")"
   ]
  },
  {
   "cell_type": "code",
   "execution_count": 17,
   "metadata": {
    "tags": []
   },
   "outputs": [
    {
     "output_type": "stream",
     "name": "stdout",
     "text": [
      "Zabaglia, Niccola\nZaccone, Fabian\nZadkine, Ossip\nZaech, Bernhard\nZagar, Jacob\nZagroba, Idalia\nZaidenberg, A.\nZaidenberg, Arthur\nZaisinger, Matthäus\nZajac, Jack\nZak, Eugène\nZakharov, Gurii Fillipovich\nZakowortny, Igor\nZalce, Alfredo\nZalopany, Michele\nZammiello, Craig\nZammitt, Norman\nZampieri, Domenico\nZampieri, called Domenichino, Domenico\nZanartú, Enrique Antunez\nZanchi, Antonio\nZanetti, Anton Maria\nZanetti Borzino, Leopoldina\nZanetti I, Antonio Maria, conte\nZanguidi, Jacopo\nZanini, Giuseppe\nZanini-Viola, Giuseppe\nZanotti, Giampietro\nZao Wou-Ki\nZas-Zie\nZie-Zor\n<strong>next<br/>page</strong>\n"
     ]
    }
   ],
   "source": [
    "artist_names = []\n",
    "\n",
    "# Create for loop to print out all artists' names\n",
    "for artist_name in artist_name_list_items:\n",
    "    names = artist_name.contents[0]\n",
    "    print(names)\n",
    "    artist_names.append(names)"
   ]
  },
  {
   "cell_type": "code",
   "execution_count": 19,
   "metadata": {
    "tags": []
   },
   "outputs": [
    {
     "output_type": "stream",
     "name": "stdout",
     "text": [
      "/web/20121007172955/https://www.nga.gov/cgi-bin/tsearch?artistid=11630\n/web/20121007172955/https://www.nga.gov/cgi-bin/tsearch?artistid=34202\n/web/20121007172955/https://www.nga.gov/cgi-bin/tsearch?artistid=3475\n/web/20121007172955/https://www.nga.gov/cgi-bin/tsearch?artistid=25135\n/web/20121007172955/https://www.nga.gov/cgi-bin/tsearch?artistid=2298\n/web/20121007172955/https://www.nga.gov/cgi-bin/tsearch?artistid=23988\n/web/20121007172955/https://www.nga.gov/cgi-bin/tsearch?artistid=8232\n/web/20121007172955/https://www.nga.gov/cgi-bin/tsearch?artistid=34154\n/web/20121007172955/https://www.nga.gov/cgi-bin/tsearch?artistid=4910\n/web/20121007172955/https://www.nga.gov/cgi-bin/tsearch?artistid=3450\n/web/20121007172955/https://www.nga.gov/cgi-bin/tsearch?artistid=1986\n/web/20121007172955/https://www.nga.gov/cgi-bin/tsearch?artistid=3451\n/web/20121007172955/https://www.nga.gov/cgi-bin/tsearch?artistid=20099\n/web/20121007172955/https://www.nga.gov/cgi-bin/tsearch?artistid=3452\n/web/20121007172955/https://www.nga.gov/cgi-bin/tsearch?artistid=34309\n/web/20121007172955/https://www.nga.gov/cgi-bin/tsearch?artistid=27191\n/web/20121007172955/https://www.nga.gov/cgi-bin/tsearch?artistid=5846\n/web/20121007172955/https://www.nga.gov/cgi-bin/tsearch?artistid=3941\n/web/20121007172955/https://www.nga.gov/cgi-bin/tsearch?artistid=3941\n/web/20121007172955/https://www.nga.gov/cgi-bin/tsearch?artistid=3453\n/web/20121007172955/https://www.nga.gov/cgi-bin/tsearch?artistid=35173\n/web/20121007172955/https://www.nga.gov/cgi-bin/tsearch?artistid=11133\n/web/20121007172955/https://www.nga.gov/cgi-bin/tsearch?artistid=3455\n/web/20121007172955/https://www.nga.gov/cgi-bin/tsearch?artistid=3454\n/web/20121007172955/https://www.nga.gov/cgi-bin/tsearch?artistid=961\n/web/20121007172955/https://www.nga.gov/cgi-bin/tsearch?artistid=11597\n/web/20121007172955/https://www.nga.gov/cgi-bin/tsearch?artistid=11597\n/web/20121007172955/https://www.nga.gov/cgi-bin/tsearch?artistid=11631\n/web/20121007172955/https://www.nga.gov/cgi-bin/tsearch?artistid=3427\n/web/20121007172955/https://www.nga.gov/collection/anZ2.htm\n/web/20121007172955/https://www.nga.gov/collection/anZ3.htm\n/web/20121007172955/https://www.nga.gov/collection/anZ4.htm\n"
     ]
    }
   ],
   "source": [
    "# Create for loop to print out all artists' links\n",
    "for artist_name in artist_name_list_items:\n",
    "    link = artist_name.get('href')\n",
    "    print(link)"
   ]
  },
  {
   "cell_type": "code",
   "execution_count": 20,
   "metadata": {
    "tags": []
   },
   "outputs": [
    {
     "output_type": "stream",
     "name": "stdout",
     "text": [
      "https://web.archive.org/web/20121007172955/https://www.nga.gov/cgi-bin/tsearch?artistid=11630\nhttps://web.archive.org/web/20121007172955/https://www.nga.gov/cgi-bin/tsearch?artistid=34202\nhttps://web.archive.org/web/20121007172955/https://www.nga.gov/cgi-bin/tsearch?artistid=3475\nhttps://web.archive.org/web/20121007172955/https://www.nga.gov/cgi-bin/tsearch?artistid=25135\nhttps://web.archive.org/web/20121007172955/https://www.nga.gov/cgi-bin/tsearch?artistid=2298\nhttps://web.archive.org/web/20121007172955/https://www.nga.gov/cgi-bin/tsearch?artistid=23988\nhttps://web.archive.org/web/20121007172955/https://www.nga.gov/cgi-bin/tsearch?artistid=8232\nhttps://web.archive.org/web/20121007172955/https://www.nga.gov/cgi-bin/tsearch?artistid=34154\nhttps://web.archive.org/web/20121007172955/https://www.nga.gov/cgi-bin/tsearch?artistid=4910\nhttps://web.archive.org/web/20121007172955/https://www.nga.gov/cgi-bin/tsearch?artistid=3450\nhttps://web.archive.org/web/20121007172955/https://www.nga.gov/cgi-bin/tsearch?artistid=1986\nhttps://web.archive.org/web/20121007172955/https://www.nga.gov/cgi-bin/tsearch?artistid=3451\nhttps://web.archive.org/web/20121007172955/https://www.nga.gov/cgi-bin/tsearch?artistid=20099\nhttps://web.archive.org/web/20121007172955/https://www.nga.gov/cgi-bin/tsearch?artistid=3452\nhttps://web.archive.org/web/20121007172955/https://www.nga.gov/cgi-bin/tsearch?artistid=34309\nhttps://web.archive.org/web/20121007172955/https://www.nga.gov/cgi-bin/tsearch?artistid=27191\nhttps://web.archive.org/web/20121007172955/https://www.nga.gov/cgi-bin/tsearch?artistid=5846\nhttps://web.archive.org/web/20121007172955/https://www.nga.gov/cgi-bin/tsearch?artistid=3941\nhttps://web.archive.org/web/20121007172955/https://www.nga.gov/cgi-bin/tsearch?artistid=3941\nhttps://web.archive.org/web/20121007172955/https://www.nga.gov/cgi-bin/tsearch?artistid=3453\nhttps://web.archive.org/web/20121007172955/https://www.nga.gov/cgi-bin/tsearch?artistid=35173\nhttps://web.archive.org/web/20121007172955/https://www.nga.gov/cgi-bin/tsearch?artistid=11133\nhttps://web.archive.org/web/20121007172955/https://www.nga.gov/cgi-bin/tsearch?artistid=3455\nhttps://web.archive.org/web/20121007172955/https://www.nga.gov/cgi-bin/tsearch?artistid=3454\nhttps://web.archive.org/web/20121007172955/https://www.nga.gov/cgi-bin/tsearch?artistid=961\nhttps://web.archive.org/web/20121007172955/https://www.nga.gov/cgi-bin/tsearch?artistid=11597\nhttps://web.archive.org/web/20121007172955/https://www.nga.gov/cgi-bin/tsearch?artistid=11597\nhttps://web.archive.org/web/20121007172955/https://www.nga.gov/cgi-bin/tsearch?artistid=11631\nhttps://web.archive.org/web/20121007172955/https://www.nga.gov/cgi-bin/tsearch?artistid=3427\nhttps://web.archive.org/web/20121007172955/https://www.nga.gov/collection/anZ2.htm\nhttps://web.archive.org/web/20121007172955/https://www.nga.gov/collection/anZ3.htm\nhttps://web.archive.org/web/20121007172955/https://www.nga.gov/collection/anZ4.htm\n"
     ]
    }
   ],
   "source": [
    "links = []\n",
    "\n",
    "# Create for loop to print out all artists' links well\n",
    "for artist_name in artist_name_list_items:\n",
    "    link = 'https://web.archive.org' + artist_name.get('href')\n",
    "    print(link)\n",
    "    links.append(link)\n"
   ]
  },
  {
   "cell_type": "code",
   "execution_count": 21,
   "metadata": {},
   "outputs": [
    {
     "output_type": "execute_result",
     "data": {
      "text/plain": [
       "{'Zabaglia, Niccola': 'https://web.archive.org/web/20121007172955/https://www.nga.gov/cgi-bin/tsearch?artistid=11630',\n",
       " 'Zaccone, Fabian': 'https://web.archive.org/web/20121007172955/https://www.nga.gov/cgi-bin/tsearch?artistid=34202',\n",
       " 'Zadkine, Ossip': 'https://web.archive.org/web/20121007172955/https://www.nga.gov/cgi-bin/tsearch?artistid=3475',\n",
       " 'Zaech, Bernhard': 'https://web.archive.org/web/20121007172955/https://www.nga.gov/cgi-bin/tsearch?artistid=25135',\n",
       " 'Zagar, Jacob': 'https://web.archive.org/web/20121007172955/https://www.nga.gov/cgi-bin/tsearch?artistid=2298',\n",
       " 'Zagroba, Idalia': 'https://web.archive.org/web/20121007172955/https://www.nga.gov/cgi-bin/tsearch?artistid=23988',\n",
       " 'Zaidenberg, A.': 'https://web.archive.org/web/20121007172955/https://www.nga.gov/cgi-bin/tsearch?artistid=8232',\n",
       " 'Zaidenberg, Arthur': 'https://web.archive.org/web/20121007172955/https://www.nga.gov/cgi-bin/tsearch?artistid=34154',\n",
       " 'Zaisinger, Matthäus': 'https://web.archive.org/web/20121007172955/https://www.nga.gov/cgi-bin/tsearch?artistid=4910',\n",
       " 'Zajac, Jack': 'https://web.archive.org/web/20121007172955/https://www.nga.gov/cgi-bin/tsearch?artistid=3450',\n",
       " 'Zak, Eugène': 'https://web.archive.org/web/20121007172955/https://www.nga.gov/cgi-bin/tsearch?artistid=1986',\n",
       " 'Zakharov, Gurii Fillipovich': 'https://web.archive.org/web/20121007172955/https://www.nga.gov/cgi-bin/tsearch?artistid=3451',\n",
       " 'Zakowortny, Igor': 'https://web.archive.org/web/20121007172955/https://www.nga.gov/cgi-bin/tsearch?artistid=20099',\n",
       " 'Zalce, Alfredo': 'https://web.archive.org/web/20121007172955/https://www.nga.gov/cgi-bin/tsearch?artistid=3452',\n",
       " 'Zalopany, Michele': 'https://web.archive.org/web/20121007172955/https://www.nga.gov/cgi-bin/tsearch?artistid=34309',\n",
       " 'Zammiello, Craig': 'https://web.archive.org/web/20121007172955/https://www.nga.gov/cgi-bin/tsearch?artistid=27191',\n",
       " 'Zammitt, Norman': 'https://web.archive.org/web/20121007172955/https://www.nga.gov/cgi-bin/tsearch?artistid=5846',\n",
       " 'Zampieri, Domenico': 'https://web.archive.org/web/20121007172955/https://www.nga.gov/cgi-bin/tsearch?artistid=3941',\n",
       " 'Zampieri, called Domenichino, Domenico': 'https://web.archive.org/web/20121007172955/https://www.nga.gov/cgi-bin/tsearch?artistid=3941',\n",
       " 'Zanartú, Enrique Antunez': 'https://web.archive.org/web/20121007172955/https://www.nga.gov/cgi-bin/tsearch?artistid=3453',\n",
       " 'Zanchi, Antonio': 'https://web.archive.org/web/20121007172955/https://www.nga.gov/cgi-bin/tsearch?artistid=35173',\n",
       " 'Zanetti, Anton Maria': 'https://web.archive.org/web/20121007172955/https://www.nga.gov/cgi-bin/tsearch?artistid=11133',\n",
       " 'Zanetti Borzino, Leopoldina': 'https://web.archive.org/web/20121007172955/https://www.nga.gov/cgi-bin/tsearch?artistid=3455',\n",
       " 'Zanetti I, Antonio Maria, conte': 'https://web.archive.org/web/20121007172955/https://www.nga.gov/cgi-bin/tsearch?artistid=3454',\n",
       " 'Zanguidi, Jacopo': 'https://web.archive.org/web/20121007172955/https://www.nga.gov/cgi-bin/tsearch?artistid=961',\n",
       " 'Zanini, Giuseppe': 'https://web.archive.org/web/20121007172955/https://www.nga.gov/cgi-bin/tsearch?artistid=11597',\n",
       " 'Zanini-Viola, Giuseppe': 'https://web.archive.org/web/20121007172955/https://www.nga.gov/cgi-bin/tsearch?artistid=11597',\n",
       " 'Zanotti, Giampietro': 'https://web.archive.org/web/20121007172955/https://www.nga.gov/cgi-bin/tsearch?artistid=11631',\n",
       " 'Zao Wou-Ki': 'https://web.archive.org/web/20121007172955/https://www.nga.gov/cgi-bin/tsearch?artistid=3427',\n",
       " 'Zas-Zie': 'https://web.archive.org/web/20121007172955/https://www.nga.gov/collection/anZ2.htm',\n",
       " 'Zie-Zor': 'https://web.archive.org/web/20121007172955/https://www.nga.gov/collection/anZ3.htm',\n",
       " <strong>next<br/>page</strong>: 'https://web.archive.org/web/20121007172955/https://www.nga.gov/collection/anZ4.htm'}"
      ]
     },
     "metadata": {},
     "execution_count": 21
    }
   ],
   "source": [
    "# Convertir a dict? \n",
    "\n",
    "artist_names_links = dict(zip(artist_names, links))\n",
    "artist_names_links"
   ]
  },
  {
   "cell_type": "code",
   "execution_count": 22,
   "metadata": {},
   "outputs": [
    {
     "output_type": "execute_result",
     "data": {
      "text/plain": [
       "                                      name  \\\n",
       "0                        Zabaglia, Niccola   \n",
       "1                          Zaccone, Fabian   \n",
       "2                           Zadkine, Ossip   \n",
       "3                          Zaech, Bernhard   \n",
       "4                             Zagar, Jacob   \n",
       "5                          Zagroba, Idalia   \n",
       "6                           Zaidenberg, A.   \n",
       "7                       Zaidenberg, Arthur   \n",
       "8                      Zaisinger, Matthäus   \n",
       "9                              Zajac, Jack   \n",
       "10                             Zak, Eugène   \n",
       "11             Zakharov, Gurii Fillipovich   \n",
       "12                        Zakowortny, Igor   \n",
       "13                          Zalce, Alfredo   \n",
       "14                       Zalopany, Michele   \n",
       "15                        Zammiello, Craig   \n",
       "16                         Zammitt, Norman   \n",
       "17                      Zampieri, Domenico   \n",
       "18  Zampieri, called Domenichino, Domenico   \n",
       "19                Zanartú, Enrique Antunez   \n",
       "20                         Zanchi, Antonio   \n",
       "21                    Zanetti, Anton Maria   \n",
       "22             Zanetti Borzino, Leopoldina   \n",
       "23         Zanetti I, Antonio Maria, conte   \n",
       "24                        Zanguidi, Jacopo   \n",
       "25                        Zanini, Giuseppe   \n",
       "26                  Zanini-Viola, Giuseppe   \n",
       "27                     Zanotti, Giampietro   \n",
       "28                              Zao Wou-Ki   \n",
       "29                                 Zas-Zie   \n",
       "30                                 Zie-Zor   \n",
       "31                        [next, [], page]   \n",
       "\n",
       "                                                 link  \n",
       "0   https://web.archive.org/web/20121007172955/htt...  \n",
       "1   https://web.archive.org/web/20121007172955/htt...  \n",
       "2   https://web.archive.org/web/20121007172955/htt...  \n",
       "3   https://web.archive.org/web/20121007172955/htt...  \n",
       "4   https://web.archive.org/web/20121007172955/htt...  \n",
       "5   https://web.archive.org/web/20121007172955/htt...  \n",
       "6   https://web.archive.org/web/20121007172955/htt...  \n",
       "7   https://web.archive.org/web/20121007172955/htt...  \n",
       "8   https://web.archive.org/web/20121007172955/htt...  \n",
       "9   https://web.archive.org/web/20121007172955/htt...  \n",
       "10  https://web.archive.org/web/20121007172955/htt...  \n",
       "11  https://web.archive.org/web/20121007172955/htt...  \n",
       "12  https://web.archive.org/web/20121007172955/htt...  \n",
       "13  https://web.archive.org/web/20121007172955/htt...  \n",
       "14  https://web.archive.org/web/20121007172955/htt...  \n",
       "15  https://web.archive.org/web/20121007172955/htt...  \n",
       "16  https://web.archive.org/web/20121007172955/htt...  \n",
       "17  https://web.archive.org/web/20121007172955/htt...  \n",
       "18  https://web.archive.org/web/20121007172955/htt...  \n",
       "19  https://web.archive.org/web/20121007172955/htt...  \n",
       "20  https://web.archive.org/web/20121007172955/htt...  \n",
       "21  https://web.archive.org/web/20121007172955/htt...  \n",
       "22  https://web.archive.org/web/20121007172955/htt...  \n",
       "23  https://web.archive.org/web/20121007172955/htt...  \n",
       "24  https://web.archive.org/web/20121007172955/htt...  \n",
       "25  https://web.archive.org/web/20121007172955/htt...  \n",
       "26  https://web.archive.org/web/20121007172955/htt...  \n",
       "27  https://web.archive.org/web/20121007172955/htt...  \n",
       "28  https://web.archive.org/web/20121007172955/htt...  \n",
       "29  https://web.archive.org/web/20121007172955/htt...  \n",
       "30  https://web.archive.org/web/20121007172955/htt...  \n",
       "31  https://web.archive.org/web/20121007172955/htt...  "
      ],
      "text/html": "<div>\n<style scoped>\n    .dataframe tbody tr th:only-of-type {\n        vertical-align: middle;\n    }\n\n    .dataframe tbody tr th {\n        vertical-align: top;\n    }\n\n    .dataframe thead th {\n        text-align: right;\n    }\n</style>\n<table border=\"1\" class=\"dataframe\">\n  <thead>\n    <tr style=\"text-align: right;\">\n      <th></th>\n      <th>name</th>\n      <th>link</th>\n    </tr>\n  </thead>\n  <tbody>\n    <tr>\n      <th>0</th>\n      <td>Zabaglia, Niccola</td>\n      <td>https://web.archive.org/web/20121007172955/htt...</td>\n    </tr>\n    <tr>\n      <th>1</th>\n      <td>Zaccone, Fabian</td>\n      <td>https://web.archive.org/web/20121007172955/htt...</td>\n    </tr>\n    <tr>\n      <th>2</th>\n      <td>Zadkine, Ossip</td>\n      <td>https://web.archive.org/web/20121007172955/htt...</td>\n    </tr>\n    <tr>\n      <th>3</th>\n      <td>Zaech, Bernhard</td>\n      <td>https://web.archive.org/web/20121007172955/htt...</td>\n    </tr>\n    <tr>\n      <th>4</th>\n      <td>Zagar, Jacob</td>\n      <td>https://web.archive.org/web/20121007172955/htt...</td>\n    </tr>\n    <tr>\n      <th>5</th>\n      <td>Zagroba, Idalia</td>\n      <td>https://web.archive.org/web/20121007172955/htt...</td>\n    </tr>\n    <tr>\n      <th>6</th>\n      <td>Zaidenberg, A.</td>\n      <td>https://web.archive.org/web/20121007172955/htt...</td>\n    </tr>\n    <tr>\n      <th>7</th>\n      <td>Zaidenberg, Arthur</td>\n      <td>https://web.archive.org/web/20121007172955/htt...</td>\n    </tr>\n    <tr>\n      <th>8</th>\n      <td>Zaisinger, Matthäus</td>\n      <td>https://web.archive.org/web/20121007172955/htt...</td>\n    </tr>\n    <tr>\n      <th>9</th>\n      <td>Zajac, Jack</td>\n      <td>https://web.archive.org/web/20121007172955/htt...</td>\n    </tr>\n    <tr>\n      <th>10</th>\n      <td>Zak, Eugène</td>\n      <td>https://web.archive.org/web/20121007172955/htt...</td>\n    </tr>\n    <tr>\n      <th>11</th>\n      <td>Zakharov, Gurii Fillipovich</td>\n      <td>https://web.archive.org/web/20121007172955/htt...</td>\n    </tr>\n    <tr>\n      <th>12</th>\n      <td>Zakowortny, Igor</td>\n      <td>https://web.archive.org/web/20121007172955/htt...</td>\n    </tr>\n    <tr>\n      <th>13</th>\n      <td>Zalce, Alfredo</td>\n      <td>https://web.archive.org/web/20121007172955/htt...</td>\n    </tr>\n    <tr>\n      <th>14</th>\n      <td>Zalopany, Michele</td>\n      <td>https://web.archive.org/web/20121007172955/htt...</td>\n    </tr>\n    <tr>\n      <th>15</th>\n      <td>Zammiello, Craig</td>\n      <td>https://web.archive.org/web/20121007172955/htt...</td>\n    </tr>\n    <tr>\n      <th>16</th>\n      <td>Zammitt, Norman</td>\n      <td>https://web.archive.org/web/20121007172955/htt...</td>\n    </tr>\n    <tr>\n      <th>17</th>\n      <td>Zampieri, Domenico</td>\n      <td>https://web.archive.org/web/20121007172955/htt...</td>\n    </tr>\n    <tr>\n      <th>18</th>\n      <td>Zampieri, called Domenichino, Domenico</td>\n      <td>https://web.archive.org/web/20121007172955/htt...</td>\n    </tr>\n    <tr>\n      <th>19</th>\n      <td>Zanartú, Enrique Antunez</td>\n      <td>https://web.archive.org/web/20121007172955/htt...</td>\n    </tr>\n    <tr>\n      <th>20</th>\n      <td>Zanchi, Antonio</td>\n      <td>https://web.archive.org/web/20121007172955/htt...</td>\n    </tr>\n    <tr>\n      <th>21</th>\n      <td>Zanetti, Anton Maria</td>\n      <td>https://web.archive.org/web/20121007172955/htt...</td>\n    </tr>\n    <tr>\n      <th>22</th>\n      <td>Zanetti Borzino, Leopoldina</td>\n      <td>https://web.archive.org/web/20121007172955/htt...</td>\n    </tr>\n    <tr>\n      <th>23</th>\n      <td>Zanetti I, Antonio Maria, conte</td>\n      <td>https://web.archive.org/web/20121007172955/htt...</td>\n    </tr>\n    <tr>\n      <th>24</th>\n      <td>Zanguidi, Jacopo</td>\n      <td>https://web.archive.org/web/20121007172955/htt...</td>\n    </tr>\n    <tr>\n      <th>25</th>\n      <td>Zanini, Giuseppe</td>\n      <td>https://web.archive.org/web/20121007172955/htt...</td>\n    </tr>\n    <tr>\n      <th>26</th>\n      <td>Zanini-Viola, Giuseppe</td>\n      <td>https://web.archive.org/web/20121007172955/htt...</td>\n    </tr>\n    <tr>\n      <th>27</th>\n      <td>Zanotti, Giampietro</td>\n      <td>https://web.archive.org/web/20121007172955/htt...</td>\n    </tr>\n    <tr>\n      <th>28</th>\n      <td>Zao Wou-Ki</td>\n      <td>https://web.archive.org/web/20121007172955/htt...</td>\n    </tr>\n    <tr>\n      <th>29</th>\n      <td>Zas-Zie</td>\n      <td>https://web.archive.org/web/20121007172955/htt...</td>\n    </tr>\n    <tr>\n      <th>30</th>\n      <td>Zie-Zor</td>\n      <td>https://web.archive.org/web/20121007172955/htt...</td>\n    </tr>\n    <tr>\n      <th>31</th>\n      <td>[next, [], page]</td>\n      <td>https://web.archive.org/web/20121007172955/htt...</td>\n    </tr>\n  </tbody>\n</table>\n</div>"
     },
     "metadata": {},
     "execution_count": 22
    }
   ],
   "source": [
    "# Convertir a diccionario para trabajar con DataFrame?\n",
    "dict_df = {\"name\": artist_names, \"link\": links}\n",
    "df = pd.DataFrame(dict_df)\n",
    "df"
   ]
  },
  {
   "cell_type": "markdown",
   "metadata": {},
   "source": [
    "### Funny bonus"
   ]
  },
  {
   "cell_type": "code",
   "execution_count": 23,
   "metadata": {},
   "outputs": [
    {
     "output_type": "execute_result",
     "data": {
      "text/plain": [
       "True"
      ]
     },
     "metadata": {},
     "execution_count": 23
    }
   ],
   "source": [
    "import webbrowser\n",
    "\n",
    "webbrowser.open_new(\"www.google.es\")"
   ]
  },
  {
   "cell_type": "code",
   "execution_count": null,
   "metadata": {},
   "outputs": [],
   "source": [
    "def mini_virus(urls):\n",
    "    for _ in urls:\n",
    "        webbrowser.open_new(_)"
   ]
  },
  {
   "cell_type": "code",
   "execution_count": null,
   "metadata": {},
   "outputs": [],
   "source": [
    "# :D \n",
    "mini_virus(urls=links)"
   ]
  },
  {
   "cell_type": "markdown",
   "metadata": {},
   "source": [
    "### Example wikipedia Links:\n",
    "\n",
    "**Create a list of links on that page**\n"
   ]
  },
  {
   "cell_type": "code",
   "execution_count": 25,
   "metadata": {
    "tags": [
     "outputPrepend"
    ]
   },
   "outputs": [
    {
     "output_type": "stream",
     "name": "stdout",
     "text": [
      " by Wikidata [g]\">\n         Wikidata item\n        </a>\n       </li>\n      </ul>\n     </div>\n    </nav>\n    <!-- Please do not use role attribute as CSS selector, it is deprecated. -->\n    <nav aria-labelledby=\"p-coll-print_export-label\" class=\"mw-portlet mw-portlet-coll-print_export vector-menu vector-menu-portal portal\" id=\"p-coll-print_export\" role=\"navigation\">\n     <h3 id=\"p-coll-print_export-label\">\n      <span>\n       Print/export\n      </span>\n     </h3>\n     <div class=\"vector-menu-content\">\n      <ul class=\"vector-menu-content-list\">\n       <li id=\"coll-download-as-rl\">\n        <a href=\"/w/index.php?title=Special:DownloadAsPdf&amp;page=Python&amp;action=show-download-screen\" title=\"Download this page as a PDF file\">\n         Download as PDF\n        </a>\n       </li>\n       <li id=\"t-print\">\n        <a accesskey=\"p\" href=\"/w/index.php?title=Python&amp;printable=yes\" title=\"Printable version of this page [p]\">\n         Printable version\n        </a>\n       </li>\n      </ul>\n     </div>\n    </nav>\n    <!-- Please do not use role attribute as CSS selector, it is deprecated. -->\n    <nav aria-labelledby=\"p-wikibase-otherprojects-label\" class=\"mw-portlet mw-portlet-wikibase-otherprojects vector-menu vector-menu-portal portal\" id=\"p-wikibase-otherprojects\" role=\"navigation\">\n     <h3 id=\"p-wikibase-otherprojects-label\">\n      <span>\n       In other projects\n      </span>\n     </h3>\n     <div class=\"vector-menu-content\">\n      <ul class=\"vector-menu-content-list\">\n       <li class=\"wb-otherproject-link wb-otherproject-commons\">\n        <a href=\"https://commons.wikimedia.org/wiki/Category:Python\" hreflang=\"en\">\n         Wikimedia Commons\n        </a>\n       </li>\n      </ul>\n     </div>\n    </nav>\n    <!-- Please do not use role attribute as CSS selector, it is deprecated. -->\n    <nav aria-labelledby=\"p-lang-label\" class=\"mw-portlet mw-portlet-lang vector-menu vector-menu-portal portal\" id=\"p-lang\" role=\"navigation\">\n     <h3 id=\"p-lang-label\">\n      <span>\n       Languages\n      </span>\n     </h3>\n     <div class=\"vector-menu-content\">\n      <ul class=\"vector-menu-content-list\">\n       <li class=\"interlanguage-link interwiki-af\">\n        <a class=\"interlanguage-link-target\" href=\"https://af.wikipedia.org/wiki/Python\" hreflang=\"af\" lang=\"af\" title=\"Python – Afrikaans\">\n         Afrikaans\n        </a>\n       </li>\n       <li class=\"interlanguage-link interwiki-als\">\n        <a class=\"interlanguage-link-target\" href=\"https://als.wikipedia.org/wiki/Python\" hreflang=\"gsw\" lang=\"gsw\" title=\"Python – Alemannisch\">\n         Alemannisch\n        </a>\n       </li>\n       <li class=\"interlanguage-link interwiki-ar\">\n        <a class=\"interlanguage-link-target\" href=\"https://ar.wikipedia.org/wiki/%D8%A8%D8%A7%D9%8A%D8%AB%D9%88%D9%86_(%D8%AA%D9%88%D8%B6%D9%8A%D8%AD)\" hreflang=\"ar\" lang=\"ar\" title=\"بايثون (توضيح) – Arabic\">\n         العربية\n        </a>\n       </li>\n       <li class=\"interlanguage-link interwiki-az\">\n        <a class=\"interlanguage-link-target\" href=\"https://az.wikipedia.org/wiki/Python\" hreflang=\"az\" lang=\"az\" title=\"Python – Azerbaijani\">\n         Azərbaycanca\n        </a>\n       </li>\n       <li class=\"interlanguage-link interwiki-bn\">\n        <a class=\"interlanguage-link-target\" href=\"https://bn.wikipedia.org/wiki/%E0%A6%AA%E0%A6%BE%E0%A6%87%E0%A6%A5%E0%A6%A8_(%E0%A6%A6%E0%A7%8D%E0%A6%AC%E0%A7%8D%E0%A6%AF%E0%A6%B0%E0%A7%8D%E0%A6%A5%E0%A6%A4%E0%A6%BE_%E0%A6%A8%E0%A6%BF%E0%A6%B0%E0%A6%B8%E0%A6%A8)\" hreflang=\"bn\" lang=\"bn\" title=\"পাইথন (দ্ব্যর্থতা নিরসন) – Bangla\">\n         বাংলা\n        </a>\n       </li>\n       <li class=\"interlanguage-link interwiki-be\">\n        <a class=\"interlanguage-link-target\" href=\"https://be.wikipedia.org/wiki/Python\" hreflang=\"be\" lang=\"be\" title=\"Python – Belarusian\">\n         Беларуская\n        </a>\n       </li>\n       <li class=\"interlanguage-link interwiki-bg\">\n        <a class=\"interlanguage-link-target\" href=\"https://bg.wikipedia.org/wiki/%D0%9F%D0%B8%D1%82%D0%BE%D0%BD_(%D0%BF%D0%BE%D1%8F%D1%81%D0%BD%D0%B5%D0%BD%D0%B8%D0%B5)\" hreflang=\"bg\" lang=\"bg\" title=\"Питон (пояснение) – Bulgarian\">\n         Български\n        </a>\n       </li>\n       <li class=\"interlanguage-link interwiki-cs\">\n        <a class=\"interlanguage-link-target\" href=\"https://cs.wikipedia.org/wiki/Python_(rozcestn%C3%ADk)\" hreflang=\"cs\" lang=\"cs\" title=\"Python (rozcestník) – Czech\">\n         Čeština\n        </a>\n       </li>\n       <li class=\"interlanguage-link interwiki-da\">\n        <a class=\"interlanguage-link-target\" href=\"https://da.wikipedia.org/wiki/Python\" hreflang=\"da\" lang=\"da\" title=\"Python – Danish\">\n         Dansk\n        </a>\n       </li>\n       <li class=\"interlanguage-link interwiki-de\">\n        <a class=\"interlanguage-link-target\" href=\"https://de.wikipedia.org/wiki/Python\" hreflang=\"de\" lang=\"de\" title=\"Python – German\">\n         Deutsch\n        </a>\n       </li>\n       <li class=\"interlanguage-link interwiki-eo\">\n        <a class=\"interlanguage-link-target\" href=\"https://eo.wikipedia.org/wiki/Pitono_(apartigilo)\" hreflang=\"eo\" lang=\"eo\" title=\"Pitono (apartigilo) – Esperanto\">\n         Esperanto\n        </a>\n       </li>\n       <li class=\"interlanguage-link interwiki-eu\">\n        <a class=\"interlanguage-link-target\" href=\"https://eu.wikipedia.org/wiki/Python_(argipena)\" hreflang=\"eu\" lang=\"eu\" title=\"Python (argipena) – Basque\">\n         Euskara\n        </a>\n       </li>\n       <li class=\"interlanguage-link interwiki-fa\">\n        <a class=\"interlanguage-link-target\" href=\"https://fa.wikipedia.org/wiki/%D9%BE%D8%A7%DB%8C%D8%AA%D9%88%D9%86\" hreflang=\"fa\" lang=\"fa\" title=\"پایتون – Persian\">\n         فارسی\n        </a>\n       </li>\n       <li class=\"interlanguage-link interwiki-fr\">\n        <a class=\"interlanguage-link-target\" href=\"https://fr.wikipedia.org/wiki/Python\" hreflang=\"fr\" lang=\"fr\" title=\"Python – French\">\n         Français\n        </a>\n       </li>\n       <li class=\"interlanguage-link interwiki-ko\">\n        <a class=\"interlanguage-link-target\" href=\"https://ko.wikipedia.org/wiki/%ED%8C%8C%EC%9D%B4%EC%84%A0\" hreflang=\"ko\" lang=\"ko\" title=\"파이선 – Korean\">\n         한국어\n        </a>\n       </li>\n       <li class=\"interlanguage-link interwiki-hr\">\n        <a class=\"interlanguage-link-target\" href=\"https://hr.wikipedia.org/wiki/Python_(razdvojba)\" hreflang=\"hr\" lang=\"hr\" title=\"Python (razdvojba) – Croatian\">\n         Hrvatski\n        </a>\n       </li>\n       <li class=\"interlanguage-link interwiki-io\">\n        <a class=\"interlanguage-link-target\" href=\"https://io.wikipedia.org/wiki/Pitono\" hreflang=\"io\" lang=\"io\" title=\"Pitono – Ido\">\n         Ido\n        </a>\n       </li>\n       <li class=\"interlanguage-link interwiki-id\">\n        <a class=\"interlanguage-link-target\" href=\"https://id.wikipedia.org/wiki/Python\" hreflang=\"id\" lang=\"id\" title=\"Python – Indonesian\">\n         Bahasa Indonesia\n        </a>\n       </li>\n       <li class=\"interlanguage-link interwiki-ia\">\n        <a class=\"interlanguage-link-target\" href=\"https://ia.wikipedia.org/wiki/Python_(disambiguation)\" hreflang=\"ia\" lang=\"ia\" title=\"Python (disambiguation) – Interlingua\">\n         Interlingua\n        </a>\n       </li>\n       <li class=\"interlanguage-link interwiki-is\">\n        <a class=\"interlanguage-link-target\" href=\"https://is.wikipedia.org/wiki/Python_(a%C3%B0greining)\" hreflang=\"is\" lang=\"is\" title=\"Python (aðgreining) – Icelandic\">\n         Íslenska\n        </a>\n       </li>\n       <li class=\"interlanguage-link interwiki-it\">\n        <a class=\"interlanguage-link-target\" href=\"https://it.wikipedia.org/wiki/Python_(disambigua)\" hreflang=\"it\" lang=\"it\" title=\"Python (disambigua) – Italian\">\n         Italiano\n        </a>\n       </li>\n       <li class=\"interlanguage-link interwiki-he\">\n        <a class=\"interlanguage-link-target\" href=\"https://he.wikipedia.org/wiki/%D7%A4%D7%99%D7%AA%D7%95%D7%9F\" hreflang=\"he\" lang=\"he\" title=\"פיתון – Hebrew\">\n         עברית\n        </a>\n       </li>\n       <li class=\"interlanguage-link interwiki-ka\">\n        <a class=\"interlanguage-link-target\" href=\"https://ka.wikipedia.org/wiki/%E1%83%9E%E1%83%98%E1%83%97%E1%83%9D%E1%83%9C%E1%83%98_(%E1%83%9B%E1%83%A0%E1%83%90%E1%83%95%E1%83%90%E1%83%9A%E1%83%9B%E1%83%9C%E1%83%98%E1%83%A8%E1%83%95%E1%83%9C%E1%83%94%E1%83%9A%E1%83%9D%E1%83%95%E1%83%90%E1%83%9C%E1%83%98)\" hreflang=\"ka\" lang=\"ka\" title=\"პითონი (მრავალმნიშვნელოვანი) – Georgian\">\n         ქართული\n        </a>\n       </li>\n       <li class=\"interlanguage-link interwiki-kg\">\n        <a class=\"interlanguage-link-target\" href=\"https://kg.wikipedia.org/wiki/Mboma_(nyoka)\" hreflang=\"kg\" lang=\"kg\" title=\"Mboma (nyoka) – Kongo\">\n         Kongo\n        </a>\n       </li>\n       <li class=\"interlanguage-link interwiki-la\">\n        <a class=\"interlanguage-link-target\" href=\"https://la.wikipedia.org/wiki/Python_(discretiva)\" hreflang=\"la\" lang=\"la\" title=\"Python (discretiva) – Latin\">\n         Latina\n        </a>\n       </li>\n       <li class=\"interlanguage-link interwiki-lb\">\n        <a class=\"interlanguage-link-target\" href=\"https://lb.wikipedia.org/wiki/Python\" hreflang=\"lb\" lang=\"lb\" title=\"Python – Luxembourgish\">\n         Lëtzebuergesch\n        </a>\n       </li>\n       <li class=\"interlanguage-link interwiki-hu\">\n        <a class=\"interlanguage-link-target\" href=\"https://hu.wikipedia.org/wiki/Python_(egy%C3%A9rtelm%C5%B1s%C3%ADt%C5%91_lap)\" hreflang=\"hu\" lang=\"hu\" title=\"Python (egyértelműsítő lap) – Hungarian\">\n         Magyar\n        </a>\n       </li>\n       <li class=\"interlanguage-link interwiki-mr\">\n        <a class=\"interlanguage-link-target\" href=\"https://mr.wikipedia.org/wiki/%E0%A4%AA%E0%A4%BE%E0%A4%AF%E0%A4%A5%E0%A5%89%E0%A4%A8_(%E0%A4%86%E0%A4%9C%E0%A5%8D%E0%A4%9E%E0%A4%BE%E0%A4%B5%E0%A4%B2%E0%A5%80_%E0%A4%AD%E0%A4%BE%E0%A4%B7%E0%A4%BE)\" hreflang=\"mr\" lang=\"mr\" title=\"पायथॉन (आज्ञावली भाषा) – Marathi\">\n         मराठी\n        </a>\n       </li>\n       <li class=\"interlanguage-link interwiki-nl\">\n        <a class=\"interlanguage-link-target\" href=\"https://nl.wikipedia.org/wiki/Python\" hreflang=\"nl\" lang=\"nl\" title=\"Python – Dutch\">\n         Nederlands\n        </a>\n       </li>\n       <li class=\"interlanguage-link interwiki-ja\">\n        <a class=\"interlanguage-link-target\" href=\"https://ja.wikipedia.org/wiki/%E3%83%91%E3%82%A4%E3%82%BD%E3%83%B3\" hreflang=\"ja\" lang=\"ja\" title=\"パイソン – Japanese\">\n         日本語\n        </a>\n       </li>\n       <li class=\"interlanguage-link interwiki-no\">\n        <a class=\"interlanguage-link-target\" href=\"https://no.wikipedia.org/wiki/Pyton\" hreflang=\"nb\" lang=\"nb\" title=\"Pyton – Norwegian Bokmål\">\n         Norsk bokmål\n        </a>\n       </li>\n       <li class=\"interlanguage-link interwiki-pl\">\n        <a class=\"interlanguage-link-target\" href=\"https://pl.wikipedia.org/wiki/Pyton\" hreflang=\"pl\" lang=\"pl\" title=\"Pyton – Polish\">\n         Polski\n        </a>\n       </li>\n       <li class=\"interlanguage-link interwiki-pt\">\n        <a class=\"interlanguage-link-target\" href=\"https://pt.wikipedia.org/wiki/Python_(desambigua%C3%A7%C3%A3o)\" hreflang=\"pt\" lang=\"pt\" title=\"Python (desambiguação) – Portuguese\">\n         Português\n        </a>\n       </li>\n       <li class=\"interlanguage-link interwiki-ru\">\n        <a class=\"interlanguage-link-target\" href=\"https://ru.wikipedia.org/wiki/Python_(%D0%B7%D0%BD%D0%B0%D1%87%D0%B5%D0%BD%D0%B8%D1%8F)\" hreflang=\"ru\" lang=\"ru\" title=\"Python (значения) – Russian\">\n         Русский\n        </a>\n       </li>\n       <li class=\"interlanguage-link interwiki-sk\">\n        <a class=\"interlanguage-link-target\" href=\"https://sk.wikipedia.org/wiki/Python\" hreflang=\"sk\" lang=\"sk\" title=\"Python – Slovak\">\n         Slovenčina\n        </a>\n       </li>\n       <li class=\"interlanguage-link interwiki-sr\">\n        <a class=\"interlanguage-link-target\" href=\"https://sr.wikipedia.org/wiki/%D0%9F%D0%B8%D1%82%D0%BE%D0%BD_(%D0%B2%D0%B8%D1%88%D0%B5%D0%B7%D0%BD%D0%B0%D1%87%D0%BD%D0%B0_%D0%BE%D0%B4%D1%80%D0%B5%D0%B4%D0%BD%D0%B8%D1%86%D0%B0)\" hreflang=\"sr\" lang=\"sr\" title=\"Питон (вишезначна одредница) – Serbian\">\n         Српски / srpski\n        </a>\n       </li>\n       <li class=\"interlanguage-link interwiki-sh\">\n        <a class=\"interlanguage-link-target\" href=\"https://sh.wikipedia.org/wiki/Python\" hreflang=\"sh\" lang=\"sh\" title=\"Python – Serbo-Croatian\">\n         Srpskohrvatski / српскохрватски\n        </a>\n       </li>\n       <li class=\"interlanguage-link interwiki-fi\">\n        <a class=\"interlanguage-link-target\" href=\"https://fi.wikipedia.org/wiki/Python\" hreflang=\"fi\" lang=\"fi\" title=\"Python – Finnish\">\n         Suomi\n        </a>\n       </li>\n       <li class=\"interlanguage-link interwiki-sv\">\n        <a class=\"interlanguage-link-target\" href=\"https://sv.wikipedia.org/wiki/Pyton\" hreflang=\"sv\" lang=\"sv\" title=\"Pyton – Swedish\">\n         Svenska\n        </a>\n       </li>\n       <li class=\"interlanguage-link interwiki-th\">\n        <a class=\"interlanguage-link-target\" href=\"https://th.wikipedia.org/wiki/%E0%B9%84%E0%B8%9E%E0%B8%97%E0%B8%AD%E0%B8%99\" hreflang=\"th\" lang=\"th\" title=\"ไพทอน – Thai\">\n         ไทย\n        </a>\n       </li>\n       <li class=\"interlanguage-link interwiki-tr\">\n        <a class=\"interlanguage-link-target\" href=\"https://tr.wikipedia.org/wiki/Python\" hreflang=\"tr\" lang=\"tr\" title=\"Python – Turkish\">\n         Türkçe\n        </a>\n       </li>\n       <li class=\"interlanguage-link interwiki-uk\">\n        <a class=\"interlanguage-link-target\" href=\"https://uk.wikipedia.org/wiki/%D0%9F%D1%96%D1%84%D0%BE%D0%BD\" hreflang=\"uk\" lang=\"uk\" title=\"Піфон – Ukrainian\">\n         Українська\n        </a>\n       </li>\n       <li class=\"interlanguage-link interwiki-ur\">\n        <a class=\"interlanguage-link-target\" href=\"https://ur.wikipedia.org/wiki/%D9%BE%D8%A7%D8%A6%DB%8C%D8%AA%DA%BE%D9%88%D9%86\" hreflang=\"ur\" lang=\"ur\" title=\"پائیتھون – Urdu\">\n         اردو\n        </a>\n       </li>\n       <li class=\"interlanguage-link interwiki-vi\">\n        <a class=\"interlanguage-link-target\" href=\"https://vi.wikipedia.org/wiki/Python\" hreflang=\"vi\" lang=\"vi\" title=\"Python – Vietnamese\">\n         Tiếng Việt\n        </a>\n       </li>\n       <li class=\"interlanguage-link interwiki-zh\">\n        <a class=\"interlanguage-link-target\" href=\"https://zh.wikipedia.org/wiki/Python_(%E6%B6%88%E6%AD%A7%E4%B9%89)\" hreflang=\"zh\" lang=\"zh\" title=\"Python (消歧义) – Chinese\">\n         中文\n        </a>\n       </li>\n      </ul>\n      <div class=\"after-portlet after-portlet-lang\">\n       <span class=\"wb-langlinks-edit wb-langlinks-link\">\n        <a class=\"wbc-editpage\" href=\"https://www.wikidata.org/wiki/Special:EntityPage/Q747452#sitelinks-wikipedia\" title=\"Edit interlanguage links\">\n         Edit links\n        </a>\n       </span>\n      </div>\n     </div>\n    </nav>\n   </div>\n  </div>\n  <footer class=\"mw-footer\" id=\"footer\" role=\"contentinfo\">\n   <ul id=\"footer-info\">\n    <li id=\"footer-info-lastmod\">\n     This page was last edited on 11 December 2020, at 12:08\n     <span class=\"anonymous-show\">\n      (UTC)\n     </span>\n     .\n    </li>\n    <li id=\"footer-info-copyright\">\n     Text is available under the\n     <a href=\"//en.wikipedia.org/wiki/Wikipedia:Text_of_Creative_Commons_Attribution-ShareAlike_3.0_Unported_License\" rel=\"license\">\n      Creative Commons Attribution-ShareAlike License\n     </a>\n     <a href=\"//creativecommons.org/licenses/by-sa/3.0/\" rel=\"license\" style=\"display:none;\">\n     </a>\n     ;\nadditional terms may apply.  By using this site, you agree to the\n     <a href=\"//foundation.wikimedia.org/wiki/Terms_of_Use\">\n      Terms of Use\n     </a>\n     and\n     <a href=\"//foundation.wikimedia.org/wiki/Privacy_policy\">\n      Privacy Policy\n     </a>\n     . Wikipedia® is a registered trademark of the\n     <a href=\"//www.wikimediafoundation.org/\">\n      Wikimedia Foundation, Inc.\n     </a>\n     , a non-profit organization.\n    </li>\n   </ul>\n   <ul id=\"footer-places\">\n    <li id=\"footer-places-privacy\">\n     <a class=\"extiw\" href=\"https://foundation.wikimedia.org/wiki/Privacy_policy\" title=\"wmf:Privacy policy\">\n      Privacy policy\n     </a>\n    </li>\n    <li id=\"footer-places-about\">\n     <a href=\"/wiki/Wikipedia:About\" title=\"Wikipedia:About\">\n      About Wikipedia\n     </a>\n    </li>\n    <li id=\"footer-places-disclaimer\">\n     <a href=\"/wiki/Wikipedia:General_disclaimer\" title=\"Wikipedia:General disclaimer\">\n      Disclaimers\n     </a>\n    </li>\n    <li id=\"footer-places-contact\">\n     <a href=\"//en.wikipedia.org/wiki/Wikipedia:Contact_us\">\n      Contact Wikipedia\n     </a>\n    </li>\n    <li id=\"footer-places-mobileview\">\n     <a class=\"noprint stopMobileRedirectToggle\" href=\"//en.m.wikipedia.org/w/index.php?title=Python&amp;mobileaction=toggle_view_mobile\">\n      Mobile view\n     </a>\n    </li>\n    <li id=\"footer-places-developers\">\n     <a href=\"https://www.mediawiki.org/wiki/Special:MyLanguage/How_to_contribute\">\n      Developers\n     </a>\n    </li>\n    <li id=\"footer-places-statslink\">\n     <a href=\"https://stats.wikimedia.org/#/en.wikipedia.org\">\n      Statistics\n     </a>\n    </li>\n    <li id=\"footer-places-cookiestatement\">\n     <a href=\"https://foundation.wikimedia.org/wiki/Cookie_statement\">\n      Cookie statement\n     </a>\n    </li>\n   </ul>\n   <ul class=\"noprint\" id=\"footer-icons\">\n    <li id=\"footer-copyrightico\">\n     <a href=\"https://wikimediafoundation.org/\">\n      <img alt=\"Wikimedia Foundation\" height=\"31\" loading=\"lazy\" src=\"/static/images/footer/wikimedia-button.png\" srcset=\"/static/images/footer/wikimedia-button-1.5x.png 1.5x, /static/images/footer/wikimedia-button-2x.png 2x\" width=\"88\"/>\n     </a>\n    </li>\n    <li id=\"footer-poweredbyico\">\n     <a href=\"https://www.mediawiki.org/\">\n      <img alt=\"Powered by MediaWiki\" height=\"31\" loading=\"lazy\" src=\"/static/images/footer/poweredby_mediawiki_88x31.png\" srcset=\"/static/images/footer/poweredby_mediawiki_132x47.png 1.5x, /static/images/footer/poweredby_mediawiki_176x62.png 2x\" width=\"88\"/>\n     </a>\n    </li>\n   </ul>\n   <div style=\"clear: both;\">\n   </div>\n  </footer>\n  <script>\n   (RLQ=window.RLQ||[]).push(function(){mw.config.set({\"wgPageParseReport\":{\"limitreport\":{\"cputime\":\"0.116\",\"walltime\":\"0.178\",\"ppvisitednodes\":{\"value\":1301,\"limit\":1000000},\"postexpandincludesize\":{\"value\":6972,\"limit\":2097152},\"templateargumentsize\":{\"value\":1744,\"limit\":2097152},\"expansiondepth\":{\"value\":16,\"limit\":40},\"expensivefunctioncount\":{\"value\":1,\"limit\":500},\"unstrip-depth\":{\"value\":0,\"limit\":20},\"unstrip-size\":{\"value\":626,\"limit\":5000000},\"entityaccesscount\":{\"value\":0,\"limit\":400},\"timingprofile\":[\"100.00%  150.748      1 -total\",\" 66.76%  100.642      1 Template:Disambiguation\",\" 52.50%   79.136      1 Template:Dmbox\",\" 23.15%   34.897      1 Template:Wiktionary\",\" 21.32%   32.136      1 Template:Disambiguation_page_short_description\",\" 20.86%   31.447      1 Template:Sister_project\",\" 20.77%   31.313      3 Template:Main_other\",\" 19.80%   29.841      1 Template:Short_description\",\" 17.91%   26.995      1 Template:Side_box\",\" 15.35%   23.140      1 Template:Category_handler\"]},\"scribunto\":{\"limitreport-timeusage\":{\"value\":\"0.026\",\"limit\":\"10.000\"},\"limitreport-memusage\":{\"value\":1257368,\"limit\":52428800}},\"cachereport\":{\"origin\":\"mw1397\",\"timestamp\":\"20201214052202\",\"ttl\":2592000,\"transientcontent\":false}}});});\n  </script>\n  <script type=\"application/ld+json\">\n   {\"@context\":\"https:\\/\\/schema.org\",\"@type\":\"Article\",\"name\":\"Python\",\"url\":\"https:\\/\\/en.wikipedia.org\\/wiki\\/Python\",\"sameAs\":\"http:\\/\\/www.wikidata.org\\/entity\\/Q747452\",\"mainEntity\":\"http:\\/\\/www.wikidata.org\\/entity\\/Q747452\",\"author\":{\"@type\":\"Organization\",\"name\":\"Contributors to Wikimedia projects\"},\"publisher\":{\"@type\":\"Organization\",\"name\":\"Wikimedia Foundation, Inc.\",\"logo\":{\"@type\":\"ImageObject\",\"url\":\"https:\\/\\/www.wikimedia.org\\/static\\/images\\/wmf-hor-googpub.png\"}},\"datePublished\":\"2004-05-11T17:28:52Z\",\"dateModified\":\"2020-12-11T12:08:19Z\",\"headline\":\"Wikimedia disambiguation page\"}\n  </script>\n  <script>\n   (RLQ=window.RLQ||[]).push(function(){mw.config.set({\"wgBackendResponseTime\":165,\"wgHostname\":\"mw1263\"});});\n  </script>\n </body>\n</html>\n"
     ]
    }
   ],
   "source": [
    "url ='https://en.wikipedia.org/wiki/Python'\n",
    "\n",
    "response = requests.get(url)\n",
    "soup = BeautifulSoup(response.content, \"html.parser\")\n",
    "show_html(soup)"
   ]
  },
  {
   "cell_type": "code",
   "execution_count": 26,
   "metadata": {},
   "outputs": [
    {
     "output_type": "execute_result",
     "data": {
      "text/plain": [
       "ss=\"mw-redirect\" href=\"/wiki/Pythons\" title=\"Pythons\">Pythons</a>,\n",
       " <a href=\"/wiki/Python_(genus)\" title=\"Python (genus)\"><i>Python</i> (genus)</a>,\n",
       " <a href=\"#Computing\"><span class=\"tocnumber\">1</span> <span class=\"toctext\">Computing</span></a>,\n",
       " <a href=\"#People\"><span class=\"tocnumber\">2</span> <span class=\"toctext\">People</span></a>,\n",
       " <a href=\"#Roller_coasters\"><span class=\"tocnumber\">3</span> <span class=\"toctext\">Roller coasters</span></a>,\n",
       " <a href=\"#Vehicles\"><span class=\"tocnumber\">4</span> <span class=\"toctext\">Vehicles</span></a>,\n",
       " <a href=\"#Weaponry\"><span class=\"tocnumber\">5</span> <span class=\"toctext\">Weaponry</span></a>,\n",
       " <a href=\"#Other_uses\"><span class=\"tocnumber\">6</span> <span class=\"toctext\">Other uses</span></a>,\n",
       " <a href=\"#See_also\"><span class=\"tocnumber\">7</span> <span class=\"toctext\">See also</span></a>,\n",
       " <a href=\"/w/index.php?title=Python&amp;action=edit&amp;section=1\" title=\"Edit section: Computing\">edit</a>,\n",
       " <a href=\"/wiki/Python_(programming_language)\" title=\"Python (programming language)\">Python (programming language)</a>,\n",
       " <a href=\"/wiki/CMU_Common_Lisp\" title=\"CMU Common Lisp\">CMU Common Lisp</a>,\n",
       " <a href=\"/wiki/PERQ#PERQ_3\" title=\"PERQ\">PERQ 3</a>,\n",
       " <a href=\"/w/index.php?title=Python&amp;action=edit&amp;section=2\" title=\"Edit section: People\">edit</a>,\n",
       " <a href=\"/wiki/Python_of_Aenus\" title=\"Python of Aenus\">Python of Aenus</a>,\n",
       " <a href=\"/wiki/Python_(painter)\" title=\"Python (painter)\">Python (painter)</a>,\n",
       " <a href=\"/wiki/Python_of_Byzantium\" title=\"Python of Byzantium\">Python of Byzantium</a>,\n",
       " <a href=\"/wiki/Python_of_Catana\" title=\"Python of Catana\">Python of Catana</a>,\n",
       " <a href=\"/wiki/Python_Anghelo\" title=\"Python Anghelo\">Python Anghelo</a>,\n",
       " <a href=\"/w/index.php?title=Python&amp;action=edit&amp;section=3\" title=\"Edit section: Roller coasters\">edit</a>,\n",
       " <a href=\"/wiki/Python_(Efteling)\" title=\"Python (Efteling)\">Python (Efteling)</a>,\n",
       " <a href=\"/wiki/Python_(Busch_Gardens_Tampa_Bay)\" title=\"Python (Busch Gardens Tampa Bay)\">Python (Busch Gardens Tampa Bay)</a>,\n",
       " <a href=\"/wiki/Python_(Coney_Island,_Cincinnati,_Ohio)\" title=\"Python (Coney Island, Cincinnati, Ohio)\">Python (Coney Island, Cincinnati, Ohio)</a>,\n",
       " <a href=\"/w/index.php?title=Python&amp;action=edit&amp;section=4\" title=\"Edit section: Vehicles\">edit</a>,\n",
       " <a href=\"/wiki/Python_(automobile_maker)\" title=\"Python (automobile maker)\">Python (automobile maker)</a>,\n",
       " <a href=\"/wiki/Python_(Ford_prototype)\" title=\"Python (Ford prototype)\">Python (Ford prototype)</a>,\n",
       " <a href=\"/w/index.php?title=Python&amp;action=edit&amp;section=5\" title=\"Edit section: Weaponry\">edit</a>,\n",
       " <a href=\"/wiki/Python_(missile)\" title=\"Python (missile)\">Python (missile)</a>,\n",
       " <a href=\"/wiki/Python_(nuclear_primary)\" title=\"Python (nuclear primary)\">Python (nuclear primary)</a>,\n",
       " <a href=\"/wiki/Colt_Python\" title=\"Colt Python\">Colt Python</a>,\n",
       " <a href=\"/w/index.php?title=Python&amp;action=edit&amp;section=6\" title=\"Edit section: Other uses\">edit</a>,\n",
       " <a href=\"/wiki/PYTHON\" title=\"PYTHON\">PYTHON</a>,\n",
       " <a href=\"/wiki/Python_(film)\" title=\"Python (film)\"><i>Python</i> (film)</a>,\n",
       " <a href=\"/wiki/Python_(mythology)\" title=\"Python (mythology)\">Python (mythology)</a>,\n",
       " <a href=\"/wiki/Monty_Python\" title=\"Monty Python\">Monty Python</a>,\n",
       " <a href=\"/wiki/Python_(Monty)_Pictures\" title=\"Python (Monty) Pictures\">Python (Monty) Pictures</a>,\n",
       " <a href=\"/w/index.php?title=Python&amp;action=edit&amp;section=7\" title=\"Edit section: See also\">edit</a>,\n",
       " <a href=\"/wiki/Cython\" title=\"Cython\">Cython</a>,\n",
       " <a href=\"/wiki/Pyton\" title=\"Pyton\">Pyton</a>,\n",
       " <a href=\"/wiki/Pithon\" title=\"Pithon\">Pithon</a>,\n",
       " <a class=\"image\" href=\"/wiki/File:Disambig_gray.svg\"><img alt=\"Disambiguation icon\" data-file-height=\"168\" data-file-width=\"220\" decoding=\"async\" height=\"23\" src=\"//upload.wikimedia.org/wikipedia/en/thumb/5/5f/Disambig_gray.svg/30px-Disambig_gray.svg.png\" srcset=\"//upload.wikimedia.org/wikipedia/en/thumb/5/5f/Disambig_gray.svg/45px-Disambig_gray.svg.png 1.5x, //upload.wikimedia.org/wikipedia/en/thumb/5/5f/Disambig_gray.svg/60px-Disambig_gray.svg.png 2x\" width=\"30\"/></a>,\n",
       " <a href=\"/wiki/Help:Disambiguation\" title=\"Help:Disambiguation\">disambiguation</a>,\n",
       " <a class=\"external text\" href=\"https://en.wikipedia.org/w/index.php?title=Special:WhatLinksHere/Python&amp;namespace=0\">internal link</a>,\n",
       " <a dir=\"ltr\" href=\"https://en.wikipedia.org/w/index.php?title=Python&amp;oldid=993591990\">https://en.wikipedia.org/w/index.php?title=Python&amp;oldid=993591990</a>,\n",
       " <a href=\"/wiki/Help:Category\" title=\"Help:Category\">Categories</a>,\n",
       " <a href=\"/wiki/Category:Disambiguation_pages\" title=\"Category:Disambiguation pages\">Disambiguation pages</a>,\n",
       " <a href=\"/wiki/Category:Human_name_disambiguation_pages\" title=\"Category:Human name disambiguation pages\">Human name disambiguation pages</a>,\n",
       " <a href=\"/wiki/Category:Disambiguation_pages_with_given-name-holder_lists\" title=\"Category:Disambiguation pages with given-name-holder lists\">Disambiguation pages with given-name-holder lists</a>,\n",
       " <a href=\"/wiki/Category:Disambiguation_pages_with_short_descriptions\" title=\"Category:Disambiguation pages with short descriptions\">Disambiguation pages with short descriptions</a>,\n",
       " <a href=\"/wiki/Category:Short_description_is_different_from_Wikidata\" title=\"Category:Short description is different from Wikidata\">Short description is different from Wikidata</a>,\n",
       " <a href=\"/wiki/Category:All_article_disambiguation_pages\" title=\"Category:All article disambiguation pages\">All article disambiguation pages</a>,\n",
       " <a href=\"/wiki/Category:All_disambiguation_pages\" title=\"Category:All disambiguation pages\">All disambiguation pages</a>,\n",
       " <a href=\"/wiki/Category:Animal_common_name_disambiguation_pages\" title=\"Category:Animal common name disambiguation pages\">Animal common name disambiguation pages</a>,\n",
       " <a accesskey=\"n\" href=\"/wiki/Special:MyTalk\" title=\"Discussion about edits from this IP address [n]\">Talk</a>,\n",
       " <a accesskey=\"y\" href=\"/wiki/Special:MyContributions\" title=\"A list of edits made from this IP address [y]\">Contributions</a>,\n",
       " <a href=\"/w/index.php?title=Special:CreateAccount&amp;returnto=Python\" title=\"You are encouraged to create an account and log in; however, it is not mandatory\">Create account</a>,\n",
       " <a accesskey=\"o\" href=\"/w/index.php?title=Special:UserLogin&amp;returnto=Python\" title=\"You're encouraged to log in; however, it's not mandatory. [o]\">Log in</a>,\n",
       " <a accesskey=\"c\" href=\"/wiki/Python\" title=\"View the content page [c]\">Article</a>,\n",
       " <a accesskey=\"t\" href=\"/wiki/Talk:Python\" rel=\"discussion\" title=\"Discuss improvements to the content page [t]\">Talk</a>,\n",
       " <a href=\"/wiki/Python\">Read</a>,\n",
       " <a accesskey=\"e\" href=\"/w/index.php?title=Python&amp;action=edit\" title=\"Edit this page [e]\">Edit</a>,\n",
       " <a accesskey=\"h\" href=\"/w/index.php?title=Python&amp;action=history\" title=\"Past revisions of this page [h]\">View history</a>,\n",
       " <a class=\"mw-wiki-logo\" href=\"/wiki/Main_Page\" title=\"Visit the main page\"></a>,\n",
       " <a accesskey=\"z\" href=\"/wiki/Main_Page\" title=\"Visit the main page [z]\">Main page</a>,\n",
       " <a href=\"/wiki/Wikipedia:Contents\" title=\"Guides to browsing Wikipedia\">Contents</a>,\n",
       " <a href=\"/wiki/Portal:Current_events\" title=\"Articles related to current events\">Current events</a>,\n",
       " <a accesskey=\"x\" href=\"/wiki/Special:Random\" title=\"Visit a randomly selected article [x]\">Random article</a>,\n",
       " <a href=\"/wiki/Wikipedia:About\" title=\"Learn about Wikipedia and how it works\">About Wikipedia</a>,\n",
       " <a href=\"//en.wikipedia.org/wiki/Wikipedia:Contact_us\" title=\"How to contact Wikipedia\">Contact us</a>,\n",
       " <a href=\"https://donate.wikimedia.org/wiki/Special:FundraiserRedirector?utm_source=donate&amp;utm_medium=sidebar&amp;utm_campaign=C13_en.wikipedia.org&amp;uselang=en\" title=\"Support us by donating to the Wikimedia Foundation\">Donate</a>,\n",
       " <a href=\"/wiki/Help:Contents\" title=\"Guidance on how to use and edit Wikipedia\">Help</a>,\n",
       " <a href=\"/wiki/Help:Introduction\" title=\"Learn how to edit Wikipedia\">Learn to edit</a>,\n",
       " <a href=\"/wiki/Wikipedia:Community_portal\" title=\"The hub for editors\">Community portal</a>,\n",
       " <a accesskey=\"r\" href=\"/wiki/Special:RecentChanges\" title=\"A list of recent changes to Wikipedia [r]\">Recent changes</a>,\n",
       " <a href=\"/wiki/Wikipedia:File_Upload_Wizard\" title=\"Add images or other media for use on Wikipedia\">Upload file</a>,\n",
       " <a accesskey=\"j\" href=\"/wiki/Special:WhatLinksHere/Python\" title=\"List of all English Wikipedia pages containing links to this page [j]\">What links here</a>,\n",
       " <a accesskey=\"k\" href=\"/wiki/Special:RecentChangesLinked/Python\" rel=\"nofollow\" title=\"Recent changes in pages linked from this page [k]\">Related changes</a>,\n",
       " <a accesskey=\"u\" href=\"/wiki/Wikipedia:File_Upload_Wizard\" title=\"Upload files [u]\">Upload file</a>,\n",
       " <a accesskey=\"q\" href=\"/wiki/Special:SpecialPages\" title=\"A list of all special pages [q]\">Special pages</a>,\n",
       " <a href=\"/w/index.php?title=Python&amp;oldid=993591990\" title=\"Permanent link to this revision of this page\">Permanent link</a>,\n",
       " <a href=\"/w/index.php?title=Python&amp;action=info\" title=\"More information about this page\">Page information</a>,\n",
       " <a href=\"/w/index.php?title=Special:CiteThisPage&amp;page=Python&amp;id=993591990&amp;wpFormIdentifier=titleform\" title=\"Information on how to cite this page\">Cite this page</a>,\n",
       " <a accesskey=\"g\" href=\"https://www.wikidata.org/wiki/Special:EntityPage/Q747452\" title=\"Structured data on this page hosted by Wikidata [g]\">Wikidata item</a>,\n",
       " <a href=\"/w/index.php?title=Special:DownloadAsPdf&amp;page=Python&amp;action=show-download-screen\" title=\"Download this page as a PDF file\">Download as PDF</a>,\n",
       " <a accesskey=\"p\" href=\"/w/index.php?title=Python&amp;printable=yes\" title=\"Printable version of this page [p]\">Printable version</a>,\n",
       " <a href=\"https://commons.wikimedia.org/wiki/Category:Python\" hreflang=\"en\">Wikimedia Commons</a>,\n",
       " <a class=\"interlanguage-link-target\" href=\"https://af.wikipedia.org/wiki/Python\" hreflang=\"af\" lang=\"af\" title=\"Python – Afrikaans\">Afrikaans</a>,\n",
       " <a class=\"interlanguage-link-target\" href=\"https://als.wikipedia.org/wiki/Python\" hreflang=\"gsw\" lang=\"gsw\" title=\"Python – Alemannisch\">Alemannisch</a>,\n",
       " <a class=\"interlanguage-link-target\" href=\"https://ar.wikipedia.org/wiki/%D8%A8%D8%A7%D9%8A%D8%AB%D9%88%D9%86_(%D8%AA%D9%88%D8%B6%D9%8A%D8%AD)\" hreflang=\"ar\" lang=\"ar\" title=\"بايثون (توضيح) – Arabic\">العربية</a>,\n",
       " <a class=\"interlanguage-link-target\" href=\"https://az.wikipedia.org/wiki/Python\" hreflang=\"az\" lang=\"az\" title=\"Python – Azerbaijani\">Azərbaycanca</a>,\n",
       " <a class=\"interlanguage-link-target\" href=\"https://bn.wikipedia.org/wiki/%E0%A6%AA%E0%A6%BE%E0%A6%87%E0%A6%A5%E0%A6%A8_(%E0%A6%A6%E0%A7%8D%E0%A6%AC%E0%A7%8D%E0%A6%AF%E0%A6%B0%E0%A7%8D%E0%A6%A5%E0%A6%A4%E0%A6%BE_%E0%A6%A8%E0%A6%BF%E0%A6%B0%E0%A6%B8%E0%A6%A8)\" hreflang=\"bn\" lang=\"bn\" title=\"পাইথন (দ্ব্যর্থতা নিরসন) – Bangla\">বাংলা</a>,\n",
       " <a class=\"interlanguage-link-target\" href=\"https://be.wikipedia.org/wiki/Python\" hreflang=\"be\" lang=\"be\" title=\"Python – Belarusian\">Беларуская</a>,\n",
       " <a class=\"interlanguage-link-target\" href=\"https://bg.wikipedia.org/wiki/%D0%9F%D0%B8%D1%82%D0%BE%D0%BD_(%D0%BF%D0%BE%D1%8F%D1%81%D0%BD%D0%B5%D0%BD%D0%B8%D0%B5)\" hreflang=\"bg\" lang=\"bg\" title=\"Питон (пояснение) – Bulgarian\">Български</a>,\n",
       " <a class=\"interlanguage-link-target\" href=\"https://cs.wikipedia.org/wiki/Python_(rozcestn%C3%ADk)\" hreflang=\"cs\" lang=\"cs\" title=\"Python (rozcestník) – Czech\">Čeština</a>,\n",
       " <a class=\"interlanguage-link-target\" href=\"https://da.wikipedia.org/wiki/Python\" hreflang=\"da\" lang=\"da\" title=\"Python – Danish\">Dansk</a>,\n",
       " <a class=\"interlanguage-link-target\" href=\"https://de.wikipedia.org/wiki/Python\" hreflang=\"de\" lang=\"de\" title=\"Python – German\">Deutsch</a>,\n",
       " <a class=\"interlanguage-link-target\" href=\"https://eo.wikipedia.org/wiki/Pitono_(apartigilo)\" hreflang=\"eo\" lang=\"eo\" title=\"Pitono (apartigilo) – Esperanto\">Esperanto</a>,\n",
       " <a class=\"interlanguage-link-target\" href=\"https://eu.wikipedia.org/wiki/Python_(argipena)\" hreflang=\"eu\" lang=\"eu\" title=\"Python (argipena) – Basque\">Euskara</a>,\n",
       " <a class=\"interlanguage-link-target\" href=\"https://fa.wikipedia.org/wiki/%D9%BE%D8%A7%DB%8C%D8%AA%D9%88%D9%86\" hreflang=\"fa\" lang=\"fa\" title=\"پایتون – Persian\">فارسی</a>,\n",
       " <a class=\"interlanguage-link-target\" href=\"https://fr.wikipedia.org/wiki/Python\" hreflang=\"fr\" lang=\"fr\" title=\"Python – French\">Français</a>,\n",
       " <a class=\"interlanguage-link-target\" href=\"https://ko.wikipedia.org/wiki/%ED%8C%8C%EC%9D%B4%EC%84%A0\" hreflang=\"ko\" lang=\"ko\" title=\"파이선 – Korean\">한국어</a>,\n",
       " <a class=\"interlanguage-link-target\" href=\"https://hr.wikipedia.org/wiki/Python_(razdvojba)\" hreflang=\"hr\" lang=\"hr\" title=\"Python (razdvojba) – Croatian\">Hrvatski</a>,\n",
       " <a class=\"interlanguage-link-target\" href=\"https://io.wikipedia.org/wiki/Pitono\" hreflang=\"io\" lang=\"io\" title=\"Pitono – Ido\">Ido</a>,\n",
       " <a class=\"interlanguage-link-target\" href=\"https://id.wikipedia.org/wiki/Python\" hreflang=\"id\" lang=\"id\" title=\"Python – Indonesian\">Bahasa Indonesia</a>,\n",
       " <a class=\"interlanguage-link-target\" href=\"https://ia.wikipedia.org/wiki/Python_(disambiguation)\" hreflang=\"ia\" lang=\"ia\" title=\"Python (disambiguation) – Interlingua\">Interlingua</a>,\n",
       " <a class=\"interlanguage-link-target\" href=\"https://is.wikipedia.org/wiki/Python_(a%C3%B0greining)\" hreflang=\"is\" lang=\"is\" title=\"Python (aðgreining) – Icelandic\">Íslenska</a>,\n",
       " <a class=\"interlanguage-link-target\" href=\"https://it.wikipedia.org/wiki/Python_(disambigua)\" hreflang=\"it\" lang=\"it\" title=\"Python (disambigua) – Italian\">Italiano</a>,\n",
       " <a class=\"interlanguage-link-target\" href=\"https://he.wikipedia.org/wiki/%D7%A4%D7%99%D7%AA%D7%95%D7%9F\" hreflang=\"he\" lang=\"he\" title=\"פיתון – Hebrew\">עברית</a>,\n",
       " <a class=\"interlanguage-link-target\" href=\"https://ka.wikipedia.org/wiki/%E1%83%9E%E1%83%98%E1%83%97%E1%83%9D%E1%83%9C%E1%83%98_(%E1%83%9B%E1%83%A0%E1%83%90%E1%83%95%E1%83%90%E1%83%9A%E1%83%9B%E1%83%9C%E1%83%98%E1%83%A8%E1%83%95%E1%83%9C%E1%83%94%E1%83%9A%E1%83%9D%E1%83%95%E1%83%90%E1%83%9C%E1%83%98)\" hreflang=\"ka\" lang=\"ka\" title=\"პითონი (მრავალმნიშვნელოვანი) – Georgian\">ქართული</a>,\n",
       " <a class=\"interlanguage-link-target\" href=\"https://kg.wikipedia.org/wiki/Mboma_(nyoka)\" hreflang=\"kg\" lang=\"kg\" title=\"Mboma (nyoka) – Kongo\">Kongo</a>,\n",
       " <a class=\"interlanguage-link-target\" href=\"https://la.wikipedia.org/wiki/Python_(discretiva)\" hreflang=\"la\" lang=\"la\" title=\"Python (discretiva) – Latin\">Latina</a>,\n",
       " <a class=\"interlanguage-link-target\" href=\"https://lb.wikipedia.org/wiki/Python\" hreflang=\"lb\" lang=\"lb\" title=\"Python – Luxembourgish\">Lëtzebuergesch</a>,\n",
       " <a class=\"interlanguage-link-target\" href=\"https://hu.wikipedia.org/wiki/Python_(egy%C3%A9rtelm%C5%B1s%C3%ADt%C5%91_lap)\" hreflang=\"hu\" lang=\"hu\" title=\"Python (egyértelműsítő lap) – Hungarian\">Magyar</a>,\n",
       " <a class=\"interlanguage-link-target\" href=\"https://mr.wikipedia.org/wiki/%E0%A4%AA%E0%A4%BE%E0%A4%AF%E0%A4%A5%E0%A5%89%E0%A4%A8_(%E0%A4%86%E0%A4%9C%E0%A5%8D%E0%A4%9E%E0%A4%BE%E0%A4%B5%E0%A4%B2%E0%A5%80_%E0%A4%AD%E0%A4%BE%E0%A4%B7%E0%A4%BE)\" hreflang=\"mr\" lang=\"mr\" title=\"पायथॉन (आज्ञावली भाषा) – Marathi\">मराठी</a>,\n",
       " <a class=\"interlanguage-link-target\" href=\"https://nl.wikipedia.org/wiki/Python\" hreflang=\"nl\" lang=\"nl\" title=\"Python – Dutch\">Nederlands</a>,\n",
       " <a class=\"interlanguage-link-target\" href=\"https://ja.wikipedia.org/wiki/%E3%83%91%E3%82%A4%E3%82%BD%E3%83%B3\" hreflang=\"ja\" lang=\"ja\" title=\"パイソン – Japanese\">日本語</a>,\n",
       " <a class=\"interlanguage-link-target\" href=\"https://no.wikipedia.org/wiki/Pyton\" hreflang=\"nb\" lang=\"nb\" title=\"Pyton – Norwegian Bokmål\">Norsk bokmål</a>,\n",
       " <a class=\"interlanguage-link-target\" href=\"https://pl.wikipedia.org/wiki/Pyton\" hreflang=\"pl\" lang=\"pl\" title=\"Pyton – Polish\">Polski</a>,\n",
       " <a class=\"interlanguage-link-target\" href=\"https://pt.wikipedia.org/wiki/Python_(desambigua%C3%A7%C3%A3o)\" hreflang=\"pt\" lang=\"pt\" title=\"Python (desambiguação) – Portuguese\">Português</a>,\n",
       " <a class=\"interlanguage-link-target\" href=\"https://ru.wikipedia.org/wiki/Python_(%D0%B7%D0%BD%D0%B0%D1%87%D0%B5%D0%BD%D0%B8%D1%8F)\" hreflang=\"ru\" lang=\"ru\" title=\"Python (значения) – Russian\">Русский</a>,\n",
       " <a class=\"interlanguage-link-target\" href=\"https://sk.wikipedia.org/wiki/Python\" hreflang=\"sk\" lang=\"sk\" title=\"Python – Slovak\">Slovenčina</a>,\n",
       " <a class=\"interlanguage-link-target\" href=\"https://sr.wikipedia.org/wiki/%D0%9F%D0%B8%D1%82%D0%BE%D0%BD_(%D0%B2%D0%B8%D1%88%D0%B5%D0%B7%D0%BD%D0%B0%D1%87%D0%BD%D0%B0_%D0%BE%D0%B4%D1%80%D0%B5%D0%B4%D0%BD%D0%B8%D1%86%D0%B0)\" hreflang=\"sr\" lang=\"sr\" title=\"Питон (вишезначна одредница) – Serbian\">Српски / srpski</a>,\n",
       " <a class=\"interlanguage-link-target\" href=\"https://sh.wikipedia.org/wiki/Python\" hreflang=\"sh\" lang=\"sh\" title=\"Python – Serbo-Croatian\">Srpskohrvatski / српскохрватски</a>,\n",
       " <a class=\"interlanguage-link-target\" href=\"https://fi.wikipedia.org/wiki/Python\" hreflang=\"fi\" lang=\"fi\" title=\"Python – Finnish\">Suomi</a>,\n",
       " <a class=\"interlanguage-link-target\" href=\"https://sv.wikipedia.org/wiki/Pyton\" hreflang=\"sv\" lang=\"sv\" title=\"Pyton – Swedish\">Svenska</a>,\n",
       " <a class=\"interlanguage-link-target\" href=\"https://th.wikipedia.org/wiki/%E0%B9%84%E0%B8%9E%E0%B8%97%E0%B8%AD%E0%B8%99\" hreflang=\"th\" lang=\"th\" title=\"ไพทอน – Thai\">ไทย</a>,\n",
       " <a class=\"interlanguage-link-target\" href=\"https://tr.wikipedia.org/wiki/Python\" hreflang=\"tr\" lang=\"tr\" title=\"Python – Turkish\">Türkçe</a>,\n",
       " <a class=\"interlanguage-link-target\" href=\"https://uk.wikipedia.org/wiki/%D0%9F%D1%96%D1%84%D0%BE%D0%BD\" hreflang=\"uk\" lang=\"uk\" title=\"Піфон – Ukrainian\">Українська</a>,\n",
       " <a class=\"interlanguage-link-target\" href=\"https://ur.wikipedia.org/wiki/%D9%BE%D8%A7%D8%A6%DB%8C%D8%AA%DA%BE%D9%88%D9%86\" hreflang=\"ur\" lang=\"ur\" title=\"پائیتھون – Urdu\">اردو</a>,\n",
       " <a class=\"interlanguage-link-target\" href=\"https://vi.wikipedia.org/wiki/Python\" hreflang=\"vi\" lang=\"vi\" title=\"Python – Vietnamese\">Tiếng Việt</a>,\n",
       " <a class=\"interlanguage-link-target\" href=\"https://zh.wikipedia.org/wiki/Python_(%E6%B6%88%E6%AD%A7%E4%B9%89)\" hreflang=\"zh\" lang=\"zh\" title=\"Python (消歧义) – Chinese\">中文</a>,\n",
       " <a class=\"wbc-editpage\" href=\"https://www.wikidata.org/wiki/Special:EntityPage/Q747452#sitelinks-wikipedia\" title=\"Edit interlanguage links\">Edit links</a>,\n",
       " <a href=\"//en.wikipedia.org/wiki/Wikipedia:Text_of_Creative_Commons_Attribution-ShareAlike_3.0_Unported_License\" rel=\"license\">Creative Commons Attribution-ShareAlike License</a>,\n",
       " <a href=\"//creativecommons.org/licenses/by-sa/3.0/\" rel=\"license\" style=\"display:none;\"></a>,\n",
       " <a href=\"//foundation.wikimedia.org/wiki/Terms_of_Use\">Terms of Use</a>,\n",
       " <a href=\"//foundation.wikimedia.org/wiki/Privacy_policy\">Privacy Policy</a>,\n",
       " <a href=\"//www.wikimediafoundation.org/\">Wikimedia Foundation, Inc.</a>,\n",
       " <a class=\"extiw\" href=\"https://foundation.wikimedia.org/wiki/Privacy_policy\" title=\"wmf:Privacy policy\">Privacy policy</a>,\n",
       " <a href=\"/wiki/Wikipedia:About\" title=\"Wikipedia:About\">About Wikipedia</a>,\n",
       " <a href=\"/wiki/Wikipedia:General_disclaimer\" title=\"Wikipedia:General disclaimer\">Disclaimers</a>,\n",
       " <a href=\"//en.wikipedia.org/wiki/Wikipedia:Contact_us\">Contact Wikipedia</a>,\n",
       " <a class=\"noprint stopMobileRedirectToggle\" href=\"//en.m.wikipedia.org/w/index.php?title=Python&amp;mobileaction=toggle_view_mobile\">Mobile view</a>,\n",
       " <a href=\"https://www.mediawiki.org/wiki/Special:MyLanguage/How_to_contribute\">Developers</a>,\n",
       " <a href=\"https://stats.wikimedia.org/#/en.wikipedia.org\">Statistics</a>,\n",
       " <a href=\"https://foundation.wikimedia.org/wiki/Cookie_statement\">Cookie statement</a>,\n",
       " <a href=\"https://wikimediafoundation.org/\"><img alt=\"Wikimedia Foundation\" height=\"31\" loading=\"lazy\" src=\"/static/images/footer/wikimedia-button.png\" srcset=\"/static/images/footer/wikimedia-button-1.5x.png 1.5x, /static/images/footer/wikimedia-button-2x.png 2x\" width=\"88\"/></a>,\n",
       " <a href=\"https://www.mediawiki.org/\"><img alt=\"Powered by MediaWiki\" height=\"31\" loading=\"lazy\" src=\"/static/images/footer/poweredby_mediawiki_88x31.png\" srcset=\"/static/images/footer/poweredby_mediawiki_132x47.png 1.5x, /static/images/footer/poweredby_mediawiki_176x62.png 2x\" width=\"88\"/></a>]"
      ]
     },
     "metadata": {},
     "execution_count": 26
    }
   ],
   "source": [
    "# We get all \"a\"\n",
    "\n",
    "links = soup.findAll('a')\n",
    "links"
   ]
  },
  {
   "cell_type": "code",
   "execution_count": 28,
   "metadata": {},
   "outputs": [
    {
     "output_type": "stream",
     "name": "stdout",
     "text": [
      "existe\n"
     ]
    },
    {
     "output_type": "execute_result",
     "data": {
      "text/plain": [
       "False"
      ]
     },
     "metadata": {},
     "execution_count": 28
    }
   ],
   "source": [
    "s = \"/wiki/kgsm\"\n",
    "if \"wiki/\" in s:\n",
    "    print(\"existe\")\n",
    "s.startswith(\"wiki/\")"
   ]
  },
  {
   "cell_type": "code",
   "execution_count": 29,
   "metadata": {},
   "outputs": [
    {
     "output_type": "stream",
     "name": "stdout",
     "text": [
      "/wiki\n"
     ]
    },
    {
     "output_type": "execute_result",
     "data": {
      "text/plain": [
       "False"
      ]
     },
     "metadata": {},
     "execution_count": 29
    }
   ],
   "source": [
    "s = \"/wiki/kgsm\"\n",
    "print(s[:5])\n",
    "if \"wiki/\" in s[:5]:\n",
    "    print(\"existe\")\n",
    "s.startswith(\"wiki/\")"
   ]
  },
  {
   "cell_type": "code",
   "execution_count": 27,
   "metadata": {
    "tags": []
   },
   "outputs": [
    {
     "output_type": "stream",
     "name": "stdout",
     "text": [
      "https://en.wiktionary.org/wiki/Python\nhttps://en.wiktionary.org/wiki/python\n/wiki/Pythons\n/wiki/Python_(genus)\n/wiki/Python_(programming_language)\n/wiki/CMU_Common_Lisp\n/wiki/PERQ#PERQ_3\n/wiki/Python_of_Aenus\n/wiki/Python_(painter)\n/wiki/Python_of_Byzantium\n/wiki/Python_of_Catana\n/wiki/Python_Anghelo\n/wiki/Python_(Efteling)\n/wiki/Python_(Busch_Gardens_Tampa_Bay)\n/wiki/Python_(Coney_Island,_Cincinnati,_Ohio)\n/wiki/Python_(automobile_maker)\n/wiki/Python_(Ford_prototype)\n/wiki/Python_(missile)\n/wiki/Python_(nuclear_primary)\n/wiki/Colt_Python\n/wiki/PYTHON\n/wiki/Python_(film)\n/wiki/Python_(mythology)\n/wiki/Monty_Python\n/wiki/Python_(Monty)_Pictures\n/wiki/Cython\n/wiki/Pyton\n/wiki/Pithon\n/wiki/File:Disambig_gray.svg\n/wiki/Help:Disambiguation\nhttps://en.wikipedia.org/w/index.php?title=Special:WhatLinksHere/Python&namespace=0\nhttps://en.wikipedia.org/w/index.php?title=Python&oldid=993591990\n/wiki/Help:Category\n/wiki/Category:Disambiguation_pages\n/wiki/Category:Human_name_disambiguation_pages\n/wiki/Category:Disambiguation_pages_with_given-name-holder_lists\n/wiki/Category:Disambiguation_pages_with_short_descriptions\n/wiki/Category:Short_description_is_different_from_Wikidata\n/wiki/Category:All_article_disambiguation_pages\n/wiki/Category:All_disambiguation_pages\n/wiki/Category:Animal_common_name_disambiguation_pages\n/wiki/Special:MyTalk\n/wiki/Special:MyContributions\n/wiki/Python\n/wiki/Talk:Python\n/wiki/Python\n/wiki/Main_Page\n/wiki/Main_Page\n/wiki/Wikipedia:Contents\n/wiki/Portal:Current_events\n/wiki/Special:Random\n/wiki/Wikipedia:About\n//en.wikipedia.org/wiki/Wikipedia:Contact_us\nhttps://donate.wikimedia.org/wiki/Special:FundraiserRedirector?utm_source=donate&utm_medium=sidebar&utm_campaign=C13_en.wikipedia.org&uselang=en\n/wiki/Help:Contents\n/wiki/Help:Introduction\n/wiki/Wikipedia:Community_portal\n/wiki/Special:RecentChanges\n/wiki/Wikipedia:File_Upload_Wizard\n/wiki/Special:WhatLinksHere/Python\n/wiki/Special:RecentChangesLinked/Python\n/wiki/Wikipedia:File_Upload_Wizard\n/wiki/Special:SpecialPages\nhttps://www.wikidata.org/wiki/Special:EntityPage/Q747452\nhttps://commons.wikimedia.org/wiki/Category:Python\nhttps://af.wikipedia.org/wiki/Python\nhttps://als.wikipedia.org/wiki/Python\nhttps://ar.wikipedia.org/wiki/%D8%A8%D8%A7%D9%8A%D8%AB%D9%88%D9%86_(%D8%AA%D9%88%D8%B6%D9%8A%D8%AD)\nhttps://az.wikipedia.org/wiki/Python\nhttps://bn.wikipedia.org/wiki/%E0%A6%AA%E0%A6%BE%E0%A6%87%E0%A6%A5%E0%A6%A8_(%E0%A6%A6%E0%A7%8D%E0%A6%AC%E0%A7%8D%E0%A6%AF%E0%A6%B0%E0%A7%8D%E0%A6%A5%E0%A6%A4%E0%A6%BE_%E0%A6%A8%E0%A6%BF%E0%A6%B0%E0%A6%B8%E0%A6%A8)\nhttps://be.wikipedia.org/wiki/Python\nhttps://bg.wikipedia.org/wiki/%D0%9F%D0%B8%D1%82%D0%BE%D0%BD_(%D0%BF%D0%BE%D1%8F%D1%81%D0%BD%D0%B5%D0%BD%D0%B8%D0%B5)\nhttps://cs.wikipedia.org/wiki/Python_(rozcestn%C3%ADk)\nhttps://da.wikipedia.org/wiki/Python\nhttps://de.wikipedia.org/wiki/Python\nhttps://eo.wikipedia.org/wiki/Pitono_(apartigilo)\nhttps://eu.wikipedia.org/wiki/Python_(argipena)\nhttps://fa.wikipedia.org/wiki/%D9%BE%D8%A7%DB%8C%D8%AA%D9%88%D9%86\nhttps://fr.wikipedia.org/wiki/Python\nhttps://ko.wikipedia.org/wiki/%ED%8C%8C%EC%9D%B4%EC%84%A0\nhttps://hr.wikipedia.org/wiki/Python_(razdvojba)\nhttps://io.wikipedia.org/wiki/Pitono\nhttps://id.wikipedia.org/wiki/Python\nhttps://ia.wikipedia.org/wiki/Python_(disambiguation)\nhttps://is.wikipedia.org/wiki/Python_(a%C3%B0greining)\nhttps://it.wikipedia.org/wiki/Python_(disambigua)\nhttps://he.wikipedia.org/wiki/%D7%A4%D7%99%D7%AA%D7%95%D7%9F\nhttps://ka.wikipedia.org/wiki/%E1%83%9E%E1%83%98%E1%83%97%E1%83%9D%E1%83%9C%E1%83%98_(%E1%83%9B%E1%83%A0%E1%83%90%E1%83%95%E1%83%90%E1%83%9A%E1%83%9B%E1%83%9C%E1%83%98%E1%83%A8%E1%83%95%E1%83%9C%E1%83%94%E1%83%9A%E1%83%9D%E1%83%95%E1%83%90%E1%83%9C%E1%83%98)\nhttps://kg.wikipedia.org/wiki/Mboma_(nyoka)\nhttps://la.wikipedia.org/wiki/Python_(discretiva)\nhttps://lb.wikipedia.org/wiki/Python\nhttps://hu.wikipedia.org/wiki/Python_(egy%C3%A9rtelm%C5%B1s%C3%ADt%C5%91_lap)\nhttps://mr.wikipedia.org/wiki/%E0%A4%AA%E0%A4%BE%E0%A4%AF%E0%A4%A5%E0%A5%89%E0%A4%A8_(%E0%A4%86%E0%A4%9C%E0%A5%8D%E0%A4%9E%E0%A4%BE%E0%A4%B5%E0%A4%B2%E0%A5%80_%E0%A4%AD%E0%A4%BE%E0%A4%B7%E0%A4%BE)\nhttps://nl.wikipedia.org/wiki/Python\nhttps://ja.wikipedia.org/wiki/%E3%83%91%E3%82%A4%E3%82%BD%E3%83%B3\nhttps://no.wikipedia.org/wiki/Pyton\nhttps://pl.wikipedia.org/wiki/Pyton\nhttps://pt.wikipedia.org/wiki/Python_(desambigua%C3%A7%C3%A3o)\nhttps://ru.wikipedia.org/wiki/Python_(%D0%B7%D0%BD%D0%B0%D1%87%D0%B5%D0%BD%D0%B8%D1%8F)\nhttps://sk.wikipedia.org/wiki/Python\nhttps://sr.wikipedia.org/wiki/%D0%9F%D0%B8%D1%82%D0%BE%D0%BD_(%D0%B2%D0%B8%D1%88%D0%B5%D0%B7%D0%BD%D0%B0%D1%87%D0%BD%D0%B0_%D0%BE%D0%B4%D1%80%D0%B5%D0%B4%D0%BD%D0%B8%D1%86%D0%B0)\nhttps://sh.wikipedia.org/wiki/Python\nhttps://fi.wikipedia.org/wiki/Python\nhttps://sv.wikipedia.org/wiki/Pyton\nhttps://th.wikipedia.org/wiki/%E0%B9%84%E0%B8%9E%E0%B8%97%E0%B8%AD%E0%B8%99\nhttps://tr.wikipedia.org/wiki/Python\nhttps://uk.wikipedia.org/wiki/%D0%9F%D1%96%D1%84%D0%BE%D0%BD\nhttps://ur.wikipedia.org/wiki/%D9%BE%D8%A7%D8%A6%DB%8C%D8%AA%DA%BE%D9%88%D9%86\nhttps://vi.wikipedia.org/wiki/Python\nhttps://zh.wikipedia.org/wiki/Python_(%E6%B6%88%E6%AD%A7%E4%B9%89)\nhttps://www.wikidata.org/wiki/Special:EntityPage/Q747452#sitelinks-wikipedia\n//en.wikipedia.org/wiki/Wikipedia:Text_of_Creative_Commons_Attribution-ShareAlike_3.0_Unported_License\n//foundation.wikimedia.org/wiki/Terms_of_Use\n//foundation.wikimedia.org/wiki/Privacy_policy\nhttps://foundation.wikimedia.org/wiki/Privacy_policy\n/wiki/Wikipedia:About\n/wiki/Wikipedia:General_disclaimer\n//en.wikipedia.org/wiki/Wikipedia:Contact_us\nhttps://www.mediawiki.org/wiki/Special:MyLanguage/How_to_contribute\nhttps://stats.wikimedia.org/#/en.wikipedia.org\nhttps://foundation.wikimedia.org/wiki/Cookie_statement\nhttps://wikimediafoundation.org/\nhttps://www.mediawiki.org/\n"
     ]
    },
    {
     "output_type": "execute_result",
     "data": {
      "text/plain": [
       "['https://en.wiktionary.org/wiki/Python',\n",
       " 'https://en.wiktionary.org/wiki/python',\n",
       " '/wiki/Pythons',\n",
       " '/wiki/Python_(genus)',\n",
       " '/wiki/Python_(programming_language)',\n",
       " '/wiki/CMU_Common_Lisp',\n",
       " '/wiki/PERQ#PERQ_3',\n",
       " '/wiki/Python_of_Aenus',\n",
       " '/wiki/Python_(painter)',\n",
       " '/wiki/Python_of_Byzantium',\n",
       " '/wiki/Python_of_Catana',\n",
       " '/wiki/Python_Anghelo',\n",
       " '/wiki/Python_(Efteling)',\n",
       " '/wiki/Python_(Busch_Gardens_Tampa_Bay)',\n",
       " '/wiki/Python_(Coney_Island,_Cincinnati,_Ohio)',\n",
       " '/wiki/Python_(automobile_maker)',\n",
       " '/wiki/Python_(Ford_prototype)',\n",
       " '/wiki/Python_(missile)',\n",
       " '/wiki/Python_(nuclear_primary)',\n",
       " '/wiki/Colt_Python',\n",
       " '/wiki/PYTHON',\n",
       " '/wiki/Python_(film)',\n",
       " '/wiki/Python_(mythology)',\n",
       " '/wiki/Monty_Python',\n",
       " '/wiki/Python_(Monty)_Pictures',\n",
       " '/wiki/Cython',\n",
       " '/wiki/Pyton',\n",
       " '/wiki/Pithon',\n",
       " '/wiki/File:Disambig_gray.svg',\n",
       " '/wiki/Help:Disambiguation',\n",
       " 'https://en.wikipedia.org/w/index.php?title=Special:WhatLinksHere/Python&namespace=0',\n",
       " 'https://en.wikipedia.org/w/index.php?title=Python&oldid=993591990',\n",
       " '/wiki/Help:Category',\n",
       " '/wiki/Category:Disambiguation_pages',\n",
       " '/wiki/Category:Human_name_disambiguation_pages',\n",
       " '/wiki/Category:Disambiguation_pages_with_given-name-holder_lists',\n",
       " '/wiki/Category:Disambiguation_pages_with_short_descriptions',\n",
       " '/wiki/Category:Short_description_is_different_from_Wikidata',\n",
       " '/wiki/Category:All_article_disambiguation_pages',\n",
       " '/wiki/Category:All_disambiguation_pages',\n",
       " '/wiki/Category:Animal_common_name_disambiguation_pages',\n",
       " '/wiki/Special:MyTalk',\n",
       " '/wiki/Special:MyContributions',\n",
       " '/wiki/Python',\n",
       " '/wiki/Talk:Python',\n",
       " '/wiki/Python',\n",
       " '/wiki/Main_Page',\n",
       " '/wiki/Main_Page',\n",
       " '/wiki/Wikipedia:Contents',\n",
       " '/wiki/Portal:Current_events',\n",
       " '/wiki/Special:Random',\n",
       " '/wiki/Wikipedia:About',\n",
       " '//en.wikipedia.org/wiki/Wikipedia:Contact_us',\n",
       " 'https://donate.wikimedia.org/wiki/Special:FundraiserRedirector?utm_source=donate&utm_medium=sidebar&utm_campaign=C13_en.wikipedia.org&uselang=en',\n",
       " '/wiki/Help:Contents',\n",
       " '/wiki/Help:Introduction',\n",
       " '/wiki/Wikipedia:Community_portal',\n",
       " '/wiki/Special:RecentChanges',\n",
       " '/wiki/Wikipedia:File_Upload_Wizard',\n",
       " '/wiki/Special:WhatLinksHere/Python',\n",
       " '/wiki/Special:RecentChangesLinked/Python',\n",
       " '/wiki/Wikipedia:File_Upload_Wizard',\n",
       " '/wiki/Special:SpecialPages',\n",
       " 'https://www.wikidata.org/wiki/Special:EntityPage/Q747452',\n",
       " 'https://commons.wikimedia.org/wiki/Category:Python',\n",
       " 'https://af.wikipedia.org/wiki/Python',\n",
       " 'https://als.wikipedia.org/wiki/Python',\n",
       " 'https://ar.wikipedia.org/wiki/%D8%A8%D8%A7%D9%8A%D8%AB%D9%88%D9%86_(%D8%AA%D9%88%D8%B6%D9%8A%D8%AD)',\n",
       " 'https://az.wikipedia.org/wiki/Python',\n",
       " 'https://bn.wikipedia.org/wiki/%E0%A6%AA%E0%A6%BE%E0%A6%87%E0%A6%A5%E0%A6%A8_(%E0%A6%A6%E0%A7%8D%E0%A6%AC%E0%A7%8D%E0%A6%AF%E0%A6%B0%E0%A7%8D%E0%A6%A5%E0%A6%A4%E0%A6%BE_%E0%A6%A8%E0%A6%BF%E0%A6%B0%E0%A6%B8%E0%A6%A8)',\n",
       " 'https://be.wikipedia.org/wiki/Python',\n",
       " 'https://bg.wikipedia.org/wiki/%D0%9F%D0%B8%D1%82%D0%BE%D0%BD_(%D0%BF%D0%BE%D1%8F%D1%81%D0%BD%D0%B5%D0%BD%D0%B8%D0%B5)',\n",
       " 'https://cs.wikipedia.org/wiki/Python_(rozcestn%C3%ADk)',\n",
       " 'https://da.wikipedia.org/wiki/Python',\n",
       " 'https://de.wikipedia.org/wiki/Python',\n",
       " 'https://eo.wikipedia.org/wiki/Pitono_(apartigilo)',\n",
       " 'https://eu.wikipedia.org/wiki/Python_(argipena)',\n",
       " 'https://fa.wikipedia.org/wiki/%D9%BE%D8%A7%DB%8C%D8%AA%D9%88%D9%86',\n",
       " 'https://fr.wikipedia.org/wiki/Python',\n",
       " 'https://ko.wikipedia.org/wiki/%ED%8C%8C%EC%9D%B4%EC%84%A0',\n",
       " 'https://hr.wikipedia.org/wiki/Python_(razdvojba)',\n",
       " 'https://io.wikipedia.org/wiki/Pitono',\n",
       " 'https://id.wikipedia.org/wiki/Python',\n",
       " 'https://ia.wikipedia.org/wiki/Python_(disambiguation)',\n",
       " 'https://is.wikipedia.org/wiki/Python_(a%C3%B0greining)',\n",
       " 'https://it.wikipedia.org/wiki/Python_(disambigua)',\n",
       " 'https://he.wikipedia.org/wiki/%D7%A4%D7%99%D7%AA%D7%95%D7%9F',\n",
       " 'https://ka.wikipedia.org/wiki/%E1%83%9E%E1%83%98%E1%83%97%E1%83%9D%E1%83%9C%E1%83%98_(%E1%83%9B%E1%83%A0%E1%83%90%E1%83%95%E1%83%90%E1%83%9A%E1%83%9B%E1%83%9C%E1%83%98%E1%83%A8%E1%83%95%E1%83%9C%E1%83%94%E1%83%9A%E1%83%9D%E1%83%95%E1%83%90%E1%83%9C%E1%83%98)',\n",
       " 'https://kg.wikipedia.org/wiki/Mboma_(nyoka)',\n",
       " 'https://la.wikipedia.org/wiki/Python_(discretiva)',\n",
       " 'https://lb.wikipedia.org/wiki/Python',\n",
       " 'https://hu.wikipedia.org/wiki/Python_(egy%C3%A9rtelm%C5%B1s%C3%ADt%C5%91_lap)',\n",
       " 'https://mr.wikipedia.org/wiki/%E0%A4%AA%E0%A4%BE%E0%A4%AF%E0%A4%A5%E0%A5%89%E0%A4%A8_(%E0%A4%86%E0%A4%9C%E0%A5%8D%E0%A4%9E%E0%A4%BE%E0%A4%B5%E0%A4%B2%E0%A5%80_%E0%A4%AD%E0%A4%BE%E0%A4%B7%E0%A4%BE)',\n",
       " 'https://nl.wikipedia.org/wiki/Python',\n",
       " 'https://ja.wikipedia.org/wiki/%E3%83%91%E3%82%A4%E3%82%BD%E3%83%B3',\n",
       " 'https://no.wikipedia.org/wiki/Pyton',\n",
       " 'https://pl.wikipedia.org/wiki/Pyton',\n",
       " 'https://pt.wikipedia.org/wiki/Python_(desambigua%C3%A7%C3%A3o)',\n",
       " 'https://ru.wikipedia.org/wiki/Python_(%D0%B7%D0%BD%D0%B0%D1%87%D0%B5%D0%BD%D0%B8%D1%8F)',\n",
       " 'https://sk.wikipedia.org/wiki/Python',\n",
       " 'https://sr.wikipedia.org/wiki/%D0%9F%D0%B8%D1%82%D0%BE%D0%BD_(%D0%B2%D0%B8%D1%88%D0%B5%D0%B7%D0%BD%D0%B0%D1%87%D0%BD%D0%B0_%D0%BE%D0%B4%D1%80%D0%B5%D0%B4%D0%BD%D0%B8%D1%86%D0%B0)',\n",
       " 'https://sh.wikipedia.org/wiki/Python',\n",
       " 'https://fi.wikipedia.org/wiki/Python',\n",
       " 'https://sv.wikipedia.org/wiki/Pyton',\n",
       " 'https://th.wikipedia.org/wiki/%E0%B9%84%E0%B8%9E%E0%B8%97%E0%B8%AD%E0%B8%99',\n",
       " 'https://tr.wikipedia.org/wiki/Python',\n",
       " 'https://uk.wikipedia.org/wiki/%D0%9F%D1%96%D1%84%D0%BE%D0%BD',\n",
       " 'https://ur.wikipedia.org/wiki/%D9%BE%D8%A7%D8%A6%DB%8C%D8%AA%DA%BE%D9%88%D9%86',\n",
       " 'https://vi.wikipedia.org/wiki/Python',\n",
       " 'https://zh.wikipedia.org/wiki/Python_(%E6%B6%88%E6%AD%A7%E4%B9%89)',\n",
       " 'https://www.wikidata.org/wiki/Special:EntityPage/Q747452#sitelinks-wikipedia',\n",
       " '//en.wikipedia.org/wiki/Wikipedia:Text_of_Creative_Commons_Attribution-ShareAlike_3.0_Unported_License',\n",
       " '//foundation.wikimedia.org/wiki/Terms_of_Use',\n",
       " '//foundation.wikimedia.org/wiki/Privacy_policy',\n",
       " 'https://foundation.wikimedia.org/wiki/Privacy_policy',\n",
       " '/wiki/Wikipedia:About',\n",
       " '/wiki/Wikipedia:General_disclaimer',\n",
       " '//en.wikipedia.org/wiki/Wikipedia:Contact_us',\n",
       " 'https://www.mediawiki.org/wiki/Special:MyLanguage/How_to_contribute',\n",
       " 'https://stats.wikimedia.org/#/en.wikipedia.org',\n",
       " 'https://foundation.wikimedia.org/wiki/Cookie_statement',\n",
       " 'https://wikimediafoundation.org/',\n",
       " 'https://www.mediawiki.org/']"
      ]
     },
     "metadata": {},
     "execution_count": 27
    }
   ],
   "source": [
    "list_of_links = []\n",
    "for link in links:\n",
    "    href = link.get('href')\n",
    "    if href and (href[:4] == \"http\" or \"/wiki\" in href):\n",
    "        print(href)\n",
    "        list_of_links.append(href)\n",
    "\n",
    "list_of_links"
   ]
  },
  {
   "cell_type": "code",
   "execution_count": 30,
   "metadata": {
    "tags": []
   },
   "outputs": [
    {
     "output_type": "stream",
     "name": "stdout",
     "text": [
      "https://en.wiktionary.org/wiki/Python\nhttps://en.wiktionary.org/wiki/python\nhttps://en.wikipedia.org/w/index.php?title=Special:WhatLinksHere/Python&namespace=0\nhttps://en.wikipedia.org/w/index.php?title=Python&oldid=993591990\nhttps://donate.wikimedia.org/wiki/Special:FundraiserRedirector?utm_source=donate&utm_medium=sidebar&utm_campaign=C13_en.wikipedia.org&uselang=en\nhttps://www.wikidata.org/wiki/Special:EntityPage/Q747452\nhttps://commons.wikimedia.org/wiki/Category:Python\nhttps://af.wikipedia.org/wiki/Python\nhttps://als.wikipedia.org/wiki/Python\nhttps://ar.wikipedia.org/wiki/%D8%A8%D8%A7%D9%8A%D8%AB%D9%88%D9%86_(%D8%AA%D9%88%D8%B6%D9%8A%D8%AD)\nhttps://az.wikipedia.org/wiki/Python\nhttps://bn.wikipedia.org/wiki/%E0%A6%AA%E0%A6%BE%E0%A6%87%E0%A6%A5%E0%A6%A8_(%E0%A6%A6%E0%A7%8D%E0%A6%AC%E0%A7%8D%E0%A6%AF%E0%A6%B0%E0%A7%8D%E0%A6%A5%E0%A6%A4%E0%A6%BE_%E0%A6%A8%E0%A6%BF%E0%A6%B0%E0%A6%B8%E0%A6%A8)\nhttps://be.wikipedia.org/wiki/Python\nhttps://bg.wikipedia.org/wiki/%D0%9F%D0%B8%D1%82%D0%BE%D0%BD_(%D0%BF%D0%BE%D1%8F%D1%81%D0%BD%D0%B5%D0%BD%D0%B8%D0%B5)\nhttps://cs.wikipedia.org/wiki/Python_(rozcestn%C3%ADk)\nhttps://da.wikipedia.org/wiki/Python\nhttps://de.wikipedia.org/wiki/Python\nhttps://eo.wikipedia.org/wiki/Pitono_(apartigilo)\nhttps://eu.wikipedia.org/wiki/Python_(argipena)\nhttps://fa.wikipedia.org/wiki/%D9%BE%D8%A7%DB%8C%D8%AA%D9%88%D9%86\nhttps://fr.wikipedia.org/wiki/Python\nhttps://ko.wikipedia.org/wiki/%ED%8C%8C%EC%9D%B4%EC%84%A0\nhttps://hr.wikipedia.org/wiki/Python_(razdvojba)\nhttps://io.wikipedia.org/wiki/Pitono\nhttps://id.wikipedia.org/wiki/Python\nhttps://ia.wikipedia.org/wiki/Python_(disambiguation)\nhttps://is.wikipedia.org/wiki/Python_(a%C3%B0greining)\nhttps://it.wikipedia.org/wiki/Python_(disambigua)\nhttps://he.wikipedia.org/wiki/%D7%A4%D7%99%D7%AA%D7%95%D7%9F\nhttps://ka.wikipedia.org/wiki/%E1%83%9E%E1%83%98%E1%83%97%E1%83%9D%E1%83%9C%E1%83%98_(%E1%83%9B%E1%83%A0%E1%83%90%E1%83%95%E1%83%90%E1%83%9A%E1%83%9B%E1%83%9C%E1%83%98%E1%83%A8%E1%83%95%E1%83%9C%E1%83%94%E1%83%9A%E1%83%9D%E1%83%95%E1%83%90%E1%83%9C%E1%83%98)\nhttps://kg.wikipedia.org/wiki/Mboma_(nyoka)\nhttps://la.wikipedia.org/wiki/Python_(discretiva)\nhttps://lb.wikipedia.org/wiki/Python\nhttps://hu.wikipedia.org/wiki/Python_(egy%C3%A9rtelm%C5%B1s%C3%ADt%C5%91_lap)\nhttps://mr.wikipedia.org/wiki/%E0%A4%AA%E0%A4%BE%E0%A4%AF%E0%A4%A5%E0%A5%89%E0%A4%A8_(%E0%A4%86%E0%A4%9C%E0%A5%8D%E0%A4%9E%E0%A4%BE%E0%A4%B5%E0%A4%B2%E0%A5%80_%E0%A4%AD%E0%A4%BE%E0%A4%B7%E0%A4%BE)\nhttps://nl.wikipedia.org/wiki/Python\nhttps://ja.wikipedia.org/wiki/%E3%83%91%E3%82%A4%E3%82%BD%E3%83%B3\nhttps://no.wikipedia.org/wiki/Pyton\nhttps://pl.wikipedia.org/wiki/Pyton\nhttps://pt.wikipedia.org/wiki/Python_(desambigua%C3%A7%C3%A3o)\nhttps://ru.wikipedia.org/wiki/Python_(%D0%B7%D0%BD%D0%B0%D1%87%D0%B5%D0%BD%D0%B8%D1%8F)\nhttps://sk.wikipedia.org/wiki/Python\nhttps://sr.wikipedia.org/wiki/%D0%9F%D0%B8%D1%82%D0%BE%D0%BD_(%D0%B2%D0%B8%D1%88%D0%B5%D0%B7%D0%BD%D0%B0%D1%87%D0%BD%D0%B0_%D0%BE%D0%B4%D1%80%D0%B5%D0%B4%D0%BD%D0%B8%D1%86%D0%B0)\nhttps://sh.wikipedia.org/wiki/Python\nhttps://fi.wikipedia.org/wiki/Python\nhttps://sv.wikipedia.org/wiki/Pyton\nhttps://th.wikipedia.org/wiki/%E0%B9%84%E0%B8%9E%E0%B8%97%E0%B8%AD%E0%B8%99\nhttps://tr.wikipedia.org/wiki/Python\nhttps://uk.wikipedia.org/wiki/%D0%9F%D1%96%D1%84%D0%BE%D0%BD\nhttps://ur.wikipedia.org/wiki/%D9%BE%D8%A7%D8%A6%DB%8C%D8%AA%DA%BE%D9%88%D9%86\nhttps://vi.wikipedia.org/wiki/Python\nhttps://zh.wikipedia.org/wiki/Python_(%E6%B6%88%E6%AD%A7%E4%B9%89)\nhttps://www.wikidata.org/wiki/Special:EntityPage/Q747452#sitelinks-wikipedia\nhttps://foundation.wikimedia.org/wiki/Privacy_policy\nhttps://www.mediawiki.org/wiki/Special:MyLanguage/How_to_contribute\nhttps://stats.wikimedia.org/#/en.wikipedia.org\nhttps://foundation.wikimedia.org/wiki/Cookie_statement\nhttps://wikimediafoundation.org/\nhttps://www.mediawiki.org/\n"
     ]
    }
   ],
   "source": [
    "list_of_links = []\n",
    "for link in links:\n",
    "    href = link.get('href')\n",
    "    if href and href[:4] == \"http\":\n",
    "        print(href)\n",
    "        list_of_links.append(href)"
   ]
  },
  {
   "source": [
    "### Top ten criminals\n",
    "\n",
    "#### Get and save images locally"
   ],
   "cell_type": "markdown",
   "metadata": {}
  },
  {
   "cell_type": "code",
   "execution_count": 31,
   "metadata": {},
   "outputs": [
    {
     "output_type": "execute_result",
     "data": {
      "text/plain": [
       "[<img src=\"++theme++fbigov.theme/uswds-2.9.0/img/icon-dot-gov.svg\"/>,\n",
       " <img src=\"++theme++fbigov.theme/uswds-2.9.0/img/icon-https.svg\"/>,\n",
       " <img alt=\"Federal Bureau of Investigation Logo\" src=\"https://www.fbi.gov/++theme++fbigov.theme/images/fbibannerseal.png\" title=\"Federal Bureau of Investigation\"/>,\n",
       " <img alt=\"EUGENE PALMER\" class=\"\" src=\"https://www.fbi.gov/wanted/topten/eugene-palmer/@@images/image/preview\"/>,\n",
       " <img alt=\"RAFAEL CARO-QUINTERO\" class=\"\" src=\"https://www.fbi.gov/wanted/topten/rafael-caro-quintero/@@images/image/preview\"/>,\n",
       " <img alt=\"ROBERT WILLIAM FISHER\" class=\"\" src=\"https://www.fbi.gov/wanted/topten/robert-william-fisher/@@images/image/preview\"/>,\n",
       " <img alt=\"BHADRESHKUMAR CHETANBHAI PATEL\" class=\"\" src=\"https://www.fbi.gov/wanted/topten/bhadreshkumar-chetanbhai-patel/@@images/image/preview\"/>,\n",
       " <img alt=\"ALEJANDRO ROSALES CASTILLO\" class=\"\" src=\"https://www.fbi.gov/wanted/topten/alejandro-castillo/@@images/image/preview\"/>,\n",
       " <img alt=\"ARNOLDO JIMENEZ\" class=\"\" src=\"https://www.fbi.gov/wanted/topten/arnoldo-jimenez/@@images/image/preview\"/>,\n",
       " <img alt=\"JASON DEREK BROWN\" class=\"\" src=\"https://www.fbi.gov/wanted/topten/jason-derek-brown/@@images/image/preview\"/>,\n",
       " <img alt=\"ALEXIS FLORES\" class=\"\" src=\"https://www.fbi.gov/wanted/topten/alexis-flores/@@images/image/preview\"/>,\n",
       " <img alt=\"JOSE RODOLFO VILLARREAL-HERNANDEZ\" class=\"\" src=\"https://www.fbi.gov/wanted/topten/jose-rodolfo-villarreal-hernandez/@@images/image/preview\"/>,\n",
       " <img alt=\"YASER ABDEL SAID\" class=\"\" src=\"https://www.fbi.gov/wanted/topten/yaser-abdel-said/@@images/image/preview\"/>]"
      ]
     },
     "metadata": {},
     "execution_count": 31
    }
   ],
   "source": [
    "# List of images\n",
    "url = 'https://www.fbi.gov/wanted/topten'\n",
    "\n",
    "imgs = []\n",
    "\n",
    "res= requests.get(url)\n",
    "html=res.text\n",
    "soup = BeautifulSoup(html, \"html.parser\")\n",
    "# select \n",
    "fbi = soup.select('img') # tienes que meterte en el codigo de la pagina para ver cual es la etiqueta de las imagenes\n",
    "fbi"
   ]
  },
  {
   "cell_type": "code",
   "execution_count": 32,
   "metadata": {},
   "outputs": [
    {
     "output_type": "execute_result",
     "data": {
      "text/plain": [
       "['++theme++fbigov.theme/uswds-2.9.0/img/icon-dot-gov.svg',\n",
       " '++theme++fbigov.theme/uswds-2.9.0/img/icon-https.svg',\n",
       " 'https://www.fbi.gov/++theme++fbigov.theme/images/fbibannerseal.png',\n",
       " 'https://www.fbi.gov/wanted/topten/eugene-palmer/@@images/image/preview',\n",
       " 'https://www.fbi.gov/wanted/topten/rafael-caro-quintero/@@images/image/preview',\n",
       " 'https://www.fbi.gov/wanted/topten/robert-william-fisher/@@images/image/preview',\n",
       " 'https://www.fbi.gov/wanted/topten/bhadreshkumar-chetanbhai-patel/@@images/image/preview',\n",
       " 'https://www.fbi.gov/wanted/topten/alejandro-castillo/@@images/image/preview',\n",
       " 'https://www.fbi.gov/wanted/topten/arnoldo-jimenez/@@images/image/preview',\n",
       " 'https://www.fbi.gov/wanted/topten/jason-derek-brown/@@images/image/preview',\n",
       " 'https://www.fbi.gov/wanted/topten/alexis-flores/@@images/image/preview',\n",
       " 'https://www.fbi.gov/wanted/topten/jose-rodolfo-villarreal-hernandez/@@images/image/preview',\n",
       " 'https://www.fbi.gov/wanted/topten/yaser-abdel-said/@@images/image/preview']"
      ]
     },
     "metadata": {},
     "execution_count": 32
    }
   ],
   "source": [
    "for x in fbi:\n",
    "    imgs.append(x.get(\"src\"))\n",
    "imgs"
   ]
  },
  {
   "cell_type": "markdown",
   "metadata": {},
   "source": [
    "### Little bonus\n"
   ]
  },
  {
   "cell_type": "code",
   "execution_count": 33,
   "metadata": {
    "tags": []
   },
   "outputs": [],
   "source": [
    "for i, img_url in enumerate(imgs):\n",
    "    img_url = elem.get(\"src\")\n",
    "    if not \"+\" in img_url:  \n",
    "# or http in img_url, el + es para identificar las fotos que queremos\n",
    "        response = requests.get(img_url)\n",
    "        if response.status_code == 200:  # Get OK, por eso 200\n",
    "            with open(str(i) + \".png\", 'wb') as f: \n",
    "                # wb es escribir bites, para imagenes (tambien vale a o w+)\n",
    "                f.write(response.content)"
   ]
  },
  {
   "cell_type": "code",
   "execution_count": 34,
   "metadata": {},
   "outputs": [
    {
     "output_type": "stream",
     "name": "stdout",
     "text": [
      "None\nNone\nFederal Bureau of Investigation Logo\nEUGENE PALMER\nRAFAEL CARO-QUINTERO\nROBERT WILLIAM FISHER\nBHADRESHKUMAR CHETANBHAI PATEL\nALEJANDRO ROSALES CASTILLO\nARNOLDO JIMENEZ\nJASON DEREK BROWN\nALEXIS FLORES\nJOSE RODOLFO VILLARREAL-HERNANDEZ\nYASER ABDEL SAID\n"
     ]
    }
   ],
   "source": [
    "for x in fbi:\n",
    "    print(x.get(\"alt\"))"
   ]
  },
  {
   "cell_type": "code",
   "execution_count": 36,
   "metadata": {},
   "outputs": [],
   "source": [
    "# COPIAR DE GABRI COMO SE GUARDAN LAS FOTOS CN SU NOMBRE"
   ]
  }
 ],
 "metadata": {
  "language_info": {
   "codemirror_mode": {
    "name": "ipython",
    "version": 3
   },
   "file_extension": ".py",
   "mimetype": "text/x-python",
   "name": "python",
   "nbconvert_exporter": "python",
   "pygments_lexer": "ipython3",
   "version": "3.9.0-final"
  },
  "orig_nbformat": 2,
  "kernelspec": {
   "name": "python3",
   "display_name": "Python 3.9.0 64-bit",
   "metadata": {
    "interpreter": {
     "hash": "ac59ebe37160ed0dfa835113d9b8498d9f09ceb179beaac4002f036b9467c963"
    }
   }
  }
 },
 "nbformat": 4,
 "nbformat_minor": 2
}