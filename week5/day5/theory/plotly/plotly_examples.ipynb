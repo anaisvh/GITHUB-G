{
 "metadata": {
  "language_info": {
   "codemirror_mode": {
    "name": "ipython",
    "version": 3
   },
   "file_extension": ".py",
   "mimetype": "text/x-python",
   "name": "python",
   "nbconvert_exporter": "python",
   "pygments_lexer": "ipython3",
   "version": "3.9.0-final"
  },
  "orig_nbformat": 2,
  "kernelspec": {
   "name": "python3",
   "display_name": "Python 3.9.0 64-bit",
   "metadata": {
    "interpreter": {
     "hash": "ac59ebe37160ed0dfa835113d9b8498d9f09ceb179beaac4002f036b9467c963"
    }
   }
  }
 },
 "nbformat": 4,
 "nbformat_minor": 2,
 "cells": [
  {
   "cell_type": "code",
   "execution_count": 1,
   "metadata": {},
   "outputs": [
    {
     "output_type": "execute_result",
     "data": {
      "text/plain": [
       "        School  Women  Men  Gap\n",
       "0          MIT     94  152   58\n",
       "1     Stanford     96  151   55\n",
       "2      Harvard    112  165   53\n",
       "3       U.Penn     92  141   49\n",
       "4    Princeton     90  137   47\n",
       "5      Chicago     78  118   40\n",
       "6   Georgetown     94  131   37\n",
       "7        Tufts     76  112   36\n",
       "8         Yale     79  114   35\n",
       "9     Columbia     86  119   33\n",
       "10        Duke     93  124   31\n",
       "11   Dartmouth     84  114   30\n",
       "12         NYU     67   94   27\n",
       "13  Notre Dame     73  100   27\n",
       "14     Cornell     80  107   27\n",
       "15    Michigan     62   84   22\n",
       "16       Brown     72   92   20\n",
       "17    Berkeley     71   88   17\n",
       "18       Emory     68   82   14\n",
       "19        UCLA     64   78   14\n",
       "20       SoCal     72   81    9"
      ],
      "text/html": "<div>\n<style scoped>\n    .dataframe tbody tr th:only-of-type {\n        vertical-align: middle;\n    }\n\n    .dataframe tbody tr th {\n        vertical-align: top;\n    }\n\n    .dataframe thead th {\n        text-align: right;\n    }\n</style>\n<table border=\"1\" class=\"dataframe\">\n  <thead>\n    <tr style=\"text-align: right;\">\n      <th></th>\n      <th>School</th>\n      <th>Women</th>\n      <th>Men</th>\n      <th>Gap</th>\n    </tr>\n  </thead>\n  <tbody>\n    <tr>\n      <th>0</th>\n      <td>MIT</td>\n      <td>94</td>\n      <td>152</td>\n      <td>58</td>\n    </tr>\n    <tr>\n      <th>1</th>\n      <td>Stanford</td>\n      <td>96</td>\n      <td>151</td>\n      <td>55</td>\n    </tr>\n    <tr>\n      <th>2</th>\n      <td>Harvard</td>\n      <td>112</td>\n      <td>165</td>\n      <td>53</td>\n    </tr>\n    <tr>\n      <th>3</th>\n      <td>U.Penn</td>\n      <td>92</td>\n      <td>141</td>\n      <td>49</td>\n    </tr>\n    <tr>\n      <th>4</th>\n      <td>Princeton</td>\n      <td>90</td>\n      <td>137</td>\n      <td>47</td>\n    </tr>\n    <tr>\n      <th>5</th>\n      <td>Chicago</td>\n      <td>78</td>\n      <td>118</td>\n      <td>40</td>\n    </tr>\n    <tr>\n      <th>6</th>\n      <td>Georgetown</td>\n      <td>94</td>\n      <td>131</td>\n      <td>37</td>\n    </tr>\n    <tr>\n      <th>7</th>\n      <td>Tufts</td>\n      <td>76</td>\n      <td>112</td>\n      <td>36</td>\n    </tr>\n    <tr>\n      <th>8</th>\n      <td>Yale</td>\n      <td>79</td>\n      <td>114</td>\n      <td>35</td>\n    </tr>\n    <tr>\n      <th>9</th>\n      <td>Columbia</td>\n      <td>86</td>\n      <td>119</td>\n      <td>33</td>\n    </tr>\n    <tr>\n      <th>10</th>\n      <td>Duke</td>\n      <td>93</td>\n      <td>124</td>\n      <td>31</td>\n    </tr>\n    <tr>\n      <th>11</th>\n      <td>Dartmouth</td>\n      <td>84</td>\n      <td>114</td>\n      <td>30</td>\n    </tr>\n    <tr>\n      <th>12</th>\n      <td>NYU</td>\n      <td>67</td>\n      <td>94</td>\n      <td>27</td>\n    </tr>\n    <tr>\n      <th>13</th>\n      <td>Notre Dame</td>\n      <td>73</td>\n      <td>100</td>\n      <td>27</td>\n    </tr>\n    <tr>\n      <th>14</th>\n      <td>Cornell</td>\n      <td>80</td>\n      <td>107</td>\n      <td>27</td>\n    </tr>\n    <tr>\n      <th>15</th>\n      <td>Michigan</td>\n      <td>62</td>\n      <td>84</td>\n      <td>22</td>\n    </tr>\n    <tr>\n      <th>16</th>\n      <td>Brown</td>\n      <td>72</td>\n      <td>92</td>\n      <td>20</td>\n    </tr>\n    <tr>\n      <th>17</th>\n      <td>Berkeley</td>\n      <td>71</td>\n      <td>88</td>\n      <td>17</td>\n    </tr>\n    <tr>\n      <th>18</th>\n      <td>Emory</td>\n      <td>68</td>\n      <td>82</td>\n      <td>14</td>\n    </tr>\n    <tr>\n      <th>19</th>\n      <td>UCLA</td>\n      <td>64</td>\n      <td>78</td>\n      <td>14</td>\n    </tr>\n    <tr>\n      <th>20</th>\n      <td>SoCal</td>\n      <td>72</td>\n      <td>81</td>\n      <td>9</td>\n    </tr>\n  </tbody>\n</table>\n</div>"
     },
     "metadata": {},
     "execution_count": 1
    }
   ],
   "source": [
    "# pip3 install plotly\n",
    "# pip3 install psutil\n",
    "\n",
    "import pandas as pd\n",
    "import numpy as np \n",
    "import psutil\n",
    "\n",
    "import plotly.io as pio\n",
    "from plotly.offline import init_notebook_mode, iplot, plot\n",
    "from plotly.graph_objs import Scatter, Box\n",
    "import plotly.graph_objects as go\n",
    "\n",
    "df = pd.read_csv(\"https://raw.githubusercontent.com/plotly/datasets/master/school_earnings.csv\")\n",
    "df"
   ]
  },
  {
   "cell_type": "code",
   "execution_count": 2,
   "metadata": {},
   "outputs": [
    {
     "output_type": "display_data",
     "data": {
      "text/html": "        <script type=\"text/javascript\">\n        window.PlotlyConfig = {MathJaxConfig: 'local'};\n        if (window.MathJax) {MathJax.Hub.Config({SVG: {font: \"STIX-Web\"}});}\n        if (typeof require !== 'undefined') {\n        require.undef(\"plotly\");\n        requirejs.config({\n            paths: {\n                'plotly': ['https://cdn.plot.ly/plotly-latest.min']\n            }\n        });\n        require(['plotly'], function(Plotly) {\n            window._Plotly = Plotly;\n        });\n        }\n        </script>\n        "
     },
     "metadata": {}
    },
    {
     "output_type": "display_data",
     "data": {
      "application/vnd.plotly.v1+json": {
       "config": {
        "linkText": "Export to plot.ly",
        "plotlyServerURL": "https://plot.ly",
        "showLink": false
       },
       "data": [
        {
         "type": "scatter",
         "x": [
          58,
          55,
          53,
          49,
          47,
          40,
          37,
          36,
          35,
          33,
          31,
          30,
          27,
          27,
          27,
          22,
          20,
          17,
          14,
          14,
          9
         ],
         "y": [
          152,
          151,
          165,
          141,
          137,
          118,
          131,
          112,
          114,
          119,
          124,
          114,
          94,
          100,
          107,
          84,
          92,
          88,
          82,
          78,
          81
         ]
        },
        {
         "type": "scatter",
         "x": [
          58,
          55,
          53,
          49,
          47,
          40,
          37,
          36,
          35,
          33,
          31,
          30,
          27,
          27,
          27,
          22,
          20,
          17,
          14,
          14,
          9
         ],
         "y": [
          94,
          96,
          112,
          92,
          90,
          78,
          94,
          76,
          79,
          86,
          93,
          84,
          67,
          73,
          80,
          62,
          72,
          71,
          68,
          64,
          72
         ]
        }
       ],
       "layout": {
        "template": {
         "data": {
          "bar": [
           {
            "error_x": {
             "color": "#2a3f5f"
            },
            "error_y": {
             "color": "#2a3f5f"
            },
            "marker": {
             "line": {
              "color": "#E5ECF6",
              "width": 0.5
             }
            },
            "type": "bar"
           }
          ],
          "barpolar": [
           {
            "marker": {
             "line": {
              "color": "#E5ECF6",
              "width": 0.5
             }
            },
            "type": "barpolar"
           }
          ],
          "carpet": [
           {
            "aaxis": {
             "endlinecolor": "#2a3f5f",
             "gridcolor": "white",
             "linecolor": "white",
             "minorgridcolor": "white",
             "startlinecolor": "#2a3f5f"
            },
            "baxis": {
             "endlinecolor": "#2a3f5f",
             "gridcolor": "white",
             "linecolor": "white",
             "minorgridcolor": "white",
             "startlinecolor": "#2a3f5f"
            },
            "type": "carpet"
           }
          ],
          "choropleth": [
           {
            "colorbar": {
             "outlinewidth": 0,
             "ticks": ""
            },
            "type": "choropleth"
           }
          ],
          "contour": [
           {
            "colorbar": {
             "outlinewidth": 0,
             "ticks": ""
            },
            "colorscale": [
             [
              0,
              "#0d0887"
             ],
             [
              0.1111111111111111,
              "#46039f"
             ],
             [
              0.2222222222222222,
              "#7201a8"
             ],
             [
              0.3333333333333333,
              "#9c179e"
             ],
             [
              0.4444444444444444,
              "#bd3786"
             ],
             [
              0.5555555555555556,
              "#d8576b"
             ],
             [
              0.6666666666666666,
              "#ed7953"
             ],
             [
              0.7777777777777778,
              "#fb9f3a"
             ],
             [
              0.8888888888888888,
              "#fdca26"
             ],
             [
              1,
              "#f0f921"
             ]
            ],
            "type": "contour"
           }
          ],
          "contourcarpet": [
           {
            "colorbar": {
             "outlinewidth": 0,
             "ticks": ""
            },
            "type": "contourcarpet"
           }
          ],
          "heatmap": [
           {
            "colorbar": {
             "outlinewidth": 0,
             "ticks": ""
            },
            "colorscale": [
             [
              0,
              "#0d0887"
             ],
             [
              0.1111111111111111,
              "#46039f"
             ],
             [
              0.2222222222222222,
              "#7201a8"
             ],
             [
              0.3333333333333333,
              "#9c179e"
             ],
             [
              0.4444444444444444,
              "#bd3786"
             ],
             [
              0.5555555555555556,
              "#d8576b"
             ],
             [
              0.6666666666666666,
              "#ed7953"
             ],
             [
              0.7777777777777778,
              "#fb9f3a"
             ],
             [
              0.8888888888888888,
              "#fdca26"
             ],
             [
              1,
              "#f0f921"
             ]
            ],
            "type": "heatmap"
           }
          ],
          "heatmapgl": [
           {
            "colorbar": {
             "outlinewidth": 0,
             "ticks": ""
            },
            "colorscale": [
             [
              0,
              "#0d0887"
             ],
             [
              0.1111111111111111,
              "#46039f"
             ],
             [
              0.2222222222222222,
              "#7201a8"
             ],
             [
              0.3333333333333333,
              "#9c179e"
             ],
             [
              0.4444444444444444,
              "#bd3786"
             ],
             [
              0.5555555555555556,
              "#d8576b"
             ],
             [
              0.6666666666666666,
              "#ed7953"
             ],
             [
              0.7777777777777778,
              "#fb9f3a"
             ],
             [
              0.8888888888888888,
              "#fdca26"
             ],
             [
              1,
              "#f0f921"
             ]
            ],
            "type": "heatmapgl"
           }
          ],
          "histogram": [
           {
            "marker": {
             "colorbar": {
              "outlinewidth": 0,
              "ticks": ""
             }
            },
            "type": "histogram"
           }
          ],
          "histogram2d": [
           {
            "colorbar": {
             "outlinewidth": 0,
             "ticks": ""
            },
            "colorscale": [
             [
              0,
              "#0d0887"
             ],
             [
              0.1111111111111111,
              "#46039f"
             ],
             [
              0.2222222222222222,
              "#7201a8"
             ],
             [
              0.3333333333333333,
              "#9c179e"
             ],
             [
              0.4444444444444444,
              "#bd3786"
             ],
             [
              0.5555555555555556,
              "#d8576b"
             ],
             [
              0.6666666666666666,
              "#ed7953"
             ],
             [
              0.7777777777777778,
              "#fb9f3a"
             ],
             [
              0.8888888888888888,
              "#fdca26"
             ],
             [
              1,
              "#f0f921"
             ]
            ],
            "type": "histogram2d"
           }
          ],
          "histogram2dcontour": [
           {
            "colorbar": {
             "outlinewidth": 0,
             "ticks": ""
            },
            "colorscale": [
             [
              0,
              "#0d0887"
             ],
             [
              0.1111111111111111,
              "#46039f"
             ],
             [
              0.2222222222222222,
              "#7201a8"
             ],
             [
              0.3333333333333333,
              "#9c179e"
             ],
             [
              0.4444444444444444,
              "#bd3786"
             ],
             [
              0.5555555555555556,
              "#d8576b"
             ],
             [
              0.6666666666666666,
              "#ed7953"
             ],
             [
              0.7777777777777778,
              "#fb9f3a"
             ],
             [
              0.8888888888888888,
              "#fdca26"
             ],
             [
              1,
              "#f0f921"
             ]
            ],
            "type": "histogram2dcontour"
           }
          ],
          "mesh3d": [
           {
            "colorbar": {
             "outlinewidth": 0,
             "ticks": ""
            },
            "type": "mesh3d"
           }
          ],
          "parcoords": [
           {
            "line": {
             "colorbar": {
              "outlinewidth": 0,
              "ticks": ""
             }
            },
            "type": "parcoords"
           }
          ],
          "pie": [
           {
            "automargin": true,
            "type": "pie"
           }
          ],
          "scatter": [
           {
            "marker": {
             "colorbar": {
              "outlinewidth": 0,
              "ticks": ""
             }
            },
            "type": "scatter"
           }
          ],
          "scatter3d": [
           {
            "line": {
             "colorbar": {
              "outlinewidth": 0,
              "ticks": ""
             }
            },
            "marker": {
             "colorbar": {
              "outlinewidth": 0,
              "ticks": ""
             }
            },
            "type": "scatter3d"
           }
          ],
          "scattercarpet": [
           {
            "marker": {
             "colorbar": {
              "outlinewidth": 0,
              "ticks": ""
             }
            },
            "type": "scattercarpet"
           }
          ],
          "scattergeo": [
           {
            "marker": {
             "colorbar": {
              "outlinewidth": 0,
              "ticks": ""
             }
            },
            "type": "scattergeo"
           }
          ],
          "scattergl": [
           {
            "marker": {
             "colorbar": {
              "outlinewidth": 0,
              "ticks": ""
             }
            },
            "type": "scattergl"
           }
          ],
          "scattermapbox": [
           {
            "marker": {
             "colorbar": {
              "outlinewidth": 0,
              "ticks": ""
             }
            },
            "type": "scattermapbox"
           }
          ],
          "scatterpolar": [
           {
            "marker": {
             "colorbar": {
              "outlinewidth": 0,
              "ticks": ""
             }
            },
            "type": "scatterpolar"
           }
          ],
          "scatterpolargl": [
           {
            "marker": {
             "colorbar": {
              "outlinewidth": 0,
              "ticks": ""
             }
            },
            "type": "scatterpolargl"
           }
          ],
          "scatterternary": [
           {
            "marker": {
             "colorbar": {
              "outlinewidth": 0,
              "ticks": ""
             }
            },
            "type": "scatterternary"
           }
          ],
          "surface": [
           {
            "colorbar": {
             "outlinewidth": 0,
             "ticks": ""
            },
            "colorscale": [
             [
              0,
              "#0d0887"
             ],
             [
              0.1111111111111111,
              "#46039f"
             ],
             [
              0.2222222222222222,
              "#7201a8"
             ],
             [
              0.3333333333333333,
              "#9c179e"
             ],
             [
              0.4444444444444444,
              "#bd3786"
             ],
             [
              0.5555555555555556,
              "#d8576b"
             ],
             [
              0.6666666666666666,
              "#ed7953"
             ],
             [
              0.7777777777777778,
              "#fb9f3a"
             ],
             [
              0.8888888888888888,
              "#fdca26"
             ],
             [
              1,
              "#f0f921"
             ]
            ],
            "type": "surface"
           }
          ],
          "table": [
           {
            "cells": {
             "fill": {
              "color": "#EBF0F8"
             },
             "line": {
              "color": "white"
             }
            },
            "header": {
             "fill": {
              "color": "#C8D4E3"
             },
             "line": {
              "color": "white"
             }
            },
            "type": "table"
           }
          ]
         },
         "layout": {
          "annotationdefaults": {
           "arrowcolor": "#2a3f5f",
           "arrowhead": 0,
           "arrowwidth": 1
          },
          "autotypenumbers": "strict",
          "coloraxis": {
           "colorbar": {
            "outlinewidth": 0,
            "ticks": ""
           }
          },
          "colorscale": {
           "diverging": [
            [
             0,
             "#8e0152"
            ],
            [
             0.1,
             "#c51b7d"
            ],
            [
             0.2,
             "#de77ae"
            ],
            [
             0.3,
             "#f1b6da"
            ],
            [
             0.4,
             "#fde0ef"
            ],
            [
             0.5,
             "#f7f7f7"
            ],
            [
             0.6,
             "#e6f5d0"
            ],
            [
             0.7,
             "#b8e186"
            ],
            [
             0.8,
             "#7fbc41"
            ],
            [
             0.9,
             "#4d9221"
            ],
            [
             1,
             "#276419"
            ]
           ],
           "sequential": [
            [
             0,
             "#0d0887"
            ],
            [
             0.1111111111111111,
             "#46039f"
            ],
            [
             0.2222222222222222,
             "#7201a8"
            ],
            [
             0.3333333333333333,
             "#9c179e"
            ],
            [
             0.4444444444444444,
             "#bd3786"
            ],
            [
             0.5555555555555556,
             "#d8576b"
            ],
            [
             0.6666666666666666,
             "#ed7953"
            ],
            [
             0.7777777777777778,
             "#fb9f3a"
            ],
            [
             0.8888888888888888,
             "#fdca26"
            ],
            [
             1,
             "#f0f921"
            ]
           ],
           "sequentialminus": [
            [
             0,
             "#0d0887"
            ],
            [
             0.1111111111111111,
             "#46039f"
            ],
            [
             0.2222222222222222,
             "#7201a8"
            ],
            [
             0.3333333333333333,
             "#9c179e"
            ],
            [
             0.4444444444444444,
             "#bd3786"
            ],
            [
             0.5555555555555556,
             "#d8576b"
            ],
            [
             0.6666666666666666,
             "#ed7953"
            ],
            [
             0.7777777777777778,
             "#fb9f3a"
            ],
            [
             0.8888888888888888,
             "#fdca26"
            ],
            [
             1,
             "#f0f921"
            ]
           ]
          },
          "colorway": [
           "#636efa",
           "#EF553B",
           "#00cc96",
           "#ab63fa",
           "#FFA15A",
           "#19d3f3",
           "#FF6692",
           "#B6E880",
           "#FF97FF",
           "#FECB52"
          ],
          "font": {
           "color": "#2a3f5f"
          },
          "geo": {
           "bgcolor": "white",
           "lakecolor": "white",
           "landcolor": "#E5ECF6",
           "showlakes": true,
           "showland": true,
           "subunitcolor": "white"
          },
          "hoverlabel": {
           "align": "left"
          },
          "hovermode": "closest",
          "mapbox": {
           "style": "light"
          },
          "paper_bgcolor": "white",
          "plot_bgcolor": "#E5ECF6",
          "polar": {
           "angularaxis": {
            "gridcolor": "white",
            "linecolor": "white",
            "ticks": ""
           },
           "bgcolor": "#E5ECF6",
           "radialaxis": {
            "gridcolor": "white",
            "linecolor": "white",
            "ticks": ""
           }
          },
          "scene": {
           "xaxis": {
            "backgroundcolor": "#E5ECF6",
            "gridcolor": "white",
            "gridwidth": 2,
            "linecolor": "white",
            "showbackground": true,
            "ticks": "",
            "zerolinecolor": "white"
           },
           "yaxis": {
            "backgroundcolor": "#E5ECF6",
            "gridcolor": "white",
            "gridwidth": 2,
            "linecolor": "white",
            "showbackground": true,
            "ticks": "",
            "zerolinecolor": "white"
           },
           "zaxis": {
            "backgroundcolor": "#E5ECF6",
            "gridcolor": "white",
            "gridwidth": 2,
            "linecolor": "white",
            "showbackground": true,
            "ticks": "",
            "zerolinecolor": "white"
           }
          },
          "shapedefaults": {
           "line": {
            "color": "#2a3f5f"
           }
          },
          "ternary": {
           "aaxis": {
            "gridcolor": "white",
            "linecolor": "white",
            "ticks": ""
           },
           "baxis": {
            "gridcolor": "white",
            "linecolor": "white",
            "ticks": ""
           },
           "bgcolor": "#E5ECF6",
           "caxis": {
            "gridcolor": "white",
            "linecolor": "white",
            "ticks": ""
           }
          },
          "title": {
           "x": 0.05
          },
          "xaxis": {
           "automargin": true,
           "gridcolor": "white",
           "linecolor": "white",
           "ticks": "",
           "title": {
            "standoff": 15
           },
           "zerolinecolor": "white",
           "zerolinewidth": 2
          },
          "yaxis": {
           "automargin": true,
           "gridcolor": "white",
           "linecolor": "white",
           "ticks": "",
           "title": {
            "standoff": 15
           },
           "zerolinecolor": "white",
           "zerolinewidth": 2
          }
         }
        }
       }
      },
      "text/html": "<div>                            <div id=\"c51aefc0-5c3e-4f76-aacb-fd15adf912e3\" class=\"plotly-graph-div\" style=\"height:525px; width:100%;\"></div>            <script type=\"text/javascript\">                require([\"plotly\"], function(Plotly) {                    window.PLOTLYENV=window.PLOTLYENV || {};                                    if (document.getElementById(\"c51aefc0-5c3e-4f76-aacb-fd15adf912e3\")) {                    Plotly.newPlot(                        \"c51aefc0-5c3e-4f76-aacb-fd15adf912e3\",                        [{\"type\": \"scatter\", \"x\": [58, 55, 53, 49, 47, 40, 37, 36, 35, 33, 31, 30, 27, 27, 27, 22, 20, 17, 14, 14, 9], \"y\": [152, 151, 165, 141, 137, 118, 131, 112, 114, 119, 124, 114, 94, 100, 107, 84, 92, 88, 82, 78, 81]}, {\"type\": \"scatter\", \"x\": [58, 55, 53, 49, 47, 40, 37, 36, 35, 33, 31, 30, 27, 27, 27, 22, 20, 17, 14, 14, 9], \"y\": [94, 96, 112, 92, 90, 78, 94, 76, 79, 86, 93, 84, 67, 73, 80, 62, 72, 71, 68, 64, 72]}],                        {\"template\": {\"data\": {\"bar\": [{\"error_x\": {\"color\": \"#2a3f5f\"}, \"error_y\": {\"color\": \"#2a3f5f\"}, \"marker\": {\"line\": {\"color\": \"#E5ECF6\", \"width\": 0.5}}, \"type\": \"bar\"}], \"barpolar\": [{\"marker\": {\"line\": {\"color\": \"#E5ECF6\", \"width\": 0.5}}, \"type\": \"barpolar\"}], \"carpet\": [{\"aaxis\": {\"endlinecolor\": \"#2a3f5f\", \"gridcolor\": \"white\", \"linecolor\": \"white\", \"minorgridcolor\": \"white\", \"startlinecolor\": \"#2a3f5f\"}, \"baxis\": {\"endlinecolor\": \"#2a3f5f\", \"gridcolor\": \"white\", \"linecolor\": \"white\", \"minorgridcolor\": \"white\", \"startlinecolor\": \"#2a3f5f\"}, \"type\": \"carpet\"}], \"choropleth\": [{\"colorbar\": {\"outlinewidth\": 0, \"ticks\": \"\"}, \"type\": \"choropleth\"}], \"contour\": [{\"colorbar\": {\"outlinewidth\": 0, \"ticks\": \"\"}, \"colorscale\": [[0.0, \"#0d0887\"], [0.1111111111111111, \"#46039f\"], [0.2222222222222222, \"#7201a8\"], [0.3333333333333333, \"#9c179e\"], [0.4444444444444444, \"#bd3786\"], [0.5555555555555556, \"#d8576b\"], [0.6666666666666666, \"#ed7953\"], [0.7777777777777778, \"#fb9f3a\"], [0.8888888888888888, \"#fdca26\"], [1.0, \"#f0f921\"]], \"type\": \"contour\"}], \"contourcarpet\": [{\"colorbar\": {\"outlinewidth\": 0, \"ticks\": \"\"}, \"type\": \"contourcarpet\"}], \"heatmap\": [{\"colorbar\": {\"outlinewidth\": 0, \"ticks\": \"\"}, \"colorscale\": [[0.0, \"#0d0887\"], [0.1111111111111111, \"#46039f\"], [0.2222222222222222, \"#7201a8\"], [0.3333333333333333, \"#9c179e\"], [0.4444444444444444, \"#bd3786\"], [0.5555555555555556, \"#d8576b\"], [0.6666666666666666, \"#ed7953\"], [0.7777777777777778, \"#fb9f3a\"], [0.8888888888888888, \"#fdca26\"], [1.0, \"#f0f921\"]], \"type\": \"heatmap\"}], \"heatmapgl\": [{\"colorbar\": {\"outlinewidth\": 0, \"ticks\": \"\"}, \"colorscale\": [[0.0, \"#0d0887\"], [0.1111111111111111, \"#46039f\"], [0.2222222222222222, \"#7201a8\"], [0.3333333333333333, \"#9c179e\"], [0.4444444444444444, \"#bd3786\"], [0.5555555555555556, \"#d8576b\"], [0.6666666666666666, \"#ed7953\"], [0.7777777777777778, \"#fb9f3a\"], [0.8888888888888888, \"#fdca26\"], [1.0, \"#f0f921\"]], \"type\": \"heatmapgl\"}], \"histogram\": [{\"marker\": {\"colorbar\": {\"outlinewidth\": 0, \"ticks\": \"\"}}, \"type\": \"histogram\"}], \"histogram2d\": [{\"colorbar\": {\"outlinewidth\": 0, \"ticks\": \"\"}, \"colorscale\": [[0.0, \"#0d0887\"], [0.1111111111111111, \"#46039f\"], [0.2222222222222222, \"#7201a8\"], [0.3333333333333333, \"#9c179e\"], [0.4444444444444444, \"#bd3786\"], [0.5555555555555556, \"#d8576b\"], [0.6666666666666666, \"#ed7953\"], [0.7777777777777778, \"#fb9f3a\"], [0.8888888888888888, \"#fdca26\"], [1.0, \"#f0f921\"]], \"type\": \"histogram2d\"}], \"histogram2dcontour\": [{\"colorbar\": {\"outlinewidth\": 0, \"ticks\": \"\"}, \"colorscale\": [[0.0, \"#0d0887\"], [0.1111111111111111, \"#46039f\"], [0.2222222222222222, \"#7201a8\"], [0.3333333333333333, \"#9c179e\"], [0.4444444444444444, \"#bd3786\"], [0.5555555555555556, \"#d8576b\"], [0.6666666666666666, \"#ed7953\"], [0.7777777777777778, \"#fb9f3a\"], [0.8888888888888888, \"#fdca26\"], [1.0, \"#f0f921\"]], \"type\": \"histogram2dcontour\"}], \"mesh3d\": [{\"colorbar\": {\"outlinewidth\": 0, \"ticks\": \"\"}, \"type\": \"mesh3d\"}], \"parcoords\": [{\"line\": {\"colorbar\": {\"outlinewidth\": 0, \"ticks\": \"\"}}, \"type\": \"parcoords\"}], \"pie\": [{\"automargin\": true, \"type\": \"pie\"}], \"scatter\": [{\"marker\": {\"colorbar\": {\"outlinewidth\": 0, \"ticks\": \"\"}}, \"type\": \"scatter\"}], \"scatter3d\": [{\"line\": {\"colorbar\": {\"outlinewidth\": 0, \"ticks\": \"\"}}, \"marker\": {\"colorbar\": {\"outlinewidth\": 0, \"ticks\": \"\"}}, \"type\": \"scatter3d\"}], \"scattercarpet\": [{\"marker\": {\"colorbar\": {\"outlinewidth\": 0, \"ticks\": \"\"}}, \"type\": \"scattercarpet\"}], \"scattergeo\": [{\"marker\": {\"colorbar\": {\"outlinewidth\": 0, \"ticks\": \"\"}}, \"type\": \"scattergeo\"}], \"scattergl\": [{\"marker\": {\"colorbar\": {\"outlinewidth\": 0, \"ticks\": \"\"}}, \"type\": \"scattergl\"}], \"scattermapbox\": [{\"marker\": {\"colorbar\": {\"outlinewidth\": 0, \"ticks\": \"\"}}, \"type\": \"scattermapbox\"}], \"scatterpolar\": [{\"marker\": {\"colorbar\": {\"outlinewidth\": 0, \"ticks\": \"\"}}, \"type\": \"scatterpolar\"}], \"scatterpolargl\": [{\"marker\": {\"colorbar\": {\"outlinewidth\": 0, \"ticks\": \"\"}}, \"type\": \"scatterpolargl\"}], \"scatterternary\": [{\"marker\": {\"colorbar\": {\"outlinewidth\": 0, \"ticks\": \"\"}}, \"type\": \"scatterternary\"}], \"surface\": [{\"colorbar\": {\"outlinewidth\": 0, \"ticks\": \"\"}, \"colorscale\": [[0.0, \"#0d0887\"], [0.1111111111111111, \"#46039f\"], [0.2222222222222222, \"#7201a8\"], [0.3333333333333333, \"#9c179e\"], [0.4444444444444444, \"#bd3786\"], [0.5555555555555556, \"#d8576b\"], [0.6666666666666666, \"#ed7953\"], [0.7777777777777778, \"#fb9f3a\"], [0.8888888888888888, \"#fdca26\"], [1.0, \"#f0f921\"]], \"type\": \"surface\"}], \"table\": [{\"cells\": {\"fill\": {\"color\": \"#EBF0F8\"}, \"line\": {\"color\": \"white\"}}, \"header\": {\"fill\": {\"color\": \"#C8D4E3\"}, \"line\": {\"color\": \"white\"}}, \"type\": \"table\"}]}, \"layout\": {\"annotationdefaults\": {\"arrowcolor\": \"#2a3f5f\", \"arrowhead\": 0, \"arrowwidth\": 1}, \"autotypenumbers\": \"strict\", \"coloraxis\": {\"colorbar\": {\"outlinewidth\": 0, \"ticks\": \"\"}}, \"colorscale\": {\"diverging\": [[0, \"#8e0152\"], [0.1, \"#c51b7d\"], [0.2, \"#de77ae\"], [0.3, \"#f1b6da\"], [0.4, \"#fde0ef\"], [0.5, \"#f7f7f7\"], [0.6, \"#e6f5d0\"], [0.7, \"#b8e186\"], [0.8, \"#7fbc41\"], [0.9, \"#4d9221\"], [1, \"#276419\"]], \"sequential\": [[0.0, \"#0d0887\"], [0.1111111111111111, \"#46039f\"], [0.2222222222222222, \"#7201a8\"], [0.3333333333333333, \"#9c179e\"], [0.4444444444444444, \"#bd3786\"], [0.5555555555555556, \"#d8576b\"], [0.6666666666666666, \"#ed7953\"], [0.7777777777777778, \"#fb9f3a\"], [0.8888888888888888, \"#fdca26\"], [1.0, \"#f0f921\"]], \"sequentialminus\": [[0.0, \"#0d0887\"], [0.1111111111111111, \"#46039f\"], [0.2222222222222222, \"#7201a8\"], [0.3333333333333333, \"#9c179e\"], [0.4444444444444444, \"#bd3786\"], [0.5555555555555556, \"#d8576b\"], [0.6666666666666666, \"#ed7953\"], [0.7777777777777778, \"#fb9f3a\"], [0.8888888888888888, \"#fdca26\"], [1.0, \"#f0f921\"]]}, \"colorway\": [\"#636efa\", \"#EF553B\", \"#00cc96\", \"#ab63fa\", \"#FFA15A\", \"#19d3f3\", \"#FF6692\", \"#B6E880\", \"#FF97FF\", \"#FECB52\"], \"font\": {\"color\": \"#2a3f5f\"}, \"geo\": {\"bgcolor\": \"white\", \"lakecolor\": \"white\", \"landcolor\": \"#E5ECF6\", \"showlakes\": true, \"showland\": true, \"subunitcolor\": \"white\"}, \"hoverlabel\": {\"align\": \"left\"}, \"hovermode\": \"closest\", \"mapbox\": {\"style\": \"light\"}, \"paper_bgcolor\": \"white\", \"plot_bgcolor\": \"#E5ECF6\", \"polar\": {\"angularaxis\": {\"gridcolor\": \"white\", \"linecolor\": \"white\", \"ticks\": \"\"}, \"bgcolor\": \"#E5ECF6\", \"radialaxis\": {\"gridcolor\": \"white\", \"linecolor\": \"white\", \"ticks\": \"\"}}, \"scene\": {\"xaxis\": {\"backgroundcolor\": \"#E5ECF6\", \"gridcolor\": \"white\", \"gridwidth\": 2, \"linecolor\": \"white\", \"showbackground\": true, \"ticks\": \"\", \"zerolinecolor\": \"white\"}, \"yaxis\": {\"backgroundcolor\": \"#E5ECF6\", \"gridcolor\": \"white\", \"gridwidth\": 2, \"linecolor\": \"white\", \"showbackground\": true, \"ticks\": \"\", \"zerolinecolor\": \"white\"}, \"zaxis\": {\"backgroundcolor\": \"#E5ECF6\", \"gridcolor\": \"white\", \"gridwidth\": 2, \"linecolor\": \"white\", \"showbackground\": true, \"ticks\": \"\", \"zerolinecolor\": \"white\"}}, \"shapedefaults\": {\"line\": {\"color\": \"#2a3f5f\"}}, \"ternary\": {\"aaxis\": {\"gridcolor\": \"white\", \"linecolor\": \"white\", \"ticks\": \"\"}, \"baxis\": {\"gridcolor\": \"white\", \"linecolor\": \"white\", \"ticks\": \"\"}, \"bgcolor\": \"#E5ECF6\", \"caxis\": {\"gridcolor\": \"white\", \"linecolor\": \"white\", \"ticks\": \"\"}}, \"title\": {\"x\": 0.05}, \"xaxis\": {\"automargin\": true, \"gridcolor\": \"white\", \"linecolor\": \"white\", \"ticks\": \"\", \"title\": {\"standoff\": 15}, \"zerolinecolor\": \"white\", \"zerolinewidth\": 2}, \"yaxis\": {\"automargin\": true, \"gridcolor\": \"white\", \"linecolor\": \"white\", \"ticks\": \"\", \"title\": {\"standoff\": 15}, \"zerolinecolor\": \"white\", \"zerolinewidth\": 2}}}},                        {\"responsive\": true}                    ).then(function(){\n                            \nvar gd = document.getElementById('c51aefc0-5c3e-4f76-aacb-fd15adf912e3');\nvar x = new MutationObserver(function (mutations, observer) {{\n        var display = window.getComputedStyle(gd).display;\n        if (!display || display === 'none') {{\n            console.log([gd, 'removed!']);\n            Plotly.purge(gd);\n            observer.disconnect();\n        }}\n}});\n\n// Listen for the removal of the full notebook cells\nvar notebookContainer = gd.closest('#notebook-container');\nif (notebookContainer) {{\n    x.observe(notebookContainer, {childList: true});\n}}\n\n// Listen for the clearing of the current output cell\nvar outputEl = gd.closest('.output');\nif (outputEl) {{\n    x.observe(outputEl, {childList: true});\n}}\n\n                        })                };                });            </script>        </div>"
     },
     "metadata": {}
    }
   ],
   "source": [
    "init_notebook_mode(connected=True)         # initiate notebook for offline plot\n",
    "\n",
    "trace0 = Scatter(\n",
    "  x=df[\"Gap\"],\n",
    "  y=df[\"Men\"]\n",
    ")\n",
    "trace1 = Scatter(\n",
    "  x=df[\"Gap\"],\n",
    "  y=df[\"Women\"]\n",
    ")\n",
    "\n",
    "iplot([trace0, trace1])"
   ]
  },
  {
   "cell_type": "code",
   "execution_count": 3,
   "metadata": {},
   "outputs": [
    {
     "output_type": "display_data",
     "data": {
      "application/vnd.plotly.v1+json": {
       "config": {
        "linkText": "Export to plot.ly",
        "plotlyServerURL": "https://plot.ly",
        "showLink": false
       },
       "data": [
        {
         "showlegend": false,
         "type": "box",
         "y": [
          -0.060447706368651495,
          0.020349852977604208,
          0.729995339366186,
          -0.9882167776758845,
          0.06442239929270731,
          -1.9660854201339544,
          0.9483141858752056,
          0.6722923282201624,
          -0.9468386800377672,
          3.0986828375739393,
          -0.03675524898380998,
          -1.1054514221144354,
          -0.04144975162062011,
          -1.3986426863291124,
          0.8905758529905414,
          0.7487381459124555,
          -0.8428470614092102,
          0.7284099853692663,
          0.24848940239244416,
          0.8347507206773866,
          0.276330590862982,
          -0.9568037415546742,
          1.441433878958149,
          -0.4991952542909924,
          -0.9568164359772164,
          0.31698271165724273,
          0.9633454859458694,
          -0.36697080203867494,
          0.6114611851181476,
          -0.31419473350226984,
          -0.7550836855019736,
          -0.5699493545507971,
          0.17854076440816558,
          0.5859152064253232,
          -0.8879054292419395,
          -0.5146999075215775,
          0.5031474330395539,
          1.4021260330205847,
          -0.6351664442537621,
          0.6937601216144306,
          -0.41016458184903637,
          0.6905602340305056,
          1.153170959278616,
          1.6020333952019912,
          1.4707560317695985,
          1.3653449073582433,
          0.8833576905711727,
          0.3055615869483995,
          2.71611671121033,
          -0.9668094372059123
         ]
        },
        {
         "showlegend": false,
         "type": "box",
         "y": [
          -1.231778682898705,
          -0.23976910568000304,
          -0.15664108834756155,
          1.4825520483325656,
          2.1879827068323388,
          0.8670981751854241,
          -0.16610849882293674,
          -0.5131318204903028,
          0.8736742603388313,
          0.6017804120242843,
          -1.2168676698473495,
          0.029074232018114706,
          -0.3711537973229141,
          -0.2855167653177033,
          0.8035483941513333,
          -0.509736952564002,
          1.5724945055852557,
          -1.552643302718572,
          -0.18472631950826204,
          1.599739777535252,
          0.832359940477117,
          -1.5752465178543027,
          0.07724205252426501,
          0.49301957165932975,
          -0.42556380463076615,
          0.93514373242197,
          0.5832366039087228,
          -0.0005734939050684588,
          1.094422091280684,
          -1.3243378381479718,
          -0.01590526001751736,
          -1.2473044586780762,
          -0.8952409581458065,
          0.8714122906766535,
          -1.7917119710575677,
          0.8599798980692506,
          -1.1107121624757086,
          -0.8690092430029958,
          -1.4974652291126478,
          -1.9165650188919878,
          0.13679600998021976,
          0.3352809998730095,
          2.1873179698993837,
          0.37344077790609903,
          0.6456918580895611,
          -0.6833233861515008,
          1.0507387666910308,
          -0.09569338426634055,
          2.9272085177169163,
          1.3268482216212054
         ]
        },
        {
         "showlegend": false,
         "type": "box",
         "y": [
          -0.36131180736845986,
          -2.5233162344901205,
          0.0009652924834391902,
          1.1705090584214437,
          0.8832625014017558,
          -0.2611215869047977,
          -0.9983608188117018,
          -1.7182560704729057,
          -2.2801201348800575,
          -1.0698898073436929,
          -0.25764542577027744,
          -0.8748358498853169,
          -2.4369175543815156,
          0.9163625187150697,
          -0.048978207358346855,
          0.8998189290579689,
          -0.7739669847256497,
          -0.07804192643563719,
          0.7014000823342413,
          0.09764397753456386,
          0.6331567955885057,
          -0.33715728851012544,
          1.661213536705401,
          -1.7658167128121955,
          1.567825015085992,
          0.9912279415863094,
          0.7686188879920208,
          1.3218283462079519,
          -1.1657550291716305,
          1.827431834695469,
          -1.7280569626293805,
          1.019922230086637,
          -0.007983821029405296,
          -0.7783215244031155,
          -0.06019982248140085,
          0.16295166875188546,
          0.08762270203036325,
          0.4132407115097307,
          -0.025932642082800324,
          0.33784073497585093,
          0.48182054989951023,
          -0.9021638719356111,
          -0.6728055140848271,
          -1.1069812151118685,
          0.7230970643809187,
          -1.1921236087688514,
          2.0706000463322334,
          -0.4127044255990622,
          0.43602292389757,
          1.8173985787908817
         ]
        },
        {
         "showlegend": false,
         "type": "box",
         "y": [
          -0.6100106844290226,
          -1.8149634654793192,
          -0.7970762942048494,
          1.443690281726123,
          -0.31137870185703564,
          -0.9881330422294173,
          0.8513224718296163,
          1.5316092030343138,
          -1.4305919395708853,
          -1.0575078834320668,
          0.5128500680111735,
          0.7621972122746424,
          0.7943939510912784,
          -0.0074500770391915895,
          0.87949931015073,
          0.9359656096123212,
          -1.0830957362120803,
          0.2949913851919287,
          -1.725263320716739,
          -1.2043951591012254,
          0.9010148267280143,
          -0.42823087941218874,
          1.4794092021731795,
          -0.3665797156880526,
          0.3616361519540903,
          1.8124932427698308,
          1.7971933000435343,
          0.44546495193353186,
          0.13794316710050356,
          -1.571659206770983,
          1.493255574855726,
          0.6138260507477504,
          -0.5212277910567275,
          -0.00988696575788413,
          -0.9163376051363034,
          0.7283678576427581,
          0.19265896285579132,
          1.121600664612784,
          1.9725270059133775,
          0.6579735691199673,
          0.1453107144884758,
          -0.2639989533406851,
          -0.31536020570749,
          -0.2803083963308251,
          -1.334935839074033,
          0.20161895709077993,
          0.7685451717603784,
          0.08155472519181602,
          0.5726691087008835,
          -0.6448835388751835
         ]
        },
        {
         "showlegend": false,
         "type": "box",
         "y": [
          1.1224079748865983,
          -0.8187790615358718,
          0.02394816618285281,
          0.714411475976169,
          -0.5359782806679545,
          1.1490335531684805,
          -0.2097351682621611,
          0.092746445239692,
          0.3225744495934478,
          -0.6454713916307944,
          -0.11553327867726093,
          -0.4906051074801074,
          -0.579237380161848,
          -0.2788477463197568,
          0.4624800139667659,
          0.2318461985466399,
          -0.12012716760011308,
          0.13530374755400132,
          -0.19088183615216223,
          -0.7131499346678584,
          0.18823613765417005,
          -0.22966827384581323,
          -0.3609011948904021,
          -0.7033140732114688,
          0.025636600808515906,
          -1.1659624201618517,
          -0.7555699655943093,
          0.022649594801909232,
          0.5226719587107977,
          0.1102279621254058,
          2.249992886856464,
          -0.4749867828912713,
          1.0487310801387342,
          -0.7536057541284163,
          0.5387092301081682,
          -0.6300643077005924,
          -0.7590066393624926,
          -0.37398701120413813,
          -0.33340629290960516,
          -0.7725694391223266,
          -0.18933234284934,
          -1.2209085095207453,
          -0.007136899080803335,
          -0.32295309571584824,
          1.1844123656722967,
          1.744622375847929,
          -0.6475167337420916,
          0.5877653561318007,
          -0.5045458850376683,
          -1.2879802963009184
         ]
        },
        {
         "showlegend": false,
         "type": "box",
         "y": [
          -0.7280764411041893,
          -0.9034332602878119,
          -0.9416042459286625,
          -0.018873903298147754,
          1.5732068264007688,
          -0.1757501428008169,
          0.5443875314721116,
          1.0076271874678648,
          -0.1622683153506936,
          0.21433209939171854,
          -1.8462379959669557,
          -0.8010552882317639,
          -0.3821458303214564,
          -0.9044624802923205,
          -1.2323455835015233,
          -1.1989375902029904,
          -0.7180734015788733,
          -1.0133797066719636,
          0.7680161416730278,
          0.05700118295167952,
          0.6890778192781944,
          0.6881990614209976,
          -1.5234302416383392,
          -1.3114556133519661,
          0.2848055360929937,
          0.3294073228664832,
          1.317909529008986,
          1.0310915861123433,
          1.3640002121634254,
          1.6124691340937363,
          1.2003349060617756,
          0.4223110102340292,
          -1.21450762656845,
          -1.1885262300137307,
          -2.8238948853010863,
          -0.2873278700549042,
          1.2829174272496613,
          -0.6867675383324574,
          -0.4844862472868619,
          1.7165524127005796,
          -0.4876640899440889,
          0.9291164732341894,
          -0.7080164199332106,
          0.08581252166074739,
          0.1812776751474509,
          0.4551960715694904,
          -0.8744808810287175,
          -0.09144115976597789,
          -0.8611333151362107,
          0.32277176201570473
         ]
        },
        {
         "showlegend": false,
         "type": "box",
         "y": [
          -0.5597030167179071,
          0.27240364278686935,
          -0.27746579946382055,
          0.2667234831157989,
          -0.5449098080905312,
          0.7603971808507892,
          -1.6137846256998885,
          -0.2964806908035502,
          2.041372550380125,
          0.3906215306652354,
          0.20240962868268406,
          -1.2789251183296717,
          0.3537136251031832,
          1.0408235002691522,
          0.5417014220229952,
          0.7482511457939556,
          1.1069102609122414,
          0.3947517454593713,
          -1.0491433012369342,
          0.1080075909005777,
          -0.4915522143315961,
          -0.6726002116204561,
          0.37883714277939284,
          0.18847720650816996,
          0.08717883592861021,
          0.06011193704248715,
          -0.9531453540576375,
          0.6232838328962098,
          -0.44117106704344466,
          -0.1299767230473521,
          0.8898983325037667,
          1.572388962883017,
          1.0678720548561071,
          -1.0833003879879608,
          0.38526427350616993,
          -0.403282157505311,
          -0.9368385921833725,
          -0.04269881111509279,
          0.6027295486050922,
          -1.2345934012177202,
          -1.6021487199831135,
          -0.5504866658558679,
          -0.4806616128336156,
          1.2314534160046593,
          -1.95476449784646,
          -0.5422175543294271,
          -0.9538470721433102,
          -0.41398307607455537,
          -0.5442048983326948,
          1.8325064225722643
         ]
        },
        {
         "showlegend": false,
         "type": "box",
         "y": [
          1.141101223283454,
          -1.13683329947862,
          -0.1294978156702711,
          -0.7773357456239879,
          1.296842048198319,
          0.18406888001784794,
          -1.3658851086764965,
          0.12512031414110109,
          -1.6586694555940222,
          0.46317517797105817,
          -0.8102915219395234,
          1.000606800344569,
          -0.3376344403314075,
          -1.9398522660206128,
          -0.40902101849706557,
          0.8424981849040456,
          1.1540078052042266,
          -1.0006388306177907,
          0.35450805422576737,
          -0.10890556514397663,
          -0.5928924424281579,
          -0.44227279633065847,
          0.369629480151233,
          0.060001884222801234,
          0.15109813375462136,
          1.9375841196891828,
          -0.15061506163475644,
          -0.7657148739421086,
          0.7547445523130248,
          0.83066185889646,
          -0.9469447637148222,
          -0.9874600321412575,
          0.6512748451376175,
          -2.969028443184716,
          1.2968243462716857,
          0.4370923938347028,
          -0.03483251035702372,
          2.008943742007824,
          2.257368281154021,
          -0.6087833085206492,
          -1.6491252867307162,
          0.9279617375128306,
          -0.6032344628361334,
          1.033057694924873,
          0.9871966046702892,
          0.5643623073292443,
          1.2775144862160344,
          -1.1580263647006699,
          1.2876066999084252,
          -1.531262705700796
         ]
        },
        {
         "showlegend": false,
         "type": "box",
         "y": [
          -0.010655239932599708,
          1.126575658835693,
          1.4716081447946445,
          -0.7858769664419808,
          1.8208465830606275,
          -1.3602237049901333,
          -0.9924705752311426,
          1.6824999210215474,
          -0.16461438721534807,
          -0.10069445736849277,
          -0.5063334907043813,
          0.7099694824661894,
          0.5351507020489571,
          1.321050399900537,
          1.9659370016354711,
          -0.005112775514445966,
          -0.7830530456388428,
          -0.5875904018104495,
          0.07951286224279457,
          1.6015414169350015,
          -0.9878773450559442,
          -1.2258715116259267,
          0.0617242423006624,
          0.30758107035829707,
          0.07386957920214725,
          -0.4766265602552361,
          0.6893457902253199,
          -0.7867554616839646,
          1.20221852094189,
          1.750874123745833,
          1.6973691916771505,
          -1.5385111915186802,
          1.3004171953189625,
          -0.8137970287671842,
          -2.3487181021181867,
          -0.026617551224287772,
          -1.7758998279836162,
          -0.7852085707836731,
          0.8800375505112116,
          1.1131801255114884,
          0.9163333197600941,
          -0.5738046024759688,
          0.030598652721101932,
          1.6785069348760289,
          -0.9799892533756633,
          -0.5322677080561979,
          -0.7539515425933769,
          0.3237064914022715,
          1.2026300041677438,
          -0.2899686896514311
         ]
        },
        {
         "showlegend": false,
         "type": "box",
         "y": [
          -0.4730497877056501,
          -1.0643883803854237,
          -1.6108466541827224,
          0.038595487415712566,
          -0.8723909150099187,
          -2.2395328134713677,
          -0.8582725264392735,
          -0.4744717162255389,
          -0.20379473877395068,
          -0.7536900020140217,
          -1.0235897551748723,
          -2.370830267789659,
          -0.8847182579644238,
          0.2558621364569561,
          -1.7942160963840843,
          -1.5880266859390377,
          0.5077910875604631,
          0.6930595040634503,
          0.7582722428229633,
          1.2677057249537447,
          -1.3568317195798485,
          0.25769736403559473,
          1.4604033540726906,
          -1.812355490146985,
          1.268422357698424,
          -0.7826406319681958,
          0.24041021619603542,
          -0.38459523016551705,
          0.10461796070963461,
          0.05564356806950438,
          -1.269650385162548,
          0.22684700226780014,
          0.9302357847165745,
          0.10041849089715839,
          1.440010892920941,
          -0.7215008090691577,
          0.48830364810842364,
          0.357292101436551,
          -0.12435889904394125,
          -1.7089043241503483,
          -1.3247096411629948,
          -0.761445640308897,
          -1.8160316575836846,
          -0.11635743735497399,
          0.4460196475616336,
          0.9633228528347133,
          1.2142722484746764,
          -2.0512662543944464,
          -1.3213896023266796,
          -1.2395097932272914
         ]
        },
        {
         "showlegend": false,
         "type": "box",
         "y": [
          0.5755529281183777,
          -0.7120494983518243,
          -0.7312554132197157,
          0.3949613727957371,
          -0.2776017819677317,
          -0.9279565820570531,
          -1.5167018634556924,
          1.1802336797599484,
          0.5034721395042788,
          -1.1874108919294555,
          0.24694021685087308,
          -0.3012489074427511,
          0.9186884119792912,
          1.002768248910064,
          -0.2912335726829239,
          0.13125119584649247,
          0.3454164819132012,
          0.08710748960099265,
          -1.537850440367052,
          -1.1968286582392336,
          1.0863552185158234,
          0.7378605325712299,
          -1.4551886632461375,
          0.5609804072768598,
          -1.2834643410420243,
          -0.687053621107467,
          -0.603745268295609,
          -0.2522181162048096,
          0.7756947459094153,
          0.16544474564855688,
          2.148839335566011,
          -0.2270512299601823,
          0.7762343105721162,
          -0.6299970552239932,
          -0.9671445497824768,
          -0.8798356895953022,
          1.231750613606379,
          -1.7028919239865405,
          -1.951508144354574,
          -0.8974339515334042,
          0.0463661969407917,
          -1.3482228717900169,
          -1.1508261729827205,
          0.5369841629030363,
          0.1662819853352949,
          -0.009941440965464834,
          1.884397340811869,
          0.9820830034781002,
          1.884827879355795,
          0.2682376573668568
         ]
        },
        {
         "showlegend": false,
         "type": "box",
         "y": [
          0.8531624464183194,
          -0.20359362915301785,
          -0.6000355428859979,
          -0.5986763738167501,
          1.698203891146766,
          0.6572443057947679,
          -0.030637691006316744,
          -1.404529432155423,
          -0.29713756752201287,
          -3.179196448615867,
          -0.6071509274549046,
          -0.6886752040550966,
          -0.477063295164264,
          -0.9095772229522581,
          -1.5786572343504504,
          -0.03895232296213374,
          0.5312133918680614,
          0.08054248834931708,
          0.9738568384541785,
          0.6844092550588344,
          0.9112503664667666,
          -0.9559335296895436,
          0.44376509784294677,
          1.1795490129836994,
          -0.5539880509910036,
          -0.05040764536043289,
          0.234293767546354,
          1.1498986774024391,
          -1.2650046624254674,
          -0.9704480817807498,
          -0.8976580889720418,
          -1.4586753040605491,
          0.5444685419907789,
          -0.3792018924235172,
          0.5748009627169992,
          -1.3349731072343523,
          -0.5146050139712315,
          1.4088694284518062,
          1.8529103980202115,
          -0.2236458340130434,
          1.8876575535670144,
          0.27884170280462395,
          -0.7995153796981095,
          1.4605734925617562,
          -1.4092095187317748,
          1.359880684922331,
          -1.1326174854315274,
          -0.028483530990804272,
          1.136965562533809,
          1.190452884404711
         ]
        },
        {
         "showlegend": false,
         "type": "box",
         "y": [
          0.5212771855677152,
          -1.0193182450189848,
          -0.06585484017452145,
          -0.9895972978960721,
          -1.0874461343388229,
          -0.7401776606227631,
          0.19803837313573067,
          -0.18585224499563474,
          1.8429259859367435,
          -1.557441282805536,
          2.0659409511301323,
          -1.206006880959654,
          0.6747448545009915,
          -0.8039996131454176,
          -0.20462282716843305,
          0.3837895960866396,
          -0.7220078977640549,
          -0.2926732753546706,
          1.1833817596294425,
          -0.07213730257992186,
          -1.3251653833038834,
          -0.07954457678607098,
          0.1570473470729106,
          -1.3333813946892679,
          -0.2796943622810039,
          -0.6974005760149662,
          0.8845369291693923,
          0.8139748154427819,
          -1.6543076979494917,
          1.9073944865952366,
          0.08879022415446039,
          -0.8543081437661847,
          -1.1472834034634933,
          0.6844623214800373,
          -0.4169225446010072,
          0.3021733808244529,
          0.3351234716399428,
          -2.596182016450383,
          -0.05333576902799805,
          0.42348710314869875,
          1.1088762574481574,
          -1.3193255297817092,
          0.27060777458179675,
          1.0198675748115682,
          0.32387613056455283,
          -0.6519999026317662,
          0.11211616243138453,
          -0.42614868455946114,
          -1.3397229664524155,
          1.2616453686893236
         ]
        },
        {
         "showlegend": false,
         "type": "box",
         "y": [
          -0.7941765203636528,
          -0.12766718483330644,
          -1.733903130921487,
          -0.8792411407329035,
          -0.8709714784644802,
          1.790042166379939,
          -0.7607978094045668,
          2.216214204635204,
          1.4556616155219284,
          -1.8060050942544243,
          0.28397201619407075,
          -1.3000287184316555,
          -0.9487870935486185,
          0.29184712259355033,
          -1.261853568727155,
          -0.5243296654741377,
          -0.3743847069252109,
          -0.4628750837323254,
          0.8810270720168324,
          -0.5561200951857387,
          0.1298115342551957,
          -0.004675624146299322,
          -0.918592710341461,
          1.9993292566019865,
          1.1450782093731817,
          0.8038577331238071,
          0.11831158786645687,
          -1.3445256109074732,
          0.3974928403336984,
          0.4842157193226631,
          0.34172610561909744,
          -1.1231931175357728,
          0.04440131226272742,
          0.20171360904130387,
          -3.0787816157788344,
          1.5477384990737157,
          -0.0016215073167622175,
          -1.4164301560440358,
          -0.3497843688458687,
          -1.7682292024551596,
          -0.5654631809987184,
          0.6883734687114503,
          0.07510518287501917,
          0.39125785902897986,
          0.4222928388587022,
          -0.06602932728000667,
          -0.33492895110202736,
          0.15718243421914146,
          -0.6209968921631309,
          -1.5168860302852856
         ]
        },
        {
         "showlegend": false,
         "type": "box",
         "y": [
          -0.15980991897353908,
          -0.6965816757103829,
          0.9969108583803851,
          -1.4087260048206856,
          0.8755760748673819,
          -0.6761803641344196,
          1.5900264379936908,
          -0.5900670185368191,
          0.1733064244031303,
          -0.46024322559234065,
          -0.295624601640482,
          -0.5873877275962093,
          -0.012122802258070803,
          0.6682149383653292,
          -1.6243925805175756,
          2.3221005391548166,
          2.848435786931562,
          -1.3435734802065968,
          -1.026065919393185,
          -1.1868198009120172,
          -1.2822690137055706,
          -0.9173782710179121,
          -0.35047887804935146,
          0.9426761581585013,
          -0.8102608328292442,
          0.7140233665770175,
          0.38971441033221754,
          0.6220492176813386,
          1.976196973105295,
          -0.004032287296174451,
          0.0014595454926678375,
          1.0639265876528083,
          0.7276367030869846,
          -0.9466193421957182,
          1.8802055974348886,
          1.1727305718435264,
          -0.51328200003594,
          0.32945835552891883,
          0.07156997168590142,
          -0.42301132041278394,
          1.0053348466813465,
          0.15492940180774536,
          -0.3053716747615386,
          -0.15378877321899978,
          -0.6279715443011629,
          2.538611103705938,
          0.4096015106019263,
          -0.9254199815029506,
          0.289359626365199,
          0.15635439216153982
         ]
        },
        {
         "showlegend": false,
         "type": "box",
         "y": [
          0.5784103317336692,
          0.621523635382887,
          -1.4965793807450583,
          0.0737722685050712,
          -0.4836481386965566,
          -0.9518920042426124,
          -1.4696244645637455,
          1.5960576251432417,
          1.3988307485943776,
          -1.0148951341884234,
          1.4458104628251907,
          0.3508788749918923,
          -0.413042490275579,
          -0.05083700853273367,
          -0.5338786730186973,
          1.5687542078358603,
          -0.7451677608160296,
          -1.3557779328310393,
          -0.5148402270400003,
          -0.2511722036695312,
          0.0367883393964259,
          -0.30444879882854664,
          -0.951950816533364,
          -2.246283902395937,
          1.1963693719219288,
          -0.9690826700809794,
          0.7258488456307185,
          -0.27956667465929896,
          0.35562779397728794,
          -0.21583793726080358,
          1.4056378885985772,
          -0.5165554649218734,
          -0.01337843350130823,
          -1.1458937112237466,
          -1.666549109376468,
          0.5501978976300127,
          0.9505757998334697,
          1.8310360355960855,
          0.7282668481383869,
          -0.10505074348537091,
          -1.1335592575105935,
          -0.694502633110652,
          0.2578602371119204,
          0.4040452428018843,
          -0.4345190654189885,
          -0.37559715567621116,
          -0.028393743175121944,
          1.0385779845850467,
          -1.1229289178969384,
          -0.18860925217100744
         ]
        },
        {
         "showlegend": false,
         "type": "box",
         "y": [
          -0.39062854109931017,
          -1.7461578380601126,
          0.3740887692640798,
          1.497789024604671,
          -1.4170864416882567,
          -2.3294462185279947,
          1.4589556515985087,
          -0.9301651584221918,
          -0.3973925395866376,
          -0.0035920408951976134,
          -0.9680233348142291,
          -1.0622561885526585,
          -0.72835740297328,
          0.8129384287662345,
          0.44176161475242925,
          -1.0406201898889913,
          0.7876896742118041,
          -1.095495952126972,
          0.6332422431906014,
          -0.5560409655815028,
          -1.0140065492368322,
          -0.1575155542665457,
          0.5704589670268526,
          -1.049565820842676,
          0.155291946529222,
          -0.6237127481987946,
          -0.021247129291320208,
          -0.4761953800641393,
          0.6968211469602827,
          -0.7147775117872871,
          -0.6980386308649021,
          0.14301450741044852,
          -0.08692751764531162,
          0.7342046266862547,
          -0.12683959352690602,
          -0.17024308236409463,
          -0.47910867138402186,
          0.37010185019158504,
          2.168657585506643,
          -0.7752402621196751,
          1.8426529310008726,
          1.0139560290657281,
          0.45639128534958556,
          0.40123000173172374,
          -0.8219067309264311,
          -0.7094400877929802,
          -0.7542572336622768,
          0.6509431442473348,
          0.7001727228097231,
          -1.2057282615612566
         ]
        },
        {
         "showlegend": false,
         "type": "box",
         "y": [
          -0.9950284699668518,
          -0.09897323301448409,
          -0.10312292475121666,
          1.533392348037441,
          -0.22465822005654407,
          1.1351316162293972,
          0.2558082061563916,
          -1.3085674346380423,
          0.11601119472956459,
          -0.28770033535693657,
          0.7165369653469147,
          -1.3815195476648794,
          -0.6849738130258236,
          -0.5680593935022185,
          -1.098736779396366,
          0.6507371757440886,
          -0.3541240840665597,
          0.723824086962052,
          -0.04993633633680999,
          0.4850685501820813,
          0.21312849315541046,
          1.1331303396002343,
          -1.160287688168101,
          -1.0336089428816397,
          0.3617668071216723,
          -0.7093991156646758,
          1.1214525946272262,
          0.34479648165856264,
          -0.15045669105787032,
          0.11442334471645228,
          1.862977177147212,
          1.07298187245345,
          0.4527796903069713,
          0.4761741269680365,
          -0.42603894886532573,
          0.2194538327291213,
          -0.11400302337474841,
          0.42317664522891046,
          -1.8078522430719355,
          1.3387344113291175,
          -1.0612045495013165,
          -1.1475818775161857,
          -1.1226043479092063,
          -0.34203818892639176,
          -0.06121707953046382,
          -0.47243065187911637,
          -2.7305460644206514,
          -1.4235330492985203,
          -0.1714048247767053,
          -0.1699016555074572
         ]
        },
        {
         "showlegend": false,
         "type": "box",
         "y": [
          1.0188971993394986,
          -0.3768822205609001,
          -2.0174409687966324,
          -0.33172754101198065,
          1.0285159579911034,
          -0.43272580046738796,
          2.1546595518457914,
          1.6675634833133137,
          1.7890434214898834,
          -0.5953242064405464,
          0.42745314839371973,
          -0.9452054912831744,
          1.1414661127331345,
          0.05657525618489676,
          0.27215476716306924,
          0.11723618296569562,
          -0.6078635056240566,
          -0.38959345623703234,
          0.9318843031447785,
          -0.6399666664436734,
          1.3559575364633045,
          0.39898283864264394,
          -0.29052972424713314,
          -0.3697059516833688,
          -0.9357420605414797,
          -0.4706329016259517,
          -0.738256790529025,
          0.9777293468039802,
          -0.49849112299411613,
          0.5341864768105354,
          -1.6583232292499974,
          -0.616199534918271,
          -0.08549869654424284,
          0.425336915674379,
          1.6657790147872125,
          0.052001569615703604,
          -0.2619443351819964,
          -0.8914860320822898,
          -0.03864081743791077,
          -0.517390188554498,
          -1.8382377459724202,
          1.01553177397861,
          0.9205037953324966,
          -0.7348597735910948,
          0.23000244984220736,
          -1.5712429422101286,
          0.18114006451652045,
          -0.06618071463116408,
          0.9954532125669822,
          -0.10745701901315098
         ]
        },
        {
         "showlegend": false,
         "type": "box",
         "y": [
          0.7148635235331167,
          -1.4044753643723258,
          0.11405687069217355,
          -0.3988975311764761,
          1.1657180222236918,
          -0.5562106472812778,
          -0.5758703774952283,
          0.40553693501817284,
          -0.5922543456223686,
          1.453630223383229,
          -0.8192410748506235,
          -1.5807378744288194,
          1.5268278876892165,
          -0.04288391662032486,
          -0.4109926633974721,
          0.7084530653901143,
          0.38017692286361227,
          -0.06031435043172247,
          0.13146884333722306,
          -1.2690214496086754,
          0.37167081098372545,
          0.9389466516199771,
          -1.8950161481458714,
          0.37802074257091234,
          -0.1823169501616299,
          0.7318262701040731,
          0.5143167111332554,
          -0.28521342517964726,
          1.1110273771001886,
          1.2645399099326429,
          0.4062172397679315,
          0.8975778240051279,
          0.5463785310254291,
          0.33214447486303234,
          -0.6523673182718697,
          0.5380756185440728,
          -0.19327295256584265,
          0.11406512769454952,
          2.3669724305235267,
          -1.490530022301303,
          -2.2809462211384504,
          -0.8588131608477254,
          0.4442893678449589,
          0.17000382018392943,
          0.48327178780926683,
          -2.313130034649409,
          -1.5813465509778406,
          -0.002078564636064297,
          -1.7147899944390086,
          -0.5858870901686724
         ]
        },
        {
         "showlegend": false,
         "type": "box",
         "y": [
          -1.5322192597610171,
          -0.8035423936864772,
          -1.1253186446972465,
          2.7742139449275256,
          0.34744424066119833,
          0.34682859735744204,
          0.023879481499699224,
          0.86004892735112,
          -0.16556918800406123,
          0.2979471967108077,
          1.1375520645785102,
          0.33591789561146795,
          -1.3889486967363722,
          1.0230475811920356,
          -0.012468337303490354,
          -0.7350189405227496,
          0.7859204894548315,
          -1.310802774889656,
          -1.3861443405786404,
          -0.007385112021361825,
          0.5054400533270523,
          -1.3108847017794292,
          -0.2720821855760508,
          -0.7084064619987349,
          0.3073458237726658,
          -0.13716955926746496,
          1.1108131800084586,
          -0.7366867235108042,
          -0.9731305545027318,
          -0.24903197198178856,
          -1.0488454126757498,
          -1.840277343776342,
          -0.4336390422199752,
          0.14889717862609975,
          0.7814008704255264,
          1.0071836072057518,
          -0.3861072433997739,
          -1.137929726346529,
          -0.714233237874346,
          -0.9887139239376498,
          1.4940164894191155,
          1.2260251837709195,
          1.204940598571083,
          -0.1435505441284143,
          0.08977328236747449,
          0.3902750844901481,
          0.8764560924786475,
          0.226114167356478,
          1.7355365938586083,
          -0.3280956747267862
         ]
        },
        {
         "showlegend": false,
         "type": "box",
         "y": [
          -0.4564342697864359,
          0.12785817176855685,
          0.3196398045641089,
          0.6485024686750193,
          0.19520181762404887,
          0.16561266963550647,
          -2.2393548401463743,
          -0.9235186716471632,
          0.23455328516354956,
          -0.5201293464631571,
          1.578569394480427,
          -0.9793381411366893,
          -1.7881402238933517,
          1.4427827246504539,
          0.42097710833993257,
          -0.6275193764498048,
          0.9701203360813373,
          0.9246914417097616,
          -0.5547306614829628,
          0.6361141362173774,
          -2.355926060151356,
          -1.2010050784945385,
          -0.15367980736379286,
          0.5388156551616965,
          1.090969789891604,
          -0.8497878221306108,
          1.2618063636766503,
          0.21588456609533196,
          0.7557246814539609,
          0.7190953068923226,
          -1.3295124331574708,
          0.28224080365493437,
          0.08830495492616136,
          0.4885481058693922,
          -0.7540719262601722,
          -0.3120342534684364,
          0.6840369905002963,
          -2.0994453708912038,
          1.485532989166636,
          -0.8207133210938811,
          1.396739374798093,
          -0.035200609352640425,
          -1.3718910389775203,
          0.4187395856036368,
          -0.40398320241741326,
          -1.0423594442161135,
          -0.2626192676946255,
          0.550026165848991,
          0.4550974654902822,
          -0.5593763963837983
         ]
        },
        {
         "showlegend": false,
         "type": "box",
         "y": [
          0.8310105392088214,
          -0.35273957721866167,
          0.7061517329934308,
          2.221332199467173,
          -0.47144687910908456,
          -0.49375529562447656,
          0.1427192104320345,
          0.22676223370806675,
          1.2179271999794128,
          -0.1441596325830617,
          0.22882379078693094,
          -1.0381810927189203,
          0.8464733007278428,
          -0.7615247296356648,
          -1.4908818104191668,
          -1.4948514616787472,
          -1.238447726587089,
          -1.0533610116499266,
          0.7668668693291064,
          0.3501143391420116,
          1.9527678559084403,
          0.6527224604327885,
          -0.2991191142966344,
          -0.9925139411836771,
          0.05536615495511739,
          -0.056396373227348494,
          0.2016863566138947,
          1.675450567812245,
          1.0420628152616598,
          -0.6902457333473925,
          -0.9730466830527628,
          -0.8611160735053001,
          0.3586920775656209,
          0.21970888361346966,
          0.2636632305279674,
          -0.28392728903042547,
          0.7624622505455124,
          -0.1383947220239999,
          -2.006883348158767,
          -0.24044456316540946,
          -2.668844422744006,
          -1.0090883625741542,
          0.5806022699923553,
          0.8851593735785203,
          1.0624427627642605,
          0.014461168865928326,
          0.08855122830780053,
          -0.6209468009191372,
          -0.5582004991943906,
          -1.0924641108904196
         ]
        },
        {
         "showlegend": false,
         "type": "box",
         "y": [
          1.0567142187206018,
          0.5414214217412651,
          -0.5726149143207039,
          0.4320350828223694,
          -0.9310765929184976,
          -0.7338866402256533,
          -1.5073629007807248,
          0.2534117885525497,
          0.2682489401703603,
          -0.06155121302904216,
          -0.2796557199968679,
          -0.025513276785290733,
          -0.5815414102010327,
          0.2008047185630702,
          1.3789428991345611,
          0.6499614112803896,
          0.3171645979492324,
          1.4834285729911116,
          0.40163939731834986,
          1.3152356229737314,
          0.7075664700090889,
          1.6907403656967555,
          0.44359275847298424,
          -1.30334185927502,
          0.44692737093653756,
          -0.45586025469568886,
          -1.0859161469922913,
          0.1960832954806008,
          -0.7086979569016186,
          -1.6290359030649704,
          0.6584216019131095,
          2.685320110820078,
          0.3319211315576176,
          0.03964355719241811,
          0.8213713833304155,
          -0.512957561267114,
          -0.05767132368643789,
          -0.8476427884008,
          -0.9572246340570323,
          -0.5214545532198263,
          0.8052011665788139,
          2.039297619732919,
          0.4535546993375981,
          -1.6050224891092781,
          0.5640915047409372,
          0.8384598183896698,
          -0.22350517501091222,
          1.022595542323305,
          0.503262948615311,
          1.5267129028207327
         ]
        },
        {
         "showlegend": false,
         "type": "box",
         "y": [
          -1.0924208091396002,
          -0.6671037794716296,
          0.935956535751931,
          0.017157140947374964,
          0.6190371423737799,
          -2.60666198815,
          -0.45011593307723874,
          0.22808229579043132,
          -1.1768337484102398,
          -0.693470158012767,
          -0.469918636327529,
          0.9862863951666347,
          -1.1356632815681231,
          -0.20970383350929916,
          -0.5629666141787898,
          -0.42522555027021336,
          -0.9828373418030238,
          -1.3707359002137702,
          1.5204132910452965,
          -0.5974377811229352,
          -0.4725945416759484,
          0.01966875844633711,
          1.4448665099266238,
          -1.4978192197197864,
          1.1349029667388109,
          -0.5115926304716685,
          -0.13640338035837216,
          -0.36636506556911547,
          0.027651593737330393,
          -0.10656352738272692,
          -0.36607091540381675,
          0.9188197543875372,
          -0.22142673154096168,
          0.6639069151331886,
          0.20755886177062727,
          -0.03435711426487522,
          0.2875957738078272,
          1.597559955394869,
          -0.7668712503604032,
          -1.243811439469328,
          0.49972933316668766,
          -0.369227277380594,
          0.34658567387936756,
          -0.3316059420893464,
          -0.6258142355165526,
          0.9856209773063186,
          2.431762554176263,
          0.6643555021749749,
          -0.7826290648506662,
          -0.17072102563127767
         ]
        },
        {
         "showlegend": false,
         "type": "box",
         "y": [
          0.8205429124688135,
          0.5030914672125051,
          1.4766125545632824,
          0.4466278672204032,
          0.29474653565759945,
          0.12436766785482464,
          -0.5096300038947389,
          -0.9433544840937494,
          -0.799804204155071,
          1.1354597654754817,
          1.3702715980034783,
          -0.2105058562101343,
          1.7543605287883433,
          -1.2951263359697631,
          1.352134292998508,
          -0.7275314195299118,
          0.6155370979538775,
          1.2022690105226637,
          0.5624772120660603,
          0.4944553436295959,
          1.2501350220948093,
          -0.3622849894963748,
          -0.6045229472529318,
          2.343173406923395,
          -0.13925472648084924,
          1.0860039658658482,
          -0.011636999111866846,
          0.13676068357369575,
          -1.735614850818173,
          -1.300113727122554,
          -1.0361399675146017,
          0.9633136184827829,
          1.616524039584308,
          -1.2364658341458206,
          1.0804272368250856,
          1.3309748959690368,
          0.0034784791774558894,
          -1.0966629353596473,
          1.2480635119402639,
          -0.7968506450626869,
          0.039027572431625884,
          0.7994208026223364,
          2.1360924896107543,
          -2.281461687630608,
          -1.0674575274096363,
          1.3379651419365646,
          -0.00016312117865347332,
          0.2810700005366142,
          -0.8249376937055233,
          -0.7937997505235717
         ]
        },
        {
         "showlegend": false,
         "type": "box",
         "y": [
          0.015031118193890637,
          2.0522477070645664,
          0.23948334730125306,
          0.5631809151195455,
          0.5997375442766136,
          0.5994804897514492,
          0.4149401312919794,
          0.8857993060713263,
          -0.285598124570205,
          -0.410045084139544,
          0.5299112441090542,
          0.482750912175001,
          0.031483011800832295,
          0.5423405377525845,
          -0.9634371805675696,
          -0.7379767199774697,
          -1.6503989259454928,
          -0.7005207109210496,
          -0.513205596296889,
          1.088683499770137,
          -0.22203230417242706,
          -0.542721706123449,
          0.5447246338708198,
          -0.5087661895038293,
          -0.6425362025641822,
          -0.14412283932323916,
          -1.768152227957979,
          -0.21513519374688725,
          0.011238949455637907,
          -1.0434397290258919,
          0.7252867671776729,
          0.455624587348252,
          0.8907522384902959,
          -0.5429289312803136,
          0.354426453140936,
          1.5147923557133274,
          0.16459321920817746,
          0.2669582035702661,
          0.17163018173032923,
          0.24940310414259004,
          0.16879011480940623,
          0.78585586978,
          -0.6656131099083222,
          -1.467168784603028,
          -0.37905485613504886,
          -0.29715445540250024,
          -0.39940918250122454,
          0.9529022617577888,
          -0.1363730058914413,
          0.9740693186032714
         ]
        },
        {
         "showlegend": false,
         "type": "box",
         "y": [
          -0.20958923153372533,
          1.448938292096492,
          0.058235460412546895,
          2.54356294552225,
          -0.8193491795481692,
          0.10092661031303658,
          -2.259432326406864,
          -0.8255668708677769,
          0.301263688001411,
          0.844248790274426,
          -0.35053280068521203,
          -0.23239432388064438,
          0.6617209378262365,
          -0.2625652609747971,
          -0.7088691048718049,
          -0.4615412168977841,
          -0.101868017405757,
          -2.7158404046622566,
          1.900678109955966,
          0.10223007113597034,
          -0.06658400762662788,
          0.09222616160161369,
          0.9739582467842016,
          0.2606820778077364,
          0.3436179710635512,
          1.4479285373467408,
          0.015688411953246988,
          2.1151626390673797,
          1.3395586165032596,
          -1.4408750463916917,
          -2.2208513479055476,
          -0.5380205511688458,
          1.7182577568885022,
          -1.2107825575955395,
          1.640633247815086,
          -0.9671459171487162,
          0.9460706394968537,
          -0.6310253910231288,
          0.20519172780024952,
          0.4378392292123918,
          -0.1923091201244432,
          -0.034050797121259906,
          0.6800712372125542,
          0.35278506763508044,
          -1.2391570119783193,
          -0.10791004176710255,
          -0.021003679441424318,
          -0.08480169332282661,
          -0.22479303156384894,
          -0.0973988294801464
         ]
        },
        {
         "showlegend": false,
         "type": "box",
         "y": [
          -0.08200106557560283,
          0.9712077113876355,
          -0.40456560918330126,
          0.2218990042521103,
          -0.061574587046391696,
          -1.9576852871802712,
          1.815232584177611,
          1.2258599381166044,
          -2.310407487341736,
          -0.4291986255602095,
          1.2845381444693806,
          1.4451333850292867,
          0.7527740336832205,
          -0.899919819185055,
          -1.0677225895370108,
          -0.534386781069476,
          0.29946115964987446,
          1.1554939226018477,
          1.1748368153866757,
          1.2273287636403674,
          0.5107398247872537,
          0.4077729740184088,
          -1.7494048546262895,
          -0.8132828416569042,
          -0.0922011533106937,
          -0.08614995472492651,
          -0.866073563405966,
          -0.6716991339415482,
          -0.3304399750068726,
          -0.3938049546515708,
          0.8139925721254011,
          -0.5021223350825775,
          0.03126634747870564,
          0.6628778027713375,
          1.3409474851000251,
          0.47910248626409746,
          -0.8344237190504113,
          -1.1147481056555837,
          -1.4144108650546312,
          -0.5334353771496116,
          1.395068967626785,
          -1.4526320979073626,
          0.36163319056327237,
          1.924627692069336,
          -0.08784643216655341,
          0.4516774936730686,
          -0.9670638442711411,
          0.07506156965347549,
          -0.007377947717985101,
          1.0420812076745511
         ]
        },
        {
         "showlegend": false,
         "type": "box",
         "y": [
          1.2156841800893579,
          0.6860582406901988,
          0.18261488263205755,
          -0.7857218382393104,
          1.3259311631103397,
          -0.29666326883371497,
          0.5291248145742101,
          -0.28480422450575416,
          -0.5618446689442819,
          -0.5532259144322037,
          -0.5065306889405451,
          -1.6493875524077761,
          -0.8371109838861043,
          -0.23506090527678275,
          1.0907632319053053,
          0.11247547059809995,
          -0.5793682468455282,
          -0.5240167151873721,
          -0.44223118125459426,
          2.4824329107906893,
          0.7778105900831502,
          0.3622001316495025,
          -0.8408875452222512,
          -0.9664927736356659,
          0.568226710767866,
          -0.7921048479140779,
          0.7781104425833244,
          -0.8583047456627736,
          -1.168950624227985,
          1.268352132844896,
          -0.25007575923781855,
          -0.49736837765583264,
          0.518644467634664,
          -1.4192714118100536,
          0.5727351104230399,
          0.8182322667717697,
          0.510403664181764,
          -0.057666070347986126,
          0.29464606647159486,
          2.17260850352555,
          -0.2093461274360436,
          -0.8831979348609963,
          -1.164994712753765,
          0.4172382287388917,
          -1.1897545819178854,
          -0.8326002952780173,
          -0.9093582880662024,
          0.7531759975516401,
          -1.6303158725184541,
          1.5982891469616602
         ]
        },
        {
         "showlegend": false,
         "type": "box",
         "y": [
          1.9354514466308967,
          0.43073849212377596,
          -2.2929924931585046,
          -1.7050274744114482,
          0.8360628666077292,
          -0.42744550133890163,
          -0.14656654427071478,
          -0.5142690630895015,
          -0.5981471524094517,
          0.6826686737872663,
          1.0237160006280182,
          -1.1847013438741896,
          0.3440438699631466,
          -1.6451832670749107,
          -0.160092471087921,
          -0.4821936527875537,
          0.7495658658914911,
          0.11560544272099438,
          0.8842184801634134,
          0.33984405487535485,
          1.365695153276195,
          -0.5282735965846846,
          -1.704564865746,
          -0.31337450352462154,
          -0.344916599598511,
          0.44773105451565204,
          -0.8596165950201334,
          -0.007831088867420313,
          0.6387255802175851,
          1.1074830734063381,
          0.07113273709994668,
          -0.0010182445620798833,
          -0.39431323157597553,
          0.3460239535999902,
          0.3857776578247572,
          -0.4787049865438648,
          -1.7858565786601328,
          1.4646826802887865,
          0.6722010617336825,
          1.2249118749755754,
          1.6765859357379247,
          1.0612193019770138,
          0.45131698616400817,
          -1.407130269387956,
          -2.135195144270341,
          0.9423623193302518,
          1.5286497852048764,
          -1.3438869527239379,
          0.005984167300297835,
          -0.5597633737274732
         ]
        },
        {
         "showlegend": false,
         "type": "box",
         "y": [
          0.2714310173197924,
          2.4239321868183,
          -1.4233143481473867,
          -0.1327684592843999,
          -1.3508971992373522,
          0.4715083468758586,
          0.6973291930145358,
          -0.09857895224138197,
          -0.6862451680685714,
          0.4146107681567455,
          0.006423578466358358,
          2.107000807301485,
          0.13432206248164316,
          0.10463533470213195,
          0.16875737462609752,
          -0.3024908151423758,
          0.16303553821458774,
          1.0378084702362012,
          -0.15953714780006703,
          -0.0032589246599732413,
          -0.009619027439563702,
          0.48561872113728716,
          0.9852338232217507,
          1.5872664371222804,
          0.6728667958167366,
          -1.3814312392382282,
          0.8912512272669793,
          0.19657777894808923,
          0.31040159692093655,
          0.07500000199690253,
          -0.2795177164479175,
          -0.07258830099558286,
          1.5424009539677472,
          -1.1643135534028592,
          -1.7739599177933079,
          1.1895753446250406,
          -0.8094633755968808,
          -0.7344795913609679,
          -0.14341998957657684,
          0.46092184691617993,
          0.8917588312013628,
          1.1831812395956345,
          0.17890254338296488,
          0.227294398787502,
          -0.9718195831163426,
          -0.3970117196166094,
          -1.8040780398052587,
          0.5072944321417777,
          0.9380547498373558,
          -1.2690117664652814
         ]
        },
        {
         "showlegend": false,
         "type": "box",
         "y": [
          -0.3655639980428201,
          0.972247818956368,
          -0.10735190715580963,
          -2.087542130798339,
          -0.43618999736756947,
          -0.8899738069647589,
          -0.6539745425213646,
          -0.1375355024258752,
          0.11623382821864779,
          -0.1951513185339326,
          -0.7957681096456415,
          0.7211676651055836,
          -0.7685391556658967,
          -0.9566687093105201,
          0.5862967484697283,
          0.43961878335787413,
          -1.3304454373037027,
          -0.7661469378735952,
          -0.29303127382863947,
          -0.924909352300866,
          -0.09908418121408465,
          0.4246924573586639,
          -0.31624016562923773,
          -1.5889910250774406,
          -0.6227876838187968,
          -0.11748532955962092,
          1.31876954520511,
          2.2148294162190405,
          0.4036806581470844,
          -1.791319022725076,
          -1.3018970164859442,
          -0.011199334233287145,
          1.894532214463952,
          -0.9271828974672154,
          -0.3150503216661219,
          1.7827865667276654,
          1.025019200232205,
          -0.39680140494187144,
          -0.09062223226805295,
          0.10292859241862884,
          -0.65537135162521,
          0.30740912311698393,
          -1.398194339603317,
          1.4800770675858796,
          -1.0927931538128706,
          1.9347605564659158,
          0.8159205843779654,
          2.0716401944555045,
          -0.9327930391059925,
          0.9304861519233405
         ]
        },
        {
         "showlegend": false,
         "type": "box",
         "y": [
          -1.0518235135094964,
          0.5034372006241478,
          -0.33447426243089795,
          1.4712722157586993,
          0.5295091309389731,
          0.557864325410581,
          0.5725931985562368,
          0.7301653118276015,
          -0.931544780077881,
          2.026003171613882,
          -1.9884569364812175,
          -1.513161640887938,
          -0.027528838609205738,
          -0.4078843179792792,
          0.1850498334273658,
          2.7567060973282462,
          1.6037910308964063,
          -1.4968693235667914,
          1.627592120724336,
          -2.552615486330669,
          0.9534837006478176,
          -0.8723096979194256,
          -0.6157339129411176,
          0.2691176431043533,
          0.40435699404882014,
          -0.7764390482874463,
          0.04463355283532844,
          1.4563412276795087,
          -1.5656794116165527,
          -0.20697250718010363,
          0.6603814423417893,
          -0.7997666068362984,
          -1.7000061539519746,
          0.14601095287021573,
          -1.8596572832764802,
          -0.9769629829725544,
          -2.548101194624429,
          -1.9240033990266308,
          -0.11865608766388122,
          -0.1265077900842041,
          0.7666244739836725,
          0.8103629663484783,
          0.24688699262636657,
          1.3751025599344364,
          -0.7037243435134162,
          -0.02122422023196027,
          0.20562978196444678,
          1.0646734336885721,
          0.7090876380209887,
          -0.11405441293106545
         ]
        },
        {
         "showlegend": false,
         "type": "box",
         "y": [
          0.903488695691965,
          -0.874668220148252,
          1.2166026801192085,
          -1.1743187062528269,
          -0.14214699948635426,
          -0.08218001332851949,
          0.7152046547716449,
          0.6362999537843123,
          -0.24782666802717984,
          -0.004126804281862425,
          0.7024879440529644,
          -0.6268241388159412,
          0.07085495726347427,
          2.1690246825658708,
          1.3768216674887177,
          -0.383572537262787,
          0.09424866587981856,
          -0.49688725048241006,
          1.0214207414832643,
          1.5197886930018467,
          -0.874900075838204,
          -1.1775535008887514,
          -0.4550777469347721,
          -1.2035833583373061,
          0.7549321726188657,
          0.9402476093006236,
          -0.7106692263612203,
          0.8203341914655248,
          0.8708302208586045,
          0.7458628255789194,
          0.856836359865289,
          0.20185969215022484,
          0.9834573596013582,
          0.4172680222385341,
          1.4743093852867168,
          -1.7198999760943845,
          -0.909120912766826,
          0.1935080211504133,
          -1.1896270437225906,
          -0.939610517560022,
          -0.8569741652291749,
          0.35347398978786776,
          -1.2049090737004235,
          0.23912298687386094,
          0.19009174992412978,
          1.6774767050545294,
          0.11728128217469047,
          1.2264743179433286,
          -0.758319129937537,
          -0.13892447817262102
         ]
        },
        {
         "showlegend": false,
         "type": "box",
         "y": [
          -0.8030704129588833,
          2.345360017978051,
          -0.7168387920471015,
          0.536119937136991,
          0.9911415718927827,
          1.2061268028700467,
          -0.3262946333885155,
          -2.098494710194059,
          -0.12969426344824167,
          -0.12309153277580406,
          0.03752670076635501,
          0.04790708950049618,
          -1.4890578855236474,
          0.021581770942530908,
          -0.4997259188663461,
          -0.3096773781080619,
          0.5255088764936976,
          -0.592503936401204,
          0.10648901323815106,
          -0.06538504642367367,
          -0.9668846221988984,
          -0.9952871408863565,
          0.4843043981382557,
          -0.07631238945526606,
          1.5264858439008944,
          -0.11869111696199375,
          -0.21661956798521093,
          0.8660890428293074,
          -1.2408292474527802,
          0.14867683703228432,
          2.4997541048227334,
          2.1858075712099576,
          0.3958906395874483,
          -0.0037435264371019736,
          0.05487630514181689,
          1.5348602686329647,
          1.6510165161819523,
          0.14890680096554348,
          0.7953626105042627,
          -1.2740193148178804,
          -0.20114094537498003,
          -1.3219063748600606,
          -0.01293266791701068,
          1.4967908538066752,
          0.16685200418912205,
          0.7850517850346033,
          1.1847225266399422,
          -0.08577194909268636,
          0.9244094723545161,
          1.4956096516991604
         ]
        },
        {
         "showlegend": false,
         "type": "box",
         "y": [
          0.7854405293743756,
          -0.8182917983390243,
          0.21408987816216038,
          -0.23990976407230677,
          -1.167375662395556,
          0.6298932163640039,
          -0.5180097947754255,
          0.8126666704342028,
          -0.45559419259161527,
          0.881479143922874,
          2.8826465045266314,
          0.06965975016229468,
          -0.7489362394794172,
          0.07330575816152013,
          0.8203520623454946,
          0.09136804463330365,
          0.6282246822154749,
          -0.297876316670806,
          0.08673510378469212,
          -0.09050688547924023,
          1.106910732848671,
          0.44880356057311466,
          -1.9205510943632855,
          -0.01911284112492218,
          0.4667148159185818,
          -2.2561377980899757,
          -1.0929783710114787,
          -0.32987505326954514,
          -1.1777419789836674,
          0.0645019113859741,
          0.051049181025958804,
          -1.2660431621391344,
          -0.5937887060815582,
          1.3562419422645493,
          0.7763119329098384,
          1.3766175408170958,
          0.8778084801661846,
          -1.0455298865877483,
          -0.915204348644133,
          0.48880397166614525,
          1.041680008925762,
          -0.6122836136755153,
          0.8645809640479132,
          1.9068598526304024,
          -0.2150403707812582,
          0.8595493544239383,
          -0.6392631610206656,
          -0.561916870790066,
          -0.21069986623722528,
          0.9308510846301876
         ]
        },
        {
         "showlegend": false,
         "type": "box",
         "y": [
          -0.5603332493913388,
          0.44810051484524466,
          2.0637642505210847,
          -0.7269017301576521,
          -0.03089754774708216,
          -0.030672740794082123,
          1.2174914547228337,
          0.21047382110741594,
          0.9334317156539159,
          0.8737992484691323,
          0.9205235472568246,
          1.3629714554510273,
          0.9093522013454624,
          0.4751907629200464,
          0.978187830706992,
          0.09536499467740482,
          -0.9630374368994394,
          -1.1677437860430515,
          -0.2117396263123554,
          0.8877099591374782,
          0.47771850270945476,
          1.2540613989903737,
          0.1294824948737563,
          0.2184411010207706,
          -0.840635345909502,
          -1.6665965423058904,
          2.249745250667233,
          1.187421959116294,
          0.37295317422580965,
          0.521235553793659,
          -1.5002486568089286,
          -0.883245027877967,
          0.4774753401517855,
          -0.855938136853491,
          0.22900359226078537,
          -0.3112044399515695,
          0.8273799880163224,
          -0.5013328598569451,
          1.4993341785151597,
          -0.9014063068595298,
          -0.49742248290251667,
          -2.5162938988388563,
          0.577213840150155,
          -0.9018846356110902,
          -0.043104478894942316,
          -0.7640731509481901,
          -1.6163339466077562,
          -0.7198709990067749,
          0.7209061249131745,
          -0.03729355005532254
         ]
        },
        {
         "showlegend": false,
         "type": "box",
         "y": [
          -2.3128193220109448,
          0.8190475705892728,
          1.2398861534830645,
          -1.7915072017487936,
          -2.1777837506154367,
          1.5495413010867194,
          -1.9501032327918413,
          0.19519006489518106,
          -1.60527036266332,
          1.2756296462369412,
          -0.8997376923552417,
          -0.6869834646543322,
          1.115781143375027,
          1.5656307309241486,
          0.3902073176781958,
          0.9852559173572177,
          -0.6650048190241458,
          -1.2818495350083365,
          -1.681397834921156,
          -0.5113249863909661,
          0.087287290907823,
          -0.2019585400070403,
          0.35214053134415574,
          0.5913282092811208,
          1.6610714796145258,
          0.4767626799463648,
          0.9582762465311716,
          1.914770829855504,
          0.6147170946031486,
          -0.611822368578535,
          -0.6303456963071464,
          0.7459541786502839,
          0.4727041984565346,
          -2.082278916874625,
          1.1424922284049845,
          -1.1370446156995533,
          1.2073229953919595,
          -1.086371806778979,
          0.15360836374635245,
          -1.494657207573448,
          -0.603539843051325,
          0.5905824210526478,
          0.8558253834931143,
          0.1851945096162047,
          -0.5141942889661479,
          0.7096661721692904,
          -1.2526160185662645,
          0.41145233589767055,
          -0.23184379759590334,
          1.2135571119386144
         ]
        },
        {
         "showlegend": false,
         "type": "box",
         "y": [
          -0.36318990073436686,
          -0.429324508224797,
          -0.10431405286200199,
          0.4529945812969308,
          -0.04493356628887126,
          -0.753966185938429,
          -0.42345637478180886,
          0.9800201173926348,
          0.5159034060941525,
          -0.2937042248327056,
          1.0296113750833085,
          0.5881287973840126,
          -1.65290931816737,
          0.16674697658247187,
          -1.5113711904409393,
          0.18983303333080476,
          0.908068439996618,
          -2.662113244276828,
          1.0154266598354735,
          -0.5826649933616244,
          -1.122243094370816,
          0.14532312514433568,
          -0.20502410508542754,
          -0.09329892033921088,
          0.2907584053745562,
          1.8703147632177866,
          0.0003295052335983773,
          -0.7050059985085297,
          -0.37146943664992865,
          -0.059181826993488555,
          0.9058877145996564,
          0.37323046917571745,
          0.5475819901908267,
          -0.9809955626977315,
          -0.2676334705728183,
          0.7067237463212268,
          0.1771257562953261,
          -1.681365065917304,
          1.8183366929186655,
          -0.40090529212591386,
          0.703320464909406,
          0.4539785222920204,
          -0.9993131111087993,
          -1.7748815434422485,
          -0.8708411447215048,
          0.503722197525289,
          -0.3645532876392864,
          0.2532543070458864,
          -1.150451100559777,
          0.550537353449727
         ]
        },
        {
         "showlegend": false,
         "type": "box",
         "y": [
          0.6453470012419692,
          -0.8374618617676737,
          0.1012237823767988,
          -0.12710737229500407,
          1.5017246192169382,
          0.19428966304788,
          0.46099051677339603,
          -0.22810182715995309,
          1.871663106079135,
          0.6013483300211224,
          0.21782724555870192,
          -1.1976269154473087,
          1.237191203292997,
          0.4792072496401514,
          -1.085141711775721,
          0.6719345571698564,
          -1.2590657710051751,
          0.5081396844947614,
          0.9030955821444924,
          0.010219407744938278,
          -0.010201437703522182,
          1.1611150497650453,
          0.5073703589799119,
          -1.1016612102495744,
          -0.7856690376964665,
          -0.21165691446249413,
          0.2631283012674446,
          0.22581964902702362,
          -0.4840815852714154,
          -0.2722289755140895,
          0.4594647692916807,
          0.3006921292268878,
          0.27657875474623117,
          2.619260005720901,
          -0.7382021726362522,
          -1.5039215612517105,
          -0.009435807389686909,
          -1.9501591937368559,
          -1.1723332338262535,
          0.36530392578280446,
          -1.0794055614830522,
          0.1439762331424537,
          0.24392442756013488,
          -1.3544600725115186,
          0.6136973505011541,
          1.4400803580999906,
          -0.4796899935413787,
          0.15998556458926108,
          1.1108130655051656,
          -0.48556864020306795
         ]
        },
        {
         "showlegend": false,
         "type": "box",
         "y": [
          -1.4922504303691404,
          0.16323842493110724,
          -1.6871792324384138,
          -0.4578698284144736,
          -1.996687032104593,
          1.2570228311296896,
          0.03769588287596799,
          -0.8459328194792847,
          -0.1695651417463239,
          -1.7834559169653794,
          1.070842046222683,
          1.7008210869107805,
          0.35504024636488546,
          0.3874491440026215,
          -0.6856181149427897,
          0.19115812390234763,
          -0.6955324211054504,
          0.1239482356885279,
          1.0942917759636535,
          -0.4983019791509718,
          -1.135565377146107,
          0.47909014588493853,
          -0.229154363666323,
          0.07621204554823299,
          0.11451089582803689,
          1.8660842815320557,
          0.0500490502753738,
          -1.3850265967641509,
          0.1814189336245236,
          0.9846298525003384,
          -0.41952556348164766,
          -0.7146371289633582,
          0.8902635612936056,
          1.016608033269124,
          -1.803309710262916,
          -2.2064771510537144,
          0.4327741722385022,
          1.8751148618042985,
          3.3235643983297463,
          -0.43048829130596705,
          0.9588365340065536,
          0.014032553700866968,
          0.6207674224096277,
          0.10485112999884122,
          1.0013334553283408,
          0.27853810374333604,
          1.0451209947892326,
          -1.0229737315175949,
          -0.7476542354630309,
          0.3402105682173784
         ]
        },
        {
         "showlegend": false,
         "type": "box",
         "y": [
          -0.8137299421454596,
          -0.31723545153623267,
          1.9123011415968136,
          -0.7349979459038832,
          0.7858791473239822,
          0.8302666883242802,
          -0.10689916658633881,
          2.156302903898566,
          -0.5602304983517402,
          1.3503597484957734,
          -0.3854384804135462,
          0.14818451951269043,
          0.27998251314357664,
          -1.1323848186709293,
          -1.4089684724782774,
          -0.1924189200805996,
          -0.7227464494432697,
          -1.3044877207137633,
          -0.46540575401232753,
          -1.5271567003331428,
          -0.11628376347684816,
          0.10246081834957381,
          -1.5020512662182088,
          0.06191538589314877,
          2.1535955401315525,
          -0.15686305786790833,
          -0.37831087004832803,
          -0.7499415190250596,
          -0.4302163638645427,
          -0.22408205984315913,
          -0.10145646263651631,
          1.1719804209512998,
          -0.8352568708493063,
          0.8436180984184487,
          -1.3745081856877306,
          0.5064915871061815,
          -0.8821663701760517,
          1.4627264836219849,
          -2.1296026470282743,
          1.0916393881179485,
          0.04965947279227277,
          -0.8091526499824045,
          0.7178052526198337,
          1.263033228484092,
          0.7059882646347369,
          -0.1816904366291198,
          1.6088357424383133,
          -2.5769657739232565,
          -1.3929973812129088,
          0.15246347666441323
         ]
        },
        {
         "showlegend": false,
         "type": "box",
         "y": [
          0.3704014726676743,
          0.22148111324057185,
          0.4427344616879443,
          -0.8607586468432908,
          1.7733017226262868,
          0.5472319191591246,
          1.647191503214775,
          -0.3240277535056528,
          -1.0720549347868786,
          1.708744004274962,
          -0.14439603248424165,
          -0.4922493501228697,
          0.6082925478516047,
          -0.29512922731052166,
          0.7524251550170441,
          1.5296075390394919,
          -1.6945434252659155,
          -0.1428369537250965,
          -1.112344019191091,
          0.8916020596483206,
          -2.1073014704145794,
          -0.11104951817575595,
          1.405704788977774,
          -0.9909824066497439,
          -1.5729231419174183,
          0.052597294319413984,
          -0.15174350545888313,
          -0.5704345660470058,
          1.1043859390511221,
          1.2392918683081422,
          -0.6113086867105231,
          1.551817061002404,
          -0.8404095824759672,
          0.8569811532955608,
          0.1729448963194699,
          -0.306467644443379,
          0.4233941224110698,
          -2.2144068919746323,
          0.03844067108053295,
          0.7871866225791138,
          0.17333042375128035,
          0.9553783567764961,
          1.669893412373031,
          -1.0641602339901892,
          -0.9499927832191495,
          -1.234088857570282,
          1.2293874077833387,
          -1.7109472089169178,
          -0.20904219996530576,
          0.021776666268419616
         ]
        },
        {
         "showlegend": false,
         "type": "box",
         "y": [
          1.4689364662412494,
          0.8990082952962208,
          -1.4267136738675796,
          -1.7241461256346433,
          -0.5855345405795696,
          1.3953610631277193,
          -0.1684841819085914,
          1.58577665796661,
          -0.8930109274066955,
          2.239416556519203,
          -0.9888137949904416,
          -0.26818739058125773,
          1.4362885364994389,
          -1.1001647939568744,
          1.1703430368395054,
          -1.4778750301839363,
          0.9235888689129531,
          -0.16974088152810557,
          0.4727912475845508,
          -0.06132646529021364,
          -1.1361572085105556,
          0.05359341461576135,
          1.878561338084558,
          -1.3201409181530628,
          -1.0546081724421659,
          -0.9610906155969452,
          0.4783242065765813,
          -0.2996319167637541,
          0.32162258632294777,
          0.28433740336856655,
          0.3376850962427085,
          -0.827664724998901,
          0.022253854016109447,
          0.08421283004574676,
          -1.4793520944434029,
          0.7224499250031251,
          0.2079524454692853,
          -0.7937977061193934,
          -0.5298091559852831,
          1.5793620782382798,
          -1.2911900572022088,
          0.18356025120116695,
          -0.46123753220166874,
          -0.08781693592012937,
          1.1420186052326542,
          0.8608656323357717,
          -0.7189433284348766,
          -0.4829708919135049,
          -1.361415931633449,
          0.14779429462621302
         ]
        }
       ],
       "layout": {
        "template": {
         "data": {
          "bar": [
           {
            "error_x": {
             "color": "#2a3f5f"
            },
            "error_y": {
             "color": "#2a3f5f"
            },
            "marker": {
             "line": {
              "color": "#E5ECF6",
              "width": 0.5
             }
            },
            "type": "bar"
           }
          ],
          "barpolar": [
           {
            "marker": {
             "line": {
              "color": "#E5ECF6",
              "width": 0.5
             }
            },
            "type": "barpolar"
           }
          ],
          "carpet": [
           {
            "aaxis": {
             "endlinecolor": "#2a3f5f",
             "gridcolor": "white",
             "linecolor": "white",
             "minorgridcolor": "white",
             "startlinecolor": "#2a3f5f"
            },
            "baxis": {
             "endlinecolor": "#2a3f5f",
             "gridcolor": "white",
             "linecolor": "white",
             "minorgridcolor": "white",
             "startlinecolor": "#2a3f5f"
            },
            "type": "carpet"
           }
          ],
          "choropleth": [
           {
            "colorbar": {
             "outlinewidth": 0,
             "ticks": ""
            },
            "type": "choropleth"
           }
          ],
          "contour": [
           {
            "colorbar": {
             "outlinewidth": 0,
             "ticks": ""
            },
            "colorscale": [
             [
              0,
              "#0d0887"
             ],
             [
              0.1111111111111111,
              "#46039f"
             ],
             [
              0.2222222222222222,
              "#7201a8"
             ],
             [
              0.3333333333333333,
              "#9c179e"
             ],
             [
              0.4444444444444444,
              "#bd3786"
             ],
             [
              0.5555555555555556,
              "#d8576b"
             ],
             [
              0.6666666666666666,
              "#ed7953"
             ],
             [
              0.7777777777777778,
              "#fb9f3a"
             ],
             [
              0.8888888888888888,
              "#fdca26"
             ],
             [
              1,
              "#f0f921"
             ]
            ],
            "type": "contour"
           }
          ],
          "contourcarpet": [
           {
            "colorbar": {
             "outlinewidth": 0,
             "ticks": ""
            },
            "type": "contourcarpet"
           }
          ],
          "heatmap": [
           {
            "colorbar": {
             "outlinewidth": 0,
             "ticks": ""
            },
            "colorscale": [
             [
              0,
              "#0d0887"
             ],
             [
              0.1111111111111111,
              "#46039f"
             ],
             [
              0.2222222222222222,
              "#7201a8"
             ],
             [
              0.3333333333333333,
              "#9c179e"
             ],
             [
              0.4444444444444444,
              "#bd3786"
             ],
             [
              0.5555555555555556,
              "#d8576b"
             ],
             [
              0.6666666666666666,
              "#ed7953"
             ],
             [
              0.7777777777777778,
              "#fb9f3a"
             ],
             [
              0.8888888888888888,
              "#fdca26"
             ],
             [
              1,
              "#f0f921"
             ]
            ],
            "type": "heatmap"
           }
          ],
          "heatmapgl": [
           {
            "colorbar": {
             "outlinewidth": 0,
             "ticks": ""
            },
            "colorscale": [
             [
              0,
              "#0d0887"
             ],
             [
              0.1111111111111111,
              "#46039f"
             ],
             [
              0.2222222222222222,
              "#7201a8"
             ],
             [
              0.3333333333333333,
              "#9c179e"
             ],
             [
              0.4444444444444444,
              "#bd3786"
             ],
             [
              0.5555555555555556,
              "#d8576b"
             ],
             [
              0.6666666666666666,
              "#ed7953"
             ],
             [
              0.7777777777777778,
              "#fb9f3a"
             ],
             [
              0.8888888888888888,
              "#fdca26"
             ],
             [
              1,
              "#f0f921"
             ]
            ],
            "type": "heatmapgl"
           }
          ],
          "histogram": [
           {
            "marker": {
             "colorbar": {
              "outlinewidth": 0,
              "ticks": ""
             }
            },
            "type": "histogram"
           }
          ],
          "histogram2d": [
           {
            "colorbar": {
             "outlinewidth": 0,
             "ticks": ""
            },
            "colorscale": [
             [
              0,
              "#0d0887"
             ],
             [
              0.1111111111111111,
              "#46039f"
             ],
             [
              0.2222222222222222,
              "#7201a8"
             ],
             [
              0.3333333333333333,
              "#9c179e"
             ],
             [
              0.4444444444444444,
              "#bd3786"
             ],
             [
              0.5555555555555556,
              "#d8576b"
             ],
             [
              0.6666666666666666,
              "#ed7953"
             ],
             [
              0.7777777777777778,
              "#fb9f3a"
             ],
             [
              0.8888888888888888,
              "#fdca26"
             ],
             [
              1,
              "#f0f921"
             ]
            ],
            "type": "histogram2d"
           }
          ],
          "histogram2dcontour": [
           {
            "colorbar": {
             "outlinewidth": 0,
             "ticks": ""
            },
            "colorscale": [
             [
              0,
              "#0d0887"
             ],
             [
              0.1111111111111111,
              "#46039f"
             ],
             [
              0.2222222222222222,
              "#7201a8"
             ],
             [
              0.3333333333333333,
              "#9c179e"
             ],
             [
              0.4444444444444444,
              "#bd3786"
             ],
             [
              0.5555555555555556,
              "#d8576b"
             ],
             [
              0.6666666666666666,
              "#ed7953"
             ],
             [
              0.7777777777777778,
              "#fb9f3a"
             ],
             [
              0.8888888888888888,
              "#fdca26"
             ],
             [
              1,
              "#f0f921"
             ]
            ],
            "type": "histogram2dcontour"
           }
          ],
          "mesh3d": [
           {
            "colorbar": {
             "outlinewidth": 0,
             "ticks": ""
            },
            "type": "mesh3d"
           }
          ],
          "parcoords": [
           {
            "line": {
             "colorbar": {
              "outlinewidth": 0,
              "ticks": ""
             }
            },
            "type": "parcoords"
           }
          ],
          "pie": [
           {
            "automargin": true,
            "type": "pie"
           }
          ],
          "scatter": [
           {
            "marker": {
             "colorbar": {
              "outlinewidth": 0,
              "ticks": ""
             }
            },
            "type": "scatter"
           }
          ],
          "scatter3d": [
           {
            "line": {
             "colorbar": {
              "outlinewidth": 0,
              "ticks": ""
             }
            },
            "marker": {
             "colorbar": {
              "outlinewidth": 0,
              "ticks": ""
             }
            },
            "type": "scatter3d"
           }
          ],
          "scattercarpet": [
           {
            "marker": {
             "colorbar": {
              "outlinewidth": 0,
              "ticks": ""
             }
            },
            "type": "scattercarpet"
           }
          ],
          "scattergeo": [
           {
            "marker": {
             "colorbar": {
              "outlinewidth": 0,
              "ticks": ""
             }
            },
            "type": "scattergeo"
           }
          ],
          "scattergl": [
           {
            "marker": {
             "colorbar": {
              "outlinewidth": 0,
              "ticks": ""
             }
            },
            "type": "scattergl"
           }
          ],
          "scattermapbox": [
           {
            "marker": {
             "colorbar": {
              "outlinewidth": 0,
              "ticks": ""
             }
            },
            "type": "scattermapbox"
           }
          ],
          "scatterpolar": [
           {
            "marker": {
             "colorbar": {
              "outlinewidth": 0,
              "ticks": ""
             }
            },
            "type": "scatterpolar"
           }
          ],
          "scatterpolargl": [
           {
            "marker": {
             "colorbar": {
              "outlinewidth": 0,
              "ticks": ""
             }
            },
            "type": "scatterpolargl"
           }
          ],
          "scatterternary": [
           {
            "marker": {
             "colorbar": {
              "outlinewidth": 0,
              "ticks": ""
             }
            },
            "type": "scatterternary"
           }
          ],
          "surface": [
           {
            "colorbar": {
             "outlinewidth": 0,
             "ticks": ""
            },
            "colorscale": [
             [
              0,
              "#0d0887"
             ],
             [
              0.1111111111111111,
              "#46039f"
             ],
             [
              0.2222222222222222,
              "#7201a8"
             ],
             [
              0.3333333333333333,
              "#9c179e"
             ],
             [
              0.4444444444444444,
              "#bd3786"
             ],
             [
              0.5555555555555556,
              "#d8576b"
             ],
             [
              0.6666666666666666,
              "#ed7953"
             ],
             [
              0.7777777777777778,
              "#fb9f3a"
             ],
             [
              0.8888888888888888,
              "#fdca26"
             ],
             [
              1,
              "#f0f921"
             ]
            ],
            "type": "surface"
           }
          ],
          "table": [
           {
            "cells": {
             "fill": {
              "color": "#EBF0F8"
             },
             "line": {
              "color": "white"
             }
            },
            "header": {
             "fill": {
              "color": "#C8D4E3"
             },
             "line": {
              "color": "white"
             }
            },
            "type": "table"
           }
          ]
         },
         "layout": {
          "annotationdefaults": {
           "arrowcolor": "#2a3f5f",
           "arrowhead": 0,
           "arrowwidth": 1
          },
          "autotypenumbers": "strict",
          "coloraxis": {
           "colorbar": {
            "outlinewidth": 0,
            "ticks": ""
           }
          },
          "colorscale": {
           "diverging": [
            [
             0,
             "#8e0152"
            ],
            [
             0.1,
             "#c51b7d"
            ],
            [
             0.2,
             "#de77ae"
            ],
            [
             0.3,
             "#f1b6da"
            ],
            [
             0.4,
             "#fde0ef"
            ],
            [
             0.5,
             "#f7f7f7"
            ],
            [
             0.6,
             "#e6f5d0"
            ],
            [
             0.7,
             "#b8e186"
            ],
            [
             0.8,
             "#7fbc41"
            ],
            [
             0.9,
             "#4d9221"
            ],
            [
             1,
             "#276419"
            ]
           ],
           "sequential": [
            [
             0,
             "#0d0887"
            ],
            [
             0.1111111111111111,
             "#46039f"
            ],
            [
             0.2222222222222222,
             "#7201a8"
            ],
            [
             0.3333333333333333,
             "#9c179e"
            ],
            [
             0.4444444444444444,
             "#bd3786"
            ],
            [
             0.5555555555555556,
             "#d8576b"
            ],
            [
             0.6666666666666666,
             "#ed7953"
            ],
            [
             0.7777777777777778,
             "#fb9f3a"
            ],
            [
             0.8888888888888888,
             "#fdca26"
            ],
            [
             1,
             "#f0f921"
            ]
           ],
           "sequentialminus": [
            [
             0,
             "#0d0887"
            ],
            [
             0.1111111111111111,
             "#46039f"
            ],
            [
             0.2222222222222222,
             "#7201a8"
            ],
            [
             0.3333333333333333,
             "#9c179e"
            ],
            [
             0.4444444444444444,
             "#bd3786"
            ],
            [
             0.5555555555555556,
             "#d8576b"
            ],
            [
             0.6666666666666666,
             "#ed7953"
            ],
            [
             0.7777777777777778,
             "#fb9f3a"
            ],
            [
             0.8888888888888888,
             "#fdca26"
            ],
            [
             1,
             "#f0f921"
            ]
           ]
          },
          "colorway": [
           "#636efa",
           "#EF553B",
           "#00cc96",
           "#ab63fa",
           "#FFA15A",
           "#19d3f3",
           "#FF6692",
           "#B6E880",
           "#FF97FF",
           "#FECB52"
          ],
          "font": {
           "color": "#2a3f5f"
          },
          "geo": {
           "bgcolor": "white",
           "lakecolor": "white",
           "landcolor": "#E5ECF6",
           "showlakes": true,
           "showland": true,
           "subunitcolor": "white"
          },
          "hoverlabel": {
           "align": "left"
          },
          "hovermode": "closest",
          "mapbox": {
           "style": "light"
          },
          "paper_bgcolor": "white",
          "plot_bgcolor": "#E5ECF6",
          "polar": {
           "angularaxis": {
            "gridcolor": "white",
            "linecolor": "white",
            "ticks": ""
           },
           "bgcolor": "#E5ECF6",
           "radialaxis": {
            "gridcolor": "white",
            "linecolor": "white",
            "ticks": ""
           }
          },
          "scene": {
           "xaxis": {
            "backgroundcolor": "#E5ECF6",
            "gridcolor": "white",
            "gridwidth": 2,
            "linecolor": "white",
            "showbackground": true,
            "ticks": "",
            "zerolinecolor": "white"
           },
           "yaxis": {
            "backgroundcolor": "#E5ECF6",
            "gridcolor": "white",
            "gridwidth": 2,
            "linecolor": "white",
            "showbackground": true,
            "ticks": "",
            "zerolinecolor": "white"
           },
           "zaxis": {
            "backgroundcolor": "#E5ECF6",
            "gridcolor": "white",
            "gridwidth": 2,
            "linecolor": "white",
            "showbackground": true,
            "ticks": "",
            "zerolinecolor": "white"
           }
          },
          "shapedefaults": {
           "line": {
            "color": "#2a3f5f"
           }
          },
          "ternary": {
           "aaxis": {
            "gridcolor": "white",
            "linecolor": "white",
            "ticks": ""
           },
           "baxis": {
            "gridcolor": "white",
            "linecolor": "white",
            "ticks": ""
           },
           "bgcolor": "#E5ECF6",
           "caxis": {
            "gridcolor": "white",
            "linecolor": "white",
            "ticks": ""
           }
          },
          "title": {
           "x": 0.05
          },
          "xaxis": {
           "automargin": true,
           "gridcolor": "white",
           "linecolor": "white",
           "ticks": "",
           "title": {
            "standoff": 15
           },
           "zerolinecolor": "white",
           "zerolinewidth": 2
          },
          "yaxis": {
           "automargin": true,
           "gridcolor": "white",
           "linecolor": "white",
           "ticks": "",
           "title": {
            "standoff": 15
           },
           "zerolinecolor": "white",
           "zerolinewidth": 2
          }
         }
        }
       }
      },
      "text/html": "<div>                            <div id=\"42825888-a92d-4f47-8d37-e10c9fa53510\" class=\"plotly-graph-div\" style=\"height:525px; width:100%;\"></div>            <script type=\"text/javascript\">                require([\"plotly\"], function(Plotly) {                    window.PLOTLYENV=window.PLOTLYENV || {};                                    if (document.getElementById(\"42825888-a92d-4f47-8d37-e10c9fa53510\")) {                    Plotly.newPlot(                        \"42825888-a92d-4f47-8d37-e10c9fa53510\",                        [{\"showlegend\": false, \"type\": \"box\", \"y\": [-0.060447706368651495, 0.020349852977604208, 0.729995339366186, -0.9882167776758845, 0.06442239929270731, -1.9660854201339544, 0.9483141858752056, 0.6722923282201624, -0.9468386800377672, 3.0986828375739393, -0.03675524898380998, -1.1054514221144354, -0.04144975162062011, -1.3986426863291124, 0.8905758529905414, 0.7487381459124555, -0.8428470614092102, 0.7284099853692663, 0.24848940239244416, 0.8347507206773866, 0.276330590862982, -0.9568037415546742, 1.441433878958149, -0.4991952542909924, -0.9568164359772164, 0.31698271165724273, 0.9633454859458694, -0.36697080203867494, 0.6114611851181476, -0.31419473350226984, -0.7550836855019736, -0.5699493545507971, 0.17854076440816558, 0.5859152064253232, -0.8879054292419395, -0.5146999075215775, 0.5031474330395539, 1.4021260330205847, -0.6351664442537621, 0.6937601216144306, -0.41016458184903637, 0.6905602340305056, 1.153170959278616, 1.6020333952019912, 1.4707560317695985, 1.3653449073582433, 0.8833576905711727, 0.3055615869483995, 2.71611671121033, -0.9668094372059123]}, {\"showlegend\": false, \"type\": \"box\", \"y\": [-1.231778682898705, -0.23976910568000304, -0.15664108834756155, 1.4825520483325656, 2.1879827068323388, 0.8670981751854241, -0.16610849882293674, -0.5131318204903028, 0.8736742603388313, 0.6017804120242843, -1.2168676698473495, 0.029074232018114706, -0.3711537973229141, -0.2855167653177033, 0.8035483941513333, -0.509736952564002, 1.5724945055852557, -1.552643302718572, -0.18472631950826204, 1.599739777535252, 0.832359940477117, -1.5752465178543027, 0.07724205252426501, 0.49301957165932975, -0.42556380463076615, 0.93514373242197, 0.5832366039087228, -0.0005734939050684588, 1.094422091280684, -1.3243378381479718, -0.01590526001751736, -1.2473044586780762, -0.8952409581458065, 0.8714122906766535, -1.7917119710575677, 0.8599798980692506, -1.1107121624757086, -0.8690092430029958, -1.4974652291126478, -1.9165650188919878, 0.13679600998021976, 0.3352809998730095, 2.1873179698993837, 0.37344077790609903, 0.6456918580895611, -0.6833233861515008, 1.0507387666910308, -0.09569338426634055, 2.9272085177169163, 1.3268482216212054]}, {\"showlegend\": false, \"type\": \"box\", \"y\": [-0.36131180736845986, -2.5233162344901205, 0.0009652924834391902, 1.1705090584214437, 0.8832625014017558, -0.2611215869047977, -0.9983608188117018, -1.7182560704729057, -2.2801201348800575, -1.0698898073436929, -0.25764542577027744, -0.8748358498853169, -2.4369175543815156, 0.9163625187150697, -0.048978207358346855, 0.8998189290579689, -0.7739669847256497, -0.07804192643563719, 0.7014000823342413, 0.09764397753456386, 0.6331567955885057, -0.33715728851012544, 1.661213536705401, -1.7658167128121955, 1.567825015085992, 0.9912279415863094, 0.7686188879920208, 1.3218283462079519, -1.1657550291716305, 1.827431834695469, -1.7280569626293805, 1.019922230086637, -0.007983821029405296, -0.7783215244031155, -0.06019982248140085, 0.16295166875188546, 0.08762270203036325, 0.4132407115097307, -0.025932642082800324, 0.33784073497585093, 0.48182054989951023, -0.9021638719356111, -0.6728055140848271, -1.1069812151118685, 0.7230970643809187, -1.1921236087688514, 2.0706000463322334, -0.4127044255990622, 0.43602292389757, 1.8173985787908817]}, {\"showlegend\": false, \"type\": \"box\", \"y\": [-0.6100106844290226, -1.8149634654793192, -0.7970762942048494, 1.443690281726123, -0.31137870185703564, -0.9881330422294173, 0.8513224718296163, 1.5316092030343138, -1.4305919395708853, -1.0575078834320668, 0.5128500680111735, 0.7621972122746424, 0.7943939510912784, -0.0074500770391915895, 0.87949931015073, 0.9359656096123212, -1.0830957362120803, 0.2949913851919287, -1.725263320716739, -1.2043951591012254, 0.9010148267280143, -0.42823087941218874, 1.4794092021731795, -0.3665797156880526, 0.3616361519540903, 1.8124932427698308, 1.7971933000435343, 0.44546495193353186, 0.13794316710050356, -1.571659206770983, 1.493255574855726, 0.6138260507477504, -0.5212277910567275, -0.00988696575788413, -0.9163376051363034, 0.7283678576427581, 0.19265896285579132, 1.121600664612784, 1.9725270059133775, 0.6579735691199673, 0.1453107144884758, -0.2639989533406851, -0.31536020570749, -0.2803083963308251, -1.334935839074033, 0.20161895709077993, 0.7685451717603784, 0.08155472519181602, 0.5726691087008835, -0.6448835388751835]}, {\"showlegend\": false, \"type\": \"box\", \"y\": [1.1224079748865983, -0.8187790615358718, 0.02394816618285281, 0.714411475976169, -0.5359782806679545, 1.1490335531684805, -0.2097351682621611, 0.092746445239692, 0.3225744495934478, -0.6454713916307944, -0.11553327867726093, -0.4906051074801074, -0.579237380161848, -0.2788477463197568, 0.4624800139667659, 0.2318461985466399, -0.12012716760011308, 0.13530374755400132, -0.19088183615216223, -0.7131499346678584, 0.18823613765417005, -0.22966827384581323, -0.3609011948904021, -0.7033140732114688, 0.025636600808515906, -1.1659624201618517, -0.7555699655943093, 0.022649594801909232, 0.5226719587107977, 0.1102279621254058, 2.249992886856464, -0.4749867828912713, 1.0487310801387342, -0.7536057541284163, 0.5387092301081682, -0.6300643077005924, -0.7590066393624926, -0.37398701120413813, -0.33340629290960516, -0.7725694391223266, -0.18933234284934, -1.2209085095207453, -0.007136899080803335, -0.32295309571584824, 1.1844123656722967, 1.744622375847929, -0.6475167337420916, 0.5877653561318007, -0.5045458850376683, -1.2879802963009184]}, {\"showlegend\": false, \"type\": \"box\", \"y\": [-0.7280764411041893, -0.9034332602878119, -0.9416042459286625, -0.018873903298147754, 1.5732068264007688, -0.1757501428008169, 0.5443875314721116, 1.0076271874678648, -0.1622683153506936, 0.21433209939171854, -1.8462379959669557, -0.8010552882317639, -0.3821458303214564, -0.9044624802923205, -1.2323455835015233, -1.1989375902029904, -0.7180734015788733, -1.0133797066719636, 0.7680161416730278, 0.05700118295167952, 0.6890778192781944, 0.6881990614209976, -1.5234302416383392, -1.3114556133519661, 0.2848055360929937, 0.3294073228664832, 1.317909529008986, 1.0310915861123433, 1.3640002121634254, 1.6124691340937363, 1.2003349060617756, 0.4223110102340292, -1.21450762656845, -1.1885262300137307, -2.8238948853010863, -0.2873278700549042, 1.2829174272496613, -0.6867675383324574, -0.4844862472868619, 1.7165524127005796, -0.4876640899440889, 0.9291164732341894, -0.7080164199332106, 0.08581252166074739, 0.1812776751474509, 0.4551960715694904, -0.8744808810287175, -0.09144115976597789, -0.8611333151362107, 0.32277176201570473]}, {\"showlegend\": false, \"type\": \"box\", \"y\": [-0.5597030167179071, 0.27240364278686935, -0.27746579946382055, 0.2667234831157989, -0.5449098080905312, 0.7603971808507892, -1.6137846256998885, -0.2964806908035502, 2.041372550380125, 0.3906215306652354, 0.20240962868268406, -1.2789251183296717, 0.3537136251031832, 1.0408235002691522, 0.5417014220229952, 0.7482511457939556, 1.1069102609122414, 0.3947517454593713, -1.0491433012369342, 0.1080075909005777, -0.4915522143315961, -0.6726002116204561, 0.37883714277939284, 0.18847720650816996, 0.08717883592861021, 0.06011193704248715, -0.9531453540576375, 0.6232838328962098, -0.44117106704344466, -0.1299767230473521, 0.8898983325037667, 1.572388962883017, 1.0678720548561071, -1.0833003879879608, 0.38526427350616993, -0.403282157505311, -0.9368385921833725, -0.04269881111509279, 0.6027295486050922, -1.2345934012177202, -1.6021487199831135, -0.5504866658558679, -0.4806616128336156, 1.2314534160046593, -1.95476449784646, -0.5422175543294271, -0.9538470721433102, -0.41398307607455537, -0.5442048983326948, 1.8325064225722643]}, {\"showlegend\": false, \"type\": \"box\", \"y\": [1.141101223283454, -1.13683329947862, -0.1294978156702711, -0.7773357456239879, 1.296842048198319, 0.18406888001784794, -1.3658851086764965, 0.12512031414110109, -1.6586694555940222, 0.46317517797105817, -0.8102915219395234, 1.000606800344569, -0.3376344403314075, -1.9398522660206128, -0.40902101849706557, 0.8424981849040456, 1.1540078052042266, -1.0006388306177907, 0.35450805422576737, -0.10890556514397663, -0.5928924424281579, -0.44227279633065847, 0.369629480151233, 0.060001884222801234, 0.15109813375462136, 1.9375841196891828, -0.15061506163475644, -0.7657148739421086, 0.7547445523130248, 0.83066185889646, -0.9469447637148222, -0.9874600321412575, 0.6512748451376175, -2.969028443184716, 1.2968243462716857, 0.4370923938347028, -0.03483251035702372, 2.008943742007824, 2.257368281154021, -0.6087833085206492, -1.6491252867307162, 0.9279617375128306, -0.6032344628361334, 1.033057694924873, 0.9871966046702892, 0.5643623073292443, 1.2775144862160344, -1.1580263647006699, 1.2876066999084252, -1.531262705700796]}, {\"showlegend\": false, \"type\": \"box\", \"y\": [-0.010655239932599708, 1.126575658835693, 1.4716081447946445, -0.7858769664419808, 1.8208465830606275, -1.3602237049901333, -0.9924705752311426, 1.6824999210215474, -0.16461438721534807, -0.10069445736849277, -0.5063334907043813, 0.7099694824661894, 0.5351507020489571, 1.321050399900537, 1.9659370016354711, -0.005112775514445966, -0.7830530456388428, -0.5875904018104495, 0.07951286224279457, 1.6015414169350015, -0.9878773450559442, -1.2258715116259267, 0.0617242423006624, 0.30758107035829707, 0.07386957920214725, -0.4766265602552361, 0.6893457902253199, -0.7867554616839646, 1.20221852094189, 1.750874123745833, 1.6973691916771505, -1.5385111915186802, 1.3004171953189625, -0.8137970287671842, -2.3487181021181867, -0.026617551224287772, -1.7758998279836162, -0.7852085707836731, 0.8800375505112116, 1.1131801255114884, 0.9163333197600941, -0.5738046024759688, 0.030598652721101932, 1.6785069348760289, -0.9799892533756633, -0.5322677080561979, -0.7539515425933769, 0.3237064914022715, 1.2026300041677438, -0.2899686896514311]}, {\"showlegend\": false, \"type\": \"box\", \"y\": [-0.4730497877056501, -1.0643883803854237, -1.6108466541827224, 0.038595487415712566, -0.8723909150099187, -2.2395328134713677, -0.8582725264392735, -0.4744717162255389, -0.20379473877395068, -0.7536900020140217, -1.0235897551748723, -2.370830267789659, -0.8847182579644238, 0.2558621364569561, -1.7942160963840843, -1.5880266859390377, 0.5077910875604631, 0.6930595040634503, 0.7582722428229633, 1.2677057249537447, -1.3568317195798485, 0.25769736403559473, 1.4604033540726906, -1.812355490146985, 1.268422357698424, -0.7826406319681958, 0.24041021619603542, -0.38459523016551705, 0.10461796070963461, 0.05564356806950438, -1.269650385162548, 0.22684700226780014, 0.9302357847165745, 0.10041849089715839, 1.440010892920941, -0.7215008090691577, 0.48830364810842364, 0.357292101436551, -0.12435889904394125, -1.7089043241503483, -1.3247096411629948, -0.761445640308897, -1.8160316575836846, -0.11635743735497399, 0.4460196475616336, 0.9633228528347133, 1.2142722484746764, -2.0512662543944464, -1.3213896023266796, -1.2395097932272914]}, {\"showlegend\": false, \"type\": \"box\", \"y\": [0.5755529281183777, -0.7120494983518243, -0.7312554132197157, 0.3949613727957371, -0.2776017819677317, -0.9279565820570531, -1.5167018634556924, 1.1802336797599484, 0.5034721395042788, -1.1874108919294555, 0.24694021685087308, -0.3012489074427511, 0.9186884119792912, 1.002768248910064, -0.2912335726829239, 0.13125119584649247, 0.3454164819132012, 0.08710748960099265, -1.537850440367052, -1.1968286582392336, 1.0863552185158234, 0.7378605325712299, -1.4551886632461375, 0.5609804072768598, -1.2834643410420243, -0.687053621107467, -0.603745268295609, -0.2522181162048096, 0.7756947459094153, 0.16544474564855688, 2.148839335566011, -0.2270512299601823, 0.7762343105721162, -0.6299970552239932, -0.9671445497824768, -0.8798356895953022, 1.231750613606379, -1.7028919239865405, -1.951508144354574, -0.8974339515334042, 0.0463661969407917, -1.3482228717900169, -1.1508261729827205, 0.5369841629030363, 0.1662819853352949, -0.009941440965464834, 1.884397340811869, 0.9820830034781002, 1.884827879355795, 0.2682376573668568]}, {\"showlegend\": false, \"type\": \"box\", \"y\": [0.8531624464183194, -0.20359362915301785, -0.6000355428859979, -0.5986763738167501, 1.698203891146766, 0.6572443057947679, -0.030637691006316744, -1.404529432155423, -0.29713756752201287, -3.179196448615867, -0.6071509274549046, -0.6886752040550966, -0.477063295164264, -0.9095772229522581, -1.5786572343504504, -0.03895232296213374, 0.5312133918680614, 0.08054248834931708, 0.9738568384541785, 0.6844092550588344, 0.9112503664667666, -0.9559335296895436, 0.44376509784294677, 1.1795490129836994, -0.5539880509910036, -0.05040764536043289, 0.234293767546354, 1.1498986774024391, -1.2650046624254674, -0.9704480817807498, -0.8976580889720418, -1.4586753040605491, 0.5444685419907789, -0.3792018924235172, 0.5748009627169992, -1.3349731072343523, -0.5146050139712315, 1.4088694284518062, 1.8529103980202115, -0.2236458340130434, 1.8876575535670144, 0.27884170280462395, -0.7995153796981095, 1.4605734925617562, -1.4092095187317748, 1.359880684922331, -1.1326174854315274, -0.028483530990804272, 1.136965562533809, 1.190452884404711]}, {\"showlegend\": false, \"type\": \"box\", \"y\": [0.5212771855677152, -1.0193182450189848, -0.06585484017452145, -0.9895972978960721, -1.0874461343388229, -0.7401776606227631, 0.19803837313573067, -0.18585224499563474, 1.8429259859367435, -1.557441282805536, 2.0659409511301323, -1.206006880959654, 0.6747448545009915, -0.8039996131454176, -0.20462282716843305, 0.3837895960866396, -0.7220078977640549, -0.2926732753546706, 1.1833817596294425, -0.07213730257992186, -1.3251653833038834, -0.07954457678607098, 0.1570473470729106, -1.3333813946892679, -0.2796943622810039, -0.6974005760149662, 0.8845369291693923, 0.8139748154427819, -1.6543076979494917, 1.9073944865952366, 0.08879022415446039, -0.8543081437661847, -1.1472834034634933, 0.6844623214800373, -0.4169225446010072, 0.3021733808244529, 0.3351234716399428, -2.596182016450383, -0.05333576902799805, 0.42348710314869875, 1.1088762574481574, -1.3193255297817092, 0.27060777458179675, 1.0198675748115682, 0.32387613056455283, -0.6519999026317662, 0.11211616243138453, -0.42614868455946114, -1.3397229664524155, 1.2616453686893236]}, {\"showlegend\": false, \"type\": \"box\", \"y\": [-0.7941765203636528, -0.12766718483330644, -1.733903130921487, -0.8792411407329035, -0.8709714784644802, 1.790042166379939, -0.7607978094045668, 2.216214204635204, 1.4556616155219284, -1.8060050942544243, 0.28397201619407075, -1.3000287184316555, -0.9487870935486185, 0.29184712259355033, -1.261853568727155, -0.5243296654741377, -0.3743847069252109, -0.4628750837323254, 0.8810270720168324, -0.5561200951857387, 0.1298115342551957, -0.004675624146299322, -0.918592710341461, 1.9993292566019865, 1.1450782093731817, 0.8038577331238071, 0.11831158786645687, -1.3445256109074732, 0.3974928403336984, 0.4842157193226631, 0.34172610561909744, -1.1231931175357728, 0.04440131226272742, 0.20171360904130387, -3.0787816157788344, 1.5477384990737157, -0.0016215073167622175, -1.4164301560440358, -0.3497843688458687, -1.7682292024551596, -0.5654631809987184, 0.6883734687114503, 0.07510518287501917, 0.39125785902897986, 0.4222928388587022, -0.06602932728000667, -0.33492895110202736, 0.15718243421914146, -0.6209968921631309, -1.5168860302852856]}, {\"showlegend\": false, \"type\": \"box\", \"y\": [-0.15980991897353908, -0.6965816757103829, 0.9969108583803851, -1.4087260048206856, 0.8755760748673819, -0.6761803641344196, 1.5900264379936908, -0.5900670185368191, 0.1733064244031303, -0.46024322559234065, -0.295624601640482, -0.5873877275962093, -0.012122802258070803, 0.6682149383653292, -1.6243925805175756, 2.3221005391548166, 2.848435786931562, -1.3435734802065968, -1.026065919393185, -1.1868198009120172, -1.2822690137055706, -0.9173782710179121, -0.35047887804935146, 0.9426761581585013, -0.8102608328292442, 0.7140233665770175, 0.38971441033221754, 0.6220492176813386, 1.976196973105295, -0.004032287296174451, 0.0014595454926678375, 1.0639265876528083, 0.7276367030869846, -0.9466193421957182, 1.8802055974348886, 1.1727305718435264, -0.51328200003594, 0.32945835552891883, 0.07156997168590142, -0.42301132041278394, 1.0053348466813465, 0.15492940180774536, -0.3053716747615386, -0.15378877321899978, -0.6279715443011629, 2.538611103705938, 0.4096015106019263, -0.9254199815029506, 0.289359626365199, 0.15635439216153982]}, {\"showlegend\": false, \"type\": \"box\", \"y\": [0.5784103317336692, 0.621523635382887, -1.4965793807450583, 0.0737722685050712, -0.4836481386965566, -0.9518920042426124, -1.4696244645637455, 1.5960576251432417, 1.3988307485943776, -1.0148951341884234, 1.4458104628251907, 0.3508788749918923, -0.413042490275579, -0.05083700853273367, -0.5338786730186973, 1.5687542078358603, -0.7451677608160296, -1.3557779328310393, -0.5148402270400003, -0.2511722036695312, 0.0367883393964259, -0.30444879882854664, -0.951950816533364, -2.246283902395937, 1.1963693719219288, -0.9690826700809794, 0.7258488456307185, -0.27956667465929896, 0.35562779397728794, -0.21583793726080358, 1.4056378885985772, -0.5165554649218734, -0.01337843350130823, -1.1458937112237466, -1.666549109376468, 0.5501978976300127, 0.9505757998334697, 1.8310360355960855, 0.7282668481383869, -0.10505074348537091, -1.1335592575105935, -0.694502633110652, 0.2578602371119204, 0.4040452428018843, -0.4345190654189885, -0.37559715567621116, -0.028393743175121944, 1.0385779845850467, -1.1229289178969384, -0.18860925217100744]}, {\"showlegend\": false, \"type\": \"box\", \"y\": [-0.39062854109931017, -1.7461578380601126, 0.3740887692640798, 1.497789024604671, -1.4170864416882567, -2.3294462185279947, 1.4589556515985087, -0.9301651584221918, -0.3973925395866376, -0.0035920408951976134, -0.9680233348142291, -1.0622561885526585, -0.72835740297328, 0.8129384287662345, 0.44176161475242925, -1.0406201898889913, 0.7876896742118041, -1.095495952126972, 0.6332422431906014, -0.5560409655815028, -1.0140065492368322, -0.1575155542665457, 0.5704589670268526, -1.049565820842676, 0.155291946529222, -0.6237127481987946, -0.021247129291320208, -0.4761953800641393, 0.6968211469602827, -0.7147775117872871, -0.6980386308649021, 0.14301450741044852, -0.08692751764531162, 0.7342046266862547, -0.12683959352690602, -0.17024308236409463, -0.47910867138402186, 0.37010185019158504, 2.168657585506643, -0.7752402621196751, 1.8426529310008726, 1.0139560290657281, 0.45639128534958556, 0.40123000173172374, -0.8219067309264311, -0.7094400877929802, -0.7542572336622768, 0.6509431442473348, 0.7001727228097231, -1.2057282615612566]}, {\"showlegend\": false, \"type\": \"box\", \"y\": [-0.9950284699668518, -0.09897323301448409, -0.10312292475121666, 1.533392348037441, -0.22465822005654407, 1.1351316162293972, 0.2558082061563916, -1.3085674346380423, 0.11601119472956459, -0.28770033535693657, 0.7165369653469147, -1.3815195476648794, -0.6849738130258236, -0.5680593935022185, -1.098736779396366, 0.6507371757440886, -0.3541240840665597, 0.723824086962052, -0.04993633633680999, 0.4850685501820813, 0.21312849315541046, 1.1331303396002343, -1.160287688168101, -1.0336089428816397, 0.3617668071216723, -0.7093991156646758, 1.1214525946272262, 0.34479648165856264, -0.15045669105787032, 0.11442334471645228, 1.862977177147212, 1.07298187245345, 0.4527796903069713, 0.4761741269680365, -0.42603894886532573, 0.2194538327291213, -0.11400302337474841, 0.42317664522891046, -1.8078522430719355, 1.3387344113291175, -1.0612045495013165, -1.1475818775161857, -1.1226043479092063, -0.34203818892639176, -0.06121707953046382, -0.47243065187911637, -2.7305460644206514, -1.4235330492985203, -0.1714048247767053, -0.1699016555074572]}, {\"showlegend\": false, \"type\": \"box\", \"y\": [1.0188971993394986, -0.3768822205609001, -2.0174409687966324, -0.33172754101198065, 1.0285159579911034, -0.43272580046738796, 2.1546595518457914, 1.6675634833133137, 1.7890434214898834, -0.5953242064405464, 0.42745314839371973, -0.9452054912831744, 1.1414661127331345, 0.05657525618489676, 0.27215476716306924, 0.11723618296569562, -0.6078635056240566, -0.38959345623703234, 0.9318843031447785, -0.6399666664436734, 1.3559575364633045, 0.39898283864264394, -0.29052972424713314, -0.3697059516833688, -0.9357420605414797, -0.4706329016259517, -0.738256790529025, 0.9777293468039802, -0.49849112299411613, 0.5341864768105354, -1.6583232292499974, -0.616199534918271, -0.08549869654424284, 0.425336915674379, 1.6657790147872125, 0.052001569615703604, -0.2619443351819964, -0.8914860320822898, -0.03864081743791077, -0.517390188554498, -1.8382377459724202, 1.01553177397861, 0.9205037953324966, -0.7348597735910948, 0.23000244984220736, -1.5712429422101286, 0.18114006451652045, -0.06618071463116408, 0.9954532125669822, -0.10745701901315098]}, {\"showlegend\": false, \"type\": \"box\", \"y\": [0.7148635235331167, -1.4044753643723258, 0.11405687069217355, -0.3988975311764761, 1.1657180222236918, -0.5562106472812778, -0.5758703774952283, 0.40553693501817284, -0.5922543456223686, 1.453630223383229, -0.8192410748506235, -1.5807378744288194, 1.5268278876892165, -0.04288391662032486, -0.4109926633974721, 0.7084530653901143, 0.38017692286361227, -0.06031435043172247, 0.13146884333722306, -1.2690214496086754, 0.37167081098372545, 0.9389466516199771, -1.8950161481458714, 0.37802074257091234, -0.1823169501616299, 0.7318262701040731, 0.5143167111332554, -0.28521342517964726, 1.1110273771001886, 1.2645399099326429, 0.4062172397679315, 0.8975778240051279, 0.5463785310254291, 0.33214447486303234, -0.6523673182718697, 0.5380756185440728, -0.19327295256584265, 0.11406512769454952, 2.3669724305235267, -1.490530022301303, -2.2809462211384504, -0.8588131608477254, 0.4442893678449589, 0.17000382018392943, 0.48327178780926683, -2.313130034649409, -1.5813465509778406, -0.002078564636064297, -1.7147899944390086, -0.5858870901686724]}, {\"showlegend\": false, \"type\": \"box\", \"y\": [-1.5322192597610171, -0.8035423936864772, -1.1253186446972465, 2.7742139449275256, 0.34744424066119833, 0.34682859735744204, 0.023879481499699224, 0.86004892735112, -0.16556918800406123, 0.2979471967108077, 1.1375520645785102, 0.33591789561146795, -1.3889486967363722, 1.0230475811920356, -0.012468337303490354, -0.7350189405227496, 0.7859204894548315, -1.310802774889656, -1.3861443405786404, -0.007385112021361825, 0.5054400533270523, -1.3108847017794292, -0.2720821855760508, -0.7084064619987349, 0.3073458237726658, -0.13716955926746496, 1.1108131800084586, -0.7366867235108042, -0.9731305545027318, -0.24903197198178856, -1.0488454126757498, -1.840277343776342, -0.4336390422199752, 0.14889717862609975, 0.7814008704255264, 1.0071836072057518, -0.3861072433997739, -1.137929726346529, -0.714233237874346, -0.9887139239376498, 1.4940164894191155, 1.2260251837709195, 1.204940598571083, -0.1435505441284143, 0.08977328236747449, 0.3902750844901481, 0.8764560924786475, 0.226114167356478, 1.7355365938586083, -0.3280956747267862]}, {\"showlegend\": false, \"type\": \"box\", \"y\": [-0.4564342697864359, 0.12785817176855685, 0.3196398045641089, 0.6485024686750193, 0.19520181762404887, 0.16561266963550647, -2.2393548401463743, -0.9235186716471632, 0.23455328516354956, -0.5201293464631571, 1.578569394480427, -0.9793381411366893, -1.7881402238933517, 1.4427827246504539, 0.42097710833993257, -0.6275193764498048, 0.9701203360813373, 0.9246914417097616, -0.5547306614829628, 0.6361141362173774, -2.355926060151356, -1.2010050784945385, -0.15367980736379286, 0.5388156551616965, 1.090969789891604, -0.8497878221306108, 1.2618063636766503, 0.21588456609533196, 0.7557246814539609, 0.7190953068923226, -1.3295124331574708, 0.28224080365493437, 0.08830495492616136, 0.4885481058693922, -0.7540719262601722, -0.3120342534684364, 0.6840369905002963, -2.0994453708912038, 1.485532989166636, -0.8207133210938811, 1.396739374798093, -0.035200609352640425, -1.3718910389775203, 0.4187395856036368, -0.40398320241741326, -1.0423594442161135, -0.2626192676946255, 0.550026165848991, 0.4550974654902822, -0.5593763963837983]}, {\"showlegend\": false, \"type\": \"box\", \"y\": [0.8310105392088214, -0.35273957721866167, 0.7061517329934308, 2.221332199467173, -0.47144687910908456, -0.49375529562447656, 0.1427192104320345, 0.22676223370806675, 1.2179271999794128, -0.1441596325830617, 0.22882379078693094, -1.0381810927189203, 0.8464733007278428, -0.7615247296356648, -1.4908818104191668, -1.4948514616787472, -1.238447726587089, -1.0533610116499266, 0.7668668693291064, 0.3501143391420116, 1.9527678559084403, 0.6527224604327885, -0.2991191142966344, -0.9925139411836771, 0.05536615495511739, -0.056396373227348494, 0.2016863566138947, 1.675450567812245, 1.0420628152616598, -0.6902457333473925, -0.9730466830527628, -0.8611160735053001, 0.3586920775656209, 0.21970888361346966, 0.2636632305279674, -0.28392728903042547, 0.7624622505455124, -0.1383947220239999, -2.006883348158767, -0.24044456316540946, -2.668844422744006, -1.0090883625741542, 0.5806022699923553, 0.8851593735785203, 1.0624427627642605, 0.014461168865928326, 0.08855122830780053, -0.6209468009191372, -0.5582004991943906, -1.0924641108904196]}, {\"showlegend\": false, \"type\": \"box\", \"y\": [1.0567142187206018, 0.5414214217412651, -0.5726149143207039, 0.4320350828223694, -0.9310765929184976, -0.7338866402256533, -1.5073629007807248, 0.2534117885525497, 0.2682489401703603, -0.06155121302904216, -0.2796557199968679, -0.025513276785290733, -0.5815414102010327, 0.2008047185630702, 1.3789428991345611, 0.6499614112803896, 0.3171645979492324, 1.4834285729911116, 0.40163939731834986, 1.3152356229737314, 0.7075664700090889, 1.6907403656967555, 0.44359275847298424, -1.30334185927502, 0.44692737093653756, -0.45586025469568886, -1.0859161469922913, 0.1960832954806008, -0.7086979569016186, -1.6290359030649704, 0.6584216019131095, 2.685320110820078, 0.3319211315576176, 0.03964355719241811, 0.8213713833304155, -0.512957561267114, -0.05767132368643789, -0.8476427884008, -0.9572246340570323, -0.5214545532198263, 0.8052011665788139, 2.039297619732919, 0.4535546993375981, -1.6050224891092781, 0.5640915047409372, 0.8384598183896698, -0.22350517501091222, 1.022595542323305, 0.503262948615311, 1.5267129028207327]}, {\"showlegend\": false, \"type\": \"box\", \"y\": [-1.0924208091396002, -0.6671037794716296, 0.935956535751931, 0.017157140947374964, 0.6190371423737799, -2.60666198815, -0.45011593307723874, 0.22808229579043132, -1.1768337484102398, -0.693470158012767, -0.469918636327529, 0.9862863951666347, -1.1356632815681231, -0.20970383350929916, -0.5629666141787898, -0.42522555027021336, -0.9828373418030238, -1.3707359002137702, 1.5204132910452965, -0.5974377811229352, -0.4725945416759484, 0.01966875844633711, 1.4448665099266238, -1.4978192197197864, 1.1349029667388109, -0.5115926304716685, -0.13640338035837216, -0.36636506556911547, 0.027651593737330393, -0.10656352738272692, -0.36607091540381675, 0.9188197543875372, -0.22142673154096168, 0.6639069151331886, 0.20755886177062727, -0.03435711426487522, 0.2875957738078272, 1.597559955394869, -0.7668712503604032, -1.243811439469328, 0.49972933316668766, -0.369227277380594, 0.34658567387936756, -0.3316059420893464, -0.6258142355165526, 0.9856209773063186, 2.431762554176263, 0.6643555021749749, -0.7826290648506662, -0.17072102563127767]}, {\"showlegend\": false, \"type\": \"box\", \"y\": [0.8205429124688135, 0.5030914672125051, 1.4766125545632824, 0.4466278672204032, 0.29474653565759945, 0.12436766785482464, -0.5096300038947389, -0.9433544840937494, -0.799804204155071, 1.1354597654754817, 1.3702715980034783, -0.2105058562101343, 1.7543605287883433, -1.2951263359697631, 1.352134292998508, -0.7275314195299118, 0.6155370979538775, 1.2022690105226637, 0.5624772120660603, 0.4944553436295959, 1.2501350220948093, -0.3622849894963748, -0.6045229472529318, 2.343173406923395, -0.13925472648084924, 1.0860039658658482, -0.011636999111866846, 0.13676068357369575, -1.735614850818173, -1.300113727122554, -1.0361399675146017, 0.9633136184827829, 1.616524039584308, -1.2364658341458206, 1.0804272368250856, 1.3309748959690368, 0.0034784791774558894, -1.0966629353596473, 1.2480635119402639, -0.7968506450626869, 0.039027572431625884, 0.7994208026223364, 2.1360924896107543, -2.281461687630608, -1.0674575274096363, 1.3379651419365646, -0.00016312117865347332, 0.2810700005366142, -0.8249376937055233, -0.7937997505235717]}, {\"showlegend\": false, \"type\": \"box\", \"y\": [0.015031118193890637, 2.0522477070645664, 0.23948334730125306, 0.5631809151195455, 0.5997375442766136, 0.5994804897514492, 0.4149401312919794, 0.8857993060713263, -0.285598124570205, -0.410045084139544, 0.5299112441090542, 0.482750912175001, 0.031483011800832295, 0.5423405377525845, -0.9634371805675696, -0.7379767199774697, -1.6503989259454928, -0.7005207109210496, -0.513205596296889, 1.088683499770137, -0.22203230417242706, -0.542721706123449, 0.5447246338708198, -0.5087661895038293, -0.6425362025641822, -0.14412283932323916, -1.768152227957979, -0.21513519374688725, 0.011238949455637907, -1.0434397290258919, 0.7252867671776729, 0.455624587348252, 0.8907522384902959, -0.5429289312803136, 0.354426453140936, 1.5147923557133274, 0.16459321920817746, 0.2669582035702661, 0.17163018173032923, 0.24940310414259004, 0.16879011480940623, 0.78585586978, -0.6656131099083222, -1.467168784603028, -0.37905485613504886, -0.29715445540250024, -0.39940918250122454, 0.9529022617577888, -0.1363730058914413, 0.9740693186032714]}, {\"showlegend\": false, \"type\": \"box\", \"y\": [-0.20958923153372533, 1.448938292096492, 0.058235460412546895, 2.54356294552225, -0.8193491795481692, 0.10092661031303658, -2.259432326406864, -0.8255668708677769, 0.301263688001411, 0.844248790274426, -0.35053280068521203, -0.23239432388064438, 0.6617209378262365, -0.2625652609747971, -0.7088691048718049, -0.4615412168977841, -0.101868017405757, -2.7158404046622566, 1.900678109955966, 0.10223007113597034, -0.06658400762662788, 0.09222616160161369, 0.9739582467842016, 0.2606820778077364, 0.3436179710635512, 1.4479285373467408, 0.015688411953246988, 2.1151626390673797, 1.3395586165032596, -1.4408750463916917, -2.2208513479055476, -0.5380205511688458, 1.7182577568885022, -1.2107825575955395, 1.640633247815086, -0.9671459171487162, 0.9460706394968537, -0.6310253910231288, 0.20519172780024952, 0.4378392292123918, -0.1923091201244432, -0.034050797121259906, 0.6800712372125542, 0.35278506763508044, -1.2391570119783193, -0.10791004176710255, -0.021003679441424318, -0.08480169332282661, -0.22479303156384894, -0.0973988294801464]}, {\"showlegend\": false, \"type\": \"box\", \"y\": [-0.08200106557560283, 0.9712077113876355, -0.40456560918330126, 0.2218990042521103, -0.061574587046391696, -1.9576852871802712, 1.815232584177611, 1.2258599381166044, -2.310407487341736, -0.4291986255602095, 1.2845381444693806, 1.4451333850292867, 0.7527740336832205, -0.899919819185055, -1.0677225895370108, -0.534386781069476, 0.29946115964987446, 1.1554939226018477, 1.1748368153866757, 1.2273287636403674, 0.5107398247872537, 0.4077729740184088, -1.7494048546262895, -0.8132828416569042, -0.0922011533106937, -0.08614995472492651, -0.866073563405966, -0.6716991339415482, -0.3304399750068726, -0.3938049546515708, 0.8139925721254011, -0.5021223350825775, 0.03126634747870564, 0.6628778027713375, 1.3409474851000251, 0.47910248626409746, -0.8344237190504113, -1.1147481056555837, -1.4144108650546312, -0.5334353771496116, 1.395068967626785, -1.4526320979073626, 0.36163319056327237, 1.924627692069336, -0.08784643216655341, 0.4516774936730686, -0.9670638442711411, 0.07506156965347549, -0.007377947717985101, 1.0420812076745511]}, {\"showlegend\": false, \"type\": \"box\", \"y\": [1.2156841800893579, 0.6860582406901988, 0.18261488263205755, -0.7857218382393104, 1.3259311631103397, -0.29666326883371497, 0.5291248145742101, -0.28480422450575416, -0.5618446689442819, -0.5532259144322037, -0.5065306889405451, -1.6493875524077761, -0.8371109838861043, -0.23506090527678275, 1.0907632319053053, 0.11247547059809995, -0.5793682468455282, -0.5240167151873721, -0.44223118125459426, 2.4824329107906893, 0.7778105900831502, 0.3622001316495025, -0.8408875452222512, -0.9664927736356659, 0.568226710767866, -0.7921048479140779, 0.7781104425833244, -0.8583047456627736, -1.168950624227985, 1.268352132844896, -0.25007575923781855, -0.49736837765583264, 0.518644467634664, -1.4192714118100536, 0.5727351104230399, 0.8182322667717697, 0.510403664181764, -0.057666070347986126, 0.29464606647159486, 2.17260850352555, -0.2093461274360436, -0.8831979348609963, -1.164994712753765, 0.4172382287388917, -1.1897545819178854, -0.8326002952780173, -0.9093582880662024, 0.7531759975516401, -1.6303158725184541, 1.5982891469616602]}, {\"showlegend\": false, \"type\": \"box\", \"y\": [1.9354514466308967, 0.43073849212377596, -2.2929924931585046, -1.7050274744114482, 0.8360628666077292, -0.42744550133890163, -0.14656654427071478, -0.5142690630895015, -0.5981471524094517, 0.6826686737872663, 1.0237160006280182, -1.1847013438741896, 0.3440438699631466, -1.6451832670749107, -0.160092471087921, -0.4821936527875537, 0.7495658658914911, 0.11560544272099438, 0.8842184801634134, 0.33984405487535485, 1.365695153276195, -0.5282735965846846, -1.704564865746, -0.31337450352462154, -0.344916599598511, 0.44773105451565204, -0.8596165950201334, -0.007831088867420313, 0.6387255802175851, 1.1074830734063381, 0.07113273709994668, -0.0010182445620798833, -0.39431323157597553, 0.3460239535999902, 0.3857776578247572, -0.4787049865438648, -1.7858565786601328, 1.4646826802887865, 0.6722010617336825, 1.2249118749755754, 1.6765859357379247, 1.0612193019770138, 0.45131698616400817, -1.407130269387956, -2.135195144270341, 0.9423623193302518, 1.5286497852048764, -1.3438869527239379, 0.005984167300297835, -0.5597633737274732]}, {\"showlegend\": false, \"type\": \"box\", \"y\": [0.2714310173197924, 2.4239321868183, -1.4233143481473867, -0.1327684592843999, -1.3508971992373522, 0.4715083468758586, 0.6973291930145358, -0.09857895224138197, -0.6862451680685714, 0.4146107681567455, 0.006423578466358358, 2.107000807301485, 0.13432206248164316, 0.10463533470213195, 0.16875737462609752, -0.3024908151423758, 0.16303553821458774, 1.0378084702362012, -0.15953714780006703, -0.0032589246599732413, -0.009619027439563702, 0.48561872113728716, 0.9852338232217507, 1.5872664371222804, 0.6728667958167366, -1.3814312392382282, 0.8912512272669793, 0.19657777894808923, 0.31040159692093655, 0.07500000199690253, -0.2795177164479175, -0.07258830099558286, 1.5424009539677472, -1.1643135534028592, -1.7739599177933079, 1.1895753446250406, -0.8094633755968808, -0.7344795913609679, -0.14341998957657684, 0.46092184691617993, 0.8917588312013628, 1.1831812395956345, 0.17890254338296488, 0.227294398787502, -0.9718195831163426, -0.3970117196166094, -1.8040780398052587, 0.5072944321417777, 0.9380547498373558, -1.2690117664652814]}, {\"showlegend\": false, \"type\": \"box\", \"y\": [-0.3655639980428201, 0.972247818956368, -0.10735190715580963, -2.087542130798339, -0.43618999736756947, -0.8899738069647589, -0.6539745425213646, -0.1375355024258752, 0.11623382821864779, -0.1951513185339326, -0.7957681096456415, 0.7211676651055836, -0.7685391556658967, -0.9566687093105201, 0.5862967484697283, 0.43961878335787413, -1.3304454373037027, -0.7661469378735952, -0.29303127382863947, -0.924909352300866, -0.09908418121408465, 0.4246924573586639, -0.31624016562923773, -1.5889910250774406, -0.6227876838187968, -0.11748532955962092, 1.31876954520511, 2.2148294162190405, 0.4036806581470844, -1.791319022725076, -1.3018970164859442, -0.011199334233287145, 1.894532214463952, -0.9271828974672154, -0.3150503216661219, 1.7827865667276654, 1.025019200232205, -0.39680140494187144, -0.09062223226805295, 0.10292859241862884, -0.65537135162521, 0.30740912311698393, -1.398194339603317, 1.4800770675858796, -1.0927931538128706, 1.9347605564659158, 0.8159205843779654, 2.0716401944555045, -0.9327930391059925, 0.9304861519233405]}, {\"showlegend\": false, \"type\": \"box\", \"y\": [-1.0518235135094964, 0.5034372006241478, -0.33447426243089795, 1.4712722157586993, 0.5295091309389731, 0.557864325410581, 0.5725931985562368, 0.7301653118276015, -0.931544780077881, 2.026003171613882, -1.9884569364812175, -1.513161640887938, -0.027528838609205738, -0.4078843179792792, 0.1850498334273658, 2.7567060973282462, 1.6037910308964063, -1.4968693235667914, 1.627592120724336, -2.552615486330669, 0.9534837006478176, -0.8723096979194256, -0.6157339129411176, 0.2691176431043533, 0.40435699404882014, -0.7764390482874463, 0.04463355283532844, 1.4563412276795087, -1.5656794116165527, -0.20697250718010363, 0.6603814423417893, -0.7997666068362984, -1.7000061539519746, 0.14601095287021573, -1.8596572832764802, -0.9769629829725544, -2.548101194624429, -1.9240033990266308, -0.11865608766388122, -0.1265077900842041, 0.7666244739836725, 0.8103629663484783, 0.24688699262636657, 1.3751025599344364, -0.7037243435134162, -0.02122422023196027, 0.20562978196444678, 1.0646734336885721, 0.7090876380209887, -0.11405441293106545]}, {\"showlegend\": false, \"type\": \"box\", \"y\": [0.903488695691965, -0.874668220148252, 1.2166026801192085, -1.1743187062528269, -0.14214699948635426, -0.08218001332851949, 0.7152046547716449, 0.6362999537843123, -0.24782666802717984, -0.004126804281862425, 0.7024879440529644, -0.6268241388159412, 0.07085495726347427, 2.1690246825658708, 1.3768216674887177, -0.383572537262787, 0.09424866587981856, -0.49688725048241006, 1.0214207414832643, 1.5197886930018467, -0.874900075838204, -1.1775535008887514, -0.4550777469347721, -1.2035833583373061, 0.7549321726188657, 0.9402476093006236, -0.7106692263612203, 0.8203341914655248, 0.8708302208586045, 0.7458628255789194, 0.856836359865289, 0.20185969215022484, 0.9834573596013582, 0.4172680222385341, 1.4743093852867168, -1.7198999760943845, -0.909120912766826, 0.1935080211504133, -1.1896270437225906, -0.939610517560022, -0.8569741652291749, 0.35347398978786776, -1.2049090737004235, 0.23912298687386094, 0.19009174992412978, 1.6774767050545294, 0.11728128217469047, 1.2264743179433286, -0.758319129937537, -0.13892447817262102]}, {\"showlegend\": false, \"type\": \"box\", \"y\": [-0.8030704129588833, 2.345360017978051, -0.7168387920471015, 0.536119937136991, 0.9911415718927827, 1.2061268028700467, -0.3262946333885155, -2.098494710194059, -0.12969426344824167, -0.12309153277580406, 0.03752670076635501, 0.04790708950049618, -1.4890578855236474, 0.021581770942530908, -0.4997259188663461, -0.3096773781080619, 0.5255088764936976, -0.592503936401204, 0.10648901323815106, -0.06538504642367367, -0.9668846221988984, -0.9952871408863565, 0.4843043981382557, -0.07631238945526606, 1.5264858439008944, -0.11869111696199375, -0.21661956798521093, 0.8660890428293074, -1.2408292474527802, 0.14867683703228432, 2.4997541048227334, 2.1858075712099576, 0.3958906395874483, -0.0037435264371019736, 0.05487630514181689, 1.5348602686329647, 1.6510165161819523, 0.14890680096554348, 0.7953626105042627, -1.2740193148178804, -0.20114094537498003, -1.3219063748600606, -0.01293266791701068, 1.4967908538066752, 0.16685200418912205, 0.7850517850346033, 1.1847225266399422, -0.08577194909268636, 0.9244094723545161, 1.4956096516991604]}, {\"showlegend\": false, \"type\": \"box\", \"y\": [0.7854405293743756, -0.8182917983390243, 0.21408987816216038, -0.23990976407230677, -1.167375662395556, 0.6298932163640039, -0.5180097947754255, 0.8126666704342028, -0.45559419259161527, 0.881479143922874, 2.8826465045266314, 0.06965975016229468, -0.7489362394794172, 0.07330575816152013, 0.8203520623454946, 0.09136804463330365, 0.6282246822154749, -0.297876316670806, 0.08673510378469212, -0.09050688547924023, 1.106910732848671, 0.44880356057311466, -1.9205510943632855, -0.01911284112492218, 0.4667148159185818, -2.2561377980899757, -1.0929783710114787, -0.32987505326954514, -1.1777419789836674, 0.0645019113859741, 0.051049181025958804, -1.2660431621391344, -0.5937887060815582, 1.3562419422645493, 0.7763119329098384, 1.3766175408170958, 0.8778084801661846, -1.0455298865877483, -0.915204348644133, 0.48880397166614525, 1.041680008925762, -0.6122836136755153, 0.8645809640479132, 1.9068598526304024, -0.2150403707812582, 0.8595493544239383, -0.6392631610206656, -0.561916870790066, -0.21069986623722528, 0.9308510846301876]}, {\"showlegend\": false, \"type\": \"box\", \"y\": [-0.5603332493913388, 0.44810051484524466, 2.0637642505210847, -0.7269017301576521, -0.03089754774708216, -0.030672740794082123, 1.2174914547228337, 0.21047382110741594, 0.9334317156539159, 0.8737992484691323, 0.9205235472568246, 1.3629714554510273, 0.9093522013454624, 0.4751907629200464, 0.978187830706992, 0.09536499467740482, -0.9630374368994394, -1.1677437860430515, -0.2117396263123554, 0.8877099591374782, 0.47771850270945476, 1.2540613989903737, 0.1294824948737563, 0.2184411010207706, -0.840635345909502, -1.6665965423058904, 2.249745250667233, 1.187421959116294, 0.37295317422580965, 0.521235553793659, -1.5002486568089286, -0.883245027877967, 0.4774753401517855, -0.855938136853491, 0.22900359226078537, -0.3112044399515695, 0.8273799880163224, -0.5013328598569451, 1.4993341785151597, -0.9014063068595298, -0.49742248290251667, -2.5162938988388563, 0.577213840150155, -0.9018846356110902, -0.043104478894942316, -0.7640731509481901, -1.6163339466077562, -0.7198709990067749, 0.7209061249131745, -0.03729355005532254]}, {\"showlegend\": false, \"type\": \"box\", \"y\": [-2.3128193220109448, 0.8190475705892728, 1.2398861534830645, -1.7915072017487936, -2.1777837506154367, 1.5495413010867194, -1.9501032327918413, 0.19519006489518106, -1.60527036266332, 1.2756296462369412, -0.8997376923552417, -0.6869834646543322, 1.115781143375027, 1.5656307309241486, 0.3902073176781958, 0.9852559173572177, -0.6650048190241458, -1.2818495350083365, -1.681397834921156, -0.5113249863909661, 0.087287290907823, -0.2019585400070403, 0.35214053134415574, 0.5913282092811208, 1.6610714796145258, 0.4767626799463648, 0.9582762465311716, 1.914770829855504, 0.6147170946031486, -0.611822368578535, -0.6303456963071464, 0.7459541786502839, 0.4727041984565346, -2.082278916874625, 1.1424922284049845, -1.1370446156995533, 1.2073229953919595, -1.086371806778979, 0.15360836374635245, -1.494657207573448, -0.603539843051325, 0.5905824210526478, 0.8558253834931143, 0.1851945096162047, -0.5141942889661479, 0.7096661721692904, -1.2526160185662645, 0.41145233589767055, -0.23184379759590334, 1.2135571119386144]}, {\"showlegend\": false, \"type\": \"box\", \"y\": [-0.36318990073436686, -0.429324508224797, -0.10431405286200199, 0.4529945812969308, -0.04493356628887126, -0.753966185938429, -0.42345637478180886, 0.9800201173926348, 0.5159034060941525, -0.2937042248327056, 1.0296113750833085, 0.5881287973840126, -1.65290931816737, 0.16674697658247187, -1.5113711904409393, 0.18983303333080476, 0.908068439996618, -2.662113244276828, 1.0154266598354735, -0.5826649933616244, -1.122243094370816, 0.14532312514433568, -0.20502410508542754, -0.09329892033921088, 0.2907584053745562, 1.8703147632177866, 0.0003295052335983773, -0.7050059985085297, -0.37146943664992865, -0.059181826993488555, 0.9058877145996564, 0.37323046917571745, 0.5475819901908267, -0.9809955626977315, -0.2676334705728183, 0.7067237463212268, 0.1771257562953261, -1.681365065917304, 1.8183366929186655, -0.40090529212591386, 0.703320464909406, 0.4539785222920204, -0.9993131111087993, -1.7748815434422485, -0.8708411447215048, 0.503722197525289, -0.3645532876392864, 0.2532543070458864, -1.150451100559777, 0.550537353449727]}, {\"showlegend\": false, \"type\": \"box\", \"y\": [0.6453470012419692, -0.8374618617676737, 0.1012237823767988, -0.12710737229500407, 1.5017246192169382, 0.19428966304788, 0.46099051677339603, -0.22810182715995309, 1.871663106079135, 0.6013483300211224, 0.21782724555870192, -1.1976269154473087, 1.237191203292997, 0.4792072496401514, -1.085141711775721, 0.6719345571698564, -1.2590657710051751, 0.5081396844947614, 0.9030955821444924, 0.010219407744938278, -0.010201437703522182, 1.1611150497650453, 0.5073703589799119, -1.1016612102495744, -0.7856690376964665, -0.21165691446249413, 0.2631283012674446, 0.22581964902702362, -0.4840815852714154, -0.2722289755140895, 0.4594647692916807, 0.3006921292268878, 0.27657875474623117, 2.619260005720901, -0.7382021726362522, -1.5039215612517105, -0.009435807389686909, -1.9501591937368559, -1.1723332338262535, 0.36530392578280446, -1.0794055614830522, 0.1439762331424537, 0.24392442756013488, -1.3544600725115186, 0.6136973505011541, 1.4400803580999906, -0.4796899935413787, 0.15998556458926108, 1.1108130655051656, -0.48556864020306795]}, {\"showlegend\": false, \"type\": \"box\", \"y\": [-1.4922504303691404, 0.16323842493110724, -1.6871792324384138, -0.4578698284144736, -1.996687032104593, 1.2570228311296896, 0.03769588287596799, -0.8459328194792847, -0.1695651417463239, -1.7834559169653794, 1.070842046222683, 1.7008210869107805, 0.35504024636488546, 0.3874491440026215, -0.6856181149427897, 0.19115812390234763, -0.6955324211054504, 0.1239482356885279, 1.0942917759636535, -0.4983019791509718, -1.135565377146107, 0.47909014588493853, -0.229154363666323, 0.07621204554823299, 0.11451089582803689, 1.8660842815320557, 0.0500490502753738, -1.3850265967641509, 0.1814189336245236, 0.9846298525003384, -0.41952556348164766, -0.7146371289633582, 0.8902635612936056, 1.016608033269124, -1.803309710262916, -2.2064771510537144, 0.4327741722385022, 1.8751148618042985, 3.3235643983297463, -0.43048829130596705, 0.9588365340065536, 0.014032553700866968, 0.6207674224096277, 0.10485112999884122, 1.0013334553283408, 0.27853810374333604, 1.0451209947892326, -1.0229737315175949, -0.7476542354630309, 0.3402105682173784]}, {\"showlegend\": false, \"type\": \"box\", \"y\": [-0.8137299421454596, -0.31723545153623267, 1.9123011415968136, -0.7349979459038832, 0.7858791473239822, 0.8302666883242802, -0.10689916658633881, 2.156302903898566, -0.5602304983517402, 1.3503597484957734, -0.3854384804135462, 0.14818451951269043, 0.27998251314357664, -1.1323848186709293, -1.4089684724782774, -0.1924189200805996, -0.7227464494432697, -1.3044877207137633, -0.46540575401232753, -1.5271567003331428, -0.11628376347684816, 0.10246081834957381, -1.5020512662182088, 0.06191538589314877, 2.1535955401315525, -0.15686305786790833, -0.37831087004832803, -0.7499415190250596, -0.4302163638645427, -0.22408205984315913, -0.10145646263651631, 1.1719804209512998, -0.8352568708493063, 0.8436180984184487, -1.3745081856877306, 0.5064915871061815, -0.8821663701760517, 1.4627264836219849, -2.1296026470282743, 1.0916393881179485, 0.04965947279227277, -0.8091526499824045, 0.7178052526198337, 1.263033228484092, 0.7059882646347369, -0.1816904366291198, 1.6088357424383133, -2.5769657739232565, -1.3929973812129088, 0.15246347666441323]}, {\"showlegend\": false, \"type\": \"box\", \"y\": [0.3704014726676743, 0.22148111324057185, 0.4427344616879443, -0.8607586468432908, 1.7733017226262868, 0.5472319191591246, 1.647191503214775, -0.3240277535056528, -1.0720549347868786, 1.708744004274962, -0.14439603248424165, -0.4922493501228697, 0.6082925478516047, -0.29512922731052166, 0.7524251550170441, 1.5296075390394919, -1.6945434252659155, -0.1428369537250965, -1.112344019191091, 0.8916020596483206, -2.1073014704145794, -0.11104951817575595, 1.405704788977774, -0.9909824066497439, -1.5729231419174183, 0.052597294319413984, -0.15174350545888313, -0.5704345660470058, 1.1043859390511221, 1.2392918683081422, -0.6113086867105231, 1.551817061002404, -0.8404095824759672, 0.8569811532955608, 0.1729448963194699, -0.306467644443379, 0.4233941224110698, -2.2144068919746323, 0.03844067108053295, 0.7871866225791138, 0.17333042375128035, 0.9553783567764961, 1.669893412373031, -1.0641602339901892, -0.9499927832191495, -1.234088857570282, 1.2293874077833387, -1.7109472089169178, -0.20904219996530576, 0.021776666268419616]}, {\"showlegend\": false, \"type\": \"box\", \"y\": [1.4689364662412494, 0.8990082952962208, -1.4267136738675796, -1.7241461256346433, -0.5855345405795696, 1.3953610631277193, -0.1684841819085914, 1.58577665796661, -0.8930109274066955, 2.239416556519203, -0.9888137949904416, -0.26818739058125773, 1.4362885364994389, -1.1001647939568744, 1.1703430368395054, -1.4778750301839363, 0.9235888689129531, -0.16974088152810557, 0.4727912475845508, -0.06132646529021364, -1.1361572085105556, 0.05359341461576135, 1.878561338084558, -1.3201409181530628, -1.0546081724421659, -0.9610906155969452, 0.4783242065765813, -0.2996319167637541, 0.32162258632294777, 0.28433740336856655, 0.3376850962427085, -0.827664724998901, 0.022253854016109447, 0.08421283004574676, -1.4793520944434029, 0.7224499250031251, 0.2079524454692853, -0.7937977061193934, -0.5298091559852831, 1.5793620782382798, -1.2911900572022088, 0.18356025120116695, -0.46123753220166874, -0.08781693592012937, 1.1420186052326542, 0.8608656323357717, -0.7189433284348766, -0.4829708919135049, -1.361415931633449, 0.14779429462621302]}],                        {\"template\": {\"data\": {\"bar\": [{\"error_x\": {\"color\": \"#2a3f5f\"}, \"error_y\": {\"color\": \"#2a3f5f\"}, \"marker\": {\"line\": {\"color\": \"#E5ECF6\", \"width\": 0.5}}, \"type\": \"bar\"}], \"barpolar\": [{\"marker\": {\"line\": {\"color\": \"#E5ECF6\", \"width\": 0.5}}, \"type\": \"barpolar\"}], \"carpet\": [{\"aaxis\": {\"endlinecolor\": \"#2a3f5f\", \"gridcolor\": \"white\", \"linecolor\": \"white\", \"minorgridcolor\": \"white\", \"startlinecolor\": \"#2a3f5f\"}, \"baxis\": {\"endlinecolor\": \"#2a3f5f\", \"gridcolor\": \"white\", \"linecolor\": \"white\", \"minorgridcolor\": \"white\", \"startlinecolor\": \"#2a3f5f\"}, \"type\": \"carpet\"}], \"choropleth\": [{\"colorbar\": {\"outlinewidth\": 0, \"ticks\": \"\"}, \"type\": \"choropleth\"}], \"contour\": [{\"colorbar\": {\"outlinewidth\": 0, \"ticks\": \"\"}, \"colorscale\": [[0.0, \"#0d0887\"], [0.1111111111111111, \"#46039f\"], [0.2222222222222222, \"#7201a8\"], [0.3333333333333333, \"#9c179e\"], [0.4444444444444444, \"#bd3786\"], [0.5555555555555556, \"#d8576b\"], [0.6666666666666666, \"#ed7953\"], [0.7777777777777778, \"#fb9f3a\"], [0.8888888888888888, \"#fdca26\"], [1.0, \"#f0f921\"]], \"type\": \"contour\"}], \"contourcarpet\": [{\"colorbar\": {\"outlinewidth\": 0, \"ticks\": \"\"}, \"type\": \"contourcarpet\"}], \"heatmap\": [{\"colorbar\": {\"outlinewidth\": 0, \"ticks\": \"\"}, \"colorscale\": [[0.0, \"#0d0887\"], [0.1111111111111111, \"#46039f\"], [0.2222222222222222, \"#7201a8\"], [0.3333333333333333, \"#9c179e\"], [0.4444444444444444, \"#bd3786\"], [0.5555555555555556, \"#d8576b\"], [0.6666666666666666, \"#ed7953\"], [0.7777777777777778, \"#fb9f3a\"], [0.8888888888888888, \"#fdca26\"], [1.0, \"#f0f921\"]], \"type\": \"heatmap\"}], \"heatmapgl\": [{\"colorbar\": {\"outlinewidth\": 0, \"ticks\": \"\"}, \"colorscale\": [[0.0, \"#0d0887\"], [0.1111111111111111, \"#46039f\"], [0.2222222222222222, \"#7201a8\"], [0.3333333333333333, \"#9c179e\"], [0.4444444444444444, \"#bd3786\"], [0.5555555555555556, \"#d8576b\"], [0.6666666666666666, \"#ed7953\"], [0.7777777777777778, \"#fb9f3a\"], [0.8888888888888888, \"#fdca26\"], [1.0, \"#f0f921\"]], \"type\": \"heatmapgl\"}], \"histogram\": [{\"marker\": {\"colorbar\": {\"outlinewidth\": 0, \"ticks\": \"\"}}, \"type\": \"histogram\"}], \"histogram2d\": [{\"colorbar\": {\"outlinewidth\": 0, \"ticks\": \"\"}, \"colorscale\": [[0.0, \"#0d0887\"], [0.1111111111111111, \"#46039f\"], [0.2222222222222222, \"#7201a8\"], [0.3333333333333333, \"#9c179e\"], [0.4444444444444444, \"#bd3786\"], [0.5555555555555556, \"#d8576b\"], [0.6666666666666666, \"#ed7953\"], [0.7777777777777778, \"#fb9f3a\"], [0.8888888888888888, \"#fdca26\"], [1.0, \"#f0f921\"]], \"type\": \"histogram2d\"}], \"histogram2dcontour\": [{\"colorbar\": {\"outlinewidth\": 0, \"ticks\": \"\"}, \"colorscale\": [[0.0, \"#0d0887\"], [0.1111111111111111, \"#46039f\"], [0.2222222222222222, \"#7201a8\"], [0.3333333333333333, \"#9c179e\"], [0.4444444444444444, \"#bd3786\"], [0.5555555555555556, \"#d8576b\"], [0.6666666666666666, \"#ed7953\"], [0.7777777777777778, \"#fb9f3a\"], [0.8888888888888888, \"#fdca26\"], [1.0, \"#f0f921\"]], \"type\": \"histogram2dcontour\"}], \"mesh3d\": [{\"colorbar\": {\"outlinewidth\": 0, \"ticks\": \"\"}, \"type\": \"mesh3d\"}], \"parcoords\": [{\"line\": {\"colorbar\": {\"outlinewidth\": 0, \"ticks\": \"\"}}, \"type\": \"parcoords\"}], \"pie\": [{\"automargin\": true, \"type\": \"pie\"}], \"scatter\": [{\"marker\": {\"colorbar\": {\"outlinewidth\": 0, \"ticks\": \"\"}}, \"type\": \"scatter\"}], \"scatter3d\": [{\"line\": {\"colorbar\": {\"outlinewidth\": 0, \"ticks\": \"\"}}, \"marker\": {\"colorbar\": {\"outlinewidth\": 0, \"ticks\": \"\"}}, \"type\": \"scatter3d\"}], \"scattercarpet\": [{\"marker\": {\"colorbar\": {\"outlinewidth\": 0, \"ticks\": \"\"}}, \"type\": \"scattercarpet\"}], \"scattergeo\": [{\"marker\": {\"colorbar\": {\"outlinewidth\": 0, \"ticks\": \"\"}}, \"type\": \"scattergeo\"}], \"scattergl\": [{\"marker\": {\"colorbar\": {\"outlinewidth\": 0, \"ticks\": \"\"}}, \"type\": \"scattergl\"}], \"scattermapbox\": [{\"marker\": {\"colorbar\": {\"outlinewidth\": 0, \"ticks\": \"\"}}, \"type\": \"scattermapbox\"}], \"scatterpolar\": [{\"marker\": {\"colorbar\": {\"outlinewidth\": 0, \"ticks\": \"\"}}, \"type\": \"scatterpolar\"}], \"scatterpolargl\": [{\"marker\": {\"colorbar\": {\"outlinewidth\": 0, \"ticks\": \"\"}}, \"type\": \"scatterpolargl\"}], \"scatterternary\": [{\"marker\": {\"colorbar\": {\"outlinewidth\": 0, \"ticks\": \"\"}}, \"type\": \"scatterternary\"}], \"surface\": [{\"colorbar\": {\"outlinewidth\": 0, \"ticks\": \"\"}, \"colorscale\": [[0.0, \"#0d0887\"], [0.1111111111111111, \"#46039f\"], [0.2222222222222222, \"#7201a8\"], [0.3333333333333333, \"#9c179e\"], [0.4444444444444444, \"#bd3786\"], [0.5555555555555556, \"#d8576b\"], [0.6666666666666666, \"#ed7953\"], [0.7777777777777778, \"#fb9f3a\"], [0.8888888888888888, \"#fdca26\"], [1.0, \"#f0f921\"]], \"type\": \"surface\"}], \"table\": [{\"cells\": {\"fill\": {\"color\": \"#EBF0F8\"}, \"line\": {\"color\": \"white\"}}, \"header\": {\"fill\": {\"color\": \"#C8D4E3\"}, \"line\": {\"color\": \"white\"}}, \"type\": \"table\"}]}, \"layout\": {\"annotationdefaults\": {\"arrowcolor\": \"#2a3f5f\", \"arrowhead\": 0, \"arrowwidth\": 1}, \"autotypenumbers\": \"strict\", \"coloraxis\": {\"colorbar\": {\"outlinewidth\": 0, \"ticks\": \"\"}}, \"colorscale\": {\"diverging\": [[0, \"#8e0152\"], [0.1, \"#c51b7d\"], [0.2, \"#de77ae\"], [0.3, \"#f1b6da\"], [0.4, \"#fde0ef\"], [0.5, \"#f7f7f7\"], [0.6, \"#e6f5d0\"], [0.7, \"#b8e186\"], [0.8, \"#7fbc41\"], [0.9, \"#4d9221\"], [1, \"#276419\"]], \"sequential\": [[0.0, \"#0d0887\"], [0.1111111111111111, \"#46039f\"], [0.2222222222222222, \"#7201a8\"], [0.3333333333333333, \"#9c179e\"], [0.4444444444444444, \"#bd3786\"], [0.5555555555555556, \"#d8576b\"], [0.6666666666666666, \"#ed7953\"], [0.7777777777777778, \"#fb9f3a\"], [0.8888888888888888, \"#fdca26\"], [1.0, \"#f0f921\"]], \"sequentialminus\": [[0.0, \"#0d0887\"], [0.1111111111111111, \"#46039f\"], [0.2222222222222222, \"#7201a8\"], [0.3333333333333333, \"#9c179e\"], [0.4444444444444444, \"#bd3786\"], [0.5555555555555556, \"#d8576b\"], [0.6666666666666666, \"#ed7953\"], [0.7777777777777778, \"#fb9f3a\"], [0.8888888888888888, \"#fdca26\"], [1.0, \"#f0f921\"]]}, \"colorway\": [\"#636efa\", \"#EF553B\", \"#00cc96\", \"#ab63fa\", \"#FFA15A\", \"#19d3f3\", \"#FF6692\", \"#B6E880\", \"#FF97FF\", \"#FECB52\"], \"font\": {\"color\": \"#2a3f5f\"}, \"geo\": {\"bgcolor\": \"white\", \"lakecolor\": \"white\", \"landcolor\": \"#E5ECF6\", \"showlakes\": true, \"showland\": true, \"subunitcolor\": \"white\"}, \"hoverlabel\": {\"align\": \"left\"}, \"hovermode\": \"closest\", \"mapbox\": {\"style\": \"light\"}, \"paper_bgcolor\": \"white\", \"plot_bgcolor\": \"#E5ECF6\", \"polar\": {\"angularaxis\": {\"gridcolor\": \"white\", \"linecolor\": \"white\", \"ticks\": \"\"}, \"bgcolor\": \"#E5ECF6\", \"radialaxis\": {\"gridcolor\": \"white\", \"linecolor\": \"white\", \"ticks\": \"\"}}, \"scene\": {\"xaxis\": {\"backgroundcolor\": \"#E5ECF6\", \"gridcolor\": \"white\", \"gridwidth\": 2, \"linecolor\": \"white\", \"showbackground\": true, \"ticks\": \"\", \"zerolinecolor\": \"white\"}, \"yaxis\": {\"backgroundcolor\": \"#E5ECF6\", \"gridcolor\": \"white\", \"gridwidth\": 2, \"linecolor\": \"white\", \"showbackground\": true, \"ticks\": \"\", \"zerolinecolor\": \"white\"}, \"zaxis\": {\"backgroundcolor\": \"#E5ECF6\", \"gridcolor\": \"white\", \"gridwidth\": 2, \"linecolor\": \"white\", \"showbackground\": true, \"ticks\": \"\", \"zerolinecolor\": \"white\"}}, \"shapedefaults\": {\"line\": {\"color\": \"#2a3f5f\"}}, \"ternary\": {\"aaxis\": {\"gridcolor\": \"white\", \"linecolor\": \"white\", \"ticks\": \"\"}, \"baxis\": {\"gridcolor\": \"white\", \"linecolor\": \"white\", \"ticks\": \"\"}, \"bgcolor\": \"#E5ECF6\", \"caxis\": {\"gridcolor\": \"white\", \"linecolor\": \"white\", \"ticks\": \"\"}}, \"title\": {\"x\": 0.05}, \"xaxis\": {\"automargin\": true, \"gridcolor\": \"white\", \"linecolor\": \"white\", \"ticks\": \"\", \"title\": {\"standoff\": 15}, \"zerolinecolor\": \"white\", \"zerolinewidth\": 2}, \"yaxis\": {\"automargin\": true, \"gridcolor\": \"white\", \"linecolor\": \"white\", \"ticks\": \"\", \"title\": {\"standoff\": 15}, \"zerolinecolor\": \"white\", \"zerolinewidth\": 2}}}},                        {\"responsive\": true}                    ).then(function(){\n                            \nvar gd = document.getElementById('42825888-a92d-4f47-8d37-e10c9fa53510');\nvar x = new MutationObserver(function (mutations, observer) {{\n        var display = window.getComputedStyle(gd).display;\n        if (!display || display === 'none') {{\n            console.log([gd, 'removed!']);\n            Plotly.purge(gd);\n            observer.disconnect();\n        }}\n}});\n\n// Listen for the removal of the full notebook cells\nvar notebookContainer = gd.closest('#notebook-container');\nif (notebookContainer) {{\n    x.observe(notebookContainer, {childList: true});\n}}\n\n// Listen for the clearing of the current output cell\nvar outputEl = gd.closest('.output');\nif (outputEl) {{\n    x.observe(outputEl, {childList: true});\n}}\n\n                        })                };                });            </script>        </div>"
     },
     "metadata": {}
    }
   ],
   "source": [
    "iplot([Box(y = np.random.randn(50), showlegend=False) for i in range(45)], show_link=False)"
   ]
  },
  {
   "cell_type": "code",
   "execution_count": 4,
   "metadata": {},
   "outputs": [
    {
     "output_type": "error",
     "ename": "NameError",
     "evalue": "name 'Histogram2dContour' is not defined",
     "traceback": [
      "\u001b[1;31m---------------------------------------------------------------------------\u001b[0m",
      "\u001b[1;31mNameError\u001b[0m                                 Traceback (most recent call last)",
      "\u001b[1;32m<ipython-input-4-8469d278e205>\u001b[0m in \u001b[0;36m<module>\u001b[1;34m\u001b[0m\n\u001b[0;32m      1\u001b[0m \u001b[0mx\u001b[0m \u001b[1;33m=\u001b[0m \u001b[0mnp\u001b[0m\u001b[1;33m.\u001b[0m\u001b[0mrandom\u001b[0m\u001b[1;33m.\u001b[0m\u001b[0mrandn\u001b[0m\u001b[1;33m(\u001b[0m\u001b[1;36m2000\u001b[0m\u001b[1;33m)\u001b[0m\u001b[1;33m\u001b[0m\u001b[1;33m\u001b[0m\u001b[0m\n\u001b[0;32m      2\u001b[0m \u001b[0my\u001b[0m \u001b[1;33m=\u001b[0m \u001b[0mnp\u001b[0m\u001b[1;33m.\u001b[0m\u001b[0mrandom\u001b[0m\u001b[1;33m.\u001b[0m\u001b[0mrandn\u001b[0m\u001b[1;33m(\u001b[0m\u001b[1;36m2000\u001b[0m\u001b[1;33m)\u001b[0m\u001b[1;33m\u001b[0m\u001b[1;33m\u001b[0m\u001b[0m\n\u001b[1;32m----> 3\u001b[1;33m iplot([Histogram2dContour(x=x, y=y, contours=Contours(coloring='heatmap')),\n\u001b[0m\u001b[0;32m      4\u001b[0m        Scatter(x=x, y=y, mode='markers', marker=Marker(color='white', size=3, opacity=0.3))], show_link=False)\n",
      "\u001b[1;31mNameError\u001b[0m: name 'Histogram2dContour' is not defined"
     ]
    }
   ],
   "source": [
    "x = np.random.randn(2000)\n",
    "y = np.random.randn(2000)\n",
    "iplot([Histogram2dContour(x=x, y=y, contours=Contours(coloring='heatmap')),\n",
    "       Scatter(x=x, y=y, mode='markers', marker=Marker(color='white', size=3, opacity=0.3))], show_link=False)"
   ]
  },
  {
   "cell_type": "code",
   "execution_count": 5,
   "metadata": {},
   "outputs": [
    {
     "output_type": "display_data",
     "data": {
      "application/vnd.plotly.v1+json": {
       "config": {
        "linkText": "Export to plot.ly",
        "plotlyServerURL": "https://plot.ly",
        "showLink": false
       },
       "data": [
        {
         "lat": [
          32.89595056,
          35.04022222
         ],
         "line": {
          "color": "red",
          "width": 1
         },
         "locationmode": "USA-states",
         "lon": [
          -97.0372,
          -106.6091944
         ],
         "mode": "lines",
         "opacity": 0.48577680525164113,
         "type": "scattergeo"
        },
        {
         "lat": [
          41.979595,
          30.19453278
         ],
         "line": {
          "color": "red",
          "width": 1
         },
         "locationmode": "USA-states",
         "lon": [
          -87.90446417,
          -97.66987194
         ],
         "mode": "lines",
         "opacity": 0.18161925601750548,
         "type": "scattergeo"
        },
        {
         "lat": [
          32.89595056,
          41.93887417
         ],
         "line": {
          "color": "red",
          "width": 1
         },
         "locationmode": "USA-states",
         "lon": [
          -97.0372,
          -72.68322833
         ],
         "mode": "lines",
         "opacity": 0.1772428884026258,
         "type": "scattergeo"
        },
        {
         "lat": [
          18.43941667,
          41.93887417
         ],
         "line": {
          "color": "red",
          "width": 1
         },
         "locationmode": "USA-states",
         "lon": [
          -66.00183333,
          -72.68322833
         ],
         "mode": "lines",
         "opacity": 0.061269146608315096,
         "type": "scattergeo"
        },
        {
         "lat": [
          32.89595056,
          33.56294306
         ],
         "line": {
          "color": "red",
          "width": 1
         },
         "locationmode": "USA-states",
         "lon": [
          -97.0372,
          -86.75354972
         ],
         "mode": "lines",
         "opacity": 0.1838074398249453,
         "type": "scattergeo"
        },
        {
         "lat": [
          25.79325,
          36.12447667
         ],
         "line": {
          "color": "red",
          "width": 1
         },
         "locationmode": "USA-states",
         "lon": [
          -80.29055556,
          -86.67818222
         ],
         "mode": "lines",
         "opacity": 0.061269146608315096,
         "type": "scattergeo"
        },
        {
         "lat": [
          32.89595056,
          42.3643475
         ],
         "line": {
          "color": "red",
          "width": 1
         },
         "locationmode": "USA-states",
         "lon": [
          -97.0372,
          -71.00517917
         ],
         "mode": "lines",
         "opacity": 0.4617067833698031,
         "type": "scattergeo"
        },
        {
         "lat": [
          25.79325,
          42.3643475
         ],
         "line": {
          "color": "red",
          "width": 1
         },
         "locationmode": "USA-states",
         "lon": [
          -80.29055556,
          -71.00517917
         ],
         "mode": "lines",
         "opacity": 0.4288840262582057,
         "type": "scattergeo"
        },
        {
         "lat": [
          41.979595,
          42.3643475
         ],
         "line": {
          "color": "red",
          "width": 1
         },
         "locationmode": "USA-states",
         "lon": [
          -87.90446417,
          -71.00517917
         ],
         "mode": "lines",
         "opacity": 0.47045951859956237,
         "type": "scattergeo"
        },
        {
         "lat": [
          18.43941667,
          42.3643475
         ],
         "line": {
          "color": "red",
          "width": 1
         },
         "locationmode": "USA-states",
         "lon": [
          -66.00183333,
          -71.00517917
         ],
         "mode": "lines",
         "opacity": 0.061269146608315096,
         "type": "scattergeo"
        },
        {
         "lat": [
          18.33730556,
          42.3643475
         ],
         "line": {
          "color": "red",
          "width": 1
         },
         "locationmode": "USA-states",
         "lon": [
          -64.97336111,
          -71.00517917
         ],
         "mode": "lines",
         "opacity": 0.04814004376367615,
         "type": "scattergeo"
        },
        {
         "lat": [
          25.79325,
          39.17540167
         ],
         "line": {
          "color": "red",
          "width": 1
         },
         "locationmode": "USA-states",
         "lon": [
          -80.29055556,
          -76.66819833
         ],
         "mode": "lines",
         "opacity": 0.12253829321663019,
         "type": "scattergeo"
        },
        {
         "lat": [
          18.43941667,
          39.17540167
         ],
         "line": {
          "color": "red",
          "width": 1
         },
         "locationmode": "USA-states",
         "lon": [
          -66.00183333,
          -76.66819833
         ],
         "mode": "lines",
         "opacity": 0.061269146608315096,
         "type": "scattergeo"
        },
        {
         "lat": [
          32.89595056,
          35.21401111
         ],
         "line": {
          "color": "red",
          "width": 1
         },
         "locationmode": "USA-states",
         "lon": [
          -97.0372,
          -80.94312583
         ],
         "mode": "lines",
         "opacity": 0.3938730853391685,
         "type": "scattergeo"
        },
        {
         "lat": [
          32.89595056,
          38.80580556
         ],
         "line": {
          "color": "red",
          "width": 1
         },
         "locationmode": "USA-states",
         "lon": [
          -97.0372,
          -104.70025
         ],
         "mode": "lines",
         "opacity": 0.3041575492341357,
         "type": "scattergeo"
        },
        {
         "lat": [
          32.89595056,
          39.90237583
         ],
         "line": {
          "color": "red",
          "width": 1
         },
         "locationmode": "USA-states",
         "lon": [
          -97.0372,
          -84.219375
         ],
         "mode": "lines",
         "opacity": 0.1137855579868709,
         "type": "scattergeo"
        },
        {
         "lat": [
          32.89595056,
          38.85208333
         ],
         "line": {
          "color": "red",
          "width": 1
         },
         "locationmode": "USA-states",
         "lon": [
          -97.0372,
          -77.03772222
         ],
         "mode": "lines",
         "opacity": 0.6433260393873085,
         "type": "scattergeo"
        },
        {
         "lat": [
          25.79325,
          39.85840806
         ],
         "line": {
          "color": "red",
          "width": 1
         },
         "locationmode": "USA-states",
         "lon": [
          -80.29055556,
          -104.6670019
         ],
         "mode": "lines",
         "opacity": 0.12253829321663019,
         "type": "scattergeo"
        },
        {
         "lat": [
          41.979595,
          39.85840806
         ],
         "line": {
          "color": "red",
          "width": 1
         },
         "locationmode": "USA-states",
         "lon": [
          -87.90446417,
          -104.6670019
         ],
         "mode": "lines",
         "opacity": 0.12253829321663019,
         "type": "scattergeo"
        },
        {
         "lat": [
          33.64044444,
          32.89595056
         ],
         "line": {
          "color": "red",
          "width": 1
         },
         "locationmode": "USA-states",
         "lon": [
          -84.42694444,
          -97.0372
         ],
         "mode": "lines",
         "opacity": 0.6345733041575492,
         "type": "scattergeo"
        },
        {
         "lat": [
          30.19453278,
          32.89595056
         ],
         "line": {
          "color": "red",
          "width": 1
         },
         "locationmode": "USA-states",
         "lon": [
          -97.66987194,
          -97.0372
         ],
         "mode": "lines",
         "opacity": 0.8971553610503282,
         "type": "scattergeo"
        },
        {
         "lat": [
          36.12447667,
          32.89595056
         ],
         "line": {
          "color": "red",
          "width": 1
         },
         "locationmode": "USA-states",
         "lon": [
          -86.67818222,
          -97.0372
         ],
         "mode": "lines",
         "opacity": 0.47702407002188185,
         "type": "scattergeo"
        },
        {
         "lat": [
          34.20061917,
          32.89595056
         ],
         "line": {
          "color": "red",
          "width": 1
         },
         "locationmode": "USA-states",
         "lon": [
          -118.3584969,
          -97.0372
         ],
         "mode": "lines",
         "opacity": 0.2275711159737418,
         "type": "scattergeo"
        },
        {
         "lat": [
          39.17540167,
          32.89595056
         ],
         "line": {
          "color": "red",
          "width": 1
         },
         "locationmode": "USA-states",
         "lon": [
          -76.66819833,
          -97.0372
         ],
         "mode": "lines",
         "opacity": 0.35667396061269147,
         "type": "scattergeo"
        },
        {
         "lat": [
          39.99798528,
          32.89595056
         ],
         "line": {
          "color": "red",
          "width": 1
         },
         "locationmode": "USA-states",
         "lon": [
          -82.89188278,
          -97.0372
         ],
         "mode": "lines",
         "opacity": 0.1137855579868709,
         "type": "scattergeo"
        },
        {
         "lat": [
          39.85840806,
          32.89595056
         ],
         "line": {
          "color": "red",
          "width": 1
         },
         "locationmode": "USA-states",
         "lon": [
          -104.6670019,
          -97.0372
         ],
         "mode": "lines",
         "opacity": 0.6105032822757112,
         "type": "scattergeo"
        },
        {
         "lat": [
          42.21205889,
          32.89595056
         ],
         "line": {
          "color": "red",
          "width": 1
         },
         "locationmode": "USA-states",
         "lon": [
          -83.34883583,
          -97.0372
         ],
         "mode": "lines",
         "opacity": 0.2844638949671772,
         "type": "scattergeo"
        },
        {
         "lat": [
          39.64256778,
          32.89595056
         ],
         "line": {
          "color": "red",
          "width": 1
         },
         "locationmode": "USA-states",
         "lon": [
          -106.91769529999999,
          -97.0372
         ],
         "mode": "lines",
         "opacity": 0.1487964989059081,
         "type": "scattergeo"
        },
        {
         "lat": [
          40.69249722,
          32.89595056
         ],
         "line": {
          "color": "red",
          "width": 1
         },
         "locationmode": "USA-states",
         "lon": [
          -74.16866056,
          -97.0372
         ],
         "mode": "lines",
         "opacity": 0.33916849015317285,
         "type": "scattergeo"
        },
        {
         "lat": [
          36.77619444,
          32.89595056
         ],
         "line": {
          "color": "red",
          "width": 1
         },
         "locationmode": "USA-states",
         "lon": [
          -119.7181389,
          -97.0372
         ],
         "mode": "lines",
         "opacity": 0.12253829321663019,
         "type": "scattergeo"
        },
        {
         "lat": [
          26.07258333,
          32.89595056
         ],
         "line": {
          "color": "red",
          "width": 1
         },
         "locationmode": "USA-states",
         "lon": [
          -80.15275,
          -97.0372
         ],
         "mode": "lines",
         "opacity": 0.3676148796498906,
         "type": "scattergeo"
        },
        {
         "lat": [
          34.6404475,
          32.89595056
         ],
         "line": {
          "color": "red",
          "width": 1
         },
         "locationmode": "USA-states",
         "lon": [
          -86.77310944,
          -97.0372
         ],
         "mode": "lines",
         "opacity": 0.17286652078774617,
         "type": "scattergeo"
        },
        {
         "lat": [
          29.98047222,
          32.89595056
         ],
         "line": {
          "color": "red",
          "width": 1
         },
         "locationmode": "USA-states",
         "lon": [
          -95.33972222,
          -97.0372
         ],
         "mode": "lines",
         "opacity": 0.3544857768052516,
         "type": "scattergeo"
        },
        {
         "lat": [
          33.94253611,
          32.89595056
         ],
         "line": {
          "color": "red",
          "width": 1
         },
         "locationmode": "USA-states",
         "lon": [
          -118.40807439999999,
          -97.0372
         ],
         "mode": "lines",
         "opacity": 1,
         "type": "scattergeo"
        },
        {
         "lat": [
          39.29760528,
          32.89595056
         ],
         "line": {
          "color": "red",
          "width": 1
         },
         "locationmode": "USA-states",
         "lon": [
          -94.71390556,
          -97.0372
         ],
         "mode": "lines",
         "opacity": 0.47702407002188185,
         "type": "scattergeo"
        },
        {
         "lat": [
          28.42888889,
          32.89595056
         ],
         "line": {
          "color": "red",
          "width": 1
         },
         "locationmode": "USA-states",
         "lon": [
          -81.31602778,
          -97.0372
         ],
         "mode": "lines",
         "opacity": 0.5470459518599562,
         "type": "scattergeo"
        },
        {
         "lat": [
          35.04241667,
          32.89595056
         ],
         "line": {
          "color": "red",
          "width": 1
         },
         "locationmode": "USA-states",
         "lon": [
          -89.97666667,
          -97.0372
         ],
         "mode": "lines",
         "opacity": 0.23413566739606126,
         "type": "scattergeo"
        },
        {
         "lat": [
          26.17583333,
          32.89595056
         ],
         "line": {
          "color": "red",
          "width": 1
         },
         "locationmode": "USA-states",
         "lon": [
          -98.23861111,
          -97.0372
         ],
         "mode": "lines",
         "opacity": 0.23413566739606126,
         "type": "scattergeo"
        },
        {
         "lat": [
          25.79325,
          32.89595056
         ],
         "line": {
          "color": "red",
          "width": 1
         },
         "locationmode": "USA-states",
         "lon": [
          -80.29055556,
          -97.0372
         ],
         "mode": "lines",
         "opacity": 0.612691466083151,
         "type": "scattergeo"
        },
        {
         "lat": [
          44.88054694,
          32.89595056
         ],
         "line": {
          "color": "red",
          "width": 1
         },
         "locationmode": "USA-states",
         "lon": [
          -93.2169225,
          -97.0372
         ],
         "mode": "lines",
         "opacity": 0.35667396061269147,
         "type": "scattergeo"
        },
        {
         "lat": [
          38.50886722,
          32.89595056
         ],
         "line": {
          "color": "red",
          "width": 1
         },
         "locationmode": "USA-states",
         "lon": [
          -107.89383329999998,
          -97.0372
         ],
         "mode": "lines",
         "opacity": 0.0175054704595186,
         "type": "scattergeo"
        },
        {
         "lat": [
          20.89864972,
          32.89595056
         ],
         "line": {
          "color": "red",
          "width": 1
         },
         "locationmode": "USA-states",
         "lon": [
          -156.43045780000003,
          -97.0372
         ],
         "mode": "lines",
         "opacity": 0.061269146608315096,
         "type": "scattergeo"
        },
        {
         "lat": [
          35.39308833,
          32.89595056
         ],
         "line": {
          "color": "red",
          "width": 1
         },
         "locationmode": "USA-states",
         "lon": [
          -97.60073389,
          -97.0372
         ],
         "mode": "lines",
         "opacity": 0.42669584245076586,
         "type": "scattergeo"
        },
        {
         "lat": [
          41.30251861,
          32.89595056
         ],
         "line": {
          "color": "red",
          "width": 1
         },
         "locationmode": "USA-states",
         "lon": [
          -95.89417306,
          -97.0372
         ],
         "mode": "lines",
         "opacity": 0.2975929978118162,
         "type": "scattergeo"
        },
        {
         "lat": [
          41.979595,
          32.89595056
         ],
         "line": {
          "color": "red",
          "width": 1
         },
         "locationmode": "USA-states",
         "lon": [
          -87.90446417,
          -97.0372
         ],
         "mode": "lines",
         "opacity": 0.9026258205689278,
         "type": "scattergeo"
        },
        {
         "lat": [
          39.87195278,
          32.89595056
         ],
         "line": {
          "color": "red",
          "width": 1
         },
         "locationmode": "USA-states",
         "lon": [
          -75.24114083,
          -97.0372
         ],
         "mode": "lines",
         "opacity": 0.3522975929978118,
         "type": "scattergeo"
        },
        {
         "lat": [
          33.43416667,
          32.89595056
         ],
         "line": {
          "color": "red",
          "width": 1
         },
         "locationmode": "USA-states",
         "lon": [
          -112.00805559999999,
          -97.0372
         ],
         "mode": "lines",
         "opacity": 0.6017505470459519,
         "type": "scattergeo"
        },
        {
         "lat": [
          37.50516667,
          32.89595056
         ],
         "line": {
          "color": "red",
          "width": 1
         },
         "locationmode": "USA-states",
         "lon": [
          -77.31966667,
          -97.0372
         ],
         "mode": "lines",
         "opacity": 0.18161925601750548,
         "type": "scattergeo"
        },
        {
         "lat": [
          39.49857611,
          32.89595056
         ],
         "line": {
          "color": "red",
          "width": 1
         },
         "locationmode": "USA-states",
         "lon": [
          -119.76806470000001,
          -97.0372
         ],
         "mode": "lines",
         "opacity": 0.16411378555798686,
         "type": "scattergeo"
        },
        {
         "lat": [
          32.73355611,
          32.89595056
         ],
         "line": {
          "color": "red",
          "width": 1
         },
         "locationmode": "USA-states",
         "lon": [
          -117.1896567,
          -97.0372
         ],
         "mode": "lines",
         "opacity": 0.5470459518599562,
         "type": "scattergeo"
        },
        {
         "lat": [
          29.53369444,
          32.89595056
         ],
         "line": {
          "color": "red",
          "width": 1
         },
         "locationmode": "USA-states",
         "lon": [
          -98.46977778,
          -97.0372
         ],
         "mode": "lines",
         "opacity": 0.9037199124726477,
         "type": "scattergeo"
        },
        {
         "lat": [
          38.17438889,
          32.89595056
         ],
         "line": {
          "color": "red",
          "width": 1
         },
         "locationmode": "USA-states",
         "lon": [
          -85.736,
          -97.0372
         ],
         "mode": "lines",
         "opacity": 0.17943107221006566,
         "type": "scattergeo"
        },
        {
         "lat": [
          37.61900194,
          32.89595056
         ],
         "line": {
          "color": "red",
          "width": 1
         },
         "locationmode": "USA-states",
         "lon": [
          -122.3748433,
          -97.0372
         ],
         "mode": "lines",
         "opacity": 0.5754923413566739,
         "type": "scattergeo"
        },
        {
         "lat": [
          37.36186194,
          32.89595056
         ],
         "line": {
          "color": "red",
          "width": 1
         },
         "locationmode": "USA-states",
         "lon": [
          -121.92900890000001,
          -97.0372
         ],
         "mode": "lines",
         "opacity": 0.3479212253829322,
         "type": "scattergeo"
        },
        {
         "lat": [
          40.78838778,
          32.89595056
         ],
         "line": {
          "color": "red",
          "width": 1
         },
         "locationmode": "USA-states",
         "lon": [
          -111.9777731,
          -97.0372
         ],
         "mode": "lines",
         "opacity": 0.3063457330415755,
         "type": "scattergeo"
        },
        {
         "lat": [
          38.74768694,
          32.89595056
         ],
         "line": {
          "color": "red",
          "width": 1
         },
         "locationmode": "USA-states",
         "lon": [
          -90.35998972,
          -97.0372
         ],
         "mode": "lines",
         "opacity": 0.5317286652078774,
         "type": "scattergeo"
        },
        {
         "lat": [
          36.28186944,
          32.89595056
         ],
         "line": {
          "color": "red",
          "width": 1
         },
         "locationmode": "USA-states",
         "lon": [
          -94.30681111,
          -97.0372
         ],
         "mode": "lines",
         "opacity": 0.05470459518599562,
         "type": "scattergeo"
        },
        {
         "lat": [
          25.79325,
          42.21205889
         ],
         "line": {
          "color": "red",
          "width": 1
         },
         "locationmode": "USA-states",
         "lon": [
          -80.29055556,
          -83.34883583
         ],
         "mode": "lines",
         "opacity": 0.12253829321663019,
         "type": "scattergeo"
        },
        {
         "lat": [
          40.77724306,
          39.64256778
         ],
         "line": {
          "color": "red",
          "width": 1
         },
         "locationmode": "USA-states",
         "lon": [
          -73.87260917,
          -106.91769529999999
         ],
         "mode": "lines",
         "opacity": 0.0087527352297593,
         "type": "scattergeo"
        },
        {
         "lat": [
          41.979595,
          39.64256778
         ],
         "line": {
          "color": "red",
          "width": 1
         },
         "locationmode": "USA-states",
         "lon": [
          -87.90446417,
          -106.91769529999999
         ],
         "mode": "lines",
         "opacity": 0.0700218818380744,
         "type": "scattergeo"
        },
        {
         "lat": [
          32.89595056,
          31.80666667
         ],
         "line": {
          "color": "red",
          "width": 1
         },
         "locationmode": "USA-states",
         "lon": [
          -97.0372,
          -106.37780559999999
         ],
         "mode": "lines",
         "opacity": 0.474835886214442,
         "type": "scattergeo"
        },
        {
         "lat": [
          33.94253611,
          40.69249722
         ],
         "line": {
          "color": "red",
          "width": 1
         },
         "locationmode": "USA-states",
         "lon": [
          -118.40807439999999,
          -74.16866056
         ],
         "mode": "lines",
         "opacity": 0.05908096280087528,
         "type": "scattergeo"
        },
        {
         "lat": [
          25.79325,
          40.69249722
         ],
         "line": {
          "color": "red",
          "width": 1
         },
         "locationmode": "USA-states",
         "lon": [
          -80.29055556,
          -74.16866056
         ],
         "mode": "lines",
         "opacity": 0.1838074398249453,
         "type": "scattergeo"
        },
        {
         "lat": [
          40.63975111,
          26.07258333
         ],
         "line": {
          "color": "red",
          "width": 1
         },
         "locationmode": "USA-states",
         "lon": [
          -73.77892556,
          -80.15275
         ],
         "mode": "lines",
         "opacity": 0.12253829321663019,
         "type": "scattergeo"
        },
        {
         "lat": [
          32.89595056,
          40.48118028
         ],
         "line": {
          "color": "red",
          "width": 1
         },
         "locationmode": "USA-states",
         "lon": [
          -97.0372,
          -107.21765970000001
         ],
         "mode": "lines",
         "opacity": 0.0700218818380744,
         "type": "scattergeo"
        },
        {
         "lat": [
          32.89595056,
          21.31869111
         ],
         "line": {
          "color": "red",
          "width": 1
         },
         "locationmode": "USA-states",
         "lon": [
          -97.0372,
          -157.92240719999998
         ],
         "mode": "lines",
         "opacity": 0.12253829321663019,
         "type": "scattergeo"
        },
        {
         "lat": [
          33.94253611,
          21.31869111
         ],
         "line": {
          "color": "red",
          "width": 1
         },
         "locationmode": "USA-states",
         "lon": [
          -118.40807439999999,
          -157.92240719999998
         ],
         "mode": "lines",
         "opacity": 0.2363238512035011,
         "type": "scattergeo"
        },
        {
         "lat": [
          32.89595056,
          38.94453194
         ],
         "line": {
          "color": "red",
          "width": 1
         },
         "locationmode": "USA-states",
         "lon": [
          -97.0372,
          -77.45580972
         ],
         "mode": "lines",
         "opacity": 0.33698030634573306,
         "type": "scattergeo"
        },
        {
         "lat": [
          33.94253611,
          38.94453194
         ],
         "line": {
          "color": "red",
          "width": 1
         },
         "locationmode": "USA-states",
         "lon": [
          -118.40807439999999,
          -77.45580972
         ],
         "mode": "lines",
         "opacity": 0.18161925601750548,
         "type": "scattergeo"
        },
        {
         "lat": [
          25.79325,
          38.94453194
         ],
         "line": {
          "color": "red",
          "width": 1
         },
         "locationmode": "USA-states",
         "lon": [
          -80.29055556,
          -77.45580972
         ],
         "mode": "lines",
         "opacity": 0.12253829321663019,
         "type": "scattergeo"
        },
        {
         "lat": [
          25.79325,
          29.98047222
         ],
         "line": {
          "color": "red",
          "width": 1
         },
         "locationmode": "USA-states",
         "lon": [
          -80.29055556,
          -95.33972222
         ],
         "mode": "lines",
         "opacity": 0.1838074398249453,
         "type": "scattergeo"
        },
        {
         "lat": [
          32.89595056,
          37.64995889
         ],
         "line": {
          "color": "red",
          "width": 1
         },
         "locationmode": "USA-states",
         "lon": [
          -97.0372,
          -97.43304583
         ],
         "mode": "lines",
         "opacity": 0.23413566739606126,
         "type": "scattergeo"
        },
        {
         "lat": [
          32.89595056,
          39.71732917
         ],
         "line": {
          "color": "red",
          "width": 1
         },
         "locationmode": "USA-states",
         "lon": [
          -97.0372,
          -86.29438417
         ],
         "mode": "lines",
         "opacity": 0.3041575492341357,
         "type": "scattergeo"
        },
        {
         "lat": [
          32.89595056,
          43.60732417
         ],
         "line": {
          "color": "red",
          "width": 1
         },
         "locationmode": "USA-states",
         "lon": [
          -97.0372,
          -110.7377389
         ],
         "mode": "lines",
         "opacity": 0.0262582056892779,
         "type": "scattergeo"
        },
        {
         "lat": [
          32.89595056,
          30.49405556
         ],
         "line": {
          "color": "red",
          "width": 1
         },
         "locationmode": "USA-states",
         "lon": [
          -97.0372,
          -81.68786111
         ],
         "mode": "lines",
         "opacity": 0.2363238512035011,
         "type": "scattergeo"
        },
        {
         "lat": [
          30.19453278,
          40.63975111
         ],
         "line": {
          "color": "red",
          "width": 1
         },
         "locationmode": "USA-states",
         "lon": [
          -97.66987194,
          -73.77892556
         ],
         "mode": "lines",
         "opacity": 0.061269146608315096,
         "type": "scattergeo"
        },
        {
         "lat": [
          32.89595056,
          40.63975111
         ],
         "line": {
          "color": "red",
          "width": 1
         },
         "locationmode": "USA-states",
         "lon": [
          -97.0372,
          -73.77892556
         ],
         "mode": "lines",
         "opacity": 0.061269146608315096,
         "type": "scattergeo"
        },
        {
         "lat": [
          39.64256778,
          40.63975111
         ],
         "line": {
          "color": "red",
          "width": 1
         },
         "locationmode": "USA-states",
         "lon": [
          -106.91769529999999,
          -73.77892556
         ],
         "mode": "lines",
         "opacity": 0.061269146608315096,
         "type": "scattergeo"
        },
        {
         "lat": [
          28.42888889,
          40.63975111
         ],
         "line": {
          "color": "red",
          "width": 1
         },
         "locationmode": "USA-states",
         "lon": [
          -81.31602778,
          -73.77892556
         ],
         "mode": "lines",
         "opacity": 0.24507658643326038,
         "type": "scattergeo"
        },
        {
         "lat": [
          25.79325,
          40.63975111
         ],
         "line": {
          "color": "red",
          "width": 1
         },
         "locationmode": "USA-states",
         "lon": [
          -80.29055556,
          -73.77892556
         ],
         "mode": "lines",
         "opacity": 0.4288840262582057,
         "type": "scattergeo"
        },
        {
         "lat": [
          47.44898194,
          40.63975111
         ],
         "line": {
          "color": "red",
          "width": 1
         },
         "locationmode": "USA-states",
         "lon": [
          -122.30931310000001,
          -73.77892556
         ],
         "mode": "lines",
         "opacity": 0.061269146608315096,
         "type": "scattergeo"
        },
        {
         "lat": [
          37.61900194,
          40.63975111
         ],
         "line": {
          "color": "red",
          "width": 1
         },
         "locationmode": "USA-states",
         "lon": [
          -122.3748433,
          -73.77892556
         ],
         "mode": "lines",
         "opacity": 0.3041575492341357,
         "type": "scattergeo"
        },
        {
         "lat": [
          18.33730556,
          40.63975111
         ],
         "line": {
          "color": "red",
          "width": 1
         },
         "locationmode": "USA-states",
         "lon": [
          -64.97336111,
          -73.77892556
         ],
         "mode": "lines",
         "opacity": 0.061269146608315096,
         "type": "scattergeo"
        },
        {
         "lat": [
          27.97547222,
          40.63975111
         ],
         "line": {
          "color": "red",
          "width": 1
         },
         "locationmode": "USA-states",
         "lon": [
          -82.53325,
          -73.77892556
         ],
         "mode": "lines",
         "opacity": 0.061269146608315096,
         "type": "scattergeo"
        },
        {
         "lat": [
          32.89595056,
          36.08036111
         ],
         "line": {
          "color": "red",
          "width": 1
         },
         "locationmode": "USA-states",
         "lon": [
          -97.0372,
          -115.15233329999998
         ],
         "mode": "lines",
         "opacity": 0.6225382932166302,
         "type": "scattergeo"
        },
        {
         "lat": [
          40.63975111,
          36.08036111
         ],
         "line": {
          "color": "red",
          "width": 1
         },
         "locationmode": "USA-states",
         "lon": [
          -73.77892556,
          -115.15233329999998
         ],
         "mode": "lines",
         "opacity": 0.12253829321663019,
         "type": "scattergeo"
        },
        {
         "lat": [
          33.94253611,
          36.08036111
         ],
         "line": {
          "color": "red",
          "width": 1
         },
         "locationmode": "USA-states",
         "lon": [
          -118.40807439999999,
          -115.15233329999998
         ],
         "mode": "lines",
         "opacity": 0.24288840262582057,
         "type": "scattergeo"
        },
        {
         "lat": [
          41.979595,
          36.08036111
         ],
         "line": {
          "color": "red",
          "width": 1
         },
         "locationmode": "USA-states",
         "lon": [
          -87.90446417,
          -115.15233329999998
         ],
         "mode": "lines",
         "opacity": 0.3063457330415755,
         "type": "scattergeo"
        },
        {
         "lat": [
          30.19453278,
          33.94253611
         ],
         "line": {
          "color": "red",
          "width": 1
         },
         "locationmode": "USA-states",
         "lon": [
          -97.66987194,
          -118.40807439999999
         ],
         "mode": "lines",
         "opacity": 0.1772428884026258,
         "type": "scattergeo"
        },
        {
         "lat": [
          36.12447667,
          33.94253611
         ],
         "line": {
          "color": "red",
          "width": 1
         },
         "locationmode": "USA-states",
         "lon": [
          -86.67818222,
          -118.40807439999999
         ],
         "mode": "lines",
         "opacity": 0.061269146608315096,
         "type": "scattergeo"
        },
        {
         "lat": [
          42.3643475,
          33.94253611
         ],
         "line": {
          "color": "red",
          "width": 1
         },
         "locationmode": "USA-states",
         "lon": [
          -71.00517917,
          -118.40807439999999
         ],
         "mode": "lines",
         "opacity": 0.1838074398249453,
         "type": "scattergeo"
        },
        {
         "lat": [
          39.64256778,
          33.94253611
         ],
         "line": {
          "color": "red",
          "width": 1
         },
         "locationmode": "USA-states",
         "lon": [
          -106.91769529999999,
          -118.40807439999999
         ],
         "mode": "lines",
         "opacity": 0.061269146608315096,
         "type": "scattergeo"
        },
        {
         "lat": [
          40.63975111,
          33.94253611
         ],
         "line": {
          "color": "red",
          "width": 1
         },
         "locationmode": "USA-states",
         "lon": [
          -73.77892556,
          -118.40807439999999
         ],
         "mode": "lines",
         "opacity": 0.5995623632385121,
         "type": "scattergeo"
        },
        {
         "lat": [
          19.73876583,
          33.94253611
         ],
         "line": {
          "color": "red",
          "width": 1
         },
         "locationmode": "USA-states",
         "lon": [
          -156.0456314,
          -118.40807439999999
         ],
         "mode": "lines",
         "opacity": 0.061269146608315096,
         "type": "scattergeo"
        },
        {
         "lat": [
          20.89864972,
          33.94253611
         ],
         "line": {
          "color": "red",
          "width": 1
         },
         "locationmode": "USA-states",
         "lon": [
          -156.43045780000003,
          -118.40807439999999
         ],
         "mode": "lines",
         "opacity": 0.12253829321663019,
         "type": "scattergeo"
        },
        {
         "lat": [
          41.979595,
          33.94253611
         ],
         "line": {
          "color": "red",
          "width": 1
         },
         "locationmode": "USA-states",
         "lon": [
          -87.90446417,
          -118.40807439999999
         ],
         "mode": "lines",
         "opacity": 0.5426695842450766,
         "type": "scattergeo"
        },
        {
         "lat": [
          38.74768694,
          33.94253611
         ],
         "line": {
          "color": "red",
          "width": 1
         },
         "locationmode": "USA-states",
         "lon": [
          -90.35998972,
          -118.40807439999999
         ],
         "mode": "lines",
         "opacity": 0.18161925601750548,
         "type": "scattergeo"
        },
        {
         "lat": [
          36.12447667,
          40.77724306
         ],
         "line": {
          "color": "red",
          "width": 1
         },
         "locationmode": "USA-states",
         "lon": [
          -86.67818222,
          -73.87260917
         ],
         "mode": "lines",
         "opacity": 0.11159737417943107,
         "type": "scattergeo"
        },
        {
         "lat": [
          32.89595056,
          40.77724306
         ],
         "line": {
          "color": "red",
          "width": 1
         },
         "locationmode": "USA-states",
         "lon": [
          -97.0372,
          -73.87260917
         ],
         "mode": "lines",
         "opacity": 0.849015317286652,
         "type": "scattergeo"
        },
        {
         "lat": [
          38.74768694,
          40.77724306
         ],
         "line": {
          "color": "red",
          "width": 1
         },
         "locationmode": "USA-states",
         "lon": [
          -90.35998972,
          -73.87260917
         ],
         "mode": "lines",
         "opacity": 0.22538293216630198,
         "type": "scattergeo"
        },
        {
         "lat": [
          33.94253611,
          21.97598306
         ],
         "line": {
          "color": "red",
          "width": 1
         },
         "locationmode": "USA-states",
         "lon": [
          -118.40807439999999,
          -159.3389581
         ],
         "mode": "lines",
         "opacity": 0.061269146608315096,
         "type": "scattergeo"
        },
        {
         "lat": [
          33.94253611,
          28.42888889
         ],
         "line": {
          "color": "red",
          "width": 1
         },
         "locationmode": "USA-states",
         "lon": [
          -118.40807439999999,
          -81.31602778
         ],
         "mode": "lines",
         "opacity": 0.061269146608315096,
         "type": "scattergeo"
        },
        {
         "lat": [
          25.79325,
          28.42888889
         ],
         "line": {
          "color": "red",
          "width": 1
         },
         "locationmode": "USA-states",
         "lon": [
          -80.29055556,
          -81.31602778
         ],
         "mode": "lines",
         "opacity": 0.49015317286652077,
         "type": "scattergeo"
        },
        {
         "lat": [
          33.64044444,
          25.79325
         ],
         "line": {
          "color": "red",
          "width": 1
         },
         "locationmode": "USA-states",
         "lon": [
          -84.42694444,
          -80.29055556
         ],
         "mode": "lines",
         "opacity": 0.24507658643326038,
         "type": "scattergeo"
        },
        {
         "lat": [
          41.93887417,
          25.79325
         ],
         "line": {
          "color": "red",
          "width": 1
         },
         "locationmode": "USA-states",
         "lon": [
          -72.68322833,
          -80.29055556
         ],
         "mode": "lines",
         "opacity": 0.12253829321663019,
         "type": "scattergeo"
        },
        {
         "lat": [
          38.85208333,
          25.79325
         ],
         "line": {
          "color": "red",
          "width": 1
         },
         "locationmode": "USA-states",
         "lon": [
          -77.03772222,
          -80.29055556
         ],
         "mode": "lines",
         "opacity": 0.5514223194748359,
         "type": "scattergeo"
        },
        {
         "lat": [
          39.64256778,
          25.79325
         ],
         "line": {
          "color": "red",
          "width": 1
         },
         "locationmode": "USA-states",
         "lon": [
          -106.91769529999999,
          -80.29055556
         ],
         "mode": "lines",
         "opacity": 0.0525164113785558,
         "type": "scattergeo"
        },
        {
         "lat": [
          36.08036111,
          25.79325
         ],
         "line": {
          "color": "red",
          "width": 1
         },
         "locationmode": "USA-states",
         "lon": [
          -115.15233329999998,
          -80.29055556
         ],
         "mode": "lines",
         "opacity": 0.1838074398249453,
         "type": "scattergeo"
        },
        {
         "lat": [
          33.94253611,
          25.79325
         ],
         "line": {
          "color": "red",
          "width": 1
         },
         "locationmode": "USA-states",
         "lon": [
          -118.40807439999999,
          -80.29055556
         ],
         "mode": "lines",
         "opacity": 0.4288840262582057,
         "type": "scattergeo"
        },
        {
         "lat": [
          40.77724306,
          25.79325
         ],
         "line": {
          "color": "red",
          "width": 1
         },
         "locationmode": "USA-states",
         "lon": [
          -73.87260917,
          -80.29055556
         ],
         "mode": "lines",
         "opacity": 0.6728665207877462,
         "type": "scattergeo"
        },
        {
         "lat": [
          44.88054694,
          25.79325
         ],
         "line": {
          "color": "red",
          "width": 1
         },
         "locationmode": "USA-states",
         "lon": [
          -93.2169225,
          -80.29055556
         ],
         "mode": "lines",
         "opacity": 0.061269146608315096,
         "type": "scattergeo"
        },
        {
         "lat": [
          41.979595,
          25.79325
         ],
         "line": {
          "color": "red",
          "width": 1
         },
         "locationmode": "USA-states",
         "lon": [
          -87.90446417,
          -80.29055556
         ],
         "mode": "lines",
         "opacity": 0.5525164113785558,
         "type": "scattergeo"
        },
        {
         "lat": [
          39.87195278,
          25.79325
         ],
         "line": {
          "color": "red",
          "width": 1
         },
         "locationmode": "USA-states",
         "lon": [
          -75.24114083,
          -80.29055556
         ],
         "mode": "lines",
         "opacity": 0.1838074398249453,
         "type": "scattergeo"
        },
        {
         "lat": [
          33.43416667,
          25.79325
         ],
         "line": {
          "color": "red",
          "width": 1
         },
         "locationmode": "USA-states",
         "lon": [
          -112.00805559999999,
          -80.29055556
         ],
         "mode": "lines",
         "opacity": 0.061269146608315096,
         "type": "scattergeo"
        },
        {
         "lat": [
          37.61900194,
          25.79325
         ],
         "line": {
          "color": "red",
          "width": 1
         },
         "locationmode": "USA-states",
         "lon": [
          -122.3748433,
          -80.29055556
         ],
         "mode": "lines",
         "opacity": 0.1838074398249453,
         "type": "scattergeo"
        },
        {
         "lat": [
          18.43941667,
          25.79325
         ],
         "line": {
          "color": "red",
          "width": 1
         },
         "locationmode": "USA-states",
         "lon": [
          -66.00183333,
          -80.29055556
         ],
         "mode": "lines",
         "opacity": 0.49015317286652077,
         "type": "scattergeo"
        },
        {
         "lat": [
          36.19837222,
          25.79325
         ],
         "line": {
          "color": "red",
          "width": 1
         },
         "locationmode": "USA-states",
         "lon": [
          -95.88824167,
          -80.29055556
         ],
         "mode": "lines",
         "opacity": 0.00437636761487965,
         "type": "scattergeo"
        },
        {
         "lat": [
          41.979595,
          44.88054694
         ],
         "line": {
          "color": "red",
          "width": 1
         },
         "locationmode": "USA-states",
         "lon": [
          -87.90446417,
          -93.2169225
         ],
         "mode": "lines",
         "opacity": 0.175054704595186,
         "type": "scattergeo"
        },
        {
         "lat": [
          32.89595056,
          29.99338889
         ],
         "line": {
          "color": "red",
          "width": 1
         },
         "locationmode": "USA-states",
         "lon": [
          -97.0372,
          -90.25802778
         ],
         "mode": "lines",
         "opacity": 0.3676148796498906,
         "type": "scattergeo"
        },
        {
         "lat": [
          25.79325,
          29.99338889
         ],
         "line": {
          "color": "red",
          "width": 1
         },
         "locationmode": "USA-states",
         "lon": [
          -80.29055556,
          -90.25802778
         ],
         "mode": "lines",
         "opacity": 0.1838074398249453,
         "type": "scattergeo"
        },
        {
         "lat": [
          41.979595,
          29.99338889
         ],
         "line": {
          "color": "red",
          "width": 1
         },
         "locationmode": "USA-states",
         "lon": [
          -87.90446417,
          -90.25802778
         ],
         "mode": "lines",
         "opacity": 0.16301969365426697,
         "type": "scattergeo"
        },
        {
         "lat": [
          32.89595056,
          34.056
         ],
         "line": {
          "color": "red",
          "width": 1
         },
         "locationmode": "USA-states",
         "lon": [
          -97.0372,
          -117.60119440000001
         ],
         "mode": "lines",
         "opacity": 0.24288840262582057,
         "type": "scattergeo"
        },
        {
         "lat": [
          38.85208333,
          41.979595
         ],
         "line": {
          "color": "red",
          "width": 1
         },
         "locationmode": "USA-states",
         "lon": [
          -77.03772222,
          -87.90446417
         ],
         "mode": "lines",
         "opacity": 0.3544857768052516,
         "type": "scattergeo"
        },
        {
         "lat": [
          40.69249722,
          41.979595
         ],
         "line": {
          "color": "red",
          "width": 1
         },
         "locationmode": "USA-states",
         "lon": [
          -74.16866056,
          -87.90446417
         ],
         "mode": "lines",
         "opacity": 0.1838074398249453,
         "type": "scattergeo"
        },
        {
         "lat": [
          26.07258333,
          41.979595
         ],
         "line": {
          "color": "red",
          "width": 1
         },
         "locationmode": "USA-states",
         "lon": [
          -80.15275,
          -87.90446417
         ],
         "mode": "lines",
         "opacity": 0.1838074398249453,
         "type": "scattergeo"
        },
        {
         "lat": [
          40.48118028,
          41.979595
         ],
         "line": {
          "color": "red",
          "width": 1
         },
         "locationmode": "USA-states",
         "lon": [
          -107.21765970000001,
          -87.90446417
         ],
         "mode": "lines",
         "opacity": 0.0525164113785558,
         "type": "scattergeo"
        },
        {
         "lat": [
          21.31869111,
          41.979595
         ],
         "line": {
          "color": "red",
          "width": 1
         },
         "locationmode": "USA-states",
         "lon": [
          -157.92240719999998,
          -87.90446417
         ],
         "mode": "lines",
         "opacity": 0.05032822757111598,
         "type": "scattergeo"
        },
        {
         "lat": [
          43.60732417,
          41.979595
         ],
         "line": {
          "color": "red",
          "width": 1
         },
         "locationmode": "USA-states",
         "lon": [
          -110.7377389,
          -87.90446417
         ],
         "mode": "lines",
         "opacity": 0.061269146608315096,
         "type": "scattergeo"
        },
        {
         "lat": [
          40.63975111,
          41.979595
         ],
         "line": {
          "color": "red",
          "width": 1
         },
         "locationmode": "USA-states",
         "lon": [
          -73.77892556,
          -87.90446417
         ],
         "mode": "lines",
         "opacity": 0.061269146608315096,
         "type": "scattergeo"
        },
        {
         "lat": [
          40.77724306,
          41.979595
         ],
         "line": {
          "color": "red",
          "width": 1
         },
         "locationmode": "USA-states",
         "lon": [
          -73.87260917,
          -87.90446417
         ],
         "mode": "lines",
         "opacity": 0.9409190371991247,
         "type": "scattergeo"
        },
        {
         "lat": [
          39.29760528,
          41.979595
         ],
         "line": {
          "color": "red",
          "width": 1
         },
         "locationmode": "USA-states",
         "lon": [
          -94.71390556,
          -87.90446417
         ],
         "mode": "lines",
         "opacity": 0.23413566739606126,
         "type": "scattergeo"
        },
        {
         "lat": [
          28.42888889,
          41.979595
         ],
         "line": {
          "color": "red",
          "width": 1
         },
         "locationmode": "USA-states",
         "lon": [
          -81.31602778,
          -87.90446417
         ],
         "mode": "lines",
         "opacity": 0.24507658643326038,
         "type": "scattergeo"
        },
        {
         "lat": [
          35.87763889,
          41.979595
         ],
         "line": {
          "color": "red",
          "width": 1
         },
         "locationmode": "USA-states",
         "lon": [
          -78.78747222,
          -87.90446417
         ],
         "mode": "lines",
         "opacity": 0.17067833698030635,
         "type": "scattergeo"
        },
        {
         "lat": [
          39.49857611,
          41.979595
         ],
         "line": {
          "color": "red",
          "width": 1
         },
         "locationmode": "USA-states",
         "lon": [
          -119.76806470000001,
          -87.90446417
         ],
         "mode": "lines",
         "opacity": 0.061269146608315096,
         "type": "scattergeo"
        },
        {
         "lat": [
          32.73355611,
          41.979595
         ],
         "line": {
          "color": "red",
          "width": 1
         },
         "locationmode": "USA-states",
         "lon": [
          -117.1896567,
          -87.90446417
         ],
         "mode": "lines",
         "opacity": 0.24507658643326038,
         "type": "scattergeo"
        },
        {
         "lat": [
          29.53369444,
          41.979595
         ],
         "line": {
          "color": "red",
          "width": 1
         },
         "locationmode": "USA-states",
         "lon": [
          -98.46977778,
          -87.90446417
         ],
         "mode": "lines",
         "opacity": 0.12253829321663019,
         "type": "scattergeo"
        },
        {
         "lat": [
          37.36186194,
          41.979595
         ],
         "line": {
          "color": "red",
          "width": 1
         },
         "locationmode": "USA-states",
         "lon": [
          -121.92900890000001,
          -87.90446417
         ],
         "mode": "lines",
         "opacity": 0.12253829321663019,
         "type": "scattergeo"
        },
        {
         "lat": [
          18.43941667,
          41.979595
         ],
         "line": {
          "color": "red",
          "width": 1
         },
         "locationmode": "USA-states",
         "lon": [
          -66.00183333,
          -87.90446417
         ],
         "mode": "lines",
         "opacity": 0.12253829321663019,
         "type": "scattergeo"
        },
        {
         "lat": [
          38.74768694,
          41.979595
         ],
         "line": {
          "color": "red",
          "width": 1
         },
         "locationmode": "USA-states",
         "lon": [
          -90.35998972,
          -87.90446417
         ],
         "mode": "lines",
         "opacity": 0.5284463894967177,
         "type": "scattergeo"
        },
        {
         "lat": [
          36.19837222,
          41.979595
         ],
         "line": {
          "color": "red",
          "width": 1
         },
         "locationmode": "USA-states",
         "lon": [
          -95.88824167,
          -87.90446417
         ],
         "mode": "lines",
         "opacity": 0.061269146608315096,
         "type": "scattergeo"
        },
        {
         "lat": [
          32.11608333,
          41.979595
         ],
         "line": {
          "color": "red",
          "width": 1
         },
         "locationmode": "USA-states",
         "lon": [
          -110.94102779999999,
          -87.90446417
         ],
         "mode": "lines",
         "opacity": 0.12253829321663019,
         "type": "scattergeo"
        },
        {
         "lat": [
          32.89595056,
          36.89461111
         ],
         "line": {
          "color": "red",
          "width": 1
         },
         "locationmode": "USA-states",
         "lon": [
          -97.0372,
          -76.20122222
         ],
         "mode": "lines",
         "opacity": 0.12253829321663019,
         "type": "scattergeo"
        },
        {
         "lat": [
          32.89595056,
          26.68316194
         ],
         "line": {
          "color": "red",
          "width": 1
         },
         "locationmode": "USA-states",
         "lon": [
          -97.0372,
          -80.09559417
         ],
         "mode": "lines",
         "opacity": 0.12253829321663019,
         "type": "scattergeo"
        },
        {
         "lat": [
          41.979595,
          26.68316194
         ],
         "line": {
          "color": "red",
          "width": 1
         },
         "locationmode": "USA-states",
         "lon": [
          -87.90446417,
          -80.09559417
         ],
         "mode": "lines",
         "opacity": 0.16411378555798686,
         "type": "scattergeo"
        },
        {
         "lat": [
          32.89595056,
          45.58872222
         ],
         "line": {
          "color": "red",
          "width": 1
         },
         "locationmode": "USA-states",
         "lon": [
          -97.0372,
          -122.5975
         ],
         "mode": "lines",
         "opacity": 0.24507658643326038,
         "type": "scattergeo"
        },
        {
         "lat": [
          41.979595,
          39.87195278
         ],
         "line": {
          "color": "red",
          "width": 1
         },
         "locationmode": "USA-states",
         "lon": [
          -87.90446417,
          -75.24114083
         ],
         "mode": "lines",
         "opacity": 0.12035010940919037,
         "type": "scattergeo"
        },
        {
         "lat": [
          18.43941667,
          39.87195278
         ],
         "line": {
          "color": "red",
          "width": 1
         },
         "locationmode": "USA-states",
         "lon": [
          -66.00183333,
          -75.24114083
         ],
         "mode": "lines",
         "opacity": 0.061269146608315096,
         "type": "scattergeo"
        },
        {
         "lat": [
          41.979595,
          33.43416667
         ],
         "line": {
          "color": "red",
          "width": 1
         },
         "locationmode": "USA-states",
         "lon": [
          -87.90446417,
          -112.00805559999999
         ],
         "mode": "lines",
         "opacity": 0.3063457330415755,
         "type": "scattergeo"
        },
        {
         "lat": [
          32.89595056,
          40.49146583
         ],
         "line": {
          "color": "red",
          "width": 1
         },
         "locationmode": "USA-states",
         "lon": [
          -97.0372,
          -80.23287083
         ],
         "mode": "lines",
         "opacity": 0.18599562363238512,
         "type": "scattergeo"
        },
        {
         "lat": [
          32.89595056,
          33.82921556
         ],
         "line": {
          "color": "red",
          "width": 1
         },
         "locationmode": "USA-states",
         "lon": [
          -97.0372,
          -116.5062531
         ],
         "mode": "lines",
         "opacity": 0.1838074398249453,
         "type": "scattergeo"
        },
        {
         "lat": [
          41.979595,
          33.82921556
         ],
         "line": {
          "color": "red",
          "width": 1
         },
         "locationmode": "USA-states",
         "lon": [
          -87.90446417,
          -116.5062531
         ],
         "mode": "lines",
         "opacity": 0.0700218818380744,
         "type": "scattergeo"
        },
        {
         "lat": [
          32.89595056,
          35.87763889
         ],
         "line": {
          "color": "red",
          "width": 1
         },
         "locationmode": "USA-states",
         "lon": [
          -97.0372,
          -78.78747222
         ],
         "mode": "lines",
         "opacity": 0.3041575492341357,
         "type": "scattergeo"
        },
        {
         "lat": [
          25.79325,
          35.87763889
         ],
         "line": {
          "color": "red",
          "width": 1
         },
         "locationmode": "USA-states",
         "lon": [
          -80.29055556,
          -78.78747222
         ],
         "mode": "lines",
         "opacity": 0.1838074398249453,
         "type": "scattergeo"
        },
        {
         "lat": [
          32.89595056,
          26.53616667
         ],
         "line": {
          "color": "red",
          "width": 1
         },
         "locationmode": "USA-states",
         "lon": [
          -97.0372,
          -81.75516667
         ],
         "mode": "lines",
         "opacity": 0.1838074398249453,
         "type": "scattergeo"
        },
        {
         "lat": [
          41.979595,
          26.53616667
         ],
         "line": {
          "color": "red",
          "width": 1
         },
         "locationmode": "USA-states",
         "lon": [
          -87.90446417,
          -81.75516667
         ],
         "mode": "lines",
         "opacity": 0.1838074398249453,
         "type": "scattergeo"
        },
        {
         "lat": [
          40.63975111,
          32.73355611
         ],
         "line": {
          "color": "red",
          "width": 1
         },
         "locationmode": "USA-states",
         "lon": [
          -73.77892556,
          -117.1896567
         ],
         "mode": "lines",
         "opacity": 0.061269146608315096,
         "type": "scattergeo"
        },
        {
         "lat": [
          32.89595056,
          47.44898194
         ],
         "line": {
          "color": "red",
          "width": 1
         },
         "locationmode": "USA-states",
         "lon": [
          -97.0372,
          -122.30931310000001
         ],
         "mode": "lines",
         "opacity": 0.4288840262582057,
         "type": "scattergeo"
        },
        {
         "lat": [
          41.979595,
          47.44898194
         ],
         "line": {
          "color": "red",
          "width": 1
         },
         "locationmode": "USA-states",
         "lon": [
          -87.90446417,
          -122.30931310000001
         ],
         "mode": "lines",
         "opacity": 0.23413566739606126,
         "type": "scattergeo"
        },
        {
         "lat": [
          21.31869111,
          37.61900194
         ],
         "line": {
          "color": "red",
          "width": 1
         },
         "locationmode": "USA-states",
         "lon": [
          -157.92240719999998,
          -122.3748433
         ],
         "mode": "lines",
         "opacity": 0.061269146608315096,
         "type": "scattergeo"
        },
        {
         "lat": [
          33.94253611,
          37.61900194
         ],
         "line": {
          "color": "red",
          "width": 1
         },
         "locationmode": "USA-states",
         "lon": [
          -118.40807439999999,
          -122.3748433
         ],
         "mode": "lines",
         "opacity": 0.3676148796498906,
         "type": "scattergeo"
        },
        {
         "lat": [
          41.979595,
          37.61900194
         ],
         "line": {
          "color": "red",
          "width": 1
         },
         "locationmode": "USA-states",
         "lon": [
          -87.90446417,
          -122.3748433
         ],
         "mode": "lines",
         "opacity": 0.35667396061269147,
         "type": "scattergeo"
        },
        {
         "lat": [
          32.89595056,
          18.43941667
         ],
         "line": {
          "color": "red",
          "width": 1
         },
         "locationmode": "USA-states",
         "lon": [
          -97.0372,
          -66.00183333
         ],
         "mode": "lines",
         "opacity": 0.13129102844638948,
         "type": "scattergeo"
        },
        {
         "lat": [
          38.94453194,
          18.43941667
         ],
         "line": {
          "color": "red",
          "width": 1
         },
         "locationmode": "USA-states",
         "lon": [
          -77.45580972,
          -66.00183333
         ],
         "mode": "lines",
         "opacity": 0.061269146608315096,
         "type": "scattergeo"
        },
        {
         "lat": [
          40.63975111,
          18.43941667
         ],
         "line": {
          "color": "red",
          "width": 1
         },
         "locationmode": "USA-states",
         "lon": [
          -73.77892556,
          -66.00183333
         ],
         "mode": "lines",
         "opacity": 0.1838074398249453,
         "type": "scattergeo"
        },
        {
         "lat": [
          33.94253611,
          18.43941667
         ],
         "line": {
          "color": "red",
          "width": 1
         },
         "locationmode": "USA-states",
         "lon": [
          -118.40807439999999,
          -66.00183333
         ],
         "mode": "lines",
         "opacity": 0.0175054704595186,
         "type": "scattergeo"
        },
        {
         "lat": [
          32.89595056,
          38.69542167
         ],
         "line": {
          "color": "red",
          "width": 1
         },
         "locationmode": "USA-states",
         "lon": [
          -97.0372,
          -121.5907669
         ],
         "mode": "lines",
         "opacity": 0.24507658643326038,
         "type": "scattergeo"
        },
        {
         "lat": [
          32.89595056,
          33.67565861
         ],
         "line": {
          "color": "red",
          "width": 1
         },
         "locationmode": "USA-states",
         "lon": [
          -97.0372,
          -117.86822250000002
         ],
         "mode": "lines",
         "opacity": 0.6323851203501094,
         "type": "scattergeo"
        },
        {
         "lat": [
          41.979595,
          33.67565861
         ],
         "line": {
          "color": "red",
          "width": 1
         },
         "locationmode": "USA-states",
         "lon": [
          -87.90446417,
          -117.86822250000002
         ],
         "mode": "lines",
         "opacity": 0.16630196936542668,
         "type": "scattergeo"
        },
        {
         "lat": [
          38.85208333,
          38.74768694
         ],
         "line": {
          "color": "red",
          "width": 1
         },
         "locationmode": "USA-states",
         "lon": [
          -77.03772222,
          -90.35998972
         ],
         "mode": "lines",
         "opacity": 0.2188183807439825,
         "type": "scattergeo"
        },
        {
         "lat": [
          25.79325,
          38.74768694
         ],
         "line": {
          "color": "red",
          "width": 1
         },
         "locationmode": "USA-states",
         "lon": [
          -80.29055556,
          -90.35998972
         ],
         "mode": "lines",
         "opacity": 0.1838074398249453,
         "type": "scattergeo"
        },
        {
         "lat": [
          25.79325,
          18.33730556
         ],
         "line": {
          "color": "red",
          "width": 1
         },
         "locationmode": "USA-states",
         "lon": [
          -80.29055556,
          -64.97336111
         ],
         "mode": "lines",
         "opacity": 0.12253829321663019,
         "type": "scattergeo"
        },
        {
         "lat": [
          25.79325,
          17.70188889
         ],
         "line": {
          "color": "red",
          "width": 1
         },
         "locationmode": "USA-states",
         "lon": [
          -80.29055556,
          -64.79855556
         ],
         "mode": "lines",
         "opacity": 0.06783369803063458,
         "type": "scattergeo"
        },
        {
         "lat": [
          32.89595056,
          27.97547222
         ],
         "line": {
          "color": "red",
          "width": 1
         },
         "locationmode": "USA-states",
         "lon": [
          -97.0372,
          -82.53325
         ],
         "mode": "lines",
         "opacity": 0.4288840262582057,
         "type": "scattergeo"
        },
        {
         "lat": [
          25.79325,
          27.97547222
         ],
         "line": {
          "color": "red",
          "width": 1
         },
         "locationmode": "USA-states",
         "lon": [
          -80.29055556,
          -82.53325
         ],
         "mode": "lines",
         "opacity": 0.32603938730853393,
         "type": "scattergeo"
        },
        {
         "lat": [
          41.979595,
          27.97547222
         ],
         "line": {
          "color": "red",
          "width": 1
         },
         "locationmode": "USA-states",
         "lon": [
          -87.90446417,
          -82.53325
         ],
         "mode": "lines",
         "opacity": 0.16411378555798686,
         "type": "scattergeo"
        },
        {
         "lat": [
          18.43941667,
          27.97547222
         ],
         "line": {
          "color": "red",
          "width": 1
         },
         "locationmode": "USA-states",
         "lon": [
          -66.00183333,
          -82.53325
         ],
         "mode": "lines",
         "opacity": 0.061269146608315096,
         "type": "scattergeo"
        },
        {
         "lat": [
          32.89595056,
          36.19837222
         ],
         "line": {
          "color": "red",
          "width": 1
         },
         "locationmode": "USA-states",
         "lon": [
          -97.0372,
          -95.88824167
         ],
         "mode": "lines",
         "opacity": 0.42669584245076586,
         "type": "scattergeo"
        },
        {
         "lat": [
          32.89595056,
          32.11608333
         ],
         "line": {
          "color": "red",
          "width": 1
         },
         "locationmode": "USA-states",
         "lon": [
          -97.0372,
          -110.94102779999999
         ],
         "mode": "lines",
         "opacity": 0.45842450765864334,
         "type": "scattergeo"
        },
        {
         "hoverinfo": "text",
         "lat": [
          41.979595,
          33.64044444,
          32.89595056,
          33.43416667,
          39.85840806,
          29.98047222,
          37.61900194,
          33.94253611,
          28.42888889,
          35.21401111,
          40.78838778,
          27.97547222,
          40.69249722,
          36.08036111,
          39.87195278,
          44.88054694,
          47.44898194,
          40.77724306,
          41.7859825,
          38.94453194,
          32.73355611,
          38.74768694,
          42.21205889,
          40.63975111,
          25.79325,
          42.3643475,
          38.69542167,
          39.17540167,
          33.67565861,
          29.99338889,
          37.36186194,
          38.85208333,
          45.58872222,
          26.53616667,
          26.68316194,
          35.87763889,
          29.64541861,
          29.53369444,
          26.07258333,
          39.29760528,
          37.72129083,
          40.49146583,
          35.04241667,
          42.94722222,
          41.41089417,
          30.49405556,
          32.11608333,
          39.71732917,
          39.49857611,
          35.39308833,
          41.72399917,
          36.19837222,
          39.04614278,
          39.99798528,
          38.17438889,
          34.056,
          34.72939611,
          32.84711389,
          41.30251861,
          36.89461111,
          39.90237583,
          43.11886611,
          36.28186944,
          36.12447667,
          35.04022222,
          32.31116667,
          31.80666667,
          37.50516667,
          41.93887417,
          31.94252778,
          30.53316083,
          35.81248722,
          38.80580556,
          30.47330556,
          43.11118694,
          33.56294306,
          42.93451639,
          33.82921556,
          27.39533333,
          27.77036083,
          34.6404475,
          33.93884,
          30.20527972,
          34.42621194,
          47.61985556,
          30.69141667,
          37.64995889,
          42.94052472,
          41.53493306,
          40.19349528,
          43.64616667,
          32.30064417,
          37.13189556,
          41.06695778,
          36.5869825,
          42.88081972,
          30.448674,
          32.65658333,
          39.22316,
          30.39652778,
          30.40728028,
          44.04532139,
          33.81772222,
          34.27061111,
          38.03697222,
          43.13985778,
          44.123259999999995,
          32.12758333,
          33.66363889,
          41.88458833,
          34.89566722,
          36.09774694,
          40.7952425,
          41.44852639,
          35.43619444,
          40.91631194,
          40.47798556,
          26.22850611,
          30.48325,
          32.446627500000005,
          46.91934889,
          40.48118028,
          42.37422778,
          40.66424333,
          27.54373861,
          30.19453278,
          32.41132,
          37.24432611,
          42.96550333,
          36.47521417,
          31.06489778,
          32.89864639,
          44.48507333,
          44.25406722,
          32.51633333,
          41.70895361,
          43.56444444,
          33.67975,
          48.25937778,
          40.03925,
          37.32546833,
          39.64256778,
          43.60732417,
          45.77690139,
          39.1224125,
          34.20061917,
          38.03799139,
          38.53396333,
          43.51455556,
          36.77619444,
          39.84395194,
          26.17583333,
          40.50898361,
          47.949255,
          43.58135111,
          42.48180389,
          34.89924833,
          42.91130556,
          31.32133917,
          34.82916444,
          38.50886722,
          46.77411111,
          42.90835556,
          44.74144472,
          32.51086556,
          46.26468028,
          39.14096722,
          31.32737167,
          43.41713889,
          35.61677778,
          42.15614361,
          41.50409361,
          38.13863889,
          30.7825,
          44.77761917,
          35.65884306,
          40.97811528,
          31.25902778,
          40.85097222,
          40.97846583,
          44.52019417,
          37.06083333,
          35.23705806,
          41.33814944,
          33.45033444,
          44.34889806,
          35.07297222,
          33.369955,
          35.33659028,
          32.35413889,
          46.60681806,
          47.48200194,
          32.33313333,
          46.353639,
          37.95375861,
          35.03526833,
          46.37449806,
          37.70097028,
          42.74811944,
          44.47300361,
          48.31140472,
          28.10275,
          29.17991667,
          40.65236278,
          46.84209028,
          41.155722499999996,
          41.5942175,
          37.85830556,
          38.37315083,
          48.79275,
          37.62404861,
          44.25740806,
          36.385913,
          27.91076333,
          33.98879611,
          34.99147222,
          44.86525722,
          42.40295944,
          43.90882639,
          34.681499,
          45.8076625
         ],
         "locationmode": "USA-states",
         "lon": [
          -87.90446417,
          -84.42694444,
          -97.0372,
          -112.00805559999999,
          -104.6670019,
          -95.33972222,
          -122.3748433,
          -118.40807439999999,
          -81.31602778,
          -80.94312583,
          -111.9777731,
          -82.53325,
          -74.16866056,
          -115.15233329999998,
          -75.24114083,
          -93.2169225,
          -122.30931310000001,
          -73.87260917,
          -87.75242444,
          -77.45580972,
          -117.1896567,
          -90.35998972,
          -83.34883583,
          -73.77892556,
          -80.29055556,
          -71.00517917,
          -121.5907669,
          -76.66819833,
          -117.86822250000002,
          -90.25802778,
          -121.92900890000001,
          -77.03772222,
          -122.5975,
          -81.75516667,
          -80.09559417,
          -78.78747222,
          -95.27888889,
          -98.46977778,
          -80.15275,
          -94.71390556,
          -122.22071670000001,
          -80.23287083,
          -89.97666667,
          -87.89658333,
          -81.84939667,
          -81.68786111,
          -110.94102779999999,
          -86.29438417,
          -119.76806470000001,
          -97.60073389,
          -71.42822111,
          -95.88824167,
          -84.6621725,
          -82.89188278,
          -85.736,
          -117.60119440000001,
          -92.22424556,
          -96.85177222,
          -95.89417306,
          -76.20122222,
          -84.219375,
          -77.67238389,
          -94.30681111,
          -86.67818222,
          -106.6091944,
          -90.07588889,
          -106.37780559999999,
          -77.31966667,
          -72.68322833,
          -102.20191390000001,
          -91.14963444,
          -83.99285583,
          -104.70025,
          -87.18744444,
          -76.10631056,
          -86.75354972,
          -71.43705583,
          -116.5062531,
          -82.55411111,
          -97.50121528,
          -86.77310944,
          -81.11953944,
          -91.987655,
          -119.8403733,
          -117.5338425,
          -88.24283333,
          -97.43304583,
          -78.73216667,
          -93.66068222,
          -76.76340361,
          -70.30875,
          -86.39397611,
          -76.4929875,
          -73.70757444,
          -121.84294779999999,
          -85.52276778,
          -84.550781,
          -114.60597220000001,
          -106.868845,
          -84.35033333,
          -89.07009278,
          -103.0573708,
          -118.1516111,
          -77.90255556,
          -84.60538889,
          -89.33751361,
          -123.21868559999999,
          -81.20213889,
          -101.8227778,
          -91.71087222,
          -82.21885833,
          -79.9372975,
          -73.10021194,
          -90.50753917,
          -82.54180556,
          -81.44246556,
          -88.91595278,
          -97.65439389,
          -86.5254,
          -93.82559833,
          -96.81498889,
          -107.21765970000001,
          -122.8734978,
          -89.69330556,
          -99.46154361,
          -97.66987194,
          -99.68189722,
          -93.38685806,
          -83.74345639,
          -82.40742056,
          -97.82779778,
          -80.04050583,
          -88.12959000000001,
          -121.1499633,
          -84.93886111,
          -86.31847417,
          -116.22277779999999,
          -78.92833333,
          -101.2803339,
          -88.27805556,
          -79.97542833,
          -106.91769529999999,
          -110.7377389,
          -111.15300719999999,
          -108.5267347,
          -118.3584969,
          -87.53062667,
          -106.9331817,
          -112.07016670000002,
          -119.7181389,
          -89.67761861,
          -98.23861111,
          -122.2934019,
          -97.17611111,
          -96.74170028,
          -114.4877356,
          -120.4575825,
          -112.59586110000001,
          -85.44962889,
          -77.61213778,
          -107.89383329999998,
          -100.74672220000001,
          -106.46446609999998,
          -85.582235,
          -92.03768778,
          -119.11902920000001,
          -96.67083278,
          -92.54855611,
          -124.2460278,
          -106.08813889999999,
          -121.7332081,
          -74.10483833,
          -78.45286111,
          -83.27672222,
          -89.66677944,
          -117.8295122,
          -124.1086189,
          -81.46630556,
          -96.75925,
          -85.19514639,
          -109.02379609999998,
          -88.77375,
          -120.64239309999999,
          -75.72426750000001,
          -88.59136861,
          -105.5393614,
          -77.04294444,
          -81.96449611,
          -94.36744111,
          -95.40238611,
          -111.9827503,
          -111.37068529999999,
          -88.75120556,
          -87.395361,
          -107.90848000000001,
          -85.20378778,
          -117.01539440000002,
          -113.098575,
          -73.80297861,
          -73.1503125,
          -114.25506940000001,
          -80.64580556,
          -81.05805556,
          -75.44040167,
          -92.19364861,
          -104.81183809999999,
          -109.0651928,
          -80.39947222,
          -81.59318972,
          -122.53752779999999,
          -118.8377722,
          -88.51947556,
          -92.548828,
          -82.68743944,
          -98.49189333,
          -78.88,
          -91.48507194,
          -90.70916722,
          -92.49798722,
          -90.348816,
          -108.54286110000001
         ],
         "marker": {
          "color": "rgb(255, 0, 0)",
          "line": {
           "color": "rgba(68, 68, 68, 0)",
           "width": 3
          },
          "size": 2
         },
         "mode": "markers",
         "text": [
          "Chicago O'Hare International",
          "William B Hartsfield-Atlanta Intl",
          "Dallas-Fort Worth International",
          "Phoenix Sky Harbor International",
          "Denver Intl",
          "George Bush Intercontinental",
          "San Francisco International",
          "Los Angeles International",
          "Orlando International",
          "Charlotte/Douglas International",
          "Salt Lake City Intl",
          "Tampa International ",
          "Newark Intl",
          "McCarran International",
          "Philadelphia Intl",
          "Minneapolis-St Paul Intl",
          "Seattle-Tacoma Intl",
          "LaGuardia",
          "Chicago Midway",
          "Washington Dulles International",
          "San Diego International-Lindbergh ",
          "Lambert-St Louis International",
          "Detroit Metropolitan-Wayne County",
          "John F Kennedy Intl",
          "Miami International",
          "Gen Edw L Logan Intl",
          "Sacramento International",
          "Baltimore-Washington International",
          "John Wayne /Orange Co",
          "New Orleans International ",
          "San Jose International",
          "Ronald Reagan Washington National",
          "Portland Intl",
          "Southwest Florida International",
          "Palm Beach International",
          "Raleigh-Durham International",
          "William P Hobby",
          "San Antonio International",
          "Fort Lauderdale-Hollywood Int'l",
          "Kansas City International",
          "Metropolitan Oakland International",
          "Pittsburgh International",
          "Memphis International",
          "General Mitchell International",
          "Cleveland-Hopkins Intl",
          "Jacksonville International",
          "Tucson International",
          "Indianapolis International",
          "Reno/Tahoe International",
          "Will Rogers World",
          "Theodore F Green State",
          "Tulsa International",
          "Cincinnati Northern Kentucky Intl",
          "Port Columbus Intl",
          "Louisville International-Standiford ",
          "Ontario International",
          "Adams ",
          "Dallas Love ",
          "Eppley Airfield",
          "Norfolk International",
          "James M Cox Dayton Intl",
          "Greater Rochester Int'l",
          "Northwest Arkansas Regional",
          "Nashville International",
          "Albuquerque International",
          "Jackson International",
          "El Paso International",
          "Richmond International",
          "Bradley International",
          "Midland International",
          "Baton Rouge Metropolitan, Ryan ",
          "McGhee-Tyson",
          "City of Colorado Springs Muni",
          "Pensacola Regional",
          "Syracuse-Hancock Intl",
          "Birmingham International",
          "Manchester",
          "Palm Springs International",
          "Sarasota Bradenton International",
          "Corpus Christi International",
          "Huntsville International ",
          "Columbia Metropolitan",
          "Lafayette Regional",
          "Santa Barbara Municipal",
          "Spokane Intl",
          "Mobile Regional",
          "Wichita Mid-Continent",
          "Buffalo Niagara Intl",
          "Des Moines International",
          "Harrisburg Intl",
          "Portland International Jetport",
          "Montgomery Regional Apt",
          "Newport News/Williamsburg International",
          "Westchester Cty",
          "Monterey Peninsula",
          "Kent County International",
          "Florida Beach",
          "Yuma MCAS-Yuma International",
          "Aspen-Pitkin Co/Sardy ",
          "Tallahassee Regional",
          "Gulfport-Biloxi Regional",
          "Rapid City Regional",
          "Long Beach (Daugherty )",
          "Wilmington International",
          "Blue Grass ",
          "Dane County Regional",
          "Mahlon Sweet ",
          "Savannah International",
          "Lubbock International",
          "Eastern Iowa ",
          "Greenville-Spartanburg",
          "Piedmont Triad International",
          "Long Island - MacArthur",
          "Quad City",
          "Asheville Regional",
          "Akron-Canton Regional",
          "Central Illinois Regional",
          "Valley International",
          "Eglin Air Force Base",
          "Shreveport Regional",
          "Hector International",
          "Yampa Valley",
          "Rogue Valley International",
          "Greater Peoria Regional",
          "Laredo International",
          "Austin-Bergstrom International",
          "Abilene Regional",
          "Springfield-Branson Regional",
          "Bishop",
          "Tri-Cities Regional",
          "Robert Gray AAF",
          "Charleston AFB/International",
          "Austin Straubel International",
          "Roberts ",
          "Columbus Metropolitan",
          "South Bend Regional",
          "Boise Air Terminal",
          "Myrtle Beach International",
          "Minot International",
          "University of Illinois-Willard",
          "Roanoke Regional/ Woodrum ",
          "Eagle County Regional",
          "Jackson Hole",
          "Gallatin ",
          "Walker ",
          "Burbank-Glendale-Pasadena",
          "Evansville Regional",
          "Gunnison County",
          "Idaho Falls Regional",
          "Fresno Yosemite International",
          "Capital",
          "McAllen Miller International",
          "Redding Municipal",
          "Grand Forks International",
          "Joe Foss ",
          "Joslin Field - Magic Valley",
          "Santa Maria Pub/Capt G Allan Hancock ",
          "Pocatello Regional",
          "Dothan ",
          "Albert J Ellis",
          "Montrose Regional",
          "Bismarck Municipal",
          "Natrona County Intl",
          "Cherry Capital",
          "Monroe Regional",
          "Tri-Cities",
          "Manhattan Regional",
          "Alexandria International",
          "North Bend Muni",
          "Santa Fe Municipal",
          "Klamath Falls International",
          "Stewart",
          "Charlottesville-Albermarle",
          "Valdosta Regional",
          "Central Wisconsin",
          "Inyokern",
          "Arcata",
          "Glynco Jetport",
          "Lincoln Municipal",
          "Fort Wayne International",
          "Yellowstone Regional",
          "Barkley Regional",
          "San Luis Obispo Co-McChesney ",
          "Wilkes-Barre/Scranton Intl",
          "Golden Triangle Regional",
          "Gillette-Campbell County",
          "Craven County Regional",
          "Bush ",
          "Fort Smith Regional",
          "Tyler Pounds ",
          "Helena Regional",
          "Great Falls Intl",
          "Key ",
          "Marquette County Airport",
          "Telluride Regional",
          "Lovell ",
          "Lewiston-Nez Perce County",
          "Cedar City Muni",
          "Albany Cty",
          "Burlington International",
          "Glacier Park Intl",
          "Melbourne International ",
          "Daytona Beach International",
          "Lehigh Valley International",
          "Duluth International",
          "Cheyenne",
          "Rock Springs-Sweetwater County",
          "Greenbrier Valley",
          "Yeager",
          "Bellingham Intl",
          "Mammoth Yosemite",
          "Outagamie County Regional",
          "Branson Airport",
          "St. Petersburg-Clearwater International",
          "Sheppard AFB/Wichita Falls Municipal",
          "Fayetteville Municipal",
          "Chippewa Valley Regional",
          "Dubuque Municipal",
          "Rochester International",
          "Tunica Municipal Airport",
          "Billings Logan Intl"
         ],
         "type": "scattergeo"
        }
       ],
       "layout": {
        "geo": {
         "countrycolor": "rgb(204, 204, 204)",
         "landcolor": "rgb(243, 243, 243)",
         "projection": {
          "type": "azimuthal equal area"
         },
         "scope": "north america",
         "showland": true
        },
        "height": 800,
        "showlegend": false,
        "template": {
         "data": {
          "bar": [
           {
            "error_x": {
             "color": "#2a3f5f"
            },
            "error_y": {
             "color": "#2a3f5f"
            },
            "marker": {
             "line": {
              "color": "#E5ECF6",
              "width": 0.5
             }
            },
            "type": "bar"
           }
          ],
          "barpolar": [
           {
            "marker": {
             "line": {
              "color": "#E5ECF6",
              "width": 0.5
             }
            },
            "type": "barpolar"
           }
          ],
          "carpet": [
           {
            "aaxis": {
             "endlinecolor": "#2a3f5f",
             "gridcolor": "white",
             "linecolor": "white",
             "minorgridcolor": "white",
             "startlinecolor": "#2a3f5f"
            },
            "baxis": {
             "endlinecolor": "#2a3f5f",
             "gridcolor": "white",
             "linecolor": "white",
             "minorgridcolor": "white",
             "startlinecolor": "#2a3f5f"
            },
            "type": "carpet"
           }
          ],
          "choropleth": [
           {
            "colorbar": {
             "outlinewidth": 0,
             "ticks": ""
            },
            "type": "choropleth"
           }
          ],
          "contour": [
           {
            "colorbar": {
             "outlinewidth": 0,
             "ticks": ""
            },
            "colorscale": [
             [
              0,
              "#0d0887"
             ],
             [
              0.1111111111111111,
              "#46039f"
             ],
             [
              0.2222222222222222,
              "#7201a8"
             ],
             [
              0.3333333333333333,
              "#9c179e"
             ],
             [
              0.4444444444444444,
              "#bd3786"
             ],
             [
              0.5555555555555556,
              "#d8576b"
             ],
             [
              0.6666666666666666,
              "#ed7953"
             ],
             [
              0.7777777777777778,
              "#fb9f3a"
             ],
             [
              0.8888888888888888,
              "#fdca26"
             ],
             [
              1,
              "#f0f921"
             ]
            ],
            "type": "contour"
           }
          ],
          "contourcarpet": [
           {
            "colorbar": {
             "outlinewidth": 0,
             "ticks": ""
            },
            "type": "contourcarpet"
           }
          ],
          "heatmap": [
           {
            "colorbar": {
             "outlinewidth": 0,
             "ticks": ""
            },
            "colorscale": [
             [
              0,
              "#0d0887"
             ],
             [
              0.1111111111111111,
              "#46039f"
             ],
             [
              0.2222222222222222,
              "#7201a8"
             ],
             [
              0.3333333333333333,
              "#9c179e"
             ],
             [
              0.4444444444444444,
              "#bd3786"
             ],
             [
              0.5555555555555556,
              "#d8576b"
             ],
             [
              0.6666666666666666,
              "#ed7953"
             ],
             [
              0.7777777777777778,
              "#fb9f3a"
             ],
             [
              0.8888888888888888,
              "#fdca26"
             ],
             [
              1,
              "#f0f921"
             ]
            ],
            "type": "heatmap"
           }
          ],
          "heatmapgl": [
           {
            "colorbar": {
             "outlinewidth": 0,
             "ticks": ""
            },
            "colorscale": [
             [
              0,
              "#0d0887"
             ],
             [
              0.1111111111111111,
              "#46039f"
             ],
             [
              0.2222222222222222,
              "#7201a8"
             ],
             [
              0.3333333333333333,
              "#9c179e"
             ],
             [
              0.4444444444444444,
              "#bd3786"
             ],
             [
              0.5555555555555556,
              "#d8576b"
             ],
             [
              0.6666666666666666,
              "#ed7953"
             ],
             [
              0.7777777777777778,
              "#fb9f3a"
             ],
             [
              0.8888888888888888,
              "#fdca26"
             ],
             [
              1,
              "#f0f921"
             ]
            ],
            "type": "heatmapgl"
           }
          ],
          "histogram": [
           {
            "marker": {
             "colorbar": {
              "outlinewidth": 0,
              "ticks": ""
             }
            },
            "type": "histogram"
           }
          ],
          "histogram2d": [
           {
            "colorbar": {
             "outlinewidth": 0,
             "ticks": ""
            },
            "colorscale": [
             [
              0,
              "#0d0887"
             ],
             [
              0.1111111111111111,
              "#46039f"
             ],
             [
              0.2222222222222222,
              "#7201a8"
             ],
             [
              0.3333333333333333,
              "#9c179e"
             ],
             [
              0.4444444444444444,
              "#bd3786"
             ],
             [
              0.5555555555555556,
              "#d8576b"
             ],
             [
              0.6666666666666666,
              "#ed7953"
             ],
             [
              0.7777777777777778,
              "#fb9f3a"
             ],
             [
              0.8888888888888888,
              "#fdca26"
             ],
             [
              1,
              "#f0f921"
             ]
            ],
            "type": "histogram2d"
           }
          ],
          "histogram2dcontour": [
           {
            "colorbar": {
             "outlinewidth": 0,
             "ticks": ""
            },
            "colorscale": [
             [
              0,
              "#0d0887"
             ],
             [
              0.1111111111111111,
              "#46039f"
             ],
             [
              0.2222222222222222,
              "#7201a8"
             ],
             [
              0.3333333333333333,
              "#9c179e"
             ],
             [
              0.4444444444444444,
              "#bd3786"
             ],
             [
              0.5555555555555556,
              "#d8576b"
             ],
             [
              0.6666666666666666,
              "#ed7953"
             ],
             [
              0.7777777777777778,
              "#fb9f3a"
             ],
             [
              0.8888888888888888,
              "#fdca26"
             ],
             [
              1,
              "#f0f921"
             ]
            ],
            "type": "histogram2dcontour"
           }
          ],
          "mesh3d": [
           {
            "colorbar": {
             "outlinewidth": 0,
             "ticks": ""
            },
            "type": "mesh3d"
           }
          ],
          "parcoords": [
           {
            "line": {
             "colorbar": {
              "outlinewidth": 0,
              "ticks": ""
             }
            },
            "type": "parcoords"
           }
          ],
          "pie": [
           {
            "automargin": true,
            "type": "pie"
           }
          ],
          "scatter": [
           {
            "marker": {
             "colorbar": {
              "outlinewidth": 0,
              "ticks": ""
             }
            },
            "type": "scatter"
           }
          ],
          "scatter3d": [
           {
            "line": {
             "colorbar": {
              "outlinewidth": 0,
              "ticks": ""
             }
            },
            "marker": {
             "colorbar": {
              "outlinewidth": 0,
              "ticks": ""
             }
            },
            "type": "scatter3d"
           }
          ],
          "scattercarpet": [
           {
            "marker": {
             "colorbar": {
              "outlinewidth": 0,
              "ticks": ""
             }
            },
            "type": "scattercarpet"
           }
          ],
          "scattergeo": [
           {
            "marker": {
             "colorbar": {
              "outlinewidth": 0,
              "ticks": ""
             }
            },
            "type": "scattergeo"
           }
          ],
          "scattergl": [
           {
            "marker": {
             "colorbar": {
              "outlinewidth": 0,
              "ticks": ""
             }
            },
            "type": "scattergl"
           }
          ],
          "scattermapbox": [
           {
            "marker": {
             "colorbar": {
              "outlinewidth": 0,
              "ticks": ""
             }
            },
            "type": "scattermapbox"
           }
          ],
          "scatterpolar": [
           {
            "marker": {
             "colorbar": {
              "outlinewidth": 0,
              "ticks": ""
             }
            },
            "type": "scatterpolar"
           }
          ],
          "scatterpolargl": [
           {
            "marker": {
             "colorbar": {
              "outlinewidth": 0,
              "ticks": ""
             }
            },
            "type": "scatterpolargl"
           }
          ],
          "scatterternary": [
           {
            "marker": {
             "colorbar": {
              "outlinewidth": 0,
              "ticks": ""
             }
            },
            "type": "scatterternary"
           }
          ],
          "surface": [
           {
            "colorbar": {
             "outlinewidth": 0,
             "ticks": ""
            },
            "colorscale": [
             [
              0,
              "#0d0887"
             ],
             [
              0.1111111111111111,
              "#46039f"
             ],
             [
              0.2222222222222222,
              "#7201a8"
             ],
             [
              0.3333333333333333,
              "#9c179e"
             ],
             [
              0.4444444444444444,
              "#bd3786"
             ],
             [
              0.5555555555555556,
              "#d8576b"
             ],
             [
              0.6666666666666666,
              "#ed7953"
             ],
             [
              0.7777777777777778,
              "#fb9f3a"
             ],
             [
              0.8888888888888888,
              "#fdca26"
             ],
             [
              1,
              "#f0f921"
             ]
            ],
            "type": "surface"
           }
          ],
          "table": [
           {
            "cells": {
             "fill": {
              "color": "#EBF0F8"
             },
             "line": {
              "color": "white"
             }
            },
            "header": {
             "fill": {
              "color": "#C8D4E3"
             },
             "line": {
              "color": "white"
             }
            },
            "type": "table"
           }
          ]
         },
         "layout": {
          "annotationdefaults": {
           "arrowcolor": "#2a3f5f",
           "arrowhead": 0,
           "arrowwidth": 1
          },
          "autotypenumbers": "strict",
          "coloraxis": {
           "colorbar": {
            "outlinewidth": 0,
            "ticks": ""
           }
          },
          "colorscale": {
           "diverging": [
            [
             0,
             "#8e0152"
            ],
            [
             0.1,
             "#c51b7d"
            ],
            [
             0.2,
             "#de77ae"
            ],
            [
             0.3,
             "#f1b6da"
            ],
            [
             0.4,
             "#fde0ef"
            ],
            [
             0.5,
             "#f7f7f7"
            ],
            [
             0.6,
             "#e6f5d0"
            ],
            [
             0.7,
             "#b8e186"
            ],
            [
             0.8,
             "#7fbc41"
            ],
            [
             0.9,
             "#4d9221"
            ],
            [
             1,
             "#276419"
            ]
           ],
           "sequential": [
            [
             0,
             "#0d0887"
            ],
            [
             0.1111111111111111,
             "#46039f"
            ],
            [
             0.2222222222222222,
             "#7201a8"
            ],
            [
             0.3333333333333333,
             "#9c179e"
            ],
            [
             0.4444444444444444,
             "#bd3786"
            ],
            [
             0.5555555555555556,
             "#d8576b"
            ],
            [
             0.6666666666666666,
             "#ed7953"
            ],
            [
             0.7777777777777778,
             "#fb9f3a"
            ],
            [
             0.8888888888888888,
             "#fdca26"
            ],
            [
             1,
             "#f0f921"
            ]
           ],
           "sequentialminus": [
            [
             0,
             "#0d0887"
            ],
            [
             0.1111111111111111,
             "#46039f"
            ],
            [
             0.2222222222222222,
             "#7201a8"
            ],
            [
             0.3333333333333333,
             "#9c179e"
            ],
            [
             0.4444444444444444,
             "#bd3786"
            ],
            [
             0.5555555555555556,
             "#d8576b"
            ],
            [
             0.6666666666666666,
             "#ed7953"
            ],
            [
             0.7777777777777778,
             "#fb9f3a"
            ],
            [
             0.8888888888888888,
             "#fdca26"
            ],
            [
             1,
             "#f0f921"
            ]
           ]
          },
          "colorway": [
           "#636efa",
           "#EF553B",
           "#00cc96",
           "#ab63fa",
           "#FFA15A",
           "#19d3f3",
           "#FF6692",
           "#B6E880",
           "#FF97FF",
           "#FECB52"
          ],
          "font": {
           "color": "#2a3f5f"
          },
          "geo": {
           "bgcolor": "white",
           "lakecolor": "white",
           "landcolor": "#E5ECF6",
           "showlakes": true,
           "showland": true,
           "subunitcolor": "white"
          },
          "hoverlabel": {
           "align": "left"
          },
          "hovermode": "closest",
          "mapbox": {
           "style": "light"
          },
          "paper_bgcolor": "white",
          "plot_bgcolor": "#E5ECF6",
          "polar": {
           "angularaxis": {
            "gridcolor": "white",
            "linecolor": "white",
            "ticks": ""
           },
           "bgcolor": "#E5ECF6",
           "radialaxis": {
            "gridcolor": "white",
            "linecolor": "white",
            "ticks": ""
           }
          },
          "scene": {
           "xaxis": {
            "backgroundcolor": "#E5ECF6",
            "gridcolor": "white",
            "gridwidth": 2,
            "linecolor": "white",
            "showbackground": true,
            "ticks": "",
            "zerolinecolor": "white"
           },
           "yaxis": {
            "backgroundcolor": "#E5ECF6",
            "gridcolor": "white",
            "gridwidth": 2,
            "linecolor": "white",
            "showbackground": true,
            "ticks": "",
            "zerolinecolor": "white"
           },
           "zaxis": {
            "backgroundcolor": "#E5ECF6",
            "gridcolor": "white",
            "gridwidth": 2,
            "linecolor": "white",
            "showbackground": true,
            "ticks": "",
            "zerolinecolor": "white"
           }
          },
          "shapedefaults": {
           "line": {
            "color": "#2a3f5f"
           }
          },
          "ternary": {
           "aaxis": {
            "gridcolor": "white",
            "linecolor": "white",
            "ticks": ""
           },
           "baxis": {
            "gridcolor": "white",
            "linecolor": "white",
            "ticks": ""
           },
           "bgcolor": "#E5ECF6",
           "caxis": {
            "gridcolor": "white",
            "linecolor": "white",
            "ticks": ""
           }
          },
          "title": {
           "x": 0.05
          },
          "xaxis": {
           "automargin": true,
           "gridcolor": "white",
           "linecolor": "white",
           "ticks": "",
           "title": {
            "standoff": 15
           },
           "zerolinecolor": "white",
           "zerolinewidth": 2
          },
          "yaxis": {
           "automargin": true,
           "gridcolor": "white",
           "linecolor": "white",
           "ticks": "",
           "title": {
            "standoff": 15
           },
           "zerolinecolor": "white",
           "zerolinewidth": 2
          }
         }
        },
        "title": {
         "text": "Feb. 2011 American Airline flight paths<br>(Hover for airport names)"
        }
       }
      },
      "text/html": "<div>                            <div id=\"d57038f1-4256-4d20-bf33-dc9a39f940c2\" class=\"plotly-graph-div\" style=\"height:800px; width:100%;\"></div>            <script type=\"text/javascript\">                require([\"plotly\"], function(Plotly) {                    window.PLOTLYENV=window.PLOTLYENV || {};                                    if (document.getElementById(\"d57038f1-4256-4d20-bf33-dc9a39f940c2\")) {                    Plotly.newPlot(                        \"d57038f1-4256-4d20-bf33-dc9a39f940c2\",                        [{\"lat\": [32.89595056, 35.04022222], \"line\": {\"color\": \"red\", \"width\": 1}, \"locationmode\": \"USA-states\", \"lon\": [-97.0372, -106.6091944], \"mode\": \"lines\", \"opacity\": 0.48577680525164113, \"type\": \"scattergeo\"}, {\"lat\": [41.979595, 30.19453278], \"line\": {\"color\": \"red\", \"width\": 1}, \"locationmode\": \"USA-states\", \"lon\": [-87.90446417, -97.66987194], \"mode\": \"lines\", \"opacity\": 0.18161925601750548, \"type\": \"scattergeo\"}, {\"lat\": [32.89595056, 41.93887417], \"line\": {\"color\": \"red\", \"width\": 1}, \"locationmode\": \"USA-states\", \"lon\": [-97.0372, -72.68322833], \"mode\": \"lines\", \"opacity\": 0.1772428884026258, \"type\": \"scattergeo\"}, {\"lat\": [18.43941667, 41.93887417], \"line\": {\"color\": \"red\", \"width\": 1}, \"locationmode\": \"USA-states\", \"lon\": [-66.00183333, -72.68322833], \"mode\": \"lines\", \"opacity\": 0.061269146608315096, \"type\": \"scattergeo\"}, {\"lat\": [32.89595056, 33.56294306], \"line\": {\"color\": \"red\", \"width\": 1}, \"locationmode\": \"USA-states\", \"lon\": [-97.0372, -86.75354972], \"mode\": \"lines\", \"opacity\": 0.1838074398249453, \"type\": \"scattergeo\"}, {\"lat\": [25.79325, 36.12447667], \"line\": {\"color\": \"red\", \"width\": 1}, \"locationmode\": \"USA-states\", \"lon\": [-80.29055556, -86.67818222], \"mode\": \"lines\", \"opacity\": 0.061269146608315096, \"type\": \"scattergeo\"}, {\"lat\": [32.89595056, 42.3643475], \"line\": {\"color\": \"red\", \"width\": 1}, \"locationmode\": \"USA-states\", \"lon\": [-97.0372, -71.00517917], \"mode\": \"lines\", \"opacity\": 0.4617067833698031, \"type\": \"scattergeo\"}, {\"lat\": [25.79325, 42.3643475], \"line\": {\"color\": \"red\", \"width\": 1}, \"locationmode\": \"USA-states\", \"lon\": [-80.29055556, -71.00517917], \"mode\": \"lines\", \"opacity\": 0.4288840262582057, \"type\": \"scattergeo\"}, {\"lat\": [41.979595, 42.3643475], \"line\": {\"color\": \"red\", \"width\": 1}, \"locationmode\": \"USA-states\", \"lon\": [-87.90446417, -71.00517917], \"mode\": \"lines\", \"opacity\": 0.47045951859956237, \"type\": \"scattergeo\"}, {\"lat\": [18.43941667, 42.3643475], \"line\": {\"color\": \"red\", \"width\": 1}, \"locationmode\": \"USA-states\", \"lon\": [-66.00183333, -71.00517917], \"mode\": \"lines\", \"opacity\": 0.061269146608315096, \"type\": \"scattergeo\"}, {\"lat\": [18.33730556, 42.3643475], \"line\": {\"color\": \"red\", \"width\": 1}, \"locationmode\": \"USA-states\", \"lon\": [-64.97336111, -71.00517917], \"mode\": \"lines\", \"opacity\": 0.04814004376367615, \"type\": \"scattergeo\"}, {\"lat\": [25.79325, 39.17540167], \"line\": {\"color\": \"red\", \"width\": 1}, \"locationmode\": \"USA-states\", \"lon\": [-80.29055556, -76.66819833], \"mode\": \"lines\", \"opacity\": 0.12253829321663019, \"type\": \"scattergeo\"}, {\"lat\": [18.43941667, 39.17540167], \"line\": {\"color\": \"red\", \"width\": 1}, \"locationmode\": \"USA-states\", \"lon\": [-66.00183333, -76.66819833], \"mode\": \"lines\", \"opacity\": 0.061269146608315096, \"type\": \"scattergeo\"}, {\"lat\": [32.89595056, 35.21401111], \"line\": {\"color\": \"red\", \"width\": 1}, \"locationmode\": \"USA-states\", \"lon\": [-97.0372, -80.94312583], \"mode\": \"lines\", \"opacity\": 0.3938730853391685, \"type\": \"scattergeo\"}, {\"lat\": [32.89595056, 38.80580556], \"line\": {\"color\": \"red\", \"width\": 1}, \"locationmode\": \"USA-states\", \"lon\": [-97.0372, -104.70025], \"mode\": \"lines\", \"opacity\": 0.3041575492341357, \"type\": \"scattergeo\"}, {\"lat\": [32.89595056, 39.90237583], \"line\": {\"color\": \"red\", \"width\": 1}, \"locationmode\": \"USA-states\", \"lon\": [-97.0372, -84.219375], \"mode\": \"lines\", \"opacity\": 0.1137855579868709, \"type\": \"scattergeo\"}, {\"lat\": [32.89595056, 38.85208333], \"line\": {\"color\": \"red\", \"width\": 1}, \"locationmode\": \"USA-states\", \"lon\": [-97.0372, -77.03772222], \"mode\": \"lines\", \"opacity\": 0.6433260393873085, \"type\": \"scattergeo\"}, {\"lat\": [25.79325, 39.85840806], \"line\": {\"color\": \"red\", \"width\": 1}, \"locationmode\": \"USA-states\", \"lon\": [-80.29055556, -104.6670019], \"mode\": \"lines\", \"opacity\": 0.12253829321663019, \"type\": \"scattergeo\"}, {\"lat\": [41.979595, 39.85840806], \"line\": {\"color\": \"red\", \"width\": 1}, \"locationmode\": \"USA-states\", \"lon\": [-87.90446417, -104.6670019], \"mode\": \"lines\", \"opacity\": 0.12253829321663019, \"type\": \"scattergeo\"}, {\"lat\": [33.64044444, 32.89595056], \"line\": {\"color\": \"red\", \"width\": 1}, \"locationmode\": \"USA-states\", \"lon\": [-84.42694444, -97.0372], \"mode\": \"lines\", \"opacity\": 0.6345733041575492, \"type\": \"scattergeo\"}, {\"lat\": [30.19453278, 32.89595056], \"line\": {\"color\": \"red\", \"width\": 1}, \"locationmode\": \"USA-states\", \"lon\": [-97.66987194, -97.0372], \"mode\": \"lines\", \"opacity\": 0.8971553610503282, \"type\": \"scattergeo\"}, {\"lat\": [36.12447667, 32.89595056], \"line\": {\"color\": \"red\", \"width\": 1}, \"locationmode\": \"USA-states\", \"lon\": [-86.67818222, -97.0372], \"mode\": \"lines\", \"opacity\": 0.47702407002188185, \"type\": \"scattergeo\"}, {\"lat\": [34.20061917, 32.89595056], \"line\": {\"color\": \"red\", \"width\": 1}, \"locationmode\": \"USA-states\", \"lon\": [-118.3584969, -97.0372], \"mode\": \"lines\", \"opacity\": 0.2275711159737418, \"type\": \"scattergeo\"}, {\"lat\": [39.17540167, 32.89595056], \"line\": {\"color\": \"red\", \"width\": 1}, \"locationmode\": \"USA-states\", \"lon\": [-76.66819833, -97.0372], \"mode\": \"lines\", \"opacity\": 0.35667396061269147, \"type\": \"scattergeo\"}, {\"lat\": [39.99798528, 32.89595056], \"line\": {\"color\": \"red\", \"width\": 1}, \"locationmode\": \"USA-states\", \"lon\": [-82.89188278, -97.0372], \"mode\": \"lines\", \"opacity\": 0.1137855579868709, \"type\": \"scattergeo\"}, {\"lat\": [39.85840806, 32.89595056], \"line\": {\"color\": \"red\", \"width\": 1}, \"locationmode\": \"USA-states\", \"lon\": [-104.6670019, -97.0372], \"mode\": \"lines\", \"opacity\": 0.6105032822757112, \"type\": \"scattergeo\"}, {\"lat\": [42.21205889, 32.89595056], \"line\": {\"color\": \"red\", \"width\": 1}, \"locationmode\": \"USA-states\", \"lon\": [-83.34883583, -97.0372], \"mode\": \"lines\", \"opacity\": 0.2844638949671772, \"type\": \"scattergeo\"}, {\"lat\": [39.64256778, 32.89595056], \"line\": {\"color\": \"red\", \"width\": 1}, \"locationmode\": \"USA-states\", \"lon\": [-106.91769529999999, -97.0372], \"mode\": \"lines\", \"opacity\": 0.1487964989059081, \"type\": \"scattergeo\"}, {\"lat\": [40.69249722, 32.89595056], \"line\": {\"color\": \"red\", \"width\": 1}, \"locationmode\": \"USA-states\", \"lon\": [-74.16866056, -97.0372], \"mode\": \"lines\", \"opacity\": 0.33916849015317285, \"type\": \"scattergeo\"}, {\"lat\": [36.77619444, 32.89595056], \"line\": {\"color\": \"red\", \"width\": 1}, \"locationmode\": \"USA-states\", \"lon\": [-119.7181389, -97.0372], \"mode\": \"lines\", \"opacity\": 0.12253829321663019, \"type\": \"scattergeo\"}, {\"lat\": [26.07258333, 32.89595056], \"line\": {\"color\": \"red\", \"width\": 1}, \"locationmode\": \"USA-states\", \"lon\": [-80.15275, -97.0372], \"mode\": \"lines\", \"opacity\": 0.3676148796498906, \"type\": \"scattergeo\"}, {\"lat\": [34.6404475, 32.89595056], \"line\": {\"color\": \"red\", \"width\": 1}, \"locationmode\": \"USA-states\", \"lon\": [-86.77310944, -97.0372], \"mode\": \"lines\", \"opacity\": 0.17286652078774617, \"type\": \"scattergeo\"}, {\"lat\": [29.98047222, 32.89595056], \"line\": {\"color\": \"red\", \"width\": 1}, \"locationmode\": \"USA-states\", \"lon\": [-95.33972222, -97.0372], \"mode\": \"lines\", \"opacity\": 0.3544857768052516, \"type\": \"scattergeo\"}, {\"lat\": [33.94253611, 32.89595056], \"line\": {\"color\": \"red\", \"width\": 1}, \"locationmode\": \"USA-states\", \"lon\": [-118.40807439999999, -97.0372], \"mode\": \"lines\", \"opacity\": 1.0, \"type\": \"scattergeo\"}, {\"lat\": [39.29760528, 32.89595056], \"line\": {\"color\": \"red\", \"width\": 1}, \"locationmode\": \"USA-states\", \"lon\": [-94.71390556, -97.0372], \"mode\": \"lines\", \"opacity\": 0.47702407002188185, \"type\": \"scattergeo\"}, {\"lat\": [28.42888889, 32.89595056], \"line\": {\"color\": \"red\", \"width\": 1}, \"locationmode\": \"USA-states\", \"lon\": [-81.31602778, -97.0372], \"mode\": \"lines\", \"opacity\": 0.5470459518599562, \"type\": \"scattergeo\"}, {\"lat\": [35.04241667, 32.89595056], \"line\": {\"color\": \"red\", \"width\": 1}, \"locationmode\": \"USA-states\", \"lon\": [-89.97666667, -97.0372], \"mode\": \"lines\", \"opacity\": 0.23413566739606126, \"type\": \"scattergeo\"}, {\"lat\": [26.17583333, 32.89595056], \"line\": {\"color\": \"red\", \"width\": 1}, \"locationmode\": \"USA-states\", \"lon\": [-98.23861111, -97.0372], \"mode\": \"lines\", \"opacity\": 0.23413566739606126, \"type\": \"scattergeo\"}, {\"lat\": [25.79325, 32.89595056], \"line\": {\"color\": \"red\", \"width\": 1}, \"locationmode\": \"USA-states\", \"lon\": [-80.29055556, -97.0372], \"mode\": \"lines\", \"opacity\": 0.612691466083151, \"type\": \"scattergeo\"}, {\"lat\": [44.88054694, 32.89595056], \"line\": {\"color\": \"red\", \"width\": 1}, \"locationmode\": \"USA-states\", \"lon\": [-93.2169225, -97.0372], \"mode\": \"lines\", \"opacity\": 0.35667396061269147, \"type\": \"scattergeo\"}, {\"lat\": [38.50886722, 32.89595056], \"line\": {\"color\": \"red\", \"width\": 1}, \"locationmode\": \"USA-states\", \"lon\": [-107.89383329999998, -97.0372], \"mode\": \"lines\", \"opacity\": 0.0175054704595186, \"type\": \"scattergeo\"}, {\"lat\": [20.89864972, 32.89595056], \"line\": {\"color\": \"red\", \"width\": 1}, \"locationmode\": \"USA-states\", \"lon\": [-156.43045780000003, -97.0372], \"mode\": \"lines\", \"opacity\": 0.061269146608315096, \"type\": \"scattergeo\"}, {\"lat\": [35.39308833, 32.89595056], \"line\": {\"color\": \"red\", \"width\": 1}, \"locationmode\": \"USA-states\", \"lon\": [-97.60073389, -97.0372], \"mode\": \"lines\", \"opacity\": 0.42669584245076586, \"type\": \"scattergeo\"}, {\"lat\": [41.30251861, 32.89595056], \"line\": {\"color\": \"red\", \"width\": 1}, \"locationmode\": \"USA-states\", \"lon\": [-95.89417306, -97.0372], \"mode\": \"lines\", \"opacity\": 0.2975929978118162, \"type\": \"scattergeo\"}, {\"lat\": [41.979595, 32.89595056], \"line\": {\"color\": \"red\", \"width\": 1}, \"locationmode\": \"USA-states\", \"lon\": [-87.90446417, -97.0372], \"mode\": \"lines\", \"opacity\": 0.9026258205689278, \"type\": \"scattergeo\"}, {\"lat\": [39.87195278, 32.89595056], \"line\": {\"color\": \"red\", \"width\": 1}, \"locationmode\": \"USA-states\", \"lon\": [-75.24114083, -97.0372], \"mode\": \"lines\", \"opacity\": 0.3522975929978118, \"type\": \"scattergeo\"}, {\"lat\": [33.43416667, 32.89595056], \"line\": {\"color\": \"red\", \"width\": 1}, \"locationmode\": \"USA-states\", \"lon\": [-112.00805559999999, -97.0372], \"mode\": \"lines\", \"opacity\": 0.6017505470459519, \"type\": \"scattergeo\"}, {\"lat\": [37.50516667, 32.89595056], \"line\": {\"color\": \"red\", \"width\": 1}, \"locationmode\": \"USA-states\", \"lon\": [-77.31966667, -97.0372], \"mode\": \"lines\", \"opacity\": 0.18161925601750548, \"type\": \"scattergeo\"}, {\"lat\": [39.49857611, 32.89595056], \"line\": {\"color\": \"red\", \"width\": 1}, \"locationmode\": \"USA-states\", \"lon\": [-119.76806470000001, -97.0372], \"mode\": \"lines\", \"opacity\": 0.16411378555798686, \"type\": \"scattergeo\"}, {\"lat\": [32.73355611, 32.89595056], \"line\": {\"color\": \"red\", \"width\": 1}, \"locationmode\": \"USA-states\", \"lon\": [-117.1896567, -97.0372], \"mode\": \"lines\", \"opacity\": 0.5470459518599562, \"type\": \"scattergeo\"}, {\"lat\": [29.53369444, 32.89595056], \"line\": {\"color\": \"red\", \"width\": 1}, \"locationmode\": \"USA-states\", \"lon\": [-98.46977778, -97.0372], \"mode\": \"lines\", \"opacity\": 0.9037199124726477, \"type\": \"scattergeo\"}, {\"lat\": [38.17438889, 32.89595056], \"line\": {\"color\": \"red\", \"width\": 1}, \"locationmode\": \"USA-states\", \"lon\": [-85.736, -97.0372], \"mode\": \"lines\", \"opacity\": 0.17943107221006566, \"type\": \"scattergeo\"}, {\"lat\": [37.61900194, 32.89595056], \"line\": {\"color\": \"red\", \"width\": 1}, \"locationmode\": \"USA-states\", \"lon\": [-122.3748433, -97.0372], \"mode\": \"lines\", \"opacity\": 0.5754923413566739, \"type\": \"scattergeo\"}, {\"lat\": [37.36186194, 32.89595056], \"line\": {\"color\": \"red\", \"width\": 1}, \"locationmode\": \"USA-states\", \"lon\": [-121.92900890000001, -97.0372], \"mode\": \"lines\", \"opacity\": 0.3479212253829322, \"type\": \"scattergeo\"}, {\"lat\": [40.78838778, 32.89595056], \"line\": {\"color\": \"red\", \"width\": 1}, \"locationmode\": \"USA-states\", \"lon\": [-111.9777731, -97.0372], \"mode\": \"lines\", \"opacity\": 0.3063457330415755, \"type\": \"scattergeo\"}, {\"lat\": [38.74768694, 32.89595056], \"line\": {\"color\": \"red\", \"width\": 1}, \"locationmode\": \"USA-states\", \"lon\": [-90.35998972, -97.0372], \"mode\": \"lines\", \"opacity\": 0.5317286652078774, \"type\": \"scattergeo\"}, {\"lat\": [36.28186944, 32.89595056], \"line\": {\"color\": \"red\", \"width\": 1}, \"locationmode\": \"USA-states\", \"lon\": [-94.30681111, -97.0372], \"mode\": \"lines\", \"opacity\": 0.05470459518599562, \"type\": \"scattergeo\"}, {\"lat\": [25.79325, 42.21205889], \"line\": {\"color\": \"red\", \"width\": 1}, \"locationmode\": \"USA-states\", \"lon\": [-80.29055556, -83.34883583], \"mode\": \"lines\", \"opacity\": 0.12253829321663019, \"type\": \"scattergeo\"}, {\"lat\": [40.77724306, 39.64256778], \"line\": {\"color\": \"red\", \"width\": 1}, \"locationmode\": \"USA-states\", \"lon\": [-73.87260917, -106.91769529999999], \"mode\": \"lines\", \"opacity\": 0.0087527352297593, \"type\": \"scattergeo\"}, {\"lat\": [41.979595, 39.64256778], \"line\": {\"color\": \"red\", \"width\": 1}, \"locationmode\": \"USA-states\", \"lon\": [-87.90446417, -106.91769529999999], \"mode\": \"lines\", \"opacity\": 0.0700218818380744, \"type\": \"scattergeo\"}, {\"lat\": [32.89595056, 31.80666667], \"line\": {\"color\": \"red\", \"width\": 1}, \"locationmode\": \"USA-states\", \"lon\": [-97.0372, -106.37780559999999], \"mode\": \"lines\", \"opacity\": 0.474835886214442, \"type\": \"scattergeo\"}, {\"lat\": [33.94253611, 40.69249722], \"line\": {\"color\": \"red\", \"width\": 1}, \"locationmode\": \"USA-states\", \"lon\": [-118.40807439999999, -74.16866056], \"mode\": \"lines\", \"opacity\": 0.05908096280087528, \"type\": \"scattergeo\"}, {\"lat\": [25.79325, 40.69249722], \"line\": {\"color\": \"red\", \"width\": 1}, \"locationmode\": \"USA-states\", \"lon\": [-80.29055556, -74.16866056], \"mode\": \"lines\", \"opacity\": 0.1838074398249453, \"type\": \"scattergeo\"}, {\"lat\": [40.63975111, 26.07258333], \"line\": {\"color\": \"red\", \"width\": 1}, \"locationmode\": \"USA-states\", \"lon\": [-73.77892556, -80.15275], \"mode\": \"lines\", \"opacity\": 0.12253829321663019, \"type\": \"scattergeo\"}, {\"lat\": [32.89595056, 40.48118028], \"line\": {\"color\": \"red\", \"width\": 1}, \"locationmode\": \"USA-states\", \"lon\": [-97.0372, -107.21765970000001], \"mode\": \"lines\", \"opacity\": 0.0700218818380744, \"type\": \"scattergeo\"}, {\"lat\": [32.89595056, 21.31869111], \"line\": {\"color\": \"red\", \"width\": 1}, \"locationmode\": \"USA-states\", \"lon\": [-97.0372, -157.92240719999998], \"mode\": \"lines\", \"opacity\": 0.12253829321663019, \"type\": \"scattergeo\"}, {\"lat\": [33.94253611, 21.31869111], \"line\": {\"color\": \"red\", \"width\": 1}, \"locationmode\": \"USA-states\", \"lon\": [-118.40807439999999, -157.92240719999998], \"mode\": \"lines\", \"opacity\": 0.2363238512035011, \"type\": \"scattergeo\"}, {\"lat\": [32.89595056, 38.94453194], \"line\": {\"color\": \"red\", \"width\": 1}, \"locationmode\": \"USA-states\", \"lon\": [-97.0372, -77.45580972], \"mode\": \"lines\", \"opacity\": 0.33698030634573306, \"type\": \"scattergeo\"}, {\"lat\": [33.94253611, 38.94453194], \"line\": {\"color\": \"red\", \"width\": 1}, \"locationmode\": \"USA-states\", \"lon\": [-118.40807439999999, -77.45580972], \"mode\": \"lines\", \"opacity\": 0.18161925601750548, \"type\": \"scattergeo\"}, {\"lat\": [25.79325, 38.94453194], \"line\": {\"color\": \"red\", \"width\": 1}, \"locationmode\": \"USA-states\", \"lon\": [-80.29055556, -77.45580972], \"mode\": \"lines\", \"opacity\": 0.12253829321663019, \"type\": \"scattergeo\"}, {\"lat\": [25.79325, 29.98047222], \"line\": {\"color\": \"red\", \"width\": 1}, \"locationmode\": \"USA-states\", \"lon\": [-80.29055556, -95.33972222], \"mode\": \"lines\", \"opacity\": 0.1838074398249453, \"type\": \"scattergeo\"}, {\"lat\": [32.89595056, 37.64995889], \"line\": {\"color\": \"red\", \"width\": 1}, \"locationmode\": \"USA-states\", \"lon\": [-97.0372, -97.43304583], \"mode\": \"lines\", \"opacity\": 0.23413566739606126, \"type\": \"scattergeo\"}, {\"lat\": [32.89595056, 39.71732917], \"line\": {\"color\": \"red\", \"width\": 1}, \"locationmode\": \"USA-states\", \"lon\": [-97.0372, -86.29438417], \"mode\": \"lines\", \"opacity\": 0.3041575492341357, \"type\": \"scattergeo\"}, {\"lat\": [32.89595056, 43.60732417], \"line\": {\"color\": \"red\", \"width\": 1}, \"locationmode\": \"USA-states\", \"lon\": [-97.0372, -110.7377389], \"mode\": \"lines\", \"opacity\": 0.0262582056892779, \"type\": \"scattergeo\"}, {\"lat\": [32.89595056, 30.49405556], \"line\": {\"color\": \"red\", \"width\": 1}, \"locationmode\": \"USA-states\", \"lon\": [-97.0372, -81.68786111], \"mode\": \"lines\", \"opacity\": 0.2363238512035011, \"type\": \"scattergeo\"}, {\"lat\": [30.19453278, 40.63975111], \"line\": {\"color\": \"red\", \"width\": 1}, \"locationmode\": \"USA-states\", \"lon\": [-97.66987194, -73.77892556], \"mode\": \"lines\", \"opacity\": 0.061269146608315096, \"type\": \"scattergeo\"}, {\"lat\": [32.89595056, 40.63975111], \"line\": {\"color\": \"red\", \"width\": 1}, \"locationmode\": \"USA-states\", \"lon\": [-97.0372, -73.77892556], \"mode\": \"lines\", \"opacity\": 0.061269146608315096, \"type\": \"scattergeo\"}, {\"lat\": [39.64256778, 40.63975111], \"line\": {\"color\": \"red\", \"width\": 1}, \"locationmode\": \"USA-states\", \"lon\": [-106.91769529999999, -73.77892556], \"mode\": \"lines\", \"opacity\": 0.061269146608315096, \"type\": \"scattergeo\"}, {\"lat\": [28.42888889, 40.63975111], \"line\": {\"color\": \"red\", \"width\": 1}, \"locationmode\": \"USA-states\", \"lon\": [-81.31602778, -73.77892556], \"mode\": \"lines\", \"opacity\": 0.24507658643326038, \"type\": \"scattergeo\"}, {\"lat\": [25.79325, 40.63975111], \"line\": {\"color\": \"red\", \"width\": 1}, \"locationmode\": \"USA-states\", \"lon\": [-80.29055556, -73.77892556], \"mode\": \"lines\", \"opacity\": 0.4288840262582057, \"type\": \"scattergeo\"}, {\"lat\": [47.44898194, 40.63975111], \"line\": {\"color\": \"red\", \"width\": 1}, \"locationmode\": \"USA-states\", \"lon\": [-122.30931310000001, -73.77892556], \"mode\": \"lines\", \"opacity\": 0.061269146608315096, \"type\": \"scattergeo\"}, {\"lat\": [37.61900194, 40.63975111], \"line\": {\"color\": \"red\", \"width\": 1}, \"locationmode\": \"USA-states\", \"lon\": [-122.3748433, -73.77892556], \"mode\": \"lines\", \"opacity\": 0.3041575492341357, \"type\": \"scattergeo\"}, {\"lat\": [18.33730556, 40.63975111], \"line\": {\"color\": \"red\", \"width\": 1}, \"locationmode\": \"USA-states\", \"lon\": [-64.97336111, -73.77892556], \"mode\": \"lines\", \"opacity\": 0.061269146608315096, \"type\": \"scattergeo\"}, {\"lat\": [27.97547222, 40.63975111], \"line\": {\"color\": \"red\", \"width\": 1}, \"locationmode\": \"USA-states\", \"lon\": [-82.53325, -73.77892556], \"mode\": \"lines\", \"opacity\": 0.061269146608315096, \"type\": \"scattergeo\"}, {\"lat\": [32.89595056, 36.08036111], \"line\": {\"color\": \"red\", \"width\": 1}, \"locationmode\": \"USA-states\", \"lon\": [-97.0372, -115.15233329999998], \"mode\": \"lines\", \"opacity\": 0.6225382932166302, \"type\": \"scattergeo\"}, {\"lat\": [40.63975111, 36.08036111], \"line\": {\"color\": \"red\", \"width\": 1}, \"locationmode\": \"USA-states\", \"lon\": [-73.77892556, -115.15233329999998], \"mode\": \"lines\", \"opacity\": 0.12253829321663019, \"type\": \"scattergeo\"}, {\"lat\": [33.94253611, 36.08036111], \"line\": {\"color\": \"red\", \"width\": 1}, \"locationmode\": \"USA-states\", \"lon\": [-118.40807439999999, -115.15233329999998], \"mode\": \"lines\", \"opacity\": 0.24288840262582057, \"type\": \"scattergeo\"}, {\"lat\": [41.979595, 36.08036111], \"line\": {\"color\": \"red\", \"width\": 1}, \"locationmode\": \"USA-states\", \"lon\": [-87.90446417, -115.15233329999998], \"mode\": \"lines\", \"opacity\": 0.3063457330415755, \"type\": \"scattergeo\"}, {\"lat\": [30.19453278, 33.94253611], \"line\": {\"color\": \"red\", \"width\": 1}, \"locationmode\": \"USA-states\", \"lon\": [-97.66987194, -118.40807439999999], \"mode\": \"lines\", \"opacity\": 0.1772428884026258, \"type\": \"scattergeo\"}, {\"lat\": [36.12447667, 33.94253611], \"line\": {\"color\": \"red\", \"width\": 1}, \"locationmode\": \"USA-states\", \"lon\": [-86.67818222, -118.40807439999999], \"mode\": \"lines\", \"opacity\": 0.061269146608315096, \"type\": \"scattergeo\"}, {\"lat\": [42.3643475, 33.94253611], \"line\": {\"color\": \"red\", \"width\": 1}, \"locationmode\": \"USA-states\", \"lon\": [-71.00517917, -118.40807439999999], \"mode\": \"lines\", \"opacity\": 0.1838074398249453, \"type\": \"scattergeo\"}, {\"lat\": [39.64256778, 33.94253611], \"line\": {\"color\": \"red\", \"width\": 1}, \"locationmode\": \"USA-states\", \"lon\": [-106.91769529999999, -118.40807439999999], \"mode\": \"lines\", \"opacity\": 0.061269146608315096, \"type\": \"scattergeo\"}, {\"lat\": [40.63975111, 33.94253611], \"line\": {\"color\": \"red\", \"width\": 1}, \"locationmode\": \"USA-states\", \"lon\": [-73.77892556, -118.40807439999999], \"mode\": \"lines\", \"opacity\": 0.5995623632385121, \"type\": \"scattergeo\"}, {\"lat\": [19.73876583, 33.94253611], \"line\": {\"color\": \"red\", \"width\": 1}, \"locationmode\": \"USA-states\", \"lon\": [-156.0456314, -118.40807439999999], \"mode\": \"lines\", \"opacity\": 0.061269146608315096, \"type\": \"scattergeo\"}, {\"lat\": [20.89864972, 33.94253611], \"line\": {\"color\": \"red\", \"width\": 1}, \"locationmode\": \"USA-states\", \"lon\": [-156.43045780000003, -118.40807439999999], \"mode\": \"lines\", \"opacity\": 0.12253829321663019, \"type\": \"scattergeo\"}, {\"lat\": [41.979595, 33.94253611], \"line\": {\"color\": \"red\", \"width\": 1}, \"locationmode\": \"USA-states\", \"lon\": [-87.90446417, -118.40807439999999], \"mode\": \"lines\", \"opacity\": 0.5426695842450766, \"type\": \"scattergeo\"}, {\"lat\": [38.74768694, 33.94253611], \"line\": {\"color\": \"red\", \"width\": 1}, \"locationmode\": \"USA-states\", \"lon\": [-90.35998972, -118.40807439999999], \"mode\": \"lines\", \"opacity\": 0.18161925601750548, \"type\": \"scattergeo\"}, {\"lat\": [36.12447667, 40.77724306], \"line\": {\"color\": \"red\", \"width\": 1}, \"locationmode\": \"USA-states\", \"lon\": [-86.67818222, -73.87260917], \"mode\": \"lines\", \"opacity\": 0.11159737417943107, \"type\": \"scattergeo\"}, {\"lat\": [32.89595056, 40.77724306], \"line\": {\"color\": \"red\", \"width\": 1}, \"locationmode\": \"USA-states\", \"lon\": [-97.0372, -73.87260917], \"mode\": \"lines\", \"opacity\": 0.849015317286652, \"type\": \"scattergeo\"}, {\"lat\": [38.74768694, 40.77724306], \"line\": {\"color\": \"red\", \"width\": 1}, \"locationmode\": \"USA-states\", \"lon\": [-90.35998972, -73.87260917], \"mode\": \"lines\", \"opacity\": 0.22538293216630198, \"type\": \"scattergeo\"}, {\"lat\": [33.94253611, 21.97598306], \"line\": {\"color\": \"red\", \"width\": 1}, \"locationmode\": \"USA-states\", \"lon\": [-118.40807439999999, -159.3389581], \"mode\": \"lines\", \"opacity\": 0.061269146608315096, \"type\": \"scattergeo\"}, {\"lat\": [33.94253611, 28.42888889], \"line\": {\"color\": \"red\", \"width\": 1}, \"locationmode\": \"USA-states\", \"lon\": [-118.40807439999999, -81.31602778], \"mode\": \"lines\", \"opacity\": 0.061269146608315096, \"type\": \"scattergeo\"}, {\"lat\": [25.79325, 28.42888889], \"line\": {\"color\": \"red\", \"width\": 1}, \"locationmode\": \"USA-states\", \"lon\": [-80.29055556, -81.31602778], \"mode\": \"lines\", \"opacity\": 0.49015317286652077, \"type\": \"scattergeo\"}, {\"lat\": [33.64044444, 25.79325], \"line\": {\"color\": \"red\", \"width\": 1}, \"locationmode\": \"USA-states\", \"lon\": [-84.42694444, -80.29055556], \"mode\": \"lines\", \"opacity\": 0.24507658643326038, \"type\": \"scattergeo\"}, {\"lat\": [41.93887417, 25.79325], \"line\": {\"color\": \"red\", \"width\": 1}, \"locationmode\": \"USA-states\", \"lon\": [-72.68322833, -80.29055556], \"mode\": \"lines\", \"opacity\": 0.12253829321663019, \"type\": \"scattergeo\"}, {\"lat\": [38.85208333, 25.79325], \"line\": {\"color\": \"red\", \"width\": 1}, \"locationmode\": \"USA-states\", \"lon\": [-77.03772222, -80.29055556], \"mode\": \"lines\", \"opacity\": 0.5514223194748359, \"type\": \"scattergeo\"}, {\"lat\": [39.64256778, 25.79325], \"line\": {\"color\": \"red\", \"width\": 1}, \"locationmode\": \"USA-states\", \"lon\": [-106.91769529999999, -80.29055556], \"mode\": \"lines\", \"opacity\": 0.0525164113785558, \"type\": \"scattergeo\"}, {\"lat\": [36.08036111, 25.79325], \"line\": {\"color\": \"red\", \"width\": 1}, \"locationmode\": \"USA-states\", \"lon\": [-115.15233329999998, -80.29055556], \"mode\": \"lines\", \"opacity\": 0.1838074398249453, \"type\": \"scattergeo\"}, {\"lat\": [33.94253611, 25.79325], \"line\": {\"color\": \"red\", \"width\": 1}, \"locationmode\": \"USA-states\", \"lon\": [-118.40807439999999, -80.29055556], \"mode\": \"lines\", \"opacity\": 0.4288840262582057, \"type\": \"scattergeo\"}, {\"lat\": [40.77724306, 25.79325], \"line\": {\"color\": \"red\", \"width\": 1}, \"locationmode\": \"USA-states\", \"lon\": [-73.87260917, -80.29055556], \"mode\": \"lines\", \"opacity\": 0.6728665207877462, \"type\": \"scattergeo\"}, {\"lat\": [44.88054694, 25.79325], \"line\": {\"color\": \"red\", \"width\": 1}, \"locationmode\": \"USA-states\", \"lon\": [-93.2169225, -80.29055556], \"mode\": \"lines\", \"opacity\": 0.061269146608315096, \"type\": \"scattergeo\"}, {\"lat\": [41.979595, 25.79325], \"line\": {\"color\": \"red\", \"width\": 1}, \"locationmode\": \"USA-states\", \"lon\": [-87.90446417, -80.29055556], \"mode\": \"lines\", \"opacity\": 0.5525164113785558, \"type\": \"scattergeo\"}, {\"lat\": [39.87195278, 25.79325], \"line\": {\"color\": \"red\", \"width\": 1}, \"locationmode\": \"USA-states\", \"lon\": [-75.24114083, -80.29055556], \"mode\": \"lines\", \"opacity\": 0.1838074398249453, \"type\": \"scattergeo\"}, {\"lat\": [33.43416667, 25.79325], \"line\": {\"color\": \"red\", \"width\": 1}, \"locationmode\": \"USA-states\", \"lon\": [-112.00805559999999, -80.29055556], \"mode\": \"lines\", \"opacity\": 0.061269146608315096, \"type\": \"scattergeo\"}, {\"lat\": [37.61900194, 25.79325], \"line\": {\"color\": \"red\", \"width\": 1}, \"locationmode\": \"USA-states\", \"lon\": [-122.3748433, -80.29055556], \"mode\": \"lines\", \"opacity\": 0.1838074398249453, \"type\": \"scattergeo\"}, {\"lat\": [18.43941667, 25.79325], \"line\": {\"color\": \"red\", \"width\": 1}, \"locationmode\": \"USA-states\", \"lon\": [-66.00183333, -80.29055556], \"mode\": \"lines\", \"opacity\": 0.49015317286652077, \"type\": \"scattergeo\"}, {\"lat\": [36.19837222, 25.79325], \"line\": {\"color\": \"red\", \"width\": 1}, \"locationmode\": \"USA-states\", \"lon\": [-95.88824167, -80.29055556], \"mode\": \"lines\", \"opacity\": 0.00437636761487965, \"type\": \"scattergeo\"}, {\"lat\": [41.979595, 44.88054694], \"line\": {\"color\": \"red\", \"width\": 1}, \"locationmode\": \"USA-states\", \"lon\": [-87.90446417, -93.2169225], \"mode\": \"lines\", \"opacity\": 0.175054704595186, \"type\": \"scattergeo\"}, {\"lat\": [32.89595056, 29.99338889], \"line\": {\"color\": \"red\", \"width\": 1}, \"locationmode\": \"USA-states\", \"lon\": [-97.0372, -90.25802778], \"mode\": \"lines\", \"opacity\": 0.3676148796498906, \"type\": \"scattergeo\"}, {\"lat\": [25.79325, 29.99338889], \"line\": {\"color\": \"red\", \"width\": 1}, \"locationmode\": \"USA-states\", \"lon\": [-80.29055556, -90.25802778], \"mode\": \"lines\", \"opacity\": 0.1838074398249453, \"type\": \"scattergeo\"}, {\"lat\": [41.979595, 29.99338889], \"line\": {\"color\": \"red\", \"width\": 1}, \"locationmode\": \"USA-states\", \"lon\": [-87.90446417, -90.25802778], \"mode\": \"lines\", \"opacity\": 0.16301969365426697, \"type\": \"scattergeo\"}, {\"lat\": [32.89595056, 34.056], \"line\": {\"color\": \"red\", \"width\": 1}, \"locationmode\": \"USA-states\", \"lon\": [-97.0372, -117.60119440000001], \"mode\": \"lines\", \"opacity\": 0.24288840262582057, \"type\": \"scattergeo\"}, {\"lat\": [38.85208333, 41.979595], \"line\": {\"color\": \"red\", \"width\": 1}, \"locationmode\": \"USA-states\", \"lon\": [-77.03772222, -87.90446417], \"mode\": \"lines\", \"opacity\": 0.3544857768052516, \"type\": \"scattergeo\"}, {\"lat\": [40.69249722, 41.979595], \"line\": {\"color\": \"red\", \"width\": 1}, \"locationmode\": \"USA-states\", \"lon\": [-74.16866056, -87.90446417], \"mode\": \"lines\", \"opacity\": 0.1838074398249453, \"type\": \"scattergeo\"}, {\"lat\": [26.07258333, 41.979595], \"line\": {\"color\": \"red\", \"width\": 1}, \"locationmode\": \"USA-states\", \"lon\": [-80.15275, -87.90446417], \"mode\": \"lines\", \"opacity\": 0.1838074398249453, \"type\": \"scattergeo\"}, {\"lat\": [40.48118028, 41.979595], \"line\": {\"color\": \"red\", \"width\": 1}, \"locationmode\": \"USA-states\", \"lon\": [-107.21765970000001, -87.90446417], \"mode\": \"lines\", \"opacity\": 0.0525164113785558, \"type\": \"scattergeo\"}, {\"lat\": [21.31869111, 41.979595], \"line\": {\"color\": \"red\", \"width\": 1}, \"locationmode\": \"USA-states\", \"lon\": [-157.92240719999998, -87.90446417], \"mode\": \"lines\", \"opacity\": 0.05032822757111598, \"type\": \"scattergeo\"}, {\"lat\": [43.60732417, 41.979595], \"line\": {\"color\": \"red\", \"width\": 1}, \"locationmode\": \"USA-states\", \"lon\": [-110.7377389, -87.90446417], \"mode\": \"lines\", \"opacity\": 0.061269146608315096, \"type\": \"scattergeo\"}, {\"lat\": [40.63975111, 41.979595], \"line\": {\"color\": \"red\", \"width\": 1}, \"locationmode\": \"USA-states\", \"lon\": [-73.77892556, -87.90446417], \"mode\": \"lines\", \"opacity\": 0.061269146608315096, \"type\": \"scattergeo\"}, {\"lat\": [40.77724306, 41.979595], \"line\": {\"color\": \"red\", \"width\": 1}, \"locationmode\": \"USA-states\", \"lon\": [-73.87260917, -87.90446417], \"mode\": \"lines\", \"opacity\": 0.9409190371991247, \"type\": \"scattergeo\"}, {\"lat\": [39.29760528, 41.979595], \"line\": {\"color\": \"red\", \"width\": 1}, \"locationmode\": \"USA-states\", \"lon\": [-94.71390556, -87.90446417], \"mode\": \"lines\", \"opacity\": 0.23413566739606126, \"type\": \"scattergeo\"}, {\"lat\": [28.42888889, 41.979595], \"line\": {\"color\": \"red\", \"width\": 1}, \"locationmode\": \"USA-states\", \"lon\": [-81.31602778, -87.90446417], \"mode\": \"lines\", \"opacity\": 0.24507658643326038, \"type\": \"scattergeo\"}, {\"lat\": [35.87763889, 41.979595], \"line\": {\"color\": \"red\", \"width\": 1}, \"locationmode\": \"USA-states\", \"lon\": [-78.78747222, -87.90446417], \"mode\": \"lines\", \"opacity\": 0.17067833698030635, \"type\": \"scattergeo\"}, {\"lat\": [39.49857611, 41.979595], \"line\": {\"color\": \"red\", \"width\": 1}, \"locationmode\": \"USA-states\", \"lon\": [-119.76806470000001, -87.90446417], \"mode\": \"lines\", \"opacity\": 0.061269146608315096, \"type\": \"scattergeo\"}, {\"lat\": [32.73355611, 41.979595], \"line\": {\"color\": \"red\", \"width\": 1}, \"locationmode\": \"USA-states\", \"lon\": [-117.1896567, -87.90446417], \"mode\": \"lines\", \"opacity\": 0.24507658643326038, \"type\": \"scattergeo\"}, {\"lat\": [29.53369444, 41.979595], \"line\": {\"color\": \"red\", \"width\": 1}, \"locationmode\": \"USA-states\", \"lon\": [-98.46977778, -87.90446417], \"mode\": \"lines\", \"opacity\": 0.12253829321663019, \"type\": \"scattergeo\"}, {\"lat\": [37.36186194, 41.979595], \"line\": {\"color\": \"red\", \"width\": 1}, \"locationmode\": \"USA-states\", \"lon\": [-121.92900890000001, -87.90446417], \"mode\": \"lines\", \"opacity\": 0.12253829321663019, \"type\": \"scattergeo\"}, {\"lat\": [18.43941667, 41.979595], \"line\": {\"color\": \"red\", \"width\": 1}, \"locationmode\": \"USA-states\", \"lon\": [-66.00183333, -87.90446417], \"mode\": \"lines\", \"opacity\": 0.12253829321663019, \"type\": \"scattergeo\"}, {\"lat\": [38.74768694, 41.979595], \"line\": {\"color\": \"red\", \"width\": 1}, \"locationmode\": \"USA-states\", \"lon\": [-90.35998972, -87.90446417], \"mode\": \"lines\", \"opacity\": 0.5284463894967177, \"type\": \"scattergeo\"}, {\"lat\": [36.19837222, 41.979595], \"line\": {\"color\": \"red\", \"width\": 1}, \"locationmode\": \"USA-states\", \"lon\": [-95.88824167, -87.90446417], \"mode\": \"lines\", \"opacity\": 0.061269146608315096, \"type\": \"scattergeo\"}, {\"lat\": [32.11608333, 41.979595], \"line\": {\"color\": \"red\", \"width\": 1}, \"locationmode\": \"USA-states\", \"lon\": [-110.94102779999999, -87.90446417], \"mode\": \"lines\", \"opacity\": 0.12253829321663019, \"type\": \"scattergeo\"}, {\"lat\": [32.89595056, 36.89461111], \"line\": {\"color\": \"red\", \"width\": 1}, \"locationmode\": \"USA-states\", \"lon\": [-97.0372, -76.20122222], \"mode\": \"lines\", \"opacity\": 0.12253829321663019, \"type\": \"scattergeo\"}, {\"lat\": [32.89595056, 26.68316194], \"line\": {\"color\": \"red\", \"width\": 1}, \"locationmode\": \"USA-states\", \"lon\": [-97.0372, -80.09559417], \"mode\": \"lines\", \"opacity\": 0.12253829321663019, \"type\": \"scattergeo\"}, {\"lat\": [41.979595, 26.68316194], \"line\": {\"color\": \"red\", \"width\": 1}, \"locationmode\": \"USA-states\", \"lon\": [-87.90446417, -80.09559417], \"mode\": \"lines\", \"opacity\": 0.16411378555798686, \"type\": \"scattergeo\"}, {\"lat\": [32.89595056, 45.58872222], \"line\": {\"color\": \"red\", \"width\": 1}, \"locationmode\": \"USA-states\", \"lon\": [-97.0372, -122.5975], \"mode\": \"lines\", \"opacity\": 0.24507658643326038, \"type\": \"scattergeo\"}, {\"lat\": [41.979595, 39.87195278], \"line\": {\"color\": \"red\", \"width\": 1}, \"locationmode\": \"USA-states\", \"lon\": [-87.90446417, -75.24114083], \"mode\": \"lines\", \"opacity\": 0.12035010940919037, \"type\": \"scattergeo\"}, {\"lat\": [18.43941667, 39.87195278], \"line\": {\"color\": \"red\", \"width\": 1}, \"locationmode\": \"USA-states\", \"lon\": [-66.00183333, -75.24114083], \"mode\": \"lines\", \"opacity\": 0.061269146608315096, \"type\": \"scattergeo\"}, {\"lat\": [41.979595, 33.43416667], \"line\": {\"color\": \"red\", \"width\": 1}, \"locationmode\": \"USA-states\", \"lon\": [-87.90446417, -112.00805559999999], \"mode\": \"lines\", \"opacity\": 0.3063457330415755, \"type\": \"scattergeo\"}, {\"lat\": [32.89595056, 40.49146583], \"line\": {\"color\": \"red\", \"width\": 1}, \"locationmode\": \"USA-states\", \"lon\": [-97.0372, -80.23287083], \"mode\": \"lines\", \"opacity\": 0.18599562363238512, \"type\": \"scattergeo\"}, {\"lat\": [32.89595056, 33.82921556], \"line\": {\"color\": \"red\", \"width\": 1}, \"locationmode\": \"USA-states\", \"lon\": [-97.0372, -116.5062531], \"mode\": \"lines\", \"opacity\": 0.1838074398249453, \"type\": \"scattergeo\"}, {\"lat\": [41.979595, 33.82921556], \"line\": {\"color\": \"red\", \"width\": 1}, \"locationmode\": \"USA-states\", \"lon\": [-87.90446417, -116.5062531], \"mode\": \"lines\", \"opacity\": 0.0700218818380744, \"type\": \"scattergeo\"}, {\"lat\": [32.89595056, 35.87763889], \"line\": {\"color\": \"red\", \"width\": 1}, \"locationmode\": \"USA-states\", \"lon\": [-97.0372, -78.78747222], \"mode\": \"lines\", \"opacity\": 0.3041575492341357, \"type\": \"scattergeo\"}, {\"lat\": [25.79325, 35.87763889], \"line\": {\"color\": \"red\", \"width\": 1}, \"locationmode\": \"USA-states\", \"lon\": [-80.29055556, -78.78747222], \"mode\": \"lines\", \"opacity\": 0.1838074398249453, \"type\": \"scattergeo\"}, {\"lat\": [32.89595056, 26.53616667], \"line\": {\"color\": \"red\", \"width\": 1}, \"locationmode\": \"USA-states\", \"lon\": [-97.0372, -81.75516667], \"mode\": \"lines\", \"opacity\": 0.1838074398249453, \"type\": \"scattergeo\"}, {\"lat\": [41.979595, 26.53616667], \"line\": {\"color\": \"red\", \"width\": 1}, \"locationmode\": \"USA-states\", \"lon\": [-87.90446417, -81.75516667], \"mode\": \"lines\", \"opacity\": 0.1838074398249453, \"type\": \"scattergeo\"}, {\"lat\": [40.63975111, 32.73355611], \"line\": {\"color\": \"red\", \"width\": 1}, \"locationmode\": \"USA-states\", \"lon\": [-73.77892556, -117.1896567], \"mode\": \"lines\", \"opacity\": 0.061269146608315096, \"type\": \"scattergeo\"}, {\"lat\": [32.89595056, 47.44898194], \"line\": {\"color\": \"red\", \"width\": 1}, \"locationmode\": \"USA-states\", \"lon\": [-97.0372, -122.30931310000001], \"mode\": \"lines\", \"opacity\": 0.4288840262582057, \"type\": \"scattergeo\"}, {\"lat\": [41.979595, 47.44898194], \"line\": {\"color\": \"red\", \"width\": 1}, \"locationmode\": \"USA-states\", \"lon\": [-87.90446417, -122.30931310000001], \"mode\": \"lines\", \"opacity\": 0.23413566739606126, \"type\": \"scattergeo\"}, {\"lat\": [21.31869111, 37.61900194], \"line\": {\"color\": \"red\", \"width\": 1}, \"locationmode\": \"USA-states\", \"lon\": [-157.92240719999998, -122.3748433], \"mode\": \"lines\", \"opacity\": 0.061269146608315096, \"type\": \"scattergeo\"}, {\"lat\": [33.94253611, 37.61900194], \"line\": {\"color\": \"red\", \"width\": 1}, \"locationmode\": \"USA-states\", \"lon\": [-118.40807439999999, -122.3748433], \"mode\": \"lines\", \"opacity\": 0.3676148796498906, \"type\": \"scattergeo\"}, {\"lat\": [41.979595, 37.61900194], \"line\": {\"color\": \"red\", \"width\": 1}, \"locationmode\": \"USA-states\", \"lon\": [-87.90446417, -122.3748433], \"mode\": \"lines\", \"opacity\": 0.35667396061269147, \"type\": \"scattergeo\"}, {\"lat\": [32.89595056, 18.43941667], \"line\": {\"color\": \"red\", \"width\": 1}, \"locationmode\": \"USA-states\", \"lon\": [-97.0372, -66.00183333], \"mode\": \"lines\", \"opacity\": 0.13129102844638948, \"type\": \"scattergeo\"}, {\"lat\": [38.94453194, 18.43941667], \"line\": {\"color\": \"red\", \"width\": 1}, \"locationmode\": \"USA-states\", \"lon\": [-77.45580972, -66.00183333], \"mode\": \"lines\", \"opacity\": 0.061269146608315096, \"type\": \"scattergeo\"}, {\"lat\": [40.63975111, 18.43941667], \"line\": {\"color\": \"red\", \"width\": 1}, \"locationmode\": \"USA-states\", \"lon\": [-73.77892556, -66.00183333], \"mode\": \"lines\", \"opacity\": 0.1838074398249453, \"type\": \"scattergeo\"}, {\"lat\": [33.94253611, 18.43941667], \"line\": {\"color\": \"red\", \"width\": 1}, \"locationmode\": \"USA-states\", \"lon\": [-118.40807439999999, -66.00183333], \"mode\": \"lines\", \"opacity\": 0.0175054704595186, \"type\": \"scattergeo\"}, {\"lat\": [32.89595056, 38.69542167], \"line\": {\"color\": \"red\", \"width\": 1}, \"locationmode\": \"USA-states\", \"lon\": [-97.0372, -121.5907669], \"mode\": \"lines\", \"opacity\": 0.24507658643326038, \"type\": \"scattergeo\"}, {\"lat\": [32.89595056, 33.67565861], \"line\": {\"color\": \"red\", \"width\": 1}, \"locationmode\": \"USA-states\", \"lon\": [-97.0372, -117.86822250000002], \"mode\": \"lines\", \"opacity\": 0.6323851203501094, \"type\": \"scattergeo\"}, {\"lat\": [41.979595, 33.67565861], \"line\": {\"color\": \"red\", \"width\": 1}, \"locationmode\": \"USA-states\", \"lon\": [-87.90446417, -117.86822250000002], \"mode\": \"lines\", \"opacity\": 0.16630196936542668, \"type\": \"scattergeo\"}, {\"lat\": [38.85208333, 38.74768694], \"line\": {\"color\": \"red\", \"width\": 1}, \"locationmode\": \"USA-states\", \"lon\": [-77.03772222, -90.35998972], \"mode\": \"lines\", \"opacity\": 0.2188183807439825, \"type\": \"scattergeo\"}, {\"lat\": [25.79325, 38.74768694], \"line\": {\"color\": \"red\", \"width\": 1}, \"locationmode\": \"USA-states\", \"lon\": [-80.29055556, -90.35998972], \"mode\": \"lines\", \"opacity\": 0.1838074398249453, \"type\": \"scattergeo\"}, {\"lat\": [25.79325, 18.33730556], \"line\": {\"color\": \"red\", \"width\": 1}, \"locationmode\": \"USA-states\", \"lon\": [-80.29055556, -64.97336111], \"mode\": \"lines\", \"opacity\": 0.12253829321663019, \"type\": \"scattergeo\"}, {\"lat\": [25.79325, 17.70188889], \"line\": {\"color\": \"red\", \"width\": 1}, \"locationmode\": \"USA-states\", \"lon\": [-80.29055556, -64.79855556], \"mode\": \"lines\", \"opacity\": 0.06783369803063458, \"type\": \"scattergeo\"}, {\"lat\": [32.89595056, 27.97547222], \"line\": {\"color\": \"red\", \"width\": 1}, \"locationmode\": \"USA-states\", \"lon\": [-97.0372, -82.53325], \"mode\": \"lines\", \"opacity\": 0.4288840262582057, \"type\": \"scattergeo\"}, {\"lat\": [25.79325, 27.97547222], \"line\": {\"color\": \"red\", \"width\": 1}, \"locationmode\": \"USA-states\", \"lon\": [-80.29055556, -82.53325], \"mode\": \"lines\", \"opacity\": 0.32603938730853393, \"type\": \"scattergeo\"}, {\"lat\": [41.979595, 27.97547222], \"line\": {\"color\": \"red\", \"width\": 1}, \"locationmode\": \"USA-states\", \"lon\": [-87.90446417, -82.53325], \"mode\": \"lines\", \"opacity\": 0.16411378555798686, \"type\": \"scattergeo\"}, {\"lat\": [18.43941667, 27.97547222], \"line\": {\"color\": \"red\", \"width\": 1}, \"locationmode\": \"USA-states\", \"lon\": [-66.00183333, -82.53325], \"mode\": \"lines\", \"opacity\": 0.061269146608315096, \"type\": \"scattergeo\"}, {\"lat\": [32.89595056, 36.19837222], \"line\": {\"color\": \"red\", \"width\": 1}, \"locationmode\": \"USA-states\", \"lon\": [-97.0372, -95.88824167], \"mode\": \"lines\", \"opacity\": 0.42669584245076586, \"type\": \"scattergeo\"}, {\"lat\": [32.89595056, 32.11608333], \"line\": {\"color\": \"red\", \"width\": 1}, \"locationmode\": \"USA-states\", \"lon\": [-97.0372, -110.94102779999999], \"mode\": \"lines\", \"opacity\": 0.45842450765864334, \"type\": \"scattergeo\"}, {\"hoverinfo\": \"text\", \"lat\": [41.979595, 33.64044444, 32.89595056, 33.43416667, 39.85840806, 29.98047222, 37.61900194, 33.94253611, 28.42888889, 35.21401111, 40.78838778, 27.97547222, 40.69249722, 36.08036111, 39.87195278, 44.88054694, 47.44898194, 40.77724306, 41.7859825, 38.94453194, 32.73355611, 38.74768694, 42.21205889, 40.63975111, 25.79325, 42.3643475, 38.69542167, 39.17540167, 33.67565861, 29.99338889, 37.36186194, 38.85208333, 45.58872222, 26.53616667, 26.68316194, 35.87763889, 29.64541861, 29.53369444, 26.07258333, 39.29760528, 37.72129083, 40.49146583, 35.04241667, 42.94722222, 41.41089417, 30.49405556, 32.11608333, 39.71732917, 39.49857611, 35.39308833, 41.72399917, 36.19837222, 39.04614278, 39.99798528, 38.17438889, 34.056, 34.72939611, 32.84711389, 41.30251861, 36.89461111, 39.90237583, 43.11886611, 36.28186944, 36.12447667, 35.04022222, 32.31116667, 31.80666667, 37.50516667, 41.93887417, 31.94252778, 30.53316083, 35.81248722, 38.80580556, 30.47330556, 43.11118694, 33.56294306, 42.93451639, 33.82921556, 27.39533333, 27.77036083, 34.6404475, 33.93884, 30.20527972, 34.42621194, 47.61985556, 30.69141667, 37.64995889, 42.94052472, 41.53493306, 40.19349528, 43.64616667, 32.30064417, 37.13189556, 41.06695778, 36.5869825, 42.88081972, 30.448674, 32.65658333, 39.22316, 30.39652778, 30.40728028, 44.04532139, 33.81772222, 34.27061111, 38.03697222, 43.13985778, 44.123259999999995, 32.12758333, 33.66363889, 41.88458833, 34.89566722, 36.09774694, 40.7952425, 41.44852639, 35.43619444, 40.91631194, 40.47798556, 26.22850611, 30.48325, 32.446627500000005, 46.91934889, 40.48118028, 42.37422778, 40.66424333, 27.54373861, 30.19453278, 32.41132, 37.24432611, 42.96550333, 36.47521417, 31.06489778, 32.89864639, 44.48507333, 44.25406722, 32.51633333, 41.70895361, 43.56444444, 33.67975, 48.25937778, 40.03925, 37.32546833, 39.64256778, 43.60732417, 45.77690139, 39.1224125, 34.20061917, 38.03799139, 38.53396333, 43.51455556, 36.77619444, 39.84395194, 26.17583333, 40.50898361, 47.949255, 43.58135111, 42.48180389, 34.89924833, 42.91130556, 31.32133917, 34.82916444, 38.50886722, 46.77411111, 42.90835556, 44.74144472, 32.51086556, 46.26468028, 39.14096722, 31.32737167, 43.41713889, 35.61677778, 42.15614361, 41.50409361, 38.13863889, 30.7825, 44.77761917, 35.65884306, 40.97811528, 31.25902778, 40.85097222, 40.97846583, 44.52019417, 37.06083333, 35.23705806, 41.33814944, 33.45033444, 44.34889806, 35.07297222, 33.369955, 35.33659028, 32.35413889, 46.60681806, 47.48200194, 32.33313333, 46.353639, 37.95375861, 35.03526833, 46.37449806, 37.70097028, 42.74811944, 44.47300361, 48.31140472, 28.10275, 29.17991667, 40.65236278, 46.84209028, 41.155722499999996, 41.5942175, 37.85830556, 38.37315083, 48.79275, 37.62404861, 44.25740806, 36.385913, 27.91076333, 33.98879611, 34.99147222, 44.86525722, 42.40295944, 43.90882639, 34.681499, 45.8076625], \"locationmode\": \"USA-states\", \"lon\": [-87.90446417, -84.42694444, -97.0372, -112.00805559999999, -104.6670019, -95.33972222, -122.3748433, -118.40807439999999, -81.31602778, -80.94312583, -111.9777731, -82.53325, -74.16866056, -115.15233329999998, -75.24114083, -93.2169225, -122.30931310000001, -73.87260917, -87.75242444, -77.45580972, -117.1896567, -90.35998972, -83.34883583, -73.77892556, -80.29055556, -71.00517917, -121.5907669, -76.66819833, -117.86822250000002, -90.25802778, -121.92900890000001, -77.03772222, -122.5975, -81.75516667, -80.09559417, -78.78747222, -95.27888889, -98.46977778, -80.15275, -94.71390556, -122.22071670000001, -80.23287083, -89.97666667, -87.89658333, -81.84939667, -81.68786111, -110.94102779999999, -86.29438417, -119.76806470000001, -97.60073389, -71.42822111, -95.88824167, -84.6621725, -82.89188278, -85.736, -117.60119440000001, -92.22424556, -96.85177222, -95.89417306, -76.20122222, -84.219375, -77.67238389, -94.30681111, -86.67818222, -106.6091944, -90.07588889, -106.37780559999999, -77.31966667, -72.68322833, -102.20191390000001, -91.14963444, -83.99285583, -104.70025, -87.18744444, -76.10631056, -86.75354972, -71.43705583, -116.5062531, -82.55411111, -97.50121528, -86.77310944, -81.11953944, -91.987655, -119.8403733, -117.5338425, -88.24283333, -97.43304583, -78.73216667, -93.66068222, -76.76340361, -70.30875, -86.39397611, -76.4929875, -73.70757444, -121.84294779999999, -85.52276778, -84.550781, -114.60597220000001, -106.868845, -84.35033333, -89.07009278, -103.0573708, -118.1516111, -77.90255556, -84.60538889, -89.33751361, -123.21868559999999, -81.20213889, -101.8227778, -91.71087222, -82.21885833, -79.9372975, -73.10021194, -90.50753917, -82.54180556, -81.44246556, -88.91595278, -97.65439389, -86.5254, -93.82559833, -96.81498889, -107.21765970000001, -122.8734978, -89.69330556, -99.46154361, -97.66987194, -99.68189722, -93.38685806, -83.74345639, -82.40742056, -97.82779778, -80.04050583, -88.12959000000001, -121.1499633, -84.93886111, -86.31847417, -116.22277779999999, -78.92833333, -101.2803339, -88.27805556, -79.97542833, -106.91769529999999, -110.7377389, -111.15300719999999, -108.5267347, -118.3584969, -87.53062667, -106.9331817, -112.07016670000002, -119.7181389, -89.67761861, -98.23861111, -122.2934019, -97.17611111, -96.74170028, -114.4877356, -120.4575825, -112.59586110000001, -85.44962889, -77.61213778, -107.89383329999998, -100.74672220000001, -106.46446609999998, -85.582235, -92.03768778, -119.11902920000001, -96.67083278, -92.54855611, -124.2460278, -106.08813889999999, -121.7332081, -74.10483833, -78.45286111, -83.27672222, -89.66677944, -117.8295122, -124.1086189, -81.46630556, -96.75925, -85.19514639, -109.02379609999998, -88.77375, -120.64239309999999, -75.72426750000001, -88.59136861, -105.5393614, -77.04294444, -81.96449611, -94.36744111, -95.40238611, -111.9827503, -111.37068529999999, -88.75120556, -87.395361, -107.90848000000001, -85.20378778, -117.01539440000002, -113.098575, -73.80297861, -73.1503125, -114.25506940000001, -80.64580556, -81.05805556, -75.44040167, -92.19364861, -104.81183809999999, -109.0651928, -80.39947222, -81.59318972, -122.53752779999999, -118.8377722, -88.51947556, -92.548828, -82.68743944, -98.49189333, -78.88, -91.48507194, -90.70916722, -92.49798722, -90.348816, -108.54286110000001], \"marker\": {\"color\": \"rgb(255, 0, 0)\", \"line\": {\"color\": \"rgba(68, 68, 68, 0)\", \"width\": 3}, \"size\": 2}, \"mode\": \"markers\", \"text\": [\"Chicago O'Hare International\", \"William B Hartsfield-Atlanta Intl\", \"Dallas-Fort Worth International\", \"Phoenix Sky Harbor International\", \"Denver Intl\", \"George Bush Intercontinental\", \"San Francisco International\", \"Los Angeles International\", \"Orlando International\", \"Charlotte/Douglas International\", \"Salt Lake City Intl\", \"Tampa International \", \"Newark Intl\", \"McCarran International\", \"Philadelphia Intl\", \"Minneapolis-St Paul Intl\", \"Seattle-Tacoma Intl\", \"LaGuardia\", \"Chicago Midway\", \"Washington Dulles International\", \"San Diego International-Lindbergh \", \"Lambert-St Louis International\", \"Detroit Metropolitan-Wayne County\", \"John F Kennedy Intl\", \"Miami International\", \"Gen Edw L Logan Intl\", \"Sacramento International\", \"Baltimore-Washington International\", \"John Wayne /Orange Co\", \"New Orleans International \", \"San Jose International\", \"Ronald Reagan Washington National\", \"Portland Intl\", \"Southwest Florida International\", \"Palm Beach International\", \"Raleigh-Durham International\", \"William P Hobby\", \"San Antonio International\", \"Fort Lauderdale-Hollywood Int'l\", \"Kansas City International\", \"Metropolitan Oakland International\", \"Pittsburgh International\", \"Memphis International\", \"General Mitchell International\", \"Cleveland-Hopkins Intl\", \"Jacksonville International\", \"Tucson International\", \"Indianapolis International\", \"Reno/Tahoe International\", \"Will Rogers World\", \"Theodore F Green State\", \"Tulsa International\", \"Cincinnati Northern Kentucky Intl\", \"Port Columbus Intl\", \"Louisville International-Standiford \", \"Ontario International\", \"Adams \", \"Dallas Love \", \"Eppley Airfield\", \"Norfolk International\", \"James M Cox Dayton Intl\", \"Greater Rochester Int'l\", \"Northwest Arkansas Regional\", \"Nashville International\", \"Albuquerque International\", \"Jackson International\", \"El Paso International\", \"Richmond International\", \"Bradley International\", \"Midland International\", \"Baton Rouge Metropolitan, Ryan \", \"McGhee-Tyson\", \"City of Colorado Springs Muni\", \"Pensacola Regional\", \"Syracuse-Hancock Intl\", \"Birmingham International\", \"Manchester\", \"Palm Springs International\", \"Sarasota Bradenton International\", \"Corpus Christi International\", \"Huntsville International \", \"Columbia Metropolitan\", \"Lafayette Regional\", \"Santa Barbara Municipal\", \"Spokane Intl\", \"Mobile Regional\", \"Wichita Mid-Continent\", \"Buffalo Niagara Intl\", \"Des Moines International\", \"Harrisburg Intl\", \"Portland International Jetport\", \"Montgomery Regional Apt\", \"Newport News/Williamsburg International\", \"Westchester Cty\", \"Monterey Peninsula\", \"Kent County International\", \"Florida Beach\", \"Yuma MCAS-Yuma International\", \"Aspen-Pitkin Co/Sardy \", \"Tallahassee Regional\", \"Gulfport-Biloxi Regional\", \"Rapid City Regional\", \"Long Beach (Daugherty )\", \"Wilmington International\", \"Blue Grass \", \"Dane County Regional\", \"Mahlon Sweet \", \"Savannah International\", \"Lubbock International\", \"Eastern Iowa \", \"Greenville-Spartanburg\", \"Piedmont Triad International\", \"Long Island - MacArthur\", \"Quad City\", \"Asheville Regional\", \"Akron-Canton Regional\", \"Central Illinois Regional\", \"Valley International\", \"Eglin Air Force Base\", \"Shreveport Regional\", \"Hector International\", \"Yampa Valley\", \"Rogue Valley International\", \"Greater Peoria Regional\", \"Laredo International\", \"Austin-Bergstrom International\", \"Abilene Regional\", \"Springfield-Branson Regional\", \"Bishop\", \"Tri-Cities Regional\", \"Robert Gray AAF\", \"Charleston AFB/International\", \"Austin Straubel International\", \"Roberts \", \"Columbus Metropolitan\", \"South Bend Regional\", \"Boise Air Terminal\", \"Myrtle Beach International\", \"Minot International\", \"University of Illinois-Willard\", \"Roanoke Regional/ Woodrum \", \"Eagle County Regional\", \"Jackson Hole\", \"Gallatin \", \"Walker \", \"Burbank-Glendale-Pasadena\", \"Evansville Regional\", \"Gunnison County\", \"Idaho Falls Regional\", \"Fresno Yosemite International\", \"Capital\", \"McAllen Miller International\", \"Redding Municipal\", \"Grand Forks International\", \"Joe Foss \", \"Joslin Field - Magic Valley\", \"Santa Maria Pub/Capt G Allan Hancock \", \"Pocatello Regional\", \"Dothan \", \"Albert J Ellis\", \"Montrose Regional\", \"Bismarck Municipal\", \"Natrona County Intl\", \"Cherry Capital\", \"Monroe Regional\", \"Tri-Cities\", \"Manhattan Regional\", \"Alexandria International\", \"North Bend Muni\", \"Santa Fe Municipal\", \"Klamath Falls International\", \"Stewart\", \"Charlottesville-Albermarle\", \"Valdosta Regional\", \"Central Wisconsin\", \"Inyokern\", \"Arcata\", \"Glynco Jetport\", \"Lincoln Municipal\", \"Fort Wayne International\", \"Yellowstone Regional\", \"Barkley Regional\", \"San Luis Obispo Co-McChesney \", \"Wilkes-Barre/Scranton Intl\", \"Golden Triangle Regional\", \"Gillette-Campbell County\", \"Craven County Regional\", \"Bush \", \"Fort Smith Regional\", \"Tyler Pounds \", \"Helena Regional\", \"Great Falls Intl\", \"Key \", \"Marquette County Airport\", \"Telluride Regional\", \"Lovell \", \"Lewiston-Nez Perce County\", \"Cedar City Muni\", \"Albany Cty\", \"Burlington International\", \"Glacier Park Intl\", \"Melbourne International \", \"Daytona Beach International\", \"Lehigh Valley International\", \"Duluth International\", \"Cheyenne\", \"Rock Springs-Sweetwater County\", \"Greenbrier Valley\", \"Yeager\", \"Bellingham Intl\", \"Mammoth Yosemite\", \"Outagamie County Regional\", \"Branson Airport\", \"St. Petersburg-Clearwater International\", \"Sheppard AFB/Wichita Falls Municipal\", \"Fayetteville Municipal\", \"Chippewa Valley Regional\", \"Dubuque Municipal\", \"Rochester International\", \"Tunica Municipal Airport\", \"Billings Logan Intl\"], \"type\": \"scattergeo\"}],                        {\"geo\": {\"countrycolor\": \"rgb(204, 204, 204)\", \"landcolor\": \"rgb(243, 243, 243)\", \"projection\": {\"type\": \"azimuthal equal area\"}, \"scope\": \"north america\", \"showland\": true}, \"height\": 800, \"showlegend\": false, \"template\": {\"data\": {\"bar\": [{\"error_x\": {\"color\": \"#2a3f5f\"}, \"error_y\": {\"color\": \"#2a3f5f\"}, \"marker\": {\"line\": {\"color\": \"#E5ECF6\", \"width\": 0.5}}, \"type\": \"bar\"}], \"barpolar\": [{\"marker\": {\"line\": {\"color\": \"#E5ECF6\", \"width\": 0.5}}, \"type\": \"barpolar\"}], \"carpet\": [{\"aaxis\": {\"endlinecolor\": \"#2a3f5f\", \"gridcolor\": \"white\", \"linecolor\": \"white\", \"minorgridcolor\": \"white\", \"startlinecolor\": \"#2a3f5f\"}, \"baxis\": {\"endlinecolor\": \"#2a3f5f\", \"gridcolor\": \"white\", \"linecolor\": \"white\", \"minorgridcolor\": \"white\", \"startlinecolor\": \"#2a3f5f\"}, \"type\": \"carpet\"}], \"choropleth\": [{\"colorbar\": {\"outlinewidth\": 0, \"ticks\": \"\"}, \"type\": \"choropleth\"}], \"contour\": [{\"colorbar\": {\"outlinewidth\": 0, \"ticks\": \"\"}, \"colorscale\": [[0.0, \"#0d0887\"], [0.1111111111111111, \"#46039f\"], [0.2222222222222222, \"#7201a8\"], [0.3333333333333333, \"#9c179e\"], [0.4444444444444444, \"#bd3786\"], [0.5555555555555556, \"#d8576b\"], [0.6666666666666666, \"#ed7953\"], [0.7777777777777778, \"#fb9f3a\"], [0.8888888888888888, \"#fdca26\"], [1.0, \"#f0f921\"]], \"type\": \"contour\"}], \"contourcarpet\": [{\"colorbar\": {\"outlinewidth\": 0, \"ticks\": \"\"}, \"type\": \"contourcarpet\"}], \"heatmap\": [{\"colorbar\": {\"outlinewidth\": 0, \"ticks\": \"\"}, \"colorscale\": [[0.0, \"#0d0887\"], [0.1111111111111111, \"#46039f\"], [0.2222222222222222, \"#7201a8\"], [0.3333333333333333, \"#9c179e\"], [0.4444444444444444, \"#bd3786\"], [0.5555555555555556, \"#d8576b\"], [0.6666666666666666, \"#ed7953\"], [0.7777777777777778, \"#fb9f3a\"], [0.8888888888888888, \"#fdca26\"], [1.0, \"#f0f921\"]], \"type\": \"heatmap\"}], \"heatmapgl\": [{\"colorbar\": {\"outlinewidth\": 0, \"ticks\": \"\"}, \"colorscale\": [[0.0, \"#0d0887\"], [0.1111111111111111, \"#46039f\"], [0.2222222222222222, \"#7201a8\"], [0.3333333333333333, \"#9c179e\"], [0.4444444444444444, \"#bd3786\"], [0.5555555555555556, \"#d8576b\"], [0.6666666666666666, \"#ed7953\"], [0.7777777777777778, \"#fb9f3a\"], [0.8888888888888888, \"#fdca26\"], [1.0, \"#f0f921\"]], \"type\": \"heatmapgl\"}], \"histogram\": [{\"marker\": {\"colorbar\": {\"outlinewidth\": 0, \"ticks\": \"\"}}, \"type\": \"histogram\"}], \"histogram2d\": [{\"colorbar\": {\"outlinewidth\": 0, \"ticks\": \"\"}, \"colorscale\": [[0.0, \"#0d0887\"], [0.1111111111111111, \"#46039f\"], [0.2222222222222222, \"#7201a8\"], [0.3333333333333333, \"#9c179e\"], [0.4444444444444444, \"#bd3786\"], [0.5555555555555556, \"#d8576b\"], [0.6666666666666666, \"#ed7953\"], [0.7777777777777778, \"#fb9f3a\"], [0.8888888888888888, \"#fdca26\"], [1.0, \"#f0f921\"]], \"type\": \"histogram2d\"}], \"histogram2dcontour\": [{\"colorbar\": {\"outlinewidth\": 0, \"ticks\": \"\"}, \"colorscale\": [[0.0, \"#0d0887\"], [0.1111111111111111, \"#46039f\"], [0.2222222222222222, \"#7201a8\"], [0.3333333333333333, \"#9c179e\"], [0.4444444444444444, \"#bd3786\"], [0.5555555555555556, \"#d8576b\"], [0.6666666666666666, \"#ed7953\"], [0.7777777777777778, \"#fb9f3a\"], [0.8888888888888888, \"#fdca26\"], [1.0, \"#f0f921\"]], \"type\": \"histogram2dcontour\"}], \"mesh3d\": [{\"colorbar\": {\"outlinewidth\": 0, \"ticks\": \"\"}, \"type\": \"mesh3d\"}], \"parcoords\": [{\"line\": {\"colorbar\": {\"outlinewidth\": 0, \"ticks\": \"\"}}, \"type\": \"parcoords\"}], \"pie\": [{\"automargin\": true, \"type\": \"pie\"}], \"scatter\": [{\"marker\": {\"colorbar\": {\"outlinewidth\": 0, \"ticks\": \"\"}}, \"type\": \"scatter\"}], \"scatter3d\": [{\"line\": {\"colorbar\": {\"outlinewidth\": 0, \"ticks\": \"\"}}, \"marker\": {\"colorbar\": {\"outlinewidth\": 0, \"ticks\": \"\"}}, \"type\": \"scatter3d\"}], \"scattercarpet\": [{\"marker\": {\"colorbar\": {\"outlinewidth\": 0, \"ticks\": \"\"}}, \"type\": \"scattercarpet\"}], \"scattergeo\": [{\"marker\": {\"colorbar\": {\"outlinewidth\": 0, \"ticks\": \"\"}}, \"type\": \"scattergeo\"}], \"scattergl\": [{\"marker\": {\"colorbar\": {\"outlinewidth\": 0, \"ticks\": \"\"}}, \"type\": \"scattergl\"}], \"scattermapbox\": [{\"marker\": {\"colorbar\": {\"outlinewidth\": 0, \"ticks\": \"\"}}, \"type\": \"scattermapbox\"}], \"scatterpolar\": [{\"marker\": {\"colorbar\": {\"outlinewidth\": 0, \"ticks\": \"\"}}, \"type\": \"scatterpolar\"}], \"scatterpolargl\": [{\"marker\": {\"colorbar\": {\"outlinewidth\": 0, \"ticks\": \"\"}}, \"type\": \"scatterpolargl\"}], \"scatterternary\": [{\"marker\": {\"colorbar\": {\"outlinewidth\": 0, \"ticks\": \"\"}}, \"type\": \"scatterternary\"}], \"surface\": [{\"colorbar\": {\"outlinewidth\": 0, \"ticks\": \"\"}, \"colorscale\": [[0.0, \"#0d0887\"], [0.1111111111111111, \"#46039f\"], [0.2222222222222222, \"#7201a8\"], [0.3333333333333333, \"#9c179e\"], [0.4444444444444444, \"#bd3786\"], [0.5555555555555556, \"#d8576b\"], [0.6666666666666666, \"#ed7953\"], [0.7777777777777778, \"#fb9f3a\"], [0.8888888888888888, \"#fdca26\"], [1.0, \"#f0f921\"]], \"type\": \"surface\"}], \"table\": [{\"cells\": {\"fill\": {\"color\": \"#EBF0F8\"}, \"line\": {\"color\": \"white\"}}, \"header\": {\"fill\": {\"color\": \"#C8D4E3\"}, \"line\": {\"color\": \"white\"}}, \"type\": \"table\"}]}, \"layout\": {\"annotationdefaults\": {\"arrowcolor\": \"#2a3f5f\", \"arrowhead\": 0, \"arrowwidth\": 1}, \"autotypenumbers\": \"strict\", \"coloraxis\": {\"colorbar\": {\"outlinewidth\": 0, \"ticks\": \"\"}}, \"colorscale\": {\"diverging\": [[0, \"#8e0152\"], [0.1, \"#c51b7d\"], [0.2, \"#de77ae\"], [0.3, \"#f1b6da\"], [0.4, \"#fde0ef\"], [0.5, \"#f7f7f7\"], [0.6, \"#e6f5d0\"], [0.7, \"#b8e186\"], [0.8, \"#7fbc41\"], [0.9, \"#4d9221\"], [1, \"#276419\"]], \"sequential\": [[0.0, \"#0d0887\"], [0.1111111111111111, \"#46039f\"], [0.2222222222222222, \"#7201a8\"], [0.3333333333333333, \"#9c179e\"], [0.4444444444444444, \"#bd3786\"], [0.5555555555555556, \"#d8576b\"], [0.6666666666666666, \"#ed7953\"], [0.7777777777777778, \"#fb9f3a\"], [0.8888888888888888, \"#fdca26\"], [1.0, \"#f0f921\"]], \"sequentialminus\": [[0.0, \"#0d0887\"], [0.1111111111111111, \"#46039f\"], [0.2222222222222222, \"#7201a8\"], [0.3333333333333333, \"#9c179e\"], [0.4444444444444444, \"#bd3786\"], [0.5555555555555556, \"#d8576b\"], [0.6666666666666666, \"#ed7953\"], [0.7777777777777778, \"#fb9f3a\"], [0.8888888888888888, \"#fdca26\"], [1.0, \"#f0f921\"]]}, \"colorway\": [\"#636efa\", \"#EF553B\", \"#00cc96\", \"#ab63fa\", \"#FFA15A\", \"#19d3f3\", \"#FF6692\", \"#B6E880\", \"#FF97FF\", \"#FECB52\"], \"font\": {\"color\": \"#2a3f5f\"}, \"geo\": {\"bgcolor\": \"white\", \"lakecolor\": \"white\", \"landcolor\": \"#E5ECF6\", \"showlakes\": true, \"showland\": true, \"subunitcolor\": \"white\"}, \"hoverlabel\": {\"align\": \"left\"}, \"hovermode\": \"closest\", \"mapbox\": {\"style\": \"light\"}, \"paper_bgcolor\": \"white\", \"plot_bgcolor\": \"#E5ECF6\", \"polar\": {\"angularaxis\": {\"gridcolor\": \"white\", \"linecolor\": \"white\", \"ticks\": \"\"}, \"bgcolor\": \"#E5ECF6\", \"radialaxis\": {\"gridcolor\": \"white\", \"linecolor\": \"white\", \"ticks\": \"\"}}, \"scene\": {\"xaxis\": {\"backgroundcolor\": \"#E5ECF6\", \"gridcolor\": \"white\", \"gridwidth\": 2, \"linecolor\": \"white\", \"showbackground\": true, \"ticks\": \"\", \"zerolinecolor\": \"white\"}, \"yaxis\": {\"backgroundcolor\": \"#E5ECF6\", \"gridcolor\": \"white\", \"gridwidth\": 2, \"linecolor\": \"white\", \"showbackground\": true, \"ticks\": \"\", \"zerolinecolor\": \"white\"}, \"zaxis\": {\"backgroundcolor\": \"#E5ECF6\", \"gridcolor\": \"white\", \"gridwidth\": 2, \"linecolor\": \"white\", \"showbackground\": true, \"ticks\": \"\", \"zerolinecolor\": \"white\"}}, \"shapedefaults\": {\"line\": {\"color\": \"#2a3f5f\"}}, \"ternary\": {\"aaxis\": {\"gridcolor\": \"white\", \"linecolor\": \"white\", \"ticks\": \"\"}, \"baxis\": {\"gridcolor\": \"white\", \"linecolor\": \"white\", \"ticks\": \"\"}, \"bgcolor\": \"#E5ECF6\", \"caxis\": {\"gridcolor\": \"white\", \"linecolor\": \"white\", \"ticks\": \"\"}}, \"title\": {\"x\": 0.05}, \"xaxis\": {\"automargin\": true, \"gridcolor\": \"white\", \"linecolor\": \"white\", \"ticks\": \"\", \"title\": {\"standoff\": 15}, \"zerolinecolor\": \"white\", \"zerolinewidth\": 2}, \"yaxis\": {\"automargin\": true, \"gridcolor\": \"white\", \"linecolor\": \"white\", \"ticks\": \"\", \"title\": {\"standoff\": 15}, \"zerolinecolor\": \"white\", \"zerolinewidth\": 2}}}, \"title\": {\"text\": \"Feb. 2011 American Airline flight paths<br>(Hover for airport names)\"}},                        {\"responsive\": true}                    ).then(function(){\n                            \nvar gd = document.getElementById('d57038f1-4256-4d20-bf33-dc9a39f940c2');\nvar x = new MutationObserver(function (mutations, observer) {{\n        var display = window.getComputedStyle(gd).display;\n        if (!display || display === 'none') {{\n            console.log([gd, 'removed!']);\n            Plotly.purge(gd);\n            observer.disconnect();\n        }}\n}});\n\n// Listen for the removal of the full notebook cells\nvar notebookContainer = gd.closest('#notebook-container');\nif (notebookContainer) {{\n    x.observe(notebookContainer, {childList: true});\n}}\n\n// Listen for the clearing of the current output cell\nvar outputEl = gd.closest('.output');\nif (outputEl) {{\n    x.observe(outputEl, {childList: true});\n}}\n\n                        })                };                });            </script>        </div>"
     },
     "metadata": {}
    }
   ],
   "source": [
    "df_airports = pd.read_csv('https://raw.githubusercontent.com/plotly/datasets/master/2011_february_us_airport_traffic.csv')\n",
    "df_airports.head()\n",
    "\n",
    "df_flight_paths = pd.read_csv('https://raw.githubusercontent.com/plotly/datasets/master/2011_february_aa_flight_paths.csv')\n",
    "df_flight_paths.head()\n",
    "\n",
    "airports = [ dict(\n",
    "        type = 'scattergeo',\n",
    "        locationmode = 'USA-states',\n",
    "        lon = df_airports['long'],\n",
    "        lat = df_airports['lat'],\n",
    "        hoverinfo = 'text',\n",
    "        text = df_airports['airport'],\n",
    "        mode = 'markers',\n",
    "        marker = dict( \n",
    "            size=2, \n",
    "            color='rgb(255, 0, 0)',\n",
    "            line = dict(\n",
    "                width=3,\n",
    "                color='rgba(68, 68, 68, 0)'\n",
    "            )\n",
    "        ))]\n",
    "        \n",
    "flight_paths = []\n",
    "for i in range( len( df_flight_paths ) ):\n",
    "    flight_paths.append(\n",
    "        dict(\n",
    "            type = 'scattergeo',\n",
    "            locationmode = 'USA-states',\n",
    "            lon = [ df_flight_paths['start_lon'][i], df_flight_paths['end_lon'][i] ],\n",
    "            lat = [ df_flight_paths['start_lat'][i], df_flight_paths['end_lat'][i] ],\n",
    "            mode = 'lines',\n",
    "            line = dict(\n",
    "                width = 1,\n",
    "                color = 'red',\n",
    "            ),\n",
    "            opacity = float(df_flight_paths['cnt'][i])/float(df_flight_paths['cnt'].max()),\n",
    "        )\n",
    "    )\n",
    "    \n",
    "layout = dict(\n",
    "        title = 'Feb. 2011 American Airline flight paths<br>(Hover for airport names)',\n",
    "        showlegend = False, \n",
    "        height = 800,\n",
    "        geo = dict(\n",
    "            scope='north america',\n",
    "            projection=dict( type='azimuthal equal area' ),\n",
    "            showland = True,\n",
    "            landcolor = 'rgb(243, 243, 243)',\n",
    "            countrycolor = 'rgb(204, 204, 204)',\n",
    "        ),\n",
    "    )\n",
    "    \n",
    "fig = dict( data=flight_paths + airports, layout=layout )\n",
    "\n",
    "iplot(fig)"
   ]
  },
  {
   "cell_type": "code",
   "execution_count": 6,
   "metadata": {},
   "outputs": [
    {
     "output_type": "display_data",
     "data": {
      "application/vnd.plotly.v1+json": {
       "config": {
        "plotlyServerURL": "https://plot.ly"
       },
       "data": [
        {
         "type": "bar",
         "y": [
          2,
          1,
          3
         ]
        }
       ],
       "layout": {
        "template": {
         "data": {
          "bar": [
           {
            "error_x": {
             "color": "#2a3f5f"
            },
            "error_y": {
             "color": "#2a3f5f"
            },
            "marker": {
             "line": {
              "color": "#E5ECF6",
              "width": 0.5
             }
            },
            "type": "bar"
           }
          ],
          "barpolar": [
           {
            "marker": {
             "line": {
              "color": "#E5ECF6",
              "width": 0.5
             }
            },
            "type": "barpolar"
           }
          ],
          "carpet": [
           {
            "aaxis": {
             "endlinecolor": "#2a3f5f",
             "gridcolor": "white",
             "linecolor": "white",
             "minorgridcolor": "white",
             "startlinecolor": "#2a3f5f"
            },
            "baxis": {
             "endlinecolor": "#2a3f5f",
             "gridcolor": "white",
             "linecolor": "white",
             "minorgridcolor": "white",
             "startlinecolor": "#2a3f5f"
            },
            "type": "carpet"
           }
          ],
          "choropleth": [
           {
            "colorbar": {
             "outlinewidth": 0,
             "ticks": ""
            },
            "type": "choropleth"
           }
          ],
          "contour": [
           {
            "colorbar": {
             "outlinewidth": 0,
             "ticks": ""
            },
            "colorscale": [
             [
              0,
              "#0d0887"
             ],
             [
              0.1111111111111111,
              "#46039f"
             ],
             [
              0.2222222222222222,
              "#7201a8"
             ],
             [
              0.3333333333333333,
              "#9c179e"
             ],
             [
              0.4444444444444444,
              "#bd3786"
             ],
             [
              0.5555555555555556,
              "#d8576b"
             ],
             [
              0.6666666666666666,
              "#ed7953"
             ],
             [
              0.7777777777777778,
              "#fb9f3a"
             ],
             [
              0.8888888888888888,
              "#fdca26"
             ],
             [
              1,
              "#f0f921"
             ]
            ],
            "type": "contour"
           }
          ],
          "contourcarpet": [
           {
            "colorbar": {
             "outlinewidth": 0,
             "ticks": ""
            },
            "type": "contourcarpet"
           }
          ],
          "heatmap": [
           {
            "colorbar": {
             "outlinewidth": 0,
             "ticks": ""
            },
            "colorscale": [
             [
              0,
              "#0d0887"
             ],
             [
              0.1111111111111111,
              "#46039f"
             ],
             [
              0.2222222222222222,
              "#7201a8"
             ],
             [
              0.3333333333333333,
              "#9c179e"
             ],
             [
              0.4444444444444444,
              "#bd3786"
             ],
             [
              0.5555555555555556,
              "#d8576b"
             ],
             [
              0.6666666666666666,
              "#ed7953"
             ],
             [
              0.7777777777777778,
              "#fb9f3a"
             ],
             [
              0.8888888888888888,
              "#fdca26"
             ],
             [
              1,
              "#f0f921"
             ]
            ],
            "type": "heatmap"
           }
          ],
          "heatmapgl": [
           {
            "colorbar": {
             "outlinewidth": 0,
             "ticks": ""
            },
            "colorscale": [
             [
              0,
              "#0d0887"
             ],
             [
              0.1111111111111111,
              "#46039f"
             ],
             [
              0.2222222222222222,
              "#7201a8"
             ],
             [
              0.3333333333333333,
              "#9c179e"
             ],
             [
              0.4444444444444444,
              "#bd3786"
             ],
             [
              0.5555555555555556,
              "#d8576b"
             ],
             [
              0.6666666666666666,
              "#ed7953"
             ],
             [
              0.7777777777777778,
              "#fb9f3a"
             ],
             [
              0.8888888888888888,
              "#fdca26"
             ],
             [
              1,
              "#f0f921"
             ]
            ],
            "type": "heatmapgl"
           }
          ],
          "histogram": [
           {
            "marker": {
             "colorbar": {
              "outlinewidth": 0,
              "ticks": ""
             }
            },
            "type": "histogram"
           }
          ],
          "histogram2d": [
           {
            "colorbar": {
             "outlinewidth": 0,
             "ticks": ""
            },
            "colorscale": [
             [
              0,
              "#0d0887"
             ],
             [
              0.1111111111111111,
              "#46039f"
             ],
             [
              0.2222222222222222,
              "#7201a8"
             ],
             [
              0.3333333333333333,
              "#9c179e"
             ],
             [
              0.4444444444444444,
              "#bd3786"
             ],
             [
              0.5555555555555556,
              "#d8576b"
             ],
             [
              0.6666666666666666,
              "#ed7953"
             ],
             [
              0.7777777777777778,
              "#fb9f3a"
             ],
             [
              0.8888888888888888,
              "#fdca26"
             ],
             [
              1,
              "#f0f921"
             ]
            ],
            "type": "histogram2d"
           }
          ],
          "histogram2dcontour": [
           {
            "colorbar": {
             "outlinewidth": 0,
             "ticks": ""
            },
            "colorscale": [
             [
              0,
              "#0d0887"
             ],
             [
              0.1111111111111111,
              "#46039f"
             ],
             [
              0.2222222222222222,
              "#7201a8"
             ],
             [
              0.3333333333333333,
              "#9c179e"
             ],
             [
              0.4444444444444444,
              "#bd3786"
             ],
             [
              0.5555555555555556,
              "#d8576b"
             ],
             [
              0.6666666666666666,
              "#ed7953"
             ],
             [
              0.7777777777777778,
              "#fb9f3a"
             ],
             [
              0.8888888888888888,
              "#fdca26"
             ],
             [
              1,
              "#f0f921"
             ]
            ],
            "type": "histogram2dcontour"
           }
          ],
          "mesh3d": [
           {
            "colorbar": {
             "outlinewidth": 0,
             "ticks": ""
            },
            "type": "mesh3d"
           }
          ],
          "parcoords": [
           {
            "line": {
             "colorbar": {
              "outlinewidth": 0,
              "ticks": ""
             }
            },
            "type": "parcoords"
           }
          ],
          "pie": [
           {
            "automargin": true,
            "type": "pie"
           }
          ],
          "scatter": [
           {
            "marker": {
             "colorbar": {
              "outlinewidth": 0,
              "ticks": ""
             }
            },
            "type": "scatter"
           }
          ],
          "scatter3d": [
           {
            "line": {
             "colorbar": {
              "outlinewidth": 0,
              "ticks": ""
             }
            },
            "marker": {
             "colorbar": {
              "outlinewidth": 0,
              "ticks": ""
             }
            },
            "type": "scatter3d"
           }
          ],
          "scattercarpet": [
           {
            "marker": {
             "colorbar": {
              "outlinewidth": 0,
              "ticks": ""
             }
            },
            "type": "scattercarpet"
           }
          ],
          "scattergeo": [
           {
            "marker": {
             "colorbar": {
              "outlinewidth": 0,
              "ticks": ""
             }
            },
            "type": "scattergeo"
           }
          ],
          "scattergl": [
           {
            "marker": {
             "colorbar": {
              "outlinewidth": 0,
              "ticks": ""
             }
            },
            "type": "scattergl"
           }
          ],
          "scattermapbox": [
           {
            "marker": {
             "colorbar": {
              "outlinewidth": 0,
              "ticks": ""
             }
            },
            "type": "scattermapbox"
           }
          ],
          "scatterpolar": [
           {
            "marker": {
             "colorbar": {
              "outlinewidth": 0,
              "ticks": ""
             }
            },
            "type": "scatterpolar"
           }
          ],
          "scatterpolargl": [
           {
            "marker": {
             "colorbar": {
              "outlinewidth": 0,
              "ticks": ""
             }
            },
            "type": "scatterpolargl"
           }
          ],
          "scatterternary": [
           {
            "marker": {
             "colorbar": {
              "outlinewidth": 0,
              "ticks": ""
             }
            },
            "type": "scatterternary"
           }
          ],
          "surface": [
           {
            "colorbar": {
             "outlinewidth": 0,
             "ticks": ""
            },
            "colorscale": [
             [
              0,
              "#0d0887"
             ],
             [
              0.1111111111111111,
              "#46039f"
             ],
             [
              0.2222222222222222,
              "#7201a8"
             ],
             [
              0.3333333333333333,
              "#9c179e"
             ],
             [
              0.4444444444444444,
              "#bd3786"
             ],
             [
              0.5555555555555556,
              "#d8576b"
             ],
             [
              0.6666666666666666,
              "#ed7953"
             ],
             [
              0.7777777777777778,
              "#fb9f3a"
             ],
             [
              0.8888888888888888,
              "#fdca26"
             ],
             [
              1,
              "#f0f921"
             ]
            ],
            "type": "surface"
           }
          ],
          "table": [
           {
            "cells": {
             "fill": {
              "color": "#EBF0F8"
             },
             "line": {
              "color": "white"
             }
            },
            "header": {
             "fill": {
              "color": "#C8D4E3"
             },
             "line": {
              "color": "white"
             }
            },
            "type": "table"
           }
          ]
         },
         "layout": {
          "annotationdefaults": {
           "arrowcolor": "#2a3f5f",
           "arrowhead": 0,
           "arrowwidth": 1
          },
          "autotypenumbers": "strict",
          "coloraxis": {
           "colorbar": {
            "outlinewidth": 0,
            "ticks": ""
           }
          },
          "colorscale": {
           "diverging": [
            [
             0,
             "#8e0152"
            ],
            [
             0.1,
             "#c51b7d"
            ],
            [
             0.2,
             "#de77ae"
            ],
            [
             0.3,
             "#f1b6da"
            ],
            [
             0.4,
             "#fde0ef"
            ],
            [
             0.5,
             "#f7f7f7"
            ],
            [
             0.6,
             "#e6f5d0"
            ],
            [
             0.7,
             "#b8e186"
            ],
            [
             0.8,
             "#7fbc41"
            ],
            [
             0.9,
             "#4d9221"
            ],
            [
             1,
             "#276419"
            ]
           ],
           "sequential": [
            [
             0,
             "#0d0887"
            ],
            [
             0.1111111111111111,
             "#46039f"
            ],
            [
             0.2222222222222222,
             "#7201a8"
            ],
            [
             0.3333333333333333,
             "#9c179e"
            ],
            [
             0.4444444444444444,
             "#bd3786"
            ],
            [
             0.5555555555555556,
             "#d8576b"
            ],
            [
             0.6666666666666666,
             "#ed7953"
            ],
            [
             0.7777777777777778,
             "#fb9f3a"
            ],
            [
             0.8888888888888888,
             "#fdca26"
            ],
            [
             1,
             "#f0f921"
            ]
           ],
           "sequentialminus": [
            [
             0,
             "#0d0887"
            ],
            [
             0.1111111111111111,
             "#46039f"
            ],
            [
             0.2222222222222222,
             "#7201a8"
            ],
            [
             0.3333333333333333,
             "#9c179e"
            ],
            [
             0.4444444444444444,
             "#bd3786"
            ],
            [
             0.5555555555555556,
             "#d8576b"
            ],
            [
             0.6666666666666666,
             "#ed7953"
            ],
            [
             0.7777777777777778,
             "#fb9f3a"
            ],
            [
             0.8888888888888888,
             "#fdca26"
            ],
            [
             1,
             "#f0f921"
            ]
           ]
          },
          "colorway": [
           "#636efa",
           "#EF553B",
           "#00cc96",
           "#ab63fa",
           "#FFA15A",
           "#19d3f3",
           "#FF6692",
           "#B6E880",
           "#FF97FF",
           "#FECB52"
          ],
          "font": {
           "color": "#2a3f5f"
          },
          "geo": {
           "bgcolor": "white",
           "lakecolor": "white",
           "landcolor": "#E5ECF6",
           "showlakes": true,
           "showland": true,
           "subunitcolor": "white"
          },
          "hoverlabel": {
           "align": "left"
          },
          "hovermode": "closest",
          "mapbox": {
           "style": "light"
          },
          "paper_bgcolor": "white",
          "plot_bgcolor": "#E5ECF6",
          "polar": {
           "angularaxis": {
            "gridcolor": "white",
            "linecolor": "white",
            "ticks": ""
           },
           "bgcolor": "#E5ECF6",
           "radialaxis": {
            "gridcolor": "white",
            "linecolor": "white",
            "ticks": ""
           }
          },
          "scene": {
           "xaxis": {
            "backgroundcolor": "#E5ECF6",
            "gridcolor": "white",
            "gridwidth": 2,
            "linecolor": "white",
            "showbackground": true,
            "ticks": "",
            "zerolinecolor": "white"
           },
           "yaxis": {
            "backgroundcolor": "#E5ECF6",
            "gridcolor": "white",
            "gridwidth": 2,
            "linecolor": "white",
            "showbackground": true,
            "ticks": "",
            "zerolinecolor": "white"
           },
           "zaxis": {
            "backgroundcolor": "#E5ECF6",
            "gridcolor": "white",
            "gridwidth": 2,
            "linecolor": "white",
            "showbackground": true,
            "ticks": "",
            "zerolinecolor": "white"
           }
          },
          "shapedefaults": {
           "line": {
            "color": "#2a3f5f"
           }
          },
          "ternary": {
           "aaxis": {
            "gridcolor": "white",
            "linecolor": "white",
            "ticks": ""
           },
           "baxis": {
            "gridcolor": "white",
            "linecolor": "white",
            "ticks": ""
           },
           "bgcolor": "#E5ECF6",
           "caxis": {
            "gridcolor": "white",
            "linecolor": "white",
            "ticks": ""
           }
          },
          "title": {
           "x": 0.05
          },
          "xaxis": {
           "automargin": true,
           "gridcolor": "white",
           "linecolor": "white",
           "ticks": "",
           "title": {
            "standoff": 15
           },
           "zerolinecolor": "white",
           "zerolinewidth": 2
          },
          "yaxis": {
           "automargin": true,
           "gridcolor": "white",
           "linecolor": "white",
           "ticks": "",
           "title": {
            "standoff": 15
           },
           "zerolinecolor": "white",
           "zerolinewidth": 2
          }
         }
        },
        "title": {
         "text": "A Figure Displayed with fig.show()"
        }
       }
      },
      "text/html": "<div>                            <div id=\"5a602a00-f938-46a3-b0e3-534aa4da06ad\" class=\"plotly-graph-div\" style=\"height:525px; width:100%;\"></div>            <script type=\"text/javascript\">                require([\"plotly\"], function(Plotly) {                    window.PLOTLYENV=window.PLOTLYENV || {};                                    if (document.getElementById(\"5a602a00-f938-46a3-b0e3-534aa4da06ad\")) {                    Plotly.newPlot(                        \"5a602a00-f938-46a3-b0e3-534aa4da06ad\",                        [{\"type\": \"bar\", \"y\": [2, 1, 3]}],                        {\"template\": {\"data\": {\"bar\": [{\"error_x\": {\"color\": \"#2a3f5f\"}, \"error_y\": {\"color\": \"#2a3f5f\"}, \"marker\": {\"line\": {\"color\": \"#E5ECF6\", \"width\": 0.5}}, \"type\": \"bar\"}], \"barpolar\": [{\"marker\": {\"line\": {\"color\": \"#E5ECF6\", \"width\": 0.5}}, \"type\": \"barpolar\"}], \"carpet\": [{\"aaxis\": {\"endlinecolor\": \"#2a3f5f\", \"gridcolor\": \"white\", \"linecolor\": \"white\", \"minorgridcolor\": \"white\", \"startlinecolor\": \"#2a3f5f\"}, \"baxis\": {\"endlinecolor\": \"#2a3f5f\", \"gridcolor\": \"white\", \"linecolor\": \"white\", \"minorgridcolor\": \"white\", \"startlinecolor\": \"#2a3f5f\"}, \"type\": \"carpet\"}], \"choropleth\": [{\"colorbar\": {\"outlinewidth\": 0, \"ticks\": \"\"}, \"type\": \"choropleth\"}], \"contour\": [{\"colorbar\": {\"outlinewidth\": 0, \"ticks\": \"\"}, \"colorscale\": [[0.0, \"#0d0887\"], [0.1111111111111111, \"#46039f\"], [0.2222222222222222, \"#7201a8\"], [0.3333333333333333, \"#9c179e\"], [0.4444444444444444, \"#bd3786\"], [0.5555555555555556, \"#d8576b\"], [0.6666666666666666, \"#ed7953\"], [0.7777777777777778, \"#fb9f3a\"], [0.8888888888888888, \"#fdca26\"], [1.0, \"#f0f921\"]], \"type\": \"contour\"}], \"contourcarpet\": [{\"colorbar\": {\"outlinewidth\": 0, \"ticks\": \"\"}, \"type\": \"contourcarpet\"}], \"heatmap\": [{\"colorbar\": {\"outlinewidth\": 0, \"ticks\": \"\"}, \"colorscale\": [[0.0, \"#0d0887\"], [0.1111111111111111, \"#46039f\"], [0.2222222222222222, \"#7201a8\"], [0.3333333333333333, \"#9c179e\"], [0.4444444444444444, \"#bd3786\"], [0.5555555555555556, \"#d8576b\"], [0.6666666666666666, \"#ed7953\"], [0.7777777777777778, \"#fb9f3a\"], [0.8888888888888888, \"#fdca26\"], [1.0, \"#f0f921\"]], \"type\": \"heatmap\"}], \"heatmapgl\": [{\"colorbar\": {\"outlinewidth\": 0, \"ticks\": \"\"}, \"colorscale\": [[0.0, \"#0d0887\"], [0.1111111111111111, \"#46039f\"], [0.2222222222222222, \"#7201a8\"], [0.3333333333333333, \"#9c179e\"], [0.4444444444444444, \"#bd3786\"], [0.5555555555555556, \"#d8576b\"], [0.6666666666666666, \"#ed7953\"], [0.7777777777777778, \"#fb9f3a\"], [0.8888888888888888, \"#fdca26\"], [1.0, \"#f0f921\"]], \"type\": \"heatmapgl\"}], \"histogram\": [{\"marker\": {\"colorbar\": {\"outlinewidth\": 0, \"ticks\": \"\"}}, \"type\": \"histogram\"}], \"histogram2d\": [{\"colorbar\": {\"outlinewidth\": 0, \"ticks\": \"\"}, \"colorscale\": [[0.0, \"#0d0887\"], [0.1111111111111111, \"#46039f\"], [0.2222222222222222, \"#7201a8\"], [0.3333333333333333, \"#9c179e\"], [0.4444444444444444, \"#bd3786\"], [0.5555555555555556, \"#d8576b\"], [0.6666666666666666, \"#ed7953\"], [0.7777777777777778, \"#fb9f3a\"], [0.8888888888888888, \"#fdca26\"], [1.0, \"#f0f921\"]], \"type\": \"histogram2d\"}], \"histogram2dcontour\": [{\"colorbar\": {\"outlinewidth\": 0, \"ticks\": \"\"}, \"colorscale\": [[0.0, \"#0d0887\"], [0.1111111111111111, \"#46039f\"], [0.2222222222222222, \"#7201a8\"], [0.3333333333333333, \"#9c179e\"], [0.4444444444444444, \"#bd3786\"], [0.5555555555555556, \"#d8576b\"], [0.6666666666666666, \"#ed7953\"], [0.7777777777777778, \"#fb9f3a\"], [0.8888888888888888, \"#fdca26\"], [1.0, \"#f0f921\"]], \"type\": \"histogram2dcontour\"}], \"mesh3d\": [{\"colorbar\": {\"outlinewidth\": 0, \"ticks\": \"\"}, \"type\": \"mesh3d\"}], \"parcoords\": [{\"line\": {\"colorbar\": {\"outlinewidth\": 0, \"ticks\": \"\"}}, \"type\": \"parcoords\"}], \"pie\": [{\"automargin\": true, \"type\": \"pie\"}], \"scatter\": [{\"marker\": {\"colorbar\": {\"outlinewidth\": 0, \"ticks\": \"\"}}, \"type\": \"scatter\"}], \"scatter3d\": [{\"line\": {\"colorbar\": {\"outlinewidth\": 0, \"ticks\": \"\"}}, \"marker\": {\"colorbar\": {\"outlinewidth\": 0, \"ticks\": \"\"}}, \"type\": \"scatter3d\"}], \"scattercarpet\": [{\"marker\": {\"colorbar\": {\"outlinewidth\": 0, \"ticks\": \"\"}}, \"type\": \"scattercarpet\"}], \"scattergeo\": [{\"marker\": {\"colorbar\": {\"outlinewidth\": 0, \"ticks\": \"\"}}, \"type\": \"scattergeo\"}], \"scattergl\": [{\"marker\": {\"colorbar\": {\"outlinewidth\": 0, \"ticks\": \"\"}}, \"type\": \"scattergl\"}], \"scattermapbox\": [{\"marker\": {\"colorbar\": {\"outlinewidth\": 0, \"ticks\": \"\"}}, \"type\": \"scattermapbox\"}], \"scatterpolar\": [{\"marker\": {\"colorbar\": {\"outlinewidth\": 0, \"ticks\": \"\"}}, \"type\": \"scatterpolar\"}], \"scatterpolargl\": [{\"marker\": {\"colorbar\": {\"outlinewidth\": 0, \"ticks\": \"\"}}, \"type\": \"scatterpolargl\"}], \"scatterternary\": [{\"marker\": {\"colorbar\": {\"outlinewidth\": 0, \"ticks\": \"\"}}, \"type\": \"scatterternary\"}], \"surface\": [{\"colorbar\": {\"outlinewidth\": 0, \"ticks\": \"\"}, \"colorscale\": [[0.0, \"#0d0887\"], [0.1111111111111111, \"#46039f\"], [0.2222222222222222, \"#7201a8\"], [0.3333333333333333, \"#9c179e\"], [0.4444444444444444, \"#bd3786\"], [0.5555555555555556, \"#d8576b\"], [0.6666666666666666, \"#ed7953\"], [0.7777777777777778, \"#fb9f3a\"], [0.8888888888888888, \"#fdca26\"], [1.0, \"#f0f921\"]], \"type\": \"surface\"}], \"table\": [{\"cells\": {\"fill\": {\"color\": \"#EBF0F8\"}, \"line\": {\"color\": \"white\"}}, \"header\": {\"fill\": {\"color\": \"#C8D4E3\"}, \"line\": {\"color\": \"white\"}}, \"type\": \"table\"}]}, \"layout\": {\"annotationdefaults\": {\"arrowcolor\": \"#2a3f5f\", \"arrowhead\": 0, \"arrowwidth\": 1}, \"autotypenumbers\": \"strict\", \"coloraxis\": {\"colorbar\": {\"outlinewidth\": 0, \"ticks\": \"\"}}, \"colorscale\": {\"diverging\": [[0, \"#8e0152\"], [0.1, \"#c51b7d\"], [0.2, \"#de77ae\"], [0.3, \"#f1b6da\"], [0.4, \"#fde0ef\"], [0.5, \"#f7f7f7\"], [0.6, \"#e6f5d0\"], [0.7, \"#b8e186\"], [0.8, \"#7fbc41\"], [0.9, \"#4d9221\"], [1, \"#276419\"]], \"sequential\": [[0.0, \"#0d0887\"], [0.1111111111111111, \"#46039f\"], [0.2222222222222222, \"#7201a8\"], [0.3333333333333333, \"#9c179e\"], [0.4444444444444444, \"#bd3786\"], [0.5555555555555556, \"#d8576b\"], [0.6666666666666666, \"#ed7953\"], [0.7777777777777778, \"#fb9f3a\"], [0.8888888888888888, \"#fdca26\"], [1.0, \"#f0f921\"]], \"sequentialminus\": [[0.0, \"#0d0887\"], [0.1111111111111111, \"#46039f\"], [0.2222222222222222, \"#7201a8\"], [0.3333333333333333, \"#9c179e\"], [0.4444444444444444, \"#bd3786\"], [0.5555555555555556, \"#d8576b\"], [0.6666666666666666, \"#ed7953\"], [0.7777777777777778, \"#fb9f3a\"], [0.8888888888888888, \"#fdca26\"], [1.0, \"#f0f921\"]]}, \"colorway\": [\"#636efa\", \"#EF553B\", \"#00cc96\", \"#ab63fa\", \"#FFA15A\", \"#19d3f3\", \"#FF6692\", \"#B6E880\", \"#FF97FF\", \"#FECB52\"], \"font\": {\"color\": \"#2a3f5f\"}, \"geo\": {\"bgcolor\": \"white\", \"lakecolor\": \"white\", \"landcolor\": \"#E5ECF6\", \"showlakes\": true, \"showland\": true, \"subunitcolor\": \"white\"}, \"hoverlabel\": {\"align\": \"left\"}, \"hovermode\": \"closest\", \"mapbox\": {\"style\": \"light\"}, \"paper_bgcolor\": \"white\", \"plot_bgcolor\": \"#E5ECF6\", \"polar\": {\"angularaxis\": {\"gridcolor\": \"white\", \"linecolor\": \"white\", \"ticks\": \"\"}, \"bgcolor\": \"#E5ECF6\", \"radialaxis\": {\"gridcolor\": \"white\", \"linecolor\": \"white\", \"ticks\": \"\"}}, \"scene\": {\"xaxis\": {\"backgroundcolor\": \"#E5ECF6\", \"gridcolor\": \"white\", \"gridwidth\": 2, \"linecolor\": \"white\", \"showbackground\": true, \"ticks\": \"\", \"zerolinecolor\": \"white\"}, \"yaxis\": {\"backgroundcolor\": \"#E5ECF6\", \"gridcolor\": \"white\", \"gridwidth\": 2, \"linecolor\": \"white\", \"showbackground\": true, \"ticks\": \"\", \"zerolinecolor\": \"white\"}, \"zaxis\": {\"backgroundcolor\": \"#E5ECF6\", \"gridcolor\": \"white\", \"gridwidth\": 2, \"linecolor\": \"white\", \"showbackground\": true, \"ticks\": \"\", \"zerolinecolor\": \"white\"}}, \"shapedefaults\": {\"line\": {\"color\": \"#2a3f5f\"}}, \"ternary\": {\"aaxis\": {\"gridcolor\": \"white\", \"linecolor\": \"white\", \"ticks\": \"\"}, \"baxis\": {\"gridcolor\": \"white\", \"linecolor\": \"white\", \"ticks\": \"\"}, \"bgcolor\": \"#E5ECF6\", \"caxis\": {\"gridcolor\": \"white\", \"linecolor\": \"white\", \"ticks\": \"\"}}, \"title\": {\"x\": 0.05}, \"xaxis\": {\"automargin\": true, \"gridcolor\": \"white\", \"linecolor\": \"white\", \"ticks\": \"\", \"title\": {\"standoff\": 15}, \"zerolinecolor\": \"white\", \"zerolinewidth\": 2}, \"yaxis\": {\"automargin\": true, \"gridcolor\": \"white\", \"linecolor\": \"white\", \"ticks\": \"\", \"title\": {\"standoff\": 15}, \"zerolinecolor\": \"white\", \"zerolinewidth\": 2}}}, \"title\": {\"text\": \"A Figure Displayed with fig.show()\"}},                        {\"responsive\": true}                    ).then(function(){\n                            \nvar gd = document.getElementById('5a602a00-f938-46a3-b0e3-534aa4da06ad');\nvar x = new MutationObserver(function (mutations, observer) {{\n        var display = window.getComputedStyle(gd).display;\n        if (!display || display === 'none') {{\n            console.log([gd, 'removed!']);\n            Plotly.purge(gd);\n            observer.disconnect();\n        }}\n}});\n\n// Listen for the removal of the full notebook cells\nvar notebookContainer = gd.closest('#notebook-container');\nif (notebookContainer) {{\n    x.observe(notebookContainer, {childList: true});\n}}\n\n// Listen for the clearing of the current output cell\nvar outputEl = gd.closest('.output');\nif (outputEl) {{\n    x.observe(outputEl, {childList: true});\n}}\n\n                        })                };                });            </script>        </div>"
     },
     "metadata": {}
    }
   ],
   "source": [
    "fig = go.Figure(\n",
    "    data=[go.Bar(y=[2, 1, 3])],\n",
    "    layout_title_text=\"A Figure Displayed with fig.show()\"\n",
    ")\n",
    "fig.show()"
   ]
  },
  {
   "cell_type": "code",
   "execution_count": 7,
   "metadata": {},
   "outputs": [
    {
     "output_type": "display_data",
     "data": {
      "application/vnd.plotly.v1+json": {
       "config": {
        "plotlyServerURL": "https://plot.ly"
       },
       "data": [
        {
         "marker": {
          "color": [
           0.9501761192470797,
           0.5566531881951564,
           0.9156063497662745,
           0.6415662089463375,
           0.39000771414124624,
           0.48599066709690975,
           0.6043104829199732,
           0.5495479215085626,
           0.9261814267064536,
           0.9187334356336061,
           0.3948756129235549,
           0.9632625284407118,
           0.17395566668046436,
           0.12632951943963733,
           0.13507915804673132,
           0.5056621656768967,
           0.021524805274197978,
           0.947970211217681,
           0.8271154711707325,
           0.015018980742122379,
           0.17619625557505525,
           0.332063574366837,
           0.1309968448109169,
           0.8094906921265821,
           0.34473665268329345,
           0.9401074823333672,
           0.58201417994708,
           0.8788319844118441,
           0.8447344453922219,
           0.9053923187086492,
           0.45988026581680697,
           0.5463468160203733,
           0.7986035911520394,
           0.28571885173414757,
           0.4902535226199277,
           0.5991103076458784,
           0.015533275550835723,
           0.5934814081966372,
           0.4336763489894583,
           0.8073605288848414,
           0.31524480309537295,
           0.8928887085251513,
           0.5778572152845355,
           0.18401020162746506,
           0.7879292338255043,
           0.6120311770449339,
           0.053909272073752956,
           0.4201936800011322,
           0.6790688365654296,
           0.9186017779775258,
           0.00040202489135743313,
           0.9767591490310596,
           0.37658031474577447,
           0.9737835383583225,
           0.604716100974053,
           0.828845807980693,
           0.5747115047081023,
           0.6280761983073504,
           0.28557628169569393,
           0.586833340656083,
           0.7500217637026599,
           0.8583138364290424,
           0.7550821884676802,
           0.698057248447303,
           0.8644794300545998,
           0.32268099683674645,
           0.6707887907875872,
           0.45087393641334916,
           0.3821027520315172,
           0.4108113499221856,
           0.4014795834695406,
           0.3173839459582769,
           0.6219193679203014,
           0.43024727082126435,
           0.9738020779272523,
           0.6778008914343111,
           0.19856988842711087,
           0.4267010093480328,
           0.343346239774423,
           0.7976388039585666,
           0.8799982885634318,
           0.903841955826372,
           0.6627198123752622,
           0.2702082620297578,
           0.25236670150458973,
           0.8548979426974024,
           0.5277146463087466,
           0.8021610840045981,
           0.5724885171916063,
           0.7331425252875111,
           0.5190116274640558,
           0.770883910501888,
           0.5688579907047155,
           0.4657098785919809,
           0.3426889079532818,
           0.06820934841670412,
           0.37792417932809985,
           0.07962607769825236,
           0.982817113730445,
           0.18161285133076377
          ],
          "colorscale": [
           [
            0,
            "#440154"
           ],
           [
            0.1111111111111111,
            "#482878"
           ],
           [
            0.2222222222222222,
            "#3e4989"
           ],
           [
            0.3333333333333333,
            "#31688e"
           ],
           [
            0.4444444444444444,
            "#26828e"
           ],
           [
            0.5555555555555556,
            "#1f9e89"
           ],
           [
            0.6666666666666666,
            "#35b779"
           ],
           [
            0.7777777777777778,
            "#6ece58"
           ],
           [
            0.8888888888888888,
            "#b5de2b"
           ],
           [
            1,
            "#fde725"
           ]
          ],
          "opacity": 0.6,
          "size": [
           24.355760931616192,
           26.248849348676945,
           20.652397571578298,
           17.08483238236127,
           4.829143104468264,
           14.006400682899189,
           10.35516153465645,
           6.7511987344225375,
           17.775356062973902,
           9.368095131057508,
           27.48916660405052,
           27.28906574854671,
           7.713548813465886,
           3.3267390223208757,
           5.788881960573385,
           14.987525120366582,
           21.85757003923789,
           6.245833152263744,
           7.441006751316922,
           25.55015624809101,
           12.47546154802582,
           18.500552014657085,
           7.009984177177502,
           3.059017782773923,
           15.475710509055894,
           14.31422961149347,
           4.580149322794897,
           18.654186952212466,
           16.320303564418143,
           19.62412040912233,
           4.336366203739795,
           22.545834514057315,
           6.66147419399768,
           15.58055473098099,
           23.558880846648567,
           0.6699128397541854,
           9.730873791785594,
           26.18767129200333,
           25.341288228062087,
           16.15321777783631,
           25.99824822499539,
           28.494179740608796,
           24.79220992888024,
           25.62346331509616,
           2.9623020546104506,
           19.53912997022973,
           21.105509644579588,
           18.30722437939889,
           23.988457852080842,
           1.0371365961490275,
           23.1071620366494,
           21.95185802218581,
           7.7909517989505925,
           7.712078964664401,
           18.969099522903832,
           10.358923847732447,
           23.897660340218625,
           13.384386960103718,
           23.482482443525157,
           29.71415350871522,
           9.007450186017001,
           4.290174847742981,
           27.039253090478216,
           16.2467813666212,
           29.242211125652467,
           19.098132000056918,
           29.81739073831437,
           16.38212412428855,
           15.792778017165638,
           4.062837092165097,
           10.671155129516434,
           0.7865570188911986,
           4.811855385589473,
           22.36911578122488,
           0.9119906978636649,
           10.99629291731233,
           25.870387585141323,
           20.780331525220628,
           20.728264261985057,
           5.659104028659327,
           13.2571284224527,
           17.447322220328736,
           29.692551229911157,
           6.1171867569936555,
           7.431987052870646,
           7.865192513187358,
           22.505172398939784,
           13.709259823070784,
           1.7078831523328497,
           15.255487218307188,
           6.358804939310279,
           23.958127342806307,
           8.919941445218168,
           0.8281803586351089,
           17.80297348393863,
           25.315212867935664,
           11.430483721866425,
           22.495749321784302,
           15.334244348913845,
           16.22855414886566
          ]
         },
         "mode": "markers",
         "type": "scatter",
         "x": [
          0.417022004702574,
          0.7203244934421581,
          0.00011437481734488664,
          0.30233257263183977,
          0.14675589081711304,
          0.0923385947687978,
          0.1862602113776709,
          0.34556072704304774,
          0.39676747423066994,
          0.538816734003357,
          0.4191945144032948,
          0.6852195003967595,
          0.20445224973151743,
          0.8781174363909454,
          0.027387593197926163,
          0.6704675101784022,
          0.41730480236712697,
          0.5586898284457517,
          0.14038693859523377,
          0.1981014890848788,
          0.8007445686755367,
          0.9682615757193975,
          0.31342417815924284,
          0.6923226156693141,
          0.8763891522960383,
          0.8946066635038473,
          0.08504421136977791,
          0.03905478323288236,
          0.1698304195645689,
          0.8781425034294131,
          0.0983468338330501,
          0.42110762500505217,
          0.9578895301505019,
          0.5331652849730171,
          0.6918771139504734,
          0.31551563100606295,
          0.6865009276815837,
          0.8346256718973729,
          0.018288277344191806,
          0.7501443149449675,
          0.9888610889064947,
          0.7481656543798394,
          0.2804439920644052,
          0.7892793284514885,
          0.10322600657764203,
          0.44789352617590517,
          0.9085955030930956,
          0.2936141483736795,
          0.28777533858634874,
          0.13002857211827767,
          0.019366957870297075,
          0.678835532939891,
          0.21162811600005904,
          0.2655466593722262,
          0.4915731592803383,
          0.053362545117080384,
          0.5741176054920131,
          0.14672857490581015,
          0.5893055369032842,
          0.6997583600209312,
          0.10233442882782584,
          0.4140559878195683,
          0.6944001577277451,
          0.41417926952690265,
          0.04995345894608716,
          0.5358964059155116,
          0.6637946452197888,
          0.5148891120583086,
          0.9445947559908133,
          0.5865550405019929,
          0.9034019152878835,
          0.13747470414623753,
          0.13927634725075855,
          0.8073912887095238,
          0.3976768369855336,
          0.16535419711693278,
          0.9275085803960339,
          0.34776585974550656,
          0.7508121031361555,
          0.7259979853504515,
          0.8833060912058098,
          0.6236722070556089,
          0.7509424340273372,
          0.34889834197784253,
          0.2699278917650261,
          0.8958862181960668,
          0.4280911898712949,
          0.9648400471483856,
          0.6634414978184481,
          0.6216957202091218,
          0.11474597295337519,
          0.9494892587070712,
          0.4499121334799405,
          0.5783896143871318,
          0.40813680276128117,
          0.2370269802430277,
          0.9033795205622538,
          0.5736794866722859,
          0.00287032703115897,
          0.6171449136207239
         ],
         "y": [
          0.32664490177209615,
          0.5270581022576093,
          0.8859420993107745,
          0.35726976000249977,
          0.9085351509197992,
          0.6233601157918027,
          0.015821242846556283,
          0.9294372337437613,
          0.690896917516924,
          0.9973228504514805,
          0.17234050834532855,
          0.13713574962887776,
          0.9325954630371636,
          0.6968181614899002,
          0.06600017272206249,
          0.7554630526024664,
          0.7538761884612464,
          0.9230245355464833,
          0.7115247586284718,
          0.1242709619721647,
          0.01988013383979559,
          0.026210986877719278,
          0.028306488020794607,
          0.2462110676030459,
          0.860027948682888,
          0.5388310643416528,
          0.5528219786857659,
          0.8420308923596057,
          0.12417331511991114,
          0.2791836790111395,
          0.5857592714582879,
          0.9695957483196745,
          0.56103021925571,
          0.01864728937294302,
          0.8006326726806163,
          0.23297427384102043,
          0.8071051956187791,
          0.38786064406417176,
          0.8635418545594287,
          0.7471216427371846,
          0.5562402339904189,
          0.13645522566068502,
          0.05991768951221166,
          0.12134345574073735,
          0.044551878544761725,
          0.1074941291060929,
          0.2257093386078547,
          0.7129889803826767,
          0.5597169820541424,
          0.012555980159115854,
          0.07197427968948678,
          0.967276330000272,
          0.5681004619199421,
          0.20329323466099047,
          0.2523257445703234,
          0.7438258540750929,
          0.1954294811093188,
          0.5813589272732578,
          0.9700199890883123,
          0.8468288014900353,
          0.23984775914758616,
          0.49376971426872995,
          0.6199557183813798,
          0.8289808995501787,
          0.15679139464608427,
          0.018576202177409518,
          0.07002214371922233,
          0.4863451109370318,
          0.6063294616533303,
          0.5688514370864813,
          0.31736240932216075,
          0.9886161544124489,
          0.5797452192457969,
          0.3801411726235504,
          0.5509482191178968,
          0.7453344309065021,
          0.6692328934531846,
          0.2649195576628094,
          0.06633483442844157,
          0.3700841979141063,
          0.6297175070215645,
          0.2101740099148396,
          0.7527555537388139,
          0.06653648135411494,
          0.26031509857854096,
          0.8047545637433454,
          0.19343428262332774,
          0.6394608808799401,
          0.5246703091237337,
          0.9248079703993507,
          0.263296770487111,
          0.06596109068402378,
          0.7350659632886695,
          0.7721780295432468,
          0.907815852503524,
          0.9319720691968373,
          0.013951572975597015,
          0.2343620861214205,
          0.6167783570016576,
          0.9490163206876164
         ]
        }
       ],
       "layout": {
        "template": {
         "data": {
          "bar": [
           {
            "error_x": {
             "color": "#2a3f5f"
            },
            "error_y": {
             "color": "#2a3f5f"
            },
            "marker": {
             "line": {
              "color": "#E5ECF6",
              "width": 0.5
             }
            },
            "type": "bar"
           }
          ],
          "barpolar": [
           {
            "marker": {
             "line": {
              "color": "#E5ECF6",
              "width": 0.5
             }
            },
            "type": "barpolar"
           }
          ],
          "carpet": [
           {
            "aaxis": {
             "endlinecolor": "#2a3f5f",
             "gridcolor": "white",
             "linecolor": "white",
             "minorgridcolor": "white",
             "startlinecolor": "#2a3f5f"
            },
            "baxis": {
             "endlinecolor": "#2a3f5f",
             "gridcolor": "white",
             "linecolor": "white",
             "minorgridcolor": "white",
             "startlinecolor": "#2a3f5f"
            },
            "type": "carpet"
           }
          ],
          "choropleth": [
           {
            "colorbar": {
             "outlinewidth": 0,
             "ticks": ""
            },
            "type": "choropleth"
           }
          ],
          "contour": [
           {
            "colorbar": {
             "outlinewidth": 0,
             "ticks": ""
            },
            "colorscale": [
             [
              0,
              "#0d0887"
             ],
             [
              0.1111111111111111,
              "#46039f"
             ],
             [
              0.2222222222222222,
              "#7201a8"
             ],
             [
              0.3333333333333333,
              "#9c179e"
             ],
             [
              0.4444444444444444,
              "#bd3786"
             ],
             [
              0.5555555555555556,
              "#d8576b"
             ],
             [
              0.6666666666666666,
              "#ed7953"
             ],
             [
              0.7777777777777778,
              "#fb9f3a"
             ],
             [
              0.8888888888888888,
              "#fdca26"
             ],
             [
              1,
              "#f0f921"
             ]
            ],
            "type": "contour"
           }
          ],
          "contourcarpet": [
           {
            "colorbar": {
             "outlinewidth": 0,
             "ticks": ""
            },
            "type": "contourcarpet"
           }
          ],
          "heatmap": [
           {
            "colorbar": {
             "outlinewidth": 0,
             "ticks": ""
            },
            "colorscale": [
             [
              0,
              "#0d0887"
             ],
             [
              0.1111111111111111,
              "#46039f"
             ],
             [
              0.2222222222222222,
              "#7201a8"
             ],
             [
              0.3333333333333333,
              "#9c179e"
             ],
             [
              0.4444444444444444,
              "#bd3786"
             ],
             [
              0.5555555555555556,
              "#d8576b"
             ],
             [
              0.6666666666666666,
              "#ed7953"
             ],
             [
              0.7777777777777778,
              "#fb9f3a"
             ],
             [
              0.8888888888888888,
              "#fdca26"
             ],
             [
              1,
              "#f0f921"
             ]
            ],
            "type": "heatmap"
           }
          ],
          "heatmapgl": [
           {
            "colorbar": {
             "outlinewidth": 0,
             "ticks": ""
            },
            "colorscale": [
             [
              0,
              "#0d0887"
             ],
             [
              0.1111111111111111,
              "#46039f"
             ],
             [
              0.2222222222222222,
              "#7201a8"
             ],
             [
              0.3333333333333333,
              "#9c179e"
             ],
             [
              0.4444444444444444,
              "#bd3786"
             ],
             [
              0.5555555555555556,
              "#d8576b"
             ],
             [
              0.6666666666666666,
              "#ed7953"
             ],
             [
              0.7777777777777778,
              "#fb9f3a"
             ],
             [
              0.8888888888888888,
              "#fdca26"
             ],
             [
              1,
              "#f0f921"
             ]
            ],
            "type": "heatmapgl"
           }
          ],
          "histogram": [
           {
            "marker": {
             "colorbar": {
              "outlinewidth": 0,
              "ticks": ""
             }
            },
            "type": "histogram"
           }
          ],
          "histogram2d": [
           {
            "colorbar": {
             "outlinewidth": 0,
             "ticks": ""
            },
            "colorscale": [
             [
              0,
              "#0d0887"
             ],
             [
              0.1111111111111111,
              "#46039f"
             ],
             [
              0.2222222222222222,
              "#7201a8"
             ],
             [
              0.3333333333333333,
              "#9c179e"
             ],
             [
              0.4444444444444444,
              "#bd3786"
             ],
             [
              0.5555555555555556,
              "#d8576b"
             ],
             [
              0.6666666666666666,
              "#ed7953"
             ],
             [
              0.7777777777777778,
              "#fb9f3a"
             ],
             [
              0.8888888888888888,
              "#fdca26"
             ],
             [
              1,
              "#f0f921"
             ]
            ],
            "type": "histogram2d"
           }
          ],
          "histogram2dcontour": [
           {
            "colorbar": {
             "outlinewidth": 0,
             "ticks": ""
            },
            "colorscale": [
             [
              0,
              "#0d0887"
             ],
             [
              0.1111111111111111,
              "#46039f"
             ],
             [
              0.2222222222222222,
              "#7201a8"
             ],
             [
              0.3333333333333333,
              "#9c179e"
             ],
             [
              0.4444444444444444,
              "#bd3786"
             ],
             [
              0.5555555555555556,
              "#d8576b"
             ],
             [
              0.6666666666666666,
              "#ed7953"
             ],
             [
              0.7777777777777778,
              "#fb9f3a"
             ],
             [
              0.8888888888888888,
              "#fdca26"
             ],
             [
              1,
              "#f0f921"
             ]
            ],
            "type": "histogram2dcontour"
           }
          ],
          "mesh3d": [
           {
            "colorbar": {
             "outlinewidth": 0,
             "ticks": ""
            },
            "type": "mesh3d"
           }
          ],
          "parcoords": [
           {
            "line": {
             "colorbar": {
              "outlinewidth": 0,
              "ticks": ""
             }
            },
            "type": "parcoords"
           }
          ],
          "pie": [
           {
            "automargin": true,
            "type": "pie"
           }
          ],
          "scatter": [
           {
            "marker": {
             "colorbar": {
              "outlinewidth": 0,
              "ticks": ""
             }
            },
            "type": "scatter"
           }
          ],
          "scatter3d": [
           {
            "line": {
             "colorbar": {
              "outlinewidth": 0,
              "ticks": ""
             }
            },
            "marker": {
             "colorbar": {
              "outlinewidth": 0,
              "ticks": ""
             }
            },
            "type": "scatter3d"
           }
          ],
          "scattercarpet": [
           {
            "marker": {
             "colorbar": {
              "outlinewidth": 0,
              "ticks": ""
             }
            },
            "type": "scattercarpet"
           }
          ],
          "scattergeo": [
           {
            "marker": {
             "colorbar": {
              "outlinewidth": 0,
              "ticks": ""
             }
            },
            "type": "scattergeo"
           }
          ],
          "scattergl": [
           {
            "marker": {
             "colorbar": {
              "outlinewidth": 0,
              "ticks": ""
             }
            },
            "type": "scattergl"
           }
          ],
          "scattermapbox": [
           {
            "marker": {
             "colorbar": {
              "outlinewidth": 0,
              "ticks": ""
             }
            },
            "type": "scattermapbox"
           }
          ],
          "scatterpolar": [
           {
            "marker": {
             "colorbar": {
              "outlinewidth": 0,
              "ticks": ""
             }
            },
            "type": "scatterpolar"
           }
          ],
          "scatterpolargl": [
           {
            "marker": {
             "colorbar": {
              "outlinewidth": 0,
              "ticks": ""
             }
            },
            "type": "scatterpolargl"
           }
          ],
          "scatterternary": [
           {
            "marker": {
             "colorbar": {
              "outlinewidth": 0,
              "ticks": ""
             }
            },
            "type": "scatterternary"
           }
          ],
          "surface": [
           {
            "colorbar": {
             "outlinewidth": 0,
             "ticks": ""
            },
            "colorscale": [
             [
              0,
              "#0d0887"
             ],
             [
              0.1111111111111111,
              "#46039f"
             ],
             [
              0.2222222222222222,
              "#7201a8"
             ],
             [
              0.3333333333333333,
              "#9c179e"
             ],
             [
              0.4444444444444444,
              "#bd3786"
             ],
             [
              0.5555555555555556,
              "#d8576b"
             ],
             [
              0.6666666666666666,
              "#ed7953"
             ],
             [
              0.7777777777777778,
              "#fb9f3a"
             ],
             [
              0.8888888888888888,
              "#fdca26"
             ],
             [
              1,
              "#f0f921"
             ]
            ],
            "type": "surface"
           }
          ],
          "table": [
           {
            "cells": {
             "fill": {
              "color": "#EBF0F8"
             },
             "line": {
              "color": "white"
             }
            },
            "header": {
             "fill": {
              "color": "#C8D4E3"
             },
             "line": {
              "color": "white"
             }
            },
            "type": "table"
           }
          ]
         },
         "layout": {
          "annotationdefaults": {
           "arrowcolor": "#2a3f5f",
           "arrowhead": 0,
           "arrowwidth": 1
          },
          "autotypenumbers": "strict",
          "coloraxis": {
           "colorbar": {
            "outlinewidth": 0,
            "ticks": ""
           }
          },
          "colorscale": {
           "diverging": [
            [
             0,
             "#8e0152"
            ],
            [
             0.1,
             "#c51b7d"
            ],
            [
             0.2,
             "#de77ae"
            ],
            [
             0.3,
             "#f1b6da"
            ],
            [
             0.4,
             "#fde0ef"
            ],
            [
             0.5,
             "#f7f7f7"
            ],
            [
             0.6,
             "#e6f5d0"
            ],
            [
             0.7,
             "#b8e186"
            ],
            [
             0.8,
             "#7fbc41"
            ],
            [
             0.9,
             "#4d9221"
            ],
            [
             1,
             "#276419"
            ]
           ],
           "sequential": [
            [
             0,
             "#0d0887"
            ],
            [
             0.1111111111111111,
             "#46039f"
            ],
            [
             0.2222222222222222,
             "#7201a8"
            ],
            [
             0.3333333333333333,
             "#9c179e"
            ],
            [
             0.4444444444444444,
             "#bd3786"
            ],
            [
             0.5555555555555556,
             "#d8576b"
            ],
            [
             0.6666666666666666,
             "#ed7953"
            ],
            [
             0.7777777777777778,
             "#fb9f3a"
            ],
            [
             0.8888888888888888,
             "#fdca26"
            ],
            [
             1,
             "#f0f921"
            ]
           ],
           "sequentialminus": [
            [
             0,
             "#0d0887"
            ],
            [
             0.1111111111111111,
             "#46039f"
            ],
            [
             0.2222222222222222,
             "#7201a8"
            ],
            [
             0.3333333333333333,
             "#9c179e"
            ],
            [
             0.4444444444444444,
             "#bd3786"
            ],
            [
             0.5555555555555556,
             "#d8576b"
            ],
            [
             0.6666666666666666,
             "#ed7953"
            ],
            [
             0.7777777777777778,
             "#fb9f3a"
            ],
            [
             0.8888888888888888,
             "#fdca26"
            ],
            [
             1,
             "#f0f921"
            ]
           ]
          },
          "colorway": [
           "#636efa",
           "#EF553B",
           "#00cc96",
           "#ab63fa",
           "#FFA15A",
           "#19d3f3",
           "#FF6692",
           "#B6E880",
           "#FF97FF",
           "#FECB52"
          ],
          "font": {
           "color": "#2a3f5f"
          },
          "geo": {
           "bgcolor": "white",
           "lakecolor": "white",
           "landcolor": "#E5ECF6",
           "showlakes": true,
           "showland": true,
           "subunitcolor": "white"
          },
          "hoverlabel": {
           "align": "left"
          },
          "hovermode": "closest",
          "mapbox": {
           "style": "light"
          },
          "paper_bgcolor": "white",
          "plot_bgcolor": "#E5ECF6",
          "polar": {
           "angularaxis": {
            "gridcolor": "white",
            "linecolor": "white",
            "ticks": ""
           },
           "bgcolor": "#E5ECF6",
           "radialaxis": {
            "gridcolor": "white",
            "linecolor": "white",
            "ticks": ""
           }
          },
          "scene": {
           "xaxis": {
            "backgroundcolor": "#E5ECF6",
            "gridcolor": "white",
            "gridwidth": 2,
            "linecolor": "white",
            "showbackground": true,
            "ticks": "",
            "zerolinecolor": "white"
           },
           "yaxis": {
            "backgroundcolor": "#E5ECF6",
            "gridcolor": "white",
            "gridwidth": 2,
            "linecolor": "white",
            "showbackground": true,
            "ticks": "",
            "zerolinecolor": "white"
           },
           "zaxis": {
            "backgroundcolor": "#E5ECF6",
            "gridcolor": "white",
            "gridwidth": 2,
            "linecolor": "white",
            "showbackground": true,
            "ticks": "",
            "zerolinecolor": "white"
           }
          },
          "shapedefaults": {
           "line": {
            "color": "#2a3f5f"
           }
          },
          "ternary": {
           "aaxis": {
            "gridcolor": "white",
            "linecolor": "white",
            "ticks": ""
           },
           "baxis": {
            "gridcolor": "white",
            "linecolor": "white",
            "ticks": ""
           },
           "bgcolor": "#E5ECF6",
           "caxis": {
            "gridcolor": "white",
            "linecolor": "white",
            "ticks": ""
           }
          },
          "title": {
           "x": 0.05
          },
          "xaxis": {
           "automargin": true,
           "gridcolor": "white",
           "linecolor": "white",
           "ticks": "",
           "title": {
            "standoff": 15
           },
           "zerolinecolor": "white",
           "zerolinewidth": 2
          },
          "yaxis": {
           "automargin": true,
           "gridcolor": "white",
           "linecolor": "white",
           "ticks": "",
           "title": {
            "standoff": 15
           },
           "zerolinecolor": "white",
           "zerolinewidth": 2
          }
         }
        }
       }
      },
      "text/html": "<div>                            <div id=\"13f18815-8d0b-40af-b643-084387bd5206\" class=\"plotly-graph-div\" style=\"height:525px; width:100%;\"></div>            <script type=\"text/javascript\">                require([\"plotly\"], function(Plotly) {                    window.PLOTLYENV=window.PLOTLYENV || {};                                    if (document.getElementById(\"13f18815-8d0b-40af-b643-084387bd5206\")) {                    Plotly.newPlot(                        \"13f18815-8d0b-40af-b643-084387bd5206\",                        [{\"marker\": {\"color\": [0.9501761192470797, 0.5566531881951564, 0.9156063497662745, 0.6415662089463375, 0.39000771414124624, 0.48599066709690975, 0.6043104829199732, 0.5495479215085626, 0.9261814267064536, 0.9187334356336061, 0.3948756129235549, 0.9632625284407118, 0.17395566668046436, 0.12632951943963733, 0.13507915804673132, 0.5056621656768967, 0.021524805274197978, 0.947970211217681, 0.8271154711707325, 0.015018980742122379, 0.17619625557505525, 0.332063574366837, 0.1309968448109169, 0.8094906921265821, 0.34473665268329345, 0.9401074823333672, 0.58201417994708, 0.8788319844118441, 0.8447344453922219, 0.9053923187086492, 0.45988026581680697, 0.5463468160203733, 0.7986035911520394, 0.28571885173414757, 0.4902535226199277, 0.5991103076458784, 0.015533275550835723, 0.5934814081966372, 0.4336763489894583, 0.8073605288848414, 0.31524480309537295, 0.8928887085251513, 0.5778572152845355, 0.18401020162746506, 0.7879292338255043, 0.6120311770449339, 0.053909272073752956, 0.4201936800011322, 0.6790688365654296, 0.9186017779775258, 0.00040202489135743313, 0.9767591490310596, 0.37658031474577447, 0.9737835383583225, 0.604716100974053, 0.828845807980693, 0.5747115047081023, 0.6280761983073504, 0.28557628169569393, 0.586833340656083, 0.7500217637026599, 0.8583138364290424, 0.7550821884676802, 0.698057248447303, 0.8644794300545998, 0.32268099683674645, 0.6707887907875872, 0.45087393641334916, 0.3821027520315172, 0.4108113499221856, 0.4014795834695406, 0.3173839459582769, 0.6219193679203014, 0.43024727082126435, 0.9738020779272523, 0.6778008914343111, 0.19856988842711087, 0.4267010093480328, 0.343346239774423, 0.7976388039585666, 0.8799982885634318, 0.903841955826372, 0.6627198123752622, 0.2702082620297578, 0.25236670150458973, 0.8548979426974024, 0.5277146463087466, 0.8021610840045981, 0.5724885171916063, 0.7331425252875111, 0.5190116274640558, 0.770883910501888, 0.5688579907047155, 0.4657098785919809, 0.3426889079532818, 0.06820934841670412, 0.37792417932809985, 0.07962607769825236, 0.982817113730445, 0.18161285133076377], \"colorscale\": [[0.0, \"#440154\"], [0.1111111111111111, \"#482878\"], [0.2222222222222222, \"#3e4989\"], [0.3333333333333333, \"#31688e\"], [0.4444444444444444, \"#26828e\"], [0.5555555555555556, \"#1f9e89\"], [0.6666666666666666, \"#35b779\"], [0.7777777777777778, \"#6ece58\"], [0.8888888888888888, \"#b5de2b\"], [1.0, \"#fde725\"]], \"opacity\": 0.6, \"size\": [24.355760931616192, 26.248849348676945, 20.652397571578298, 17.08483238236127, 4.829143104468264, 14.006400682899189, 10.35516153465645, 6.7511987344225375, 17.775356062973902, 9.368095131057508, 27.48916660405052, 27.28906574854671, 7.713548813465886, 3.3267390223208757, 5.788881960573385, 14.987525120366582, 21.85757003923789, 6.245833152263744, 7.441006751316922, 25.55015624809101, 12.47546154802582, 18.500552014657085, 7.009984177177502, 3.059017782773923, 15.475710509055894, 14.31422961149347, 4.580149322794897, 18.654186952212466, 16.320303564418143, 19.62412040912233, 4.336366203739795, 22.545834514057315, 6.66147419399768, 15.58055473098099, 23.558880846648567, 0.6699128397541854, 9.730873791785594, 26.18767129200333, 25.341288228062087, 16.15321777783631, 25.99824822499539, 28.494179740608796, 24.79220992888024, 25.62346331509616, 2.9623020546104506, 19.53912997022973, 21.105509644579588, 18.30722437939889, 23.988457852080842, 1.0371365961490275, 23.1071620366494, 21.95185802218581, 7.7909517989505925, 7.712078964664401, 18.969099522903832, 10.358923847732447, 23.897660340218625, 13.384386960103718, 23.482482443525157, 29.71415350871522, 9.007450186017001, 4.290174847742981, 27.039253090478216, 16.2467813666212, 29.242211125652467, 19.098132000056918, 29.81739073831437, 16.38212412428855, 15.792778017165638, 4.062837092165097, 10.671155129516434, 0.7865570188911986, 4.811855385589473, 22.36911578122488, 0.9119906978636649, 10.99629291731233, 25.870387585141323, 20.780331525220628, 20.728264261985057, 5.659104028659327, 13.2571284224527, 17.447322220328736, 29.692551229911157, 6.1171867569936555, 7.431987052870646, 7.865192513187358, 22.505172398939784, 13.709259823070784, 1.7078831523328497, 15.255487218307188, 6.358804939310279, 23.958127342806307, 8.919941445218168, 0.8281803586351089, 17.80297348393863, 25.315212867935664, 11.430483721866425, 22.495749321784302, 15.334244348913845, 16.22855414886566]}, \"mode\": \"markers\", \"type\": \"scatter\", \"x\": [0.417022004702574, 0.7203244934421581, 0.00011437481734488664, 0.30233257263183977, 0.14675589081711304, 0.0923385947687978, 0.1862602113776709, 0.34556072704304774, 0.39676747423066994, 0.538816734003357, 0.4191945144032948, 0.6852195003967595, 0.20445224973151743, 0.8781174363909454, 0.027387593197926163, 0.6704675101784022, 0.41730480236712697, 0.5586898284457517, 0.14038693859523377, 0.1981014890848788, 0.8007445686755367, 0.9682615757193975, 0.31342417815924284, 0.6923226156693141, 0.8763891522960383, 0.8946066635038473, 0.08504421136977791, 0.03905478323288236, 0.1698304195645689, 0.8781425034294131, 0.0983468338330501, 0.42110762500505217, 0.9578895301505019, 0.5331652849730171, 0.6918771139504734, 0.31551563100606295, 0.6865009276815837, 0.8346256718973729, 0.018288277344191806, 0.7501443149449675, 0.9888610889064947, 0.7481656543798394, 0.2804439920644052, 0.7892793284514885, 0.10322600657764203, 0.44789352617590517, 0.9085955030930956, 0.2936141483736795, 0.28777533858634874, 0.13002857211827767, 0.019366957870297075, 0.678835532939891, 0.21162811600005904, 0.2655466593722262, 0.4915731592803383, 0.053362545117080384, 0.5741176054920131, 0.14672857490581015, 0.5893055369032842, 0.6997583600209312, 0.10233442882782584, 0.4140559878195683, 0.6944001577277451, 0.41417926952690265, 0.04995345894608716, 0.5358964059155116, 0.6637946452197888, 0.5148891120583086, 0.9445947559908133, 0.5865550405019929, 0.9034019152878835, 0.13747470414623753, 0.13927634725075855, 0.8073912887095238, 0.3976768369855336, 0.16535419711693278, 0.9275085803960339, 0.34776585974550656, 0.7508121031361555, 0.7259979853504515, 0.8833060912058098, 0.6236722070556089, 0.7509424340273372, 0.34889834197784253, 0.2699278917650261, 0.8958862181960668, 0.4280911898712949, 0.9648400471483856, 0.6634414978184481, 0.6216957202091218, 0.11474597295337519, 0.9494892587070712, 0.4499121334799405, 0.5783896143871318, 0.40813680276128117, 0.2370269802430277, 0.9033795205622538, 0.5736794866722859, 0.00287032703115897, 0.6171449136207239], \"y\": [0.32664490177209615, 0.5270581022576093, 0.8859420993107745, 0.35726976000249977, 0.9085351509197992, 0.6233601157918027, 0.015821242846556283, 0.9294372337437613, 0.690896917516924, 0.9973228504514805, 0.17234050834532855, 0.13713574962887776, 0.9325954630371636, 0.6968181614899002, 0.06600017272206249, 0.7554630526024664, 0.7538761884612464, 0.9230245355464833, 0.7115247586284718, 0.1242709619721647, 0.01988013383979559, 0.026210986877719278, 0.028306488020794607, 0.2462110676030459, 0.860027948682888, 0.5388310643416528, 0.5528219786857659, 0.8420308923596057, 0.12417331511991114, 0.2791836790111395, 0.5857592714582879, 0.9695957483196745, 0.56103021925571, 0.01864728937294302, 0.8006326726806163, 0.23297427384102043, 0.8071051956187791, 0.38786064406417176, 0.8635418545594287, 0.7471216427371846, 0.5562402339904189, 0.13645522566068502, 0.05991768951221166, 0.12134345574073735, 0.044551878544761725, 0.1074941291060929, 0.2257093386078547, 0.7129889803826767, 0.5597169820541424, 0.012555980159115854, 0.07197427968948678, 0.967276330000272, 0.5681004619199421, 0.20329323466099047, 0.2523257445703234, 0.7438258540750929, 0.1954294811093188, 0.5813589272732578, 0.9700199890883123, 0.8468288014900353, 0.23984775914758616, 0.49376971426872995, 0.6199557183813798, 0.8289808995501787, 0.15679139464608427, 0.018576202177409518, 0.07002214371922233, 0.4863451109370318, 0.6063294616533303, 0.5688514370864813, 0.31736240932216075, 0.9886161544124489, 0.5797452192457969, 0.3801411726235504, 0.5509482191178968, 0.7453344309065021, 0.6692328934531846, 0.2649195576628094, 0.06633483442844157, 0.3700841979141063, 0.6297175070215645, 0.2101740099148396, 0.7527555537388139, 0.06653648135411494, 0.26031509857854096, 0.8047545637433454, 0.19343428262332774, 0.6394608808799401, 0.5246703091237337, 0.9248079703993507, 0.263296770487111, 0.06596109068402378, 0.7350659632886695, 0.7721780295432468, 0.907815852503524, 0.9319720691968373, 0.013951572975597015, 0.2343620861214205, 0.6167783570016576, 0.9490163206876164]}],                        {\"template\": {\"data\": {\"bar\": [{\"error_x\": {\"color\": \"#2a3f5f\"}, \"error_y\": {\"color\": \"#2a3f5f\"}, \"marker\": {\"line\": {\"color\": \"#E5ECF6\", \"width\": 0.5}}, \"type\": \"bar\"}], \"barpolar\": [{\"marker\": {\"line\": {\"color\": \"#E5ECF6\", \"width\": 0.5}}, \"type\": \"barpolar\"}], \"carpet\": [{\"aaxis\": {\"endlinecolor\": \"#2a3f5f\", \"gridcolor\": \"white\", \"linecolor\": \"white\", \"minorgridcolor\": \"white\", \"startlinecolor\": \"#2a3f5f\"}, \"baxis\": {\"endlinecolor\": \"#2a3f5f\", \"gridcolor\": \"white\", \"linecolor\": \"white\", \"minorgridcolor\": \"white\", \"startlinecolor\": \"#2a3f5f\"}, \"type\": \"carpet\"}], \"choropleth\": [{\"colorbar\": {\"outlinewidth\": 0, \"ticks\": \"\"}, \"type\": \"choropleth\"}], \"contour\": [{\"colorbar\": {\"outlinewidth\": 0, \"ticks\": \"\"}, \"colorscale\": [[0.0, \"#0d0887\"], [0.1111111111111111, \"#46039f\"], [0.2222222222222222, \"#7201a8\"], [0.3333333333333333, \"#9c179e\"], [0.4444444444444444, \"#bd3786\"], [0.5555555555555556, \"#d8576b\"], [0.6666666666666666, \"#ed7953\"], [0.7777777777777778, \"#fb9f3a\"], [0.8888888888888888, \"#fdca26\"], [1.0, \"#f0f921\"]], \"type\": \"contour\"}], \"contourcarpet\": [{\"colorbar\": {\"outlinewidth\": 0, \"ticks\": \"\"}, \"type\": \"contourcarpet\"}], \"heatmap\": [{\"colorbar\": {\"outlinewidth\": 0, \"ticks\": \"\"}, \"colorscale\": [[0.0, \"#0d0887\"], [0.1111111111111111, \"#46039f\"], [0.2222222222222222, \"#7201a8\"], [0.3333333333333333, \"#9c179e\"], [0.4444444444444444, \"#bd3786\"], [0.5555555555555556, \"#d8576b\"], [0.6666666666666666, \"#ed7953\"], [0.7777777777777778, \"#fb9f3a\"], [0.8888888888888888, \"#fdca26\"], [1.0, \"#f0f921\"]], \"type\": \"heatmap\"}], \"heatmapgl\": [{\"colorbar\": {\"outlinewidth\": 0, \"ticks\": \"\"}, \"colorscale\": [[0.0, \"#0d0887\"], [0.1111111111111111, \"#46039f\"], [0.2222222222222222, \"#7201a8\"], [0.3333333333333333, \"#9c179e\"], [0.4444444444444444, \"#bd3786\"], [0.5555555555555556, \"#d8576b\"], [0.6666666666666666, \"#ed7953\"], [0.7777777777777778, \"#fb9f3a\"], [0.8888888888888888, \"#fdca26\"], [1.0, \"#f0f921\"]], \"type\": \"heatmapgl\"}], \"histogram\": [{\"marker\": {\"colorbar\": {\"outlinewidth\": 0, \"ticks\": \"\"}}, \"type\": \"histogram\"}], \"histogram2d\": [{\"colorbar\": {\"outlinewidth\": 0, \"ticks\": \"\"}, \"colorscale\": [[0.0, \"#0d0887\"], [0.1111111111111111, \"#46039f\"], [0.2222222222222222, \"#7201a8\"], [0.3333333333333333, \"#9c179e\"], [0.4444444444444444, \"#bd3786\"], [0.5555555555555556, \"#d8576b\"], [0.6666666666666666, \"#ed7953\"], [0.7777777777777778, \"#fb9f3a\"], [0.8888888888888888, \"#fdca26\"], [1.0, \"#f0f921\"]], \"type\": \"histogram2d\"}], \"histogram2dcontour\": [{\"colorbar\": {\"outlinewidth\": 0, \"ticks\": \"\"}, \"colorscale\": [[0.0, \"#0d0887\"], [0.1111111111111111, \"#46039f\"], [0.2222222222222222, \"#7201a8\"], [0.3333333333333333, \"#9c179e\"], [0.4444444444444444, \"#bd3786\"], [0.5555555555555556, \"#d8576b\"], [0.6666666666666666, \"#ed7953\"], [0.7777777777777778, \"#fb9f3a\"], [0.8888888888888888, \"#fdca26\"], [1.0, \"#f0f921\"]], \"type\": \"histogram2dcontour\"}], \"mesh3d\": [{\"colorbar\": {\"outlinewidth\": 0, \"ticks\": \"\"}, \"type\": \"mesh3d\"}], \"parcoords\": [{\"line\": {\"colorbar\": {\"outlinewidth\": 0, \"ticks\": \"\"}}, \"type\": \"parcoords\"}], \"pie\": [{\"automargin\": true, \"type\": \"pie\"}], \"scatter\": [{\"marker\": {\"colorbar\": {\"outlinewidth\": 0, \"ticks\": \"\"}}, \"type\": \"scatter\"}], \"scatter3d\": [{\"line\": {\"colorbar\": {\"outlinewidth\": 0, \"ticks\": \"\"}}, \"marker\": {\"colorbar\": {\"outlinewidth\": 0, \"ticks\": \"\"}}, \"type\": \"scatter3d\"}], \"scattercarpet\": [{\"marker\": {\"colorbar\": {\"outlinewidth\": 0, \"ticks\": \"\"}}, \"type\": \"scattercarpet\"}], \"scattergeo\": [{\"marker\": {\"colorbar\": {\"outlinewidth\": 0, \"ticks\": \"\"}}, \"type\": \"scattergeo\"}], \"scattergl\": [{\"marker\": {\"colorbar\": {\"outlinewidth\": 0, \"ticks\": \"\"}}, \"type\": \"scattergl\"}], \"scattermapbox\": [{\"marker\": {\"colorbar\": {\"outlinewidth\": 0, \"ticks\": \"\"}}, \"type\": \"scattermapbox\"}], \"scatterpolar\": [{\"marker\": {\"colorbar\": {\"outlinewidth\": 0, \"ticks\": \"\"}}, \"type\": \"scatterpolar\"}], \"scatterpolargl\": [{\"marker\": {\"colorbar\": {\"outlinewidth\": 0, \"ticks\": \"\"}}, \"type\": \"scatterpolargl\"}], \"scatterternary\": [{\"marker\": {\"colorbar\": {\"outlinewidth\": 0, \"ticks\": \"\"}}, \"type\": \"scatterternary\"}], \"surface\": [{\"colorbar\": {\"outlinewidth\": 0, \"ticks\": \"\"}, \"colorscale\": [[0.0, \"#0d0887\"], [0.1111111111111111, \"#46039f\"], [0.2222222222222222, \"#7201a8\"], [0.3333333333333333, \"#9c179e\"], [0.4444444444444444, \"#bd3786\"], [0.5555555555555556, \"#d8576b\"], [0.6666666666666666, \"#ed7953\"], [0.7777777777777778, \"#fb9f3a\"], [0.8888888888888888, \"#fdca26\"], [1.0, \"#f0f921\"]], \"type\": \"surface\"}], \"table\": [{\"cells\": {\"fill\": {\"color\": \"#EBF0F8\"}, \"line\": {\"color\": \"white\"}}, \"header\": {\"fill\": {\"color\": \"#C8D4E3\"}, \"line\": {\"color\": \"white\"}}, \"type\": \"table\"}]}, \"layout\": {\"annotationdefaults\": {\"arrowcolor\": \"#2a3f5f\", \"arrowhead\": 0, \"arrowwidth\": 1}, \"autotypenumbers\": \"strict\", \"coloraxis\": {\"colorbar\": {\"outlinewidth\": 0, \"ticks\": \"\"}}, \"colorscale\": {\"diverging\": [[0, \"#8e0152\"], [0.1, \"#c51b7d\"], [0.2, \"#de77ae\"], [0.3, \"#f1b6da\"], [0.4, \"#fde0ef\"], [0.5, \"#f7f7f7\"], [0.6, \"#e6f5d0\"], [0.7, \"#b8e186\"], [0.8, \"#7fbc41\"], [0.9, \"#4d9221\"], [1, \"#276419\"]], \"sequential\": [[0.0, \"#0d0887\"], [0.1111111111111111, \"#46039f\"], [0.2222222222222222, \"#7201a8\"], [0.3333333333333333, \"#9c179e\"], [0.4444444444444444, \"#bd3786\"], [0.5555555555555556, \"#d8576b\"], [0.6666666666666666, \"#ed7953\"], [0.7777777777777778, \"#fb9f3a\"], [0.8888888888888888, \"#fdca26\"], [1.0, \"#f0f921\"]], \"sequentialminus\": [[0.0, \"#0d0887\"], [0.1111111111111111, \"#46039f\"], [0.2222222222222222, \"#7201a8\"], [0.3333333333333333, \"#9c179e\"], [0.4444444444444444, \"#bd3786\"], [0.5555555555555556, \"#d8576b\"], [0.6666666666666666, \"#ed7953\"], [0.7777777777777778, \"#fb9f3a\"], [0.8888888888888888, \"#fdca26\"], [1.0, \"#f0f921\"]]}, \"colorway\": [\"#636efa\", \"#EF553B\", \"#00cc96\", \"#ab63fa\", \"#FFA15A\", \"#19d3f3\", \"#FF6692\", \"#B6E880\", \"#FF97FF\", \"#FECB52\"], \"font\": {\"color\": \"#2a3f5f\"}, \"geo\": {\"bgcolor\": \"white\", \"lakecolor\": \"white\", \"landcolor\": \"#E5ECF6\", \"showlakes\": true, \"showland\": true, \"subunitcolor\": \"white\"}, \"hoverlabel\": {\"align\": \"left\"}, \"hovermode\": \"closest\", \"mapbox\": {\"style\": \"light\"}, \"paper_bgcolor\": \"white\", \"plot_bgcolor\": \"#E5ECF6\", \"polar\": {\"angularaxis\": {\"gridcolor\": \"white\", \"linecolor\": \"white\", \"ticks\": \"\"}, \"bgcolor\": \"#E5ECF6\", \"radialaxis\": {\"gridcolor\": \"white\", \"linecolor\": \"white\", \"ticks\": \"\"}}, \"scene\": {\"xaxis\": {\"backgroundcolor\": \"#E5ECF6\", \"gridcolor\": \"white\", \"gridwidth\": 2, \"linecolor\": \"white\", \"showbackground\": true, \"ticks\": \"\", \"zerolinecolor\": \"white\"}, \"yaxis\": {\"backgroundcolor\": \"#E5ECF6\", \"gridcolor\": \"white\", \"gridwidth\": 2, \"linecolor\": \"white\", \"showbackground\": true, \"ticks\": \"\", \"zerolinecolor\": \"white\"}, \"zaxis\": {\"backgroundcolor\": \"#E5ECF6\", \"gridcolor\": \"white\", \"gridwidth\": 2, \"linecolor\": \"white\", \"showbackground\": true, \"ticks\": \"\", \"zerolinecolor\": \"white\"}}, \"shapedefaults\": {\"line\": {\"color\": \"#2a3f5f\"}}, \"ternary\": {\"aaxis\": {\"gridcolor\": \"white\", \"linecolor\": \"white\", \"ticks\": \"\"}, \"baxis\": {\"gridcolor\": \"white\", \"linecolor\": \"white\", \"ticks\": \"\"}, \"bgcolor\": \"#E5ECF6\", \"caxis\": {\"gridcolor\": \"white\", \"linecolor\": \"white\", \"ticks\": \"\"}}, \"title\": {\"x\": 0.05}, \"xaxis\": {\"automargin\": true, \"gridcolor\": \"white\", \"linecolor\": \"white\", \"ticks\": \"\", \"title\": {\"standoff\": 15}, \"zerolinecolor\": \"white\", \"zerolinewidth\": 2}, \"yaxis\": {\"automargin\": true, \"gridcolor\": \"white\", \"linecolor\": \"white\", \"ticks\": \"\", \"title\": {\"standoff\": 15}, \"zerolinecolor\": \"white\", \"zerolinewidth\": 2}}}},                        {\"responsive\": true}                    ).then(function(){\n                            \nvar gd = document.getElementById('13f18815-8d0b-40af-b643-084387bd5206');\nvar x = new MutationObserver(function (mutations, observer) {{\n        var display = window.getComputedStyle(gd).display;\n        if (!display || display === 'none') {{\n            console.log([gd, 'removed!']);\n            Plotly.purge(gd);\n            observer.disconnect();\n        }}\n}});\n\n// Listen for the removal of the full notebook cells\nvar notebookContainer = gd.closest('#notebook-container');\nif (notebookContainer) {{\n    x.observe(notebookContainer, {childList: true});\n}}\n\n// Listen for the clearing of the current output cell\nvar outputEl = gd.closest('.output');\nif (outputEl) {{\n    x.observe(outputEl, {childList: true});\n}}\n\n                        })                };                });            </script>        </div>"
     },
     "metadata": {}
    }
   ],
   "source": [
    "\n",
    "np.random.seed(1)\n",
    "\n",
    "N = 100\n",
    "x = np.random.rand(N)\n",
    "y = np.random.rand(N)\n",
    "colors = np.random.rand(N)\n",
    "sz = np.random.rand(N) * 30\n",
    "\n",
    "fig = go.Figure()\n",
    "fig.add_trace(go.Scatter(\n",
    "    x=x,\n",
    "    y=y,\n",
    "    mode=\"markers\",\n",
    "    marker=go.scatter.Marker(\n",
    "        size=sz,\n",
    "        color=colors,\n",
    "        opacity=0.6,\n",
    "        colorscale=\"Viridis\"\n",
    "    )\n",
    "))\n",
    "\n",
    "html_file = 'plotly-circles-plot.html'\n",
    "fname = 'plotly-circles-plot'\n",
    "\n",
    "fig.show()"
   ]
  },
  {
   "cell_type": "code",
   "execution_count": 8,
   "metadata": {},
   "outputs": [
    {
     "output_type": "execute_result",
     "data": {
      "text/plain": [
       "'plotly-circles-plot.html'"
      ]
     },
     "metadata": {},
     "execution_count": 8
    }
   ],
   "source": [
    "plot(fig, filename=html_file, auto_open=True,\n",
    "                    image_width=1280, image_height=800,\n",
    "                    image_filename=fname, image='png')"
   ]
  },
  {
   "cell_type": "code",
   "execution_count": 9,
   "metadata": {},
   "outputs": [
    {
     "output_type": "execute_result",
     "data": {
      "text/plain": [
       "'plotly-fruit-plot.html'"
      ]
     },
     "metadata": {},
     "execution_count": 9
    }
   ],
   "source": [
    "import plotly\n",
    "import plotly.graph_objs as go\n",
    "\n",
    "data = [go.Bar(x=['Apples', 'Pears', 'Nectarines', 'Plums', 'Grapes', 'Strawberries'],\n",
    "               y=[5, 3, 4, 2, 4, 6])]\n",
    "\n",
    "html_file = 'plotly-fruit-plot.html'\n",
    "fname = 'plotly-fruit-plot'\n",
    "\n",
    "plotly.offline.plot(data, filename=html_file, auto_open=False,\n",
    "                    image_width=1280, image_height=800,\n",
    "                    image_filename=fname, image='png')"
   ]
  },
  {
   "cell_type": "code",
   "execution_count": null,
   "metadata": {},
   "outputs": [],
   "source": []
  }
 ]
}