{
 "metadata": {
  "language_info": {
   "codemirror_mode": {
    "name": "ipython",
    "version": 3
   },
   "file_extension": ".py",
   "mimetype": "text/x-python",
   "name": "python",
   "nbconvert_exporter": "python",
   "pygments_lexer": "ipython3",
   "version": "3.9.0-final"
  },
  "orig_nbformat": 2,
  "kernelspec": {
   "name": "python3",
   "display_name": "Python 3.9.0 64-bit",
   "metadata": {
    "interpreter": {
     "hash": "ac59ebe37160ed0dfa835113d9b8498d9f09ceb179beaac4002f036b9467c963"
    }
   }
  }
 },
 "nbformat": 4,
 "nbformat_minor": 2,
 "cells": [
  {
   "cell_type": "code",
   "execution_count": 1,
   "metadata": {},
   "outputs": [],
   "source": [
    "import pymysql.cursors\n",
    "import pandas as pd\n",
    "from pandas import DataFrame\n",
    "from sklearn.model_selection import train_test_split\n",
    "from sklearn.linear_model import LinearRegression"
   ]
  },
  {
   "source": [
    "## EASY"
   ],
   "cell_type": "markdown",
   "metadata": {}
  },
  {
   "cell_type": "code",
   "execution_count": 23,
   "metadata": {},
   "outputs": [],
   "source": [
    "connection = pymysql.connect(host=\"34.229.137.164\", \n",
    "                            port=25001,\n",
    "                             user='student',\n",
    "                             password='lebowsky',\n",
    "                             database= 'australia_fires_2',\n",
    "                             cursorclass=pymysql.cursors.DictCursor)\n",
    "cursor = connection.cursor()\n",
    "cursor.execute(\\\n",
    "    \"\"\"\n",
    "    SELECT * \n",
    "    FROM fire_archive_M6_96619\n",
    "    \"\"\")\n",
    "result = cursor.fetchall()\n",
    "\n",
    "cursor.close()\n",
    "connection.close()\n",
    "\n",
    "df = DataFrame (result)"
   ]
  },
  {
   "cell_type": "code",
   "execution_count": 24,
   "metadata": {},
   "outputs": [
    {
     "output_type": "execute_result",
     "data": {
      "text/plain": [
       "       index  latitude   longitude  brightness      scan     track  \\\n",
       "0          0   -11.807  142.058300  313.000000  1.000000  1.000000   \n",
       "1          1  -11.7924  142.085000  319.300000  1.000000  1.000000   \n",
       "2          2  -12.8398  132.874400  311.600000  3.100000  1.700000   \n",
       "3          3  -14.4306  143.303500  310.100000  1.100000  1.100000   \n",
       "4          4  -12.4953  131.489700  310.300000  4.000000  1.900000   \n",
       "...      ...       ...         ...         ...       ...       ...   \n",
       "36006  36006  -28.0656  131.633400  312.700000  1.200000  1.100000   \n",
       "36007  36007  -28.2625  128.549400  304.900000  1.000000  1.000000   \n",
       "36008  36008  -28.2941  128.512300  301.700000  1.000000  1.000000   \n",
       "36009  36009  -28.3001  128.553000  303.600000  1.000000  1.000000   \n",
       "36010  36010  -30.8641  121.499500  309.100000  1.800000  1.300000   \n",
       "\n",
       "         acq_date  acq_time satellite instrument  confidence   version  \\\n",
       "0      2019-08-01        56     Terra      MODIS          48  6.300000   \n",
       "1      2019-08-01        56     Terra      MODIS          71  6.300000   \n",
       "2      2019-08-01        57     Terra      MODIS          42  6.300000   \n",
       "3      2019-08-01        57     Terra      MODIS          33  6.300000   \n",
       "4      2019-08-01        57     Terra      MODIS          36  6.300000   \n",
       "...           ...       ...       ...        ...         ...       ...   \n",
       "36006  2019-09-30      1644      Aqua      MODIS          85  6.300000   \n",
       "36007  2019-09-30      1644      Aqua      MODIS          27  6.300000   \n",
       "36008  2019-09-30      1644      Aqua      MODIS          43  6.300000   \n",
       "36009  2019-09-30      1644      Aqua      MODIS          41  6.300000   \n",
       "36010  2019-09-30      1645      Aqua      MODIS          77  6.300000   \n",
       "\n",
       "       bright_t31        frp daynight  fire_type  \n",
       "0      297.300000   6.600000        D          0  \n",
       "1      297.300000  11.300000        D          0  \n",
       "2      298.700000  23.100000        D          0  \n",
       "3      296.100000   6.500000        D          0  \n",
       "4      298.800000  27.600000        D          0  \n",
       "...           ...        ...      ...        ...  \n",
       "36006  292.900000  14.200000        N          0  \n",
       "36007  290.900000   6.400000        N          0  \n",
       "36008  290.400000   5.500000        N          0  \n",
       "36009  290.300000   5.700000        N          0  \n",
       "36010  290.900000  23.000000        N          2  \n",
       "\n",
       "[36011 rows x 16 columns]"
      ],
      "text/html": "<div>\n<style scoped>\n    .dataframe tbody tr th:only-of-type {\n        vertical-align: middle;\n    }\n\n    .dataframe tbody tr th {\n        vertical-align: top;\n    }\n\n    .dataframe thead th {\n        text-align: right;\n    }\n</style>\n<table border=\"1\" class=\"dataframe\">\n  <thead>\n    <tr style=\"text-align: right;\">\n      <th></th>\n      <th>index</th>\n      <th>latitude</th>\n      <th>longitude</th>\n      <th>brightness</th>\n      <th>scan</th>\n      <th>track</th>\n      <th>acq_date</th>\n      <th>acq_time</th>\n      <th>satellite</th>\n      <th>instrument</th>\n      <th>confidence</th>\n      <th>version</th>\n      <th>bright_t31</th>\n      <th>frp</th>\n      <th>daynight</th>\n      <th>fire_type</th>\n    </tr>\n  </thead>\n  <tbody>\n    <tr>\n      <th>0</th>\n      <td>0</td>\n      <td>-11.807</td>\n      <td>142.058300</td>\n      <td>313.000000</td>\n      <td>1.000000</td>\n      <td>1.000000</td>\n      <td>2019-08-01</td>\n      <td>56</td>\n      <td>Terra</td>\n      <td>MODIS</td>\n      <td>48</td>\n      <td>6.300000</td>\n      <td>297.300000</td>\n      <td>6.600000</td>\n      <td>D</td>\n      <td>0</td>\n    </tr>\n    <tr>\n      <th>1</th>\n      <td>1</td>\n      <td>-11.7924</td>\n      <td>142.085000</td>\n      <td>319.300000</td>\n      <td>1.000000</td>\n      <td>1.000000</td>\n      <td>2019-08-01</td>\n      <td>56</td>\n      <td>Terra</td>\n      <td>MODIS</td>\n      <td>71</td>\n      <td>6.300000</td>\n      <td>297.300000</td>\n      <td>11.300000</td>\n      <td>D</td>\n      <td>0</td>\n    </tr>\n    <tr>\n      <th>2</th>\n      <td>2</td>\n      <td>-12.8398</td>\n      <td>132.874400</td>\n      <td>311.600000</td>\n      <td>3.100000</td>\n      <td>1.700000</td>\n      <td>2019-08-01</td>\n      <td>57</td>\n      <td>Terra</td>\n      <td>MODIS</td>\n      <td>42</td>\n      <td>6.300000</td>\n      <td>298.700000</td>\n      <td>23.100000</td>\n      <td>D</td>\n      <td>0</td>\n    </tr>\n    <tr>\n      <th>3</th>\n      <td>3</td>\n      <td>-14.4306</td>\n      <td>143.303500</td>\n      <td>310.100000</td>\n      <td>1.100000</td>\n      <td>1.100000</td>\n      <td>2019-08-01</td>\n      <td>57</td>\n      <td>Terra</td>\n      <td>MODIS</td>\n      <td>33</td>\n      <td>6.300000</td>\n      <td>296.100000</td>\n      <td>6.500000</td>\n      <td>D</td>\n      <td>0</td>\n    </tr>\n    <tr>\n      <th>4</th>\n      <td>4</td>\n      <td>-12.4953</td>\n      <td>131.489700</td>\n      <td>310.300000</td>\n      <td>4.000000</td>\n      <td>1.900000</td>\n      <td>2019-08-01</td>\n      <td>57</td>\n      <td>Terra</td>\n      <td>MODIS</td>\n      <td>36</td>\n      <td>6.300000</td>\n      <td>298.800000</td>\n      <td>27.600000</td>\n      <td>D</td>\n      <td>0</td>\n    </tr>\n    <tr>\n      <th>...</th>\n      <td>...</td>\n      <td>...</td>\n      <td>...</td>\n      <td>...</td>\n      <td>...</td>\n      <td>...</td>\n      <td>...</td>\n      <td>...</td>\n      <td>...</td>\n      <td>...</td>\n      <td>...</td>\n      <td>...</td>\n      <td>...</td>\n      <td>...</td>\n      <td>...</td>\n      <td>...</td>\n    </tr>\n    <tr>\n      <th>36006</th>\n      <td>36006</td>\n      <td>-28.0656</td>\n      <td>131.633400</td>\n      <td>312.700000</td>\n      <td>1.200000</td>\n      <td>1.100000</td>\n      <td>2019-09-30</td>\n      <td>1644</td>\n      <td>Aqua</td>\n      <td>MODIS</td>\n      <td>85</td>\n      <td>6.300000</td>\n      <td>292.900000</td>\n      <td>14.200000</td>\n      <td>N</td>\n      <td>0</td>\n    </tr>\n    <tr>\n      <th>36007</th>\n      <td>36007</td>\n      <td>-28.2625</td>\n      <td>128.549400</td>\n      <td>304.900000</td>\n      <td>1.000000</td>\n      <td>1.000000</td>\n      <td>2019-09-30</td>\n      <td>1644</td>\n      <td>Aqua</td>\n      <td>MODIS</td>\n      <td>27</td>\n      <td>6.300000</td>\n      <td>290.900000</td>\n      <td>6.400000</td>\n      <td>N</td>\n      <td>0</td>\n    </tr>\n    <tr>\n      <th>36008</th>\n      <td>36008</td>\n      <td>-28.2941</td>\n      <td>128.512300</td>\n      <td>301.700000</td>\n      <td>1.000000</td>\n      <td>1.000000</td>\n      <td>2019-09-30</td>\n      <td>1644</td>\n      <td>Aqua</td>\n      <td>MODIS</td>\n      <td>43</td>\n      <td>6.300000</td>\n      <td>290.400000</td>\n      <td>5.500000</td>\n      <td>N</td>\n      <td>0</td>\n    </tr>\n    <tr>\n      <th>36009</th>\n      <td>36009</td>\n      <td>-28.3001</td>\n      <td>128.553000</td>\n      <td>303.600000</td>\n      <td>1.000000</td>\n      <td>1.000000</td>\n      <td>2019-09-30</td>\n      <td>1644</td>\n      <td>Aqua</td>\n      <td>MODIS</td>\n      <td>41</td>\n      <td>6.300000</td>\n      <td>290.300000</td>\n      <td>5.700000</td>\n      <td>N</td>\n      <td>0</td>\n    </tr>\n    <tr>\n      <th>36010</th>\n      <td>36010</td>\n      <td>-30.8641</td>\n      <td>121.499500</td>\n      <td>309.100000</td>\n      <td>1.800000</td>\n      <td>1.300000</td>\n      <td>2019-09-30</td>\n      <td>1645</td>\n      <td>Aqua</td>\n      <td>MODIS</td>\n      <td>77</td>\n      <td>6.300000</td>\n      <td>290.900000</td>\n      <td>23.000000</td>\n      <td>N</td>\n      <td>2</td>\n    </tr>\n  </tbody>\n</table>\n<p>36011 rows × 16 columns</p>\n</div>"
     },
     "metadata": {},
     "execution_count": 24
    }
   ],
   "source": [
    "df"
   ]
  },
  {
   "source": [
    "## COMPLEX"
   ],
   "cell_type": "markdown",
   "metadata": {}
  },
  {
   "cell_type": "code",
   "execution_count": 2,
   "metadata": {},
   "outputs": [
    {
     "output_type": "execute_result",
     "data": {
      "text/plain": [
       "   index  latitude  longitude  brightness  scan  track    acq_date  acq_time  \\\n",
       "0      0   -11.807   142.0583       313.0   1.0    1.0  2019-08-01        56   \n",
       "1      1  -11.7924   142.0850       319.3   1.0    1.0  2019-08-01        56   \n",
       "2      2  -12.8398   132.8744       311.6   3.1    1.7  2019-08-01        57   \n",
       "3      3  -14.4306   143.3035       310.1   1.1    1.1  2019-08-01        57   \n",
       "4      4  -12.4953   131.4897       310.3   4.0    1.9  2019-08-01        57   \n",
       "\n",
       "  satellite instrument  confidence  version  bright_t31   frp daynight  \\\n",
       "0     Terra      MODIS          48      6.3       297.3   6.6        D   \n",
       "1     Terra      MODIS          71      6.3       297.3  11.3        D   \n",
       "2     Terra      MODIS          42      6.3       298.7  23.1        D   \n",
       "3     Terra      MODIS          33      6.3       296.1   6.5        D   \n",
       "4     Terra      MODIS          36      6.3       298.8  27.6        D   \n",
       "\n",
       "   fire_type  \n",
       "0          0  \n",
       "1          0  \n",
       "2          0  \n",
       "3          0  \n",
       "4          0  "
      ],
      "text/html": "<div>\n<style scoped>\n    .dataframe tbody tr th:only-of-type {\n        vertical-align: middle;\n    }\n\n    .dataframe tbody tr th {\n        vertical-align: top;\n    }\n\n    .dataframe thead th {\n        text-align: right;\n    }\n</style>\n<table border=\"1\" class=\"dataframe\">\n  <thead>\n    <tr style=\"text-align: right;\">\n      <th></th>\n      <th>index</th>\n      <th>latitude</th>\n      <th>longitude</th>\n      <th>brightness</th>\n      <th>scan</th>\n      <th>track</th>\n      <th>acq_date</th>\n      <th>acq_time</th>\n      <th>satellite</th>\n      <th>instrument</th>\n      <th>confidence</th>\n      <th>version</th>\n      <th>bright_t31</th>\n      <th>frp</th>\n      <th>daynight</th>\n      <th>fire_type</th>\n    </tr>\n  </thead>\n  <tbody>\n    <tr>\n      <th>0</th>\n      <td>0</td>\n      <td>-11.807</td>\n      <td>142.0583</td>\n      <td>313.0</td>\n      <td>1.0</td>\n      <td>1.0</td>\n      <td>2019-08-01</td>\n      <td>56</td>\n      <td>Terra</td>\n      <td>MODIS</td>\n      <td>48</td>\n      <td>6.3</td>\n      <td>297.3</td>\n      <td>6.6</td>\n      <td>D</td>\n      <td>0</td>\n    </tr>\n    <tr>\n      <th>1</th>\n      <td>1</td>\n      <td>-11.7924</td>\n      <td>142.0850</td>\n      <td>319.3</td>\n      <td>1.0</td>\n      <td>1.0</td>\n      <td>2019-08-01</td>\n      <td>56</td>\n      <td>Terra</td>\n      <td>MODIS</td>\n      <td>71</td>\n      <td>6.3</td>\n      <td>297.3</td>\n      <td>11.3</td>\n      <td>D</td>\n      <td>0</td>\n    </tr>\n    <tr>\n      <th>2</th>\n      <td>2</td>\n      <td>-12.8398</td>\n      <td>132.8744</td>\n      <td>311.6</td>\n      <td>3.1</td>\n      <td>1.7</td>\n      <td>2019-08-01</td>\n      <td>57</td>\n      <td>Terra</td>\n      <td>MODIS</td>\n      <td>42</td>\n      <td>6.3</td>\n      <td>298.7</td>\n      <td>23.1</td>\n      <td>D</td>\n      <td>0</td>\n    </tr>\n    <tr>\n      <th>3</th>\n      <td>3</td>\n      <td>-14.4306</td>\n      <td>143.3035</td>\n      <td>310.1</td>\n      <td>1.1</td>\n      <td>1.1</td>\n      <td>2019-08-01</td>\n      <td>57</td>\n      <td>Terra</td>\n      <td>MODIS</td>\n      <td>33</td>\n      <td>6.3</td>\n      <td>296.1</td>\n      <td>6.5</td>\n      <td>D</td>\n      <td>0</td>\n    </tr>\n    <tr>\n      <th>4</th>\n      <td>4</td>\n      <td>-12.4953</td>\n      <td>131.4897</td>\n      <td>310.3</td>\n      <td>4.0</td>\n      <td>1.9</td>\n      <td>2019-08-01</td>\n      <td>57</td>\n      <td>Terra</td>\n      <td>MODIS</td>\n      <td>36</td>\n      <td>6.3</td>\n      <td>298.8</td>\n      <td>27.6</td>\n      <td>D</td>\n      <td>0</td>\n    </tr>\n  </tbody>\n</table>\n</div>"
     },
     "metadata": {},
     "execution_count": 2
    }
   ],
   "source": [
    "connection = pymysql.connect(host=\"34.229.137.164\", \n",
    "                            port=25001,\n",
    "                             user='student',\n",
    "                             password='lebowsky',\n",
    "                             database= 'australia_fires_2',\n",
    "                             cursorclass=pymysql.cursors.DictCursor)\n",
    "\n",
    "cursor = connection.cursor()\n",
    "cursor.execute(\"SHOW TABLES\")\n",
    "cursor.fetchall()\n",
    "query1 = \"\"\"\n",
    "\n",
    "SELECT * \n",
    "FROM fire_archive_M6_96619\"\"\"\n",
    "\n",
    "df_1 = pd.read_sql_query(query1, connection)\n",
    "df_1.head()"
   ]
  },
  {
   "cell_type": "code",
   "execution_count": 5,
   "metadata": {},
   "outputs": [
    {
     "output_type": "execute_result",
     "data": {
      "text/plain": [
       "       index  latitude  longitude  brightness  scan  track    acq_date  \\\n",
       "0          0   -11.807   142.0583       313.0   1.0    1.0  2019-08-01   \n",
       "1          1  -11.7924   142.0850       319.3   1.0    1.0  2019-08-01   \n",
       "2          2  -12.8398   132.8744       311.6   3.1    1.7  2019-08-01   \n",
       "3          3  -14.4306   143.3035       310.1   1.1    1.1  2019-08-01   \n",
       "4          4  -12.4953   131.4897       310.3   4.0    1.9  2019-08-01   \n",
       "...      ...       ...        ...         ...   ...    ...         ...   \n",
       "36006  36006  -28.0656   131.6334       312.7   1.2    1.1  2019-09-30   \n",
       "36007  36007  -28.2625   128.5494       304.9   1.0    1.0  2019-09-30   \n",
       "36008  36008  -28.2941   128.5123       301.7   1.0    1.0  2019-09-30   \n",
       "36009  36009  -28.3001   128.5530       303.6   1.0    1.0  2019-09-30   \n",
       "36010  36010  -30.8641   121.4995       309.1   1.8    1.3  2019-09-30   \n",
       "\n",
       "       acq_time satellite instrument  confidence  version  bright_t31   frp  \\\n",
       "0            56     Terra      MODIS          48      6.3       297.3   6.6   \n",
       "1            56     Terra      MODIS          71      6.3       297.3  11.3   \n",
       "2            57     Terra      MODIS          42      6.3       298.7  23.1   \n",
       "3            57     Terra      MODIS          33      6.3       296.1   6.5   \n",
       "4            57     Terra      MODIS          36      6.3       298.8  27.6   \n",
       "...         ...       ...        ...         ...      ...         ...   ...   \n",
       "36006      1644      Aqua      MODIS          85      6.3       292.9  14.2   \n",
       "36007      1644      Aqua      MODIS          27      6.3       290.9   6.4   \n",
       "36008      1644      Aqua      MODIS          43      6.3       290.4   5.5   \n",
       "36009      1644      Aqua      MODIS          41      6.3       290.3   5.7   \n",
       "36010      1645      Aqua      MODIS          77      6.3       290.9  23.0   \n",
       "\n",
       "      daynight  fire_type  \n",
       "0            D          0  \n",
       "1            D          0  \n",
       "2            D          0  \n",
       "3            D          0  \n",
       "4            D          0  \n",
       "...        ...        ...  \n",
       "36006        N          0  \n",
       "36007        N          0  \n",
       "36008        N          0  \n",
       "36009        N          0  \n",
       "36010        N          2  \n",
       "\n",
       "[36011 rows x 16 columns]"
      ],
      "text/html": "<div>\n<style scoped>\n    .dataframe tbody tr th:only-of-type {\n        vertical-align: middle;\n    }\n\n    .dataframe tbody tr th {\n        vertical-align: top;\n    }\n\n    .dataframe thead th {\n        text-align: right;\n    }\n</style>\n<table border=\"1\" class=\"dataframe\">\n  <thead>\n    <tr style=\"text-align: right;\">\n      <th></th>\n      <th>index</th>\n      <th>latitude</th>\n      <th>longitude</th>\n      <th>brightness</th>\n      <th>scan</th>\n      <th>track</th>\n      <th>acq_date</th>\n      <th>acq_time</th>\n      <th>satellite</th>\n      <th>instrument</th>\n      <th>confidence</th>\n      <th>version</th>\n      <th>bright_t31</th>\n      <th>frp</th>\n      <th>daynight</th>\n      <th>fire_type</th>\n    </tr>\n  </thead>\n  <tbody>\n    <tr>\n      <th>0</th>\n      <td>0</td>\n      <td>-11.807</td>\n      <td>142.0583</td>\n      <td>313.0</td>\n      <td>1.0</td>\n      <td>1.0</td>\n      <td>2019-08-01</td>\n      <td>56</td>\n      <td>Terra</td>\n      <td>MODIS</td>\n      <td>48</td>\n      <td>6.3</td>\n      <td>297.3</td>\n      <td>6.6</td>\n      <td>D</td>\n      <td>0</td>\n    </tr>\n    <tr>\n      <th>1</th>\n      <td>1</td>\n      <td>-11.7924</td>\n      <td>142.0850</td>\n      <td>319.3</td>\n      <td>1.0</td>\n      <td>1.0</td>\n      <td>2019-08-01</td>\n      <td>56</td>\n      <td>Terra</td>\n      <td>MODIS</td>\n      <td>71</td>\n      <td>6.3</td>\n      <td>297.3</td>\n      <td>11.3</td>\n      <td>D</td>\n      <td>0</td>\n    </tr>\n    <tr>\n      <th>2</th>\n      <td>2</td>\n      <td>-12.8398</td>\n      <td>132.8744</td>\n      <td>311.6</td>\n      <td>3.1</td>\n      <td>1.7</td>\n      <td>2019-08-01</td>\n      <td>57</td>\n      <td>Terra</td>\n      <td>MODIS</td>\n      <td>42</td>\n      <td>6.3</td>\n      <td>298.7</td>\n      <td>23.1</td>\n      <td>D</td>\n      <td>0</td>\n    </tr>\n    <tr>\n      <th>3</th>\n      <td>3</td>\n      <td>-14.4306</td>\n      <td>143.3035</td>\n      <td>310.1</td>\n      <td>1.1</td>\n      <td>1.1</td>\n      <td>2019-08-01</td>\n      <td>57</td>\n      <td>Terra</td>\n      <td>MODIS</td>\n      <td>33</td>\n      <td>6.3</td>\n      <td>296.1</td>\n      <td>6.5</td>\n      <td>D</td>\n      <td>0</td>\n    </tr>\n    <tr>\n      <th>4</th>\n      <td>4</td>\n      <td>-12.4953</td>\n      <td>131.4897</td>\n      <td>310.3</td>\n      <td>4.0</td>\n      <td>1.9</td>\n      <td>2019-08-01</td>\n      <td>57</td>\n      <td>Terra</td>\n      <td>MODIS</td>\n      <td>36</td>\n      <td>6.3</td>\n      <td>298.8</td>\n      <td>27.6</td>\n      <td>D</td>\n      <td>0</td>\n    </tr>\n    <tr>\n      <th>...</th>\n      <td>...</td>\n      <td>...</td>\n      <td>...</td>\n      <td>...</td>\n      <td>...</td>\n      <td>...</td>\n      <td>...</td>\n      <td>...</td>\n      <td>...</td>\n      <td>...</td>\n      <td>...</td>\n      <td>...</td>\n      <td>...</td>\n      <td>...</td>\n      <td>...</td>\n      <td>...</td>\n    </tr>\n    <tr>\n      <th>36006</th>\n      <td>36006</td>\n      <td>-28.0656</td>\n      <td>131.6334</td>\n      <td>312.7</td>\n      <td>1.2</td>\n      <td>1.1</td>\n      <td>2019-09-30</td>\n      <td>1644</td>\n      <td>Aqua</td>\n      <td>MODIS</td>\n      <td>85</td>\n      <td>6.3</td>\n      <td>292.9</td>\n      <td>14.2</td>\n      <td>N</td>\n      <td>0</td>\n    </tr>\n    <tr>\n      <th>36007</th>\n      <td>36007</td>\n      <td>-28.2625</td>\n      <td>128.5494</td>\n      <td>304.9</td>\n      <td>1.0</td>\n      <td>1.0</td>\n      <td>2019-09-30</td>\n      <td>1644</td>\n      <td>Aqua</td>\n      <td>MODIS</td>\n      <td>27</td>\n      <td>6.3</td>\n      <td>290.9</td>\n      <td>6.4</td>\n      <td>N</td>\n      <td>0</td>\n    </tr>\n    <tr>\n      <th>36008</th>\n      <td>36008</td>\n      <td>-28.2941</td>\n      <td>128.5123</td>\n      <td>301.7</td>\n      <td>1.0</td>\n      <td>1.0</td>\n      <td>2019-09-30</td>\n      <td>1644</td>\n      <td>Aqua</td>\n      <td>MODIS</td>\n      <td>43</td>\n      <td>6.3</td>\n      <td>290.4</td>\n      <td>5.5</td>\n      <td>N</td>\n      <td>0</td>\n    </tr>\n    <tr>\n      <th>36009</th>\n      <td>36009</td>\n      <td>-28.3001</td>\n      <td>128.5530</td>\n      <td>303.6</td>\n      <td>1.0</td>\n      <td>1.0</td>\n      <td>2019-09-30</td>\n      <td>1644</td>\n      <td>Aqua</td>\n      <td>MODIS</td>\n      <td>41</td>\n      <td>6.3</td>\n      <td>290.3</td>\n      <td>5.7</td>\n      <td>N</td>\n      <td>0</td>\n    </tr>\n    <tr>\n      <th>36010</th>\n      <td>36010</td>\n      <td>-30.8641</td>\n      <td>121.4995</td>\n      <td>309.1</td>\n      <td>1.8</td>\n      <td>1.3</td>\n      <td>2019-09-30</td>\n      <td>1645</td>\n      <td>Aqua</td>\n      <td>MODIS</td>\n      <td>77</td>\n      <td>6.3</td>\n      <td>290.9</td>\n      <td>23.0</td>\n      <td>N</td>\n      <td>2</td>\n    </tr>\n  </tbody>\n</table>\n<p>36011 rows × 16 columns</p>\n</div>"
     },
     "metadata": {},
     "execution_count": 5
    }
   ],
   "source": [
    "df_1"
   ]
  },
  {
   "cell_type": "code",
   "execution_count": 6,
   "metadata": {},
   "outputs": [
    {
     "output_type": "execute_result",
     "data": {
      "text/plain": [
       "[{'Tables_in_australia_fires_2': 'fire_archive_M6_96619'},\n",
       " {'Tables_in_australia_fires_2': 'fire_archive_V1_96617'},\n",
       " {'Tables_in_australia_fires_2': 'fire_nrt_M6_96619'},\n",
       " {'Tables_in_australia_fires_2': 'fire_nrt_V1_96617'},\n",
       " {'Tables_in_australia_fires_2': 'student_findings'}]"
      ]
     },
     "metadata": {},
     "execution_count": 6
    }
   ],
   "source": [
    "cursor.execute(\"SHOW TABLES\")\n",
    "cursor.fetchall()"
   ]
  },
  {
   "cell_type": "code",
   "execution_count": 3,
   "metadata": {},
   "outputs": [
    {
     "output_type": "execute_result",
     "data": {
      "text/plain": [
       "   index   latitude  longitude  bright_ti4  scan  track    acq_date  acq_time  \\\n",
       "0      0  -34.45902  150.88040       326.5  0.60   0.71  2019-08-01       246   \n",
       "1      1  -31.70724  151.07191       367.0  0.56   0.69  2019-08-01       247   \n",
       "2      2  -31.39626  149.65253       325.2  0.68   0.74  2019-08-01       247   \n",
       "3      3  -30.39774  152.06432       347.8  0.48   0.65  2019-08-01       247   \n",
       "4      4  -31.20248  151.89766       350.7  0.50   0.66  2019-08-01       247   \n",
       "\n",
       "  satellite instrument confidence  version  bright_ti5   frp  fire_type  \n",
       "0         N      VIIRS          n        1       290.7   5.8          3  \n",
       "1         N      VIIRS          h        1       291.9  10.4          0  \n",
       "2         N      VIIRS          n        1       292.7   5.6          0  \n",
       "3         N      VIIRS          n        1       287.6   9.1          0  \n",
       "4         N      VIIRS          n        1       292.3   9.4          0  "
      ],
      "text/html": "<div>\n<style scoped>\n    .dataframe tbody tr th:only-of-type {\n        vertical-align: middle;\n    }\n\n    .dataframe tbody tr th {\n        vertical-align: top;\n    }\n\n    .dataframe thead th {\n        text-align: right;\n    }\n</style>\n<table border=\"1\" class=\"dataframe\">\n  <thead>\n    <tr style=\"text-align: right;\">\n      <th></th>\n      <th>index</th>\n      <th>latitude</th>\n      <th>longitude</th>\n      <th>bright_ti4</th>\n      <th>scan</th>\n      <th>track</th>\n      <th>acq_date</th>\n      <th>acq_time</th>\n      <th>satellite</th>\n      <th>instrument</th>\n      <th>confidence</th>\n      <th>version</th>\n      <th>bright_ti5</th>\n      <th>frp</th>\n      <th>fire_type</th>\n    </tr>\n  </thead>\n  <tbody>\n    <tr>\n      <th>0</th>\n      <td>0</td>\n      <td>-34.45902</td>\n      <td>150.88040</td>\n      <td>326.5</td>\n      <td>0.60</td>\n      <td>0.71</td>\n      <td>2019-08-01</td>\n      <td>246</td>\n      <td>N</td>\n      <td>VIIRS</td>\n      <td>n</td>\n      <td>1</td>\n      <td>290.7</td>\n      <td>5.8</td>\n      <td>3</td>\n    </tr>\n    <tr>\n      <th>1</th>\n      <td>1</td>\n      <td>-31.70724</td>\n      <td>151.07191</td>\n      <td>367.0</td>\n      <td>0.56</td>\n      <td>0.69</td>\n      <td>2019-08-01</td>\n      <td>247</td>\n      <td>N</td>\n      <td>VIIRS</td>\n      <td>h</td>\n      <td>1</td>\n      <td>291.9</td>\n      <td>10.4</td>\n      <td>0</td>\n    </tr>\n    <tr>\n      <th>2</th>\n      <td>2</td>\n      <td>-31.39626</td>\n      <td>149.65253</td>\n      <td>325.2</td>\n      <td>0.68</td>\n      <td>0.74</td>\n      <td>2019-08-01</td>\n      <td>247</td>\n      <td>N</td>\n      <td>VIIRS</td>\n      <td>n</td>\n      <td>1</td>\n      <td>292.7</td>\n      <td>5.6</td>\n      <td>0</td>\n    </tr>\n    <tr>\n      <th>3</th>\n      <td>3</td>\n      <td>-30.39774</td>\n      <td>152.06432</td>\n      <td>347.8</td>\n      <td>0.48</td>\n      <td>0.65</td>\n      <td>2019-08-01</td>\n      <td>247</td>\n      <td>N</td>\n      <td>VIIRS</td>\n      <td>n</td>\n      <td>1</td>\n      <td>287.6</td>\n      <td>9.1</td>\n      <td>0</td>\n    </tr>\n    <tr>\n      <th>4</th>\n      <td>4</td>\n      <td>-31.20248</td>\n      <td>151.89766</td>\n      <td>350.7</td>\n      <td>0.50</td>\n      <td>0.66</td>\n      <td>2019-08-01</td>\n      <td>247</td>\n      <td>N</td>\n      <td>VIIRS</td>\n      <td>n</td>\n      <td>1</td>\n      <td>292.3</td>\n      <td>9.4</td>\n      <td>0</td>\n    </tr>\n  </tbody>\n</table>\n</div>"
     },
     "metadata": {},
     "execution_count": 3
    }
   ],
   "source": [
    "connection = pymysql.connect(host=\"34.229.137.164\", \n",
    "                            port=25001,\n",
    "                             user='student',\n",
    "                             password='lebowsky',\n",
    "                             database= 'australia_fires_2',\n",
    "                             cursorclass=pymysql.cursors.DictCursor)\n",
    "\n",
    "cursor = connection.cursor()\n",
    "cursor.execute(\"SHOW TABLES\")\n",
    "cursor.fetchall()\n",
    "query1 = \"\"\"\n",
    "\n",
    "SELECT * \n",
    "FROM fire_archive_V1_96617\"\"\"\n",
    "\n",
    "df_2 = pd.read_sql_query(query1, connection)\n",
    "df_2.head()"
   ]
  },
  {
   "cell_type": "code",
   "execution_count": 42,
   "metadata": {},
   "outputs": [
    {
     "output_type": "execute_result",
     "data": {
      "text/plain": [
       "   index latitude  longitude  brightness  scan  track    acq_date  acq_time  \\\n",
       "0      0  -14.281    143.636       323.9   1.7    1.3  2019-10-01        25   \n",
       "1      1  -14.284    143.532       343.5   1.7    1.3  2019-10-01        25   \n",
       "2      2  -14.302    143.706       320.2   1.7    1.3  2019-10-01        25   \n",
       "3      3  -14.283    143.652       320.4   1.7    1.3  2019-10-01        25   \n",
       "4      4  -14.285    143.521       349.4   1.7    1.3  2019-10-01        25   \n",
       "\n",
       "  satellite instrument  confidence version  bright_t31    frp daynight  \n",
       "0     Terra      MODIS          70  6.0NRT       302.3   26.8        D  \n",
       "1     Terra      MODIS          90  6.0NRT       306.3   84.3        D  \n",
       "2     Terra      MODIS          30  6.0NRT       305.0   14.1        D  \n",
       "3     Terra      MODIS          57  6.0NRT       303.3   18.4        D  \n",
       "4     Terra      MODIS          94  6.0NRT       304.7  110.7        D  "
      ],
      "text/html": "<div>\n<style scoped>\n    .dataframe tbody tr th:only-of-type {\n        vertical-align: middle;\n    }\n\n    .dataframe tbody tr th {\n        vertical-align: top;\n    }\n\n    .dataframe thead th {\n        text-align: right;\n    }\n</style>\n<table border=\"1\" class=\"dataframe\">\n  <thead>\n    <tr style=\"text-align: right;\">\n      <th></th>\n      <th>index</th>\n      <th>latitude</th>\n      <th>longitude</th>\n      <th>brightness</th>\n      <th>scan</th>\n      <th>track</th>\n      <th>acq_date</th>\n      <th>acq_time</th>\n      <th>satellite</th>\n      <th>instrument</th>\n      <th>confidence</th>\n      <th>version</th>\n      <th>bright_t31</th>\n      <th>frp</th>\n      <th>daynight</th>\n    </tr>\n  </thead>\n  <tbody>\n    <tr>\n      <th>0</th>\n      <td>0</td>\n      <td>-14.281</td>\n      <td>143.636</td>\n      <td>323.9</td>\n      <td>1.7</td>\n      <td>1.3</td>\n      <td>2019-10-01</td>\n      <td>25</td>\n      <td>Terra</td>\n      <td>MODIS</td>\n      <td>70</td>\n      <td>6.0NRT</td>\n      <td>302.3</td>\n      <td>26.8</td>\n      <td>D</td>\n    </tr>\n    <tr>\n      <th>1</th>\n      <td>1</td>\n      <td>-14.284</td>\n      <td>143.532</td>\n      <td>343.5</td>\n      <td>1.7</td>\n      <td>1.3</td>\n      <td>2019-10-01</td>\n      <td>25</td>\n      <td>Terra</td>\n      <td>MODIS</td>\n      <td>90</td>\n      <td>6.0NRT</td>\n      <td>306.3</td>\n      <td>84.3</td>\n      <td>D</td>\n    </tr>\n    <tr>\n      <th>2</th>\n      <td>2</td>\n      <td>-14.302</td>\n      <td>143.706</td>\n      <td>320.2</td>\n      <td>1.7</td>\n      <td>1.3</td>\n      <td>2019-10-01</td>\n      <td>25</td>\n      <td>Terra</td>\n      <td>MODIS</td>\n      <td>30</td>\n      <td>6.0NRT</td>\n      <td>305.0</td>\n      <td>14.1</td>\n      <td>D</td>\n    </tr>\n    <tr>\n      <th>3</th>\n      <td>3</td>\n      <td>-14.283</td>\n      <td>143.652</td>\n      <td>320.4</td>\n      <td>1.7</td>\n      <td>1.3</td>\n      <td>2019-10-01</td>\n      <td>25</td>\n      <td>Terra</td>\n      <td>MODIS</td>\n      <td>57</td>\n      <td>6.0NRT</td>\n      <td>303.3</td>\n      <td>18.4</td>\n      <td>D</td>\n    </tr>\n    <tr>\n      <th>4</th>\n      <td>4</td>\n      <td>-14.285</td>\n      <td>143.521</td>\n      <td>349.4</td>\n      <td>1.7</td>\n      <td>1.3</td>\n      <td>2019-10-01</td>\n      <td>25</td>\n      <td>Terra</td>\n      <td>MODIS</td>\n      <td>94</td>\n      <td>6.0NRT</td>\n      <td>304.7</td>\n      <td>110.7</td>\n      <td>D</td>\n    </tr>\n  </tbody>\n</table>\n</div>"
     },
     "metadata": {},
     "execution_count": 42
    }
   ],
   "source": [
    "cursor.execute(\"SHOW TABLES\")\n",
    "cursor.fetchall()\n",
    "query1 = \"\"\"\n",
    "\n",
    "SELECT * \n",
    "FROM fire_nrt_M6_96619\"\"\"\n",
    "\n",
    "df_3 = pd.read_sql_query(query1, connection)\n",
    "df_3.head()"
   ]
  },
  {
   "cell_type": "code",
   "execution_count": 43,
   "metadata": {},
   "outputs": [
    {
     "output_type": "execute_result",
     "data": {
      "text/plain": [
       "   index   latitude  longitude  bright_ti4  scan  track    acq_date  acq_time  \\\n",
       "0      0  -42.69706  147.70634       333.6  0.57   0.43  2019-10-01       336   \n",
       "1      1  -42.26889  147.31104       336.2  0.39   0.44  2019-10-01       336   \n",
       "2      2  -40.85202  145.38068       327.9  0.46   0.47  2019-10-01       336   \n",
       "3      3  -42.39329  147.47144       346.9  0.38   0.43  2019-10-01       336   \n",
       "4      4  -42.69701  147.70584       334.1  0.56   0.43  2019-10-01       336   \n",
       "\n",
       "  satellite instrument confidence version  bright_ti5  frp daynight  \n",
       "0         N      VIIRS          n  1.0NRT       293.4  4.0        D  \n",
       "1         N      VIIRS          n  1.0NRT       296.9  3.9        D  \n",
       "2         N      VIIRS          n  1.0NRT       295.3  3.7        D  \n",
       "3         N      VIIRS          n  1.0NRT       294.2  6.2        D  \n",
       "4         N      VIIRS          n  1.0NRT       293.5  4.1        D  "
      ],
      "text/html": "<div>\n<style scoped>\n    .dataframe tbody tr th:only-of-type {\n        vertical-align: middle;\n    }\n\n    .dataframe tbody tr th {\n        vertical-align: top;\n    }\n\n    .dataframe thead th {\n        text-align: right;\n    }\n</style>\n<table border=\"1\" class=\"dataframe\">\n  <thead>\n    <tr style=\"text-align: right;\">\n      <th></th>\n      <th>index</th>\n      <th>latitude</th>\n      <th>longitude</th>\n      <th>bright_ti4</th>\n      <th>scan</th>\n      <th>track</th>\n      <th>acq_date</th>\n      <th>acq_time</th>\n      <th>satellite</th>\n      <th>instrument</th>\n      <th>confidence</th>\n      <th>version</th>\n      <th>bright_ti5</th>\n      <th>frp</th>\n      <th>daynight</th>\n    </tr>\n  </thead>\n  <tbody>\n    <tr>\n      <th>0</th>\n      <td>0</td>\n      <td>-42.69706</td>\n      <td>147.70634</td>\n      <td>333.6</td>\n      <td>0.57</td>\n      <td>0.43</td>\n      <td>2019-10-01</td>\n      <td>336</td>\n      <td>N</td>\n      <td>VIIRS</td>\n      <td>n</td>\n      <td>1.0NRT</td>\n      <td>293.4</td>\n      <td>4.0</td>\n      <td>D</td>\n    </tr>\n    <tr>\n      <th>1</th>\n      <td>1</td>\n      <td>-42.26889</td>\n      <td>147.31104</td>\n      <td>336.2</td>\n      <td>0.39</td>\n      <td>0.44</td>\n      <td>2019-10-01</td>\n      <td>336</td>\n      <td>N</td>\n      <td>VIIRS</td>\n      <td>n</td>\n      <td>1.0NRT</td>\n      <td>296.9</td>\n      <td>3.9</td>\n      <td>D</td>\n    </tr>\n    <tr>\n      <th>2</th>\n      <td>2</td>\n      <td>-40.85202</td>\n      <td>145.38068</td>\n      <td>327.9</td>\n      <td>0.46</td>\n      <td>0.47</td>\n      <td>2019-10-01</td>\n      <td>336</td>\n      <td>N</td>\n      <td>VIIRS</td>\n      <td>n</td>\n      <td>1.0NRT</td>\n      <td>295.3</td>\n      <td>3.7</td>\n      <td>D</td>\n    </tr>\n    <tr>\n      <th>3</th>\n      <td>3</td>\n      <td>-42.39329</td>\n      <td>147.47144</td>\n      <td>346.9</td>\n      <td>0.38</td>\n      <td>0.43</td>\n      <td>2019-10-01</td>\n      <td>336</td>\n      <td>N</td>\n      <td>VIIRS</td>\n      <td>n</td>\n      <td>1.0NRT</td>\n      <td>294.2</td>\n      <td>6.2</td>\n      <td>D</td>\n    </tr>\n    <tr>\n      <th>4</th>\n      <td>4</td>\n      <td>-42.69701</td>\n      <td>147.70584</td>\n      <td>334.1</td>\n      <td>0.56</td>\n      <td>0.43</td>\n      <td>2019-10-01</td>\n      <td>336</td>\n      <td>N</td>\n      <td>VIIRS</td>\n      <td>n</td>\n      <td>1.0NRT</td>\n      <td>293.5</td>\n      <td>4.1</td>\n      <td>D</td>\n    </tr>\n  </tbody>\n</table>\n</div>"
     },
     "metadata": {},
     "execution_count": 43
    }
   ],
   "source": [
    "cursor.execute(\"SHOW TABLES\")\n",
    "cursor.fetchall()\n",
    "query1 = \"\"\"\n",
    "\n",
    "SELECT * \n",
    "FROM fire_nrt_V1_96617\"\"\"\n",
    "\n",
    "df_4 = pd.read_sql_query(query1, connection)\n",
    "df_4.head()"
   ]
  },
  {
   "cell_type": "code",
   "execution_count": 18,
   "metadata": {},
   "outputs": [
    {
     "output_type": "execute_result",
     "data": {
      "text/plain": [
       "Empty DataFrame\n",
       "Columns: [index, chosen_model, acc_score, recall_score]\n",
       "Index: []"
      ],
      "text/html": "<div>\n<style scoped>\n    .dataframe tbody tr th:only-of-type {\n        vertical-align: middle;\n    }\n\n    .dataframe tbody tr th {\n        vertical-align: top;\n    }\n\n    .dataframe thead th {\n        text-align: right;\n    }\n</style>\n<table border=\"1\" class=\"dataframe\">\n  <thead>\n    <tr style=\"text-align: right;\">\n      <th></th>\n      <th>index</th>\n      <th>chosen_model</th>\n      <th>acc_score</th>\n      <th>recall_score</th>\n    </tr>\n  </thead>\n  <tbody>\n  </tbody>\n</table>\n</div>"
     },
     "metadata": {},
     "execution_count": 18
    }
   ],
   "source": [
    "cursor.execute(\"SHOW TABLES\")\n",
    "cursor.fetchall()\n",
    "query1 = \"\"\"\n",
    "\n",
    "SELECT * \n",
    "FROM student_findings\"\"\"\n",
    "\n",
    "df_5 = pd.read_sql_query(query1, connection)"
   ]
  },
  {
   "cell_type": "code",
   "execution_count": 10,
   "metadata": {},
   "outputs": [
    {
     "output_type": "execute_result",
     "data": {
      "text/plain": [
       "       index  latitude  longitude  brightness  scan  track    acq_date  \\\n",
       "0          0   -11.807   142.0583       313.0   1.0    1.0  2019-08-01   \n",
       "1          1  -11.7924   142.0850       319.3   1.0    1.0  2019-08-01   \n",
       "2          2  -12.8398   132.8744       311.6   3.1    1.7  2019-08-01   \n",
       "3          3  -14.4306   143.3035       310.1   1.1    1.1  2019-08-01   \n",
       "4          4  -12.4953   131.4897       310.3   4.0    1.9  2019-08-01   \n",
       "...      ...       ...        ...         ...   ...    ...         ...   \n",
       "36006  36006  -28.0656   131.6334       312.7   1.2    1.1  2019-09-30   \n",
       "36007  36007  -28.2625   128.5494       304.9   1.0    1.0  2019-09-30   \n",
       "36008  36008  -28.2941   128.5123       301.7   1.0    1.0  2019-09-30   \n",
       "36009  36009  -28.3001   128.5530       303.6   1.0    1.0  2019-09-30   \n",
       "36010  36010  -30.8641   121.4995       309.1   1.8    1.3  2019-09-30   \n",
       "\n",
       "       acq_time satellite instrument  confidence  version  bright_t31   frp  \\\n",
       "0            56     Terra      MODIS          48      6.3       297.3   6.6   \n",
       "1            56     Terra      MODIS          71      6.3       297.3  11.3   \n",
       "2            57     Terra      MODIS          42      6.3       298.7  23.1   \n",
       "3            57     Terra      MODIS          33      6.3       296.1   6.5   \n",
       "4            57     Terra      MODIS          36      6.3       298.8  27.6   \n",
       "...         ...       ...        ...         ...      ...         ...   ...   \n",
       "36006      1644      Aqua      MODIS          85      6.3       292.9  14.2   \n",
       "36007      1644      Aqua      MODIS          27      6.3       290.9   6.4   \n",
       "36008      1644      Aqua      MODIS          43      6.3       290.4   5.5   \n",
       "36009      1644      Aqua      MODIS          41      6.3       290.3   5.7   \n",
       "36010      1645      Aqua      MODIS          77      6.3       290.9  23.0   \n",
       "\n",
       "      daynight  fire_type  \n",
       "0            D          0  \n",
       "1            D          0  \n",
       "2            D          0  \n",
       "3            D          0  \n",
       "4            D          0  \n",
       "...        ...        ...  \n",
       "36006        N          0  \n",
       "36007        N          0  \n",
       "36008        N          0  \n",
       "36009        N          0  \n",
       "36010        N          2  \n",
       "\n",
       "[36011 rows x 16 columns]"
      ],
      "text/html": "<div>\n<style scoped>\n    .dataframe tbody tr th:only-of-type {\n        vertical-align: middle;\n    }\n\n    .dataframe tbody tr th {\n        vertical-align: top;\n    }\n\n    .dataframe thead th {\n        text-align: right;\n    }\n</style>\n<table border=\"1\" class=\"dataframe\">\n  <thead>\n    <tr style=\"text-align: right;\">\n      <th></th>\n      <th>index</th>\n      <th>latitude</th>\n      <th>longitude</th>\n      <th>brightness</th>\n      <th>scan</th>\n      <th>track</th>\n      <th>acq_date</th>\n      <th>acq_time</th>\n      <th>satellite</th>\n      <th>instrument</th>\n      <th>confidence</th>\n      <th>version</th>\n      <th>bright_t31</th>\n      <th>frp</th>\n      <th>daynight</th>\n      <th>fire_type</th>\n    </tr>\n  </thead>\n  <tbody>\n    <tr>\n      <th>0</th>\n      <td>0</td>\n      <td>-11.807</td>\n      <td>142.0583</td>\n      <td>313.0</td>\n      <td>1.0</td>\n      <td>1.0</td>\n      <td>2019-08-01</td>\n      <td>56</td>\n      <td>Terra</td>\n      <td>MODIS</td>\n      <td>48</td>\n      <td>6.3</td>\n      <td>297.3</td>\n      <td>6.6</td>\n      <td>D</td>\n      <td>0</td>\n    </tr>\n    <tr>\n      <th>1</th>\n      <td>1</td>\n      <td>-11.7924</td>\n      <td>142.0850</td>\n      <td>319.3</td>\n      <td>1.0</td>\n      <td>1.0</td>\n      <td>2019-08-01</td>\n      <td>56</td>\n      <td>Terra</td>\n      <td>MODIS</td>\n      <td>71</td>\n      <td>6.3</td>\n      <td>297.3</td>\n      <td>11.3</td>\n      <td>D</td>\n      <td>0</td>\n    </tr>\n    <tr>\n      <th>2</th>\n      <td>2</td>\n      <td>-12.8398</td>\n      <td>132.8744</td>\n      <td>311.6</td>\n      <td>3.1</td>\n      <td>1.7</td>\n      <td>2019-08-01</td>\n      <td>57</td>\n      <td>Terra</td>\n      <td>MODIS</td>\n      <td>42</td>\n      <td>6.3</td>\n      <td>298.7</td>\n      <td>23.1</td>\n      <td>D</td>\n      <td>0</td>\n    </tr>\n    <tr>\n      <th>3</th>\n      <td>3</td>\n      <td>-14.4306</td>\n      <td>143.3035</td>\n      <td>310.1</td>\n      <td>1.1</td>\n      <td>1.1</td>\n      <td>2019-08-01</td>\n      <td>57</td>\n      <td>Terra</td>\n      <td>MODIS</td>\n      <td>33</td>\n      <td>6.3</td>\n      <td>296.1</td>\n      <td>6.5</td>\n      <td>D</td>\n      <td>0</td>\n    </tr>\n    <tr>\n      <th>4</th>\n      <td>4</td>\n      <td>-12.4953</td>\n      <td>131.4897</td>\n      <td>310.3</td>\n      <td>4.0</td>\n      <td>1.9</td>\n      <td>2019-08-01</td>\n      <td>57</td>\n      <td>Terra</td>\n      <td>MODIS</td>\n      <td>36</td>\n      <td>6.3</td>\n      <td>298.8</td>\n      <td>27.6</td>\n      <td>D</td>\n      <td>0</td>\n    </tr>\n    <tr>\n      <th>...</th>\n      <td>...</td>\n      <td>...</td>\n      <td>...</td>\n      <td>...</td>\n      <td>...</td>\n      <td>...</td>\n      <td>...</td>\n      <td>...</td>\n      <td>...</td>\n      <td>...</td>\n      <td>...</td>\n      <td>...</td>\n      <td>...</td>\n      <td>...</td>\n      <td>...</td>\n      <td>...</td>\n    </tr>\n    <tr>\n      <th>36006</th>\n      <td>36006</td>\n      <td>-28.0656</td>\n      <td>131.6334</td>\n      <td>312.7</td>\n      <td>1.2</td>\n      <td>1.1</td>\n      <td>2019-09-30</td>\n      <td>1644</td>\n      <td>Aqua</td>\n      <td>MODIS</td>\n      <td>85</td>\n      <td>6.3</td>\n      <td>292.9</td>\n      <td>14.2</td>\n      <td>N</td>\n      <td>0</td>\n    </tr>\n    <tr>\n      <th>36007</th>\n      <td>36007</td>\n      <td>-28.2625</td>\n      <td>128.5494</td>\n      <td>304.9</td>\n      <td>1.0</td>\n      <td>1.0</td>\n      <td>2019-09-30</td>\n      <td>1644</td>\n      <td>Aqua</td>\n      <td>MODIS</td>\n      <td>27</td>\n      <td>6.3</td>\n      <td>290.9</td>\n      <td>6.4</td>\n      <td>N</td>\n      <td>0</td>\n    </tr>\n    <tr>\n      <th>36008</th>\n      <td>36008</td>\n      <td>-28.2941</td>\n      <td>128.5123</td>\n      <td>301.7</td>\n      <td>1.0</td>\n      <td>1.0</td>\n      <td>2019-09-30</td>\n      <td>1644</td>\n      <td>Aqua</td>\n      <td>MODIS</td>\n      <td>43</td>\n      <td>6.3</td>\n      <td>290.4</td>\n      <td>5.5</td>\n      <td>N</td>\n      <td>0</td>\n    </tr>\n    <tr>\n      <th>36009</th>\n      <td>36009</td>\n      <td>-28.3001</td>\n      <td>128.5530</td>\n      <td>303.6</td>\n      <td>1.0</td>\n      <td>1.0</td>\n      <td>2019-09-30</td>\n      <td>1644</td>\n      <td>Aqua</td>\n      <td>MODIS</td>\n      <td>41</td>\n      <td>6.3</td>\n      <td>290.3</td>\n      <td>5.7</td>\n      <td>N</td>\n      <td>0</td>\n    </tr>\n    <tr>\n      <th>36010</th>\n      <td>36010</td>\n      <td>-30.8641</td>\n      <td>121.4995</td>\n      <td>309.1</td>\n      <td>1.8</td>\n      <td>1.3</td>\n      <td>2019-09-30</td>\n      <td>1645</td>\n      <td>Aqua</td>\n      <td>MODIS</td>\n      <td>77</td>\n      <td>6.3</td>\n      <td>290.9</td>\n      <td>23.0</td>\n      <td>N</td>\n      <td>2</td>\n    </tr>\n  </tbody>\n</table>\n<p>36011 rows × 16 columns</p>\n</div>"
     },
     "metadata": {},
     "execution_count": 10
    }
   ],
   "source": [
    "df_1"
   ]
  },
  {
   "cell_type": "code",
   "execution_count": 11,
   "metadata": {},
   "outputs": [
    {
     "output_type": "execute_result",
     "data": {
      "text/plain": [
       "         index   latitude  longitude  bright_ti4  scan  track    acq_date  \\\n",
       "0            0  -34.45902  150.88040       326.5  0.60   0.71  2019-08-01   \n",
       "1            1  -31.70724  151.07191       367.0  0.56   0.69  2019-08-01   \n",
       "2            2  -31.39626  149.65253       325.2  0.68   0.74  2019-08-01   \n",
       "3            3  -30.39774  152.06432       347.8  0.48   0.65  2019-08-01   \n",
       "4            4  -31.20248  151.89766       350.7  0.50   0.66  2019-08-01   \n",
       "...        ...        ...        ...         ...   ...    ...         ...   \n",
       "184773  184773  -32.37209  116.10032       296.1  0.48   0.40  2019-09-30   \n",
       "184774  184774  -32.38958  116.11151       296.1  0.48   0.40  2019-09-30   \n",
       "184775  184775  -33.12481  116.03968       299.9  0.47   0.40  2019-09-30   \n",
       "184776  184776   -33.6348  122.92641       296.2  0.43   0.38  2019-09-30   \n",
       "184777  184777  -33.63897  122.93050       297.3  0.44   0.38  2019-09-30   \n",
       "\n",
       "        acq_time satellite instrument confidence  version  bright_ti5   frp  \\\n",
       "0            246         N      VIIRS          n        1       290.7   5.8   \n",
       "1            247         N      VIIRS          h        1       291.9  10.4   \n",
       "2            247         N      VIIRS          n        1       292.7   5.6   \n",
       "3            247         N      VIIRS          n        1       287.6   9.1   \n",
       "4            247         N      VIIRS          n        1       292.3   9.4   \n",
       "...          ...       ...        ...        ...      ...         ...   ...   \n",
       "184773      1702         N      VIIRS          n        1       284.8   1.2   \n",
       "184774      1702         N      VIIRS          n        1       284.7   1.1   \n",
       "184775      1702         N      VIIRS          n        1       285.0   1.3   \n",
       "184776      1702         N      VIIRS          n        1       285.9   0.5   \n",
       "184777      1702         N      VIIRS          n        1       285.9   0.6   \n",
       "\n",
       "        fire_type  \n",
       "0               3  \n",
       "1               0  \n",
       "2               0  \n",
       "3               0  \n",
       "4               0  \n",
       "...           ...  \n",
       "184773          0  \n",
       "184774          0  \n",
       "184775          0  \n",
       "184776          0  \n",
       "184777          0  \n",
       "\n",
       "[184778 rows x 15 columns]"
      ],
      "text/html": "<div>\n<style scoped>\n    .dataframe tbody tr th:only-of-type {\n        vertical-align: middle;\n    }\n\n    .dataframe tbody tr th {\n        vertical-align: top;\n    }\n\n    .dataframe thead th {\n        text-align: right;\n    }\n</style>\n<table border=\"1\" class=\"dataframe\">\n  <thead>\n    <tr style=\"text-align: right;\">\n      <th></th>\n      <th>index</th>\n      <th>latitude</th>\n      <th>longitude</th>\n      <th>bright_ti4</th>\n      <th>scan</th>\n      <th>track</th>\n      <th>acq_date</th>\n      <th>acq_time</th>\n      <th>satellite</th>\n      <th>instrument</th>\n      <th>confidence</th>\n      <th>version</th>\n      <th>bright_ti5</th>\n      <th>frp</th>\n      <th>fire_type</th>\n    </tr>\n  </thead>\n  <tbody>\n    <tr>\n      <th>0</th>\n      <td>0</td>\n      <td>-34.45902</td>\n      <td>150.88040</td>\n      <td>326.5</td>\n      <td>0.60</td>\n      <td>0.71</td>\n      <td>2019-08-01</td>\n      <td>246</td>\n      <td>N</td>\n      <td>VIIRS</td>\n      <td>n</td>\n      <td>1</td>\n      <td>290.7</td>\n      <td>5.8</td>\n      <td>3</td>\n    </tr>\n    <tr>\n      <th>1</th>\n      <td>1</td>\n      <td>-31.70724</td>\n      <td>151.07191</td>\n      <td>367.0</td>\n      <td>0.56</td>\n      <td>0.69</td>\n      <td>2019-08-01</td>\n      <td>247</td>\n      <td>N</td>\n      <td>VIIRS</td>\n      <td>h</td>\n      <td>1</td>\n      <td>291.9</td>\n      <td>10.4</td>\n      <td>0</td>\n    </tr>\n    <tr>\n      <th>2</th>\n      <td>2</td>\n      <td>-31.39626</td>\n      <td>149.65253</td>\n      <td>325.2</td>\n      <td>0.68</td>\n      <td>0.74</td>\n      <td>2019-08-01</td>\n      <td>247</td>\n      <td>N</td>\n      <td>VIIRS</td>\n      <td>n</td>\n      <td>1</td>\n      <td>292.7</td>\n      <td>5.6</td>\n      <td>0</td>\n    </tr>\n    <tr>\n      <th>3</th>\n      <td>3</td>\n      <td>-30.39774</td>\n      <td>152.06432</td>\n      <td>347.8</td>\n      <td>0.48</td>\n      <td>0.65</td>\n      <td>2019-08-01</td>\n      <td>247</td>\n      <td>N</td>\n      <td>VIIRS</td>\n      <td>n</td>\n      <td>1</td>\n      <td>287.6</td>\n      <td>9.1</td>\n      <td>0</td>\n    </tr>\n    <tr>\n      <th>4</th>\n      <td>4</td>\n      <td>-31.20248</td>\n      <td>151.89766</td>\n      <td>350.7</td>\n      <td>0.50</td>\n      <td>0.66</td>\n      <td>2019-08-01</td>\n      <td>247</td>\n      <td>N</td>\n      <td>VIIRS</td>\n      <td>n</td>\n      <td>1</td>\n      <td>292.3</td>\n      <td>9.4</td>\n      <td>0</td>\n    </tr>\n    <tr>\n      <th>...</th>\n      <td>...</td>\n      <td>...</td>\n      <td>...</td>\n      <td>...</td>\n      <td>...</td>\n      <td>...</td>\n      <td>...</td>\n      <td>...</td>\n      <td>...</td>\n      <td>...</td>\n      <td>...</td>\n      <td>...</td>\n      <td>...</td>\n      <td>...</td>\n      <td>...</td>\n    </tr>\n    <tr>\n      <th>184773</th>\n      <td>184773</td>\n      <td>-32.37209</td>\n      <td>116.10032</td>\n      <td>296.1</td>\n      <td>0.48</td>\n      <td>0.40</td>\n      <td>2019-09-30</td>\n      <td>1702</td>\n      <td>N</td>\n      <td>VIIRS</td>\n      <td>n</td>\n      <td>1</td>\n      <td>284.8</td>\n      <td>1.2</td>\n      <td>0</td>\n    </tr>\n    <tr>\n      <th>184774</th>\n      <td>184774</td>\n      <td>-32.38958</td>\n      <td>116.11151</td>\n      <td>296.1</td>\n      <td>0.48</td>\n      <td>0.40</td>\n      <td>2019-09-30</td>\n      <td>1702</td>\n      <td>N</td>\n      <td>VIIRS</td>\n      <td>n</td>\n      <td>1</td>\n      <td>284.7</td>\n      <td>1.1</td>\n      <td>0</td>\n    </tr>\n    <tr>\n      <th>184775</th>\n      <td>184775</td>\n      <td>-33.12481</td>\n      <td>116.03968</td>\n      <td>299.9</td>\n      <td>0.47</td>\n      <td>0.40</td>\n      <td>2019-09-30</td>\n      <td>1702</td>\n      <td>N</td>\n      <td>VIIRS</td>\n      <td>n</td>\n      <td>1</td>\n      <td>285.0</td>\n      <td>1.3</td>\n      <td>0</td>\n    </tr>\n    <tr>\n      <th>184776</th>\n      <td>184776</td>\n      <td>-33.6348</td>\n      <td>122.92641</td>\n      <td>296.2</td>\n      <td>0.43</td>\n      <td>0.38</td>\n      <td>2019-09-30</td>\n      <td>1702</td>\n      <td>N</td>\n      <td>VIIRS</td>\n      <td>n</td>\n      <td>1</td>\n      <td>285.9</td>\n      <td>0.5</td>\n      <td>0</td>\n    </tr>\n    <tr>\n      <th>184777</th>\n      <td>184777</td>\n      <td>-33.63897</td>\n      <td>122.93050</td>\n      <td>297.3</td>\n      <td>0.44</td>\n      <td>0.38</td>\n      <td>2019-09-30</td>\n      <td>1702</td>\n      <td>N</td>\n      <td>VIIRS</td>\n      <td>n</td>\n      <td>1</td>\n      <td>285.9</td>\n      <td>0.6</td>\n      <td>0</td>\n    </tr>\n  </tbody>\n</table>\n<p>184778 rows × 15 columns</p>\n</div>"
     },
     "metadata": {},
     "execution_count": 11
    }
   ],
   "source": [
    "df_2"
   ]
  },
  {
   "cell_type": "code",
   "execution_count": 6,
   "metadata": {},
   "outputs": [
    {
     "output_type": "execute_result",
     "data": {
      "text/plain": [
       "       index  latitude  longitude  brightness  scan  track    acq_date  \\\n",
       "0          0   -11.807   142.0583       313.0   1.0    1.0  2019-08-01   \n",
       "1          1  -11.7924   142.0850       319.3   1.0    1.0  2019-08-01   \n",
       "2          2  -12.8398   132.8744       311.6   3.1    1.7  2019-08-01   \n",
       "3          3  -14.4306   143.3035       310.1   1.1    1.1  2019-08-01   \n",
       "4          4  -12.4953   131.4897       310.3   4.0    1.9  2019-08-01   \n",
       "...      ...       ...        ...         ...   ...    ...         ...   \n",
       "36006  36006  -28.0656   131.6334       312.7   1.2    1.1  2019-09-30   \n",
       "36007  36007  -28.2625   128.5494       304.9   1.0    1.0  2019-09-30   \n",
       "36008  36008  -28.2941   128.5123       301.7   1.0    1.0  2019-09-30   \n",
       "36009  36009  -28.3001   128.5530       303.6   1.0    1.0  2019-09-30   \n",
       "36010  36010  -30.8641   121.4995       309.1   1.8    1.3  2019-09-30   \n",
       "\n",
       "       acq_time satellite instrument  confidence  version  bright_t31   frp  \\\n",
       "0            56     Terra      MODIS          48      6.3       297.3   6.6   \n",
       "1            56     Terra      MODIS          71      6.3       297.3  11.3   \n",
       "2            57     Terra      MODIS          42      6.3       298.7  23.1   \n",
       "3            57     Terra      MODIS          33      6.3       296.1   6.5   \n",
       "4            57     Terra      MODIS          36      6.3       298.8  27.6   \n",
       "...         ...       ...        ...         ...      ...         ...   ...   \n",
       "36006      1644      Aqua      MODIS          85      6.3       292.9  14.2   \n",
       "36007      1644      Aqua      MODIS          27      6.3       290.9   6.4   \n",
       "36008      1644      Aqua      MODIS          43      6.3       290.4   5.5   \n",
       "36009      1644      Aqua      MODIS          41      6.3       290.3   5.7   \n",
       "36010      1645      Aqua      MODIS          77      6.3       290.9  23.0   \n",
       "\n",
       "       fire_type  \n",
       "0              0  \n",
       "1              0  \n",
       "2              0  \n",
       "3              0  \n",
       "4              0  \n",
       "...          ...  \n",
       "36006          0  \n",
       "36007          0  \n",
       "36008          0  \n",
       "36009          0  \n",
       "36010          2  \n",
       "\n",
       "[36011 rows x 15 columns]"
      ],
      "text/html": "<div>\n<style scoped>\n    .dataframe tbody tr th:only-of-type {\n        vertical-align: middle;\n    }\n\n    .dataframe tbody tr th {\n        vertical-align: top;\n    }\n\n    .dataframe thead th {\n        text-align: right;\n    }\n</style>\n<table border=\"1\" class=\"dataframe\">\n  <thead>\n    <tr style=\"text-align: right;\">\n      <th></th>\n      <th>index</th>\n      <th>latitude</th>\n      <th>longitude</th>\n      <th>brightness</th>\n      <th>scan</th>\n      <th>track</th>\n      <th>acq_date</th>\n      <th>acq_time</th>\n      <th>satellite</th>\n      <th>instrument</th>\n      <th>confidence</th>\n      <th>version</th>\n      <th>bright_t31</th>\n      <th>frp</th>\n      <th>fire_type</th>\n    </tr>\n  </thead>\n  <tbody>\n    <tr>\n      <th>0</th>\n      <td>0</td>\n      <td>-11.807</td>\n      <td>142.0583</td>\n      <td>313.0</td>\n      <td>1.0</td>\n      <td>1.0</td>\n      <td>2019-08-01</td>\n      <td>56</td>\n      <td>Terra</td>\n      <td>MODIS</td>\n      <td>48</td>\n      <td>6.3</td>\n      <td>297.3</td>\n      <td>6.6</td>\n      <td>0</td>\n    </tr>\n    <tr>\n      <th>1</th>\n      <td>1</td>\n      <td>-11.7924</td>\n      <td>142.0850</td>\n      <td>319.3</td>\n      <td>1.0</td>\n      <td>1.0</td>\n      <td>2019-08-01</td>\n      <td>56</td>\n      <td>Terra</td>\n      <td>MODIS</td>\n      <td>71</td>\n      <td>6.3</td>\n      <td>297.3</td>\n      <td>11.3</td>\n      <td>0</td>\n    </tr>\n    <tr>\n      <th>2</th>\n      <td>2</td>\n      <td>-12.8398</td>\n      <td>132.8744</td>\n      <td>311.6</td>\n      <td>3.1</td>\n      <td>1.7</td>\n      <td>2019-08-01</td>\n      <td>57</td>\n      <td>Terra</td>\n      <td>MODIS</td>\n      <td>42</td>\n      <td>6.3</td>\n      <td>298.7</td>\n      <td>23.1</td>\n      <td>0</td>\n    </tr>\n    <tr>\n      <th>3</th>\n      <td>3</td>\n      <td>-14.4306</td>\n      <td>143.3035</td>\n      <td>310.1</td>\n      <td>1.1</td>\n      <td>1.1</td>\n      <td>2019-08-01</td>\n      <td>57</td>\n      <td>Terra</td>\n      <td>MODIS</td>\n      <td>33</td>\n      <td>6.3</td>\n      <td>296.1</td>\n      <td>6.5</td>\n      <td>0</td>\n    </tr>\n    <tr>\n      <th>4</th>\n      <td>4</td>\n      <td>-12.4953</td>\n      <td>131.4897</td>\n      <td>310.3</td>\n      <td>4.0</td>\n      <td>1.9</td>\n      <td>2019-08-01</td>\n      <td>57</td>\n      <td>Terra</td>\n      <td>MODIS</td>\n      <td>36</td>\n      <td>6.3</td>\n      <td>298.8</td>\n      <td>27.6</td>\n      <td>0</td>\n    </tr>\n    <tr>\n      <th>...</th>\n      <td>...</td>\n      <td>...</td>\n      <td>...</td>\n      <td>...</td>\n      <td>...</td>\n      <td>...</td>\n      <td>...</td>\n      <td>...</td>\n      <td>...</td>\n      <td>...</td>\n      <td>...</td>\n      <td>...</td>\n      <td>...</td>\n      <td>...</td>\n      <td>...</td>\n    </tr>\n    <tr>\n      <th>36006</th>\n      <td>36006</td>\n      <td>-28.0656</td>\n      <td>131.6334</td>\n      <td>312.7</td>\n      <td>1.2</td>\n      <td>1.1</td>\n      <td>2019-09-30</td>\n      <td>1644</td>\n      <td>Aqua</td>\n      <td>MODIS</td>\n      <td>85</td>\n      <td>6.3</td>\n      <td>292.9</td>\n      <td>14.2</td>\n      <td>0</td>\n    </tr>\n    <tr>\n      <th>36007</th>\n      <td>36007</td>\n      <td>-28.2625</td>\n      <td>128.5494</td>\n      <td>304.9</td>\n      <td>1.0</td>\n      <td>1.0</td>\n      <td>2019-09-30</td>\n      <td>1644</td>\n      <td>Aqua</td>\n      <td>MODIS</td>\n      <td>27</td>\n      <td>6.3</td>\n      <td>290.9</td>\n      <td>6.4</td>\n      <td>0</td>\n    </tr>\n    <tr>\n      <th>36008</th>\n      <td>36008</td>\n      <td>-28.2941</td>\n      <td>128.5123</td>\n      <td>301.7</td>\n      <td>1.0</td>\n      <td>1.0</td>\n      <td>2019-09-30</td>\n      <td>1644</td>\n      <td>Aqua</td>\n      <td>MODIS</td>\n      <td>43</td>\n      <td>6.3</td>\n      <td>290.4</td>\n      <td>5.5</td>\n      <td>0</td>\n    </tr>\n    <tr>\n      <th>36009</th>\n      <td>36009</td>\n      <td>-28.3001</td>\n      <td>128.5530</td>\n      <td>303.6</td>\n      <td>1.0</td>\n      <td>1.0</td>\n      <td>2019-09-30</td>\n      <td>1644</td>\n      <td>Aqua</td>\n      <td>MODIS</td>\n      <td>41</td>\n      <td>6.3</td>\n      <td>290.3</td>\n      <td>5.7</td>\n      <td>0</td>\n    </tr>\n    <tr>\n      <th>36010</th>\n      <td>36010</td>\n      <td>-30.8641</td>\n      <td>121.4995</td>\n      <td>309.1</td>\n      <td>1.8</td>\n      <td>1.3</td>\n      <td>2019-09-30</td>\n      <td>1645</td>\n      <td>Aqua</td>\n      <td>MODIS</td>\n      <td>77</td>\n      <td>6.3</td>\n      <td>290.9</td>\n      <td>23.0</td>\n      <td>2</td>\n    </tr>\n  </tbody>\n</table>\n<p>36011 rows × 15 columns</p>\n</div>"
     },
     "metadata": {},
     "execution_count": 6
    }
   ],
   "source": [
    "df_1.drop(columns=['daynight'], inplace=True)\n",
    "df_1"
   ]
  },
  {
   "cell_type": "code",
   "execution_count": 7,
   "metadata": {},
   "outputs": [
    {
     "output_type": "execute_result",
     "data": {
      "text/plain": [
       "         index   latitude  longitude  brightness  scan  track    acq_date  \\\n",
       "0            0  -34.45902  150.88040       326.5  0.60   0.71  2019-08-01   \n",
       "1            1  -31.70724  151.07191       367.0  0.56   0.69  2019-08-01   \n",
       "2            2  -31.39626  149.65253       325.2  0.68   0.74  2019-08-01   \n",
       "3            3  -30.39774  152.06432       347.8  0.48   0.65  2019-08-01   \n",
       "4            4  -31.20248  151.89766       350.7  0.50   0.66  2019-08-01   \n",
       "...        ...        ...        ...         ...   ...    ...         ...   \n",
       "184773  184773  -32.37209  116.10032       296.1  0.48   0.40  2019-09-30   \n",
       "184774  184774  -32.38958  116.11151       296.1  0.48   0.40  2019-09-30   \n",
       "184775  184775  -33.12481  116.03968       299.9  0.47   0.40  2019-09-30   \n",
       "184776  184776   -33.6348  122.92641       296.2  0.43   0.38  2019-09-30   \n",
       "184777  184777  -33.63897  122.93050       297.3  0.44   0.38  2019-09-30   \n",
       "\n",
       "        acq_time satellite instrument confidence  version  bright_ti5   frp  \\\n",
       "0            246         N      VIIRS          n        1       290.7   5.8   \n",
       "1            247         N      VIIRS          h        1       291.9  10.4   \n",
       "2            247         N      VIIRS          n        1       292.7   5.6   \n",
       "3            247         N      VIIRS          n        1       287.6   9.1   \n",
       "4            247         N      VIIRS          n        1       292.3   9.4   \n",
       "...          ...       ...        ...        ...      ...         ...   ...   \n",
       "184773      1702         N      VIIRS          n        1       284.8   1.2   \n",
       "184774      1702         N      VIIRS          n        1       284.7   1.1   \n",
       "184775      1702         N      VIIRS          n        1       285.0   1.3   \n",
       "184776      1702         N      VIIRS          n        1       285.9   0.5   \n",
       "184777      1702         N      VIIRS          n        1       285.9   0.6   \n",
       "\n",
       "        fire_type  \n",
       "0               3  \n",
       "1               0  \n",
       "2               0  \n",
       "3               0  \n",
       "4               0  \n",
       "...           ...  \n",
       "184773          0  \n",
       "184774          0  \n",
       "184775          0  \n",
       "184776          0  \n",
       "184777          0  \n",
       "\n",
       "[184778 rows x 15 columns]"
      ],
      "text/html": "<div>\n<style scoped>\n    .dataframe tbody tr th:only-of-type {\n        vertical-align: middle;\n    }\n\n    .dataframe tbody tr th {\n        vertical-align: top;\n    }\n\n    .dataframe thead th {\n        text-align: right;\n    }\n</style>\n<table border=\"1\" class=\"dataframe\">\n  <thead>\n    <tr style=\"text-align: right;\">\n      <th></th>\n      <th>index</th>\n      <th>latitude</th>\n      <th>longitude</th>\n      <th>brightness</th>\n      <th>scan</th>\n      <th>track</th>\n      <th>acq_date</th>\n      <th>acq_time</th>\n      <th>satellite</th>\n      <th>instrument</th>\n      <th>confidence</th>\n      <th>version</th>\n      <th>bright_ti5</th>\n      <th>frp</th>\n      <th>fire_type</th>\n    </tr>\n  </thead>\n  <tbody>\n    <tr>\n      <th>0</th>\n      <td>0</td>\n      <td>-34.45902</td>\n      <td>150.88040</td>\n      <td>326.5</td>\n      <td>0.60</td>\n      <td>0.71</td>\n      <td>2019-08-01</td>\n      <td>246</td>\n      <td>N</td>\n      <td>VIIRS</td>\n      <td>n</td>\n      <td>1</td>\n      <td>290.7</td>\n      <td>5.8</td>\n      <td>3</td>\n    </tr>\n    <tr>\n      <th>1</th>\n      <td>1</td>\n      <td>-31.70724</td>\n      <td>151.07191</td>\n      <td>367.0</td>\n      <td>0.56</td>\n      <td>0.69</td>\n      <td>2019-08-01</td>\n      <td>247</td>\n      <td>N</td>\n      <td>VIIRS</td>\n      <td>h</td>\n      <td>1</td>\n      <td>291.9</td>\n      <td>10.4</td>\n      <td>0</td>\n    </tr>\n    <tr>\n      <th>2</th>\n      <td>2</td>\n      <td>-31.39626</td>\n      <td>149.65253</td>\n      <td>325.2</td>\n      <td>0.68</td>\n      <td>0.74</td>\n      <td>2019-08-01</td>\n      <td>247</td>\n      <td>N</td>\n      <td>VIIRS</td>\n      <td>n</td>\n      <td>1</td>\n      <td>292.7</td>\n      <td>5.6</td>\n      <td>0</td>\n    </tr>\n    <tr>\n      <th>3</th>\n      <td>3</td>\n      <td>-30.39774</td>\n      <td>152.06432</td>\n      <td>347.8</td>\n      <td>0.48</td>\n      <td>0.65</td>\n      <td>2019-08-01</td>\n      <td>247</td>\n      <td>N</td>\n      <td>VIIRS</td>\n      <td>n</td>\n      <td>1</td>\n      <td>287.6</td>\n      <td>9.1</td>\n      <td>0</td>\n    </tr>\n    <tr>\n      <th>4</th>\n      <td>4</td>\n      <td>-31.20248</td>\n      <td>151.89766</td>\n      <td>350.7</td>\n      <td>0.50</td>\n      <td>0.66</td>\n      <td>2019-08-01</td>\n      <td>247</td>\n      <td>N</td>\n      <td>VIIRS</td>\n      <td>n</td>\n      <td>1</td>\n      <td>292.3</td>\n      <td>9.4</td>\n      <td>0</td>\n    </tr>\n    <tr>\n      <th>...</th>\n      <td>...</td>\n      <td>...</td>\n      <td>...</td>\n      <td>...</td>\n      <td>...</td>\n      <td>...</td>\n      <td>...</td>\n      <td>...</td>\n      <td>...</td>\n      <td>...</td>\n      <td>...</td>\n      <td>...</td>\n      <td>...</td>\n      <td>...</td>\n      <td>...</td>\n    </tr>\n    <tr>\n      <th>184773</th>\n      <td>184773</td>\n      <td>-32.37209</td>\n      <td>116.10032</td>\n      <td>296.1</td>\n      <td>0.48</td>\n      <td>0.40</td>\n      <td>2019-09-30</td>\n      <td>1702</td>\n      <td>N</td>\n      <td>VIIRS</td>\n      <td>n</td>\n      <td>1</td>\n      <td>284.8</td>\n      <td>1.2</td>\n      <td>0</td>\n    </tr>\n    <tr>\n      <th>184774</th>\n      <td>184774</td>\n      <td>-32.38958</td>\n      <td>116.11151</td>\n      <td>296.1</td>\n      <td>0.48</td>\n      <td>0.40</td>\n      <td>2019-09-30</td>\n      <td>1702</td>\n      <td>N</td>\n      <td>VIIRS</td>\n      <td>n</td>\n      <td>1</td>\n      <td>284.7</td>\n      <td>1.1</td>\n      <td>0</td>\n    </tr>\n    <tr>\n      <th>184775</th>\n      <td>184775</td>\n      <td>-33.12481</td>\n      <td>116.03968</td>\n      <td>299.9</td>\n      <td>0.47</td>\n      <td>0.40</td>\n      <td>2019-09-30</td>\n      <td>1702</td>\n      <td>N</td>\n      <td>VIIRS</td>\n      <td>n</td>\n      <td>1</td>\n      <td>285.0</td>\n      <td>1.3</td>\n      <td>0</td>\n    </tr>\n    <tr>\n      <th>184776</th>\n      <td>184776</td>\n      <td>-33.6348</td>\n      <td>122.92641</td>\n      <td>296.2</td>\n      <td>0.43</td>\n      <td>0.38</td>\n      <td>2019-09-30</td>\n      <td>1702</td>\n      <td>N</td>\n      <td>VIIRS</td>\n      <td>n</td>\n      <td>1</td>\n      <td>285.9</td>\n      <td>0.5</td>\n      <td>0</td>\n    </tr>\n    <tr>\n      <th>184777</th>\n      <td>184777</td>\n      <td>-33.63897</td>\n      <td>122.93050</td>\n      <td>297.3</td>\n      <td>0.44</td>\n      <td>0.38</td>\n      <td>2019-09-30</td>\n      <td>1702</td>\n      <td>N</td>\n      <td>VIIRS</td>\n      <td>n</td>\n      <td>1</td>\n      <td>285.9</td>\n      <td>0.6</td>\n      <td>0</td>\n    </tr>\n  </tbody>\n</table>\n<p>184778 rows × 15 columns</p>\n</div>"
     },
     "metadata": {},
     "execution_count": 7
    }
   ],
   "source": [
    "df_2.rename(columns={\"bright_ti4\": \"brightness\"}, inplace=True)\n",
    "df_2"
   ]
  },
  {
   "cell_type": "code",
   "execution_count": 21,
   "metadata": {},
   "outputs": [
    {
     "output_type": "stream",
     "name": "stdout",
     "text": [
      "<class 'pandas.core.frame.DataFrame'>\nRangeIndex: 36011 entries, 0 to 36010\nData columns (total 15 columns):\n #   Column      Non-Null Count  Dtype  \n---  ------      --------------  -----  \n 0   index       36011 non-null  int64  \n 1   latitude    36011 non-null  object \n 2   longitude   36011 non-null  float64\n 3   brightness  36011 non-null  float64\n 4   scan        36011 non-null  float64\n 5   track       36011 non-null  float64\n 6   acq_date    36011 non-null  object \n 7   acq_time    36011 non-null  int64  \n 8   satellite   36011 non-null  object \n 9   instrument  36011 non-null  object \n 10  confidence  36011 non-null  int64  \n 11  version     36011 non-null  float64\n 12  bright_t31  36011 non-null  float64\n 13  frp         36011 non-null  float64\n 14  fire_type   36011 non-null  int64  \ndtypes: float64(7), int64(4), object(4)\nmemory usage: 4.1+ MB\n"
     ]
    }
   ],
   "source": [
    "df_1.info()"
   ]
  },
  {
   "cell_type": "code",
   "execution_count": 22,
   "metadata": {},
   "outputs": [
    {
     "output_type": "stream",
     "name": "stdout",
     "text": [
      "<class 'pandas.core.frame.DataFrame'>\nRangeIndex: 184778 entries, 0 to 184777\nData columns (total 15 columns):\n #   Column      Non-Null Count   Dtype  \n---  ------      --------------   -----  \n 0   index       184778 non-null  int64  \n 1   latitude    184778 non-null  object \n 2   longitude   184778 non-null  float64\n 3   brightness  184778 non-null  float64\n 4   scan        184778 non-null  float64\n 5   track       184778 non-null  float64\n 6   acq_date    184778 non-null  object \n 7   acq_time    184778 non-null  int64  \n 8   satellite   184778 non-null  object \n 9   instrument  184778 non-null  object \n 10  confidence  184778 non-null  object \n 11  version     184778 non-null  int64  \n 12  bright_ti5  184778 non-null  float64\n 13  frp         184778 non-null  float64\n 14  fire_type   184778 non-null  int64  \ndtypes: float64(6), int64(4), object(5)\nmemory usage: 21.1+ MB\n"
     ]
    }
   ],
   "source": [
    "df_2.info()"
   ]
  },
  {
   "cell_type": "code",
   "execution_count": 8,
   "metadata": {},
   "outputs": [],
   "source": [
    "df_1.drop(columns=['confidence'], inplace=True)\n",
    "df_2.drop(columns=['confidence'], inplace=True)"
   ]
  },
  {
   "source": [
    "We could just change the type of the 'version' column to float but it´s better to delete it."
   ],
   "cell_type": "markdown",
   "metadata": {}
  },
  {
   "cell_type": "code",
   "execution_count": 9,
   "metadata": {},
   "outputs": [],
   "source": [
    "df_1.drop(columns=['version'], inplace=True)\n",
    "df_2.drop(columns=['version'], inplace=True)"
   ]
  },
  {
   "cell_type": "code",
   "execution_count": 26,
   "metadata": {},
   "outputs": [
    {
     "output_type": "stream",
     "name": "stdout",
     "text": [
      "<class 'pandas.core.frame.DataFrame'>\nRangeIndex: 184778 entries, 0 to 184777\nData columns (total 14 columns):\n #   Column      Non-Null Count   Dtype  \n---  ------      --------------   -----  \n 0   index       184778 non-null  int64  \n 1   latitude    184778 non-null  object \n 2   longitude   184778 non-null  float64\n 3   brightness  184778 non-null  float64\n 4   scan        184778 non-null  float64\n 5   track       184778 non-null  float64\n 6   acq_date    184778 non-null  object \n 7   acq_time    184778 non-null  int64  \n 8   satellite   184778 non-null  object \n 9   instrument  184778 non-null  object \n 10  version     184778 non-null  float64\n 11  bright_ti5  184778 non-null  float64\n 12  frp         184778 non-null  float64\n 13  fire_type   184778 non-null  int64  \ndtypes: float64(7), int64(3), object(4)\nmemory usage: 19.7+ MB\n"
     ]
    }
   ],
   "source": [
    "df_2.info()"
   ]
  },
  {
   "cell_type": "code",
   "execution_count": 10,
   "metadata": {},
   "outputs": [
    {
     "output_type": "execute_result",
     "data": {
      "text/plain": [
       "         index   latitude  longitude  brightness  scan  track    acq_date  \\\n",
       "0            0  -34.45902  150.88040       326.5  0.60   0.71  2019-08-01   \n",
       "1            1  -31.70724  151.07191       367.0  0.56   0.69  2019-08-01   \n",
       "2            2  -31.39626  149.65253       325.2  0.68   0.74  2019-08-01   \n",
       "3            3  -30.39774  152.06432       347.8  0.48   0.65  2019-08-01   \n",
       "4            4  -31.20248  151.89766       350.7  0.50   0.66  2019-08-01   \n",
       "...        ...        ...        ...         ...   ...    ...         ...   \n",
       "184773  184773  -32.37209  116.10032       296.1  0.48   0.40  2019-09-30   \n",
       "184774  184774  -32.38958  116.11151       296.1  0.48   0.40  2019-09-30   \n",
       "184775  184775  -33.12481  116.03968       299.9  0.47   0.40  2019-09-30   \n",
       "184776  184776   -33.6348  122.92641       296.2  0.43   0.38  2019-09-30   \n",
       "184777  184777  -33.63897  122.93050       297.3  0.44   0.38  2019-09-30   \n",
       "\n",
       "        acq_time satellite instrument  bright_t31   frp  fire_type  \n",
       "0            246         N      VIIRS       290.7   5.8          3  \n",
       "1            247         N      VIIRS       291.9  10.4          0  \n",
       "2            247         N      VIIRS       292.7   5.6          0  \n",
       "3            247         N      VIIRS       287.6   9.1          0  \n",
       "4            247         N      VIIRS       292.3   9.4          0  \n",
       "...          ...       ...        ...         ...   ...        ...  \n",
       "184773      1702         N      VIIRS       284.8   1.2          0  \n",
       "184774      1702         N      VIIRS       284.7   1.1          0  \n",
       "184775      1702         N      VIIRS       285.0   1.3          0  \n",
       "184776      1702         N      VIIRS       285.9   0.5          0  \n",
       "184777      1702         N      VIIRS       285.9   0.6          0  \n",
       "\n",
       "[184778 rows x 13 columns]"
      ],
      "text/html": "<div>\n<style scoped>\n    .dataframe tbody tr th:only-of-type {\n        vertical-align: middle;\n    }\n\n    .dataframe tbody tr th {\n        vertical-align: top;\n    }\n\n    .dataframe thead th {\n        text-align: right;\n    }\n</style>\n<table border=\"1\" class=\"dataframe\">\n  <thead>\n    <tr style=\"text-align: right;\">\n      <th></th>\n      <th>index</th>\n      <th>latitude</th>\n      <th>longitude</th>\n      <th>brightness</th>\n      <th>scan</th>\n      <th>track</th>\n      <th>acq_date</th>\n      <th>acq_time</th>\n      <th>satellite</th>\n      <th>instrument</th>\n      <th>bright_t31</th>\n      <th>frp</th>\n      <th>fire_type</th>\n    </tr>\n  </thead>\n  <tbody>\n    <tr>\n      <th>0</th>\n      <td>0</td>\n      <td>-34.45902</td>\n      <td>150.88040</td>\n      <td>326.5</td>\n      <td>0.60</td>\n      <td>0.71</td>\n      <td>2019-08-01</td>\n      <td>246</td>\n      <td>N</td>\n      <td>VIIRS</td>\n      <td>290.7</td>\n      <td>5.8</td>\n      <td>3</td>\n    </tr>\n    <tr>\n      <th>1</th>\n      <td>1</td>\n      <td>-31.70724</td>\n      <td>151.07191</td>\n      <td>367.0</td>\n      <td>0.56</td>\n      <td>0.69</td>\n      <td>2019-08-01</td>\n      <td>247</td>\n      <td>N</td>\n      <td>VIIRS</td>\n      <td>291.9</td>\n      <td>10.4</td>\n      <td>0</td>\n    </tr>\n    <tr>\n      <th>2</th>\n      <td>2</td>\n      <td>-31.39626</td>\n      <td>149.65253</td>\n      <td>325.2</td>\n      <td>0.68</td>\n      <td>0.74</td>\n      <td>2019-08-01</td>\n      <td>247</td>\n      <td>N</td>\n      <td>VIIRS</td>\n      <td>292.7</td>\n      <td>5.6</td>\n      <td>0</td>\n    </tr>\n    <tr>\n      <th>3</th>\n      <td>3</td>\n      <td>-30.39774</td>\n      <td>152.06432</td>\n      <td>347.8</td>\n      <td>0.48</td>\n      <td>0.65</td>\n      <td>2019-08-01</td>\n      <td>247</td>\n      <td>N</td>\n      <td>VIIRS</td>\n      <td>287.6</td>\n      <td>9.1</td>\n      <td>0</td>\n    </tr>\n    <tr>\n      <th>4</th>\n      <td>4</td>\n      <td>-31.20248</td>\n      <td>151.89766</td>\n      <td>350.7</td>\n      <td>0.50</td>\n      <td>0.66</td>\n      <td>2019-08-01</td>\n      <td>247</td>\n      <td>N</td>\n      <td>VIIRS</td>\n      <td>292.3</td>\n      <td>9.4</td>\n      <td>0</td>\n    </tr>\n    <tr>\n      <th>...</th>\n      <td>...</td>\n      <td>...</td>\n      <td>...</td>\n      <td>...</td>\n      <td>...</td>\n      <td>...</td>\n      <td>...</td>\n      <td>...</td>\n      <td>...</td>\n      <td>...</td>\n      <td>...</td>\n      <td>...</td>\n      <td>...</td>\n    </tr>\n    <tr>\n      <th>184773</th>\n      <td>184773</td>\n      <td>-32.37209</td>\n      <td>116.10032</td>\n      <td>296.1</td>\n      <td>0.48</td>\n      <td>0.40</td>\n      <td>2019-09-30</td>\n      <td>1702</td>\n      <td>N</td>\n      <td>VIIRS</td>\n      <td>284.8</td>\n      <td>1.2</td>\n      <td>0</td>\n    </tr>\n    <tr>\n      <th>184774</th>\n      <td>184774</td>\n      <td>-32.38958</td>\n      <td>116.11151</td>\n      <td>296.1</td>\n      <td>0.48</td>\n      <td>0.40</td>\n      <td>2019-09-30</td>\n      <td>1702</td>\n      <td>N</td>\n      <td>VIIRS</td>\n      <td>284.7</td>\n      <td>1.1</td>\n      <td>0</td>\n    </tr>\n    <tr>\n      <th>184775</th>\n      <td>184775</td>\n      <td>-33.12481</td>\n      <td>116.03968</td>\n      <td>299.9</td>\n      <td>0.47</td>\n      <td>0.40</td>\n      <td>2019-09-30</td>\n      <td>1702</td>\n      <td>N</td>\n      <td>VIIRS</td>\n      <td>285.0</td>\n      <td>1.3</td>\n      <td>0</td>\n    </tr>\n    <tr>\n      <th>184776</th>\n      <td>184776</td>\n      <td>-33.6348</td>\n      <td>122.92641</td>\n      <td>296.2</td>\n      <td>0.43</td>\n      <td>0.38</td>\n      <td>2019-09-30</td>\n      <td>1702</td>\n      <td>N</td>\n      <td>VIIRS</td>\n      <td>285.9</td>\n      <td>0.5</td>\n      <td>0</td>\n    </tr>\n    <tr>\n      <th>184777</th>\n      <td>184777</td>\n      <td>-33.63897</td>\n      <td>122.93050</td>\n      <td>297.3</td>\n      <td>0.44</td>\n      <td>0.38</td>\n      <td>2019-09-30</td>\n      <td>1702</td>\n      <td>N</td>\n      <td>VIIRS</td>\n      <td>285.9</td>\n      <td>0.6</td>\n      <td>0</td>\n    </tr>\n  </tbody>\n</table>\n<p>184778 rows × 13 columns</p>\n</div>"
     },
     "metadata": {},
     "execution_count": 10
    }
   ],
   "source": [
    "df_2.rename(columns={\"bright_ti5\": \"bright_t31\"}, inplace=True)\n",
    "df_2"
   ]
  },
  {
   "cell_type": "code",
   "execution_count": 11,
   "metadata": {},
   "outputs": [
    {
     "output_type": "execute_result",
     "data": {
      "text/plain": [
       "         index   latitude  longitude  brightness  scan  track    acq_date  \\\n",
       "0            0    -11.807  142.05830       313.0  1.00   1.00  2019-08-01   \n",
       "1            1   -11.7924  142.08500       319.3  1.00   1.00  2019-08-01   \n",
       "2            2   -12.8398  132.87440       311.6  3.10   1.70  2019-08-01   \n",
       "3            3   -14.4306  143.30350       310.1  1.10   1.10  2019-08-01   \n",
       "4            4   -12.4953  131.48970       310.3  4.00   1.90  2019-08-01   \n",
       "...        ...        ...        ...         ...   ...    ...         ...   \n",
       "184773  184773  -32.37209  116.10032       296.1  0.48   0.40  2019-09-30   \n",
       "184774  184774  -32.38958  116.11151       296.1  0.48   0.40  2019-09-30   \n",
       "184775  184775  -33.12481  116.03968       299.9  0.47   0.40  2019-09-30   \n",
       "184776  184776   -33.6348  122.92641       296.2  0.43   0.38  2019-09-30   \n",
       "184777  184777  -33.63897  122.93050       297.3  0.44   0.38  2019-09-30   \n",
       "\n",
       "        acq_time satellite instrument  bright_t31   frp  fire_type  \n",
       "0             56     Terra      MODIS       297.3   6.6          0  \n",
       "1             56     Terra      MODIS       297.3  11.3          0  \n",
       "2             57     Terra      MODIS       298.7  23.1          0  \n",
       "3             57     Terra      MODIS       296.1   6.5          0  \n",
       "4             57     Terra      MODIS       298.8  27.6          0  \n",
       "...          ...       ...        ...         ...   ...        ...  \n",
       "184773      1702         N      VIIRS       284.8   1.2          0  \n",
       "184774      1702         N      VIIRS       284.7   1.1          0  \n",
       "184775      1702         N      VIIRS       285.0   1.3          0  \n",
       "184776      1702         N      VIIRS       285.9   0.5          0  \n",
       "184777      1702         N      VIIRS       285.9   0.6          0  \n",
       "\n",
       "[220789 rows x 13 columns]"
      ],
      "text/html": "<div>\n<style scoped>\n    .dataframe tbody tr th:only-of-type {\n        vertical-align: middle;\n    }\n\n    .dataframe tbody tr th {\n        vertical-align: top;\n    }\n\n    .dataframe thead th {\n        text-align: right;\n    }\n</style>\n<table border=\"1\" class=\"dataframe\">\n  <thead>\n    <tr style=\"text-align: right;\">\n      <th></th>\n      <th>index</th>\n      <th>latitude</th>\n      <th>longitude</th>\n      <th>brightness</th>\n      <th>scan</th>\n      <th>track</th>\n      <th>acq_date</th>\n      <th>acq_time</th>\n      <th>satellite</th>\n      <th>instrument</th>\n      <th>bright_t31</th>\n      <th>frp</th>\n      <th>fire_type</th>\n    </tr>\n  </thead>\n  <tbody>\n    <tr>\n      <th>0</th>\n      <td>0</td>\n      <td>-11.807</td>\n      <td>142.05830</td>\n      <td>313.0</td>\n      <td>1.00</td>\n      <td>1.00</td>\n      <td>2019-08-01</td>\n      <td>56</td>\n      <td>Terra</td>\n      <td>MODIS</td>\n      <td>297.3</td>\n      <td>6.6</td>\n      <td>0</td>\n    </tr>\n    <tr>\n      <th>1</th>\n      <td>1</td>\n      <td>-11.7924</td>\n      <td>142.08500</td>\n      <td>319.3</td>\n      <td>1.00</td>\n      <td>1.00</td>\n      <td>2019-08-01</td>\n      <td>56</td>\n      <td>Terra</td>\n      <td>MODIS</td>\n      <td>297.3</td>\n      <td>11.3</td>\n      <td>0</td>\n    </tr>\n    <tr>\n      <th>2</th>\n      <td>2</td>\n      <td>-12.8398</td>\n      <td>132.87440</td>\n      <td>311.6</td>\n      <td>3.10</td>\n      <td>1.70</td>\n      <td>2019-08-01</td>\n      <td>57</td>\n      <td>Terra</td>\n      <td>MODIS</td>\n      <td>298.7</td>\n      <td>23.1</td>\n      <td>0</td>\n    </tr>\n    <tr>\n      <th>3</th>\n      <td>3</td>\n      <td>-14.4306</td>\n      <td>143.30350</td>\n      <td>310.1</td>\n      <td>1.10</td>\n      <td>1.10</td>\n      <td>2019-08-01</td>\n      <td>57</td>\n      <td>Terra</td>\n      <td>MODIS</td>\n      <td>296.1</td>\n      <td>6.5</td>\n      <td>0</td>\n    </tr>\n    <tr>\n      <th>4</th>\n      <td>4</td>\n      <td>-12.4953</td>\n      <td>131.48970</td>\n      <td>310.3</td>\n      <td>4.00</td>\n      <td>1.90</td>\n      <td>2019-08-01</td>\n      <td>57</td>\n      <td>Terra</td>\n      <td>MODIS</td>\n      <td>298.8</td>\n      <td>27.6</td>\n      <td>0</td>\n    </tr>\n    <tr>\n      <th>...</th>\n      <td>...</td>\n      <td>...</td>\n      <td>...</td>\n      <td>...</td>\n      <td>...</td>\n      <td>...</td>\n      <td>...</td>\n      <td>...</td>\n      <td>...</td>\n      <td>...</td>\n      <td>...</td>\n      <td>...</td>\n      <td>...</td>\n    </tr>\n    <tr>\n      <th>184773</th>\n      <td>184773</td>\n      <td>-32.37209</td>\n      <td>116.10032</td>\n      <td>296.1</td>\n      <td>0.48</td>\n      <td>0.40</td>\n      <td>2019-09-30</td>\n      <td>1702</td>\n      <td>N</td>\n      <td>VIIRS</td>\n      <td>284.8</td>\n      <td>1.2</td>\n      <td>0</td>\n    </tr>\n    <tr>\n      <th>184774</th>\n      <td>184774</td>\n      <td>-32.38958</td>\n      <td>116.11151</td>\n      <td>296.1</td>\n      <td>0.48</td>\n      <td>0.40</td>\n      <td>2019-09-30</td>\n      <td>1702</td>\n      <td>N</td>\n      <td>VIIRS</td>\n      <td>284.7</td>\n      <td>1.1</td>\n      <td>0</td>\n    </tr>\n    <tr>\n      <th>184775</th>\n      <td>184775</td>\n      <td>-33.12481</td>\n      <td>116.03968</td>\n      <td>299.9</td>\n      <td>0.47</td>\n      <td>0.40</td>\n      <td>2019-09-30</td>\n      <td>1702</td>\n      <td>N</td>\n      <td>VIIRS</td>\n      <td>285.0</td>\n      <td>1.3</td>\n      <td>0</td>\n    </tr>\n    <tr>\n      <th>184776</th>\n      <td>184776</td>\n      <td>-33.6348</td>\n      <td>122.92641</td>\n      <td>296.2</td>\n      <td>0.43</td>\n      <td>0.38</td>\n      <td>2019-09-30</td>\n      <td>1702</td>\n      <td>N</td>\n      <td>VIIRS</td>\n      <td>285.9</td>\n      <td>0.5</td>\n      <td>0</td>\n    </tr>\n    <tr>\n      <th>184777</th>\n      <td>184777</td>\n      <td>-33.63897</td>\n      <td>122.93050</td>\n      <td>297.3</td>\n      <td>0.44</td>\n      <td>0.38</td>\n      <td>2019-09-30</td>\n      <td>1702</td>\n      <td>N</td>\n      <td>VIIRS</td>\n      <td>285.9</td>\n      <td>0.6</td>\n      <td>0</td>\n    </tr>\n  </tbody>\n</table>\n<p>220789 rows × 13 columns</p>\n</div>"
     },
     "metadata": {},
     "execution_count": 11
    }
   ],
   "source": [
    "australia = pd.concat([df_1, df_2])\n",
    "australia"
   ]
  },
  {
   "cell_type": "code",
   "execution_count": 29,
   "metadata": {},
   "outputs": [
    {
     "output_type": "execute_result",
     "data": {
      "text/plain": [
       "         index latitude  longitude  brightness  scan  track    acq_date  \\\n",
       "0            0  -14.281    143.636       323.9   1.7    1.3  2019-10-01   \n",
       "1            1  -14.284    143.532       343.5   1.7    1.3  2019-10-01   \n",
       "2            2  -14.302    143.706       320.2   1.7    1.3  2019-10-01   \n",
       "3            3  -14.283    143.652       320.4   1.7    1.3  2019-10-01   \n",
       "4            4  -14.285    143.521       349.4   1.7    1.3  2019-10-01   \n",
       "...        ...      ...        ...         ...   ...    ...         ...   \n",
       "183588  183588  -32.675    122.113       300.5   2.4    1.5  2020-01-11   \n",
       "183589  183589  -16.708    129.646       300.5   1.0    1.0  2020-01-11   \n",
       "183590  183590  -16.747    129.653       301.8   1.0    1.0  2020-01-11   \n",
       "183591  183591  -32.484    121.319       306.5   1.4    1.2  2020-01-11   \n",
       "183592  183592  -30.858    121.500       300.7   1.4    1.2  2020-01-11   \n",
       "\n",
       "        acq_time satellite instrument  confidence version  bright_t31    frp  \\\n",
       "0             25     Terra      MODIS          70  6.0NRT       302.3   26.8   \n",
       "1             25     Terra      MODIS          90  6.0NRT       306.3   84.3   \n",
       "2             25     Terra      MODIS          30  6.0NRT       305.0   14.1   \n",
       "3             25     Terra      MODIS          57  6.0NRT       303.3   18.4   \n",
       "4             25     Terra      MODIS          94  6.0NRT       304.7  110.7   \n",
       "...          ...       ...        ...         ...     ...         ...    ...   \n",
       "183588      1515     Terra      MODIS          19  6.0NRT       289.3   15.3   \n",
       "183589      1645      Aqua      MODIS          16  6.0NRT       280.8    2.9   \n",
       "183590      1645      Aqua      MODIS          23  6.0NRT       277.9    3.7   \n",
       "183591      1650      Aqua      MODIS          68  6.0NRT       291.9   11.6   \n",
       "183592      1650      Aqua      MODIS          32  6.0NRT       290.5    6.8   \n",
       "\n",
       "       daynight  \n",
       "0             D  \n",
       "1             D  \n",
       "2             D  \n",
       "3             D  \n",
       "4             D  \n",
       "...         ...  \n",
       "183588        N  \n",
       "183589        N  \n",
       "183590        N  \n",
       "183591        N  \n",
       "183592        N  \n",
       "\n",
       "[183593 rows x 15 columns]"
      ],
      "text/html": "<div>\n<style scoped>\n    .dataframe tbody tr th:only-of-type {\n        vertical-align: middle;\n    }\n\n    .dataframe tbody tr th {\n        vertical-align: top;\n    }\n\n    .dataframe thead th {\n        text-align: right;\n    }\n</style>\n<table border=\"1\" class=\"dataframe\">\n  <thead>\n    <tr style=\"text-align: right;\">\n      <th></th>\n      <th>index</th>\n      <th>latitude</th>\n      <th>longitude</th>\n      <th>brightness</th>\n      <th>scan</th>\n      <th>track</th>\n      <th>acq_date</th>\n      <th>acq_time</th>\n      <th>satellite</th>\n      <th>instrument</th>\n      <th>confidence</th>\n      <th>version</th>\n      <th>bright_t31</th>\n      <th>frp</th>\n      <th>daynight</th>\n    </tr>\n  </thead>\n  <tbody>\n    <tr>\n      <th>0</th>\n      <td>0</td>\n      <td>-14.281</td>\n      <td>143.636</td>\n      <td>323.9</td>\n      <td>1.7</td>\n      <td>1.3</td>\n      <td>2019-10-01</td>\n      <td>25</td>\n      <td>Terra</td>\n      <td>MODIS</td>\n      <td>70</td>\n      <td>6.0NRT</td>\n      <td>302.3</td>\n      <td>26.8</td>\n      <td>D</td>\n    </tr>\n    <tr>\n      <th>1</th>\n      <td>1</td>\n      <td>-14.284</td>\n      <td>143.532</td>\n      <td>343.5</td>\n      <td>1.7</td>\n      <td>1.3</td>\n      <td>2019-10-01</td>\n      <td>25</td>\n      <td>Terra</td>\n      <td>MODIS</td>\n      <td>90</td>\n      <td>6.0NRT</td>\n      <td>306.3</td>\n      <td>84.3</td>\n      <td>D</td>\n    </tr>\n    <tr>\n      <th>2</th>\n      <td>2</td>\n      <td>-14.302</td>\n      <td>143.706</td>\n      <td>320.2</td>\n      <td>1.7</td>\n      <td>1.3</td>\n      <td>2019-10-01</td>\n      <td>25</td>\n      <td>Terra</td>\n      <td>MODIS</td>\n      <td>30</td>\n      <td>6.0NRT</td>\n      <td>305.0</td>\n      <td>14.1</td>\n      <td>D</td>\n    </tr>\n    <tr>\n      <th>3</th>\n      <td>3</td>\n      <td>-14.283</td>\n      <td>143.652</td>\n      <td>320.4</td>\n      <td>1.7</td>\n      <td>1.3</td>\n      <td>2019-10-01</td>\n      <td>25</td>\n      <td>Terra</td>\n      <td>MODIS</td>\n      <td>57</td>\n      <td>6.0NRT</td>\n      <td>303.3</td>\n      <td>18.4</td>\n      <td>D</td>\n    </tr>\n    <tr>\n      <th>4</th>\n      <td>4</td>\n      <td>-14.285</td>\n      <td>143.521</td>\n      <td>349.4</td>\n      <td>1.7</td>\n      <td>1.3</td>\n      <td>2019-10-01</td>\n      <td>25</td>\n      <td>Terra</td>\n      <td>MODIS</td>\n      <td>94</td>\n      <td>6.0NRT</td>\n      <td>304.7</td>\n      <td>110.7</td>\n      <td>D</td>\n    </tr>\n    <tr>\n      <th>...</th>\n      <td>...</td>\n      <td>...</td>\n      <td>...</td>\n      <td>...</td>\n      <td>...</td>\n      <td>...</td>\n      <td>...</td>\n      <td>...</td>\n      <td>...</td>\n      <td>...</td>\n      <td>...</td>\n      <td>...</td>\n      <td>...</td>\n      <td>...</td>\n      <td>...</td>\n    </tr>\n    <tr>\n      <th>183588</th>\n      <td>183588</td>\n      <td>-32.675</td>\n      <td>122.113</td>\n      <td>300.5</td>\n      <td>2.4</td>\n      <td>1.5</td>\n      <td>2020-01-11</td>\n      <td>1515</td>\n      <td>Terra</td>\n      <td>MODIS</td>\n      <td>19</td>\n      <td>6.0NRT</td>\n      <td>289.3</td>\n      <td>15.3</td>\n      <td>N</td>\n    </tr>\n    <tr>\n      <th>183589</th>\n      <td>183589</td>\n      <td>-16.708</td>\n      <td>129.646</td>\n      <td>300.5</td>\n      <td>1.0</td>\n      <td>1.0</td>\n      <td>2020-01-11</td>\n      <td>1645</td>\n      <td>Aqua</td>\n      <td>MODIS</td>\n      <td>16</td>\n      <td>6.0NRT</td>\n      <td>280.8</td>\n      <td>2.9</td>\n      <td>N</td>\n    </tr>\n    <tr>\n      <th>183590</th>\n      <td>183590</td>\n      <td>-16.747</td>\n      <td>129.653</td>\n      <td>301.8</td>\n      <td>1.0</td>\n      <td>1.0</td>\n      <td>2020-01-11</td>\n      <td>1645</td>\n      <td>Aqua</td>\n      <td>MODIS</td>\n      <td>23</td>\n      <td>6.0NRT</td>\n      <td>277.9</td>\n      <td>3.7</td>\n      <td>N</td>\n    </tr>\n    <tr>\n      <th>183591</th>\n      <td>183591</td>\n      <td>-32.484</td>\n      <td>121.319</td>\n      <td>306.5</td>\n      <td>1.4</td>\n      <td>1.2</td>\n      <td>2020-01-11</td>\n      <td>1650</td>\n      <td>Aqua</td>\n      <td>MODIS</td>\n      <td>68</td>\n      <td>6.0NRT</td>\n      <td>291.9</td>\n      <td>11.6</td>\n      <td>N</td>\n    </tr>\n    <tr>\n      <th>183592</th>\n      <td>183592</td>\n      <td>-30.858</td>\n      <td>121.500</td>\n      <td>300.7</td>\n      <td>1.4</td>\n      <td>1.2</td>\n      <td>2020-01-11</td>\n      <td>1650</td>\n      <td>Aqua</td>\n      <td>MODIS</td>\n      <td>32</td>\n      <td>6.0NRT</td>\n      <td>290.5</td>\n      <td>6.8</td>\n      <td>N</td>\n    </tr>\n  </tbody>\n</table>\n<p>183593 rows × 15 columns</p>\n</div>"
     },
     "metadata": {},
     "execution_count": 29
    }
   ],
   "source": [
    "df_3"
   ]
  },
  {
   "cell_type": "code",
   "execution_count": 30,
   "metadata": {},
   "outputs": [
    {
     "output_type": "execute_result",
     "data": {
      "text/plain": [
       "         index   latitude  longitude  bright_ti4  scan  track    acq_date  \\\n",
       "0            0  -42.69706  147.70634       333.6  0.57   0.43  2019-10-01   \n",
       "1            1  -42.26889  147.31104       336.2  0.39   0.44  2019-10-01   \n",
       "2            2  -40.85202  145.38068       327.9  0.46   0.47  2019-10-01   \n",
       "3            3  -42.39329  147.47144       346.9  0.38   0.43  2019-10-01   \n",
       "4            4  -42.69701  147.70584       334.1  0.56   0.43  2019-10-01   \n",
       "...        ...        ...        ...         ...   ...    ...         ...   \n",
       "956252  956252  -32.66628  122.15253       306.9  0.39   0.44  2020-01-11   \n",
       "956253  956253  -32.58616  123.39582       299.0  0.51   0.41  2020-01-11   \n",
       "956254  956254  -33.37853  115.94735       309.7  0.40   0.60  2020-01-11   \n",
       "956255  956255  -33.21827  115.75078       300.2  0.49   0.65  2020-01-11   \n",
       "956256  956256  -33.22012  115.75043       300.3  0.49   0.65  2020-01-11   \n",
       "\n",
       "        acq_time satellite instrument confidence version  bright_ti5  frp  \\\n",
       "0            336         N      VIIRS          n  1.0NRT       293.4  4.0   \n",
       "1            336         N      VIIRS          n  1.0NRT       296.9  3.9   \n",
       "2            336         N      VIIRS          n  1.0NRT       295.3  3.7   \n",
       "3            336         N      VIIRS          n  1.0NRT       294.2  6.2   \n",
       "4            336         N      VIIRS          n  1.0NRT       293.5  4.1   \n",
       "...          ...       ...        ...        ...     ...         ...  ...   \n",
       "956252      1630         N      VIIRS          n  1.0NRT       288.6  0.8   \n",
       "956253      1630         N      VIIRS          n  1.0NRT       287.4  0.7   \n",
       "956254      1630         N      VIIRS          n  1.0NRT       291.7  1.0   \n",
       "956255      1806         N      VIIRS          n  1.0NRT       290.2  1.1   \n",
       "956256      1806         N      VIIRS          n  1.0NRT       290.0  0.6   \n",
       "\n",
       "       daynight  \n",
       "0             D  \n",
       "1             D  \n",
       "2             D  \n",
       "3             D  \n",
       "4             D  \n",
       "...         ...  \n",
       "956252        N  \n",
       "956253        N  \n",
       "956254        N  \n",
       "956255        N  \n",
       "956256        N  \n",
       "\n",
       "[956257 rows x 15 columns]"
      ],
      "text/html": "<div>\n<style scoped>\n    .dataframe tbody tr th:only-of-type {\n        vertical-align: middle;\n    }\n\n    .dataframe tbody tr th {\n        vertical-align: top;\n    }\n\n    .dataframe thead th {\n        text-align: right;\n    }\n</style>\n<table border=\"1\" class=\"dataframe\">\n  <thead>\n    <tr style=\"text-align: right;\">\n      <th></th>\n      <th>index</th>\n      <th>latitude</th>\n      <th>longitude</th>\n      <th>bright_ti4</th>\n      <th>scan</th>\n      <th>track</th>\n      <th>acq_date</th>\n      <th>acq_time</th>\n      <th>satellite</th>\n      <th>instrument</th>\n      <th>confidence</th>\n      <th>version</th>\n      <th>bright_ti5</th>\n      <th>frp</th>\n      <th>daynight</th>\n    </tr>\n  </thead>\n  <tbody>\n    <tr>\n      <th>0</th>\n      <td>0</td>\n      <td>-42.69706</td>\n      <td>147.70634</td>\n      <td>333.6</td>\n      <td>0.57</td>\n      <td>0.43</td>\n      <td>2019-10-01</td>\n      <td>336</td>\n      <td>N</td>\n      <td>VIIRS</td>\n      <td>n</td>\n      <td>1.0NRT</td>\n      <td>293.4</td>\n      <td>4.0</td>\n      <td>D</td>\n    </tr>\n    <tr>\n      <th>1</th>\n      <td>1</td>\n      <td>-42.26889</td>\n      <td>147.31104</td>\n      <td>336.2</td>\n      <td>0.39</td>\n      <td>0.44</td>\n      <td>2019-10-01</td>\n      <td>336</td>\n      <td>N</td>\n      <td>VIIRS</td>\n      <td>n</td>\n      <td>1.0NRT</td>\n      <td>296.9</td>\n      <td>3.9</td>\n      <td>D</td>\n    </tr>\n    <tr>\n      <th>2</th>\n      <td>2</td>\n      <td>-40.85202</td>\n      <td>145.38068</td>\n      <td>327.9</td>\n      <td>0.46</td>\n      <td>0.47</td>\n      <td>2019-10-01</td>\n      <td>336</td>\n      <td>N</td>\n      <td>VIIRS</td>\n      <td>n</td>\n      <td>1.0NRT</td>\n      <td>295.3</td>\n      <td>3.7</td>\n      <td>D</td>\n    </tr>\n    <tr>\n      <th>3</th>\n      <td>3</td>\n      <td>-42.39329</td>\n      <td>147.47144</td>\n      <td>346.9</td>\n      <td>0.38</td>\n      <td>0.43</td>\n      <td>2019-10-01</td>\n      <td>336</td>\n      <td>N</td>\n      <td>VIIRS</td>\n      <td>n</td>\n      <td>1.0NRT</td>\n      <td>294.2</td>\n      <td>6.2</td>\n      <td>D</td>\n    </tr>\n    <tr>\n      <th>4</th>\n      <td>4</td>\n      <td>-42.69701</td>\n      <td>147.70584</td>\n      <td>334.1</td>\n      <td>0.56</td>\n      <td>0.43</td>\n      <td>2019-10-01</td>\n      <td>336</td>\n      <td>N</td>\n      <td>VIIRS</td>\n      <td>n</td>\n      <td>1.0NRT</td>\n      <td>293.5</td>\n      <td>4.1</td>\n      <td>D</td>\n    </tr>\n    <tr>\n      <th>...</th>\n      <td>...</td>\n      <td>...</td>\n      <td>...</td>\n      <td>...</td>\n      <td>...</td>\n      <td>...</td>\n      <td>...</td>\n      <td>...</td>\n      <td>...</td>\n      <td>...</td>\n      <td>...</td>\n      <td>...</td>\n      <td>...</td>\n      <td>...</td>\n      <td>...</td>\n    </tr>\n    <tr>\n      <th>956252</th>\n      <td>956252</td>\n      <td>-32.66628</td>\n      <td>122.15253</td>\n      <td>306.9</td>\n      <td>0.39</td>\n      <td>0.44</td>\n      <td>2020-01-11</td>\n      <td>1630</td>\n      <td>N</td>\n      <td>VIIRS</td>\n      <td>n</td>\n      <td>1.0NRT</td>\n      <td>288.6</td>\n      <td>0.8</td>\n      <td>N</td>\n    </tr>\n    <tr>\n      <th>956253</th>\n      <td>956253</td>\n      <td>-32.58616</td>\n      <td>123.39582</td>\n      <td>299.0</td>\n      <td>0.51</td>\n      <td>0.41</td>\n      <td>2020-01-11</td>\n      <td>1630</td>\n      <td>N</td>\n      <td>VIIRS</td>\n      <td>n</td>\n      <td>1.0NRT</td>\n      <td>287.4</td>\n      <td>0.7</td>\n      <td>N</td>\n    </tr>\n    <tr>\n      <th>956254</th>\n      <td>956254</td>\n      <td>-33.37853</td>\n      <td>115.94735</td>\n      <td>309.7</td>\n      <td>0.40</td>\n      <td>0.60</td>\n      <td>2020-01-11</td>\n      <td>1630</td>\n      <td>N</td>\n      <td>VIIRS</td>\n      <td>n</td>\n      <td>1.0NRT</td>\n      <td>291.7</td>\n      <td>1.0</td>\n      <td>N</td>\n    </tr>\n    <tr>\n      <th>956255</th>\n      <td>956255</td>\n      <td>-33.21827</td>\n      <td>115.75078</td>\n      <td>300.2</td>\n      <td>0.49</td>\n      <td>0.65</td>\n      <td>2020-01-11</td>\n      <td>1806</td>\n      <td>N</td>\n      <td>VIIRS</td>\n      <td>n</td>\n      <td>1.0NRT</td>\n      <td>290.2</td>\n      <td>1.1</td>\n      <td>N</td>\n    </tr>\n    <tr>\n      <th>956256</th>\n      <td>956256</td>\n      <td>-33.22012</td>\n      <td>115.75043</td>\n      <td>300.3</td>\n      <td>0.49</td>\n      <td>0.65</td>\n      <td>2020-01-11</td>\n      <td>1806</td>\n      <td>N</td>\n      <td>VIIRS</td>\n      <td>n</td>\n      <td>1.0NRT</td>\n      <td>290.0</td>\n      <td>0.6</td>\n      <td>N</td>\n    </tr>\n  </tbody>\n</table>\n<p>956257 rows × 15 columns</p>\n</div>"
     },
     "metadata": {},
     "execution_count": 30
    }
   ],
   "source": [
    "df_4"
   ]
  },
  {
   "cell_type": "code",
   "execution_count": 33,
   "metadata": {},
   "outputs": [
    {
     "output_type": "execute_result",
     "data": {
      "text/plain": [
       "n    771035\n",
       "h    108407\n",
       "l     76815\n",
       "Name: confidence, dtype: int64"
      ]
     },
     "metadata": {},
     "execution_count": 33
    }
   ],
   "source": [
    "df_4['confidence'].value_counts()"
   ]
  },
  {
   "cell_type": "code",
   "execution_count": 44,
   "metadata": {},
   "outputs": [],
   "source": [
    "df_3.drop(columns=['confidence'], inplace=True)\n",
    "df_4.drop(columns=['confidence'], inplace=True)"
   ]
  },
  {
   "cell_type": "code",
   "execution_count": 45,
   "metadata": {},
   "outputs": [
    {
     "output_type": "execute_result",
     "data": {
      "text/plain": [
       "         index   latitude  longitude  brightness  scan  track    acq_date  \\\n",
       "0            0  -42.69706  147.70634       333.6  0.57   0.43  2019-10-01   \n",
       "1            1  -42.26889  147.31104       336.2  0.39   0.44  2019-10-01   \n",
       "2            2  -40.85202  145.38068       327.9  0.46   0.47  2019-10-01   \n",
       "3            3  -42.39329  147.47144       346.9  0.38   0.43  2019-10-01   \n",
       "4            4  -42.69701  147.70584       334.1  0.56   0.43  2019-10-01   \n",
       "...        ...        ...        ...         ...   ...    ...         ...   \n",
       "956252  956252  -32.66628  122.15253       306.9  0.39   0.44  2020-01-11   \n",
       "956253  956253  -32.58616  123.39582       299.0  0.51   0.41  2020-01-11   \n",
       "956254  956254  -33.37853  115.94735       309.7  0.40   0.60  2020-01-11   \n",
       "956255  956255  -33.21827  115.75078       300.2  0.49   0.65  2020-01-11   \n",
       "956256  956256  -33.22012  115.75043       300.3  0.49   0.65  2020-01-11   \n",
       "\n",
       "        acq_time satellite instrument version  bright_ti5  frp daynight  \n",
       "0            336         N      VIIRS  1.0NRT       293.4  4.0        D  \n",
       "1            336         N      VIIRS  1.0NRT       296.9  3.9        D  \n",
       "2            336         N      VIIRS  1.0NRT       295.3  3.7        D  \n",
       "3            336         N      VIIRS  1.0NRT       294.2  6.2        D  \n",
       "4            336         N      VIIRS  1.0NRT       293.5  4.1        D  \n",
       "...          ...       ...        ...     ...         ...  ...      ...  \n",
       "956252      1630         N      VIIRS  1.0NRT       288.6  0.8        N  \n",
       "956253      1630         N      VIIRS  1.0NRT       287.4  0.7        N  \n",
       "956254      1630         N      VIIRS  1.0NRT       291.7  1.0        N  \n",
       "956255      1806         N      VIIRS  1.0NRT       290.2  1.1        N  \n",
       "956256      1806         N      VIIRS  1.0NRT       290.0  0.6        N  \n",
       "\n",
       "[956257 rows x 14 columns]"
      ],
      "text/html": "<div>\n<style scoped>\n    .dataframe tbody tr th:only-of-type {\n        vertical-align: middle;\n    }\n\n    .dataframe tbody tr th {\n        vertical-align: top;\n    }\n\n    .dataframe thead th {\n        text-align: right;\n    }\n</style>\n<table border=\"1\" class=\"dataframe\">\n  <thead>\n    <tr style=\"text-align: right;\">\n      <th></th>\n      <th>index</th>\n      <th>latitude</th>\n      <th>longitude</th>\n      <th>brightness</th>\n      <th>scan</th>\n      <th>track</th>\n      <th>acq_date</th>\n      <th>acq_time</th>\n      <th>satellite</th>\n      <th>instrument</th>\n      <th>version</th>\n      <th>bright_ti5</th>\n      <th>frp</th>\n      <th>daynight</th>\n    </tr>\n  </thead>\n  <tbody>\n    <tr>\n      <th>0</th>\n      <td>0</td>\n      <td>-42.69706</td>\n      <td>147.70634</td>\n      <td>333.6</td>\n      <td>0.57</td>\n      <td>0.43</td>\n      <td>2019-10-01</td>\n      <td>336</td>\n      <td>N</td>\n      <td>VIIRS</td>\n      <td>1.0NRT</td>\n      <td>293.4</td>\n      <td>4.0</td>\n      <td>D</td>\n    </tr>\n    <tr>\n      <th>1</th>\n      <td>1</td>\n      <td>-42.26889</td>\n      <td>147.31104</td>\n      <td>336.2</td>\n      <td>0.39</td>\n      <td>0.44</td>\n      <td>2019-10-01</td>\n      <td>336</td>\n      <td>N</td>\n      <td>VIIRS</td>\n      <td>1.0NRT</td>\n      <td>296.9</td>\n      <td>3.9</td>\n      <td>D</td>\n    </tr>\n    <tr>\n      <th>2</th>\n      <td>2</td>\n      <td>-40.85202</td>\n      <td>145.38068</td>\n      <td>327.9</td>\n      <td>0.46</td>\n      <td>0.47</td>\n      <td>2019-10-01</td>\n      <td>336</td>\n      <td>N</td>\n      <td>VIIRS</td>\n      <td>1.0NRT</td>\n      <td>295.3</td>\n      <td>3.7</td>\n      <td>D</td>\n    </tr>\n    <tr>\n      <th>3</th>\n      <td>3</td>\n      <td>-42.39329</td>\n      <td>147.47144</td>\n      <td>346.9</td>\n      <td>0.38</td>\n      <td>0.43</td>\n      <td>2019-10-01</td>\n      <td>336</td>\n      <td>N</td>\n      <td>VIIRS</td>\n      <td>1.0NRT</td>\n      <td>294.2</td>\n      <td>6.2</td>\n      <td>D</td>\n    </tr>\n    <tr>\n      <th>4</th>\n      <td>4</td>\n      <td>-42.69701</td>\n      <td>147.70584</td>\n      <td>334.1</td>\n      <td>0.56</td>\n      <td>0.43</td>\n      <td>2019-10-01</td>\n      <td>336</td>\n      <td>N</td>\n      <td>VIIRS</td>\n      <td>1.0NRT</td>\n      <td>293.5</td>\n      <td>4.1</td>\n      <td>D</td>\n    </tr>\n    <tr>\n      <th>...</th>\n      <td>...</td>\n      <td>...</td>\n      <td>...</td>\n      <td>...</td>\n      <td>...</td>\n      <td>...</td>\n      <td>...</td>\n      <td>...</td>\n      <td>...</td>\n      <td>...</td>\n      <td>...</td>\n      <td>...</td>\n      <td>...</td>\n      <td>...</td>\n    </tr>\n    <tr>\n      <th>956252</th>\n      <td>956252</td>\n      <td>-32.66628</td>\n      <td>122.15253</td>\n      <td>306.9</td>\n      <td>0.39</td>\n      <td>0.44</td>\n      <td>2020-01-11</td>\n      <td>1630</td>\n      <td>N</td>\n      <td>VIIRS</td>\n      <td>1.0NRT</td>\n      <td>288.6</td>\n      <td>0.8</td>\n      <td>N</td>\n    </tr>\n    <tr>\n      <th>956253</th>\n      <td>956253</td>\n      <td>-32.58616</td>\n      <td>123.39582</td>\n      <td>299.0</td>\n      <td>0.51</td>\n      <td>0.41</td>\n      <td>2020-01-11</td>\n      <td>1630</td>\n      <td>N</td>\n      <td>VIIRS</td>\n      <td>1.0NRT</td>\n      <td>287.4</td>\n      <td>0.7</td>\n      <td>N</td>\n    </tr>\n    <tr>\n      <th>956254</th>\n      <td>956254</td>\n      <td>-33.37853</td>\n      <td>115.94735</td>\n      <td>309.7</td>\n      <td>0.40</td>\n      <td>0.60</td>\n      <td>2020-01-11</td>\n      <td>1630</td>\n      <td>N</td>\n      <td>VIIRS</td>\n      <td>1.0NRT</td>\n      <td>291.7</td>\n      <td>1.0</td>\n      <td>N</td>\n    </tr>\n    <tr>\n      <th>956255</th>\n      <td>956255</td>\n      <td>-33.21827</td>\n      <td>115.75078</td>\n      <td>300.2</td>\n      <td>0.49</td>\n      <td>0.65</td>\n      <td>2020-01-11</td>\n      <td>1806</td>\n      <td>N</td>\n      <td>VIIRS</td>\n      <td>1.0NRT</td>\n      <td>290.2</td>\n      <td>1.1</td>\n      <td>N</td>\n    </tr>\n    <tr>\n      <th>956256</th>\n      <td>956256</td>\n      <td>-33.22012</td>\n      <td>115.75043</td>\n      <td>300.3</td>\n      <td>0.49</td>\n      <td>0.65</td>\n      <td>2020-01-11</td>\n      <td>1806</td>\n      <td>N</td>\n      <td>VIIRS</td>\n      <td>1.0NRT</td>\n      <td>290.0</td>\n      <td>0.6</td>\n      <td>N</td>\n    </tr>\n  </tbody>\n</table>\n<p>956257 rows × 14 columns</p>\n</div>"
     },
     "metadata": {},
     "execution_count": 45
    }
   ],
   "source": [
    "df_4.rename(columns={\"bright_ti4\": \"brightness\"}, inplace=True)\n",
    "df_4"
   ]
  },
  {
   "cell_type": "code",
   "execution_count": 36,
   "metadata": {},
   "outputs": [
    {
     "output_type": "stream",
     "name": "stdout",
     "text": [
      "<class 'pandas.core.frame.DataFrame'>\nRangeIndex: 183593 entries, 0 to 183592\nData columns (total 14 columns):\n #   Column      Non-Null Count   Dtype  \n---  ------      --------------   -----  \n 0   index       183593 non-null  int64  \n 1   latitude    183593 non-null  object \n 2   longitude   183593 non-null  float64\n 3   brightness  183593 non-null  float64\n 4   scan        183593 non-null  float64\n 5   track       183593 non-null  float64\n 6   acq_date    183593 non-null  object \n 7   acq_time    183593 non-null  int64  \n 8   satellite   183593 non-null  object \n 9   instrument  183593 non-null  object \n 10  version     183593 non-null  object \n 11  bright_t31  183593 non-null  float64\n 12  frp         183593 non-null  float64\n 13  daynight    183593 non-null  object \ndtypes: float64(6), int64(2), object(6)\nmemory usage: 19.6+ MB\n"
     ]
    }
   ],
   "source": [
    "df_3.info()"
   ]
  },
  {
   "cell_type": "code",
   "execution_count": 37,
   "metadata": {},
   "outputs": [
    {
     "output_type": "stream",
     "name": "stdout",
     "text": [
      "<class 'pandas.core.frame.DataFrame'>\nRangeIndex: 956257 entries, 0 to 956256\nData columns (total 14 columns):\n #   Column      Non-Null Count   Dtype  \n---  ------      --------------   -----  \n 0   index       956257 non-null  int64  \n 1   latitude    956257 non-null  object \n 2   longitude   956257 non-null  float64\n 3   brightness  956257 non-null  float64\n 4   scan        956257 non-null  float64\n 5   track       956257 non-null  float64\n 6   acq_date    956257 non-null  object \n 7   acq_time    956257 non-null  int64  \n 8   satellite   956257 non-null  object \n 9   instrument  956257 non-null  object \n 10  version     956257 non-null  object \n 11  bright_ti5  956257 non-null  float64\n 12  frp         956257 non-null  float64\n 13  daynight    956257 non-null  object \ndtypes: float64(6), int64(2), object(6)\nmemory usage: 102.1+ MB\n"
     ]
    }
   ],
   "source": [
    "df_4.info()"
   ]
  },
  {
   "cell_type": "code",
   "execution_count": 46,
   "metadata": {},
   "outputs": [
    {
     "output_type": "execute_result",
     "data": {
      "text/plain": [
       "         index   latitude  longitude  brightness  scan  track    acq_date  \\\n",
       "0            0  -42.69706  147.70634       333.6  0.57   0.43  2019-10-01   \n",
       "1            1  -42.26889  147.31104       336.2  0.39   0.44  2019-10-01   \n",
       "2            2  -40.85202  145.38068       327.9  0.46   0.47  2019-10-01   \n",
       "3            3  -42.39329  147.47144       346.9  0.38   0.43  2019-10-01   \n",
       "4            4  -42.69701  147.70584       334.1  0.56   0.43  2019-10-01   \n",
       "...        ...        ...        ...         ...   ...    ...         ...   \n",
       "956252  956252  -32.66628  122.15253       306.9  0.39   0.44  2020-01-11   \n",
       "956253  956253  -32.58616  123.39582       299.0  0.51   0.41  2020-01-11   \n",
       "956254  956254  -33.37853  115.94735       309.7  0.40   0.60  2020-01-11   \n",
       "956255  956255  -33.21827  115.75078       300.2  0.49   0.65  2020-01-11   \n",
       "956256  956256  -33.22012  115.75043       300.3  0.49   0.65  2020-01-11   \n",
       "\n",
       "        acq_time satellite instrument version  bright_t31  frp daynight  \n",
       "0            336         N      VIIRS  1.0NRT       293.4  4.0        D  \n",
       "1            336         N      VIIRS  1.0NRT       296.9  3.9        D  \n",
       "2            336         N      VIIRS  1.0NRT       295.3  3.7        D  \n",
       "3            336         N      VIIRS  1.0NRT       294.2  6.2        D  \n",
       "4            336         N      VIIRS  1.0NRT       293.5  4.1        D  \n",
       "...          ...       ...        ...     ...         ...  ...      ...  \n",
       "956252      1630         N      VIIRS  1.0NRT       288.6  0.8        N  \n",
       "956253      1630         N      VIIRS  1.0NRT       287.4  0.7        N  \n",
       "956254      1630         N      VIIRS  1.0NRT       291.7  1.0        N  \n",
       "956255      1806         N      VIIRS  1.0NRT       290.2  1.1        N  \n",
       "956256      1806         N      VIIRS  1.0NRT       290.0  0.6        N  \n",
       "\n",
       "[956257 rows x 14 columns]"
      ],
      "text/html": "<div>\n<style scoped>\n    .dataframe tbody tr th:only-of-type {\n        vertical-align: middle;\n    }\n\n    .dataframe tbody tr th {\n        vertical-align: top;\n    }\n\n    .dataframe thead th {\n        text-align: right;\n    }\n</style>\n<table border=\"1\" class=\"dataframe\">\n  <thead>\n    <tr style=\"text-align: right;\">\n      <th></th>\n      <th>index</th>\n      <th>latitude</th>\n      <th>longitude</th>\n      <th>brightness</th>\n      <th>scan</th>\n      <th>track</th>\n      <th>acq_date</th>\n      <th>acq_time</th>\n      <th>satellite</th>\n      <th>instrument</th>\n      <th>version</th>\n      <th>bright_t31</th>\n      <th>frp</th>\n      <th>daynight</th>\n    </tr>\n  </thead>\n  <tbody>\n    <tr>\n      <th>0</th>\n      <td>0</td>\n      <td>-42.69706</td>\n      <td>147.70634</td>\n      <td>333.6</td>\n      <td>0.57</td>\n      <td>0.43</td>\n      <td>2019-10-01</td>\n      <td>336</td>\n      <td>N</td>\n      <td>VIIRS</td>\n      <td>1.0NRT</td>\n      <td>293.4</td>\n      <td>4.0</td>\n      <td>D</td>\n    </tr>\n    <tr>\n      <th>1</th>\n      <td>1</td>\n      <td>-42.26889</td>\n      <td>147.31104</td>\n      <td>336.2</td>\n      <td>0.39</td>\n      <td>0.44</td>\n      <td>2019-10-01</td>\n      <td>336</td>\n      <td>N</td>\n      <td>VIIRS</td>\n      <td>1.0NRT</td>\n      <td>296.9</td>\n      <td>3.9</td>\n      <td>D</td>\n    </tr>\n    <tr>\n      <th>2</th>\n      <td>2</td>\n      <td>-40.85202</td>\n      <td>145.38068</td>\n      <td>327.9</td>\n      <td>0.46</td>\n      <td>0.47</td>\n      <td>2019-10-01</td>\n      <td>336</td>\n      <td>N</td>\n      <td>VIIRS</td>\n      <td>1.0NRT</td>\n      <td>295.3</td>\n      <td>3.7</td>\n      <td>D</td>\n    </tr>\n    <tr>\n      <th>3</th>\n      <td>3</td>\n      <td>-42.39329</td>\n      <td>147.47144</td>\n      <td>346.9</td>\n      <td>0.38</td>\n      <td>0.43</td>\n      <td>2019-10-01</td>\n      <td>336</td>\n      <td>N</td>\n      <td>VIIRS</td>\n      <td>1.0NRT</td>\n      <td>294.2</td>\n      <td>6.2</td>\n      <td>D</td>\n    </tr>\n    <tr>\n      <th>4</th>\n      <td>4</td>\n      <td>-42.69701</td>\n      <td>147.70584</td>\n      <td>334.1</td>\n      <td>0.56</td>\n      <td>0.43</td>\n      <td>2019-10-01</td>\n      <td>336</td>\n      <td>N</td>\n      <td>VIIRS</td>\n      <td>1.0NRT</td>\n      <td>293.5</td>\n      <td>4.1</td>\n      <td>D</td>\n    </tr>\n    <tr>\n      <th>...</th>\n      <td>...</td>\n      <td>...</td>\n      <td>...</td>\n      <td>...</td>\n      <td>...</td>\n      <td>...</td>\n      <td>...</td>\n      <td>...</td>\n      <td>...</td>\n      <td>...</td>\n      <td>...</td>\n      <td>...</td>\n      <td>...</td>\n      <td>...</td>\n    </tr>\n    <tr>\n      <th>956252</th>\n      <td>956252</td>\n      <td>-32.66628</td>\n      <td>122.15253</td>\n      <td>306.9</td>\n      <td>0.39</td>\n      <td>0.44</td>\n      <td>2020-01-11</td>\n      <td>1630</td>\n      <td>N</td>\n      <td>VIIRS</td>\n      <td>1.0NRT</td>\n      <td>288.6</td>\n      <td>0.8</td>\n      <td>N</td>\n    </tr>\n    <tr>\n      <th>956253</th>\n      <td>956253</td>\n      <td>-32.58616</td>\n      <td>123.39582</td>\n      <td>299.0</td>\n      <td>0.51</td>\n      <td>0.41</td>\n      <td>2020-01-11</td>\n      <td>1630</td>\n      <td>N</td>\n      <td>VIIRS</td>\n      <td>1.0NRT</td>\n      <td>287.4</td>\n      <td>0.7</td>\n      <td>N</td>\n    </tr>\n    <tr>\n      <th>956254</th>\n      <td>956254</td>\n      <td>-33.37853</td>\n      <td>115.94735</td>\n      <td>309.7</td>\n      <td>0.40</td>\n      <td>0.60</td>\n      <td>2020-01-11</td>\n      <td>1630</td>\n      <td>N</td>\n      <td>VIIRS</td>\n      <td>1.0NRT</td>\n      <td>291.7</td>\n      <td>1.0</td>\n      <td>N</td>\n    </tr>\n    <tr>\n      <th>956255</th>\n      <td>956255</td>\n      <td>-33.21827</td>\n      <td>115.75078</td>\n      <td>300.2</td>\n      <td>0.49</td>\n      <td>0.65</td>\n      <td>2020-01-11</td>\n      <td>1806</td>\n      <td>N</td>\n      <td>VIIRS</td>\n      <td>1.0NRT</td>\n      <td>290.2</td>\n      <td>1.1</td>\n      <td>N</td>\n    </tr>\n    <tr>\n      <th>956256</th>\n      <td>956256</td>\n      <td>-33.22012</td>\n      <td>115.75043</td>\n      <td>300.3</td>\n      <td>0.49</td>\n      <td>0.65</td>\n      <td>2020-01-11</td>\n      <td>1806</td>\n      <td>N</td>\n      <td>VIIRS</td>\n      <td>1.0NRT</td>\n      <td>290.0</td>\n      <td>0.6</td>\n      <td>N</td>\n    </tr>\n  </tbody>\n</table>\n<p>956257 rows × 14 columns</p>\n</div>"
     },
     "metadata": {},
     "execution_count": 46
    }
   ],
   "source": [
    "df_4.rename(columns={\"bright_ti5\": \"bright_t31\"}, inplace=True)\n",
    "df_4"
   ]
  },
  {
   "cell_type": "code",
   "execution_count": 47,
   "metadata": {},
   "outputs": [
    {
     "output_type": "execute_result",
     "data": {
      "text/plain": [
       "         index   latitude  longitude  brightness  scan  track    acq_date  \\\n",
       "0            0    -14.281  143.63600       323.9  1.70   1.30  2019-10-01   \n",
       "1            1    -14.284  143.53200       343.5  1.70   1.30  2019-10-01   \n",
       "2            2    -14.302  143.70600       320.2  1.70   1.30  2019-10-01   \n",
       "3            3    -14.283  143.65200       320.4  1.70   1.30  2019-10-01   \n",
       "4            4    -14.285  143.52100       349.4  1.70   1.30  2019-10-01   \n",
       "...        ...        ...        ...         ...   ...    ...         ...   \n",
       "956252  956252  -32.66628  122.15253       306.9  0.39   0.44  2020-01-11   \n",
       "956253  956253  -32.58616  123.39582       299.0  0.51   0.41  2020-01-11   \n",
       "956254  956254  -33.37853  115.94735       309.7  0.40   0.60  2020-01-11   \n",
       "956255  956255  -33.21827  115.75078       300.2  0.49   0.65  2020-01-11   \n",
       "956256  956256  -33.22012  115.75043       300.3  0.49   0.65  2020-01-11   \n",
       "\n",
       "        acq_time satellite instrument version  bright_t31    frp daynight  \n",
       "0             25     Terra      MODIS  6.0NRT       302.3   26.8        D  \n",
       "1             25     Terra      MODIS  6.0NRT       306.3   84.3        D  \n",
       "2             25     Terra      MODIS  6.0NRT       305.0   14.1        D  \n",
       "3             25     Terra      MODIS  6.0NRT       303.3   18.4        D  \n",
       "4             25     Terra      MODIS  6.0NRT       304.7  110.7        D  \n",
       "...          ...       ...        ...     ...         ...    ...      ...  \n",
       "956252      1630         N      VIIRS  1.0NRT       288.6    0.8        N  \n",
       "956253      1630         N      VIIRS  1.0NRT       287.4    0.7        N  \n",
       "956254      1630         N      VIIRS  1.0NRT       291.7    1.0        N  \n",
       "956255      1806         N      VIIRS  1.0NRT       290.2    1.1        N  \n",
       "956256      1806         N      VIIRS  1.0NRT       290.0    0.6        N  \n",
       "\n",
       "[1139850 rows x 14 columns]"
      ],
      "text/html": "<div>\n<style scoped>\n    .dataframe tbody tr th:only-of-type {\n        vertical-align: middle;\n    }\n\n    .dataframe tbody tr th {\n        vertical-align: top;\n    }\n\n    .dataframe thead th {\n        text-align: right;\n    }\n</style>\n<table border=\"1\" class=\"dataframe\">\n  <thead>\n    <tr style=\"text-align: right;\">\n      <th></th>\n      <th>index</th>\n      <th>latitude</th>\n      <th>longitude</th>\n      <th>brightness</th>\n      <th>scan</th>\n      <th>track</th>\n      <th>acq_date</th>\n      <th>acq_time</th>\n      <th>satellite</th>\n      <th>instrument</th>\n      <th>version</th>\n      <th>bright_t31</th>\n      <th>frp</th>\n      <th>daynight</th>\n    </tr>\n  </thead>\n  <tbody>\n    <tr>\n      <th>0</th>\n      <td>0</td>\n      <td>-14.281</td>\n      <td>143.63600</td>\n      <td>323.9</td>\n      <td>1.70</td>\n      <td>1.30</td>\n      <td>2019-10-01</td>\n      <td>25</td>\n      <td>Terra</td>\n      <td>MODIS</td>\n      <td>6.0NRT</td>\n      <td>302.3</td>\n      <td>26.8</td>\n      <td>D</td>\n    </tr>\n    <tr>\n      <th>1</th>\n      <td>1</td>\n      <td>-14.284</td>\n      <td>143.53200</td>\n      <td>343.5</td>\n      <td>1.70</td>\n      <td>1.30</td>\n      <td>2019-10-01</td>\n      <td>25</td>\n      <td>Terra</td>\n      <td>MODIS</td>\n      <td>6.0NRT</td>\n      <td>306.3</td>\n      <td>84.3</td>\n      <td>D</td>\n    </tr>\n    <tr>\n      <th>2</th>\n      <td>2</td>\n      <td>-14.302</td>\n      <td>143.70600</td>\n      <td>320.2</td>\n      <td>1.70</td>\n      <td>1.30</td>\n      <td>2019-10-01</td>\n      <td>25</td>\n      <td>Terra</td>\n      <td>MODIS</td>\n      <td>6.0NRT</td>\n      <td>305.0</td>\n      <td>14.1</td>\n      <td>D</td>\n    </tr>\n    <tr>\n      <th>3</th>\n      <td>3</td>\n      <td>-14.283</td>\n      <td>143.65200</td>\n      <td>320.4</td>\n      <td>1.70</td>\n      <td>1.30</td>\n      <td>2019-10-01</td>\n      <td>25</td>\n      <td>Terra</td>\n      <td>MODIS</td>\n      <td>6.0NRT</td>\n      <td>303.3</td>\n      <td>18.4</td>\n      <td>D</td>\n    </tr>\n    <tr>\n      <th>4</th>\n      <td>4</td>\n      <td>-14.285</td>\n      <td>143.52100</td>\n      <td>349.4</td>\n      <td>1.70</td>\n      <td>1.30</td>\n      <td>2019-10-01</td>\n      <td>25</td>\n      <td>Terra</td>\n      <td>MODIS</td>\n      <td>6.0NRT</td>\n      <td>304.7</td>\n      <td>110.7</td>\n      <td>D</td>\n    </tr>\n    <tr>\n      <th>...</th>\n      <td>...</td>\n      <td>...</td>\n      <td>...</td>\n      <td>...</td>\n      <td>...</td>\n      <td>...</td>\n      <td>...</td>\n      <td>...</td>\n      <td>...</td>\n      <td>...</td>\n      <td>...</td>\n      <td>...</td>\n      <td>...</td>\n      <td>...</td>\n    </tr>\n    <tr>\n      <th>956252</th>\n      <td>956252</td>\n      <td>-32.66628</td>\n      <td>122.15253</td>\n      <td>306.9</td>\n      <td>0.39</td>\n      <td>0.44</td>\n      <td>2020-01-11</td>\n      <td>1630</td>\n      <td>N</td>\n      <td>VIIRS</td>\n      <td>1.0NRT</td>\n      <td>288.6</td>\n      <td>0.8</td>\n      <td>N</td>\n    </tr>\n    <tr>\n      <th>956253</th>\n      <td>956253</td>\n      <td>-32.58616</td>\n      <td>123.39582</td>\n      <td>299.0</td>\n      <td>0.51</td>\n      <td>0.41</td>\n      <td>2020-01-11</td>\n      <td>1630</td>\n      <td>N</td>\n      <td>VIIRS</td>\n      <td>1.0NRT</td>\n      <td>287.4</td>\n      <td>0.7</td>\n      <td>N</td>\n    </tr>\n    <tr>\n      <th>956254</th>\n      <td>956254</td>\n      <td>-33.37853</td>\n      <td>115.94735</td>\n      <td>309.7</td>\n      <td>0.40</td>\n      <td>0.60</td>\n      <td>2020-01-11</td>\n      <td>1630</td>\n      <td>N</td>\n      <td>VIIRS</td>\n      <td>1.0NRT</td>\n      <td>291.7</td>\n      <td>1.0</td>\n      <td>N</td>\n    </tr>\n    <tr>\n      <th>956255</th>\n      <td>956255</td>\n      <td>-33.21827</td>\n      <td>115.75078</td>\n      <td>300.2</td>\n      <td>0.49</td>\n      <td>0.65</td>\n      <td>2020-01-11</td>\n      <td>1806</td>\n      <td>N</td>\n      <td>VIIRS</td>\n      <td>1.0NRT</td>\n      <td>290.2</td>\n      <td>1.1</td>\n      <td>N</td>\n    </tr>\n    <tr>\n      <th>956256</th>\n      <td>956256</td>\n      <td>-33.22012</td>\n      <td>115.75043</td>\n      <td>300.3</td>\n      <td>0.49</td>\n      <td>0.65</td>\n      <td>2020-01-11</td>\n      <td>1806</td>\n      <td>N</td>\n      <td>VIIRS</td>\n      <td>1.0NRT</td>\n      <td>290.0</td>\n      <td>0.6</td>\n      <td>N</td>\n    </tr>\n  </tbody>\n</table>\n<p>1139850 rows × 14 columns</p>\n</div>"
     },
     "metadata": {},
     "execution_count": 47
    }
   ],
   "source": [
    "fires = pd.concat([df_3, df_4])\n",
    "fires"
   ]
  },
  {
   "cell_type": "code",
   "execution_count": 41,
   "metadata": {},
   "outputs": [
    {
     "output_type": "execute_result",
     "data": {
      "text/plain": [
       "         index   latitude  longitude  brightness  scan  track    acq_date  \\\n",
       "0            0    -11.807  142.05830       313.0  1.00   1.00  2019-08-01   \n",
       "1            1   -11.7924  142.08500       319.3  1.00   1.00  2019-08-01   \n",
       "2            2   -12.8398  132.87440       311.6  3.10   1.70  2019-08-01   \n",
       "3            3   -14.4306  143.30350       310.1  1.10   1.10  2019-08-01   \n",
       "4            4   -12.4953  131.48970       310.3  4.00   1.90  2019-08-01   \n",
       "...        ...        ...        ...         ...   ...    ...         ...   \n",
       "184773  184773  -32.37209  116.10032       296.1  0.48   0.40  2019-09-30   \n",
       "184774  184774  -32.38958  116.11151       296.1  0.48   0.40  2019-09-30   \n",
       "184775  184775  -33.12481  116.03968       299.9  0.47   0.40  2019-09-30   \n",
       "184776  184776   -33.6348  122.92641       296.2  0.43   0.38  2019-09-30   \n",
       "184777  184777  -33.63897  122.93050       297.3  0.44   0.38  2019-09-30   \n",
       "\n",
       "        acq_time satellite instrument  version  bright_t31   frp  fire_type  \n",
       "0             56     Terra      MODIS      6.3       297.3   6.6          0  \n",
       "1             56     Terra      MODIS      6.3       297.3  11.3          0  \n",
       "2             57     Terra      MODIS      6.3       298.7  23.1          0  \n",
       "3             57     Terra      MODIS      6.3       296.1   6.5          0  \n",
       "4             57     Terra      MODIS      6.3       298.8  27.6          0  \n",
       "...          ...       ...        ...      ...         ...   ...        ...  \n",
       "184773      1702         N      VIIRS      1.0       284.8   1.2          0  \n",
       "184774      1702         N      VIIRS      1.0       284.7   1.1          0  \n",
       "184775      1702         N      VIIRS      1.0       285.0   1.3          0  \n",
       "184776      1702         N      VIIRS      1.0       285.9   0.5          0  \n",
       "184777      1702         N      VIIRS      1.0       285.9   0.6          0  \n",
       "\n",
       "[220789 rows x 14 columns]"
      ],
      "text/html": "<div>\n<style scoped>\n    .dataframe tbody tr th:only-of-type {\n        vertical-align: middle;\n    }\n\n    .dataframe tbody tr th {\n        vertical-align: top;\n    }\n\n    .dataframe thead th {\n        text-align: right;\n    }\n</style>\n<table border=\"1\" class=\"dataframe\">\n  <thead>\n    <tr style=\"text-align: right;\">\n      <th></th>\n      <th>index</th>\n      <th>latitude</th>\n      <th>longitude</th>\n      <th>brightness</th>\n      <th>scan</th>\n      <th>track</th>\n      <th>acq_date</th>\n      <th>acq_time</th>\n      <th>satellite</th>\n      <th>instrument</th>\n      <th>version</th>\n      <th>bright_t31</th>\n      <th>frp</th>\n      <th>fire_type</th>\n    </tr>\n  </thead>\n  <tbody>\n    <tr>\n      <th>0</th>\n      <td>0</td>\n      <td>-11.807</td>\n      <td>142.05830</td>\n      <td>313.0</td>\n      <td>1.00</td>\n      <td>1.00</td>\n      <td>2019-08-01</td>\n      <td>56</td>\n      <td>Terra</td>\n      <td>MODIS</td>\n      <td>6.3</td>\n      <td>297.3</td>\n      <td>6.6</td>\n      <td>0</td>\n    </tr>\n    <tr>\n      <th>1</th>\n      <td>1</td>\n      <td>-11.7924</td>\n      <td>142.08500</td>\n      <td>319.3</td>\n      <td>1.00</td>\n      <td>1.00</td>\n      <td>2019-08-01</td>\n      <td>56</td>\n      <td>Terra</td>\n      <td>MODIS</td>\n      <td>6.3</td>\n      <td>297.3</td>\n      <td>11.3</td>\n      <td>0</td>\n    </tr>\n    <tr>\n      <th>2</th>\n      <td>2</td>\n      <td>-12.8398</td>\n      <td>132.87440</td>\n      <td>311.6</td>\n      <td>3.10</td>\n      <td>1.70</td>\n      <td>2019-08-01</td>\n      <td>57</td>\n      <td>Terra</td>\n      <td>MODIS</td>\n      <td>6.3</td>\n      <td>298.7</td>\n      <td>23.1</td>\n      <td>0</td>\n    </tr>\n    <tr>\n      <th>3</th>\n      <td>3</td>\n      <td>-14.4306</td>\n      <td>143.30350</td>\n      <td>310.1</td>\n      <td>1.10</td>\n      <td>1.10</td>\n      <td>2019-08-01</td>\n      <td>57</td>\n      <td>Terra</td>\n      <td>MODIS</td>\n      <td>6.3</td>\n      <td>296.1</td>\n      <td>6.5</td>\n      <td>0</td>\n    </tr>\n    <tr>\n      <th>4</th>\n      <td>4</td>\n      <td>-12.4953</td>\n      <td>131.48970</td>\n      <td>310.3</td>\n      <td>4.00</td>\n      <td>1.90</td>\n      <td>2019-08-01</td>\n      <td>57</td>\n      <td>Terra</td>\n      <td>MODIS</td>\n      <td>6.3</td>\n      <td>298.8</td>\n      <td>27.6</td>\n      <td>0</td>\n    </tr>\n    <tr>\n      <th>...</th>\n      <td>...</td>\n      <td>...</td>\n      <td>...</td>\n      <td>...</td>\n      <td>...</td>\n      <td>...</td>\n      <td>...</td>\n      <td>...</td>\n      <td>...</td>\n      <td>...</td>\n      <td>...</td>\n      <td>...</td>\n      <td>...</td>\n      <td>...</td>\n    </tr>\n    <tr>\n      <th>184773</th>\n      <td>184773</td>\n      <td>-32.37209</td>\n      <td>116.10032</td>\n      <td>296.1</td>\n      <td>0.48</td>\n      <td>0.40</td>\n      <td>2019-09-30</td>\n      <td>1702</td>\n      <td>N</td>\n      <td>VIIRS</td>\n      <td>1.0</td>\n      <td>284.8</td>\n      <td>1.2</td>\n      <td>0</td>\n    </tr>\n    <tr>\n      <th>184774</th>\n      <td>184774</td>\n      <td>-32.38958</td>\n      <td>116.11151</td>\n      <td>296.1</td>\n      <td>0.48</td>\n      <td>0.40</td>\n      <td>2019-09-30</td>\n      <td>1702</td>\n      <td>N</td>\n      <td>VIIRS</td>\n      <td>1.0</td>\n      <td>284.7</td>\n      <td>1.1</td>\n      <td>0</td>\n    </tr>\n    <tr>\n      <th>184775</th>\n      <td>184775</td>\n      <td>-33.12481</td>\n      <td>116.03968</td>\n      <td>299.9</td>\n      <td>0.47</td>\n      <td>0.40</td>\n      <td>2019-09-30</td>\n      <td>1702</td>\n      <td>N</td>\n      <td>VIIRS</td>\n      <td>1.0</td>\n      <td>285.0</td>\n      <td>1.3</td>\n      <td>0</td>\n    </tr>\n    <tr>\n      <th>184776</th>\n      <td>184776</td>\n      <td>-33.6348</td>\n      <td>122.92641</td>\n      <td>296.2</td>\n      <td>0.43</td>\n      <td>0.38</td>\n      <td>2019-09-30</td>\n      <td>1702</td>\n      <td>N</td>\n      <td>VIIRS</td>\n      <td>1.0</td>\n      <td>285.9</td>\n      <td>0.5</td>\n      <td>0</td>\n    </tr>\n    <tr>\n      <th>184777</th>\n      <td>184777</td>\n      <td>-33.63897</td>\n      <td>122.93050</td>\n      <td>297.3</td>\n      <td>0.44</td>\n      <td>0.38</td>\n      <td>2019-09-30</td>\n      <td>1702</td>\n      <td>N</td>\n      <td>VIIRS</td>\n      <td>1.0</td>\n      <td>285.9</td>\n      <td>0.6</td>\n      <td>0</td>\n    </tr>\n  </tbody>\n</table>\n<p>220789 rows × 14 columns</p>\n</div>"
     },
     "metadata": {},
     "execution_count": 41
    }
   ],
   "source": [
    "australia"
   ]
  },
  {
   "cell_type": "code",
   "execution_count": 15,
   "metadata": {},
   "outputs": [
    {
     "output_type": "execute_result",
     "data": {
      "text/plain": [
       "         latitude  longitude  brightness  scan  track    acq_date  acq_time  \\\n",
       "0         -11.807  142.05830       313.0  1.00   1.00  2019-08-01        56   \n",
       "1        -11.7924  142.08500       319.3  1.00   1.00  2019-08-01        56   \n",
       "2        -12.8398  132.87440       311.6  3.10   1.70  2019-08-01        57   \n",
       "3        -14.4306  143.30350       310.1  1.10   1.10  2019-08-01        57   \n",
       "4        -12.4953  131.48970       310.3  4.00   1.90  2019-08-01        57   \n",
       "...           ...        ...         ...   ...    ...         ...       ...   \n",
       "184773  -32.37209  116.10032       296.1  0.48   0.40  2019-09-30      1702   \n",
       "184774  -32.38958  116.11151       296.1  0.48   0.40  2019-09-30      1702   \n",
       "184775  -33.12481  116.03968       299.9  0.47   0.40  2019-09-30      1702   \n",
       "184776   -33.6348  122.92641       296.2  0.43   0.38  2019-09-30      1702   \n",
       "184777  -33.63897  122.93050       297.3  0.44   0.38  2019-09-30      1702   \n",
       "\n",
       "       satellite instrument  bright_t31   frp  fire_type  \n",
       "0          Terra      MODIS       297.3   6.6          0  \n",
       "1          Terra      MODIS       297.3  11.3          0  \n",
       "2          Terra      MODIS       298.7  23.1          0  \n",
       "3          Terra      MODIS       296.1   6.5          0  \n",
       "4          Terra      MODIS       298.8  27.6          0  \n",
       "...          ...        ...         ...   ...        ...  \n",
       "184773         N      VIIRS       284.8   1.2          0  \n",
       "184774         N      VIIRS       284.7   1.1          0  \n",
       "184775         N      VIIRS       285.0   1.3          0  \n",
       "184776         N      VIIRS       285.9   0.5          0  \n",
       "184777         N      VIIRS       285.9   0.6          0  \n",
       "\n",
       "[220789 rows x 12 columns]"
      ],
      "text/html": "<div>\n<style scoped>\n    .dataframe tbody tr th:only-of-type {\n        vertical-align: middle;\n    }\n\n    .dataframe tbody tr th {\n        vertical-align: top;\n    }\n\n    .dataframe thead th {\n        text-align: right;\n    }\n</style>\n<table border=\"1\" class=\"dataframe\">\n  <thead>\n    <tr style=\"text-align: right;\">\n      <th></th>\n      <th>latitude</th>\n      <th>longitude</th>\n      <th>brightness</th>\n      <th>scan</th>\n      <th>track</th>\n      <th>acq_date</th>\n      <th>acq_time</th>\n      <th>satellite</th>\n      <th>instrument</th>\n      <th>bright_t31</th>\n      <th>frp</th>\n      <th>fire_type</th>\n    </tr>\n  </thead>\n  <tbody>\n    <tr>\n      <th>0</th>\n      <td>-11.807</td>\n      <td>142.05830</td>\n      <td>313.0</td>\n      <td>1.00</td>\n      <td>1.00</td>\n      <td>2019-08-01</td>\n      <td>56</td>\n      <td>Terra</td>\n      <td>MODIS</td>\n      <td>297.3</td>\n      <td>6.6</td>\n      <td>0</td>\n    </tr>\n    <tr>\n      <th>1</th>\n      <td>-11.7924</td>\n      <td>142.08500</td>\n      <td>319.3</td>\n      <td>1.00</td>\n      <td>1.00</td>\n      <td>2019-08-01</td>\n      <td>56</td>\n      <td>Terra</td>\n      <td>MODIS</td>\n      <td>297.3</td>\n      <td>11.3</td>\n      <td>0</td>\n    </tr>\n    <tr>\n      <th>2</th>\n      <td>-12.8398</td>\n      <td>132.87440</td>\n      <td>311.6</td>\n      <td>3.10</td>\n      <td>1.70</td>\n      <td>2019-08-01</td>\n      <td>57</td>\n      <td>Terra</td>\n      <td>MODIS</td>\n      <td>298.7</td>\n      <td>23.1</td>\n      <td>0</td>\n    </tr>\n    <tr>\n      <th>3</th>\n      <td>-14.4306</td>\n      <td>143.30350</td>\n      <td>310.1</td>\n      <td>1.10</td>\n      <td>1.10</td>\n      <td>2019-08-01</td>\n      <td>57</td>\n      <td>Terra</td>\n      <td>MODIS</td>\n      <td>296.1</td>\n      <td>6.5</td>\n      <td>0</td>\n    </tr>\n    <tr>\n      <th>4</th>\n      <td>-12.4953</td>\n      <td>131.48970</td>\n      <td>310.3</td>\n      <td>4.00</td>\n      <td>1.90</td>\n      <td>2019-08-01</td>\n      <td>57</td>\n      <td>Terra</td>\n      <td>MODIS</td>\n      <td>298.8</td>\n      <td>27.6</td>\n      <td>0</td>\n    </tr>\n    <tr>\n      <th>...</th>\n      <td>...</td>\n      <td>...</td>\n      <td>...</td>\n      <td>...</td>\n      <td>...</td>\n      <td>...</td>\n      <td>...</td>\n      <td>...</td>\n      <td>...</td>\n      <td>...</td>\n      <td>...</td>\n      <td>...</td>\n    </tr>\n    <tr>\n      <th>184773</th>\n      <td>-32.37209</td>\n      <td>116.10032</td>\n      <td>296.1</td>\n      <td>0.48</td>\n      <td>0.40</td>\n      <td>2019-09-30</td>\n      <td>1702</td>\n      <td>N</td>\n      <td>VIIRS</td>\n      <td>284.8</td>\n      <td>1.2</td>\n      <td>0</td>\n    </tr>\n    <tr>\n      <th>184774</th>\n      <td>-32.38958</td>\n      <td>116.11151</td>\n      <td>296.1</td>\n      <td>0.48</td>\n      <td>0.40</td>\n      <td>2019-09-30</td>\n      <td>1702</td>\n      <td>N</td>\n      <td>VIIRS</td>\n      <td>284.7</td>\n      <td>1.1</td>\n      <td>0</td>\n    </tr>\n    <tr>\n      <th>184775</th>\n      <td>-33.12481</td>\n      <td>116.03968</td>\n      <td>299.9</td>\n      <td>0.47</td>\n      <td>0.40</td>\n      <td>2019-09-30</td>\n      <td>1702</td>\n      <td>N</td>\n      <td>VIIRS</td>\n      <td>285.0</td>\n      <td>1.3</td>\n      <td>0</td>\n    </tr>\n    <tr>\n      <th>184776</th>\n      <td>-33.6348</td>\n      <td>122.92641</td>\n      <td>296.2</td>\n      <td>0.43</td>\n      <td>0.38</td>\n      <td>2019-09-30</td>\n      <td>1702</td>\n      <td>N</td>\n      <td>VIIRS</td>\n      <td>285.9</td>\n      <td>0.5</td>\n      <td>0</td>\n    </tr>\n    <tr>\n      <th>184777</th>\n      <td>-33.63897</td>\n      <td>122.93050</td>\n      <td>297.3</td>\n      <td>0.44</td>\n      <td>0.38</td>\n      <td>2019-09-30</td>\n      <td>1702</td>\n      <td>N</td>\n      <td>VIIRS</td>\n      <td>285.9</td>\n      <td>0.6</td>\n      <td>0</td>\n    </tr>\n  </tbody>\n</table>\n<p>220789 rows × 12 columns</p>\n</div>"
     },
     "metadata": {},
     "execution_count": 15
    }
   ],
   "source": [
    "australia.drop(columns='index', inplace=True)\n",
    "australia"
   ]
  },
  {
   "cell_type": "code",
   "execution_count": 16,
   "metadata": {},
   "outputs": [
    {
     "output_type": "execute_result",
     "data": {
      "text/plain": [
       "Index(['latitude', 'longitude', 'brightness', 'scan', 'track', 'acq_date',\n",
       "       'acq_time', 'satellite', 'instrument', 'bright_t31', 'frp',\n",
       "       'fire_type'],\n",
       "      dtype='object')"
      ]
     },
     "metadata": {},
     "execution_count": 16
    }
   ],
   "source": [
    "australia.columns"
   ]
  },
  {
   "cell_type": "code",
   "execution_count": 17,
   "metadata": {},
   "outputs": [],
   "source": [
    "X = australia[['latitude', 'longitude', 'brightness', 'scan', 'track', 'acq_time', 'bright_t31', 'frp']]\n",
    "y = australia['fire_type']"
   ]
  },
  {
   "source": [
    "# linear regression"
   ],
   "cell_type": "markdown",
   "metadata": {}
  },
  {
   "cell_type": "code",
   "execution_count": 18,
   "metadata": {},
   "outputs": [
    {
     "output_type": "execute_result",
     "data": {
      "text/plain": [
       "LinearRegression(n_jobs=-1)"
      ]
     },
     "metadata": {},
     "execution_count": 18
    }
   ],
   "source": [
    "X_train, X_test, y_train, y_test = train_test_split(X, y, test_size=0.2)\n",
    "lm = LinearRegression(n_jobs=-1)\n",
    "lm.fit(X_train, y_train)"
   ]
  },
  {
   "cell_type": "code",
   "execution_count": 19,
   "metadata": {},
   "outputs": [
    {
     "output_type": "execute_result",
     "data": {
      "text/plain": [
       "1.277570274469031"
      ]
     },
     "metadata": {},
     "execution_count": 19
    }
   ],
   "source": [
    "lm.score(X_train, y_train) *100"
   ]
  },
  {
   "cell_type": "code",
   "execution_count": 20,
   "metadata": {},
   "outputs": [
    {
     "output_type": "execute_result",
     "data": {
      "text/plain": [
       "1.2414961918117529"
      ]
     },
     "metadata": {},
     "execution_count": 20
    }
   ],
   "source": [
    "lm.score(X_test, y_test) *100"
   ]
  },
  {
   "source": [
    "# LOGISTIC CLASSIFICATION"
   ],
   "cell_type": "markdown",
   "metadata": {}
  },
  {
   "cell_type": "code",
   "execution_count": 29,
   "metadata": {},
   "outputs": [],
   "source": [
    "import numpy as np\n",
    "from sklearn import linear_model\n",
    "from sklearn import model_selection\n",
    "from sklearn.metrics import accuracy_score"
   ]
  },
  {
   "cell_type": "code",
   "execution_count": 23,
   "metadata": {},
   "outputs": [],
   "source": [
    "X = np.array(australia.drop(columns=['fire_type', 'acq_date', 'satellite', 'instrument'], axis=1))\n",
    "y = np.array(australia['fire_type'])"
   ]
  },
  {
   "cell_type": "code",
   "execution_count": 26,
   "metadata": {},
   "outputs": [
    {
     "output_type": "stream",
     "name": "stdout",
     "text": [
      "[0 0 0 ... 0 0 0]\n"
     ]
    }
   ],
   "source": [
    "model = linear_model.LogisticRegression()\n",
    "model.fit(X,y)\n",
    "predictions = model.predict(X)\n",
    "print(predictions)"
   ]
  },
  {
   "cell_type": "code",
   "execution_count": 27,
   "metadata": {},
   "outputs": [
    {
     "output_type": "execute_result",
     "data": {
      "text/plain": [
       "0.9774762329645046"
      ]
     },
     "metadata": {},
     "execution_count": 27
    }
   ],
   "source": [
    "model.score(X,y)"
   ]
  },
  {
   "cell_type": "code",
   "execution_count": 30,
   "metadata": {},
   "outputs": [
    {
     "output_type": "stream",
     "name": "stdout",
     "text": [
      "(176631, 8)\n"
     ]
    },
    {
     "output_type": "execute_result",
     "data": {
      "text/plain": [
       "(44158, 8)"
      ]
     },
     "metadata": {},
     "execution_count": 30
    }
   ],
   "source": [
    "validation_size = 0.20\n",
    "seed = 7\n",
    "X_train, X_test, Y_train, Y_test = model_selection.train_test_split(X, y, test_size=validation_size, random_state=seed)\n",
    "print(X_train.shape)\n",
    "X_test.shape"
   ]
  },
  {
   "cell_type": "code",
   "execution_count": 31,
   "metadata": {},
   "outputs": [
    {
     "output_type": "stream",
     "name": "stdout",
     "text": [
      "[0.97684556 0.97690087 0.97814641 0.97758025 0.97741041 0.97752364\n 0.97769348 0.97582517 0.97724056 0.97893903]\nLogistic Regression: 0.977411 (0.000782)\n"
     ]
    }
   ],
   "source": [
    "name='Logistic Regression'\n",
    "kfold = model_selection.KFold(n_splits=10, shuffle=True, random_state=seed) #Parte los datos en 10 trozos para usar validación cruzada / cross validation\n",
    "cv_results = model_selection.cross_val_score(model, X_train, Y_train, cv=kfold, scoring='accuracy')\n",
    "msg = \"%s: %f (%f)\" % (name, cv_results.mean(), cv_results.std())\n",
    "print(cv_results)\n",
    "print(msg)"
   ]
  },
  {
   "cell_type": "code",
   "execution_count": 32,
   "metadata": {},
   "outputs": [
    {
     "output_type": "execute_result",
     "data": {
      "text/plain": [
       "0.97773902803569"
      ]
     },
     "metadata": {},
     "execution_count": 32
    }
   ],
   "source": [
    "model.score(X_test, Y_test)"
   ]
  },
  {
   "cell_type": "code",
   "execution_count": 33,
   "metadata": {},
   "outputs": [
    {
     "output_type": "stream",
     "name": "stdout",
     "text": [
      "Acierto: 97.77 %\nError: 2.23 %\n"
     ]
    }
   ],
   "source": [
    "predictions = model.predict(X_test)\n",
    "acierto = accuracy_score(Y_test, predictions)\n",
    "error = 1 - acierto\n",
    "print(\"Acierto:\", round(acierto*100, 2), \"%\")\n",
    "print(\"Error:\", round(error*100, 2), \"%\")"
   ]
  },
  {
   "cell_type": "code",
   "execution_count": 48,
   "metadata": {},
   "outputs": [
    {
     "output_type": "execute_result",
     "data": {
      "text/plain": [
       "         latitude  longitude  brightness  scan  track  acq_time  bright_t31  \\\n",
       "0         -14.281  143.63600       323.9  1.70   1.30        25       302.3   \n",
       "1         -14.284  143.53200       343.5  1.70   1.30        25       306.3   \n",
       "2         -14.302  143.70600       320.2  1.70   1.30        25       305.0   \n",
       "3         -14.283  143.65200       320.4  1.70   1.30        25       303.3   \n",
       "4         -14.285  143.52100       349.4  1.70   1.30        25       304.7   \n",
       "...           ...        ...         ...   ...    ...       ...         ...   \n",
       "956252  -32.66628  122.15253       306.9  0.39   0.44      1630       288.6   \n",
       "956253  -32.58616  123.39582       299.0  0.51   0.41      1630       287.4   \n",
       "956254  -33.37853  115.94735       309.7  0.40   0.60      1630       291.7   \n",
       "956255  -33.21827  115.75078       300.2  0.49   0.65      1806       290.2   \n",
       "956256  -33.22012  115.75043       300.3  0.49   0.65      1806       290.0   \n",
       "\n",
       "          frp  \n",
       "0        26.8  \n",
       "1        84.3  \n",
       "2        14.1  \n",
       "3        18.4  \n",
       "4       110.7  \n",
       "...       ...  \n",
       "956252    0.8  \n",
       "956253    0.7  \n",
       "956254    1.0  \n",
       "956255    1.1  \n",
       "956256    0.6  \n",
       "\n",
       "[1139850 rows x 8 columns]"
      ],
      "text/html": "<div>\n<style scoped>\n    .dataframe tbody tr th:only-of-type {\n        vertical-align: middle;\n    }\n\n    .dataframe tbody tr th {\n        vertical-align: top;\n    }\n\n    .dataframe thead th {\n        text-align: right;\n    }\n</style>\n<table border=\"1\" class=\"dataframe\">\n  <thead>\n    <tr style=\"text-align: right;\">\n      <th></th>\n      <th>latitude</th>\n      <th>longitude</th>\n      <th>brightness</th>\n      <th>scan</th>\n      <th>track</th>\n      <th>acq_time</th>\n      <th>bright_t31</th>\n      <th>frp</th>\n    </tr>\n  </thead>\n  <tbody>\n    <tr>\n      <th>0</th>\n      <td>-14.281</td>\n      <td>143.63600</td>\n      <td>323.9</td>\n      <td>1.70</td>\n      <td>1.30</td>\n      <td>25</td>\n      <td>302.3</td>\n      <td>26.8</td>\n    </tr>\n    <tr>\n      <th>1</th>\n      <td>-14.284</td>\n      <td>143.53200</td>\n      <td>343.5</td>\n      <td>1.70</td>\n      <td>1.30</td>\n      <td>25</td>\n      <td>306.3</td>\n      <td>84.3</td>\n    </tr>\n    <tr>\n      <th>2</th>\n      <td>-14.302</td>\n      <td>143.70600</td>\n      <td>320.2</td>\n      <td>1.70</td>\n      <td>1.30</td>\n      <td>25</td>\n      <td>305.0</td>\n      <td>14.1</td>\n    </tr>\n    <tr>\n      <th>3</th>\n      <td>-14.283</td>\n      <td>143.65200</td>\n      <td>320.4</td>\n      <td>1.70</td>\n      <td>1.30</td>\n      <td>25</td>\n      <td>303.3</td>\n      <td>18.4</td>\n    </tr>\n    <tr>\n      <th>4</th>\n      <td>-14.285</td>\n      <td>143.52100</td>\n      <td>349.4</td>\n      <td>1.70</td>\n      <td>1.30</td>\n      <td>25</td>\n      <td>304.7</td>\n      <td>110.7</td>\n    </tr>\n    <tr>\n      <th>...</th>\n      <td>...</td>\n      <td>...</td>\n      <td>...</td>\n      <td>...</td>\n      <td>...</td>\n      <td>...</td>\n      <td>...</td>\n      <td>...</td>\n    </tr>\n    <tr>\n      <th>956252</th>\n      <td>-32.66628</td>\n      <td>122.15253</td>\n      <td>306.9</td>\n      <td>0.39</td>\n      <td>0.44</td>\n      <td>1630</td>\n      <td>288.6</td>\n      <td>0.8</td>\n    </tr>\n    <tr>\n      <th>956253</th>\n      <td>-32.58616</td>\n      <td>123.39582</td>\n      <td>299.0</td>\n      <td>0.51</td>\n      <td>0.41</td>\n      <td>1630</td>\n      <td>287.4</td>\n      <td>0.7</td>\n    </tr>\n    <tr>\n      <th>956254</th>\n      <td>-33.37853</td>\n      <td>115.94735</td>\n      <td>309.7</td>\n      <td>0.40</td>\n      <td>0.60</td>\n      <td>1630</td>\n      <td>291.7</td>\n      <td>1.0</td>\n    </tr>\n    <tr>\n      <th>956255</th>\n      <td>-33.21827</td>\n      <td>115.75078</td>\n      <td>300.2</td>\n      <td>0.49</td>\n      <td>0.65</td>\n      <td>1806</td>\n      <td>290.2</td>\n      <td>1.1</td>\n    </tr>\n    <tr>\n      <th>956256</th>\n      <td>-33.22012</td>\n      <td>115.75043</td>\n      <td>300.3</td>\n      <td>0.49</td>\n      <td>0.65</td>\n      <td>1806</td>\n      <td>290.0</td>\n      <td>0.6</td>\n    </tr>\n  </tbody>\n</table>\n<p>1139850 rows × 8 columns</p>\n</div>"
     },
     "metadata": {},
     "execution_count": 48
    }
   ],
   "source": [
    "fires_2 = fires.drop(columns=['index','acq_date','satellite','instrument', 'version', 'daynight'])\n",
    "fires_2"
   ]
  },
  {
   "cell_type": "code",
   "execution_count": 54,
   "metadata": {},
   "outputs": [
    {
     "output_type": "execute_result",
     "data": {
      "text/plain": [
       "array([0, 0, 0, ..., 0, 0, 0], dtype=int64)"
      ]
     },
     "metadata": {},
     "execution_count": 54
    }
   ],
   "source": [
    "a = model.predict(fires_2)\n",
    "a"
   ]
  },
  {
   "cell_type": "code",
   "execution_count": 52,
   "metadata": {},
   "outputs": [
    {
     "output_type": "stream",
     "name": "stdout",
     "text": [
      "[0 0 0 ... 0 0 0]\n"
     ]
    }
   ],
   "source": [
    "print(a)"
   ]
  },
  {
   "cell_type": "code",
   "execution_count": null,
   "metadata": {},
   "outputs": [],
   "source": []
  }
 ]
}