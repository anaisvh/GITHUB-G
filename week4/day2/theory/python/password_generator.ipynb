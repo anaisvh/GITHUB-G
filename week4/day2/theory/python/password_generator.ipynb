{
 "metadata": {
  "language_info": {
   "codemirror_mode": {
    "name": "ipython",
    "version": 3
   },
   "file_extension": ".py",
   "mimetype": "text/x-python",
   "name": "python",
   "nbconvert_exporter": "python",
   "pygments_lexer": "ipython3",
   "version": "3.9.0-final"
  },
  "orig_nbformat": 2,
  "kernelspec": {
   "name": "python3",
   "display_name": "Python 3.9.0 64-bit",
   "metadata": {
    "interpreter": {
     "hash": "ac59ebe37160ed0dfa835113d9b8498d9f09ceb179beaac4002f036b9467c963"
    }
   }
  }
 },
 "nbformat": 4,
 "nbformat_minor": 2,
 "cells": [
  {
   "source": [
    "Crea una función llamada \"generador\" con dos argumentos de entrada 'longitud' (entero) y 'dificultad' (entero). La función retornará una contraseña (string) de tamaño 'longitud' y con las siguientes características dependiendo del valor de 'dificultad':\n",
    "\n",
    "1. Si 'dificultad' tiene valor 1, entonces la contraseña solo contendrá números. \n",
    "2. Si 'dificultad' tiene valor 2, entonces la contraseña contendrá números y letras\n",
    "3. Si 'dificultad' tiene valor 3, entonces la contraseña contendrá números, letras y signos de puntuación (!,?¡:-.\"')\n",
    "4. Si 'dificultad' tiene valor 4, entonces la contraseña será como la del punto 3. pero con el doble de longitud y solo números pares. \n",
    "5. Para cualquier otro caso, la contraseña será \"numpy_y_pandas_son_lo_mejor\""
   ],
   "cell_type": "markdown",
   "metadata": {}
  },
  {
   "cell_type": "code",
   "execution_count": 87,
   "metadata": {},
   "outputs": [
    {
     "output_type": "stream",
     "name": "stdout",
     "text": [
      " x\"0A,pr'f[ \n"
     ]
    }
   ],
   "source": [
    "import random\n",
    "import string\n",
    "\n",
    "def generador(longitud, dificultad):\n",
    "    contraseña = \"\"\n",
    "    signos = [\"!\", \",\", \"?\", \"¡\", \":\", \"-\", \".\", '\"', \"'\"]\n",
    "    if dificultad < 4:\n",
    "        for i in range(longitud):\n",
    "            if dificultad == 1:\n",
    "                contraseña = contraseña + random.choice(string.digits)\n",
    "            if dificultad == 2:\n",
    "                contraseña = contraseña + random.choice(string.digits + string.ascii_letters)\n",
    "            if dificultad == 3:\n",
    "                contraseña = contraseña + random.choice(string.digits + string.ascii_letters + str(signos))\n",
    "    elif dificultad == 4:\n",
    "        for i in range(longitud*2):\n",
    "            pares = [0, 2, 4, 6, 8]\n",
    "            contraseña = contraseña + random.choice(str(pares) + string.ascii_letters + str(signos))\n",
    "    else:\n",
    "        contraseña = \"numpy_y_pandas_son_lo_mejor\"\n",
    "    print(contraseña)\n",
    "\n",
    "generador(6, 4)"
   ]
  },
  {
   "cell_type": "code",
   "execution_count": null,
   "metadata": {},
   "outputs": [],
   "source": []
  }
 ]
}