{
 "metadata": {
  "language_info": {
   "codemirror_mode": {
    "name": "ipython",
    "version": 3
   },
   "file_extension": ".py",
   "mimetype": "text/x-python",
   "name": "python",
   "nbconvert_exporter": "python",
   "pygments_lexer": "ipython3",
   "version": "3.9.0-final"
  },
  "orig_nbformat": 2,
  "kernelspec": {
   "name": "python3",
   "display_name": "Python 3.9.0 64-bit",
   "metadata": {
    "interpreter": {
     "hash": "ac59ebe37160ed0dfa835113d9b8498d9f09ceb179beaac4002f036b9467c963"
    }
   }
  }
 },
 "nbformat": 4,
 "nbformat_minor": 2,
 "cells": [
  {
   "source": [
    "### Ejercicio 1\n",
    "\n",
    "A partir de la API de Pokemon, se pide generar un DataFrame como el de la imagen con las columnas: \n",
    "\n",
    "- **\"height\",\"id\",\"order\",\"weight\",\"types\"**\n",
    "\n",
    "### Ejercicio 2\n",
    "\n",
    "¿Has visto que dentro del DataFrame la columna \"types\" hay diccionarios? Se pide agregar, por cada pokemon, las columnas necesarias al DataFrame para albergar toda la información de \"types\".\n",
    "\n",
    "![](df_pk.PNG)"
   ],
   "cell_type": "markdown",
   "metadata": {}
  },
  {
   "cell_type": "code",
   "execution_count": 1,
   "metadata": {},
   "outputs": [],
   "source": [
    "import json\n",
    "import requests\n",
    "import pandas as pd "
   ]
  },
  {
   "cell_type": "code",
   "execution_count": 2,
   "metadata": {},
   "outputs": [
    {
     "output_type": "execute_result",
     "data": {
      "text/plain": [
       "{'count': 1118,\n",
       " 'next': 'https://pokeapi.co/api/v2/pokemon?offset=5&limit=5',\n",
       " 'previous': None,\n",
       " 'results': [{'name': 'bulbasaur',\n",
       "   'url': 'https://pokeapi.co/api/v2/pokemon/1/'},\n",
       "  {'name': 'ivysaur', 'url': 'https://pokeapi.co/api/v2/pokemon/2/'},\n",
       "  {'name': 'venusaur', 'url': 'https://pokeapi.co/api/v2/pokemon/3/'},\n",
       "  {'name': 'charmander', 'url': 'https://pokeapi.co/api/v2/pokemon/4/'},\n",
       "  {'name': 'charmeleon', 'url': 'https://pokeapi.co/api/v2/pokemon/5/'}]}"
      ]
     },
     "metadata": {},
     "execution_count": 2
    }
   ],
   "source": [
    "# EJERCICIO 1\n",
    "url = \"https://pokeapi.co/api/v2/pokemon?&limit=5\"\n",
    "poke_json = requests.get(url).json()\n",
    "poke_json      "
   ]
  },
  {
   "cell_type": "code",
   "execution_count": 3,
   "metadata": {},
   "outputs": [
    {
     "output_type": "execute_result",
     "data": {
      "text/plain": [
       "[{'name': 'bulbasaur', 'url': 'https://pokeapi.co/api/v2/pokemon/1/'},\n",
       " {'name': 'ivysaur', 'url': 'https://pokeapi.co/api/v2/pokemon/2/'},\n",
       " {'name': 'venusaur', 'url': 'https://pokeapi.co/api/v2/pokemon/3/'},\n",
       " {'name': 'charmander', 'url': 'https://pokeapi.co/api/v2/pokemon/4/'},\n",
       " {'name': 'charmeleon', 'url': 'https://pokeapi.co/api/v2/pokemon/5/'}]"
      ]
     },
     "metadata": {},
     "execution_count": 3
    }
   ],
   "source": [
    "pokemon = []\n",
    "pokemon.extend(poke_json[\"results\"])\n",
    "pokemon"
   ]
  },
  {
   "cell_type": "code",
   "execution_count": 4,
   "metadata": {},
   "outputs": [
    {
     "output_type": "execute_result",
     "data": {
      "text/plain": [
       "         name                                   url\n",
       "0   bulbasaur  https://pokeapi.co/api/v2/pokemon/1/\n",
       "1     ivysaur  https://pokeapi.co/api/v2/pokemon/2/\n",
       "2    venusaur  https://pokeapi.co/api/v2/pokemon/3/\n",
       "3  charmander  https://pokeapi.co/api/v2/pokemon/4/\n",
       "4  charmeleon  https://pokeapi.co/api/v2/pokemon/5/"
      ],
      "text/html": "<div>\n<style scoped>\n    .dataframe tbody tr th:only-of-type {\n        vertical-align: middle;\n    }\n\n    .dataframe tbody tr th {\n        vertical-align: top;\n    }\n\n    .dataframe thead th {\n        text-align: right;\n    }\n</style>\n<table border=\"1\" class=\"dataframe\">\n  <thead>\n    <tr style=\"text-align: right;\">\n      <th></th>\n      <th>name</th>\n      <th>url</th>\n    </tr>\n  </thead>\n  <tbody>\n    <tr>\n      <th>0</th>\n      <td>bulbasaur</td>\n      <td>https://pokeapi.co/api/v2/pokemon/1/</td>\n    </tr>\n    <tr>\n      <th>1</th>\n      <td>ivysaur</td>\n      <td>https://pokeapi.co/api/v2/pokemon/2/</td>\n    </tr>\n    <tr>\n      <th>2</th>\n      <td>venusaur</td>\n      <td>https://pokeapi.co/api/v2/pokemon/3/</td>\n    </tr>\n    <tr>\n      <th>3</th>\n      <td>charmander</td>\n      <td>https://pokeapi.co/api/v2/pokemon/4/</td>\n    </tr>\n    <tr>\n      <th>4</th>\n      <td>charmeleon</td>\n      <td>https://pokeapi.co/api/v2/pokemon/5/</td>\n    </tr>\n  </tbody>\n</table>\n</div>"
     },
     "metadata": {},
     "execution_count": 4
    }
   ],
   "source": [
    "df = pd.DataFrame(pokemon)\n",
    "df"
   ]
  },
  {
   "cell_type": "code",
   "execution_count": 5,
   "metadata": {},
   "outputs": [
    {
     "output_type": "execute_result",
     "data": {
      "text/plain": [
       "{'bulbasaur': 'https://pokeapi.co/api/v2/pokemon/1/',\n",
       " 'ivysaur': 'https://pokeapi.co/api/v2/pokemon/2/',\n",
       " 'venusaur': 'https://pokeapi.co/api/v2/pokemon/3/',\n",
       " 'charmander': 'https://pokeapi.co/api/v2/pokemon/4/',\n",
       " 'charmeleon': 'https://pokeapi.co/api/v2/pokemon/5/'}"
      ]
     },
     "metadata": {},
     "execution_count": 5
    }
   ],
   "source": [
    "diccionario_pokemons_url = {}\n",
    "for i, e in enumerate(pokemon):\n",
    "    nombre_pokemon = pokemon[i][\"name\"]\n",
    "    url_pokemon = pokemon[i][\"url\"]\n",
    "    diccionario_pokemons_url[nombre_pokemon] = url_pokemon\n",
    "    # asi se añade elementos a diccionario --> dicc[clave] = valor\n",
    "\n",
    "diccionario_pokemons_url"
   ]
  },
  {
   "cell_type": "code",
   "execution_count": 6,
   "metadata": {},
   "outputs": [
    {
     "output_type": "execute_result",
     "data": {
      "text/plain": [
       "         name                                   url  height  id  order  \\\n",
       "0   bulbasaur  https://pokeapi.co/api/v2/pokemon/1/       7   1      1   \n",
       "1     ivysaur  https://pokeapi.co/api/v2/pokemon/2/      10   2      2   \n",
       "2    venusaur  https://pokeapi.co/api/v2/pokemon/3/      20   3      3   \n",
       "3  charmander  https://pokeapi.co/api/v2/pokemon/4/       6   4      5   \n",
       "4  charmeleon  https://pokeapi.co/api/v2/pokemon/5/      11   5      6   \n",
       "\n",
       "   weight                                              types  \n",
       "0      69  [{'slot': 1, 'type': {'name': 'grass', 'url': ...  \n",
       "1     130  [{'slot': 1, 'type': {'name': 'grass', 'url': ...  \n",
       "2    1000  [{'slot': 1, 'type': {'name': 'grass', 'url': ...  \n",
       "3      85  [{'slot': 1, 'type': {'name': 'fire', 'url': '...  \n",
       "4     190  [{'slot': 1, 'type': {'name': 'fire', 'url': '...  "
      ],
      "text/html": "<div>\n<style scoped>\n    .dataframe tbody tr th:only-of-type {\n        vertical-align: middle;\n    }\n\n    .dataframe tbody tr th {\n        vertical-align: top;\n    }\n\n    .dataframe thead th {\n        text-align: right;\n    }\n</style>\n<table border=\"1\" class=\"dataframe\">\n  <thead>\n    <tr style=\"text-align: right;\">\n      <th></th>\n      <th>name</th>\n      <th>url</th>\n      <th>height</th>\n      <th>id</th>\n      <th>order</th>\n      <th>weight</th>\n      <th>types</th>\n    </tr>\n  </thead>\n  <tbody>\n    <tr>\n      <th>0</th>\n      <td>bulbasaur</td>\n      <td>https://pokeapi.co/api/v2/pokemon/1/</td>\n      <td>7</td>\n      <td>1</td>\n      <td>1</td>\n      <td>69</td>\n      <td>[{'slot': 1, 'type': {'name': 'grass', 'url': ...</td>\n    </tr>\n    <tr>\n      <th>1</th>\n      <td>ivysaur</td>\n      <td>https://pokeapi.co/api/v2/pokemon/2/</td>\n      <td>10</td>\n      <td>2</td>\n      <td>2</td>\n      <td>130</td>\n      <td>[{'slot': 1, 'type': {'name': 'grass', 'url': ...</td>\n    </tr>\n    <tr>\n      <th>2</th>\n      <td>venusaur</td>\n      <td>https://pokeapi.co/api/v2/pokemon/3/</td>\n      <td>20</td>\n      <td>3</td>\n      <td>3</td>\n      <td>1000</td>\n      <td>[{'slot': 1, 'type': {'name': 'grass', 'url': ...</td>\n    </tr>\n    <tr>\n      <th>3</th>\n      <td>charmander</td>\n      <td>https://pokeapi.co/api/v2/pokemon/4/</td>\n      <td>6</td>\n      <td>4</td>\n      <td>5</td>\n      <td>85</td>\n      <td>[{'slot': 1, 'type': {'name': 'fire', 'url': '...</td>\n    </tr>\n    <tr>\n      <th>4</th>\n      <td>charmeleon</td>\n      <td>https://pokeapi.co/api/v2/pokemon/5/</td>\n      <td>11</td>\n      <td>5</td>\n      <td>6</td>\n      <td>190</td>\n      <td>[{'slot': 1, 'type': {'name': 'fire', 'url': '...</td>\n    </tr>\n  </tbody>\n</table>\n</div>"
     },
     "metadata": {},
     "execution_count": 6
    }
   ],
   "source": [
    "weight = []\n",
    "height = []\n",
    "id_ = []\n",
    "order_ = []\n",
    "types_ = []\n",
    "for nombre_pokemon, url in diccionario_pokemons_url.items():\n",
    "    peticion_api_url = requests.get(url).json()\n",
    "    weight.append(peticion_api_url['weight'])\n",
    "    height.append(peticion_api_url['height'])\n",
    "    id_.append(peticion_api_url['id'])\n",
    "    order_.append(peticion_api_url['order'])\n",
    "    types_.append(peticion_api_url['types'])\n",
    "\n",
    "df['height'] = height\n",
    "df['id'] = id_\n",
    "df['order'] = order_\n",
    "df['weight'] = weight\n",
    "df['types'] = types_\n",
    "df"
   ]
  },
  {
   "cell_type": "code",
   "execution_count": 8,
   "metadata": {},
   "outputs": [
    {
     "output_type": "execute_result",
     "data": {
      "text/plain": [
       "         name                                   url  height  id  order  \\\n",
       "0   bulbasaur  https://pokeapi.co/api/v2/pokemon/1/       7   1      1   \n",
       "1     ivysaur  https://pokeapi.co/api/v2/pokemon/2/      10   2      2   \n",
       "2    venusaur  https://pokeapi.co/api/v2/pokemon/3/      20   3      3   \n",
       "3  charmander  https://pokeapi.co/api/v2/pokemon/4/       6   4      5   \n",
       "4  charmeleon  https://pokeapi.co/api/v2/pokemon/5/      11   5      6   \n",
       "\n",
       "   weight type_1                          url_type_1  type_2  \\\n",
       "0      69  grass  https://pokeapi.co/api/v2/type/12/  poison   \n",
       "1     130  grass  https://pokeapi.co/api/v2/type/12/  poison   \n",
       "2    1000  grass  https://pokeapi.co/api/v2/type/12/  poison   \n",
       "3      85   fire  https://pokeapi.co/api/v2/type/10/     Nan   \n",
       "4     190   fire  https://pokeapi.co/api/v2/type/10/     Nan   \n",
       "\n",
       "                          url_type_2  \n",
       "0  https://pokeapi.co/api/v2/type/4/  \n",
       "1  https://pokeapi.co/api/v2/type/4/  \n",
       "2  https://pokeapi.co/api/v2/type/4/  \n",
       "3                                Nan  \n",
       "4                                Nan  "
      ],
      "text/html": "<div>\n<style scoped>\n    .dataframe tbody tr th:only-of-type {\n        vertical-align: middle;\n    }\n\n    .dataframe tbody tr th {\n        vertical-align: top;\n    }\n\n    .dataframe thead th {\n        text-align: right;\n    }\n</style>\n<table border=\"1\" class=\"dataframe\">\n  <thead>\n    <tr style=\"text-align: right;\">\n      <th></th>\n      <th>name</th>\n      <th>url</th>\n      <th>height</th>\n      <th>id</th>\n      <th>order</th>\n      <th>weight</th>\n      <th>type_1</th>\n      <th>url_type_1</th>\n      <th>type_2</th>\n      <th>url_type_2</th>\n    </tr>\n  </thead>\n  <tbody>\n    <tr>\n      <th>0</th>\n      <td>bulbasaur</td>\n      <td>https://pokeapi.co/api/v2/pokemon/1/</td>\n      <td>7</td>\n      <td>1</td>\n      <td>1</td>\n      <td>69</td>\n      <td>grass</td>\n      <td>https://pokeapi.co/api/v2/type/12/</td>\n      <td>poison</td>\n      <td>https://pokeapi.co/api/v2/type/4/</td>\n    </tr>\n    <tr>\n      <th>1</th>\n      <td>ivysaur</td>\n      <td>https://pokeapi.co/api/v2/pokemon/2/</td>\n      <td>10</td>\n      <td>2</td>\n      <td>2</td>\n      <td>130</td>\n      <td>grass</td>\n      <td>https://pokeapi.co/api/v2/type/12/</td>\n      <td>poison</td>\n      <td>https://pokeapi.co/api/v2/type/4/</td>\n    </tr>\n    <tr>\n      <th>2</th>\n      <td>venusaur</td>\n      <td>https://pokeapi.co/api/v2/pokemon/3/</td>\n      <td>20</td>\n      <td>3</td>\n      <td>3</td>\n      <td>1000</td>\n      <td>grass</td>\n      <td>https://pokeapi.co/api/v2/type/12/</td>\n      <td>poison</td>\n      <td>https://pokeapi.co/api/v2/type/4/</td>\n    </tr>\n    <tr>\n      <th>3</th>\n      <td>charmander</td>\n      <td>https://pokeapi.co/api/v2/pokemon/4/</td>\n      <td>6</td>\n      <td>4</td>\n      <td>5</td>\n      <td>85</td>\n      <td>fire</td>\n      <td>https://pokeapi.co/api/v2/type/10/</td>\n      <td>Nan</td>\n      <td>Nan</td>\n    </tr>\n    <tr>\n      <th>4</th>\n      <td>charmeleon</td>\n      <td>https://pokeapi.co/api/v2/pokemon/5/</td>\n      <td>11</td>\n      <td>5</td>\n      <td>6</td>\n      <td>190</td>\n      <td>fire</td>\n      <td>https://pokeapi.co/api/v2/type/10/</td>\n      <td>Nan</td>\n      <td>Nan</td>\n    </tr>\n  </tbody>\n</table>\n</div>"
     },
     "metadata": {},
     "execution_count": 8
    }
   ],
   "source": [
    "type_1 = []\n",
    "url_type_1 = []\n",
    "type_2 = []\n",
    "url_type_2 = []\n",
    "for i in df['types']:\n",
    "    type_1.append(i[0]['type']['name'])\n",
    "    url_type_1.append(i[0]['type']['url'])\n",
    "    try:\n",
    "        type_2.append(i[1]['type']['name'])\n",
    "        url_type_2.append(i[1]['type']['url'])\n",
    "    except:\n",
    "        type_2.append(\"Nan\")\n",
    "        url_type_2.append(\"Nan\")\n",
    "\n",
    "df = df.drop(['types'], axis=1) # recuerda: axis 0 row, axis 1 columns (siempre r-c)\n",
    "df['type_1'] = type_1\n",
    "df['url_type_1'] = url_type_1\n",
    "df['type_2'] = type_2\n",
    "df['url_type_2'] = url_type_2\n",
    "df"
   ]
  },
  {
   "cell_type": "code",
   "execution_count": null,
   "metadata": {},
   "outputs": [],
   "source": [
    "# Intentar hacer función para que genere listas de types y las vaya añadiendo al dataframe sin tener que suponer que son solo 2 tipos (a veces no podrás comprobarlo cn tus ojos y puede que haya más y no los estás cogiendo)"
   ]
  }
 ]
}